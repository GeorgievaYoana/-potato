{
 "cells": [
  {
   "cell_type": "markdown",
   "id": "adeda2e0",
   "metadata": {},
   "source": [
    "# Проект по SQL "
   ]
  },
  {
   "cell_type": "markdown",
   "id": "cbe3c9e9",
   "metadata": {},
   "source": [
    "**Цель исследования**: исследовать базу данных, содержащую информацию о книгах, издательствах, авторах, а также пользовательские обзоры книг для подготовки рекомендации заказчику."
   ]
  },
  {
   "cell_type": "markdown",
   "id": "c45f6c1b",
   "metadata": {},
   "source": [
    "**Описание данных**\n",
    "\n",
    "**Таблица `books`**\n",
    "\n",
    "Содержит данные о книгах:\n",
    "\n",
    "- `book_id` — идентификатор книги;\n",
    "- `author_id` — идентификатор автора;\n",
    "- `title` — название книги;\n",
    "- `num_pages` — количество страниц;\n",
    "- `publication_date` — дата публикации книги;\n",
    "- `publisher_id` — идентификатор издателя.\n",
    "\n",
    "**Таблица `authors`**\n",
    "\n",
    "Содержит данные об авторах:\n",
    "\n",
    "- `author_id` — идентификатор автора;\n",
    "- `author` — имя автора.\n",
    "\n",
    "**Таблица `publishers`**\n",
    "\n",
    "Содержит данные об издательствах:\n",
    "\n",
    "- `publisher_id` — идентификатор издательства;\n",
    "- `publisher` — название издательства;\n",
    "\n",
    "**Таблица `ratings`**\n",
    "\n",
    "Содержит данные о пользовательских оценках книг:\n",
    "\n",
    "- `rating_id` — идентификатор оценки;\n",
    "- `book_id` — идентификатор книги;\n",
    "- `username` — имя пользователя, оставившего оценку;\n",
    "- `rating` — оценка книги.\n",
    "\n",
    "**Таблица `reviews`**\n",
    "\n",
    "Содержит данные о пользовательских обзорах на книги:\n",
    "\n",
    "- `review_id` — идентификатор обзора;\n",
    "- `book_id` — идентификатор книги;\n",
    "- `username` — имя пользователя, написавшего обзор;\n",
    "- `text` — текст обзора."
   ]
  },
  {
   "cell_type": "markdown",
   "id": "1a8b967b",
   "metadata": {},
   "source": [
    "![jupyter](https://concrete-web-bad.notion.site/image/https%3A%2F%2Fs3-us-west-2.amazonaws.com%2Fsecure.notion-static.com%2F069818d1-0e5c-4d87-a461-0de584ab9c33%2FUntitled_(33).png?table=block&id=bd53c8db-b4fd-49eb-8cc9-572ebb3c9163&spaceId=9e4bd47b-c6e6-4ca3-bcee-279794b47315&width=2000&userId=&cache=v2)"
   ]
  },
  {
   "cell_type": "markdown",
   "id": "4fcdb46c",
   "metadata": {},
   "source": [
    "**Задания**\n",
    "\n",
    "- Посчитайте, сколько книг вышло после 1 января 2000 года;\n",
    "- Для каждой книги посчитайте количество обзоров и среднюю оценку;\n",
    "- Определите издательство, которое выпустило наибольшее число книг толще 50 страниц — так вы исключите из анализа брошюры;\n",
    "- Определите автора с самой высокой средней оценкой книг — учитывайте только книги с 50 и более оценками;\n",
    "- Посчитайте среднее количество обзоров от пользователей, которые поставили больше 48 оценок."
   ]
  },
  {
   "cell_type": "code",
   "execution_count": 1,
   "id": "82d14055",
   "metadata": {},
   "outputs": [],
   "source": [
    "# импортируем библиотеки\n",
    "import pandas as pd\n",
    "from sqlalchemy import text, create_engine\n",
    "\n",
    "# устанавливаем параметры\n",
    "db_config = {'user': 'praktikum_student', # имя пользователя\n",
    "'pwd': 'Sdf4$2;d-d30pp', # пароль\n",
    "'host': 'rc1b-wcoijxj3yxfsf3fs.mdb.yandexcloud.net',\n",
    "'port': 6432, # порт подключения\n",
    "'db': 'data-analyst-final-project-db'} # название базы данных\n",
    "connection_string = 'postgresql://{user}:{pwd}@{host}:{port}/{db}'.format(**db_config)\n",
    "\n",
    "# сохраняем коннектор\n",
    "engine = create_engine(connection_string, connect_args={'sslmode':'require'})\n",
    "\n",
    "# чтобы выполнить SQL-запрос, используем Pandas"
   ]
  },
  {
   "cell_type": "code",
   "execution_count": 2,
   "id": "ad050cfd",
   "metadata": {},
   "outputs": [
    {
     "name": "stdout",
     "output_type": "stream",
     "text": [
      "Таблица books\n"
     ]
    },
    {
     "data": {
      "text/html": [
       "<div>\n",
       "<style scoped>\n",
       "    .dataframe tbody tr th:only-of-type {\n",
       "        vertical-align: middle;\n",
       "    }\n",
       "\n",
       "    .dataframe tbody tr th {\n",
       "        vertical-align: top;\n",
       "    }\n",
       "\n",
       "    .dataframe thead th {\n",
       "        text-align: right;\n",
       "    }\n",
       "</style>\n",
       "<table border=\"1\" class=\"dataframe\">\n",
       "  <thead>\n",
       "    <tr style=\"text-align: right;\">\n",
       "      <th></th>\n",
       "      <th>book_id</th>\n",
       "      <th>author_id</th>\n",
       "      <th>title</th>\n",
       "      <th>num_pages</th>\n",
       "      <th>publication_date</th>\n",
       "      <th>publisher_id</th>\n",
       "    </tr>\n",
       "  </thead>\n",
       "  <tbody>\n",
       "    <tr>\n",
       "      <th>0</th>\n",
       "      <td>1</td>\n",
       "      <td>546</td>\n",
       "      <td>'Salem's Lot</td>\n",
       "      <td>594</td>\n",
       "      <td>2005-11-01</td>\n",
       "      <td>93</td>\n",
       "    </tr>\n",
       "    <tr>\n",
       "      <th>1</th>\n",
       "      <td>2</td>\n",
       "      <td>465</td>\n",
       "      <td>1 000 Places to See Before You Die</td>\n",
       "      <td>992</td>\n",
       "      <td>2003-05-22</td>\n",
       "      <td>336</td>\n",
       "    </tr>\n",
       "    <tr>\n",
       "      <th>2</th>\n",
       "      <td>3</td>\n",
       "      <td>407</td>\n",
       "      <td>13 Little Blue Envelopes (Little Blue Envelope...</td>\n",
       "      <td>322</td>\n",
       "      <td>2010-12-21</td>\n",
       "      <td>135</td>\n",
       "    </tr>\n",
       "    <tr>\n",
       "      <th>3</th>\n",
       "      <td>4</td>\n",
       "      <td>82</td>\n",
       "      <td>1491: New Revelations of the Americas Before C...</td>\n",
       "      <td>541</td>\n",
       "      <td>2006-10-10</td>\n",
       "      <td>309</td>\n",
       "    </tr>\n",
       "  </tbody>\n",
       "</table>\n",
       "</div>"
      ],
      "text/plain": [
       "   book_id  author_id                                              title  \\\n",
       "0        1        546                                       'Salem's Lot   \n",
       "1        2        465                 1 000 Places to See Before You Die   \n",
       "2        3        407  13 Little Blue Envelopes (Little Blue Envelope...   \n",
       "3        4         82  1491: New Revelations of the Americas Before C...   \n",
       "\n",
       "   num_pages publication_date  publisher_id  \n",
       "0        594       2005-11-01            93  \n",
       "1        992       2003-05-22           336  \n",
       "2        322       2010-12-21           135  \n",
       "3        541       2006-10-10           309  "
      ]
     },
     "metadata": {},
     "output_type": "display_data"
    },
    {
     "name": "stdout",
     "output_type": "stream",
     "text": [
      "Таблица authors\n"
     ]
    },
    {
     "data": {
      "text/html": [
       "<div>\n",
       "<style scoped>\n",
       "    .dataframe tbody tr th:only-of-type {\n",
       "        vertical-align: middle;\n",
       "    }\n",
       "\n",
       "    .dataframe tbody tr th {\n",
       "        vertical-align: top;\n",
       "    }\n",
       "\n",
       "    .dataframe thead th {\n",
       "        text-align: right;\n",
       "    }\n",
       "</style>\n",
       "<table border=\"1\" class=\"dataframe\">\n",
       "  <thead>\n",
       "    <tr style=\"text-align: right;\">\n",
       "      <th></th>\n",
       "      <th>author_id</th>\n",
       "      <th>author</th>\n",
       "    </tr>\n",
       "  </thead>\n",
       "  <tbody>\n",
       "    <tr>\n",
       "      <th>0</th>\n",
       "      <td>1</td>\n",
       "      <td>A.S. Byatt</td>\n",
       "    </tr>\n",
       "    <tr>\n",
       "      <th>1</th>\n",
       "      <td>2</td>\n",
       "      <td>Aesop/Laura Harris/Laura Gibbs</td>\n",
       "    </tr>\n",
       "    <tr>\n",
       "      <th>2</th>\n",
       "      <td>3</td>\n",
       "      <td>Agatha Christie</td>\n",
       "    </tr>\n",
       "    <tr>\n",
       "      <th>3</th>\n",
       "      <td>4</td>\n",
       "      <td>Alan Brennert</td>\n",
       "    </tr>\n",
       "  </tbody>\n",
       "</table>\n",
       "</div>"
      ],
      "text/plain": [
       "   author_id                          author\n",
       "0          1                      A.S. Byatt\n",
       "1          2  Aesop/Laura Harris/Laura Gibbs\n",
       "2          3                 Agatha Christie\n",
       "3          4                   Alan Brennert"
      ]
     },
     "metadata": {},
     "output_type": "display_data"
    },
    {
     "name": "stdout",
     "output_type": "stream",
     "text": [
      "Таблица publishers\n"
     ]
    },
    {
     "data": {
      "text/html": [
       "<div>\n",
       "<style scoped>\n",
       "    .dataframe tbody tr th:only-of-type {\n",
       "        vertical-align: middle;\n",
       "    }\n",
       "\n",
       "    .dataframe tbody tr th {\n",
       "        vertical-align: top;\n",
       "    }\n",
       "\n",
       "    .dataframe thead th {\n",
       "        text-align: right;\n",
       "    }\n",
       "</style>\n",
       "<table border=\"1\" class=\"dataframe\">\n",
       "  <thead>\n",
       "    <tr style=\"text-align: right;\">\n",
       "      <th></th>\n",
       "      <th>publisher_id</th>\n",
       "      <th>publisher</th>\n",
       "    </tr>\n",
       "  </thead>\n",
       "  <tbody>\n",
       "    <tr>\n",
       "      <th>0</th>\n",
       "      <td>1</td>\n",
       "      <td>Ace</td>\n",
       "    </tr>\n",
       "    <tr>\n",
       "      <th>1</th>\n",
       "      <td>2</td>\n",
       "      <td>Ace Book</td>\n",
       "    </tr>\n",
       "    <tr>\n",
       "      <th>2</th>\n",
       "      <td>3</td>\n",
       "      <td>Ace Books</td>\n",
       "    </tr>\n",
       "    <tr>\n",
       "      <th>3</th>\n",
       "      <td>4</td>\n",
       "      <td>Ace Hardcover</td>\n",
       "    </tr>\n",
       "  </tbody>\n",
       "</table>\n",
       "</div>"
      ],
      "text/plain": [
       "   publisher_id      publisher\n",
       "0             1            Ace\n",
       "1             2       Ace Book\n",
       "2             3      Ace Books\n",
       "3             4  Ace Hardcover"
      ]
     },
     "metadata": {},
     "output_type": "display_data"
    },
    {
     "name": "stdout",
     "output_type": "stream",
     "text": [
      "Таблица ratings\n"
     ]
    },
    {
     "data": {
      "text/html": [
       "<div>\n",
       "<style scoped>\n",
       "    .dataframe tbody tr th:only-of-type {\n",
       "        vertical-align: middle;\n",
       "    }\n",
       "\n",
       "    .dataframe tbody tr th {\n",
       "        vertical-align: top;\n",
       "    }\n",
       "\n",
       "    .dataframe thead th {\n",
       "        text-align: right;\n",
       "    }\n",
       "</style>\n",
       "<table border=\"1\" class=\"dataframe\">\n",
       "  <thead>\n",
       "    <tr style=\"text-align: right;\">\n",
       "      <th></th>\n",
       "      <th>rating_id</th>\n",
       "      <th>book_id</th>\n",
       "      <th>username</th>\n",
       "      <th>rating</th>\n",
       "    </tr>\n",
       "  </thead>\n",
       "  <tbody>\n",
       "    <tr>\n",
       "      <th>0</th>\n",
       "      <td>1</td>\n",
       "      <td>1</td>\n",
       "      <td>ryanfranco</td>\n",
       "      <td>4</td>\n",
       "    </tr>\n",
       "    <tr>\n",
       "      <th>1</th>\n",
       "      <td>2</td>\n",
       "      <td>1</td>\n",
       "      <td>grantpatricia</td>\n",
       "      <td>2</td>\n",
       "    </tr>\n",
       "    <tr>\n",
       "      <th>2</th>\n",
       "      <td>3</td>\n",
       "      <td>1</td>\n",
       "      <td>brandtandrea</td>\n",
       "      <td>5</td>\n",
       "    </tr>\n",
       "    <tr>\n",
       "      <th>3</th>\n",
       "      <td>4</td>\n",
       "      <td>2</td>\n",
       "      <td>lorichen</td>\n",
       "      <td>3</td>\n",
       "    </tr>\n",
       "  </tbody>\n",
       "</table>\n",
       "</div>"
      ],
      "text/plain": [
       "   rating_id  book_id       username  rating\n",
       "0          1        1     ryanfranco       4\n",
       "1          2        1  grantpatricia       2\n",
       "2          3        1   brandtandrea       5\n",
       "3          4        2       lorichen       3"
      ]
     },
     "metadata": {},
     "output_type": "display_data"
    },
    {
     "name": "stdout",
     "output_type": "stream",
     "text": [
      "Таблица reviews\n"
     ]
    },
    {
     "data": {
      "text/html": [
       "<div>\n",
       "<style scoped>\n",
       "    .dataframe tbody tr th:only-of-type {\n",
       "        vertical-align: middle;\n",
       "    }\n",
       "\n",
       "    .dataframe tbody tr th {\n",
       "        vertical-align: top;\n",
       "    }\n",
       "\n",
       "    .dataframe thead th {\n",
       "        text-align: right;\n",
       "    }\n",
       "</style>\n",
       "<table border=\"1\" class=\"dataframe\">\n",
       "  <thead>\n",
       "    <tr style=\"text-align: right;\">\n",
       "      <th></th>\n",
       "      <th>review_id</th>\n",
       "      <th>book_id</th>\n",
       "      <th>username</th>\n",
       "      <th>text</th>\n",
       "    </tr>\n",
       "  </thead>\n",
       "  <tbody>\n",
       "    <tr>\n",
       "      <th>0</th>\n",
       "      <td>1</td>\n",
       "      <td>1</td>\n",
       "      <td>brandtandrea</td>\n",
       "      <td>Mention society tell send professor analysis. ...</td>\n",
       "    </tr>\n",
       "    <tr>\n",
       "      <th>1</th>\n",
       "      <td>2</td>\n",
       "      <td>1</td>\n",
       "      <td>ryanfranco</td>\n",
       "      <td>Foot glass pretty audience hit themselves. Amo...</td>\n",
       "    </tr>\n",
       "    <tr>\n",
       "      <th>2</th>\n",
       "      <td>3</td>\n",
       "      <td>2</td>\n",
       "      <td>lorichen</td>\n",
       "      <td>Listen treat keep worry. Miss husband tax but ...</td>\n",
       "    </tr>\n",
       "    <tr>\n",
       "      <th>3</th>\n",
       "      <td>4</td>\n",
       "      <td>3</td>\n",
       "      <td>johnsonamanda</td>\n",
       "      <td>Finally month interesting blue could nature cu...</td>\n",
       "    </tr>\n",
       "  </tbody>\n",
       "</table>\n",
       "</div>"
      ],
      "text/plain": [
       "   review_id  book_id       username  \\\n",
       "0          1        1   brandtandrea   \n",
       "1          2        1     ryanfranco   \n",
       "2          3        2       lorichen   \n",
       "3          4        3  johnsonamanda   \n",
       "\n",
       "                                                text  \n",
       "0  Mention society tell send professor analysis. ...  \n",
       "1  Foot glass pretty audience hit themselves. Amo...  \n",
       "2  Listen treat keep worry. Miss husband tax but ...  \n",
       "3  Finally month interesting blue could nature cu...  "
      ]
     },
     "metadata": {},
     "output_type": "display_data"
    }
   ],
   "source": [
    "#получим первую информацию о таблицах\n",
    "tab=['books', 'authors', 'publishers', 'ratings', 'reviews']\n",
    "for table in tab:\n",
    "    print(f'Таблица {table}')\n",
    "    query = f'''SELECT * FROM {table} LIMIT 4'''\n",
    "    con=engine.connect()\n",
    "    display(pd.io.sql.read_sql(sql=text(query), con = con))"
   ]
  },
  {
   "cell_type": "code",
   "execution_count": 3,
   "id": "c638f449",
   "metadata": {},
   "outputs": [
    {
     "name": "stdout",
     "output_type": "stream",
     "text": [
      "Таблица books\n"
     ]
    },
    {
     "data": {
      "text/html": [
       "<div>\n",
       "<style scoped>\n",
       "    .dataframe tbody tr th:only-of-type {\n",
       "        vertical-align: middle;\n",
       "    }\n",
       "\n",
       "    .dataframe tbody tr th {\n",
       "        vertical-align: top;\n",
       "    }\n",
       "\n",
       "    .dataframe thead th {\n",
       "        text-align: right;\n",
       "    }\n",
       "</style>\n",
       "<table border=\"1\" class=\"dataframe\">\n",
       "  <thead>\n",
       "    <tr style=\"text-align: right;\">\n",
       "      <th></th>\n",
       "      <th>book_id</th>\n",
       "      <th>author_id</th>\n",
       "      <th>title</th>\n",
       "      <th>num_pages</th>\n",
       "      <th>publication_date</th>\n",
       "      <th>publisher_id</th>\n",
       "    </tr>\n",
       "  </thead>\n",
       "  <tbody>\n",
       "    <tr>\n",
       "      <th>0</th>\n",
       "      <td>640</td>\n",
       "      <td>262</td>\n",
       "      <td>The Beach House</td>\n",
       "      <td>356</td>\n",
       "      <td>2003-05-01</td>\n",
       "      <td>116</td>\n",
       "    </tr>\n",
       "    <tr>\n",
       "      <th>1</th>\n",
       "      <td>174</td>\n",
       "      <td>156</td>\n",
       "      <td>Cyrano de Bergerac</td>\n",
       "      <td>240</td>\n",
       "      <td>2003-08-05</td>\n",
       "      <td>267</td>\n",
       "    </tr>\n",
       "    <tr>\n",
       "      <th>2</th>\n",
       "      <td>392</td>\n",
       "      <td>357</td>\n",
       "      <td>Like Water for Chocolate</td>\n",
       "      <td>222</td>\n",
       "      <td>1993-09-16</td>\n",
       "      <td>51</td>\n",
       "    </tr>\n",
       "    <tr>\n",
       "      <th>3</th>\n",
       "      <td>330</td>\n",
       "      <td>449</td>\n",
       "      <td>How to Be a Domestic Goddess: Baking and the A...</td>\n",
       "      <td>384</td>\n",
       "      <td>2005-09-01</td>\n",
       "      <td>122</td>\n",
       "    </tr>\n",
       "    <tr>\n",
       "      <th>4</th>\n",
       "      <td>448</td>\n",
       "      <td>452</td>\n",
       "      <td>Morrigan's Cross (Circle Trilogy  #1)</td>\n",
       "      <td>321</td>\n",
       "      <td>2006-08-29</td>\n",
       "      <td>164</td>\n",
       "    </tr>\n",
       "    <tr>\n",
       "      <th>...</th>\n",
       "      <td>...</td>\n",
       "      <td>...</td>\n",
       "      <td>...</td>\n",
       "      <td>...</td>\n",
       "      <td>...</td>\n",
       "      <td>...</td>\n",
       "    </tr>\n",
       "    <tr>\n",
       "      <th>995</th>\n",
       "      <td>922</td>\n",
       "      <td>490</td>\n",
       "      <td>Thinner</td>\n",
       "      <td>320</td>\n",
       "      <td>1996-09-01</td>\n",
       "      <td>265</td>\n",
       "    </tr>\n",
       "    <tr>\n",
       "      <th>996</th>\n",
       "      <td>755</td>\n",
       "      <td>599</td>\n",
       "      <td>The Hunchback of Notre-Dame</td>\n",
       "      <td>510</td>\n",
       "      <td>2001-04-10</td>\n",
       "      <td>267</td>\n",
       "    </tr>\n",
       "    <tr>\n",
       "      <th>997</th>\n",
       "      <td>758</td>\n",
       "      <td>184</td>\n",
       "      <td>The Idiot</td>\n",
       "      <td>667</td>\n",
       "      <td>2003-04-08</td>\n",
       "      <td>183</td>\n",
       "    </tr>\n",
       "    <tr>\n",
       "      <th>998</th>\n",
       "      <td>384</td>\n",
       "      <td>390</td>\n",
       "      <td>Last Chance Saloon</td>\n",
       "      <td>528</td>\n",
       "      <td>2003-05-27</td>\n",
       "      <td>135</td>\n",
       "    </tr>\n",
       "    <tr>\n",
       "      <th>999</th>\n",
       "      <td>51</td>\n",
       "      <td>54</td>\n",
       "      <td>A Tree Grows in Brooklyn</td>\n",
       "      <td>496</td>\n",
       "      <td>2006-05-30</td>\n",
       "      <td>135</td>\n",
       "    </tr>\n",
       "  </tbody>\n",
       "</table>\n",
       "<p>1000 rows × 6 columns</p>\n",
       "</div>"
      ],
      "text/plain": [
       "     book_id  author_id                                              title  \\\n",
       "0        640        262                                    The Beach House   \n",
       "1        174        156                                 Cyrano de Bergerac   \n",
       "2        392        357                           Like Water for Chocolate   \n",
       "3        330        449  How to Be a Domestic Goddess: Baking and the A...   \n",
       "4        448        452              Morrigan's Cross (Circle Trilogy  #1)   \n",
       "..       ...        ...                                                ...   \n",
       "995      922        490                                            Thinner   \n",
       "996      755        599                        The Hunchback of Notre-Dame   \n",
       "997      758        184                                          The Idiot   \n",
       "998      384        390                                 Last Chance Saloon   \n",
       "999       51         54                           A Tree Grows in Brooklyn   \n",
       "\n",
       "     num_pages publication_date  publisher_id  \n",
       "0          356       2003-05-01           116  \n",
       "1          240       2003-08-05           267  \n",
       "2          222       1993-09-16            51  \n",
       "3          384       2005-09-01           122  \n",
       "4          321       2006-08-29           164  \n",
       "..         ...              ...           ...  \n",
       "995        320       1996-09-01           265  \n",
       "996        510       2001-04-10           267  \n",
       "997        667       2003-04-08           183  \n",
       "998        528       2003-05-27           135  \n",
       "999        496       2006-05-30           135  \n",
       "\n",
       "[1000 rows x 6 columns]"
      ]
     },
     "metadata": {},
     "output_type": "display_data"
    },
    {
     "name": "stdout",
     "output_type": "stream",
     "text": [
      "Таблица authors\n"
     ]
    },
    {
     "data": {
      "text/html": [
       "<div>\n",
       "<style scoped>\n",
       "    .dataframe tbody tr th:only-of-type {\n",
       "        vertical-align: middle;\n",
       "    }\n",
       "\n",
       "    .dataframe tbody tr th {\n",
       "        vertical-align: top;\n",
       "    }\n",
       "\n",
       "    .dataframe thead th {\n",
       "        text-align: right;\n",
       "    }\n",
       "</style>\n",
       "<table border=\"1\" class=\"dataframe\">\n",
       "  <thead>\n",
       "    <tr style=\"text-align: right;\">\n",
       "      <th></th>\n",
       "      <th>author_id</th>\n",
       "      <th>author</th>\n",
       "    </tr>\n",
       "  </thead>\n",
       "  <tbody>\n",
       "    <tr>\n",
       "      <th>0</th>\n",
       "      <td>434</td>\n",
       "      <td>Neil Gaiman/Dave McKean</td>\n",
       "    </tr>\n",
       "    <tr>\n",
       "      <th>1</th>\n",
       "      <td>235</td>\n",
       "      <td>J.D. Salinger</td>\n",
       "    </tr>\n",
       "    <tr>\n",
       "      <th>2</th>\n",
       "      <td>451</td>\n",
       "      <td>Nora Ephron</td>\n",
       "    </tr>\n",
       "    <tr>\n",
       "      <th>3</th>\n",
       "      <td>270</td>\n",
       "      <td>Janet Evanovich</td>\n",
       "    </tr>\n",
       "    <tr>\n",
       "      <th>4</th>\n",
       "      <td>238</td>\n",
       "      <td>J.M. Coetzee</td>\n",
       "    </tr>\n",
       "    <tr>\n",
       "      <th>...</th>\n",
       "      <td>...</td>\n",
       "      <td>...</td>\n",
       "    </tr>\n",
       "    <tr>\n",
       "      <th>631</th>\n",
       "      <td>159</td>\n",
       "      <td>Edward P. Jones</td>\n",
       "    </tr>\n",
       "    <tr>\n",
       "      <th>632</th>\n",
       "      <td>541</td>\n",
       "      <td>Stephen Hawking</td>\n",
       "    </tr>\n",
       "    <tr>\n",
       "      <th>633</th>\n",
       "      <td>27</td>\n",
       "      <td>Anna Quindlen</td>\n",
       "    </tr>\n",
       "    <tr>\n",
       "      <th>634</th>\n",
       "      <td>339</td>\n",
       "      <td>Kate DiCamillo/Bagram Ibatoulline</td>\n",
       "    </tr>\n",
       "    <tr>\n",
       "      <th>635</th>\n",
       "      <td>31</td>\n",
       "      <td>Anne McCaffrey</td>\n",
       "    </tr>\n",
       "  </tbody>\n",
       "</table>\n",
       "<p>636 rows × 2 columns</p>\n",
       "</div>"
      ],
      "text/plain": [
       "     author_id                             author\n",
       "0          434            Neil Gaiman/Dave McKean\n",
       "1          235                      J.D. Salinger\n",
       "2          451                        Nora Ephron\n",
       "3          270                    Janet Evanovich\n",
       "4          238                       J.M. Coetzee\n",
       "..         ...                                ...\n",
       "631        159                    Edward P. Jones\n",
       "632        541                    Stephen Hawking\n",
       "633         27                      Anna Quindlen\n",
       "634        339  Kate DiCamillo/Bagram Ibatoulline\n",
       "635         31                     Anne McCaffrey\n",
       "\n",
       "[636 rows x 2 columns]"
      ]
     },
     "metadata": {},
     "output_type": "display_data"
    },
    {
     "name": "stdout",
     "output_type": "stream",
     "text": [
      "Таблица publishers\n"
     ]
    },
    {
     "data": {
      "text/html": [
       "<div>\n",
       "<style scoped>\n",
       "    .dataframe tbody tr th:only-of-type {\n",
       "        vertical-align: middle;\n",
       "    }\n",
       "\n",
       "    .dataframe tbody tr th {\n",
       "        vertical-align: top;\n",
       "    }\n",
       "\n",
       "    .dataframe thead th {\n",
       "        text-align: right;\n",
       "    }\n",
       "</style>\n",
       "<table border=\"1\" class=\"dataframe\">\n",
       "  <thead>\n",
       "    <tr style=\"text-align: right;\">\n",
       "      <th></th>\n",
       "      <th>publisher_id</th>\n",
       "      <th>publisher</th>\n",
       "    </tr>\n",
       "  </thead>\n",
       "  <tbody>\n",
       "    <tr>\n",
       "      <th>0</th>\n",
       "      <td>258</td>\n",
       "      <td>Scribner</td>\n",
       "    </tr>\n",
       "    <tr>\n",
       "      <th>1</th>\n",
       "      <td>141</td>\n",
       "      <td>HarperPrism</td>\n",
       "    </tr>\n",
       "    <tr>\n",
       "      <th>2</th>\n",
       "      <td>254</td>\n",
       "      <td>Scholastic Books</td>\n",
       "    </tr>\n",
       "    <tr>\n",
       "      <th>3</th>\n",
       "      <td>142</td>\n",
       "      <td>HarperTempest</td>\n",
       "    </tr>\n",
       "    <tr>\n",
       "      <th>4</th>\n",
       "      <td>295</td>\n",
       "      <td>Top Shelf Productions</td>\n",
       "    </tr>\n",
       "    <tr>\n",
       "      <th>...</th>\n",
       "      <td>...</td>\n",
       "      <td>...</td>\n",
       "    </tr>\n",
       "    <tr>\n",
       "      <th>335</th>\n",
       "      <td>29</td>\n",
       "      <td>Avon Books</td>\n",
       "    </tr>\n",
       "    <tr>\n",
       "      <th>336</th>\n",
       "      <td>8</td>\n",
       "      <td>Albin Michel</td>\n",
       "    </tr>\n",
       "    <tr>\n",
       "      <th>337</th>\n",
       "      <td>91</td>\n",
       "      <td>Disney Hyperion Books</td>\n",
       "    </tr>\n",
       "    <tr>\n",
       "      <th>338</th>\n",
       "      <td>218</td>\n",
       "      <td>Penguin Classics Deluxe Editions</td>\n",
       "    </tr>\n",
       "    <tr>\n",
       "      <th>339</th>\n",
       "      <td>207</td>\n",
       "      <td>Pantheon Books</td>\n",
       "    </tr>\n",
       "  </tbody>\n",
       "</table>\n",
       "<p>340 rows × 2 columns</p>\n",
       "</div>"
      ],
      "text/plain": [
       "     publisher_id                         publisher\n",
       "0             258                          Scribner\n",
       "1             141                       HarperPrism\n",
       "2             254                  Scholastic Books\n",
       "3             142                     HarperTempest\n",
       "4             295             Top Shelf Productions\n",
       "..            ...                               ...\n",
       "335            29                        Avon Books\n",
       "336             8                      Albin Michel\n",
       "337            91             Disney Hyperion Books\n",
       "338           218  Penguin Classics Deluxe Editions\n",
       "339           207                    Pantheon Books\n",
       "\n",
       "[340 rows x 2 columns]"
      ]
     },
     "metadata": {},
     "output_type": "display_data"
    },
    {
     "name": "stdout",
     "output_type": "stream",
     "text": [
      "Таблица ratings\n"
     ]
    },
    {
     "data": {
      "text/html": [
       "<div>\n",
       "<style scoped>\n",
       "    .dataframe tbody tr th:only-of-type {\n",
       "        vertical-align: middle;\n",
       "    }\n",
       "\n",
       "    .dataframe tbody tr th {\n",
       "        vertical-align: top;\n",
       "    }\n",
       "\n",
       "    .dataframe thead th {\n",
       "        text-align: right;\n",
       "    }\n",
       "</style>\n",
       "<table border=\"1\" class=\"dataframe\">\n",
       "  <thead>\n",
       "    <tr style=\"text-align: right;\">\n",
       "      <th></th>\n",
       "      <th>rating_id</th>\n",
       "      <th>book_id</th>\n",
       "      <th>username</th>\n",
       "      <th>rating</th>\n",
       "    </tr>\n",
       "  </thead>\n",
       "  <tbody>\n",
       "    <tr>\n",
       "      <th>0</th>\n",
       "      <td>6373</td>\n",
       "      <td>978</td>\n",
       "      <td>walter49</td>\n",
       "      <td>4</td>\n",
       "    </tr>\n",
       "    <tr>\n",
       "      <th>1</th>\n",
       "      <td>123</td>\n",
       "      <td>28</td>\n",
       "      <td>znelson</td>\n",
       "      <td>4</td>\n",
       "    </tr>\n",
       "    <tr>\n",
       "      <th>2</th>\n",
       "      <td>1729</td>\n",
       "      <td>299</td>\n",
       "      <td>rmiller</td>\n",
       "      <td>5</td>\n",
       "    </tr>\n",
       "    <tr>\n",
       "      <th>3</th>\n",
       "      <td>5484</td>\n",
       "      <td>848</td>\n",
       "      <td>ewerner</td>\n",
       "      <td>3</td>\n",
       "    </tr>\n",
       "    <tr>\n",
       "      <th>4</th>\n",
       "      <td>1541</td>\n",
       "      <td>281</td>\n",
       "      <td>roberto26</td>\n",
       "      <td>4</td>\n",
       "    </tr>\n",
       "    <tr>\n",
       "      <th>...</th>\n",
       "      <td>...</td>\n",
       "      <td>...</td>\n",
       "      <td>...</td>\n",
       "      <td>...</td>\n",
       "    </tr>\n",
       "    <tr>\n",
       "      <th>6451</th>\n",
       "      <td>848</td>\n",
       "      <td>144</td>\n",
       "      <td>znelson</td>\n",
       "      <td>5</td>\n",
       "    </tr>\n",
       "    <tr>\n",
       "      <th>6452</th>\n",
       "      <td>805</td>\n",
       "      <td>133</td>\n",
       "      <td>kevinquinn</td>\n",
       "      <td>5</td>\n",
       "    </tr>\n",
       "    <tr>\n",
       "      <th>6453</th>\n",
       "      <td>5975</td>\n",
       "      <td>928</td>\n",
       "      <td>perrypatricia</td>\n",
       "      <td>2</td>\n",
       "    </tr>\n",
       "    <tr>\n",
       "      <th>6454</th>\n",
       "      <td>3554</td>\n",
       "      <td>577</td>\n",
       "      <td>briannachavez</td>\n",
       "      <td>2</td>\n",
       "    </tr>\n",
       "    <tr>\n",
       "      <th>6455</th>\n",
       "      <td>1683</td>\n",
       "      <td>299</td>\n",
       "      <td>walter49</td>\n",
       "      <td>5</td>\n",
       "    </tr>\n",
       "  </tbody>\n",
       "</table>\n",
       "<p>6456 rows × 4 columns</p>\n",
       "</div>"
      ],
      "text/plain": [
       "      rating_id  book_id       username  rating\n",
       "0          6373      978       walter49       4\n",
       "1           123       28        znelson       4\n",
       "2          1729      299        rmiller       5\n",
       "3          5484      848        ewerner       3\n",
       "4          1541      281      roberto26       4\n",
       "...         ...      ...            ...     ...\n",
       "6451        848      144        znelson       5\n",
       "6452        805      133     kevinquinn       5\n",
       "6453       5975      928  perrypatricia       2\n",
       "6454       3554      577  briannachavez       2\n",
       "6455       1683      299       walter49       5\n",
       "\n",
       "[6456 rows x 4 columns]"
      ]
     },
     "metadata": {},
     "output_type": "display_data"
    },
    {
     "name": "stdout",
     "output_type": "stream",
     "text": [
      "Таблица reviews\n"
     ]
    },
    {
     "data": {
      "text/html": [
       "<div>\n",
       "<style scoped>\n",
       "    .dataframe tbody tr th:only-of-type {\n",
       "        vertical-align: middle;\n",
       "    }\n",
       "\n",
       "    .dataframe tbody tr th {\n",
       "        vertical-align: top;\n",
       "    }\n",
       "\n",
       "    .dataframe thead th {\n",
       "        text-align: right;\n",
       "    }\n",
       "</style>\n",
       "<table border=\"1\" class=\"dataframe\">\n",
       "  <thead>\n",
       "    <tr style=\"text-align: right;\">\n",
       "      <th></th>\n",
       "      <th>review_id</th>\n",
       "      <th>book_id</th>\n",
       "      <th>username</th>\n",
       "      <th>text</th>\n",
       "    </tr>\n",
       "  </thead>\n",
       "  <tbody>\n",
       "    <tr>\n",
       "      <th>0</th>\n",
       "      <td>2046</td>\n",
       "      <td>735</td>\n",
       "      <td>danielpatrick</td>\n",
       "      <td>Relationship evidence foot quality set. Availa...</td>\n",
       "    </tr>\n",
       "    <tr>\n",
       "      <th>1</th>\n",
       "      <td>2738</td>\n",
       "      <td>979</td>\n",
       "      <td>danielpatrick</td>\n",
       "      <td>Decide record difficult better firm military r...</td>\n",
       "    </tr>\n",
       "    <tr>\n",
       "      <th>2</th>\n",
       "      <td>1220</td>\n",
       "      <td>444</td>\n",
       "      <td>nicoleburns</td>\n",
       "      <td>Pretty under while but method. In total color ...</td>\n",
       "    </tr>\n",
       "    <tr>\n",
       "      <th>3</th>\n",
       "      <td>546</td>\n",
       "      <td>201</td>\n",
       "      <td>yvasquez</td>\n",
       "      <td>Police mean ago. View above same fact cold. St...</td>\n",
       "    </tr>\n",
       "    <tr>\n",
       "      <th>4</th>\n",
       "      <td>238</td>\n",
       "      <td>81</td>\n",
       "      <td>grantpatricia</td>\n",
       "      <td>Cold foreign magazine. Trade cell want factor ...</td>\n",
       "    </tr>\n",
       "    <tr>\n",
       "      <th>...</th>\n",
       "      <td>...</td>\n",
       "      <td>...</td>\n",
       "      <td>...</td>\n",
       "      <td>...</td>\n",
       "    </tr>\n",
       "    <tr>\n",
       "      <th>2788</th>\n",
       "      <td>1322</td>\n",
       "      <td>479</td>\n",
       "      <td>kevincampbell</td>\n",
       "      <td>Nearly impact according. Someone just treatmen...</td>\n",
       "    </tr>\n",
       "    <tr>\n",
       "      <th>2789</th>\n",
       "      <td>902</td>\n",
       "      <td>334</td>\n",
       "      <td>taylorjeffrey</td>\n",
       "      <td>Pass form really. Effect beat staff deal someo...</td>\n",
       "    </tr>\n",
       "    <tr>\n",
       "      <th>2790</th>\n",
       "      <td>2444</td>\n",
       "      <td>875</td>\n",
       "      <td>emcdaniel</td>\n",
       "      <td>Ability be whose believe drop win energy. Say ...</td>\n",
       "    </tr>\n",
       "    <tr>\n",
       "      <th>2791</th>\n",
       "      <td>1706</td>\n",
       "      <td>621</td>\n",
       "      <td>susan85</td>\n",
       "      <td>Fight investment part himself town. Space true...</td>\n",
       "    </tr>\n",
       "    <tr>\n",
       "      <th>2792</th>\n",
       "      <td>2711</td>\n",
       "      <td>969</td>\n",
       "      <td>znelson</td>\n",
       "      <td>Role paper reflect professor feel. Might stage...</td>\n",
       "    </tr>\n",
       "  </tbody>\n",
       "</table>\n",
       "<p>2793 rows × 4 columns</p>\n",
       "</div>"
      ],
      "text/plain": [
       "      review_id  book_id       username  \\\n",
       "0          2046      735  danielpatrick   \n",
       "1          2738      979  danielpatrick   \n",
       "2          1220      444    nicoleburns   \n",
       "3           546      201       yvasquez   \n",
       "4           238       81  grantpatricia   \n",
       "...         ...      ...            ...   \n",
       "2788       1322      479  kevincampbell   \n",
       "2789        902      334  taylorjeffrey   \n",
       "2790       2444      875      emcdaniel   \n",
       "2791       1706      621        susan85   \n",
       "2792       2711      969        znelson   \n",
       "\n",
       "                                                   text  \n",
       "0     Relationship evidence foot quality set. Availa...  \n",
       "1     Decide record difficult better firm military r...  \n",
       "2     Pretty under while but method. In total color ...  \n",
       "3     Police mean ago. View above same fact cold. St...  \n",
       "4     Cold foreign magazine. Trade cell want factor ...  \n",
       "...                                                 ...  \n",
       "2788  Nearly impact according. Someone just treatmen...  \n",
       "2789  Pass form really. Effect beat staff deal someo...  \n",
       "2790  Ability be whose believe drop win energy. Say ...  \n",
       "2791  Fight investment part himself town. Space true...  \n",
       "2792  Role paper reflect professor feel. Might stage...  \n",
       "\n",
       "[2793 rows x 4 columns]"
      ]
     },
     "metadata": {},
     "output_type": "display_data"
    }
   ],
   "source": [
    "#получим первую информацию о таблицах\n",
    "tab=['books', 'authors', 'publishers', 'ratings', 'reviews']\n",
    "for table in tab:\n",
    "    print(f'Таблица {table}')\n",
    "    query = f'''SELECT DISTINCT * FROM {table}'''\n",
    "    con=engine.connect()\n",
    "    display(pd.io.sql.read_sql(sql=text(query), con = con))"
   ]
  },
  {
   "cell_type": "markdown",
   "id": "4e087179",
   "metadata": {},
   "source": [
    "**Вывод**\n",
    "\n",
    "Перед нами 4 таблицы:\n",
    "- books 1000 записей × 6 столбцов, дубликатов нет\n",
    "- authors 636 записей × 2 столбца, дубликатов нет\n",
    "- publishers 340 записи × 2 столбца, дубликатов нет\n",
    "- ratings 6456 записи × 4 столбца, дубликатов нет\n",
    "- reviews 2793 записи × 4 столбца, дубликатов нет"
   ]
  },
  {
   "cell_type": "markdown",
   "id": "c2f84337",
   "metadata": {},
   "source": [
    "## Посчитайте, сколько книг вышло после 1 января 2000 года"
   ]
  },
  {
   "cell_type": "code",
   "execution_count": 4,
   "id": "5533df86",
   "metadata": {},
   "outputs": [
    {
     "name": "stdout",
     "output_type": "stream",
     "text": [
      "Таблица books\n"
     ]
    },
    {
     "data": {
      "text/html": [
       "<div>\n",
       "<style scoped>\n",
       "    .dataframe tbody tr th:only-of-type {\n",
       "        vertical-align: middle;\n",
       "    }\n",
       "\n",
       "    .dataframe tbody tr th {\n",
       "        vertical-align: top;\n",
       "    }\n",
       "\n",
       "    .dataframe thead th {\n",
       "        text-align: right;\n",
       "    }\n",
       "</style>\n",
       "<table border=\"1\" class=\"dataframe\">\n",
       "  <thead>\n",
       "    <tr style=\"text-align: right;\">\n",
       "      <th></th>\n",
       "      <th>count</th>\n",
       "    </tr>\n",
       "  </thead>\n",
       "  <tbody>\n",
       "    <tr>\n",
       "      <th>0</th>\n",
       "      <td>819</td>\n",
       "    </tr>\n",
       "  </tbody>\n",
       "</table>\n",
       "</div>"
      ],
      "text/plain": [
       "   count\n",
       "0    819"
      ]
     },
     "execution_count": 4,
     "metadata": {},
     "output_type": "execute_result"
    }
   ],
   "source": [
    "print(f'Таблица books')\n",
    "query = '''\n",
    "        SELECT COUNT(book_id)\n",
    "        FROM books\n",
    "        WHERE publication_date > '2000-01-01'\n",
    "        '''\n",
    "con=engine.connect()\n",
    "pd.io.sql.read_sql(sql=text(query), con = con)"
   ]
  },
  {
   "cell_type": "markdown",
   "id": "949f765c",
   "metadata": {},
   "source": [
    "**После 1 января 2000 года оппубликованно 819 книг**"
   ]
  },
  {
   "cell_type": "code",
   "execution_count": 5,
   "id": "7510942e",
   "metadata": {},
   "outputs": [
    {
     "name": "stdout",
     "output_type": "stream",
     "text": [
      "Таблица кол-ва выпущенных книг в разные года\n"
     ]
    },
    {
     "data": {
      "text/html": [
       "<div>\n",
       "<style scoped>\n",
       "    .dataframe tbody tr th:only-of-type {\n",
       "        vertical-align: middle;\n",
       "    }\n",
       "\n",
       "    .dataframe tbody tr th {\n",
       "        vertical-align: top;\n",
       "    }\n",
       "\n",
       "    .dataframe thead th {\n",
       "        text-align: right;\n",
       "    }\n",
       "</style>\n",
       "<table border=\"1\" class=\"dataframe\">\n",
       "  <thead>\n",
       "    <tr style=\"text-align: right;\">\n",
       "      <th></th>\n",
       "      <th>date_part</th>\n",
       "      <th>book_cnt</th>\n",
       "    </tr>\n",
       "  </thead>\n",
       "  <tbody>\n",
       "    <tr>\n",
       "      <th>0</th>\n",
       "      <td>2006.0</td>\n",
       "      <td>184</td>\n",
       "    </tr>\n",
       "    <tr>\n",
       "      <th>1</th>\n",
       "      <td>2005.0</td>\n",
       "      <td>139</td>\n",
       "    </tr>\n",
       "    <tr>\n",
       "      <th>2</th>\n",
       "      <td>2004.0</td>\n",
       "      <td>124</td>\n",
       "    </tr>\n",
       "    <tr>\n",
       "      <th>3</th>\n",
       "      <td>2003.0</td>\n",
       "      <td>105</td>\n",
       "    </tr>\n",
       "    <tr>\n",
       "      <th>4</th>\n",
       "      <td>2002.0</td>\n",
       "      <td>94</td>\n",
       "    </tr>\n",
       "    <tr>\n",
       "      <th>5</th>\n",
       "      <td>2001.0</td>\n",
       "      <td>60</td>\n",
       "    </tr>\n",
       "    <tr>\n",
       "      <th>6</th>\n",
       "      <td>2007.0</td>\n",
       "      <td>50</td>\n",
       "    </tr>\n",
       "    <tr>\n",
       "      <th>7</th>\n",
       "      <td>1999.0</td>\n",
       "      <td>41</td>\n",
       "    </tr>\n",
       "    <tr>\n",
       "      <th>8</th>\n",
       "      <td>2000.0</td>\n",
       "      <td>38</td>\n",
       "    </tr>\n",
       "    <tr>\n",
       "      <th>9</th>\n",
       "      <td>1998.0</td>\n",
       "      <td>30</td>\n",
       "    </tr>\n",
       "    <tr>\n",
       "      <th>10</th>\n",
       "      <td>1994.0</td>\n",
       "      <td>14</td>\n",
       "    </tr>\n",
       "    <tr>\n",
       "      <th>11</th>\n",
       "      <td>1997.0</td>\n",
       "      <td>14</td>\n",
       "    </tr>\n",
       "    <tr>\n",
       "      <th>12</th>\n",
       "      <td>1996.0</td>\n",
       "      <td>13</td>\n",
       "    </tr>\n",
       "    <tr>\n",
       "      <th>13</th>\n",
       "      <td>1995.0</td>\n",
       "      <td>11</td>\n",
       "    </tr>\n",
       "    <tr>\n",
       "      <th>14</th>\n",
       "      <td>1993.0</td>\n",
       "      <td>10</td>\n",
       "    </tr>\n",
       "    <tr>\n",
       "      <th>15</th>\n",
       "      <td>1991.0</td>\n",
       "      <td>9</td>\n",
       "    </tr>\n",
       "    <tr>\n",
       "      <th>16</th>\n",
       "      <td>2010.0</td>\n",
       "      <td>7</td>\n",
       "    </tr>\n",
       "    <tr>\n",
       "      <th>17</th>\n",
       "      <td>1987.0</td>\n",
       "      <td>7</td>\n",
       "    </tr>\n",
       "    <tr>\n",
       "      <th>18</th>\n",
       "      <td>2009.0</td>\n",
       "      <td>6</td>\n",
       "    </tr>\n",
       "    <tr>\n",
       "      <th>19</th>\n",
       "      <td>1988.0</td>\n",
       "      <td>5</td>\n",
       "    </tr>\n",
       "    <tr>\n",
       "      <th>20</th>\n",
       "      <td>1990.0</td>\n",
       "      <td>5</td>\n",
       "    </tr>\n",
       "    <tr>\n",
       "      <th>21</th>\n",
       "      <td>1989.0</td>\n",
       "      <td>5</td>\n",
       "    </tr>\n",
       "    <tr>\n",
       "      <th>22</th>\n",
       "      <td>1982.0</td>\n",
       "      <td>5</td>\n",
       "    </tr>\n",
       "    <tr>\n",
       "      <th>23</th>\n",
       "      <td>2008.0</td>\n",
       "      <td>4</td>\n",
       "    </tr>\n",
       "    <tr>\n",
       "      <th>24</th>\n",
       "      <td>2012.0</td>\n",
       "      <td>3</td>\n",
       "    </tr>\n",
       "    <tr>\n",
       "      <th>25</th>\n",
       "      <td>1980.0</td>\n",
       "      <td>2</td>\n",
       "    </tr>\n",
       "    <tr>\n",
       "      <th>26</th>\n",
       "      <td>1992.0</td>\n",
       "      <td>2</td>\n",
       "    </tr>\n",
       "    <tr>\n",
       "      <th>27</th>\n",
       "      <td>2019.0</td>\n",
       "      <td>2</td>\n",
       "    </tr>\n",
       "    <tr>\n",
       "      <th>28</th>\n",
       "      <td>1986.0</td>\n",
       "      <td>2</td>\n",
       "    </tr>\n",
       "    <tr>\n",
       "      <th>29</th>\n",
       "      <td>2014.0</td>\n",
       "      <td>2</td>\n",
       "    </tr>\n",
       "    <tr>\n",
       "      <th>30</th>\n",
       "      <td>2020.0</td>\n",
       "      <td>1</td>\n",
       "    </tr>\n",
       "    <tr>\n",
       "      <th>31</th>\n",
       "      <td>1983.0</td>\n",
       "      <td>1</td>\n",
       "    </tr>\n",
       "    <tr>\n",
       "      <th>32</th>\n",
       "      <td>2011.0</td>\n",
       "      <td>1</td>\n",
       "    </tr>\n",
       "    <tr>\n",
       "      <th>33</th>\n",
       "      <td>1977.0</td>\n",
       "      <td>1</td>\n",
       "    </tr>\n",
       "    <tr>\n",
       "      <th>34</th>\n",
       "      <td>1984.0</td>\n",
       "      <td>1</td>\n",
       "    </tr>\n",
       "    <tr>\n",
       "      <th>35</th>\n",
       "      <td>2013.0</td>\n",
       "      <td>1</td>\n",
       "    </tr>\n",
       "    <tr>\n",
       "      <th>36</th>\n",
       "      <td>1952.0</td>\n",
       "      <td>1</td>\n",
       "    </tr>\n",
       "  </tbody>\n",
       "</table>\n",
       "</div>"
      ],
      "text/plain": [
       "    date_part  book_cnt\n",
       "0      2006.0       184\n",
       "1      2005.0       139\n",
       "2      2004.0       124\n",
       "3      2003.0       105\n",
       "4      2002.0        94\n",
       "5      2001.0        60\n",
       "6      2007.0        50\n",
       "7      1999.0        41\n",
       "8      2000.0        38\n",
       "9      1998.0        30\n",
       "10     1994.0        14\n",
       "11     1997.0        14\n",
       "12     1996.0        13\n",
       "13     1995.0        11\n",
       "14     1993.0        10\n",
       "15     1991.0         9\n",
       "16     2010.0         7\n",
       "17     1987.0         7\n",
       "18     2009.0         6\n",
       "19     1988.0         5\n",
       "20     1990.0         5\n",
       "21     1989.0         5\n",
       "22     1982.0         5\n",
       "23     2008.0         4\n",
       "24     2012.0         3\n",
       "25     1980.0         2\n",
       "26     1992.0         2\n",
       "27     2019.0         2\n",
       "28     1986.0         2\n",
       "29     2014.0         2\n",
       "30     2020.0         1\n",
       "31     1983.0         1\n",
       "32     2011.0         1\n",
       "33     1977.0         1\n",
       "34     1984.0         1\n",
       "35     2013.0         1\n",
       "36     1952.0         1"
      ]
     },
     "execution_count": 5,
     "metadata": {},
     "output_type": "execute_result"
    }
   ],
   "source": [
    "print(f'Таблица кол-ва выпущенных книг в разные года')\n",
    "query = '''\n",
    "        SELECT EXTRACT(YEAR FROM CAST(publication_date AS timestamp)),\n",
    "               COUNT(book_id) AS book_cnt\n",
    "        FROM books\n",
    "        GROUP BY EXTRACT(YEAR FROM CAST(publication_date AS timestamp))\n",
    "        ORDER BY book_cnt DESC\n",
    "        '''\n",
    "con=engine.connect()\n",
    "pd.io.sql.read_sql(sql=text(query), con = con)"
   ]
  },
  {
   "cell_type": "markdown",
   "id": "f4908e9d",
   "metadata": {},
   "source": [
    "**Больше всего книг было выпущенно в 2006 году - 184, а всего по 1 книге вышло в разные года:1952, 1977, 1983, 1984, 2011, 2013,2020**"
   ]
  },
  {
   "cell_type": "markdown",
   "id": "d6461584",
   "metadata": {},
   "source": [
    "## Для каждой книги посчитайте количество обзоров и среднюю оценку"
   ]
  },
  {
   "cell_type": "code",
   "execution_count": 6,
   "id": "1d7dac22",
   "metadata": {},
   "outputs": [
    {
     "name": "stdout",
     "output_type": "stream",
     "text": [
      "Таблица книг с кол-вом обзоров и средней оценкой\n"
     ]
    },
    {
     "data": {
      "text/html": [
       "<div>\n",
       "<style scoped>\n",
       "    .dataframe tbody tr th:only-of-type {\n",
       "        vertical-align: middle;\n",
       "    }\n",
       "\n",
       "    .dataframe tbody tr th {\n",
       "        vertical-align: top;\n",
       "    }\n",
       "\n",
       "    .dataframe thead th {\n",
       "        text-align: right;\n",
       "    }\n",
       "</style>\n",
       "<table border=\"1\" class=\"dataframe\">\n",
       "  <thead>\n",
       "    <tr style=\"text-align: right;\">\n",
       "      <th></th>\n",
       "      <th>title</th>\n",
       "      <th>rev_cnt</th>\n",
       "      <th>avg_rat</th>\n",
       "    </tr>\n",
       "  </thead>\n",
       "  <tbody>\n",
       "    <tr>\n",
       "      <th>0</th>\n",
       "      <td>Twilight (Twilight  #1)</td>\n",
       "      <td>7</td>\n",
       "      <td>3.66</td>\n",
       "    </tr>\n",
       "    <tr>\n",
       "      <th>1</th>\n",
       "      <td>Water for Elephants</td>\n",
       "      <td>6</td>\n",
       "      <td>3.98</td>\n",
       "    </tr>\n",
       "    <tr>\n",
       "      <th>2</th>\n",
       "      <td>The Glass Castle</td>\n",
       "      <td>6</td>\n",
       "      <td>4.21</td>\n",
       "    </tr>\n",
       "    <tr>\n",
       "      <th>3</th>\n",
       "      <td>Harry Potter and the Prisoner of Azkaban (Harr...</td>\n",
       "      <td>6</td>\n",
       "      <td>4.41</td>\n",
       "    </tr>\n",
       "    <tr>\n",
       "      <th>4</th>\n",
       "      <td>The Curious Incident of the Dog in the Night-Time</td>\n",
       "      <td>6</td>\n",
       "      <td>4.08</td>\n",
       "    </tr>\n",
       "    <tr>\n",
       "      <th>...</th>\n",
       "      <td>...</td>\n",
       "      <td>...</td>\n",
       "      <td>...</td>\n",
       "    </tr>\n",
       "    <tr>\n",
       "      <th>995</th>\n",
       "      <td>Anne Rice's The Vampire Lestat: A Graphic Novel</td>\n",
       "      <td>0</td>\n",
       "      <td>3.67</td>\n",
       "    </tr>\n",
       "    <tr>\n",
       "      <th>996</th>\n",
       "      <td>The Natural Way to Draw</td>\n",
       "      <td>0</td>\n",
       "      <td>3.00</td>\n",
       "    </tr>\n",
       "    <tr>\n",
       "      <th>997</th>\n",
       "      <td>The Cat in the Hat and Other Dr. Seuss Favorites</td>\n",
       "      <td>0</td>\n",
       "      <td>5.00</td>\n",
       "    </tr>\n",
       "    <tr>\n",
       "      <th>998</th>\n",
       "      <td>Essential Tales and Poems</td>\n",
       "      <td>0</td>\n",
       "      <td>4.00</td>\n",
       "    </tr>\n",
       "    <tr>\n",
       "      <th>999</th>\n",
       "      <td>Disney's Beauty and the Beast (A Little Golden...</td>\n",
       "      <td>0</td>\n",
       "      <td>4.00</td>\n",
       "    </tr>\n",
       "  </tbody>\n",
       "</table>\n",
       "<p>1000 rows × 3 columns</p>\n",
       "</div>"
      ],
      "text/plain": [
       "                                                 title  rev_cnt  avg_rat\n",
       "0                              Twilight (Twilight  #1)        7     3.66\n",
       "1                                  Water for Elephants        6     3.98\n",
       "2                                     The Glass Castle        6     4.21\n",
       "3    Harry Potter and the Prisoner of Azkaban (Harr...        6     4.41\n",
       "4    The Curious Incident of the Dog in the Night-Time        6     4.08\n",
       "..                                                 ...      ...      ...\n",
       "995    Anne Rice's The Vampire Lestat: A Graphic Novel        0     3.67\n",
       "996                            The Natural Way to Draw        0     3.00\n",
       "997   The Cat in the Hat and Other Dr. Seuss Favorites        0     5.00\n",
       "998                          Essential Tales and Poems        0     4.00\n",
       "999  Disney's Beauty and the Beast (A Little Golden...        0     4.00\n",
       "\n",
       "[1000 rows x 3 columns]"
      ]
     },
     "execution_count": 6,
     "metadata": {},
     "output_type": "execute_result"
    }
   ],
   "source": [
    "print(f'Таблица книг с кол-вом обзоров и средней оценкой')\n",
    "query = '''\n",
    "        SELECT title,\n",
    "               COUNT(DISTINCT(review_id)) AS rev_cnt,\n",
    "               ROUND(AVG(rating), 2) AS avg_rat\n",
    "        FROM books AS b\n",
    "        LEFT JOIN reviews AS rev ON b.book_id = rev.book_id\n",
    "        LEFT JOIN ratings AS rat ON b.book_id = rat.book_id\n",
    "        GROUP BY b.book_id\n",
    "        ORDER BY rev_cnt DESC\n",
    "        '''\n",
    "con=engine.connect()\n",
    "pd.io.sql.read_sql(sql=text(query), con = con)"
   ]
  },
  {
   "cell_type": "markdown",
   "id": "b86ea702",
   "metadata": {},
   "source": [
    "**Получилось 1000 книг с рейтингом от 0 до 7, средний балл 3,66. При этом стоит отметить, что кол-во обзоров никак не влияет на рейтинг книг.**"
   ]
  },
  {
   "cell_type": "markdown",
   "id": "c1355dfc",
   "metadata": {},
   "source": [
    "## Определите издательство, которое выпустило наибольшее число книг толще 50 страниц — так вы исключите из анализа брошюры"
   ]
  },
  {
   "cell_type": "code",
   "execution_count": 7,
   "id": "2722a162",
   "metadata": {},
   "outputs": [
    {
     "name": "stdout",
     "output_type": "stream",
     "text": [
      "Издательство, которое выпустило наибольшее число книг толще 50 страниц\n"
     ]
    },
    {
     "data": {
      "text/html": [
       "<div>\n",
       "<style scoped>\n",
       "    .dataframe tbody tr th:only-of-type {\n",
       "        vertical-align: middle;\n",
       "    }\n",
       "\n",
       "    .dataframe tbody tr th {\n",
       "        vertical-align: top;\n",
       "    }\n",
       "\n",
       "    .dataframe thead th {\n",
       "        text-align: right;\n",
       "    }\n",
       "</style>\n",
       "<table border=\"1\" class=\"dataframe\">\n",
       "  <thead>\n",
       "    <tr style=\"text-align: right;\">\n",
       "      <th></th>\n",
       "      <th>publisher</th>\n",
       "      <th>books_cnt</th>\n",
       "    </tr>\n",
       "  </thead>\n",
       "  <tbody>\n",
       "    <tr>\n",
       "      <th>0</th>\n",
       "      <td>Penguin Books</td>\n",
       "      <td>42</td>\n",
       "    </tr>\n",
       "  </tbody>\n",
       "</table>\n",
       "</div>"
      ],
      "text/plain": [
       "       publisher  books_cnt\n",
       "0  Penguin Books         42"
      ]
     },
     "execution_count": 7,
     "metadata": {},
     "output_type": "execute_result"
    }
   ],
   "source": [
    "print(f'Издательство, которое выпустило наибольшее число книг толще 50 страниц')\n",
    "query = '''\n",
    "        SELECT publisher,\n",
    "               COUNT(b.book_id) AS books_cnt\n",
    "        FROM publishers AS p\n",
    "        LEFT JOIN books AS b ON p.publisher_id=b.publisher_id\n",
    "        WHERE b.num_pages > 50\n",
    "        GROUP BY p.publisher\n",
    "        ORDER BY books_cnt DESC\n",
    "        LIMIT 1\n",
    "        '''\n",
    "con=engine.connect()\n",
    "pd.io.sql.read_sql(sql=text(query), con = con)"
   ]
  },
  {
   "cell_type": "markdown",
   "id": "9a779a46",
   "metadata": {},
   "source": [
    "**Издательство Penguin Books выпустило 42 книги обьемом больше 50 страниц. Это британское издательство, основанное в 1935 году в Лондоне. На сегодняшний день Penguin входит в одноименную издательскую группу,  которая в 2011 году стала крупнейшей в мире.**"
   ]
  },
  {
   "cell_type": "code",
   "execution_count": 8,
   "id": "c7c5fde8",
   "metadata": {},
   "outputs": [
    {
     "name": "stdout",
     "output_type": "stream",
     "text": [
      "Авторы и их книги издательства Penguin Books\n"
     ]
    },
    {
     "data": {
      "text/html": [
       "<div>\n",
       "<style scoped>\n",
       "    .dataframe tbody tr th:only-of-type {\n",
       "        vertical-align: middle;\n",
       "    }\n",
       "\n",
       "    .dataframe tbody tr th {\n",
       "        vertical-align: top;\n",
       "    }\n",
       "\n",
       "    .dataframe thead th {\n",
       "        text-align: right;\n",
       "    }\n",
       "</style>\n",
       "<table border=\"1\" class=\"dataframe\">\n",
       "  <thead>\n",
       "    <tr style=\"text-align: right;\">\n",
       "      <th></th>\n",
       "      <th>author</th>\n",
       "      <th>title</th>\n",
       "      <th>num_pages</th>\n",
       "    </tr>\n",
       "  </thead>\n",
       "  <tbody>\n",
       "    <tr>\n",
       "      <th>0</th>\n",
       "      <td>Amy Tan</td>\n",
       "      <td>The Joy Luck Club</td>\n",
       "      <td>288</td>\n",
       "    </tr>\n",
       "    <tr>\n",
       "      <th>1</th>\n",
       "      <td>Amy Tan</td>\n",
       "      <td>The Kitchen God's Wife</td>\n",
       "      <td>416</td>\n",
       "    </tr>\n",
       "    <tr>\n",
       "      <th>2</th>\n",
       "      <td>Anonymous/N.K. Sandars</td>\n",
       "      <td>The Epic of Gilgamesh</td>\n",
       "      <td>120</td>\n",
       "    </tr>\n",
       "    <tr>\n",
       "      <th>3</th>\n",
       "      <td>Art Spiegelman</td>\n",
       "      <td>The Complete Maus</td>\n",
       "      <td>296</td>\n",
       "    </tr>\n",
       "    <tr>\n",
       "      <th>4</th>\n",
       "      <td>Arthur  Miller/Christopher Bigsby</td>\n",
       "      <td>The Crucible</td>\n",
       "      <td>143</td>\n",
       "    </tr>\n",
       "    <tr>\n",
       "      <th>5</th>\n",
       "      <td>Charles Dickens/Nicola Bradbury/Hablot Knight ...</td>\n",
       "      <td>Bleak House</td>\n",
       "      <td>1017</td>\n",
       "    </tr>\n",
       "    <tr>\n",
       "      <th>6</th>\n",
       "      <td>David    Allen</td>\n",
       "      <td>Getting Things Done: The Art of Stress-Free Pr...</td>\n",
       "      <td>267</td>\n",
       "    </tr>\n",
       "    <tr>\n",
       "      <th>7</th>\n",
       "      <td>Don DeLillo</td>\n",
       "      <td>White Noise</td>\n",
       "      <td>320</td>\n",
       "    </tr>\n",
       "    <tr>\n",
       "      <th>8</th>\n",
       "      <td>E.M. Forster/Oliver Stallybrass/Pankaj Mishra</td>\n",
       "      <td>A Passage to India</td>\n",
       "      <td>376</td>\n",
       "    </tr>\n",
       "    <tr>\n",
       "      <th>9</th>\n",
       "      <td>Edgar Rice Burroughs/John Seelye</td>\n",
       "      <td>A Princess of Mars (Barsoom  #1)</td>\n",
       "      <td>186</td>\n",
       "    </tr>\n",
       "    <tr>\n",
       "      <th>10</th>\n",
       "      <td>Frances Hodgson Burnett/Nancy Bond</td>\n",
       "      <td>A Little Princess</td>\n",
       "      <td>242</td>\n",
       "    </tr>\n",
       "    <tr>\n",
       "      <th>11</th>\n",
       "      <td>Geraldine Brooks</td>\n",
       "      <td>Year of Wonders</td>\n",
       "      <td>358</td>\n",
       "    </tr>\n",
       "    <tr>\n",
       "      <th>12</th>\n",
       "      <td>Gwyn Hyman Rubio</td>\n",
       "      <td>Icy Sparks</td>\n",
       "      <td>320</td>\n",
       "    </tr>\n",
       "    <tr>\n",
       "      <th>13</th>\n",
       "      <td>Herodotus/Aubrey de Sélincourt/John M. Marincola</td>\n",
       "      <td>The Histories</td>\n",
       "      <td>716</td>\n",
       "    </tr>\n",
       "    <tr>\n",
       "      <th>14</th>\n",
       "      <td>J.M. Coetzee</td>\n",
       "      <td>Disgrace</td>\n",
       "      <td>220</td>\n",
       "    </tr>\n",
       "    <tr>\n",
       "      <th>15</th>\n",
       "      <td>Jacquelyn Mitchard</td>\n",
       "      <td>The Deep End of the Ocean (Cappadora Family  #1)</td>\n",
       "      <td>464</td>\n",
       "    </tr>\n",
       "    <tr>\n",
       "      <th>16</th>\n",
       "      <td>Jane Austen/Fiona Stafford</td>\n",
       "      <td>Emma</td>\n",
       "      <td>474</td>\n",
       "    </tr>\n",
       "    <tr>\n",
       "      <th>17</th>\n",
       "      <td>Jared Diamond</td>\n",
       "      <td>Collapse: How Societies Choose to Fail or Succeed</td>\n",
       "      <td>608</td>\n",
       "    </tr>\n",
       "    <tr>\n",
       "      <th>18</th>\n",
       "      <td>Jasper Fforde</td>\n",
       "      <td>Lost in a Good Book (Thursday Next  #2)</td>\n",
       "      <td>399</td>\n",
       "    </tr>\n",
       "    <tr>\n",
       "      <th>19</th>\n",
       "      <td>Jasper Fforde</td>\n",
       "      <td>The Eyre Affair (Thursday Next  #1)</td>\n",
       "      <td>374</td>\n",
       "    </tr>\n",
       "    <tr>\n",
       "      <th>20</th>\n",
       "      <td>Jasper Fforde</td>\n",
       "      <td>The Well of Lost Plots (Thursday Next #3)</td>\n",
       "      <td>375</td>\n",
       "    </tr>\n",
       "    <tr>\n",
       "      <th>21</th>\n",
       "      <td>Jerome K. Jerome</td>\n",
       "      <td>Three Men in a Boat (Three Men  #1)</td>\n",
       "      <td>185</td>\n",
       "    </tr>\n",
       "    <tr>\n",
       "      <th>22</th>\n",
       "      <td>Jodi Picoult</td>\n",
       "      <td>Harvesting the Heart</td>\n",
       "      <td>453</td>\n",
       "    </tr>\n",
       "    <tr>\n",
       "      <th>23</th>\n",
       "      <td>John Steinbeck</td>\n",
       "      <td>Cannery Row</td>\n",
       "      <td>181</td>\n",
       "    </tr>\n",
       "    <tr>\n",
       "      <th>24</th>\n",
       "      <td>John Steinbeck</td>\n",
       "      <td>Of Mice and Men</td>\n",
       "      <td>103</td>\n",
       "    </tr>\n",
       "    <tr>\n",
       "      <th>25</th>\n",
       "      <td>John Steinbeck</td>\n",
       "      <td>The Pearl</td>\n",
       "      <td>96</td>\n",
       "    </tr>\n",
       "    <tr>\n",
       "      <th>26</th>\n",
       "      <td>Kenneth Grahame/Gillian Avery</td>\n",
       "      <td>The Wind in the Willows</td>\n",
       "      <td>197</td>\n",
       "    </tr>\n",
       "    <tr>\n",
       "      <th>27</th>\n",
       "      <td>Kim Edwards</td>\n",
       "      <td>The Memory Keeper's Daughter</td>\n",
       "      <td>401</td>\n",
       "    </tr>\n",
       "    <tr>\n",
       "      <th>28</th>\n",
       "      <td>Marcus Aurelius/Martin Hammond/Albert Wittstoc...</td>\n",
       "      <td>Meditations</td>\n",
       "      <td>303</td>\n",
       "    </tr>\n",
       "    <tr>\n",
       "      <th>29</th>\n",
       "      <td>Marisha Pessl</td>\n",
       "      <td>Special Topics in Calamity Physics</td>\n",
       "      <td>514</td>\n",
       "    </tr>\n",
       "    <tr>\n",
       "      <th>30</th>\n",
       "      <td>Mark Kurlansky</td>\n",
       "      <td>Salt: A World History</td>\n",
       "      <td>484</td>\n",
       "    </tr>\n",
       "    <tr>\n",
       "      <th>31</th>\n",
       "      <td>Mary Karr</td>\n",
       "      <td>The Liars' Club</td>\n",
       "      <td>320</td>\n",
       "    </tr>\n",
       "    <tr>\n",
       "      <th>32</th>\n",
       "      <td>Miguel de Cervantes Saavedra/John Rutherford/R...</td>\n",
       "      <td>Don Quixote</td>\n",
       "      <td>1023</td>\n",
       "    </tr>\n",
       "    <tr>\n",
       "      <th>33</th>\n",
       "      <td>Nathaniel Hawthorne/Thomas E. Connolly/Nina Baym</td>\n",
       "      <td>The Scarlet Letter</td>\n",
       "      <td>279</td>\n",
       "    </tr>\n",
       "    <tr>\n",
       "      <th>34</th>\n",
       "      <td>Nathaniel Philbrick</td>\n",
       "      <td>In the Heart of the Sea: The Tragedy of the Wh...</td>\n",
       "      <td>302</td>\n",
       "    </tr>\n",
       "    <tr>\n",
       "      <th>35</th>\n",
       "      <td>Ron Chernow</td>\n",
       "      <td>Alexander Hamilton</td>\n",
       "      <td>818</td>\n",
       "    </tr>\n",
       "    <tr>\n",
       "      <th>36</th>\n",
       "      <td>Stephen King/Robin Waterfield</td>\n",
       "      <td>The Body</td>\n",
       "      <td>80</td>\n",
       "    </tr>\n",
       "    <tr>\n",
       "      <th>37</th>\n",
       "      <td>Sue Monk Kidd</td>\n",
       "      <td>The Mermaid Chair</td>\n",
       "      <td>368</td>\n",
       "    </tr>\n",
       "    <tr>\n",
       "      <th>38</th>\n",
       "      <td>Sue Monk Kidd</td>\n",
       "      <td>The Secret Life of Bees</td>\n",
       "      <td>302</td>\n",
       "    </tr>\n",
       "    <tr>\n",
       "      <th>39</th>\n",
       "      <td>Thomas Hardy/Rosemarie Morgan/Shannon Russell</td>\n",
       "      <td>Far From the Madding Crowd</td>\n",
       "      <td>433</td>\n",
       "    </tr>\n",
       "    <tr>\n",
       "      <th>40</th>\n",
       "      <td>Thomas Pynchon</td>\n",
       "      <td>Gravity's Rainbow</td>\n",
       "      <td>776</td>\n",
       "    </tr>\n",
       "    <tr>\n",
       "      <th>41</th>\n",
       "      <td>Virginia Woolf</td>\n",
       "      <td>A Room of One's Own</td>\n",
       "      <td>112</td>\n",
       "    </tr>\n",
       "    <tr>\n",
       "      <th>42</th>\n",
       "      <td>Vladimir Nabokov</td>\n",
       "      <td>Pale Fire</td>\n",
       "      <td>246</td>\n",
       "    </tr>\n",
       "    <tr>\n",
       "      <th>43</th>\n",
       "      <td>Walter Scott/Graham Tulloch</td>\n",
       "      <td>Ivanhoe</td>\n",
       "      <td>541</td>\n",
       "    </tr>\n",
       "    <tr>\n",
       "      <th>44</th>\n",
       "      <td>William Golding</td>\n",
       "      <td>Lord of the Flies</td>\n",
       "      <td>182</td>\n",
       "    </tr>\n",
       "    <tr>\n",
       "      <th>45</th>\n",
       "      <td>William Makepeace Thackeray/John Carey</td>\n",
       "      <td>Vanity Fair</td>\n",
       "      <td>867</td>\n",
       "    </tr>\n",
       "    <tr>\n",
       "      <th>46</th>\n",
       "      <td>Zadie Smith</td>\n",
       "      <td>On Beauty</td>\n",
       "      <td>445</td>\n",
       "    </tr>\n",
       "  </tbody>\n",
       "</table>\n",
       "</div>"
      ],
      "text/plain": [
       "                                               author  \\\n",
       "0                                             Amy Tan   \n",
       "1                                             Amy Tan   \n",
       "2                              Anonymous/N.K. Sandars   \n",
       "3                                      Art Spiegelman   \n",
       "4                   Arthur  Miller/Christopher Bigsby   \n",
       "5   Charles Dickens/Nicola Bradbury/Hablot Knight ...   \n",
       "6                                      David    Allen   \n",
       "7                                         Don DeLillo   \n",
       "8       E.M. Forster/Oliver Stallybrass/Pankaj Mishra   \n",
       "9                    Edgar Rice Burroughs/John Seelye   \n",
       "10                 Frances Hodgson Burnett/Nancy Bond   \n",
       "11                                   Geraldine Brooks   \n",
       "12                                   Gwyn Hyman Rubio   \n",
       "13   Herodotus/Aubrey de Sélincourt/John M. Marincola   \n",
       "14                                       J.M. Coetzee   \n",
       "15                                 Jacquelyn Mitchard   \n",
       "16                         Jane Austen/Fiona Stafford   \n",
       "17                                      Jared Diamond   \n",
       "18                                      Jasper Fforde   \n",
       "19                                      Jasper Fforde   \n",
       "20                                      Jasper Fforde   \n",
       "21                                   Jerome K. Jerome   \n",
       "22                                       Jodi Picoult   \n",
       "23                                     John Steinbeck   \n",
       "24                                     John Steinbeck   \n",
       "25                                     John Steinbeck   \n",
       "26                      Kenneth Grahame/Gillian Avery   \n",
       "27                                        Kim Edwards   \n",
       "28  Marcus Aurelius/Martin Hammond/Albert Wittstoc...   \n",
       "29                                      Marisha Pessl   \n",
       "30                                     Mark Kurlansky   \n",
       "31                                          Mary Karr   \n",
       "32  Miguel de Cervantes Saavedra/John Rutherford/R...   \n",
       "33   Nathaniel Hawthorne/Thomas E. Connolly/Nina Baym   \n",
       "34                                Nathaniel Philbrick   \n",
       "35                                        Ron Chernow   \n",
       "36                      Stephen King/Robin Waterfield   \n",
       "37                                      Sue Monk Kidd   \n",
       "38                                      Sue Monk Kidd   \n",
       "39      Thomas Hardy/Rosemarie Morgan/Shannon Russell   \n",
       "40                                     Thomas Pynchon   \n",
       "41                                     Virginia Woolf   \n",
       "42                                   Vladimir Nabokov   \n",
       "43                        Walter Scott/Graham Tulloch   \n",
       "44                                    William Golding   \n",
       "45             William Makepeace Thackeray/John Carey   \n",
       "46                                        Zadie Smith   \n",
       "\n",
       "                                                title  num_pages  \n",
       "0                                   The Joy Luck Club        288  \n",
       "1                              The Kitchen God's Wife        416  \n",
       "2                               The Epic of Gilgamesh        120  \n",
       "3                                   The Complete Maus        296  \n",
       "4                                        The Crucible        143  \n",
       "5                                         Bleak House       1017  \n",
       "6   Getting Things Done: The Art of Stress-Free Pr...        267  \n",
       "7                                         White Noise        320  \n",
       "8                                  A Passage to India        376  \n",
       "9                    A Princess of Mars (Barsoom  #1)        186  \n",
       "10                                  A Little Princess        242  \n",
       "11                                    Year of Wonders        358  \n",
       "12                                         Icy Sparks        320  \n",
       "13                                      The Histories        716  \n",
       "14                                           Disgrace        220  \n",
       "15   The Deep End of the Ocean (Cappadora Family  #1)        464  \n",
       "16                                               Emma        474  \n",
       "17  Collapse: How Societies Choose to Fail or Succeed        608  \n",
       "18            Lost in a Good Book (Thursday Next  #2)        399  \n",
       "19                The Eyre Affair (Thursday Next  #1)        374  \n",
       "20          The Well of Lost Plots (Thursday Next #3)        375  \n",
       "21                Three Men in a Boat (Three Men  #1)        185  \n",
       "22                               Harvesting the Heart        453  \n",
       "23                                        Cannery Row        181  \n",
       "24                                    Of Mice and Men        103  \n",
       "25                                          The Pearl         96  \n",
       "26                            The Wind in the Willows        197  \n",
       "27                       The Memory Keeper's Daughter        401  \n",
       "28                                        Meditations        303  \n",
       "29                 Special Topics in Calamity Physics        514  \n",
       "30                              Salt: A World History        484  \n",
       "31                                    The Liars' Club        320  \n",
       "32                                        Don Quixote       1023  \n",
       "33                                 The Scarlet Letter        279  \n",
       "34  In the Heart of the Sea: The Tragedy of the Wh...        302  \n",
       "35                                 Alexander Hamilton        818  \n",
       "36                                           The Body         80  \n",
       "37                                  The Mermaid Chair        368  \n",
       "38                            The Secret Life of Bees        302  \n",
       "39                         Far From the Madding Crowd        433  \n",
       "40                                  Gravity's Rainbow        776  \n",
       "41                                A Room of One's Own        112  \n",
       "42                                          Pale Fire        246  \n",
       "43                                            Ivanhoe        541  \n",
       "44                                  Lord of the Flies        182  \n",
       "45                                        Vanity Fair        867  \n",
       "46                                          On Beauty        445  "
      ]
     },
     "execution_count": 8,
     "metadata": {},
     "output_type": "execute_result"
    }
   ],
   "source": [
    "print(f'Авторы и их книги издательства Penguin Books')\n",
    "query = '''\n",
    "        SELECT DISTINCT a.author,\n",
    "               b.title,\n",
    "               b.num_pages\n",
    "        FROM books AS b\n",
    "        LEFT JOIN authors AS a ON b.author_id=a.author_id\n",
    "        LEFT JOIN publishers AS p ON b.publisher_id=p.publisher_id\n",
    "        WHERE p.publisher LIKE '%Penguin Books%'\n",
    "        GROUP BY a.author, b.title, b.num_pages\n",
    "        '''\n",
    "con=engine.connect()\n",
    "pd.io.sql.read_sql(sql=text(query), con = con)"
   ]
  },
  {
   "cell_type": "markdown",
   "id": "c817ea72",
   "metadata": {},
   "source": [
    "## Определите автора с самой высокой средней оценкой книг — учитывайте только книги с 50 и более оценками"
   ]
  },
  {
   "cell_type": "code",
   "execution_count": 9,
   "id": "7e94b96f",
   "metadata": {},
   "outputs": [
    {
     "name": "stdout",
     "output_type": "stream",
     "text": [
      "Автор с самой высокой средней оценкой книг\n"
     ]
    },
    {
     "data": {
      "text/html": [
       "<div>\n",
       "<style scoped>\n",
       "    .dataframe tbody tr th:only-of-type {\n",
       "        vertical-align: middle;\n",
       "    }\n",
       "\n",
       "    .dataframe tbody tr th {\n",
       "        vertical-align: top;\n",
       "    }\n",
       "\n",
       "    .dataframe thead th {\n",
       "        text-align: right;\n",
       "    }\n",
       "</style>\n",
       "<table border=\"1\" class=\"dataframe\">\n",
       "  <thead>\n",
       "    <tr style=\"text-align: right;\">\n",
       "      <th></th>\n",
       "      <th>author</th>\n",
       "      <th>avg_rating</th>\n",
       "    </tr>\n",
       "  </thead>\n",
       "  <tbody>\n",
       "    <tr>\n",
       "      <th>0</th>\n",
       "      <td>J.K. Rowling/Mary GrandPré</td>\n",
       "      <td>4.29</td>\n",
       "    </tr>\n",
       "  </tbody>\n",
       "</table>\n",
       "</div>"
      ],
      "text/plain": [
       "                       author  avg_rating\n",
       "0  J.K. Rowling/Mary GrandPré        4.29"
      ]
     },
     "execution_count": 9,
     "metadata": {},
     "output_type": "execute_result"
    }
   ],
   "source": [
    "print(f'Автор с самой высокой средней оценкой книг')\n",
    "query = '''\n",
    "        WITH\n",
    "        i AS (SELECT r.book_id,\n",
    "              ROUND(AVG(rating), 2) AS avg_rating\n",
    "              FROM ratings AS r\n",
    "              GROUP BY r.book_id\n",
    "              HAVING COUNT(r.book_id) >= 50)\n",
    "                              \n",
    "        SELECT a.author,\n",
    "               avg_rating\n",
    "        FROM i\n",
    "        LEFT JOIN books AS b ON i.book_id=b.book_id\n",
    "        LEFT JOIN authors AS a ON b.author_id=a.author_id\n",
    "        GROUP BY a.author, avg_rating\n",
    "        LIMIT 1\n",
    "        '''\n",
    "con=engine.connect()\n",
    "pd.io.sql.read_sql(sql=text(query), con = con)"
   ]
  },
  {
   "cell_type": "markdown",
   "id": "02798897",
   "metadata": {},
   "source": [
    "**Автор с самой высокой средней оценкой книг - стала J.K. Rowling/Mary GrandPré - 4,29 средняя оценка. Кстати, Mary GrandPré этот иллюстратор которая как раз работала над первыми книгами о Гарри Поттере.**"
   ]
  },
  {
   "cell_type": "markdown",
   "id": "ca8dff5e",
   "metadata": {},
   "source": [
    "## Посчитайте среднее количество обзоров от пользователей, которые поставили больше 48 оценок."
   ]
  },
  {
   "cell_type": "code",
   "execution_count": 10,
   "id": "c929e3ab",
   "metadata": {},
   "outputs": [
    {
     "name": "stdout",
     "output_type": "stream",
     "text": [
      "Cреднее количество обзоров от пользователей, которые поставили больше 48 оценок\n"
     ]
    },
    {
     "data": {
      "text/html": [
       "<div>\n",
       "<style scoped>\n",
       "    .dataframe tbody tr th:only-of-type {\n",
       "        vertical-align: middle;\n",
       "    }\n",
       "\n",
       "    .dataframe tbody tr th {\n",
       "        vertical-align: top;\n",
       "    }\n",
       "\n",
       "    .dataframe thead th {\n",
       "        text-align: right;\n",
       "    }\n",
       "</style>\n",
       "<table border=\"1\" class=\"dataframe\">\n",
       "  <thead>\n",
       "    <tr style=\"text-align: right;\">\n",
       "      <th></th>\n",
       "      <th>avg_cnt_review</th>\n",
       "    </tr>\n",
       "  </thead>\n",
       "  <tbody>\n",
       "    <tr>\n",
       "      <th>0</th>\n",
       "      <td>24.0</td>\n",
       "    </tr>\n",
       "  </tbody>\n",
       "</table>\n",
       "</div>"
      ],
      "text/plain": [
       "   avg_cnt_review\n",
       "0            24.0"
      ]
     },
     "execution_count": 10,
     "metadata": {},
     "output_type": "execute_result"
    }
   ],
   "source": [
    "print(f'Cреднее количество обзоров от пользователей, которые поставили больше 48 оценок')\n",
    "query = '''     \n",
    "        SELECT ROUND(AVG(cnt_reviews),2) AS avg_cnt_review\n",
    "        FROM (\n",
    "              SELECT rev.username,\n",
    "              COUNT(rev.review_id) AS cnt_reviews\n",
    "              FROM reviews AS rev\n",
    "              WHERE rev.username IN (SELECT rat.username\n",
    "              FROM ratings AS rat\n",
    "              GROUP BY rat.username\n",
    "              HAVING COUNT(rat.rating_id) > 48)\n",
    "              GROUP BY rev.username\n",
    "             ) AS cnt_rev\n",
    "        '''\n",
    "\n",
    "con=engine.connect()\n",
    "pd.io.sql.read_sql(sql=text(query), con = con)"
   ]
  },
  {
   "cell_type": "markdown",
   "id": "7bed4604",
   "metadata": {},
   "source": [
    "**Cреднее количество обзоров от пользователей, которые поставили больше 48 оценок - 24 обзора**"
   ]
  },
  {
   "cell_type": "markdown",
   "id": "2d599d72",
   "metadata": {},
   "source": [
    "<div style=\"border:solid green 2px; padding: 20px\">\n",
    "<b>Вывод</b>\n",
    "    \n",
    "Цель исследования была проанализировать базу данных, содержащую информацию о книгах, издательствах, авторах, а также пользовательские обзоры книг для подготовки рекомендации заказчику.   \n",
    "\n",
    "Были получены следующие ответы на поставление задачи:\n",
    "    \n",
    "- Посчитайте, сколько книг вышло после 1 января 2000 года - 819\n",
    "      \n",
    "- Для каждой книги посчитайте количество обзоров и среднюю оценку - Получилось 1000 книг с рейтингом от 0 до 7, средний балл 3,66.\n",
    "    \n",
    "- Определите издательство, которое выпустило наибольшее число книг толще 50 страниц -Издательство Penguin Books выпустило 42 книги\n",
    "    \n",
    "- Определите автора с самой высокой средней оценкой книг — учитывайте только книги с 50 и более оценками - стала J.K. Rowling/Mary GrandPré - 4,29\n",
    "    \n",
    "- Посчитайте среднее количество обзоров от пользователей, которые поставили больше 48 оценок - 24 обзора.\n",
    "    \n",
    "    \n",
    "    Больше всего книг было выпущенно в 2006 году - 184, а всего по 1 книге вышло в разные года:1952, 1977, 1983, 1984, 2011, 2013,2020. Подробнее рассмотрели авторов издающихся в издательстве Penguin Books. \n",
    "    \n",
    "**Рекомендации**\n",
    "    \n",
    "- Стоит обратить на формат аудиокниг, он тоже достаточно популярен. \n",
    "- За кол-во обзоров и рецензии давать какие-нибудь \"плюшки\" - купоны, закрытые акции, мерч.\n",
    "- За количетсво купленых книг присуждать статусы или элементы самовыражения\n",
    "- Устраивать творческие конкурсы и т.п"
   ]
  },
  {
   "cell_type": "code",
   "execution_count": null,
   "id": "dedfa736",
   "metadata": {},
   "outputs": [],
   "source": []
  }
 ],
 "metadata": {
  "ExecuteTimeLog": [
   {
    "duration": 10299,
    "start_time": "2023-07-23T08:13:03.776Z"
   },
   {
    "duration": 115,
    "start_time": "2023-07-23T08:27:02.510Z"
   },
   {
    "duration": 11,
    "start_time": "2023-07-23T08:35:24.448Z"
   },
   {
    "duration": 107,
    "start_time": "2023-07-23T08:37:23.142Z"
   },
   {
    "duration": 90,
    "start_time": "2023-07-23T08:37:30.607Z"
   },
   {
    "duration": 10,
    "start_time": "2023-07-23T08:46:29.950Z"
   },
   {
    "duration": 9,
    "start_time": "2023-07-23T08:46:42.603Z"
   },
   {
    "duration": 9,
    "start_time": "2023-07-23T08:47:20.800Z"
   },
   {
    "duration": 106,
    "start_time": "2023-07-23T08:52:45.811Z"
   },
   {
    "duration": 39,
    "start_time": "2023-07-23T08:53:53.057Z"
   },
   {
    "duration": 112,
    "start_time": "2023-07-23T08:54:09.267Z"
   },
   {
    "duration": 89,
    "start_time": "2023-07-23T08:55:40.955Z"
   },
   {
    "duration": 22,
    "start_time": "2023-07-23T08:56:02.699Z"
   },
   {
    "duration": 72,
    "start_time": "2023-07-23T08:56:09.991Z"
   },
   {
    "duration": 36,
    "start_time": "2023-07-23T08:56:44.303Z"
   },
   {
    "duration": 67,
    "start_time": "2023-07-23T08:56:57.027Z"
   },
   {
    "duration": 64,
    "start_time": "2023-07-23T08:57:34.099Z"
   },
   {
    "duration": 69,
    "start_time": "2023-07-23T08:58:01.156Z"
   },
   {
    "duration": 57,
    "start_time": "2023-07-23T08:59:20.444Z"
   },
   {
    "duration": 95,
    "start_time": "2023-07-23T09:12:23.548Z"
   },
   {
    "duration": 11,
    "start_time": "2023-07-23T09:22:58.212Z"
   },
   {
    "duration": 14,
    "start_time": "2023-07-23T09:23:09.807Z"
   },
   {
    "duration": 15,
    "start_time": "2023-07-23T09:24:30.902Z"
   },
   {
    "duration": 38,
    "start_time": "2023-07-23T09:31:54.678Z"
   },
   {
    "duration": 31,
    "start_time": "2023-07-23T09:33:13.389Z"
   },
   {
    "duration": 30,
    "start_time": "2023-07-23T09:44:27.952Z"
   },
   {
    "duration": 24,
    "start_time": "2023-07-23T09:44:53.212Z"
   },
   {
    "duration": 28,
    "start_time": "2023-07-23T09:45:55.479Z"
   },
   {
    "duration": 22,
    "start_time": "2023-07-23T09:46:10.402Z"
   },
   {
    "duration": 68,
    "start_time": "2023-07-23T09:47:35.264Z"
   },
   {
    "duration": 52,
    "start_time": "2023-07-23T09:47:43.092Z"
   },
   {
    "duration": 16,
    "start_time": "2023-07-23T09:49:01.478Z"
   },
   {
    "duration": 23,
    "start_time": "2023-07-23T09:50:04.550Z"
   },
   {
    "duration": 22,
    "start_time": "2023-07-23T09:50:25.819Z"
   },
   {
    "duration": 25,
    "start_time": "2023-07-23T09:50:58.571Z"
   },
   {
    "duration": 22,
    "start_time": "2023-07-23T09:51:06.570Z"
   },
   {
    "duration": 15,
    "start_time": "2023-07-23T09:51:14.849Z"
   },
   {
    "duration": 49,
    "start_time": "2023-07-23T10:45:01.160Z"
   },
   {
    "duration": 43,
    "start_time": "2023-07-23T11:36:10.916Z"
   },
   {
    "duration": 10361,
    "start_time": "2023-07-23T11:36:35.684Z"
   },
   {
    "duration": 223,
    "start_time": "2023-07-23T11:36:46.047Z"
   },
   {
    "duration": 160,
    "start_time": "2023-07-23T11:36:46.272Z"
   },
   {
    "duration": 14,
    "start_time": "2023-07-23T11:36:46.434Z"
   },
   {
    "duration": 51,
    "start_time": "2023-07-23T11:36:46.450Z"
   },
   {
    "duration": 19,
    "start_time": "2023-07-23T11:36:46.503Z"
   },
   {
    "duration": 125,
    "start_time": "2023-07-23T11:36:46.524Z"
   },
   {
    "duration": 34,
    "start_time": "2023-07-23T11:37:16.640Z"
   },
   {
    "duration": 83,
    "start_time": "2023-07-23T11:37:34.927Z"
   },
   {
    "duration": 88,
    "start_time": "2023-07-23T11:38:36.363Z"
   },
   {
    "duration": 26,
    "start_time": "2023-07-23T11:39:00.940Z"
   },
   {
    "duration": 29,
    "start_time": "2023-07-23T11:39:24.027Z"
   },
   {
    "duration": 19,
    "start_time": "2023-07-23T11:40:25.711Z"
   },
   {
    "duration": 25,
    "start_time": "2023-07-23T11:43:53.610Z"
   },
   {
    "duration": 19,
    "start_time": "2023-07-23T11:44:04.921Z"
   },
   {
    "duration": 100,
    "start_time": "2023-07-23T12:05:13.418Z"
   },
   {
    "duration": 29,
    "start_time": "2023-07-23T12:16:13.287Z"
   },
   {
    "duration": 34,
    "start_time": "2023-07-23T12:17:15.389Z"
   },
   {
    "duration": 18,
    "start_time": "2023-07-23T12:17:33.245Z"
   },
   {
    "duration": 25,
    "start_time": "2023-07-23T12:18:29.703Z"
   },
   {
    "duration": 24,
    "start_time": "2023-07-23T12:19:42.494Z"
   },
   {
    "duration": 22,
    "start_time": "2023-07-23T12:20:07.608Z"
   },
   {
    "duration": 14548,
    "start_time": "2023-07-23T15:15:29.598Z"
   },
   {
    "duration": 578,
    "start_time": "2023-07-23T15:15:44.148Z"
   },
   {
    "duration": 396,
    "start_time": "2023-07-23T15:15:44.727Z"
   },
   {
    "duration": 54,
    "start_time": "2023-07-23T15:15:45.126Z"
   },
   {
    "duration": 135,
    "start_time": "2023-07-23T15:15:45.182Z"
   },
   {
    "duration": 0,
    "start_time": "2023-07-23T15:15:45.319Z"
   },
   {
    "duration": 0,
    "start_time": "2023-07-23T15:15:45.320Z"
   },
   {
    "duration": 0,
    "start_time": "2023-07-23T15:15:45.322Z"
   },
   {
    "duration": 63,
    "start_time": "2023-07-23T15:16:40.307Z"
   },
   {
    "duration": 165,
    "start_time": "2023-07-23T15:18:17.736Z"
   },
   {
    "duration": 71,
    "start_time": "2023-07-23T15:19:09.252Z"
   },
   {
    "duration": 75,
    "start_time": "2023-07-23T15:20:14.050Z"
   },
   {
    "duration": 70,
    "start_time": "2023-07-23T15:25:13.050Z"
   },
   {
    "duration": 73,
    "start_time": "2023-07-23T15:26:20.625Z"
   },
   {
    "duration": 75,
    "start_time": "2023-07-23T15:28:37.744Z"
   },
   {
    "duration": 73,
    "start_time": "2023-07-23T15:31:17.312Z"
   },
   {
    "duration": 157,
    "start_time": "2023-07-23T15:31:59.929Z"
   },
   {
    "duration": 144,
    "start_time": "2023-07-23T15:32:28.704Z"
   },
   {
    "duration": 61,
    "start_time": "2023-07-23T15:33:09.575Z"
   },
   {
    "duration": 63,
    "start_time": "2023-07-23T15:33:27.212Z"
   },
   {
    "duration": 57,
    "start_time": "2023-07-23T15:36:06.551Z"
   },
   {
    "duration": 59,
    "start_time": "2023-07-23T15:36:12.847Z"
   },
   {
    "duration": 58,
    "start_time": "2023-07-23T15:38:10.529Z"
   },
   {
    "duration": 76,
    "start_time": "2023-07-23T15:59:15.276Z"
   },
   {
    "duration": 9862,
    "start_time": "2023-07-23T19:00:38.714Z"
   },
   {
    "duration": 216,
    "start_time": "2023-07-23T19:00:48.583Z"
   },
   {
    "duration": 129,
    "start_time": "2023-07-23T19:00:48.801Z"
   },
   {
    "duration": 11,
    "start_time": "2023-07-23T19:00:48.931Z"
   },
   {
    "duration": 16,
    "start_time": "2023-07-23T19:00:48.944Z"
   },
   {
    "duration": 31,
    "start_time": "2023-07-23T19:00:48.962Z"
   },
   {
    "duration": 13,
    "start_time": "2023-07-23T19:00:48.994Z"
   },
   {
    "duration": 19,
    "start_time": "2023-07-23T19:00:49.008Z"
   },
   {
    "duration": 124,
    "start_time": "2023-07-23T19:00:49.028Z"
   },
   {
    "duration": 22,
    "start_time": "2023-07-23T19:09:56.485Z"
   },
   {
    "duration": 109,
    "start_time": "2023-07-23T19:10:14.560Z"
   },
   {
    "duration": 95,
    "start_time": "2023-07-23T19:10:27.386Z"
   },
   {
    "duration": 75,
    "start_time": "2023-07-23T19:10:39.089Z"
   },
   {
    "duration": 43,
    "start_time": "2023-07-23T19:11:34.079Z"
   },
   {
    "duration": 40,
    "start_time": "2023-07-23T19:14:16.320Z"
   },
   {
    "duration": 13,
    "start_time": "2023-07-23T19:14:55.410Z"
   },
   {
    "duration": 104,
    "start_time": "2023-07-23T19:16:43.306Z"
   },
   {
    "duration": 16,
    "start_time": "2023-07-23T19:16:54.318Z"
   },
   {
    "duration": 70,
    "start_time": "2023-07-23T19:17:40.933Z"
   },
   {
    "duration": 16,
    "start_time": "2023-07-23T19:17:58.033Z"
   },
   {
    "duration": 21,
    "start_time": "2023-07-23T19:19:38.820Z"
   },
   {
    "duration": 17,
    "start_time": "2023-07-23T19:20:01.713Z"
   },
   {
    "duration": 30,
    "start_time": "2023-07-23T19:41:36.152Z"
   },
   {
    "duration": 31,
    "start_time": "2023-07-23T19:41:57.127Z"
   },
   {
    "duration": 34,
    "start_time": "2023-07-23T19:44:40.264Z"
   },
   {
    "duration": 21,
    "start_time": "2023-07-23T19:46:07.125Z"
   },
   {
    "duration": 15,
    "start_time": "2023-07-23T19:48:18.921Z"
   },
   {
    "duration": 22,
    "start_time": "2023-07-23T19:50:04.220Z"
   },
   {
    "duration": 19,
    "start_time": "2023-07-23T19:50:20.643Z"
   },
   {
    "duration": 13,
    "start_time": "2023-07-23T19:50:55.188Z"
   },
   {
    "duration": 64,
    "start_time": "2023-07-23T19:51:24.516Z"
   },
   {
    "duration": 13,
    "start_time": "2023-07-23T19:51:49.652Z"
   },
   {
    "duration": 13113,
    "start_time": "2023-07-24T16:38:49.920Z"
   },
   {
    "duration": 160,
    "start_time": "2023-07-24T16:39:03.035Z"
   },
   {
    "duration": 114,
    "start_time": "2023-07-24T16:39:03.196Z"
   },
   {
    "duration": 11,
    "start_time": "2023-07-24T16:39:03.312Z"
   },
   {
    "duration": 17,
    "start_time": "2023-07-24T16:39:03.325Z"
   },
   {
    "duration": 32,
    "start_time": "2023-07-24T16:39:03.344Z"
   },
   {
    "duration": 16,
    "start_time": "2023-07-24T16:39:03.378Z"
   },
   {
    "duration": 30,
    "start_time": "2023-07-24T16:39:03.397Z"
   },
   {
    "duration": 15,
    "start_time": "2023-07-24T16:39:03.429Z"
   },
   {
    "duration": 40,
    "start_time": "2023-07-24T16:39:03.446Z"
   },
   {
    "duration": 21822,
    "start_time": "2023-07-25T08:45:51.142Z"
   },
   {
    "duration": 155,
    "start_time": "2023-07-25T08:46:12.967Z"
   },
   {
    "duration": 95,
    "start_time": "2023-07-25T08:46:13.124Z"
   },
   {
    "duration": 11,
    "start_time": "2023-07-25T08:46:13.221Z"
   },
   {
    "duration": 25,
    "start_time": "2023-07-25T08:46:13.234Z"
   },
   {
    "duration": 29,
    "start_time": "2023-07-25T08:46:13.261Z"
   },
   {
    "duration": 14,
    "start_time": "2023-07-25T08:46:13.292Z"
   },
   {
    "duration": 16,
    "start_time": "2023-07-25T08:46:13.308Z"
   },
   {
    "duration": 16,
    "start_time": "2023-07-25T08:46:13.325Z"
   },
   {
    "duration": 16,
    "start_time": "2023-07-25T08:46:13.359Z"
   }
  ],
  "kernelspec": {
   "display_name": "Python 3 (ipykernel)",
   "language": "python",
   "name": "python3"
  },
  "language_info": {
   "codemirror_mode": {
    "name": "ipython",
    "version": 3
   },
   "file_extension": ".py",
   "mimetype": "text/x-python",
   "name": "python",
   "nbconvert_exporter": "python",
   "pygments_lexer": "ipython3",
   "version": "3.9.5"
  },
  "toc": {
   "base_numbering": 1,
   "nav_menu": {},
   "number_sections": true,
   "sideBar": true,
   "skip_h1_title": true,
   "title_cell": "Table of Contents",
   "title_sidebar": "Contents",
   "toc_cell": false,
   "toc_position": {},
   "toc_section_display": true,
   "toc_window_display": false
  }
 },
 "nbformat": 4,
 "nbformat_minor": 5
}
