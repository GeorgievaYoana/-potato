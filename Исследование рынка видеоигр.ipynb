{
 "cells": [
  {
   "cell_type": "markdown",
   "metadata": {},
   "source": [
    "<font size = 6> Исследование рынка видеоигр </font>"
   ]
  },
  {
   "cell_type": "markdown",
   "metadata": {},
   "source": [
    "[Ссылка на презентацию:](https://docs.google.com/presentation/d/1lE2sAORis-6AHFp2AxUqQ1hdPYVEgwHy/edit?usp=drive_link&ouid=115378190131547711286&rtpof=true&sd=true)"
   ]
  },
  {
   "cell_type": "markdown",
   "metadata": {},
   "source": [
    "В нашем распоряжении данные из открытых источников о продажах игр, оценки пользователей и экспертов, жанры и платформы (например, Xbox или PlayStation) до 2016 года. \n",
    "\n",
    "**Цель исследования** — выявить определяющие успешность игры закономерности. Для этого обработаем и исследуем имеющиеся данные, составим портрет пользователя каждого региона ((NA, EU, JP)) и проверим гипотезы:средние пользовательские рейтинги платформ Xbox One и PC одинаковые; Средние пользовательские рейтинги жанров Action (англ. «действие», экшен-игры) и Sports (англ. «спортивные соревнования») разные.\n",
    "\n",
    "**Описание данных**\n",
    "- Name — название игры\n",
    "- Platform — платформа\n",
    "- Year_of_Release — год выпуска\n",
    "- Genre — жанр игры\n",
    "- NA_sales — продажи в Северной Америке (миллионы проданных копий)\n",
    "- EU_sales — продажи в Европе (миллионы проданных копий)\n",
    "- JP_sales — продажи в Японии (миллионы проданных копий)\n",
    "- Other_sales — продажи в других странах (миллионы проданных копий)\n",
    "- Critic_Score — оценка критиков (максимум 100)\n",
    "- User_Score — оценка пользователей (максимум 10)\n",
    "- Rating — рейтинг от организации ESRB (англ. Entertainment Software Rating Board). Эта ассоциация определяет рейтинг компьютерных игр и присваивает им подходящую возрастную категорию.\n",
    "\n",
    "Данные за 2016 год могут быть неполными."
   ]
  },
  {
   "cell_type": "markdown",
   "metadata": {},
   "source": [
    "### Откроим файл с данными и изучим общую информацию"
   ]
  },
  {
   "cell_type": "code",
   "execution_count": 1,
   "metadata": {},
   "outputs": [],
   "source": [
    "# импорт библиотек\n",
    "import pandas as pd\n",
    "import matplotlib\n",
    "import matplotlib.pyplot as plt\n",
    "pd.set_option('display.max_columns', None)\n",
    "import seaborn as sns\n",
    "import numpy as np"
   ]
  },
  {
   "cell_type": "code",
   "execution_count": 2,
   "metadata": {},
   "outputs": [],
   "source": [
    "data=pd.read_csv('/datasets/games.csv')# читаем csv-файл. данные не слились, поэтому  разделитель здесь не используем"
   ]
  },
  {
   "cell_type": "code",
   "execution_count": 3,
   "metadata": {},
   "outputs": [
    {
     "data": {
      "text/html": [
       "<div>\n",
       "<style scoped>\n",
       "    .dataframe tbody tr th:only-of-type {\n",
       "        vertical-align: middle;\n",
       "    }\n",
       "\n",
       "    .dataframe tbody tr th {\n",
       "        vertical-align: top;\n",
       "    }\n",
       "\n",
       "    .dataframe thead th {\n",
       "        text-align: right;\n",
       "    }\n",
       "</style>\n",
       "<table border=\"1\" class=\"dataframe\">\n",
       "  <thead>\n",
       "    <tr style=\"text-align: right;\">\n",
       "      <th></th>\n",
       "      <th>Name</th>\n",
       "      <th>Platform</th>\n",
       "      <th>Year_of_Release</th>\n",
       "      <th>Genre</th>\n",
       "      <th>NA_sales</th>\n",
       "      <th>EU_sales</th>\n",
       "      <th>JP_sales</th>\n",
       "      <th>Other_sales</th>\n",
       "      <th>Critic_Score</th>\n",
       "      <th>User_Score</th>\n",
       "      <th>Rating</th>\n",
       "    </tr>\n",
       "  </thead>\n",
       "  <tbody>\n",
       "    <tr>\n",
       "      <th>0</th>\n",
       "      <td>Wii Sports</td>\n",
       "      <td>Wii</td>\n",
       "      <td>2006.0</td>\n",
       "      <td>Sports</td>\n",
       "      <td>41.36</td>\n",
       "      <td>28.96</td>\n",
       "      <td>3.77</td>\n",
       "      <td>8.45</td>\n",
       "      <td>76.0</td>\n",
       "      <td>8</td>\n",
       "      <td>E</td>\n",
       "    </tr>\n",
       "    <tr>\n",
       "      <th>1</th>\n",
       "      <td>Super Mario Bros.</td>\n",
       "      <td>NES</td>\n",
       "      <td>1985.0</td>\n",
       "      <td>Platform</td>\n",
       "      <td>29.08</td>\n",
       "      <td>3.58</td>\n",
       "      <td>6.81</td>\n",
       "      <td>0.77</td>\n",
       "      <td>NaN</td>\n",
       "      <td>NaN</td>\n",
       "      <td>NaN</td>\n",
       "    </tr>\n",
       "    <tr>\n",
       "      <th>2</th>\n",
       "      <td>Mario Kart Wii</td>\n",
       "      <td>Wii</td>\n",
       "      <td>2008.0</td>\n",
       "      <td>Racing</td>\n",
       "      <td>15.68</td>\n",
       "      <td>12.76</td>\n",
       "      <td>3.79</td>\n",
       "      <td>3.29</td>\n",
       "      <td>82.0</td>\n",
       "      <td>8.3</td>\n",
       "      <td>E</td>\n",
       "    </tr>\n",
       "    <tr>\n",
       "      <th>3</th>\n",
       "      <td>Wii Sports Resort</td>\n",
       "      <td>Wii</td>\n",
       "      <td>2009.0</td>\n",
       "      <td>Sports</td>\n",
       "      <td>15.61</td>\n",
       "      <td>10.93</td>\n",
       "      <td>3.28</td>\n",
       "      <td>2.95</td>\n",
       "      <td>80.0</td>\n",
       "      <td>8</td>\n",
       "      <td>E</td>\n",
       "    </tr>\n",
       "    <tr>\n",
       "      <th>4</th>\n",
       "      <td>Pokemon Red/Pokemon Blue</td>\n",
       "      <td>GB</td>\n",
       "      <td>1996.0</td>\n",
       "      <td>Role-Playing</td>\n",
       "      <td>11.27</td>\n",
       "      <td>8.89</td>\n",
       "      <td>10.22</td>\n",
       "      <td>1.00</td>\n",
       "      <td>NaN</td>\n",
       "      <td>NaN</td>\n",
       "      <td>NaN</td>\n",
       "    </tr>\n",
       "    <tr>\n",
       "      <th>5</th>\n",
       "      <td>Tetris</td>\n",
       "      <td>GB</td>\n",
       "      <td>1989.0</td>\n",
       "      <td>Puzzle</td>\n",
       "      <td>23.20</td>\n",
       "      <td>2.26</td>\n",
       "      <td>4.22</td>\n",
       "      <td>0.58</td>\n",
       "      <td>NaN</td>\n",
       "      <td>NaN</td>\n",
       "      <td>NaN</td>\n",
       "    </tr>\n",
       "    <tr>\n",
       "      <th>6</th>\n",
       "      <td>New Super Mario Bros.</td>\n",
       "      <td>DS</td>\n",
       "      <td>2006.0</td>\n",
       "      <td>Platform</td>\n",
       "      <td>11.28</td>\n",
       "      <td>9.14</td>\n",
       "      <td>6.50</td>\n",
       "      <td>2.88</td>\n",
       "      <td>89.0</td>\n",
       "      <td>8.5</td>\n",
       "      <td>E</td>\n",
       "    </tr>\n",
       "    <tr>\n",
       "      <th>7</th>\n",
       "      <td>Wii Play</td>\n",
       "      <td>Wii</td>\n",
       "      <td>2006.0</td>\n",
       "      <td>Misc</td>\n",
       "      <td>13.96</td>\n",
       "      <td>9.18</td>\n",
       "      <td>2.93</td>\n",
       "      <td>2.84</td>\n",
       "      <td>58.0</td>\n",
       "      <td>6.6</td>\n",
       "      <td>E</td>\n",
       "    </tr>\n",
       "    <tr>\n",
       "      <th>8</th>\n",
       "      <td>New Super Mario Bros. Wii</td>\n",
       "      <td>Wii</td>\n",
       "      <td>2009.0</td>\n",
       "      <td>Platform</td>\n",
       "      <td>14.44</td>\n",
       "      <td>6.94</td>\n",
       "      <td>4.70</td>\n",
       "      <td>2.24</td>\n",
       "      <td>87.0</td>\n",
       "      <td>8.4</td>\n",
       "      <td>E</td>\n",
       "    </tr>\n",
       "    <tr>\n",
       "      <th>9</th>\n",
       "      <td>Duck Hunt</td>\n",
       "      <td>NES</td>\n",
       "      <td>1984.0</td>\n",
       "      <td>Shooter</td>\n",
       "      <td>26.93</td>\n",
       "      <td>0.63</td>\n",
       "      <td>0.28</td>\n",
       "      <td>0.47</td>\n",
       "      <td>NaN</td>\n",
       "      <td>NaN</td>\n",
       "      <td>NaN</td>\n",
       "    </tr>\n",
       "    <tr>\n",
       "      <th>10</th>\n",
       "      <td>Nintendogs</td>\n",
       "      <td>DS</td>\n",
       "      <td>2005.0</td>\n",
       "      <td>Simulation</td>\n",
       "      <td>9.05</td>\n",
       "      <td>10.95</td>\n",
       "      <td>1.93</td>\n",
       "      <td>2.74</td>\n",
       "      <td>NaN</td>\n",
       "      <td>NaN</td>\n",
       "      <td>NaN</td>\n",
       "    </tr>\n",
       "    <tr>\n",
       "      <th>11</th>\n",
       "      <td>Mario Kart DS</td>\n",
       "      <td>DS</td>\n",
       "      <td>2005.0</td>\n",
       "      <td>Racing</td>\n",
       "      <td>9.71</td>\n",
       "      <td>7.47</td>\n",
       "      <td>4.13</td>\n",
       "      <td>1.90</td>\n",
       "      <td>91.0</td>\n",
       "      <td>8.6</td>\n",
       "      <td>E</td>\n",
       "    </tr>\n",
       "    <tr>\n",
       "      <th>12</th>\n",
       "      <td>Pokemon Gold/Pokemon Silver</td>\n",
       "      <td>GB</td>\n",
       "      <td>1999.0</td>\n",
       "      <td>Role-Playing</td>\n",
       "      <td>9.00</td>\n",
       "      <td>6.18</td>\n",
       "      <td>7.20</td>\n",
       "      <td>0.71</td>\n",
       "      <td>NaN</td>\n",
       "      <td>NaN</td>\n",
       "      <td>NaN</td>\n",
       "    </tr>\n",
       "    <tr>\n",
       "      <th>13</th>\n",
       "      <td>Wii Fit</td>\n",
       "      <td>Wii</td>\n",
       "      <td>2007.0</td>\n",
       "      <td>Sports</td>\n",
       "      <td>8.92</td>\n",
       "      <td>8.03</td>\n",
       "      <td>3.60</td>\n",
       "      <td>2.15</td>\n",
       "      <td>80.0</td>\n",
       "      <td>7.7</td>\n",
       "      <td>E</td>\n",
       "    </tr>\n",
       "    <tr>\n",
       "      <th>14</th>\n",
       "      <td>Kinect Adventures!</td>\n",
       "      <td>X360</td>\n",
       "      <td>2010.0</td>\n",
       "      <td>Misc</td>\n",
       "      <td>15.00</td>\n",
       "      <td>4.89</td>\n",
       "      <td>0.24</td>\n",
       "      <td>1.69</td>\n",
       "      <td>61.0</td>\n",
       "      <td>6.3</td>\n",
       "      <td>E</td>\n",
       "    </tr>\n",
       "    <tr>\n",
       "      <th>15</th>\n",
       "      <td>Wii Fit Plus</td>\n",
       "      <td>Wii</td>\n",
       "      <td>2009.0</td>\n",
       "      <td>Sports</td>\n",
       "      <td>9.01</td>\n",
       "      <td>8.49</td>\n",
       "      <td>2.53</td>\n",
       "      <td>1.77</td>\n",
       "      <td>80.0</td>\n",
       "      <td>7.4</td>\n",
       "      <td>E</td>\n",
       "    </tr>\n",
       "    <tr>\n",
       "      <th>16</th>\n",
       "      <td>Grand Theft Auto V</td>\n",
       "      <td>PS3</td>\n",
       "      <td>2013.0</td>\n",
       "      <td>Action</td>\n",
       "      <td>7.02</td>\n",
       "      <td>9.09</td>\n",
       "      <td>0.98</td>\n",
       "      <td>3.96</td>\n",
       "      <td>97.0</td>\n",
       "      <td>8.2</td>\n",
       "      <td>M</td>\n",
       "    </tr>\n",
       "    <tr>\n",
       "      <th>17</th>\n",
       "      <td>Grand Theft Auto: San Andreas</td>\n",
       "      <td>PS2</td>\n",
       "      <td>2004.0</td>\n",
       "      <td>Action</td>\n",
       "      <td>9.43</td>\n",
       "      <td>0.40</td>\n",
       "      <td>0.41</td>\n",
       "      <td>10.57</td>\n",
       "      <td>95.0</td>\n",
       "      <td>9</td>\n",
       "      <td>M</td>\n",
       "    </tr>\n",
       "    <tr>\n",
       "      <th>18</th>\n",
       "      <td>Super Mario World</td>\n",
       "      <td>SNES</td>\n",
       "      <td>1990.0</td>\n",
       "      <td>Platform</td>\n",
       "      <td>12.78</td>\n",
       "      <td>3.75</td>\n",
       "      <td>3.54</td>\n",
       "      <td>0.55</td>\n",
       "      <td>NaN</td>\n",
       "      <td>NaN</td>\n",
       "      <td>NaN</td>\n",
       "    </tr>\n",
       "    <tr>\n",
       "      <th>19</th>\n",
       "      <td>Brain Age: Train Your Brain in Minutes a Day</td>\n",
       "      <td>DS</td>\n",
       "      <td>2005.0</td>\n",
       "      <td>Misc</td>\n",
       "      <td>4.74</td>\n",
       "      <td>9.20</td>\n",
       "      <td>4.16</td>\n",
       "      <td>2.04</td>\n",
       "      <td>77.0</td>\n",
       "      <td>7.9</td>\n",
       "      <td>E</td>\n",
       "    </tr>\n",
       "  </tbody>\n",
       "</table>\n",
       "</div>"
      ],
      "text/plain": [
       "                                            Name Platform  Year_of_Release  \\\n",
       "0                                     Wii Sports      Wii           2006.0   \n",
       "1                              Super Mario Bros.      NES           1985.0   \n",
       "2                                 Mario Kart Wii      Wii           2008.0   \n",
       "3                              Wii Sports Resort      Wii           2009.0   \n",
       "4                       Pokemon Red/Pokemon Blue       GB           1996.0   \n",
       "5                                         Tetris       GB           1989.0   \n",
       "6                          New Super Mario Bros.       DS           2006.0   \n",
       "7                                       Wii Play      Wii           2006.0   \n",
       "8                      New Super Mario Bros. Wii      Wii           2009.0   \n",
       "9                                      Duck Hunt      NES           1984.0   \n",
       "10                                    Nintendogs       DS           2005.0   \n",
       "11                                 Mario Kart DS       DS           2005.0   \n",
       "12                   Pokemon Gold/Pokemon Silver       GB           1999.0   \n",
       "13                                       Wii Fit      Wii           2007.0   \n",
       "14                            Kinect Adventures!     X360           2010.0   \n",
       "15                                  Wii Fit Plus      Wii           2009.0   \n",
       "16                            Grand Theft Auto V      PS3           2013.0   \n",
       "17                 Grand Theft Auto: San Andreas      PS2           2004.0   \n",
       "18                             Super Mario World     SNES           1990.0   \n",
       "19  Brain Age: Train Your Brain in Minutes a Day       DS           2005.0   \n",
       "\n",
       "           Genre  NA_sales  EU_sales  JP_sales  Other_sales  Critic_Score  \\\n",
       "0         Sports     41.36     28.96      3.77         8.45          76.0   \n",
       "1       Platform     29.08      3.58      6.81         0.77           NaN   \n",
       "2         Racing     15.68     12.76      3.79         3.29          82.0   \n",
       "3         Sports     15.61     10.93      3.28         2.95          80.0   \n",
       "4   Role-Playing     11.27      8.89     10.22         1.00           NaN   \n",
       "5         Puzzle     23.20      2.26      4.22         0.58           NaN   \n",
       "6       Platform     11.28      9.14      6.50         2.88          89.0   \n",
       "7           Misc     13.96      9.18      2.93         2.84          58.0   \n",
       "8       Platform     14.44      6.94      4.70         2.24          87.0   \n",
       "9        Shooter     26.93      0.63      0.28         0.47           NaN   \n",
       "10    Simulation      9.05     10.95      1.93         2.74           NaN   \n",
       "11        Racing      9.71      7.47      4.13         1.90          91.0   \n",
       "12  Role-Playing      9.00      6.18      7.20         0.71           NaN   \n",
       "13        Sports      8.92      8.03      3.60         2.15          80.0   \n",
       "14          Misc     15.00      4.89      0.24         1.69          61.0   \n",
       "15        Sports      9.01      8.49      2.53         1.77          80.0   \n",
       "16        Action      7.02      9.09      0.98         3.96          97.0   \n",
       "17        Action      9.43      0.40      0.41        10.57          95.0   \n",
       "18      Platform     12.78      3.75      3.54         0.55           NaN   \n",
       "19          Misc      4.74      9.20      4.16         2.04          77.0   \n",
       "\n",
       "   User_Score Rating  \n",
       "0           8      E  \n",
       "1         NaN    NaN  \n",
       "2         8.3      E  \n",
       "3           8      E  \n",
       "4         NaN    NaN  \n",
       "5         NaN    NaN  \n",
       "6         8.5      E  \n",
       "7         6.6      E  \n",
       "8         8.4      E  \n",
       "9         NaN    NaN  \n",
       "10        NaN    NaN  \n",
       "11        8.6      E  \n",
       "12        NaN    NaN  \n",
       "13        7.7      E  \n",
       "14        6.3      E  \n",
       "15        7.4      E  \n",
       "16        8.2      M  \n",
       "17          9      M  \n",
       "18        NaN    NaN  \n",
       "19        7.9      E  "
      ]
     },
     "execution_count": 3,
     "metadata": {},
     "output_type": "execute_result"
    }
   ],
   "source": [
    "data.head(20)#Выводим первые 20 строчек датафрейма data на экран"
   ]
  },
  {
   "cell_type": "code",
   "execution_count": 4,
   "metadata": {},
   "outputs": [
    {
     "name": "stdout",
     "output_type": "stream",
     "text": [
      "<class 'pandas.core.frame.DataFrame'>\n",
      "RangeIndex: 16715 entries, 0 to 16714\n",
      "Data columns (total 11 columns):\n",
      " #   Column           Non-Null Count  Dtype  \n",
      "---  ------           --------------  -----  \n",
      " 0   Name             16713 non-null  object \n",
      " 1   Platform         16715 non-null  object \n",
      " 2   Year_of_Release  16446 non-null  float64\n",
      " 3   Genre            16713 non-null  object \n",
      " 4   NA_sales         16715 non-null  float64\n",
      " 5   EU_sales         16715 non-null  float64\n",
      " 6   JP_sales         16715 non-null  float64\n",
      " 7   Other_sales      16715 non-null  float64\n",
      " 8   Critic_Score     8137 non-null   float64\n",
      " 9   User_Score       10014 non-null  object \n",
      " 10  Rating           9949 non-null   object \n",
      "dtypes: float64(6), object(5)\n",
      "memory usage: 1.4+ MB\n"
     ]
    }
   ],
   "source": [
    "data.info()"
   ]
  },
  {
   "cell_type": "markdown",
   "metadata": {},
   "source": [
    "Нужно привести к единому регистру названия столбцов, изменить тип в дате"
   ]
  },
  {
   "cell_type": "code",
   "execution_count": 5,
   "metadata": {},
   "outputs": [
    {
     "data": {
      "text/plain": [
       "0"
      ]
     },
     "execution_count": 5,
     "metadata": {},
     "output_type": "execute_result"
    }
   ],
   "source": [
    "# Проверим явные дубликаты в датафрейме:\n",
    "data.duplicated().sum()"
   ]
  },
  {
   "cell_type": "markdown",
   "metadata": {},
   "source": [
    "Передо мной датафрейм в размере 16715 строк в 11 столбцах. Как видно из info() данные нужно предобработать, явно изменить названия столбцов, проверить пропуски и поменять тип в некоторых стобцах. Приступим."
   ]
  },
  {
   "cell_type": "markdown",
   "metadata": {},
   "source": [
    "### Предобработка данных"
   ]
  },
  {
   "cell_type": "markdown",
   "metadata": {},
   "source": [
    "Я работник в интернет-магазине «Стримчик», который продаёт по всему миру компьютерные игры. Из открытых источников доступны исторические данные о продажах игр, оценки пользователей и экспертов, жанры и платформы (например, Xbox или PlayStation). Мне нужно выявить определяющие успешность игры закономерности. Передо мной собранные данные до 2016 года. Изучив общую информацию я решила составить план действий для предобработке данных.\n",
    "План действий:\n",
    "- Найти и изучить пропущенные значения в столбцах таблицы\n",
    "- привести названия столбцов к нижнему регистру\n",
    "- поменять тип в столбцах user_score, year_of_release\n",
    "- удалить пустые значения в столбцах name, genre, т.к их всего лишь две записи\n",
    "- проверить значения в столбцах на адекватность\n",
    "- понять и заменить по возможности пропуски в столбцах Critic_Score,User_Score, Rating\n",
    "- посчитать суммарные продажи во всех регионах и записать их в отдельный столбец"
   ]
  },
  {
   "cell_type": "code",
   "execution_count": 6,
   "metadata": {
    "scrolled": true
   },
   "outputs": [
    {
     "data": {
      "text/plain": [
       "Name                  2\n",
       "Platform              0\n",
       "Year_of_Release     269\n",
       "Genre                 2\n",
       "NA_sales              0\n",
       "EU_sales              0\n",
       "JP_sales              0\n",
       "Other_sales           0\n",
       "Critic_Score       8578\n",
       "User_Score         6701\n",
       "Rating             6766\n",
       "dtype: int64"
      ]
     },
     "execution_count": 6,
     "metadata": {},
     "output_type": "execute_result"
    }
   ],
   "source": [
    "# Найдём и изучим пропущенные значения в столбцах\n",
    "data.isna().sum() "
   ]
  },
  {
   "cell_type": "code",
   "execution_count": 7,
   "metadata": {},
   "outputs": [],
   "source": [
    "#приведем названия столбцов к нижнему регистру\n",
    "data.columns = data.columns.str.lower()"
   ]
  },
  {
   "cell_type": "code",
   "execution_count": 8,
   "metadata": {},
   "outputs": [
    {
     "data": {
      "text/plain": [
       "array(['tbd', '9.7', '9.6', '9.5', '9.4', '9.3', '9.2', '9.1', '9', '8.9',\n",
       "       '8.8', '8.7', '8.6', '8.5', '8.4', '8.3', '8.2', '8.1', '8', '7.9',\n",
       "       '7.8', '7.7', '7.6', '7.5', '7.4', '7.3', '7.2', '7.1', '7', '6.9',\n",
       "       '6.8', '6.7', '6.6', '6.5', '6.4', '6.3', '6.2', '6.1', '6', '5.9',\n",
       "       '5.8', '5.7', '5.6', '5.5', '5.4', '5.3', '5.2', '5.1', '5', '4.9',\n",
       "       '4.8', '4.7', '4.6', '4.5', '4.4', '4.3', '4.2', '4.1', '4', '3.9',\n",
       "       '3.8', '3.7', '3.6', '3.5', '3.4', '3.3', '3.2', '3.1', '3', '2.9',\n",
       "       '2.8', '2.7', '2.6', '2.5', '2.4', '2.3', '2.2', '2.1', '2', '1.9',\n",
       "       '1.8', '1.7', '1.6', '1.5', '1.4', '1.3', '1.2', '1.1', '1', '0.9',\n",
       "       '0.7', '0.6', '0.5', '0.3', '0.2', '0', nan], dtype=object)"
      ]
     },
     "execution_count": 8,
     "metadata": {},
     "output_type": "execute_result"
    }
   ],
   "source": [
    "#столбец user_score имеет строковый тип, а не вещественный проверим почему\n",
    "data['user_score'].sort_values(ascending=False).unique()"
   ]
  },
  {
   "cell_type": "markdown",
   "metadata": {},
   "source": [
    "Некоторые значения столбца user_score имеют строковые значения tbd.'To Be Determined' - будет определено позже, можно заменить на значение не определено, для того чтобы привести столбец к вещественному типу."
   ]
  },
  {
   "cell_type": "code",
   "execution_count": 9,
   "metadata": {},
   "outputs": [],
   "source": [
    "#заменим tbd на NaN\n",
    "data['user_score'] = data['user_score'].replace('tbd', np.nan, regex=True)"
   ]
  },
  {
   "cell_type": "code",
   "execution_count": 10,
   "metadata": {},
   "outputs": [],
   "source": [
    "# приведем столбец с годом к целочисленному типу\n",
    "data['year_of_release'] = data['year_of_release'].astype('Int64')"
   ]
  },
  {
   "cell_type": "code",
   "execution_count": 11,
   "metadata": {},
   "outputs": [],
   "source": [
    "# приведем столбец User_Score  к вещественному типу\n",
    "data['user_score'] = data['user_score'].astype('float64')"
   ]
  },
  {
   "cell_type": "code",
   "execution_count": 12,
   "metadata": {
    "scrolled": true
   },
   "outputs": [
    {
     "name": "stdout",
     "output_type": "stream",
     "text": [
      "<class 'pandas.core.frame.DataFrame'>\n",
      "RangeIndex: 16713 entries, 0 to 16712\n",
      "Data columns (total 11 columns):\n",
      " #   Column           Non-Null Count  Dtype  \n",
      "---  ------           --------------  -----  \n",
      " 0   name             16713 non-null  object \n",
      " 1   platform         16713 non-null  object \n",
      " 2   year_of_release  16444 non-null  Int64  \n",
      " 3   genre            16713 non-null  object \n",
      " 4   na_sales         16713 non-null  float64\n",
      " 5   eu_sales         16713 non-null  float64\n",
      " 6   jp_sales         16713 non-null  float64\n",
      " 7   other_sales      16713 non-null  float64\n",
      " 8   critic_score     8137 non-null   float64\n",
      " 9   user_score       7590 non-null   float64\n",
      " 10  rating           9949 non-null   object \n",
      "dtypes: Int64(1), float64(6), object(4)\n",
      "memory usage: 1.4+ MB\n"
     ]
    }
   ],
   "source": [
    "#удалим пустые значения в столбцах name, genre\n",
    "data = data.dropna(subset=['name', 'genre']).reset_index(drop=True)\n",
    "data.info()"
   ]
  },
  {
   "cell_type": "code",
   "execution_count": 13,
   "metadata": {},
   "outputs": [
    {
     "data": {
      "text/html": [
       "<div>\n",
       "<style scoped>\n",
       "    .dataframe tbody tr th:only-of-type {\n",
       "        vertical-align: middle;\n",
       "    }\n",
       "\n",
       "    .dataframe tbody tr th {\n",
       "        vertical-align: top;\n",
       "    }\n",
       "\n",
       "    .dataframe thead th {\n",
       "        text-align: right;\n",
       "    }\n",
       "</style>\n",
       "<table border=\"1\" class=\"dataframe\">\n",
       "  <thead>\n",
       "    <tr style=\"text-align: right;\">\n",
       "      <th></th>\n",
       "      <th>year_of_release</th>\n",
       "      <th>na_sales</th>\n",
       "      <th>eu_sales</th>\n",
       "      <th>jp_sales</th>\n",
       "      <th>other_sales</th>\n",
       "      <th>critic_score</th>\n",
       "      <th>user_score</th>\n",
       "    </tr>\n",
       "  </thead>\n",
       "  <tbody>\n",
       "    <tr>\n",
       "      <th>count</th>\n",
       "      <td>16444.000000</td>\n",
       "      <td>16713.000000</td>\n",
       "      <td>16713.000000</td>\n",
       "      <td>16713.000000</td>\n",
       "      <td>16713.000000</td>\n",
       "      <td>8137.000000</td>\n",
       "      <td>7590.000000</td>\n",
       "    </tr>\n",
       "    <tr>\n",
       "      <th>mean</th>\n",
       "      <td>2006.486256</td>\n",
       "      <td>0.263302</td>\n",
       "      <td>0.145045</td>\n",
       "      <td>0.077625</td>\n",
       "      <td>0.047343</td>\n",
       "      <td>68.967679</td>\n",
       "      <td>7.125046</td>\n",
       "    </tr>\n",
       "    <tr>\n",
       "      <th>std</th>\n",
       "      <td>5.875525</td>\n",
       "      <td>0.813565</td>\n",
       "      <td>0.503359</td>\n",
       "      <td>0.308871</td>\n",
       "      <td>0.186742</td>\n",
       "      <td>13.938165</td>\n",
       "      <td>1.500006</td>\n",
       "    </tr>\n",
       "    <tr>\n",
       "      <th>min</th>\n",
       "      <td>1980.000000</td>\n",
       "      <td>0.000000</td>\n",
       "      <td>0.000000</td>\n",
       "      <td>0.000000</td>\n",
       "      <td>0.000000</td>\n",
       "      <td>13.000000</td>\n",
       "      <td>0.000000</td>\n",
       "    </tr>\n",
       "    <tr>\n",
       "      <th>25%</th>\n",
       "      <td>2003.000000</td>\n",
       "      <td>0.000000</td>\n",
       "      <td>0.000000</td>\n",
       "      <td>0.000000</td>\n",
       "      <td>0.000000</td>\n",
       "      <td>60.000000</td>\n",
       "      <td>6.400000</td>\n",
       "    </tr>\n",
       "    <tr>\n",
       "      <th>50%</th>\n",
       "      <td>2007.000000</td>\n",
       "      <td>0.080000</td>\n",
       "      <td>0.020000</td>\n",
       "      <td>0.000000</td>\n",
       "      <td>0.010000</td>\n",
       "      <td>71.000000</td>\n",
       "      <td>7.500000</td>\n",
       "    </tr>\n",
       "    <tr>\n",
       "      <th>75%</th>\n",
       "      <td>2010.000000</td>\n",
       "      <td>0.240000</td>\n",
       "      <td>0.110000</td>\n",
       "      <td>0.040000</td>\n",
       "      <td>0.030000</td>\n",
       "      <td>79.000000</td>\n",
       "      <td>8.200000</td>\n",
       "    </tr>\n",
       "    <tr>\n",
       "      <th>max</th>\n",
       "      <td>2016.000000</td>\n",
       "      <td>41.360000</td>\n",
       "      <td>28.960000</td>\n",
       "      <td>10.220000</td>\n",
       "      <td>10.570000</td>\n",
       "      <td>98.000000</td>\n",
       "      <td>9.700000</td>\n",
       "    </tr>\n",
       "  </tbody>\n",
       "</table>\n",
       "</div>"
      ],
      "text/plain": [
       "       year_of_release      na_sales      eu_sales      jp_sales  \\\n",
       "count     16444.000000  16713.000000  16713.000000  16713.000000   \n",
       "mean       2006.486256      0.263302      0.145045      0.077625   \n",
       "std           5.875525      0.813565      0.503359      0.308871   \n",
       "min        1980.000000      0.000000      0.000000      0.000000   \n",
       "25%        2003.000000      0.000000      0.000000      0.000000   \n",
       "50%        2007.000000      0.080000      0.020000      0.000000   \n",
       "75%        2010.000000      0.240000      0.110000      0.040000   \n",
       "max        2016.000000     41.360000     28.960000     10.220000   \n",
       "\n",
       "        other_sales  critic_score   user_score  \n",
       "count  16713.000000   8137.000000  7590.000000  \n",
       "mean       0.047343     68.967679     7.125046  \n",
       "std        0.186742     13.938165     1.500006  \n",
       "min        0.000000     13.000000     0.000000  \n",
       "25%        0.000000     60.000000     6.400000  \n",
       "50%        0.010000     71.000000     7.500000  \n",
       "75%        0.030000     79.000000     8.200000  \n",
       "max       10.570000     98.000000     9.700000  "
      ]
     },
     "execution_count": 13,
     "metadata": {},
     "output_type": "execute_result"
    }
   ],
   "source": [
    "data.describe() #проверим  на min и max значения в столбцах на адекватность"
   ]
  },
  {
   "cell_type": "code",
   "execution_count": 14,
   "metadata": {},
   "outputs": [
    {
     "data": {
      "text/plain": [
       "array(['T', 'RP', 'M', 'K-A', 'EC', 'E10+', 'E', 'AO', nan], dtype=object)"
      ]
     },
     "execution_count": 14,
     "metadata": {},
     "output_type": "execute_result"
    }
   ],
   "source": [
    "#столбец rating посмотрим какие в нем значения\n",
    "data['rating'].sort_values(ascending=False).unique()"
   ]
  },
  {
   "cell_type": "code",
   "execution_count": 15,
   "metadata": {},
   "outputs": [],
   "source": [
    "#Пропуски в рейтинге ESRB заменим на Unknown\n",
    "data['rating'] = data['rating'].fillna(value='Unknown')"
   ]
  },
  {
   "cell_type": "code",
   "execution_count": 16,
   "metadata": {},
   "outputs": [],
   "source": [
    "# добавление столбца общие продажи\n",
    "data['total_sales'] = data['na_sales'] + data['eu_sales'] + data['jp_sales'] + data['other_sales']"
   ]
  },
  {
   "cell_type": "markdown",
   "metadata": {},
   "source": [
    "<div style=\"border:solid green 2px; padding: 20px\">\n",
    "<b>Вывод</b>\n",
    "    \n",
    "В ходе предобработке были обнаружены пропуски в столбцах:year_of_release -269, critic_score-8578, user_score-6701, rating-6766. Проопуски в столбце года релиза, не смотря на их небольшое количество, удалять их пока не будем, прибережем. Также в этом столбце год указан с плавающей точкой, следовательно его перевели в целочисленное значение.\n",
    "\n",
    "Некоторые значения столбца user_score имеют строковые значения tbd.'To Be Determined' - будет определено позже, очень часто подобное сокращение можно встретить в анонсах компьютерных игр в графе \"Дата выхода\". Когда разработчик той или иной игры уже сообщил о том, что она готовится к выходу, но пока еще не может назвать точную дату. Естественно, оно может применяться и в других случаях, но данный вариант является самым распространенным. Также вы можете увидеть TBD и в отношении уже вышедших в свет игр, если у них готовится к релизу какое-либо дополнение, однако пока не известно, когда именно оно будет выпущено.\n",
    "Поэтому в данной ситуации заменить на значение не определено, для того чтобы привести столбец к вещественному типу.\n",
    "\n",
    "\n",
    "В данной датафрейм сущетсвуют пропуски в столбцах оценки от критиков и пользователей. Это сущетсвенная проблема, попытаемся разобратся с ней. Предположим, что оценка может отсутсвовать по причине незначительности игры, проверим такой вариант. Возьмем первую же игру у которой стоят пропуски в этих столбцах:Pokemon Red/Pokemon Blue и проверим информацию о ней в интернете. Игры получили хорошие оценки у критиков; они хвалили их возможность многопользовательской игры, особенно концепцию обмена покемонами. Red и Blue получили 89 % от GameRankings и удерживали постоянное место в рейтинге «Топ 100 лучших игр всех времён» по версии IGN. Релиз игры положил начало многомиллионному франчайзу «Покемон» и продаже миллионов копий игры по всему миру, поэтому в 2009 году игра попала в Книгу рекордов Гиннесса в разделе «Самая продаваемая RPG на Game Boy» и «Самая продаваемая RPG всех времён»\n",
    "\n",
    "Значит наше предположение не верно, считать среднее или медиану не подойдет. Следовательно в данном случае целесообразно просто не трогать эти пропуски, т.к корректной замены они не имеют.\n",
    "\n",
    "При проверке датафрейма методом describe() явных аномалий не было обнаруженно. \n",
    "\n",
    "В наборе данных столбца rating попадается аббревиатура ESRB (Entertainment Software Rating Board) — это ассоциация, определяющая возрастной рейтинг компьютерных игр. ESRB оценивает игровой контент и присваивает ему подходящую возрастную категорию.\n",
    "\n",
    "- EC\tДля детей младшего возраста. \n",
    "- E\tПодходит для всех возрастных категорий. \n",
    "- E 10+\tПодходит для лиц старше 10 лет. \n",
    "- T\tПодходит для лиц старше 13 лет. \n",
    "- M\tПодходит для лиц старше 17 лет. \n",
    "- AO Подходит для взрослых старше 18 лет. \n",
    "- RP Играм с категорией RP еще не присвоен окончательный рейтинг ESRB.\n",
    "\n",
    "Ни один из крупных производителей консолей не разрешает игры AO на своих системах, и лишь немногие розничные продавцы продают игры AO в своих магазинах. Рейтинг «K-A» («Kids to Adults»)— «Для детей и взрослых»: Содержание игры вполне подходит для возрастной категории от 6 лет и старше. Такие игры подходят для всех возрастов. Такой рейтинг сущетсвовал до 1998 года.\n",
    " \n",
    "Значит пропуски заменим на 'Unknown'  так как это важная информация.\n"
   ]
  },
  {
   "cell_type": "markdown",
   "metadata": {},
   "source": [
    "### Исследовательский анализ данных"
   ]
  },
  {
   "cell_type": "markdown",
   "metadata": {},
   "source": [
    "**План работ**\n",
    "\n",
    "- Узнать колличество игр выпущенных в разные годы. Важны ли данные за все периоды?\n",
    "- Узнать, как менялись продажи по платформам. Выбрать платформы с наибольшими суммарными продажами;\n",
    "- Построить распределение по годам; - Найти популярные в прошлом платформы, у которых сейчас продажи на нуле; - За какой характерный период появляются новые и исчезают старые платформы.\n",
    "- Определить, данные за какой период нужно взять, чтобы исключить значимое искажение распределения по платформам в 2016 году.\n"
   ]
  },
  {
   "cell_type": "code",
   "execution_count": 17,
   "metadata": {
    "scrolled": true
   },
   "outputs": [
    {
     "data": {
      "image/png": "[encoded data removed]",
      "text/plain": [
       "<Figure size 1296x360 with 1 Axes>"
      ]
     },
     "metadata": {
      "needs_background": "light"
     },
     "output_type": "display_data"
    }
   ],
   "source": [
    "# построим график выпущенных игр по годам\n",
    "plt.figure(figsize=(18, 5))\n",
    "sns.histplot(data['year_of_release'],  color = 'green',alpha = 0.5)\n",
    "plt.title(\"Колличество выпущенных игр по годам\")\n",
    "plt.xlabel(\"Год выпуска\")\n",
    "plt.ylabel(\"Количество выпущенных игр\")\n",
    "plt.show()"
   ]
  },
  {
   "cell_type": "markdown",
   "metadata": {},
   "source": [
    "Из графика выпущенных игр по годам, можно просмотреть историю зарождения игровой индустрии, пик популярности пришелся на 2008-2009 год и потом резкий спад с 2012 года. При том, что в 2008 произршел финансовый кризис, несмотря на мировой масштаб, для игровой индустрии был событием далеко не таким разрушительным. \n"
   ]
  },
  {
   "cell_type": "code",
   "execution_count": 18,
   "metadata": {},
   "outputs": [],
   "source": [
    "# выделим топ платформ по продажам\n",
    "top_pla_sale=data.pivot_table(index='platform', values='total_sales', aggfunc='sum').sort_values(by='total_sales', ascending=False)"
   ]
  },
  {
   "cell_type": "code",
   "execution_count": 19,
   "metadata": {
    "scrolled": false
   },
   "outputs": [
    {
     "data": {
      "image/png": "[encoded data removed]",
      "text/plain": [
       "<Figure size 720x720 with 1 Axes>"
      ]
     },
     "metadata": {},
     "output_type": "display_data"
    }
   ],
   "source": [
    "top_pla_sale.head(5)\\\n",
    "    .plot(kind='pie', subplots=True,autopct='%1.1f%%', fontsize=13 ,figsize=(10,10))\n",
    "plt.title(\"Топ платформ по продажам\")\n",
    "plt.show()"
   ]
  },
  {
   "cell_type": "code",
   "execution_count": 20,
   "metadata": {},
   "outputs": [
    {
     "data": {
      "text/html": [
       "<div>\n",
       "<style scoped>\n",
       "    .dataframe tbody tr th:only-of-type {\n",
       "        vertical-align: middle;\n",
       "    }\n",
       "\n",
       "    .dataframe tbody tr th {\n",
       "        vertical-align: top;\n",
       "    }\n",
       "\n",
       "    .dataframe thead th {\n",
       "        text-align: right;\n",
       "    }\n",
       "</style>\n",
       "<table border=\"1\" class=\"dataframe\">\n",
       "  <thead>\n",
       "    <tr style=\"text-align: right;\">\n",
       "      <th></th>\n",
       "      <th>platform</th>\n",
       "      <th>year_of_release</th>\n",
       "      <th>total_sales</th>\n",
       "    </tr>\n",
       "  </thead>\n",
       "  <tbody>\n",
       "    <tr>\n",
       "      <th>0</th>\n",
       "      <td>DS</td>\n",
       "      <td>1985</td>\n",
       "      <td>0.02</td>\n",
       "    </tr>\n",
       "    <tr>\n",
       "      <th>1</th>\n",
       "      <td>DS</td>\n",
       "      <td>2004</td>\n",
       "      <td>17.27</td>\n",
       "    </tr>\n",
       "    <tr>\n",
       "      <th>2</th>\n",
       "      <td>DS</td>\n",
       "      <td>2005</td>\n",
       "      <td>130.14</td>\n",
       "    </tr>\n",
       "    <tr>\n",
       "      <th>3</th>\n",
       "      <td>DS</td>\n",
       "      <td>2006</td>\n",
       "      <td>119.81</td>\n",
       "    </tr>\n",
       "    <tr>\n",
       "      <th>4</th>\n",
       "      <td>DS</td>\n",
       "      <td>2007</td>\n",
       "      <td>146.94</td>\n",
       "    </tr>\n",
       "    <tr>\n",
       "      <th>...</th>\n",
       "      <td>...</td>\n",
       "      <td>...</td>\n",
       "      <td>...</td>\n",
       "    </tr>\n",
       "    <tr>\n",
       "      <th>62</th>\n",
       "      <td>X360</td>\n",
       "      <td>2012</td>\n",
       "      <td>99.74</td>\n",
       "    </tr>\n",
       "    <tr>\n",
       "      <th>63</th>\n",
       "      <td>X360</td>\n",
       "      <td>2013</td>\n",
       "      <td>88.58</td>\n",
       "    </tr>\n",
       "    <tr>\n",
       "      <th>64</th>\n",
       "      <td>X360</td>\n",
       "      <td>2014</td>\n",
       "      <td>34.74</td>\n",
       "    </tr>\n",
       "    <tr>\n",
       "      <th>65</th>\n",
       "      <td>X360</td>\n",
       "      <td>2015</td>\n",
       "      <td>11.96</td>\n",
       "    </tr>\n",
       "    <tr>\n",
       "      <th>66</th>\n",
       "      <td>X360</td>\n",
       "      <td>2016</td>\n",
       "      <td>1.52</td>\n",
       "    </tr>\n",
       "  </tbody>\n",
       "</table>\n",
       "<p>67 rows × 3 columns</p>\n",
       "</div>"
      ],
      "text/plain": [
       "   platform  year_of_release  total_sales\n",
       "0        DS             1985         0.02\n",
       "1        DS             2004        17.27\n",
       "2        DS             2005       130.14\n",
       "3        DS             2006       119.81\n",
       "4        DS             2007       146.94\n",
       "..      ...              ...          ...\n",
       "62     X360             2012        99.74\n",
       "63     X360             2013        88.58\n",
       "64     X360             2014        34.74\n",
       "65     X360             2015        11.96\n",
       "66     X360             2016         1.52\n",
       "\n",
       "[67 rows x 3 columns]"
      ]
     },
     "execution_count": 20,
     "metadata": {},
     "output_type": "execute_result"
    }
   ],
   "source": [
    "# сделаем сводную платформ по продажам и соединим его со списком топов, чтобы в дальнейшем сделать график\n",
    "top=data.pivot_table(index=['platform','year_of_release'], values='total_sales', aggfunc='sum')\n",
    "platform_list = ['PS2', 'X360', 'PS3', 'Wii', 'DS', 'PS']\n",
    "platforms_top = top.query('platform in @platform_list').reset_index()\n",
    "platforms_top"
   ]
  },
  {
   "cell_type": "code",
   "execution_count": 21,
   "metadata": {},
   "outputs": [
    {
     "data": {
      "image/png": "[encoded data removed]",
      "text/plain": [
       "<Figure size 1080x720 with 1 Axes>"
      ]
     },
     "metadata": {
      "needs_background": "light"
     },
     "output_type": "display_data"
    }
   ],
   "source": [
    "# посторим распределение продаж платформ по годам\n",
    "plt.figure(figsize=(15,10))\n",
    "sns.lineplot(data=platforms_top, x=\"year_of_release\", y=\"total_sales\", hue=\"platform\", style=\"platform\")\n",
    "plt.show()"
   ]
  },
  {
   "cell_type": "code",
   "execution_count": 22,
   "metadata": {},
   "outputs": [
    {
     "data": {
      "text/plain": [
       "7.67741935483871"
      ]
     },
     "execution_count": 22,
     "metadata": {},
     "output_type": "execute_result"
    }
   ],
   "source": [
    "# узнаем среднюю продолжительность жизни платформ\n",
    "life_of_platform = data.pivot_table(index='platform',columns = 'year_of_release',values='total_sales',aggfunc='sum')\n",
    "life_of_platform.count(axis = 1).mean()"
   ]
  },
  {
   "cell_type": "markdown",
   "metadata": {},
   "source": [
    "Из графика выпущенных игр по годам, наблюдается спад игровой индустрии с 2012 года, далее, она идет практически вровень. Скорее всего это связано с возрастающей популярностью мобильных игр.  Дальше смотрим топ платформ по продажам, их получается 6:'PS2', 'X360', 'PS3', 'Wii', 'DS', 'PS'. Теперь нужно посмотреть как у них обстоят дела с продажами именно по годам, иначе получится, что у платформы был грандиозный успех в 2000, а теперь ее уже нет, что как раз таки подтверждает наш график. Поэтому в дальнейшем важно смотреть продажи в отобранный нами ранее период.\n",
    "\n",
    "\n",
    "В среднем продолжительность платформы состовляет 7.6 лет. Хотя история приставок началась еще в 1972 году вместе с релизом первой в мире домашней игровой приставки Magnavox Odyssey, прорыв в этом направлении начинается в 1977 году, когда в продажу поступает игровая приставка Atari 2600. Благодаря инвестициям Atari популяризация компьютерных и видеоигр выходит на новый уровень. Появляются новые крупные игроки, желающие занять теплое место на рынке видеоигр. В качестве крупнейших кроме Atari в историю вошли Sega, Nintendo, Sony и Microsoft.Некоторые из них «взрывают» рынок и вытесняют старые, некоторые не обретают взрывного роста но занимают свою нишу — к примеру Smart TV, умные часы, игры в самолетах, игры на вейпах и др.Таким образом, нас точно не интересуют платформы, продаж и релизов для которых не было в последний год, возвращений после полного упадка практически не случается. Кроме того, платформы старше 10 лет доживают свой век, и скорее всего в следующем году продажи для них будут крайне низкими - стоит смотреть в сторону тех, что вышли не более 5 лет назад и не перевалили за экватор средне-консольной продолжительности жизни.\n",
    "\n",
    "Значит для актуального анализа возмем период с 2013 по 2016 г. Эти данные помогут построить прогноз на 2017 год.  "
   ]
  },
  {
   "cell_type": "markdown",
   "metadata": {},
   "source": [
    "**Исследуем данные за период 2013 - 2016 год**\n",
    "- Какие платформы лидируют по продажам, растут или падают? Выбрать несколько потенциально прибыльных платформ.\n",
    "- Построить график «ящик с усами» по глобальным продажам каждой игры и разбивкой по платформам. - Велика ли разница в продажах? - В средних продажах на разных платформах?\n",
    "- Описать результат.\n",
    "- Посмотреть, как влияют на продажи внутри одной популярной платформы отзывы пользователей и критиков.\n",
    "- Построить диаграмму рассеяния; - Посчитать корреляцию между отзывами и продажами; - Сформулировать выводы и соотнесите их с продажами игр на других платформах.\n",
    "- Посмотреть на общее распределение игр по жанрам. - Сделать выводы о самых прибыльных жанрах; - Выделяются ли жанры с высокими и низкими продажами?"
   ]
  },
  {
   "cell_type": "code",
   "execution_count": 23,
   "metadata": {
    "scrolled": true
   },
   "outputs": [
    {
     "data": {
      "text/html": [
       "<div>\n",
       "<style scoped>\n",
       "    .dataframe tbody tr th:only-of-type {\n",
       "        vertical-align: middle;\n",
       "    }\n",
       "\n",
       "    .dataframe tbody tr th {\n",
       "        vertical-align: top;\n",
       "    }\n",
       "\n",
       "    .dataframe thead th {\n",
       "        text-align: right;\n",
       "    }\n",
       "</style>\n",
       "<table border=\"1\" class=\"dataframe\">\n",
       "  <thead>\n",
       "    <tr style=\"text-align: right;\">\n",
       "      <th>year_of_release</th>\n",
       "      <th>2013</th>\n",
       "      <th>2014</th>\n",
       "      <th>2015</th>\n",
       "      <th>2016</th>\n",
       "    </tr>\n",
       "    <tr>\n",
       "      <th>platform</th>\n",
       "      <th></th>\n",
       "      <th></th>\n",
       "      <th></th>\n",
       "      <th></th>\n",
       "    </tr>\n",
       "  </thead>\n",
       "  <tbody>\n",
       "    <tr>\n",
       "      <th>3DS</th>\n",
       "      <td>56.57</td>\n",
       "      <td>43.76</td>\n",
       "      <td>27.78</td>\n",
       "      <td>15.14</td>\n",
       "    </tr>\n",
       "    <tr>\n",
       "      <th>DS</th>\n",
       "      <td>1.54</td>\n",
       "      <td>NaN</td>\n",
       "      <td>NaN</td>\n",
       "      <td>NaN</td>\n",
       "    </tr>\n",
       "    <tr>\n",
       "      <th>PC</th>\n",
       "      <td>12.38</td>\n",
       "      <td>13.28</td>\n",
       "      <td>8.52</td>\n",
       "      <td>5.25</td>\n",
       "    </tr>\n",
       "    <tr>\n",
       "      <th>PS3</th>\n",
       "      <td>113.25</td>\n",
       "      <td>47.76</td>\n",
       "      <td>16.82</td>\n",
       "      <td>3.60</td>\n",
       "    </tr>\n",
       "    <tr>\n",
       "      <th>PS4</th>\n",
       "      <td>25.99</td>\n",
       "      <td>100.00</td>\n",
       "      <td>118.90</td>\n",
       "      <td>69.25</td>\n",
       "    </tr>\n",
       "    <tr>\n",
       "      <th>PSP</th>\n",
       "      <td>3.14</td>\n",
       "      <td>0.24</td>\n",
       "      <td>0.12</td>\n",
       "      <td>NaN</td>\n",
       "    </tr>\n",
       "    <tr>\n",
       "      <th>PSV</th>\n",
       "      <td>10.59</td>\n",
       "      <td>11.90</td>\n",
       "      <td>6.25</td>\n",
       "      <td>4.25</td>\n",
       "    </tr>\n",
       "    <tr>\n",
       "      <th>Wii</th>\n",
       "      <td>8.59</td>\n",
       "      <td>3.75</td>\n",
       "      <td>1.14</td>\n",
       "      <td>0.18</td>\n",
       "    </tr>\n",
       "    <tr>\n",
       "      <th>WiiU</th>\n",
       "      <td>21.65</td>\n",
       "      <td>22.03</td>\n",
       "      <td>16.35</td>\n",
       "      <td>4.60</td>\n",
       "    </tr>\n",
       "    <tr>\n",
       "      <th>X360</th>\n",
       "      <td>88.58</td>\n",
       "      <td>34.74</td>\n",
       "      <td>11.96</td>\n",
       "      <td>1.52</td>\n",
       "    </tr>\n",
       "    <tr>\n",
       "      <th>XOne</th>\n",
       "      <td>18.96</td>\n",
       "      <td>54.07</td>\n",
       "      <td>60.14</td>\n",
       "      <td>26.15</td>\n",
       "    </tr>\n",
       "  </tbody>\n",
       "</table>\n",
       "</div>"
      ],
      "text/plain": [
       "year_of_release    2013    2014    2015   2016\n",
       "platform                                      \n",
       "3DS               56.57   43.76   27.78  15.14\n",
       "DS                 1.54     NaN     NaN    NaN\n",
       "PC                12.38   13.28    8.52   5.25\n",
       "PS3              113.25   47.76   16.82   3.60\n",
       "PS4               25.99  100.00  118.90  69.25\n",
       "PSP                3.14    0.24    0.12    NaN\n",
       "PSV               10.59   11.90    6.25   4.25\n",
       "Wii                8.59    3.75    1.14   0.18\n",
       "WiiU              21.65   22.03   16.35   4.60\n",
       "X360              88.58   34.74   11.96   1.52\n",
       "XOne              18.96   54.07   60.14  26.15"
      ]
     },
     "execution_count": 23,
     "metadata": {},
     "output_type": "execute_result"
    }
   ],
   "source": [
    "# делаем срез с нужного нам года, сводим в единую таблицу \n",
    "data_actual = data.query(\"year_of_release >= 2013\")\n",
    "platform_lid=data_actual.pivot_table(index='platform', columns = 'year_of_release',values='total_sales', aggfunc='sum')\n",
    "platform_lid"
   ]
  },
  {
   "cell_type": "code",
   "execution_count": 24,
   "metadata": {},
   "outputs": [
    {
     "data": {
      "image/png": "[encoded data removed]",
      "text/plain": [
       "<Figure size 648x360 with 1 Axes>"
      ]
     },
     "metadata": {
      "needs_background": "light"
     },
     "output_type": "display_data"
    }
   ],
   "source": [
    "# посторим хитмеп для наглядности\n",
    "plt.figure(figsize=(9, 5))\n",
    "sns.heatmap(platform_lid, annot=True, fmt=\".2f\", cmap='YlGnBu', cbar=False, robust=True, linewidths=.2)\n",
    "plt.xlabel('Годы')\n",
    "plt.ylabel('Платформы')\n",
    "plt.show()"
   ]
  },
  {
   "cell_type": "code",
   "execution_count": 25,
   "metadata": {},
   "outputs": [],
   "source": [
    "# для дальнейшего удобства делаем срез и по отобранным платформам и нужный нам период\n",
    "data_actual_2 = data.query('platform in [\"PS4\",\"PS3\",\"WiiU\", \"XOne\", \"PC\", \"3DS\",\"X360\"] and year_of_release >= 2013')"
   ]
  },
  {
   "cell_type": "code",
   "execution_count": 26,
   "metadata": {
    "scrolled": false
   },
   "outputs": [
    {
     "data": {
      "image/png": "[encoded data removed]",
      "text/plain": [
       "<Figure size 720x720 with 1 Axes>"
      ]
     },
     "metadata": {
      "needs_background": "light"
     },
     "output_type": "display_data"
    }
   ],
   "source": [
    "#построим график «ящик с усами» по глобальным продажам игр в разбивке по платформам\n",
    "data_actual_2.boxplot(column='total_sales', by='platform', figsize=(10,10))\n",
    "plt.xlabel('Платформа')\n",
    "plt.ylabel('Количество проданных копий, млн')\n",
    "plt.title('Диаграммы размаха по продажам на актуальных платформах')\n",
    "plt.ylim(0, 4)\n",
    "plt.show()"
   ]
  },
  {
   "cell_type": "markdown",
   "metadata": {},
   "source": [
    "Лидером продаж является PlayStation 4, но и размах продаж по годам у нее самый большой - во второй год с момента выпуска ее популярность выросла почти в 2 раза. ПК является самой непопулярной платформой, но и самой стабильной - размах самый узкий. Среднее число продаж игр для десктопов самое низкое и доля бестселлеров самая маленькая.Yо выбросы показывают, что у каждой из платформ случаются супер-хиты, приносящие миллионы"
   ]
  },
  {
   "cell_type": "code",
   "execution_count": 27,
   "metadata": {},
   "outputs": [
    {
     "data": {
      "text/html": [
       "<style  type=\"text/css\" >\n",
       "#T_09b7c_row0_col0,#T_09b7c_row1_col1,#T_09b7c_row2_col2{\n",
       "            background-color:  #b40426;\n",
       "            color:  #f1f1f1;\n",
       "        }#T_09b7c_row0_col1,#T_09b7c_row0_col2,#T_09b7c_row2_col0{\n",
       "            background-color:  #3b4cc0;\n",
       "            color:  #f1f1f1;\n",
       "        }#T_09b7c_row1_col0{\n",
       "            background-color:  #c7d7f0;\n",
       "            color:  #000000;\n",
       "        }#T_09b7c_row1_col2{\n",
       "            background-color:  #edd1c2;\n",
       "            color:  #000000;\n",
       "        }#T_09b7c_row2_col1{\n",
       "            background-color:  #8fb1fe;\n",
       "            color:  #000000;\n",
       "        }</style><table id=\"T_09b7c_\" ><thead>    <tr>        <th class=\"blank level0\" ></th>        <th class=\"col_heading level0 col0\" >total_sales</th>        <th class=\"col_heading level0 col1\" >critic_score</th>        <th class=\"col_heading level0 col2\" >user_score</th>    </tr></thead><tbody>\n",
       "                <tr>\n",
       "                        <th id=\"T_09b7c_level0_row0\" class=\"row_heading level0 row0\" >total_sales</th>\n",
       "                        <td id=\"T_09b7c_row0_col0\" class=\"data row0 col0\" >1.000000</td>\n",
       "                        <td id=\"T_09b7c_row0_col1\" class=\"data row0 col1\" >0.406568</td>\n",
       "                        <td id=\"T_09b7c_row0_col2\" class=\"data row0 col2\" >-0.031957</td>\n",
       "            </tr>\n",
       "            <tr>\n",
       "                        <th id=\"T_09b7c_level0_row1\" class=\"row_heading level0 row1\" >critic_score</th>\n",
       "                        <td id=\"T_09b7c_row1_col0\" class=\"data row1 col0\" >0.406568</td>\n",
       "                        <td id=\"T_09b7c_row1_col1\" class=\"data row1 col1\" >1.000000</td>\n",
       "                        <td id=\"T_09b7c_row1_col2\" class=\"data row1 col2\" >0.557654</td>\n",
       "            </tr>\n",
       "            <tr>\n",
       "                        <th id=\"T_09b7c_level0_row2\" class=\"row_heading level0 row2\" >user_score</th>\n",
       "                        <td id=\"T_09b7c_row2_col0\" class=\"data row2 col0\" >-0.031957</td>\n",
       "                        <td id=\"T_09b7c_row2_col1\" class=\"data row2 col1\" >0.557654</td>\n",
       "                        <td id=\"T_09b7c_row2_col2\" class=\"data row2 col2\" >1.000000</td>\n",
       "            </tr>\n",
       "    </tbody></table>"
      ],
      "text/plain": [
       "<pandas.io.formats.style.Styler at 0x7ff997ae7940>"
      ]
     },
     "metadata": {},
     "output_type": "display_data"
    }
   ],
   "source": [
    "# осчитайте корреляцию между отзывами и продажами​ внутри одной популярной платформы\n",
    "data_select = data.query('platform == \"PS4\"and year_of_release >= 2013')\n",
    "corr=data_select[['total_sales','critic_score','user_score']].corr()\n",
    "display(corr.style.background_gradient(cmap='coolwarm'))"
   ]
  },
  {
   "cell_type": "code",
   "execution_count": 28,
   "metadata": {},
   "outputs": [
    {
     "data": {
      "image/png": "[encoded data removed]",
      "text/plain": [
       "<Figure size 720x360 with 1 Axes>"
      ]
     },
     "metadata": {
      "needs_background": "light"
     },
     "output_type": "display_data"
    }
   ],
   "source": [
    " # построим график рассеяния \n",
    "data_select.plot.scatter('critic_score',  'total_sales', figsize=(10, 5), alpha=0.7, color='DarkBlue', sharex=False)\n",
    "plt.xlabel('Рейтинг критиков')\n",
    "plt.ylabel('Продажи')\n",
    "plt.title('Влияние оценок критиков на уровень продаж')\n",
    "plt.show()"
   ]
  },
  {
   "cell_type": "code",
   "execution_count": 29,
   "metadata": {
    "scrolled": false
   },
   "outputs": [
    {
     "name": "stdout",
     "output_type": "stream",
     "text": [
      "WiiU\n",
      "Корреляция между оценкой критиков и продажами: 0.35\n",
      "Корреляция между оценкой пользователей и продажами: 0.4\n",
      "----------------------------------------------------------------------\n",
      "3DS\n",
      "Корреляция между оценкой критиков и продажами: 0.35\n",
      "Корреляция между оценкой пользователей и продажами: 0.22\n",
      "----------------------------------------------------------------------\n",
      "PC\n",
      "Корреляция между оценкой критиков и продажами: 0.26\n",
      "Корреляция между оценкой пользователей и продажами: 0.01\n",
      "----------------------------------------------------------------------\n",
      "PS3\n",
      "Корреляция между оценкой критиков и продажами: 0.43\n",
      "Корреляция между оценкой пользователей и продажами: 0.13\n",
      "----------------------------------------------------------------------\n",
      "X360\n",
      "Корреляция между оценкой критиков и продажами: 0.39\n",
      "Корреляция между оценкой пользователей и продажами: 0.11\n",
      "----------------------------------------------------------------------\n",
      "XOne\n",
      "Корреляция между оценкой критиков и продажами: 0.42\n",
      "Корреляция между оценкой пользователей и продажами: -0.069\n",
      "----------------------------------------------------------------------\n"
     ]
    }
   ],
   "source": [
    "# посмотрим корреляцию для других ранее отобранных популярных платформ\n",
    "for p in [\"WiiU\", \"3DS\", \"PC\", \"PS3\", \"X360\", \"XOne\"]:\n",
    "    print(p)\n",
    "    data_selec = data.query('platform == @p')\n",
    "    print(f'Корреляция между оценкой критиков и продажами: {data_selec.critic_score.corr(data_selec.total_sales):.2}')\n",
    "    print(f'Корреляция между оценкой пользователей и продажами: {data_selec.user_score.corr(data_selec.total_sales):.2}')\n",
    "    print('--' * 35)"
   ]
  },
  {
   "cell_type": "code",
   "execution_count": 30,
   "metadata": {},
   "outputs": [
    {
     "data": {
      "text/html": [
       "<style  type=\"text/css\" >\n",
       "#T_ff7d6_row0_col0,#T_ff7d6_row1_col1,#T_ff7d6_row2_col2{\n",
       "            background-color:  #b40426;\n",
       "            color:  #f1f1f1;\n",
       "        }#T_ff7d6_row0_col1,#T_ff7d6_row0_col2,#T_ff7d6_row2_col0{\n",
       "            background-color:  #3b4cc0;\n",
       "            color:  #f1f1f1;\n",
       "        }#T_ff7d6_row1_col0{\n",
       "            background-color:  #c7d7f0;\n",
       "            color:  #000000;\n",
       "        }#T_ff7d6_row1_col2{\n",
       "            background-color:  #edd1c2;\n",
       "            color:  #000000;\n",
       "        }#T_ff7d6_row2_col1{\n",
       "            background-color:  #8fb1fe;\n",
       "            color:  #000000;\n",
       "        }</style><table id=\"T_ff7d6_\" ><thead>    <tr>        <th class=\"blank level0\" ></th>        <th class=\"col_heading level0 col0\" >total_sales</th>        <th class=\"col_heading level0 col1\" >critic_score</th>        <th class=\"col_heading level0 col2\" >user_score</th>    </tr></thead><tbody>\n",
       "                <tr>\n",
       "                        <th id=\"T_ff7d6_level0_row0\" class=\"row_heading level0 row0\" >total_sales</th>\n",
       "                        <td id=\"T_ff7d6_row0_col0\" class=\"data row0 col0\" >1.000000</td>\n",
       "                        <td id=\"T_ff7d6_row0_col1\" class=\"data row0 col1\" >0.406568</td>\n",
       "                        <td id=\"T_ff7d6_row0_col2\" class=\"data row0 col2\" >-0.031957</td>\n",
       "            </tr>\n",
       "            <tr>\n",
       "                        <th id=\"T_ff7d6_level0_row1\" class=\"row_heading level0 row1\" >critic_score</th>\n",
       "                        <td id=\"T_ff7d6_row1_col0\" class=\"data row1 col0\" >0.406568</td>\n",
       "                        <td id=\"T_ff7d6_row1_col1\" class=\"data row1 col1\" >1.000000</td>\n",
       "                        <td id=\"T_ff7d6_row1_col2\" class=\"data row1 col2\" >0.557654</td>\n",
       "            </tr>\n",
       "            <tr>\n",
       "                        <th id=\"T_ff7d6_level0_row2\" class=\"row_heading level0 row2\" >user_score</th>\n",
       "                        <td id=\"T_ff7d6_row2_col0\" class=\"data row2 col0\" >-0.031957</td>\n",
       "                        <td id=\"T_ff7d6_row2_col1\" class=\"data row2 col1\" >0.557654</td>\n",
       "                        <td id=\"T_ff7d6_row2_col2\" class=\"data row2 col2\" >1.000000</td>\n",
       "            </tr>\n",
       "    </tbody></table>"
      ],
      "text/plain": [
       "<pandas.io.formats.style.Styler at 0x7ff9979e1e80>"
      ]
     },
     "metadata": {},
     "output_type": "display_data"
    }
   ],
   "source": [
    "# осчитайте корреляцию между отзывами и продажами​ внутри одной популярной платформы\n",
    "data_select = data.query('platform == \"PS4\"and year_of_release >= 2013')\n",
    "corr=data_select[['total_sales','critic_score','user_score']].corr()\n",
    "display(corr.style.background_gradient(cmap='coolwarm'))"
   ]
  },
  {
   "cell_type": "code",
   "execution_count": 31,
   "metadata": {},
   "outputs": [
    {
     "data": {
      "image/png": "[encoded data removed]",
      "text/plain": [
       "<Figure size 720x360 with 1 Axes>"
      ]
     },
     "metadata": {
      "needs_background": "light"
     },
     "output_type": "display_data"
    }
   ],
   "source": [
    " # построим график рассеяния \n",
    "data_select.plot.scatter('critic_score',  'total_sales', figsize=(10, 5), alpha=0.7, color='DarkBlue', sharex=False)\n",
    "plt.xlabel('Рейтинг критиков')\n",
    "plt.ylabel('Продажи')\n",
    "plt.title('Влияние оценок критиков на уровень продаж')\n",
    "plt.show()"
   ]
  },
  {
   "cell_type": "code",
   "execution_count": 32,
   "metadata": {
    "scrolled": false
   },
   "outputs": [
    {
     "name": "stdout",
     "output_type": "stream",
     "text": [
      "WiiU\n",
      "Корреляция между оценкой критиков и продажами: 0.38\n",
      "Корреляция между оценкой пользователей и продажами: 0.42\n",
      "----------------------------------------------------------------------\n",
      "3DS\n",
      "Корреляция между оценкой критиков и продажами: 0.36\n",
      "Корреляция между оценкой пользователей и продажами: 0.24\n",
      "----------------------------------------------------------------------\n",
      "PC\n",
      "Корреляция между оценкой критиков и продажами: 0.2\n",
      "Корреляция между оценкой пользователей и продажами: -0.094\n",
      "----------------------------------------------------------------------\n",
      "PS3\n",
      "Корреляция между оценкой критиков и продажами: 0.33\n",
      "Корреляция между оценкой пользователей и продажами: 0.0024\n",
      "----------------------------------------------------------------------\n",
      "X360\n",
      "Корреляция между оценкой критиков и продажами: 0.35\n",
      "Корреляция между оценкой пользователей и продажами: -0.012\n",
      "----------------------------------------------------------------------\n",
      "XOne\n",
      "Корреляция между оценкой критиков и продажами: 0.42\n",
      "Корреляция между оценкой пользователей и продажами: -0.069\n",
      "----------------------------------------------------------------------\n"
     ]
    }
   ],
   "source": [
    "# посмотрим корреляцию для других ранее отобранных популярных платформ\n",
    "for p in [\"WiiU\", \"3DS\", \"PC\", \"PS3\", \"X360\", \"XOne\"]:\n",
    "    print(p)\n",
    "    data_selec = data.query('platform == @p and year_of_release >= 2013')\n",
    "    print(f'Корреляция между оценкой критиков и продажами: {data_selec.critic_score.corr(data_selec.total_sales):.2}')\n",
    "    print(f'Корреляция между оценкой пользователей и продажами: {data_selec.user_score.corr(data_selec.total_sales):.2}')\n",
    "    print('--' * 35)"
   ]
  },
  {
   "cell_type": "markdown",
   "metadata": {},
   "source": [
    "Значения корреляций отличаются, но общий тренд есть. Оценка критиков немного сильнее коррелирует с продажами, хотя эта связь и не является сильной. Корреляция оценок пользователей и продаж совсем слабая. Возможно, это связано и с тем, что далеко не все пользователи пишут отзывы и оставляют оценки."
   ]
  },
  {
   "cell_type": "code",
   "execution_count": 33,
   "metadata": {},
   "outputs": [
    {
     "data": {
      "text/html": [
       "<div>\n",
       "<style scoped>\n",
       "    .dataframe tbody tr th:only-of-type {\n",
       "        vertical-align: middle;\n",
       "    }\n",
       "\n",
       "    .dataframe tbody tr th {\n",
       "        vertical-align: top;\n",
       "    }\n",
       "\n",
       "    .dataframe thead th {\n",
       "        text-align: right;\n",
       "    }\n",
       "</style>\n",
       "<table border=\"1\" class=\"dataframe\">\n",
       "  <thead>\n",
       "    <tr style=\"text-align: right;\">\n",
       "      <th></th>\n",
       "      <th>total_sales</th>\n",
       "    </tr>\n",
       "    <tr>\n",
       "      <th>genre</th>\n",
       "      <th></th>\n",
       "    </tr>\n",
       "  </thead>\n",
       "  <tbody>\n",
       "    <tr>\n",
       "      <th>Action</th>\n",
       "      <td>321.87</td>\n",
       "    </tr>\n",
       "    <tr>\n",
       "      <th>Shooter</th>\n",
       "      <td>232.98</td>\n",
       "    </tr>\n",
       "    <tr>\n",
       "      <th>Sports</th>\n",
       "      <td>150.65</td>\n",
       "    </tr>\n",
       "    <tr>\n",
       "      <th>Role-Playing</th>\n",
       "      <td>145.89</td>\n",
       "    </tr>\n",
       "    <tr>\n",
       "      <th>Misc</th>\n",
       "      <td>62.82</td>\n",
       "    </tr>\n",
       "    <tr>\n",
       "      <th>Platform</th>\n",
       "      <td>42.63</td>\n",
       "    </tr>\n",
       "    <tr>\n",
       "      <th>Racing</th>\n",
       "      <td>39.89</td>\n",
       "    </tr>\n",
       "    <tr>\n",
       "      <th>Fighting</th>\n",
       "      <td>35.31</td>\n",
       "    </tr>\n",
       "    <tr>\n",
       "      <th>Adventure</th>\n",
       "      <td>23.64</td>\n",
       "    </tr>\n",
       "    <tr>\n",
       "      <th>Simulation</th>\n",
       "      <td>21.76</td>\n",
       "    </tr>\n",
       "    <tr>\n",
       "      <th>Strategy</th>\n",
       "      <td>10.08</td>\n",
       "    </tr>\n",
       "    <tr>\n",
       "      <th>Puzzle</th>\n",
       "      <td>3.17</td>\n",
       "    </tr>\n",
       "  </tbody>\n",
       "</table>\n",
       "</div>"
      ],
      "text/plain": [
       "              total_sales\n",
       "genre                    \n",
       "Action             321.87\n",
       "Shooter            232.98\n",
       "Sports             150.65\n",
       "Role-Playing       145.89\n",
       "Misc                62.82\n",
       "Platform            42.63\n",
       "Racing              39.89\n",
       "Fighting            35.31\n",
       "Adventure           23.64\n",
       "Simulation          21.76\n",
       "Strategy            10.08\n",
       "Puzzle               3.17"
      ]
     },
     "execution_count": 33,
     "metadata": {},
     "output_type": "execute_result"
    }
   ],
   "source": [
    "# выделим топ жанров по продажам\n",
    "data_actual.pivot_table(index='genre', values='total_sales', aggfunc='sum').sort_values(by='total_sales', ascending=False)"
   ]
  },
  {
   "cell_type": "code",
   "execution_count": 34,
   "metadata": {},
   "outputs": [
    {
     "data": {
      "image/png": "[encoded data removed]",
      "text/plain": [
       "<Figure size 504x360 with 1 Axes>"
      ]
     },
     "metadata": {
      "needs_background": "light"
     },
     "output_type": "display_data"
    }
   ],
   "source": [
    "#посторим хитмеп для наглядности\n",
    "ter=data_actual_2.pivot_table(index='genre',columns = 'year_of_release', values='total_sales', aggfunc='sum')\n",
    "plt.figure(figsize=(7, 5))\n",
    "sns.heatmap(ter, annot=True, fmt=\".2f\", cmap='YlGnBu', cbar=False, robust=True, linewidths=.2)\n",
    "plt.xlabel('Годы')\n",
    "plt.ylabel('Жанры')\n",
    "plt.show()"
   ]
  },
  {
   "cell_type": "code",
   "execution_count": 35,
   "metadata": {
    "scrolled": false
   },
   "outputs": [
    {
     "data": {
      "image/png": "[encoded data removed]",
      "text/plain": [
       "<Figure size 1080x720 with 1 Axes>"
      ]
     },
     "metadata": {
      "needs_background": "light"
     },
     "output_type": "display_data"
    }
   ],
   "source": [
    "#сделаем график распределение успешности жанров по годам\n",
    "ter.plot(kind='bar',figsize=(15, 10))\n",
    "plt.title('Распределение успешности жанров по годам')\n",
    "plt.xlabel('Жанры')\n",
    "plt.ylabel('Количеcтво продаж, млн')\n",
    "plt.show()"
   ]
  },
  {
   "cell_type": "code",
   "execution_count": 36,
   "metadata": {},
   "outputs": [
    {
     "data": {
      "text/html": [
       "<div>\n",
       "<style scoped>\n",
       "    .dataframe tbody tr th:only-of-type {\n",
       "        vertical-align: middle;\n",
       "    }\n",
       "\n",
       "    .dataframe tbody tr th {\n",
       "        vertical-align: top;\n",
       "    }\n",
       "\n",
       "    .dataframe thead th {\n",
       "        text-align: right;\n",
       "    }\n",
       "</style>\n",
       "<table border=\"1\" class=\"dataframe\">\n",
       "  <thead>\n",
       "    <tr style=\"text-align: right;\">\n",
       "      <th></th>\n",
       "      <th>total_sales</th>\n",
       "    </tr>\n",
       "    <tr>\n",
       "      <th>genre</th>\n",
       "      <th></th>\n",
       "    </tr>\n",
       "  </thead>\n",
       "  <tbody>\n",
       "    <tr>\n",
       "      <th>Shooter</th>\n",
       "      <td>0.440</td>\n",
       "    </tr>\n",
       "    <tr>\n",
       "      <th>Sports</th>\n",
       "      <td>0.345</td>\n",
       "    </tr>\n",
       "    <tr>\n",
       "      <th>Platform</th>\n",
       "      <td>0.250</td>\n",
       "    </tr>\n",
       "    <tr>\n",
       "      <th>Role-Playing</th>\n",
       "      <td>0.170</td>\n",
       "    </tr>\n",
       "    <tr>\n",
       "      <th>Fighting</th>\n",
       "      <td>0.150</td>\n",
       "    </tr>\n",
       "    <tr>\n",
       "      <th>Action</th>\n",
       "      <td>0.130</td>\n",
       "    </tr>\n",
       "    <tr>\n",
       "      <th>Misc</th>\n",
       "      <td>0.130</td>\n",
       "    </tr>\n",
       "    <tr>\n",
       "      <th>Racing</th>\n",
       "      <td>0.125</td>\n",
       "    </tr>\n",
       "    <tr>\n",
       "      <th>Simulation</th>\n",
       "      <td>0.100</td>\n",
       "    </tr>\n",
       "    <tr>\n",
       "      <th>Strategy</th>\n",
       "      <td>0.080</td>\n",
       "    </tr>\n",
       "    <tr>\n",
       "      <th>Puzzle</th>\n",
       "      <td>0.070</td>\n",
       "    </tr>\n",
       "    <tr>\n",
       "      <th>Adventure</th>\n",
       "      <td>0.060</td>\n",
       "    </tr>\n",
       "  </tbody>\n",
       "</table>\n",
       "</div>"
      ],
      "text/plain": [
       "              total_sales\n",
       "genre                    \n",
       "Shooter             0.440\n",
       "Sports              0.345\n",
       "Platform            0.250\n",
       "Role-Playing        0.170\n",
       "Fighting            0.150\n",
       "Action              0.130\n",
       "Misc                0.130\n",
       "Racing              0.125\n",
       "Simulation          0.100\n",
       "Strategy            0.080\n",
       "Puzzle              0.070\n",
       "Adventure           0.060"
      ]
     },
     "execution_count": 36,
     "metadata": {},
     "output_type": "execute_result"
    }
   ],
   "source": [
    "srep=data_actual_2.pivot_table(index='genre', values='total_sales', aggfunc='median')\\\n",
    ".sort_values(by='total_sales', ascending=False)\n",
    "srep"
   ]
  },
  {
   "cell_type": "code",
   "execution_count": 37,
   "metadata": {
    "scrolled": false
   },
   "outputs": [
    {
     "data": {
      "image/png": "[encoded data removed]",
      "text/plain": [
       "<Figure size 1080x720 with 1 Axes>"
      ]
     },
     "metadata": {
      "needs_background": "light"
     },
     "output_type": "display_data"
    }
   ],
   "source": [
    "#сделаем график распределение успешности жанров по годам\n",
    "srep.plot(kind='bar',figsize=(15, 10))\n",
    "plt.title('Распределение успешности жанров по годам')\n",
    "plt.xlabel('Жанры')\n",
    "plt.ylabel('Количеcтво продаж, млн')\n",
    "plt.show()"
   ]
  },
  {
   "cell_type": "markdown",
   "metadata": {},
   "source": [
    "<div style=\"border:solid green 2px; padding: 20px\">\n",
    "<b>Вывод</b>\n",
    "    \n",
    "Из всех этих данных в видно, что PlayStation 4, WiiU, XBox One находятся на подъеме, т.к это последние вышедшие на тот год свежие консоли. Nintendo 3DS, XBox 360, PlayStation 3 и PlayStation Vita миновали пик популярности, это связано с тем, что по истечении данного срока выпускается обновленная версия платформы. Яркий тому пример - консоли Playstation и Xbox.  \n",
    "Wii и PSP отжили свое, а персональные компьютеры стабильно держатся на плаву. Для дальнейшего анализа оставим наиболее перспективные платформы - PlayStation 4, WiiU, XBox One и PC, а также еще не лишенную потенциала Nintendo 3DS. и будем опираться на данные с 2013 года, как наиболее актуальные (год, когда все платформы, принятые нами как актуальные, уже вышли).\n",
    "\n",
    "При построение ящика с усами, заметили, что медианное значение для платформ Playstation 4, Xbox One и Nintendo WIiU приблизительно равны. Это неудивительно, ведь разработчики стараются выпускать свои игры для каждой платформы. Однако для этих платформ иногда выпускаются эксклюзивные игры. Выбросы же говорят об очень популярных играх, которые хорошо продаются. Сравним 3DS и XOne. У первого маленький ящик и много выбросов. Это говорит о том, что большАя часть объема продаж делается за счет этих выбросов. В то же время у XOne ситуация иная: большой бокс, длинный ус и мало выбросов. Это свидетельствует о том, что на XOne покупают самые разные игры, причем, в немалом количестве.\n",
    "\n",
    "Анализ корреляции показал, что для каждой из перечисленных платформ, корреляция между продажами и оценками как пользователей, так и критиков очень мала, причем  между продажами и оценками пользователей корреляция не только слабая, но и обратная.Тем не менее, можно сказать, что оценка критиков является более весомым аргументом для покупки, чем оценка пользователей. Возможно это связано с тем, что основной поток продаж предшествует оценкам, т.к интерес к продукции подогревается с помощью рекламных акции и анонсов.\n",
    "\n",
    "О связи оценок и продаж трудно говорить и потому, что некоторые игры поставляются эксклюзивно только на одной платформе, например. Или, как в случае Call od Duty, игра является частью большой старой серии, которую люди ждут и покупают из-за имени, репутации.\n",
    "\n",
    "Если рассматривать ситуацию с жанрами, то большей популярностью обладают Shooter, Sports, Platform, Role-Playing, скорей всего это связано с тем, что действие таких игр развивается очень динамично и требует напряжения внимания и быстрой реакции на происходящие в игре события. Наименьшей популяронстью обладают Puzzle и Adventure, скорей всего из=за своей не динамичностью.\n"
   ]
  },
  {
   "cell_type": "markdown",
   "metadata": {},
   "source": [
    "### Составление портрета пользователя каждого региона"
   ]
  },
  {
   "cell_type": "code",
   "execution_count": 38,
   "metadata": {},
   "outputs": [
    {
     "data": {
      "text/html": [
       "<style>\n",
       ".output {\n",
       "    flex-direction: row;\n",
       "}\n",
       "</style>"
      ],
      "text/plain": [
       "<IPython.core.display.HTML object>"
      ]
     },
     "execution_count": 38,
     "metadata": {},
     "output_type": "execute_result"
    }
   ],
   "source": [
    "#отображает две таблицы рядом\n",
    "from IPython.display import display, HTML\n",
    "\n",
    "CSS = \"\"\"\n",
    ".output {\n",
    "    flex-direction: row;\n",
    "}\n",
    "\"\"\"\n",
    "\n",
    "HTML('<style>{}</style>'.format(CSS))"
   ]
  },
  {
   "cell_type": "code",
   "execution_count": 39,
   "metadata": {},
   "outputs": [
    {
     "data": {
      "text/html": [
       "<div>\n",
       "<style scoped>\n",
       "    .dataframe tbody tr th:only-of-type {\n",
       "        vertical-align: middle;\n",
       "    }\n",
       "\n",
       "    .dataframe tbody tr th {\n",
       "        vertical-align: top;\n",
       "    }\n",
       "\n",
       "    .dataframe thead th {\n",
       "        text-align: right;\n",
       "    }\n",
       "</style>\n",
       "<table border=\"1\" class=\"dataframe\">\n",
       "  <thead>\n",
       "    <tr style=\"text-align: right;\">\n",
       "      <th></th>\n",
       "      <th>na_sales</th>\n",
       "    </tr>\n",
       "    <tr>\n",
       "      <th>platform</th>\n",
       "      <th></th>\n",
       "    </tr>\n",
       "  </thead>\n",
       "  <tbody>\n",
       "    <tr>\n",
       "      <th>PS4</th>\n",
       "      <td>108.74</td>\n",
       "    </tr>\n",
       "    <tr>\n",
       "      <th>XOne</th>\n",
       "      <td>93.12</td>\n",
       "    </tr>\n",
       "    <tr>\n",
       "      <th>X360</th>\n",
       "      <td>81.66</td>\n",
       "    </tr>\n",
       "    <tr>\n",
       "      <th>PS3</th>\n",
       "      <td>63.50</td>\n",
       "    </tr>\n",
       "    <tr>\n",
       "      <th>3DS</th>\n",
       "      <td>38.20</td>\n",
       "    </tr>\n",
       "    <tr>\n",
       "      <th>WiiU</th>\n",
       "      <td>29.21</td>\n",
       "    </tr>\n",
       "    <tr>\n",
       "      <th>PC</th>\n",
       "      <td>11.11</td>\n",
       "    </tr>\n",
       "    <tr>\n",
       "      <th>Wii</th>\n",
       "      <td>6.56</td>\n",
       "    </tr>\n",
       "    <tr>\n",
       "      <th>PSV</th>\n",
       "      <td>5.04</td>\n",
       "    </tr>\n",
       "    <tr>\n",
       "      <th>DS</th>\n",
       "      <td>0.57</td>\n",
       "    </tr>\n",
       "    <tr>\n",
       "      <th>PSP</th>\n",
       "      <td>0.00</td>\n",
       "    </tr>\n",
       "  </tbody>\n",
       "</table>\n",
       "</div>"
      ],
      "text/plain": [
       "          na_sales\n",
       "platform          \n",
       "PS4         108.74\n",
       "XOne         93.12\n",
       "X360         81.66\n",
       "PS3          63.50\n",
       "3DS          38.20\n",
       "WiiU         29.21\n",
       "PC           11.11\n",
       "Wii           6.56\n",
       "PSV           5.04\n",
       "DS            0.57\n",
       "PSP           0.00"
      ]
     },
     "metadata": {},
     "output_type": "display_data"
    },
    {
     "data": {
      "text/html": [
       "<div>\n",
       "<style scoped>\n",
       "    .dataframe tbody tr th:only-of-type {\n",
       "        vertical-align: middle;\n",
       "    }\n",
       "\n",
       "    .dataframe tbody tr th {\n",
       "        vertical-align: top;\n",
       "    }\n",
       "\n",
       "    .dataframe thead th {\n",
       "        text-align: right;\n",
       "    }\n",
       "</style>\n",
       "<table border=\"1\" class=\"dataframe\">\n",
       "  <thead>\n",
       "    <tr style=\"text-align: right;\">\n",
       "      <th></th>\n",
       "      <th>na_sales</th>\n",
       "    </tr>\n",
       "    <tr>\n",
       "      <th>genre</th>\n",
       "      <th></th>\n",
       "    </tr>\n",
       "  </thead>\n",
       "  <tbody>\n",
       "    <tr>\n",
       "      <th>Shooter</th>\n",
       "      <td>0.200</td>\n",
       "    </tr>\n",
       "    <tr>\n",
       "      <th>Platform</th>\n",
       "      <td>0.090</td>\n",
       "    </tr>\n",
       "    <tr>\n",
       "      <th>Sports</th>\n",
       "      <td>0.080</td>\n",
       "    </tr>\n",
       "    <tr>\n",
       "      <th>Fighting</th>\n",
       "      <td>0.045</td>\n",
       "    </tr>\n",
       "    <tr>\n",
       "      <th>Racing</th>\n",
       "      <td>0.030</td>\n",
       "    </tr>\n",
       "    <tr>\n",
       "      <th>Action</th>\n",
       "      <td>0.020</td>\n",
       "    </tr>\n",
       "    <tr>\n",
       "      <th>Role-Playing</th>\n",
       "      <td>0.020</td>\n",
       "    </tr>\n",
       "    <tr>\n",
       "      <th>Misc</th>\n",
       "      <td>0.010</td>\n",
       "    </tr>\n",
       "    <tr>\n",
       "      <th>Adventure</th>\n",
       "      <td>0.000</td>\n",
       "    </tr>\n",
       "    <tr>\n",
       "      <th>Puzzle</th>\n",
       "      <td>0.000</td>\n",
       "    </tr>\n",
       "    <tr>\n",
       "      <th>Simulation</th>\n",
       "      <td>0.000</td>\n",
       "    </tr>\n",
       "    <tr>\n",
       "      <th>Strategy</th>\n",
       "      <td>0.000</td>\n",
       "    </tr>\n",
       "  </tbody>\n",
       "</table>\n",
       "</div>"
      ],
      "text/plain": [
       "              na_sales\n",
       "genre                 \n",
       "Shooter          0.200\n",
       "Platform         0.090\n",
       "Sports           0.080\n",
       "Fighting         0.045\n",
       "Racing           0.030\n",
       "Action           0.020\n",
       "Role-Playing     0.020\n",
       "Misc             0.010\n",
       "Adventure        0.000\n",
       "Puzzle           0.000\n",
       "Simulation       0.000\n",
       "Strategy         0.000"
      ]
     },
     "metadata": {},
     "output_type": "display_data"
    }
   ],
   "source": [
    "#создадим функцию для определения пользователя каждого региона (NA, EU, JP)\n",
    "def re(index):\n",
    "    top_plat=data.query('year_of_release >= 2013')\\\n",
    "    .pivot_table(index='platform', values=index, aggfunc='sum')\\\n",
    "    .sort_values(by=index, ascending=False)\n",
    "    display(top_plat)\n",
    "\n",
    "    top_gen=data.query('year_of_release >= 2013')\\\n",
    "    .pivot_table(index='genre', values=index, aggfunc='median')\\\n",
    "    .sort_values(by=index, ascending=False)\n",
    "    display(top_gen)\n",
    "    \n",
    "re('na_sales')"
   ]
  },
  {
   "cell_type": "code",
   "execution_count": 40,
   "metadata": {},
   "outputs": [
    {
     "data": {
      "text/html": [
       "<div>\n",
       "<style scoped>\n",
       "    .dataframe tbody tr th:only-of-type {\n",
       "        vertical-align: middle;\n",
       "    }\n",
       "\n",
       "    .dataframe tbody tr th {\n",
       "        vertical-align: top;\n",
       "    }\n",
       "\n",
       "    .dataframe thead th {\n",
       "        text-align: right;\n",
       "    }\n",
       "</style>\n",
       "<table border=\"1\" class=\"dataframe\">\n",
       "  <thead>\n",
       "    <tr style=\"text-align: right;\">\n",
       "      <th></th>\n",
       "      <th>eu_sales</th>\n",
       "    </tr>\n",
       "    <tr>\n",
       "      <th>platform</th>\n",
       "      <th></th>\n",
       "    </tr>\n",
       "  </thead>\n",
       "  <tbody>\n",
       "    <tr>\n",
       "      <th>PS4</th>\n",
       "      <td>141.09</td>\n",
       "    </tr>\n",
       "    <tr>\n",
       "      <th>PS3</th>\n",
       "      <td>67.81</td>\n",
       "    </tr>\n",
       "    <tr>\n",
       "      <th>XOne</th>\n",
       "      <td>51.59</td>\n",
       "    </tr>\n",
       "    <tr>\n",
       "      <th>X360</th>\n",
       "      <td>42.52</td>\n",
       "    </tr>\n",
       "    <tr>\n",
       "      <th>3DS</th>\n",
       "      <td>30.96</td>\n",
       "    </tr>\n",
       "    <tr>\n",
       "      <th>PC</th>\n",
       "      <td>25.36</td>\n",
       "    </tr>\n",
       "    <tr>\n",
       "      <th>WiiU</th>\n",
       "      <td>19.85</td>\n",
       "    </tr>\n",
       "    <tr>\n",
       "      <th>PSV</th>\n",
       "      <td>6.10</td>\n",
       "    </tr>\n",
       "    <tr>\n",
       "      <th>Wii</th>\n",
       "      <td>5.93</td>\n",
       "    </tr>\n",
       "    <tr>\n",
       "      <th>DS</th>\n",
       "      <td>0.85</td>\n",
       "    </tr>\n",
       "    <tr>\n",
       "      <th>PSP</th>\n",
       "      <td>0.17</td>\n",
       "    </tr>\n",
       "  </tbody>\n",
       "</table>\n",
       "</div>"
      ],
      "text/plain": [
       "          eu_sales\n",
       "platform          \n",
       "PS4         141.09\n",
       "PS3          67.81\n",
       "XOne         51.59\n",
       "X360         42.52\n",
       "3DS          30.96\n",
       "PC           25.36\n",
       "WiiU         19.85\n",
       "PSV           6.10\n",
       "Wii           5.93\n",
       "DS            0.85\n",
       "PSP           0.17"
      ]
     },
     "metadata": {},
     "output_type": "display_data"
    },
    {
     "data": {
      "text/html": [
       "<div>\n",
       "<style scoped>\n",
       "    .dataframe tbody tr th:only-of-type {\n",
       "        vertical-align: middle;\n",
       "    }\n",
       "\n",
       "    .dataframe tbody tr th {\n",
       "        vertical-align: top;\n",
       "    }\n",
       "\n",
       "    .dataframe thead th {\n",
       "        text-align: right;\n",
       "    }\n",
       "</style>\n",
       "<table border=\"1\" class=\"dataframe\">\n",
       "  <thead>\n",
       "    <tr style=\"text-align: right;\">\n",
       "      <th></th>\n",
       "      <th>eu_sales</th>\n",
       "    </tr>\n",
       "    <tr>\n",
       "      <th>genre</th>\n",
       "      <th></th>\n",
       "    </tr>\n",
       "  </thead>\n",
       "  <tbody>\n",
       "    <tr>\n",
       "      <th>Shooter</th>\n",
       "      <td>0.190</td>\n",
       "    </tr>\n",
       "    <tr>\n",
       "      <th>Platform</th>\n",
       "      <td>0.080</td>\n",
       "    </tr>\n",
       "    <tr>\n",
       "      <th>Racing</th>\n",
       "      <td>0.060</td>\n",
       "    </tr>\n",
       "    <tr>\n",
       "      <th>Sports</th>\n",
       "      <td>0.050</td>\n",
       "    </tr>\n",
       "    <tr>\n",
       "      <th>Simulation</th>\n",
       "      <td>0.035</td>\n",
       "    </tr>\n",
       "    <tr>\n",
       "      <th>Strategy</th>\n",
       "      <td>0.025</td>\n",
       "    </tr>\n",
       "    <tr>\n",
       "      <th>Action</th>\n",
       "      <td>0.020</td>\n",
       "    </tr>\n",
       "    <tr>\n",
       "      <th>Fighting</th>\n",
       "      <td>0.020</td>\n",
       "    </tr>\n",
       "    <tr>\n",
       "      <th>Misc</th>\n",
       "      <td>0.010</td>\n",
       "    </tr>\n",
       "    <tr>\n",
       "      <th>Role-Playing</th>\n",
       "      <td>0.010</td>\n",
       "    </tr>\n",
       "    <tr>\n",
       "      <th>Adventure</th>\n",
       "      <td>0.000</td>\n",
       "    </tr>\n",
       "    <tr>\n",
       "      <th>Puzzle</th>\n",
       "      <td>0.000</td>\n",
       "    </tr>\n",
       "  </tbody>\n",
       "</table>\n",
       "</div>"
      ],
      "text/plain": [
       "              eu_sales\n",
       "genre                 \n",
       "Shooter          0.190\n",
       "Platform         0.080\n",
       "Racing           0.060\n",
       "Sports           0.050\n",
       "Simulation       0.035\n",
       "Strategy         0.025\n",
       "Action           0.020\n",
       "Fighting         0.020\n",
       "Misc             0.010\n",
       "Role-Playing     0.010\n",
       "Adventure        0.000\n",
       "Puzzle           0.000"
      ]
     },
     "metadata": {},
     "output_type": "display_data"
    }
   ],
   "source": [
    "re('eu_sales')"
   ]
  },
  {
   "cell_type": "code",
   "execution_count": 41,
   "metadata": {},
   "outputs": [
    {
     "data": {
      "text/html": [
       "<div>\n",
       "<style scoped>\n",
       "    .dataframe tbody tr th:only-of-type {\n",
       "        vertical-align: middle;\n",
       "    }\n",
       "\n",
       "    .dataframe tbody tr th {\n",
       "        vertical-align: top;\n",
       "    }\n",
       "\n",
       "    .dataframe thead th {\n",
       "        text-align: right;\n",
       "    }\n",
       "</style>\n",
       "<table border=\"1\" class=\"dataframe\">\n",
       "  <thead>\n",
       "    <tr style=\"text-align: right;\">\n",
       "      <th></th>\n",
       "      <th>jp_sales</th>\n",
       "    </tr>\n",
       "    <tr>\n",
       "      <th>platform</th>\n",
       "      <th></th>\n",
       "    </tr>\n",
       "  </thead>\n",
       "  <tbody>\n",
       "    <tr>\n",
       "      <th>3DS</th>\n",
       "      <td>67.81</td>\n",
       "    </tr>\n",
       "    <tr>\n",
       "      <th>PS3</th>\n",
       "      <td>23.35</td>\n",
       "    </tr>\n",
       "    <tr>\n",
       "      <th>PSV</th>\n",
       "      <td>18.59</td>\n",
       "    </tr>\n",
       "    <tr>\n",
       "      <th>PS4</th>\n",
       "      <td>15.96</td>\n",
       "    </tr>\n",
       "    <tr>\n",
       "      <th>WiiU</th>\n",
       "      <td>10.88</td>\n",
       "    </tr>\n",
       "    <tr>\n",
       "      <th>PSP</th>\n",
       "      <td>3.29</td>\n",
       "    </tr>\n",
       "    <tr>\n",
       "      <th>X360</th>\n",
       "      <td>0.51</td>\n",
       "    </tr>\n",
       "    <tr>\n",
       "      <th>XOne</th>\n",
       "      <td>0.34</td>\n",
       "    </tr>\n",
       "    <tr>\n",
       "      <th>Wii</th>\n",
       "      <td>0.05</td>\n",
       "    </tr>\n",
       "    <tr>\n",
       "      <th>DS</th>\n",
       "      <td>0.00</td>\n",
       "    </tr>\n",
       "    <tr>\n",
       "      <th>PC</th>\n",
       "      <td>0.00</td>\n",
       "    </tr>\n",
       "  </tbody>\n",
       "</table>\n",
       "</div>"
      ],
      "text/plain": [
       "          jp_sales\n",
       "platform          \n",
       "3DS          67.81\n",
       "PS3          23.35\n",
       "PSV          18.59\n",
       "PS4          15.96\n",
       "WiiU         10.88\n",
       "PSP           3.29\n",
       "X360          0.51\n",
       "XOne          0.34\n",
       "Wii           0.05\n",
       "DS            0.00\n",
       "PC            0.00"
      ]
     },
     "metadata": {},
     "output_type": "display_data"
    },
    {
     "data": {
      "text/html": [
       "<div>\n",
       "<style scoped>\n",
       "    .dataframe tbody tr th:only-of-type {\n",
       "        vertical-align: middle;\n",
       "    }\n",
       "\n",
       "    .dataframe tbody tr th {\n",
       "        vertical-align: top;\n",
       "    }\n",
       "\n",
       "    .dataframe thead th {\n",
       "        text-align: right;\n",
       "    }\n",
       "</style>\n",
       "<table border=\"1\" class=\"dataframe\">\n",
       "  <thead>\n",
       "    <tr style=\"text-align: right;\">\n",
       "      <th></th>\n",
       "      <th>jp_sales</th>\n",
       "    </tr>\n",
       "    <tr>\n",
       "      <th>genre</th>\n",
       "      <th></th>\n",
       "    </tr>\n",
       "  </thead>\n",
       "  <tbody>\n",
       "    <tr>\n",
       "      <th>Role-Playing</th>\n",
       "      <td>0.05</td>\n",
       "    </tr>\n",
       "    <tr>\n",
       "      <th>Fighting</th>\n",
       "      <td>0.03</td>\n",
       "    </tr>\n",
       "    <tr>\n",
       "      <th>Misc</th>\n",
       "      <td>0.02</td>\n",
       "    </tr>\n",
       "    <tr>\n",
       "      <th>Puzzle</th>\n",
       "      <td>0.02</td>\n",
       "    </tr>\n",
       "    <tr>\n",
       "      <th>Action</th>\n",
       "      <td>0.01</td>\n",
       "    </tr>\n",
       "    <tr>\n",
       "      <th>Adventure</th>\n",
       "      <td>0.01</td>\n",
       "    </tr>\n",
       "    <tr>\n",
       "      <th>Platform</th>\n",
       "      <td>0.00</td>\n",
       "    </tr>\n",
       "    <tr>\n",
       "      <th>Racing</th>\n",
       "      <td>0.00</td>\n",
       "    </tr>\n",
       "    <tr>\n",
       "      <th>Shooter</th>\n",
       "      <td>0.00</td>\n",
       "    </tr>\n",
       "    <tr>\n",
       "      <th>Simulation</th>\n",
       "      <td>0.00</td>\n",
       "    </tr>\n",
       "    <tr>\n",
       "      <th>Sports</th>\n",
       "      <td>0.00</td>\n",
       "    </tr>\n",
       "    <tr>\n",
       "      <th>Strategy</th>\n",
       "      <td>0.00</td>\n",
       "    </tr>\n",
       "  </tbody>\n",
       "</table>\n",
       "</div>"
      ],
      "text/plain": [
       "              jp_sales\n",
       "genre                 \n",
       "Role-Playing      0.05\n",
       "Fighting          0.03\n",
       "Misc              0.02\n",
       "Puzzle            0.02\n",
       "Action            0.01\n",
       "Adventure         0.01\n",
       "Platform          0.00\n",
       "Racing            0.00\n",
       "Shooter           0.00\n",
       "Simulation        0.00\n",
       "Sports            0.00\n",
       "Strategy          0.00"
      ]
     },
     "metadata": {},
     "output_type": "display_data"
    }
   ],
   "source": [
    "re('jp_sales')"
   ]
  },
  {
   "cell_type": "code",
   "execution_count": 42,
   "metadata": {},
   "outputs": [
    {
     "data": {
      "image/png": "[encoded data removed]",
      "text/plain": [
       "<Figure size 720x720 with 1 Axes>"
      ]
     },
     "metadata": {},
     "output_type": "display_data"
    }
   ],
   "source": [
    "#создадим функцию для наглядности в долевом соотношение\n",
    "def pi(index):\n",
    "    top_pla=data.query('year_of_release >= 2013')\\\n",
    "    .pivot_table(index='platform', values=index, aggfunc='sum')\\\n",
    "    .sort_values(by=index, ascending=False)\\\n",
    "    .head(5)\\\n",
    "    .plot(kind='pie', subplots=True,autopct='%.0f%%', fontsize=13 ,figsize=(10,10))\n",
    "\n",
    "pi('na_sales')\n",
    "plt.title(\"Топ-5 платформ - Северная Америка\")\n",
    "plt.show()"
   ]
  },
  {
   "cell_type": "code",
   "execution_count": 43,
   "metadata": {},
   "outputs": [
    {
     "data": {
      "image/png": "[encoded data removed]",
      "text/plain": [
       "<Figure size 720x720 with 1 Axes>"
      ]
     },
     "metadata": {},
     "output_type": "display_data"
    }
   ],
   "source": [
    "pi('eu_sales')\n",
    "plt.title(\"Топ-5 платформ - Европа\")\n",
    "plt.show()"
   ]
  },
  {
   "cell_type": "code",
   "execution_count": 44,
   "metadata": {},
   "outputs": [
    {
     "data": {
      "image/png": "[encoded data removed]",
      "text/plain": [
       "<Figure size 720x720 with 1 Axes>"
      ]
     },
     "metadata": {},
     "output_type": "display_data"
    }
   ],
   "source": [
    "pi('jp_sales')\n",
    "plt.title(\"Топ-5 платформ - Япония\")\n",
    "plt.show()"
   ]
  },
  {
   "cell_type": "code",
   "execution_count": 45,
   "metadata": {},
   "outputs": [
    {
     "data": {
      "image/png": "[encoded data removed]",
      "text/plain": [
       "<Figure size 1080x360 with 1 Axes>"
      ]
     },
     "metadata": {
      "needs_background": "light"
     },
     "output_type": "display_data"
    }
   ],
   "source": [
    "#Продажи в зависимости от рейтинга в различных регионах\n",
    "data_actual.pivot_table(index='rating', values=['na_sales', 'eu_sales', 'jp_sales'], aggfunc='sum')\\\n",
    "    .sort_values(by='na_sales')\\\n",
    "    .plot(kind='bar',fontsize=13, figsize=(15, 5))\n",
    "\n",
    "plt.xlabel('Рейтинг ESRB')\n",
    "plt.ylabel('Количество проданных копий, млн')\n",
    "plt.title('Продажи в зависимости от рейтинга в различных регионах')\n",
    "plt.show()"
   ]
  },
  {
   "cell_type": "markdown",
   "metadata": {},
   "source": [
    "<div style=\"border:solid green 2px; padding: 20px\">\n",
    "<b>Вывод</b>\n",
    "    \n",
    "В Европе и Северной Америке топ-5 плаформ состоит из одинаковых консолей, хотя и в разном порядке - XBox 360, XOne, 3DS, PlayStation 3 и PlayStation 4. И там, и там относительно свежая PlayStation4 уже набрала популярность. В Японии Xbox 360 даже не вошла в топ, лидер - мобильная консоль Nintendo, дело в патриотических предпочтениях - Nintendo и Sony японские корпорации.\n",
    "\n",
    "Европейский и североамериканский регион же во многом схожи друг с другом. Их ТОП жанров почти идентичен - Action, Shooter, Sports,Role-Playing. Разница лишь в том, что в Америке интерес вызывает разнообразный жанр-Misc, а в Европе- Racing.\n",
    "На удивлиение Япония не так далеко ушла в игровых предпочтения: Role-Playing, Action, Misc, Fighting и Shooter.\n",
    "Единогласное мнение во всех изучаемых регионах, заключается в том, что жанр Puzzle максимально не популярен.\n",
    "\n",
    "ЕSRB была образована американской ассоциацией производителей компьютерных игр и ПО в 1994 году, чему предшествовали активные судебные дебаты с участием сенатора Джо Либермана, знаменитого борца с виртуальным насилием. Интересно, что для многопользовательских сетевых игр, где содержимое может модифицироваться пользователями, есть собственное уникальное предупреждение, что «игровой опыт может меняться в процессе игры онлайн».Однако если немного изучить результаты деятельности той же ESRB, то можно приметить подозрительно малое количество игр с рейтингом Adults Only, который подразумевает ограничение по возрасту 18+. За всю историю существования американской рейтинговой комиссии «AO» за насилие получили лишь две игры — старенький файтинг Thrill Kill и откровенно человеконенавистнический инди top-down шутер Hatred. Все прочие игры для взрослых ESRB оценивали на другой рейтинг для взрослых — Mature 17+. Топ самых продаваемых категорий в Америке и Европе совпадает. Больше всего продаются игры с рейтингом \"для взрослых (старше 16 лет)\". Следом идут игры для всех - игры, которые имеют самую широкую аудиторию, могут быть интересны как детям, так и взрослым, затем игры для школьников и подростков. А в Японии наоборот, игры для взрослых имеют меньшую популярность, скорей всего их просто не пропускает цензура. "
   ]
  },
  {
   "cell_type": "markdown",
   "metadata": {},
   "source": [
    "### Проверка гипотез"
   ]
  },
  {
   "cell_type": "markdown",
   "metadata": {},
   "source": [
    "*1 Гипотеза о средних пользовательских рейтингах платформ Xbox One и PC*\n",
    "- H0 - cредние пользовательские рейтинги платформ Xbox One и PC одинаковые\n",
    "- H1 - cредние пользовательские рейтинги платформ Xbox One и PC разные\n",
    "\n",
    "Классический подход к проверке статистической значимости требует, чтобы мы устанавливали уровень значимости до того, как обратимся к нашим данным. Часто выбирается уровень в 5%, и поэтому мы на нем и остановимся.\n",
    "критический уровень поставим  alpha = 0.05"
   ]
  },
  {
   "cell_type": "code",
   "execution_count": 46,
   "metadata": {
    "scrolled": true
   },
   "outputs": [
    {
     "name": "stdout",
     "output_type": "stream",
     "text": [
      "p-значение: 0.14012658403611647\n",
      "Не получилось отвергнуть нулевую гипотезу\n"
     ]
    }
   ],
   "source": [
    "from scipy import stats as st\n",
    "alpha = 0.05  # критический уровень статистической значимости\n",
    "results = st.ttest_ind(\n",
    "    data_actual[(data_actual.platform == \"XOne\") & (data_actual.user_score.notna())]['user_score'], \n",
    "    data_actual[(data_actual.platform == \"PC\") & (data_actual.user_score.notna())]['user_score']\n",
    ")\n",
    "\n",
    "print('p-значение:', results.pvalue)\n",
    "\n",
    "if results.pvalue < alpha:\n",
    "    print('Отвергаем нулевую гипотезу')\n",
    "else:\n",
    "    print('Не получилось отвергнуть нулевую гипотезу') "
   ]
  },
  {
   "cell_type": "code",
   "execution_count": 47,
   "metadata": {
    "scrolled": false
   },
   "outputs": [
    {
     "data": {
      "image/png": "[encoded data removed]",
      "text/plain": [
       "<Figure size 864x576 with 1 Axes>"
      ]
     },
     "metadata": {
      "needs_background": "light"
     },
     "output_type": "display_data"
    }
   ],
   "source": [
    "#посмотрим результат на графике\n",
    "data_actual[(data_actual.platform == \"XOne\") & (data_actual.user_score.notna())]['user_score'].hist(bins=35, alpha=0.5, figsize=(12, 8), color='green')\n",
    "data_actual[(data_actual.platform == \"PC\") & (data_actual.user_score.notna())]['user_score'].hist(bins=35, alpha=0.5, figsize=(12, 8), color='blue');\n",
    "plt.xlabel('Оценка пользователей')\n",
    "plt.ylabel('Плотность вероятности')\n",
    "plt.title('Гипотеза о средних пользовательских рейтингах платформ Xbox One и PC')\n",
    "plt.show()"
   ]
  },
  {
   "cell_type": "markdown",
   "metadata": {},
   "source": [
    "*2 Гипотеза о средних пользовательских рейтингах жанров Action и Sports*\n",
    "- H0 - cредние пользовательские рейтинги жанров Action и Sports одинаковые\n",
    "- H1 - cредние пользовательские рейтинги жанров Action и Sports разные\n",
    "\n",
    "Классический подход к проверке статистической значимости требует, чтобы мы устанавливали уровень значимости до того, как обратимся к нашим данным. Часто выбирается уровень в 5%, и поэтому мы на нем и остановимся.\n",
    "критический уровень поставим  alpha = 0.05"
   ]
  },
  {
   "cell_type": "code",
   "execution_count": 48,
   "metadata": {},
   "outputs": [
    {
     "name": "stdout",
     "output_type": "stream",
     "text": [
      "p-значение: 1.0517832389140023e-27\n",
      "Отвергаем нулевую гипотезу\n"
     ]
    }
   ],
   "source": [
    "alpha = 0.05  # критический уровень статистической значимости\n",
    "results = st.ttest_ind(\n",
    "    data_actual[(data_actual.genre == \"Action\") & (data_actual.user_score.notna())]['user_score'], \n",
    "    data_actual[(data_actual.genre == \"Sports\") & (data_actual.user_score.notna())]['user_score']\n",
    ")\n",
    "\n",
    "print('p-значение:', results.pvalue)\n",
    "\n",
    "if results.pvalue < alpha:\n",
    "    print('Отвергаем нулевую гипотезу')\n",
    "else:\n",
    "    print('Не получилось отвергнуть нулевую гипотезу') "
   ]
  },
  {
   "cell_type": "code",
   "execution_count": 49,
   "metadata": {},
   "outputs": [
    {
     "data": {
      "image/png": "[encoded data removed]",
      "text/plain": [
       "<Figure size 864x576 with 1 Axes>"
      ]
     },
     "metadata": {
      "needs_background": "light"
     },
     "output_type": "display_data"
    }
   ],
   "source": [
    "data_actual[(data_actual.genre == \"Action\") & (data_actual.user_score.notna())]['user_score'].hist(bins=35, alpha=0.5, figsize=(12, 8), color='green')\n",
    "data_actual[(data_actual.genre == \"Sports\") & (data_actual.user_score.notna())]['user_score'].hist(bins=35, alpha=0.5, figsize=(12, 8), color='blue');\n",
    "plt.xlabel('Оценка пользователей')\n",
    "plt.ylabel('Плотность вероятности')\n",
    "plt.title('Гипотеза о средних пользовательских рейтингах жанров Action и Sports')\n",
    "plt.show()"
   ]
  },
  {
   "cell_type": "markdown",
   "metadata": {},
   "source": [
    "<div style=\"border:solid green 2px; padding: 20px\">\n",
    "<b>Вывод</b>\n",
    "    \n",
    "Нулевая гипотеза – это основное проверяемое предположение, которое обычно формулируется как отсутствие различий, отсутствие влияние фактора, отсутствие эффекта, равенство нулю значений выборочных характеристик и т.п. Поэтому будем считать, что в нашем случае нулевая гипотеза - cредние пользовательские рейтинги платформ Xbox One и PC одинаковые. Альтернативная гипотеза (H1) — в нашем исследовании будет утверждение, являющееся логическим отрицанием нулевой гипотезы - cредние пользовательские рейтинги платформ Xbox One и PC разные. Хотя получившееся p-value не столь велико, вероятность получить такие значения статистически мала. Оценки пользователей на этих платформах не отличаются.\n",
    "\n",
    "Для того, чтобы принять решение о выдвинутых гипотезах, необходимо было сделать срез, т.к имелись пропуски, которые приводили бы значение p-value - nan, поэтому мы использовали st.ttest_ind.\n",
    "\n",
    "Что касаемо средних пользовательских рейтингах жанров Action и Sports, Так как принятый критический уровень вероятности 5%, гипотезу следует отвергнуть как маловероятную. "
   ]
  },
  {
   "cell_type": "markdown",
   "metadata": {},
   "source": [
    "### Общий вывод"
   ]
  },
  {
   "cell_type": "markdown",
   "metadata": {},
   "source": [
    "<div style=\"border:solid green 2px; padding: 20px\">\n",
    "\n",
    "Цель исследования — выявить определяющие успешность игры закономерности. Для этого обработаем и исследуем имеющиеся данные, составим портрет пользователя каждого региона ((NA, EU, JP)) и проверим гипотезы:средние пользовательские рейтинги платформ Xbox One и PC одинаковые; Средние пользовательские рейтинги жанров Action (англ. «действие», экшен-игры) и Sports (англ. «спортивные соревнования») разные. В дальнейшем это поможет сделать ставку на потенциально популярный продукт и спланировать рекламные кампании на 2017 год.\n",
    "\n",
    "Для начала была проанализирована исходная таблица в размере 16715 строк в 11 столбцах. В ходе предобработке были обнаружены пропуски в столбцах:year_of_release -269, critic_score-8578, user_score-6701, rating-6766. Проопуски в столбце года релиза, не смотря на их небольшое количество, удалять не стали. Также в этом столбце поменяли тип на целочисленное значение. Некоторые значения столбца user_score имеют строковые значения tbd.эта аббревиатура может быть использована и в случае с уже вышедшей игрой. Дело в том, что во многих случаях игра - это лишь база, основа для дальнейших дополнений. Поэтому в данной ситуации заменить на значение не определено, для того чтобы привести столбец к вещественному типу. В данной датафрейм сущетсвуют пропуски в столбцах оценки от критиков и пользователей. Считать среднее или медиану в таком случае не верно, т.к математическим путем получится, что у игры станет средняя оценка критиков 69, у пользователей 7, а на самом деле игра является не такой. Следовательно в данном случае целесообразно просто не трогать эти пропуски, т.к корректной замены они не имеют. В столбце Rating есть пропуски, их также нельзя заменить средним или медианной, так что учтем важность этих пропусков и просто заменим их на пропуски заменим на 'Unknown'.\n",
    "\n",
    "В данном исследовании у нас нет подробных данных об объемах продаж каждой игры по годам - будем считать, что основные продажи приходятся на год выхода. В большинстве своем действительно шикарных игр выпускается очень малое количество, в основном они все схожи между собой, что-то новое все сложнее придумать, поэтому заметен резкий спад после 2012 года. Что касается платформ, то в среднем продолжительность жизни платформы состовляет 7.6 лет. К 2016 году PlayStation 4, WiiU, XBox One находятся на подъеме, Nintendo 3DS, XBox 360, PlayStation 3 и PlayStation Vita миновали пик популярности, причем PlayStation Vita на протяжении всей жизни не пользовалась большой популярностью. Для прогнозирования будущих продаж следует пользоваться данными за последние несколько лет год. Современные технологии развиваются быстро, что способствует заданию новых трендов в игровой индустрии - что было популярно еще год назад не обязательно будет популярно в ближайшее время. Продажи игр сильнее коррелируют с оценкой критиков, чем с оценками пользователей. При этом оценки пользователкй зависят не от платформы, а от жанра.\n",
    "\n",
    "Региональные отличия сильнее заметны в выборе пользователями игровых платформ, в долевом соотношение в Северной америке лидирует PlayStation 4 -28% и XBox One - 24%; в Европе это PlayStation 4 - 42% и PlayStation 3 - 20%; в Японии Nintendo 3DS-50%.\n",
    "А вот выбор жанр схож в : Shooter, Platform, Sports. а у Японцев лидирует Role-Playing.\n",
    "При составление портрета пльзователя таких регионов, как Северная Америка, Европа и Япония, то стоит опиратся на пользователей европейского и североамериканского региона: лучше всего будут продаваться игры жанра Shooter и Action на платформе Playstation 4. Все таки азиатская страна достаточно сильно отличается от нас. что касаемо возрастного рейтинга, то для Северной Америки и Европы больше всего продаются игры с рейтингом \"для взрослых (старше 16 лет)\".А в Японии наоборот, игры для взрослых имеют меньшую популярность, скорей всего их просто не пропускает цензура. Единогласно не взызскали признания игры в жанре Puzzle.\n",
    "\n",
    "При проверке статистических гипотез удалость выяснить следующие факты:\n",
    "\n",
    "- Средние пользовательские оценки платформ Xbox One и PC не различаются.\n",
    "- Cредние пользовательские оценки жанров Action и Sports различаются. \n",
    "\n",
    "Оценки пользователей не зависят от платформ, но зависят от жанров игр. На основании принятого нами значения критического уровня статистической значимости 5% мы можем предполагать, что первая гипотеза верна, а вторая нет.\n",
    "\n",
    "Рекомендации:\n",
    "Для того чтобы спланировать рекламные компании, следует сделать ставку на игры предназанченые для PlayStation 4 и XBox One, в плане жанровой категории лучже выбрать Shooter, Sports и Role-Playing. "
   ]
  },
  {
   "cell_type": "code",
   "execution_count": null,
   "metadata": {},
   "outputs": [],
   "source": []
  },
  {
   "cell_type": "code",
   "execution_count": null,
   "metadata": {},
   "outputs": [],
   "source": []
  }
 ],
 "metadata": {
  "ExecuteTimeLog": [
   {
    "duration": 1267,
    "start_time": "2023-03-13T08:34:44.804Z"
   },
   {
    "duration": 105,
    "start_time": "2023-03-13T08:35:29.935Z"
   },
   {
    "duration": 19,
    "start_time": "2023-03-13T08:35:47.972Z"
   },
   {
    "duration": 14,
    "start_time": "2023-03-13T08:37:30.065Z"
   },
   {
    "duration": 12,
    "start_time": "2023-03-13T08:40:39.521Z"
   },
   {
    "duration": 27,
    "start_time": "2023-03-13T08:46:30.698Z"
   },
   {
    "duration": 3,
    "start_time": "2023-03-13T08:59:02.678Z"
   },
   {
    "duration": 2,
    "start_time": "2023-03-13T09:02:22.173Z"
   },
   {
    "duration": 12,
    "start_time": "2023-03-13T09:02:54.925Z"
   },
   {
    "duration": 4,
    "start_time": "2023-03-13T09:11:27.270Z"
   },
   {
    "duration": 111,
    "start_time": "2023-03-13T09:13:32.064Z"
   },
   {
    "duration": 8,
    "start_time": "2023-03-13T09:14:41.903Z"
   },
   {
    "duration": 3,
    "start_time": "2023-03-13T09:15:08.362Z"
   },
   {
    "duration": 12,
    "start_time": "2023-03-13T09:15:16.348Z"
   },
   {
    "duration": 17,
    "start_time": "2023-03-13T09:15:22.538Z"
   },
   {
    "duration": 6,
    "start_time": "2023-03-13T09:15:26.148Z"
   },
   {
    "duration": 19,
    "start_time": "2023-03-13T09:18:22.082Z"
   },
   {
    "duration": 33,
    "start_time": "2023-03-13T14:32:52.049Z"
   },
   {
    "duration": 14,
    "start_time": "2023-03-13T14:47:59.862Z"
   },
   {
    "duration": 4,
    "start_time": "2023-03-13T15:49:56.244Z"
   },
   {
    "duration": 11,
    "start_time": "2023-03-13T15:50:12.191Z"
   },
   {
    "duration": 8,
    "start_time": "2023-03-13T15:50:56.904Z"
   },
   {
    "duration": 3,
    "start_time": "2023-03-13T16:02:31.929Z"
   },
   {
    "duration": 22,
    "start_time": "2023-03-13T16:33:00.713Z"
   },
   {
    "duration": 13,
    "start_time": "2023-03-13T18:01:01.015Z"
   },
   {
    "duration": 2139,
    "start_time": "2023-03-13T18:02:04.221Z"
   },
   {
    "duration": 138,
    "start_time": "2023-03-13T18:04:52.917Z"
   },
   {
    "duration": 5,
    "start_time": "2023-03-13T18:06:38.831Z"
   },
   {
    "duration": 1060,
    "start_time": "2023-03-13T18:14:16.243Z"
   },
   {
    "duration": 50,
    "start_time": "2023-03-13T18:14:17.305Z"
   },
   {
    "duration": 20,
    "start_time": "2023-03-13T18:14:17.356Z"
   },
   {
    "duration": 13,
    "start_time": "2023-03-13T18:14:17.378Z"
   },
   {
    "duration": 17,
    "start_time": "2023-03-13T18:14:17.393Z"
   },
   {
    "duration": 2,
    "start_time": "2023-03-13T18:14:17.411Z"
   },
   {
    "duration": 12,
    "start_time": "2023-03-13T18:14:17.415Z"
   },
   {
    "duration": 14,
    "start_time": "2023-03-13T18:14:17.428Z"
   },
   {
    "duration": 4,
    "start_time": "2023-03-13T18:14:17.444Z"
   },
   {
    "duration": 29,
    "start_time": "2023-03-13T18:14:17.450Z"
   },
   {
    "duration": 19,
    "start_time": "2023-03-13T18:14:17.481Z"
   },
   {
    "duration": 32,
    "start_time": "2023-03-13T18:14:17.502Z"
   },
   {
    "duration": 12,
    "start_time": "2023-03-13T18:14:17.536Z"
   },
   {
    "duration": 30,
    "start_time": "2023-03-13T18:14:17.550Z"
   },
   {
    "duration": 5,
    "start_time": "2023-03-13T18:14:17.582Z"
   },
   {
    "duration": 10,
    "start_time": "2023-03-13T18:14:17.589Z"
   },
   {
    "duration": 95,
    "start_time": "2023-03-13T18:51:56.869Z"
   },
   {
    "duration": 250,
    "start_time": "2023-03-13T18:59:25.712Z"
   },
   {
    "duration": 23,
    "start_time": "2023-03-13T19:05:58.713Z"
   },
   {
    "duration": 14,
    "start_time": "2023-03-13T19:06:50.318Z"
   },
   {
    "duration": 13,
    "start_time": "2023-03-13T19:07:22.218Z"
   },
   {
    "duration": 13,
    "start_time": "2023-03-13T19:07:24.807Z"
   },
   {
    "duration": 23,
    "start_time": "2023-03-13T19:09:01.362Z"
   },
   {
    "duration": 281,
    "start_time": "2023-03-13T19:09:23.041Z"
   },
   {
    "duration": 267,
    "start_time": "2023-03-13T19:10:29.674Z"
   },
   {
    "duration": 7,
    "start_time": "2023-03-13T19:13:48.510Z"
   },
   {
    "duration": 8,
    "start_time": "2023-03-13T19:13:55.496Z"
   },
   {
    "duration": 1024,
    "start_time": "2023-03-13T19:14:12.017Z"
   },
   {
    "duration": 53,
    "start_time": "2023-03-13T19:14:13.043Z"
   },
   {
    "duration": 21,
    "start_time": "2023-03-13T19:14:13.097Z"
   },
   {
    "duration": 12,
    "start_time": "2023-03-13T19:14:13.119Z"
   },
   {
    "duration": 12,
    "start_time": "2023-03-13T19:14:13.132Z"
   },
   {
    "duration": 2,
    "start_time": "2023-03-13T19:14:13.146Z"
   },
   {
    "duration": 30,
    "start_time": "2023-03-13T19:14:13.150Z"
   },
   {
    "duration": 15,
    "start_time": "2023-03-13T19:14:13.181Z"
   },
   {
    "duration": 5,
    "start_time": "2023-03-13T19:14:13.198Z"
   },
   {
    "duration": 4,
    "start_time": "2023-03-13T19:14:13.204Z"
   },
   {
    "duration": 19,
    "start_time": "2023-03-13T19:14:13.209Z"
   },
   {
    "duration": 6,
    "start_time": "2023-03-13T19:14:13.230Z"
   },
   {
    "duration": 57,
    "start_time": "2023-03-13T19:14:13.238Z"
   },
   {
    "duration": 9,
    "start_time": "2023-03-13T19:14:13.297Z"
   },
   {
    "duration": 3,
    "start_time": "2023-03-13T19:14:13.308Z"
   },
   {
    "duration": 16,
    "start_time": "2023-03-13T19:14:13.312Z"
   },
   {
    "duration": 5,
    "start_time": "2023-03-13T19:14:13.329Z"
   },
   {
    "duration": 244,
    "start_time": "2023-03-13T19:14:13.336Z"
   },
   {
    "duration": 11,
    "start_time": "2023-03-13T19:38:25.273Z"
   },
   {
    "duration": 18,
    "start_time": "2023-03-13T19:39:49.790Z"
   },
   {
    "duration": 111,
    "start_time": "2023-03-13T19:40:46.910Z"
   },
   {
    "duration": 18,
    "start_time": "2023-03-13T19:41:08.136Z"
   },
   {
    "duration": 20,
    "start_time": "2023-03-13T19:41:25.760Z"
   },
   {
    "duration": 9,
    "start_time": "2023-03-13T19:47:04.920Z"
   },
   {
    "duration": 14,
    "start_time": "2023-03-13T19:47:15.322Z"
   },
   {
    "duration": 10,
    "start_time": "2023-03-13T19:56:43.654Z"
   },
   {
    "duration": 17,
    "start_time": "2023-03-13T19:57:02.128Z"
   },
   {
    "duration": 14,
    "start_time": "2023-03-13T20:02:59.214Z"
   },
   {
    "duration": 12,
    "start_time": "2023-03-13T20:03:05.174Z"
   },
   {
    "duration": 251,
    "start_time": "2023-03-13T20:04:04.039Z"
   },
   {
    "duration": 158,
    "start_time": "2023-03-13T20:15:04.309Z"
   },
   {
    "duration": 19,
    "start_time": "2023-03-13T20:27:26.341Z"
   },
   {
    "duration": 17,
    "start_time": "2023-03-13T20:28:14.313Z"
   },
   {
    "duration": 19,
    "start_time": "2023-03-13T20:28:57.549Z"
   },
   {
    "duration": 11,
    "start_time": "2023-03-13T20:32:10.125Z"
   },
   {
    "duration": 11,
    "start_time": "2023-03-13T20:32:54.884Z"
   },
   {
    "duration": 14,
    "start_time": "2023-03-13T20:33:07.586Z"
   },
   {
    "duration": 43,
    "start_time": "2023-03-14T07:41:58.527Z"
   },
   {
    "duration": 1180,
    "start_time": "2023-03-14T07:42:07.168Z"
   },
   {
    "duration": 110,
    "start_time": "2023-03-14T07:42:08.350Z"
   },
   {
    "duration": 21,
    "start_time": "2023-03-14T07:42:08.462Z"
   },
   {
    "duration": 12,
    "start_time": "2023-03-14T07:42:08.485Z"
   },
   {
    "duration": 16,
    "start_time": "2023-03-14T07:42:08.499Z"
   },
   {
    "duration": 3,
    "start_time": "2023-03-14T07:42:08.517Z"
   },
   {
    "duration": 13,
    "start_time": "2023-03-14T07:42:08.521Z"
   },
   {
    "duration": 16,
    "start_time": "2023-03-14T07:42:08.536Z"
   },
   {
    "duration": 4,
    "start_time": "2023-03-14T07:42:08.579Z"
   },
   {
    "duration": 10,
    "start_time": "2023-03-14T07:42:08.586Z"
   },
   {
    "duration": 21,
    "start_time": "2023-03-14T07:42:08.598Z"
   },
   {
    "duration": 7,
    "start_time": "2023-03-14T07:42:08.620Z"
   },
   {
    "duration": 31,
    "start_time": "2023-03-14T07:42:08.628Z"
   },
   {
    "duration": 27,
    "start_time": "2023-03-14T07:42:08.660Z"
   },
   {
    "duration": 13,
    "start_time": "2023-03-14T07:42:08.689Z"
   },
   {
    "duration": 10,
    "start_time": "2023-03-14T07:42:08.703Z"
   },
   {
    "duration": 8,
    "start_time": "2023-03-14T07:42:08.714Z"
   },
   {
    "duration": 236,
    "start_time": "2023-03-14T07:42:08.723Z"
   },
   {
    "duration": 18,
    "start_time": "2023-03-14T07:42:08.961Z"
   },
   {
    "duration": 3,
    "start_time": "2023-03-14T07:42:08.980Z"
   },
   {
    "duration": 62,
    "start_time": "2023-03-14T07:42:08.984Z"
   },
   {
    "duration": 0,
    "start_time": "2023-03-14T07:42:09.047Z"
   },
   {
    "duration": 0,
    "start_time": "2023-03-14T07:42:09.048Z"
   },
   {
    "duration": 0,
    "start_time": "2023-03-14T07:42:09.049Z"
   },
   {
    "duration": 1047,
    "start_time": "2023-03-14T07:42:40.181Z"
   },
   {
    "duration": 48,
    "start_time": "2023-03-14T07:42:41.229Z"
   },
   {
    "duration": 27,
    "start_time": "2023-03-14T07:42:41.278Z"
   },
   {
    "duration": 11,
    "start_time": "2023-03-14T07:42:41.307Z"
   },
   {
    "duration": 13,
    "start_time": "2023-03-14T07:42:41.320Z"
   },
   {
    "duration": 2,
    "start_time": "2023-03-14T07:42:41.334Z"
   },
   {
    "duration": 12,
    "start_time": "2023-03-14T07:42:41.338Z"
   },
   {
    "duration": 34,
    "start_time": "2023-03-14T07:42:41.352Z"
   },
   {
    "duration": 5,
    "start_time": "2023-03-14T07:42:41.388Z"
   },
   {
    "duration": 6,
    "start_time": "2023-03-14T07:42:41.395Z"
   },
   {
    "duration": 20,
    "start_time": "2023-03-14T07:42:41.402Z"
   },
   {
    "duration": 8,
    "start_time": "2023-03-14T07:42:41.423Z"
   },
   {
    "duration": 51,
    "start_time": "2023-03-14T07:42:41.432Z"
   },
   {
    "duration": 10,
    "start_time": "2023-03-14T07:42:41.485Z"
   },
   {
    "duration": 6,
    "start_time": "2023-03-14T07:42:41.496Z"
   },
   {
    "duration": 19,
    "start_time": "2023-03-14T07:42:41.504Z"
   },
   {
    "duration": 10,
    "start_time": "2023-03-14T07:42:41.524Z"
   },
   {
    "duration": 250,
    "start_time": "2023-03-14T07:42:41.536Z"
   },
   {
    "duration": 10,
    "start_time": "2023-03-14T07:42:41.788Z"
   },
   {
    "duration": 18,
    "start_time": "2023-03-14T07:42:41.799Z"
   },
   {
    "duration": 12,
    "start_time": "2023-03-14T07:42:41.818Z"
   },
   {
    "duration": 27,
    "start_time": "2023-03-14T07:42:41.831Z"
   },
   {
    "duration": 91,
    "start_time": "2023-03-14T07:42:41.859Z"
   },
   {
    "duration": 0,
    "start_time": "2023-03-14T07:42:41.951Z"
   },
   {
    "duration": 1082,
    "start_time": "2023-03-14T07:42:54.063Z"
   },
   {
    "duration": 48,
    "start_time": "2023-03-14T07:42:55.147Z"
   },
   {
    "duration": 20,
    "start_time": "2023-03-14T07:42:55.196Z"
   },
   {
    "duration": 11,
    "start_time": "2023-03-14T07:42:55.217Z"
   },
   {
    "duration": 14,
    "start_time": "2023-03-14T07:42:55.230Z"
   },
   {
    "duration": 3,
    "start_time": "2023-03-14T07:42:55.245Z"
   },
   {
    "duration": 32,
    "start_time": "2023-03-14T07:42:55.250Z"
   },
   {
    "duration": 15,
    "start_time": "2023-03-14T07:42:55.283Z"
   },
   {
    "duration": 19,
    "start_time": "2023-03-14T07:42:55.299Z"
   },
   {
    "duration": 12,
    "start_time": "2023-03-14T07:42:55.319Z"
   },
   {
    "duration": 25,
    "start_time": "2023-03-14T07:42:55.333Z"
   },
   {
    "duration": 6,
    "start_time": "2023-03-14T07:42:55.360Z"
   },
   {
    "duration": 32,
    "start_time": "2023-03-14T07:42:55.368Z"
   },
   {
    "duration": 8,
    "start_time": "2023-03-14T07:42:55.403Z"
   },
   {
    "duration": 3,
    "start_time": "2023-03-14T07:42:55.413Z"
   },
   {
    "duration": 16,
    "start_time": "2023-03-14T07:42:55.417Z"
   },
   {
    "duration": 11,
    "start_time": "2023-03-14T07:42:55.434Z"
   },
   {
    "duration": 241,
    "start_time": "2023-03-14T07:42:55.447Z"
   },
   {
    "duration": 10,
    "start_time": "2023-03-14T07:42:55.689Z"
   },
   {
    "duration": 3,
    "start_time": "2023-03-14T07:42:55.701Z"
   },
   {
    "duration": 5,
    "start_time": "2023-03-14T07:42:55.705Z"
   },
   {
    "duration": 15,
    "start_time": "2023-03-14T07:42:55.711Z"
   },
   {
    "duration": 19,
    "start_time": "2023-03-14T07:42:55.727Z"
   },
   {
    "duration": 98,
    "start_time": "2023-03-14T07:42:55.747Z"
   },
   {
    "duration": 12,
    "start_time": "2023-03-14T07:43:42.425Z"
   },
   {
    "duration": 108,
    "start_time": "2023-03-14T07:44:31.600Z"
   },
   {
    "duration": 17,
    "start_time": "2023-03-14T07:45:13.178Z"
   },
   {
    "duration": 1225,
    "start_time": "2023-03-14T07:51:59.711Z"
   },
   {
    "duration": 75,
    "start_time": "2023-03-14T08:01:44.006Z"
   },
   {
    "duration": 162,
    "start_time": "2023-03-14T08:02:34.142Z"
   },
   {
    "duration": 76,
    "start_time": "2023-03-14T08:09:03.979Z"
   },
   {
    "duration": 35,
    "start_time": "2023-03-14T08:09:42.300Z"
   },
   {
    "duration": 7,
    "start_time": "2023-03-14T08:27:46.496Z"
   },
   {
    "duration": 1074,
    "start_time": "2023-03-14T08:28:50.855Z"
   },
   {
    "duration": 48,
    "start_time": "2023-03-14T08:28:51.931Z"
   },
   {
    "duration": 20,
    "start_time": "2023-03-14T08:28:51.980Z"
   },
   {
    "duration": 12,
    "start_time": "2023-03-14T08:28:52.002Z"
   },
   {
    "duration": 13,
    "start_time": "2023-03-14T08:28:52.015Z"
   },
   {
    "duration": 3,
    "start_time": "2023-03-14T08:28:52.029Z"
   },
   {
    "duration": 11,
    "start_time": "2023-03-14T08:28:52.033Z"
   },
   {
    "duration": 8,
    "start_time": "2023-03-14T08:28:52.045Z"
   },
   {
    "duration": 34,
    "start_time": "2023-03-14T08:28:52.054Z"
   },
   {
    "duration": 19,
    "start_time": "2023-03-14T08:28:52.090Z"
   },
   {
    "duration": 10,
    "start_time": "2023-03-14T08:28:52.110Z"
   },
   {
    "duration": 19,
    "start_time": "2023-03-14T08:28:52.121Z"
   },
   {
    "duration": 6,
    "start_time": "2023-03-14T08:28:52.141Z"
   },
   {
    "duration": 54,
    "start_time": "2023-03-14T08:28:52.149Z"
   },
   {
    "duration": 9,
    "start_time": "2023-03-14T08:28:52.204Z"
   },
   {
    "duration": 5,
    "start_time": "2023-03-14T08:28:52.214Z"
   },
   {
    "duration": 9,
    "start_time": "2023-03-14T08:28:52.221Z"
   },
   {
    "duration": 24,
    "start_time": "2023-03-14T08:28:52.231Z"
   },
   {
    "duration": 233,
    "start_time": "2023-03-14T08:28:52.257Z"
   },
   {
    "duration": 115,
    "start_time": "2023-03-14T08:28:52.492Z"
   },
   {
    "duration": 0,
    "start_time": "2023-03-14T08:28:52.608Z"
   },
   {
    "duration": 0,
    "start_time": "2023-03-14T08:28:52.609Z"
   },
   {
    "duration": 0,
    "start_time": "2023-03-14T08:28:52.610Z"
   },
   {
    "duration": 0,
    "start_time": "2023-03-14T08:28:52.610Z"
   },
   {
    "duration": 0,
    "start_time": "2023-03-14T08:28:52.611Z"
   },
   {
    "duration": 13,
    "start_time": "2023-03-14T08:34:52.397Z"
   },
   {
    "duration": 19,
    "start_time": "2023-03-14T08:36:26.832Z"
   },
   {
    "duration": 1927,
    "start_time": "2023-03-14T08:38:29.327Z"
   },
   {
    "duration": 2433,
    "start_time": "2023-03-14T08:39:00.105Z"
   },
   {
    "duration": 1422,
    "start_time": "2023-03-14T08:39:56.900Z"
   },
   {
    "duration": 4199,
    "start_time": "2023-03-14T08:40:07.508Z"
   },
   {
    "duration": 1858,
    "start_time": "2023-03-14T08:40:42.040Z"
   },
   {
    "duration": 17,
    "start_time": "2023-03-14T09:07:47.758Z"
   },
   {
    "duration": 14,
    "start_time": "2023-03-14T09:19:40.381Z"
   },
   {
    "duration": 13,
    "start_time": "2023-03-14T09:31:26.598Z"
   },
   {
    "duration": 7,
    "start_time": "2023-03-14T09:36:26.812Z"
   },
   {
    "duration": 14,
    "start_time": "2023-03-14T09:36:36.517Z"
   },
   {
    "duration": 622,
    "start_time": "2023-03-14T09:38:44.380Z"
   },
   {
    "duration": 578,
    "start_time": "2023-03-14T09:39:46.482Z"
   },
   {
    "duration": 648,
    "start_time": "2023-03-14T09:40:45.578Z"
   },
   {
    "duration": 620,
    "start_time": "2023-03-14T09:42:51.198Z"
   },
   {
    "duration": 14,
    "start_time": "2023-03-14T09:43:29.361Z"
   },
   {
    "duration": 11,
    "start_time": "2023-03-14T09:49:31.900Z"
   },
   {
    "duration": 23,
    "start_time": "2023-03-14T09:49:39.830Z"
   },
   {
    "duration": 24,
    "start_time": "2023-03-14T09:49:59.080Z"
   },
   {
    "duration": 21,
    "start_time": "2023-03-14T09:50:35.522Z"
   },
   {
    "duration": 191,
    "start_time": "2023-03-14T13:07:52.092Z"
   },
   {
    "duration": 288,
    "start_time": "2023-03-14T13:16:36.379Z"
   },
   {
    "duration": 256,
    "start_time": "2023-03-14T13:16:47.781Z"
   },
   {
    "duration": 12,
    "start_time": "2023-03-14T13:20:51.484Z"
   },
   {
    "duration": 14,
    "start_time": "2023-03-14T13:23:57.812Z"
   },
   {
    "duration": 13,
    "start_time": "2023-03-14T14:45:56.065Z"
   },
   {
    "duration": 15,
    "start_time": "2023-03-14T14:46:42.818Z"
   },
   {
    "duration": 82,
    "start_time": "2023-03-14T14:47:29.691Z"
   },
   {
    "duration": 13,
    "start_time": "2023-03-14T14:56:07.417Z"
   },
   {
    "duration": 20,
    "start_time": "2023-03-14T15:17:19.201Z"
   },
   {
    "duration": 6,
    "start_time": "2023-03-14T15:17:31.770Z"
   },
   {
    "duration": 17,
    "start_time": "2023-03-14T15:21:48.505Z"
   },
   {
    "duration": 432,
    "start_time": "2023-03-14T15:23:18.883Z"
   },
   {
    "duration": 17,
    "start_time": "2023-03-14T15:26:36.498Z"
   },
   {
    "duration": 374,
    "start_time": "2023-03-14T15:26:57.781Z"
   },
   {
    "duration": 72,
    "start_time": "2023-03-14T15:39:45.500Z"
   },
   {
    "duration": 8,
    "start_time": "2023-03-14T15:40:29.524Z"
   },
   {
    "duration": 21,
    "start_time": "2023-03-14T15:40:42.212Z"
   },
   {
    "duration": 195,
    "start_time": "2023-03-14T15:42:19.169Z"
   },
   {
    "duration": 14,
    "start_time": "2023-03-14T16:04:23.385Z"
   },
   {
    "duration": 16,
    "start_time": "2023-03-14T16:05:03.994Z"
   },
   {
    "duration": 10,
    "start_time": "2023-03-14T16:05:48.896Z"
   },
   {
    "duration": 145,
    "start_time": "2023-03-14T16:06:17.105Z"
   },
   {
    "duration": 104,
    "start_time": "2023-03-14T16:11:46.621Z"
   },
   {
    "duration": 132,
    "start_time": "2023-03-14T16:12:30.689Z"
   },
   {
    "duration": 119,
    "start_time": "2023-03-14T16:17:04.781Z"
   },
   {
    "duration": 126,
    "start_time": "2023-03-14T16:18:11.155Z"
   },
   {
    "duration": 133,
    "start_time": "2023-03-14T16:18:27.578Z"
   },
   {
    "duration": 133,
    "start_time": "2023-03-14T16:19:02.778Z"
   },
   {
    "duration": 137,
    "start_time": "2023-03-14T16:19:26.791Z"
   },
   {
    "duration": 27,
    "start_time": "2023-03-14T18:42:59.569Z"
   },
   {
    "duration": 21,
    "start_time": "2023-03-14T18:43:39.160Z"
   },
   {
    "duration": 22,
    "start_time": "2023-03-14T18:43:48.683Z"
   },
   {
    "duration": 13,
    "start_time": "2023-03-14T18:49:16.833Z"
   },
   {
    "duration": 13,
    "start_time": "2023-03-14T18:53:18.713Z"
   },
   {
    "duration": 182,
    "start_time": "2023-03-14T18:57:36.968Z"
   },
   {
    "duration": 12,
    "start_time": "2023-03-14T19:04:20.168Z"
   },
   {
    "duration": 20,
    "start_time": "2023-03-14T19:05:01.732Z"
   },
   {
    "duration": 14,
    "start_time": "2023-03-14T19:06:36.087Z"
   },
   {
    "duration": 1104,
    "start_time": "2023-03-14T19:07:56.769Z"
   },
   {
    "duration": 1285,
    "start_time": "2023-03-14T19:08:15.244Z"
   },
   {
    "duration": 1416,
    "start_time": "2023-03-14T19:14:50.595Z"
   },
   {
    "duration": 1086,
    "start_time": "2023-03-14T19:15:37.350Z"
   },
   {
    "duration": 17,
    "start_time": "2023-03-14T19:19:22.099Z"
   },
   {
    "duration": 14,
    "start_time": "2023-03-14T19:20:24.451Z"
   },
   {
    "duration": 17,
    "start_time": "2023-03-14T19:29:12.106Z"
   },
   {
    "duration": 17,
    "start_time": "2023-03-14T19:35:09.084Z"
   },
   {
    "duration": 16,
    "start_time": "2023-03-14T19:35:30.829Z"
   },
   {
    "duration": 18,
    "start_time": "2023-03-14T19:36:28.445Z"
   },
   {
    "duration": 21,
    "start_time": "2023-03-14T19:37:19.061Z"
   },
   {
    "duration": 20,
    "start_time": "2023-03-14T19:38:27.045Z"
   },
   {
    "duration": 62,
    "start_time": "2023-03-15T06:55:16.863Z"
   },
   {
    "duration": 1488,
    "start_time": "2023-03-15T06:55:25.565Z"
   },
   {
    "duration": 112,
    "start_time": "2023-03-15T06:55:27.056Z"
   },
   {
    "duration": 36,
    "start_time": "2023-03-15T06:55:27.170Z"
   },
   {
    "duration": 17,
    "start_time": "2023-03-15T06:55:27.208Z"
   },
   {
    "duration": 29,
    "start_time": "2023-03-15T06:55:27.227Z"
   },
   {
    "duration": 20,
    "start_time": "2023-03-15T06:55:27.258Z"
   },
   {
    "duration": 25,
    "start_time": "2023-03-15T06:55:27.281Z"
   },
   {
    "duration": 28,
    "start_time": "2023-03-15T06:55:27.308Z"
   },
   {
    "duration": 11,
    "start_time": "2023-03-15T06:55:27.338Z"
   },
   {
    "duration": 28,
    "start_time": "2023-03-15T06:55:27.351Z"
   },
   {
    "duration": 30,
    "start_time": "2023-03-15T06:55:27.381Z"
   },
   {
    "duration": 13,
    "start_time": "2023-03-15T06:55:27.414Z"
   },
   {
    "duration": 95,
    "start_time": "2023-03-15T06:55:27.429Z"
   },
   {
    "duration": 17,
    "start_time": "2023-03-15T06:55:27.527Z"
   },
   {
    "duration": 18,
    "start_time": "2023-03-15T06:55:27.546Z"
   },
   {
    "duration": 23,
    "start_time": "2023-03-15T06:55:27.566Z"
   },
   {
    "duration": 12,
    "start_time": "2023-03-15T06:55:27.591Z"
   },
   {
    "duration": 365,
    "start_time": "2023-03-15T06:55:27.605Z"
   },
   {
    "duration": 26,
    "start_time": "2023-03-15T06:55:27.972Z"
   },
   {
    "duration": 2,
    "start_time": "2023-03-15T06:55:28.001Z"
   },
   {
    "duration": 45,
    "start_time": "2023-03-15T06:55:28.005Z"
   },
   {
    "duration": 398,
    "start_time": "2023-03-15T06:55:28.053Z"
   },
   {
    "duration": 20,
    "start_time": "2023-03-15T06:55:28.453Z"
   },
   {
    "duration": 33,
    "start_time": "2023-03-15T06:55:28.476Z"
   },
   {
    "duration": 669,
    "start_time": "2023-03-15T06:55:28.511Z"
   },
   {
    "duration": 11,
    "start_time": "2023-03-15T06:55:29.183Z"
   },
   {
    "duration": 342,
    "start_time": "2023-03-15T06:55:29.196Z"
   },
   {
    "duration": 85,
    "start_time": "2023-03-15T06:55:29.541Z"
   },
   {
    "duration": 251,
    "start_time": "2023-03-15T06:55:29.627Z"
   },
   {
    "duration": 31,
    "start_time": "2023-03-15T06:55:29.881Z"
   },
   {
    "duration": 21,
    "start_time": "2023-03-15T06:55:29.915Z"
   },
   {
    "duration": 59,
    "start_time": "2023-03-15T06:55:29.938Z"
   },
   {
    "duration": 243,
    "start_time": "2023-03-15T06:55:30.000Z"
   },
   {
    "duration": 463,
    "start_time": "2023-03-15T06:55:38.607Z"
   },
   {
    "duration": 18,
    "start_time": "2023-03-15T06:56:09.442Z"
   },
   {
    "duration": 20,
    "start_time": "2023-03-15T06:56:43.895Z"
   },
   {
    "duration": 23,
    "start_time": "2023-03-15T06:57:51.424Z"
   },
   {
    "duration": 28,
    "start_time": "2023-03-15T06:58:09.152Z"
   },
   {
    "duration": 24,
    "start_time": "2023-03-15T06:59:05.286Z"
   },
   {
    "duration": 30,
    "start_time": "2023-03-15T06:59:32.088Z"
   },
   {
    "duration": 30,
    "start_time": "2023-03-15T06:59:44.446Z"
   },
   {
    "duration": 26,
    "start_time": "2023-03-15T07:00:30.021Z"
   },
   {
    "duration": 660,
    "start_time": "2023-03-15T07:02:58.509Z"
   },
   {
    "duration": 140,
    "start_time": "2023-03-15T07:03:22.429Z"
   },
   {
    "duration": 1350,
    "start_time": "2023-03-15T07:04:10.111Z"
   },
   {
    "duration": 59,
    "start_time": "2023-03-15T07:04:11.464Z"
   },
   {
    "duration": 35,
    "start_time": "2023-03-15T07:04:11.524Z"
   },
   {
    "duration": 21,
    "start_time": "2023-03-15T07:04:11.561Z"
   },
   {
    "duration": 21,
    "start_time": "2023-03-15T07:04:11.584Z"
   },
   {
    "duration": 3,
    "start_time": "2023-03-15T07:04:11.607Z"
   },
   {
    "duration": 15,
    "start_time": "2023-03-15T07:04:11.612Z"
   },
   {
    "duration": 17,
    "start_time": "2023-03-15T07:04:11.629Z"
   },
   {
    "duration": 33,
    "start_time": "2023-03-15T07:04:11.648Z"
   },
   {
    "duration": 11,
    "start_time": "2023-03-15T07:04:11.687Z"
   },
   {
    "duration": 39,
    "start_time": "2023-03-15T07:04:11.700Z"
   },
   {
    "duration": 13,
    "start_time": "2023-03-15T07:04:11.742Z"
   },
   {
    "duration": 60,
    "start_time": "2023-03-15T07:04:11.777Z"
   },
   {
    "duration": 14,
    "start_time": "2023-03-15T07:04:11.839Z"
   },
   {
    "duration": 22,
    "start_time": "2023-03-15T07:04:11.855Z"
   },
   {
    "duration": 2,
    "start_time": "2023-03-15T07:04:11.880Z"
   },
   {
    "duration": 12,
    "start_time": "2023-03-15T07:04:11.884Z"
   },
   {
    "duration": 328,
    "start_time": "2023-03-15T07:04:11.898Z"
   },
   {
    "duration": 23,
    "start_time": "2023-03-15T07:04:12.227Z"
   },
   {
    "duration": 26,
    "start_time": "2023-03-15T07:04:12.252Z"
   },
   {
    "duration": 48,
    "start_time": "2023-03-15T07:04:12.280Z"
   },
   {
    "duration": 474,
    "start_time": "2023-03-15T07:04:12.329Z"
   },
   {
    "duration": 22,
    "start_time": "2023-03-15T07:04:12.805Z"
   },
   {
    "duration": 31,
    "start_time": "2023-03-15T07:04:12.828Z"
   },
   {
    "duration": 501,
    "start_time": "2023-03-15T07:04:12.861Z"
   },
   {
    "duration": 18,
    "start_time": "2023-03-15T07:04:13.364Z"
   },
   {
    "duration": 272,
    "start_time": "2023-03-15T07:04:13.385Z"
   },
   {
    "duration": 86,
    "start_time": "2023-03-15T07:04:13.661Z"
   },
   {
    "duration": 232,
    "start_time": "2023-03-15T07:04:13.750Z"
   },
   {
    "duration": 33,
    "start_time": "2023-03-15T07:04:13.984Z"
   },
   {
    "duration": 19,
    "start_time": "2023-03-15T07:04:14.020Z"
   },
   {
    "duration": 62,
    "start_time": "2023-03-15T07:04:14.042Z"
   },
   {
    "duration": 214,
    "start_time": "2023-03-15T07:04:14.107Z"
   },
   {
    "duration": 32,
    "start_time": "2023-03-15T07:07:09.044Z"
   },
   {
    "duration": 626,
    "start_time": "2023-03-15T07:07:25.660Z"
   },
   {
    "duration": 19,
    "start_time": "2023-03-15T07:07:51.019Z"
   },
   {
    "duration": 19,
    "start_time": "2023-03-15T07:14:02.652Z"
   },
   {
    "duration": 9,
    "start_time": "2023-03-15T07:36:25.343Z"
   },
   {
    "duration": 28,
    "start_time": "2023-03-15T07:39:19.308Z"
   },
   {
    "duration": 11,
    "start_time": "2023-03-15T07:40:04.623Z"
   },
   {
    "duration": 3166,
    "start_time": "2023-03-15T07:40:11.436Z"
   },
   {
    "duration": 1978,
    "start_time": "2023-03-15T07:40:48.755Z"
   },
   {
    "duration": 204,
    "start_time": "2023-03-15T07:40:57.867Z"
   },
   {
    "duration": 27,
    "start_time": "2023-03-15T07:42:09.203Z"
   },
   {
    "duration": 18,
    "start_time": "2023-03-15T07:45:41.747Z"
   },
   {
    "duration": 29,
    "start_time": "2023-03-15T07:45:52.363Z"
   },
   {
    "duration": 332,
    "start_time": "2023-03-15T08:00:45.608Z"
   },
   {
    "duration": 323,
    "start_time": "2023-03-15T08:01:06.207Z"
   },
   {
    "duration": 288,
    "start_time": "2023-03-15T08:01:15.699Z"
   },
   {
    "duration": 100,
    "start_time": "2023-03-15T08:06:51.847Z"
   },
   {
    "duration": 554,
    "start_time": "2023-03-15T08:07:01.606Z"
   },
   {
    "duration": 396,
    "start_time": "2023-03-15T08:09:25.325Z"
   },
   {
    "duration": 330,
    "start_time": "2023-03-15T08:10:43.044Z"
   },
   {
    "duration": 336,
    "start_time": "2023-03-15T08:15:51.116Z"
   },
   {
    "duration": 327,
    "start_time": "2023-03-15T08:16:05.827Z"
   },
   {
    "duration": 359,
    "start_time": "2023-03-15T08:16:22.675Z"
   },
   {
    "duration": 1489,
    "start_time": "2023-03-15T08:21:00.546Z"
   },
   {
    "duration": 553,
    "start_time": "2023-03-15T08:22:41.055Z"
   },
   {
    "duration": 491,
    "start_time": "2023-03-15T08:22:58.209Z"
   },
   {
    "duration": 460,
    "start_time": "2023-03-15T08:23:21.073Z"
   },
   {
    "duration": 11,
    "start_time": "2023-03-15T08:46:19.061Z"
   },
   {
    "duration": 12,
    "start_time": "2023-03-15T08:46:45.670Z"
   },
   {
    "duration": 12,
    "start_time": "2023-03-15T08:47:06.712Z"
   },
   {
    "duration": 12,
    "start_time": "2023-03-15T08:48:52.202Z"
   },
   {
    "duration": 12,
    "start_time": "2023-03-15T08:49:13.941Z"
   },
   {
    "duration": 17,
    "start_time": "2023-03-15T08:49:34.995Z"
   },
   {
    "duration": 27,
    "start_time": "2023-03-15T08:50:01.514Z"
   },
   {
    "duration": 21,
    "start_time": "2023-03-15T08:51:34.128Z"
   },
   {
    "duration": 19,
    "start_time": "2023-03-15T08:51:49.635Z"
   },
   {
    "duration": 20,
    "start_time": "2023-03-15T08:51:52.027Z"
   },
   {
    "duration": 16,
    "start_time": "2023-03-15T08:53:30.348Z"
   },
   {
    "duration": 22,
    "start_time": "2023-03-15T09:00:08.886Z"
   },
   {
    "duration": 33,
    "start_time": "2023-03-15T09:00:27.930Z"
   },
   {
    "duration": 44,
    "start_time": "2023-03-15T09:03:11.826Z"
   },
   {
    "duration": 234,
    "start_time": "2023-03-15T09:04:58.003Z"
   },
   {
    "duration": 38,
    "start_time": "2023-03-15T09:08:31.195Z"
   },
   {
    "duration": 18,
    "start_time": "2023-03-15T09:08:52.136Z"
   },
   {
    "duration": 9,
    "start_time": "2023-03-15T11:36:30.318Z"
   },
   {
    "duration": 6,
    "start_time": "2023-03-15T11:36:48.326Z"
   },
   {
    "duration": 136,
    "start_time": "2023-03-15T11:36:59.805Z"
   },
   {
    "duration": 114,
    "start_time": "2023-03-15T11:37:24.455Z"
   },
   {
    "duration": 101,
    "start_time": "2023-03-15T11:37:48.698Z"
   },
   {
    "duration": 37,
    "start_time": "2023-03-15T11:37:58.751Z"
   },
   {
    "duration": 27,
    "start_time": "2023-03-15T11:38:21.026Z"
   },
   {
    "duration": 68,
    "start_time": "2023-03-15T11:39:46.949Z"
   },
   {
    "duration": 35,
    "start_time": "2023-03-15T11:42:49.452Z"
   },
   {
    "duration": 57,
    "start_time": "2023-03-15T11:46:25.975Z"
   },
   {
    "duration": 126,
    "start_time": "2023-03-15T11:49:08.304Z"
   },
   {
    "duration": 25,
    "start_time": "2023-03-15T11:49:55.246Z"
   },
   {
    "duration": 1305,
    "start_time": "2023-03-15T12:03:12.883Z"
   },
   {
    "duration": 102,
    "start_time": "2023-03-15T12:09:03.851Z"
   },
   {
    "duration": 103,
    "start_time": "2023-03-15T12:09:33.208Z"
   },
   {
    "duration": 78,
    "start_time": "2023-03-15T12:10:31.817Z"
   },
   {
    "duration": 97,
    "start_time": "2023-03-15T12:10:45.074Z"
   },
   {
    "duration": 30,
    "start_time": "2023-03-15T12:13:19.144Z"
   },
   {
    "duration": 26,
    "start_time": "2023-03-15T12:13:54.225Z"
   },
   {
    "duration": 28,
    "start_time": "2023-03-15T12:14:20.696Z"
   },
   {
    "duration": 87,
    "start_time": "2023-03-15T12:16:02.483Z"
   },
   {
    "duration": 92,
    "start_time": "2023-03-15T12:17:40.224Z"
   },
   {
    "duration": 75,
    "start_time": "2023-03-15T12:18:02.876Z"
   },
   {
    "duration": 81,
    "start_time": "2023-03-15T12:18:32.887Z"
   },
   {
    "duration": 30,
    "start_time": "2023-03-15T12:20:02.269Z"
   },
   {
    "duration": 8,
    "start_time": "2023-03-15T13:04:33.014Z"
   },
   {
    "duration": 61,
    "start_time": "2023-03-15T13:15:10.367Z"
   },
   {
    "duration": 360,
    "start_time": "2023-03-15T13:17:28.163Z"
   },
   {
    "duration": 336,
    "start_time": "2023-03-15T13:17:42.995Z"
   },
   {
    "duration": 353,
    "start_time": "2023-03-15T13:17:49.870Z"
   },
   {
    "duration": 341,
    "start_time": "2023-03-15T13:24:08.817Z"
   },
   {
    "duration": 452,
    "start_time": "2023-03-15T13:24:18.393Z"
   },
   {
    "duration": 355,
    "start_time": "2023-03-15T13:24:37.674Z"
   },
   {
    "duration": 73,
    "start_time": "2023-03-15T13:27:45.494Z"
   },
   {
    "duration": 102,
    "start_time": "2023-03-15T13:27:59.929Z"
   },
   {
    "duration": 17,
    "start_time": "2023-03-15T13:28:18.384Z"
   },
   {
    "duration": 17,
    "start_time": "2023-03-15T13:28:41.290Z"
   },
   {
    "duration": 20,
    "start_time": "2023-03-15T13:29:28.296Z"
   },
   {
    "duration": 19,
    "start_time": "2023-03-15T13:32:19.203Z"
   },
   {
    "duration": 37,
    "start_time": "2023-03-15T13:32:35.275Z"
   },
   {
    "duration": 215,
    "start_time": "2023-03-15T13:35:57.190Z"
   },
   {
    "duration": 222,
    "start_time": "2023-03-15T13:36:15.222Z"
   },
   {
    "duration": 219,
    "start_time": "2023-03-15T13:36:25.510Z"
   },
   {
    "duration": 610,
    "start_time": "2023-03-15T13:36:30.654Z"
   },
   {
    "duration": 562,
    "start_time": "2023-03-15T13:37:40.326Z"
   },
   {
    "duration": 382,
    "start_time": "2023-03-15T13:38:40.046Z"
   },
   {
    "duration": 300,
    "start_time": "2023-03-15T13:40:34.854Z"
   },
   {
    "duration": 332,
    "start_time": "2023-03-15T13:41:04.103Z"
   },
   {
    "duration": 110,
    "start_time": "2023-03-15T13:44:14.195Z"
   },
   {
    "duration": 79,
    "start_time": "2023-03-15T13:46:17.194Z"
   },
   {
    "duration": 87,
    "start_time": "2023-03-15T13:46:24.540Z"
   },
   {
    "duration": 83,
    "start_time": "2023-03-15T13:46:35.908Z"
   },
   {
    "duration": 252,
    "start_time": "2023-03-15T13:47:20.940Z"
   },
   {
    "duration": 254,
    "start_time": "2023-03-15T13:50:11.890Z"
   },
   {
    "duration": 248,
    "start_time": "2023-03-15T13:50:19.955Z"
   },
   {
    "duration": 260,
    "start_time": "2023-03-15T13:50:38.539Z"
   },
   {
    "duration": 271,
    "start_time": "2023-03-15T13:51:14.341Z"
   },
   {
    "duration": 313,
    "start_time": "2023-03-15T13:55:52.489Z"
   },
   {
    "duration": 247,
    "start_time": "2023-03-15T14:01:55.296Z"
   },
   {
    "duration": 35,
    "start_time": "2023-03-15T14:03:00.892Z"
   },
   {
    "duration": 271,
    "start_time": "2023-03-15T14:41:00.227Z"
   },
   {
    "duration": 267,
    "start_time": "2023-03-15T14:41:53.789Z"
   },
   {
    "duration": 28,
    "start_time": "2023-03-15T14:45:11.195Z"
   },
   {
    "duration": 476,
    "start_time": "2023-03-15T14:45:20.936Z"
   },
   {
    "duration": 288,
    "start_time": "2023-03-15T14:46:00.371Z"
   },
   {
    "duration": 282,
    "start_time": "2023-03-15T14:46:10.491Z"
   },
   {
    "duration": 277,
    "start_time": "2023-03-15T14:46:30.396Z"
   },
   {
    "duration": 283,
    "start_time": "2023-03-15T14:46:35.889Z"
   },
   {
    "duration": 269,
    "start_time": "2023-03-15T14:46:53.416Z"
   },
   {
    "duration": 877,
    "start_time": "2023-03-15T14:48:37.803Z"
   },
   {
    "duration": 331,
    "start_time": "2023-03-15T14:49:02.406Z"
   },
   {
    "duration": 279,
    "start_time": "2023-03-15T14:49:11.056Z"
   },
   {
    "duration": 305,
    "start_time": "2023-03-15T14:50:25.397Z"
   },
   {
    "duration": 256,
    "start_time": "2023-03-15T14:50:28.225Z"
   },
   {
    "duration": 156,
    "start_time": "2023-03-15T14:51:27.448Z"
   },
   {
    "duration": 254,
    "start_time": "2023-03-15T14:51:38.301Z"
   },
   {
    "duration": 299,
    "start_time": "2023-03-15T14:51:45.240Z"
   },
   {
    "duration": 252,
    "start_time": "2023-03-15T14:51:50.511Z"
   },
   {
    "duration": 240,
    "start_time": "2023-03-15T15:04:11.204Z"
   },
   {
    "duration": 241,
    "start_time": "2023-03-15T15:04:41.408Z"
   },
   {
    "duration": 427,
    "start_time": "2023-03-15T15:05:29.813Z"
   },
   {
    "duration": 3,
    "start_time": "2023-03-15T15:07:41.305Z"
   },
   {
    "duration": 11,
    "start_time": "2023-03-15T15:21:38.002Z"
   },
   {
    "duration": 11,
    "start_time": "2023-03-15T15:22:14.906Z"
   },
   {
    "duration": 8,
    "start_time": "2023-03-15T15:22:38.650Z"
   },
   {
    "duration": 9,
    "start_time": "2023-03-15T15:28:17.824Z"
   },
   {
    "duration": 237,
    "start_time": "2023-03-15T15:34:01.987Z"
   },
   {
    "duration": 267,
    "start_time": "2023-03-15T15:36:46.063Z"
   },
   {
    "duration": 255,
    "start_time": "2023-03-15T15:37:01.734Z"
   },
   {
    "duration": 260,
    "start_time": "2023-03-15T15:37:52.200Z"
   },
   {
    "duration": 309,
    "start_time": "2023-03-15T15:39:08.600Z"
   },
   {
    "duration": 312,
    "start_time": "2023-03-15T15:39:21.725Z"
   },
   {
    "duration": 456,
    "start_time": "2023-03-15T15:39:41.261Z"
   },
   {
    "duration": 331,
    "start_time": "2023-03-15T15:40:00.592Z"
   },
   {
    "duration": 289,
    "start_time": "2023-03-15T15:41:47.925Z"
   },
   {
    "duration": 21,
    "start_time": "2023-03-15T18:40:21.574Z"
   },
   {
    "duration": 1257,
    "start_time": "2023-03-15T18:40:30.366Z"
   },
   {
    "duration": 96,
    "start_time": "2023-03-15T18:40:31.625Z"
   },
   {
    "duration": 26,
    "start_time": "2023-03-15T18:40:31.723Z"
   },
   {
    "duration": 50,
    "start_time": "2023-03-15T18:40:31.751Z"
   },
   {
    "duration": 29,
    "start_time": "2023-03-15T18:40:31.804Z"
   },
   {
    "duration": 22,
    "start_time": "2023-03-15T18:40:31.835Z"
   },
   {
    "duration": 17,
    "start_time": "2023-03-15T18:40:31.859Z"
   },
   {
    "duration": 43,
    "start_time": "2023-03-15T18:40:31.878Z"
   },
   {
    "duration": 29,
    "start_time": "2023-03-15T18:40:31.923Z"
   },
   {
    "duration": 23,
    "start_time": "2023-03-15T18:40:31.954Z"
   },
   {
    "duration": 24,
    "start_time": "2023-03-15T18:40:31.980Z"
   },
   {
    "duration": 42,
    "start_time": "2023-03-15T18:40:32.005Z"
   },
   {
    "duration": 9,
    "start_time": "2023-03-15T18:40:32.049Z"
   },
   {
    "duration": 56,
    "start_time": "2023-03-15T18:40:32.062Z"
   },
   {
    "duration": 13,
    "start_time": "2023-03-15T18:40:32.120Z"
   },
   {
    "duration": 7,
    "start_time": "2023-03-15T18:40:32.135Z"
   },
   {
    "duration": 18,
    "start_time": "2023-03-15T18:40:32.144Z"
   },
   {
    "duration": 24,
    "start_time": "2023-03-15T18:40:32.164Z"
   },
   {
    "duration": 341,
    "start_time": "2023-03-15T18:40:32.190Z"
   },
   {
    "duration": 23,
    "start_time": "2023-03-15T18:40:32.533Z"
   },
   {
    "duration": 21,
    "start_time": "2023-03-15T18:40:32.558Z"
   },
   {
    "duration": 53,
    "start_time": "2023-03-15T18:40:32.582Z"
   },
   {
    "duration": 315,
    "start_time": "2023-03-15T18:40:32.637Z"
   },
   {
    "duration": 29,
    "start_time": "2023-03-15T18:40:32.953Z"
   },
   {
    "duration": 23,
    "start_time": "2023-03-15T18:40:32.984Z"
   },
   {
    "duration": 457,
    "start_time": "2023-03-15T18:40:33.010Z"
   },
   {
    "duration": 14,
    "start_time": "2023-03-15T18:40:33.469Z"
   },
   {
    "duration": 265,
    "start_time": "2023-03-15T18:40:33.485Z"
   },
   {
    "duration": 66,
    "start_time": "2023-03-15T18:40:33.752Z"
   },
   {
    "duration": 218,
    "start_time": "2023-03-15T18:40:33.819Z"
   },
   {
    "duration": 50,
    "start_time": "2023-03-15T18:40:34.039Z"
   },
   {
    "duration": 16,
    "start_time": "2023-03-15T18:40:34.091Z"
   },
   {
    "duration": 29,
    "start_time": "2023-03-15T18:40:34.109Z"
   },
   {
    "duration": 618,
    "start_time": "2023-03-15T18:40:34.140Z"
   },
   {
    "duration": 360,
    "start_time": "2023-03-15T18:40:34.760Z"
   },
   {
    "duration": 39,
    "start_time": "2023-03-15T18:40:35.121Z"
   },
   {
    "duration": 31,
    "start_time": "2023-03-15T18:40:35.162Z"
   },
   {
    "duration": 28,
    "start_time": "2023-03-15T18:40:35.195Z"
   },
   {
    "duration": 32,
    "start_time": "2023-03-15T18:40:35.225Z"
   },
   {
    "duration": 262,
    "start_time": "2023-03-15T18:40:35.278Z"
   },
   {
    "duration": 278,
    "start_time": "2023-03-15T18:40:35.544Z"
   },
   {
    "duration": 260,
    "start_time": "2023-03-15T18:40:35.824Z"
   },
   {
    "duration": 260,
    "start_time": "2023-03-15T18:40:36.086Z"
   },
   {
    "duration": 9,
    "start_time": "2023-03-15T18:40:36.348Z"
   },
   {
    "duration": 289,
    "start_time": "2023-03-15T18:40:36.359Z"
   },
   {
    "duration": 10,
    "start_time": "2023-03-15T18:40:36.649Z"
   },
   {
    "duration": 295,
    "start_time": "2023-03-15T18:40:36.661Z"
   },
   {
    "duration": 13,
    "start_time": "2023-03-15T19:01:13.324Z"
   },
   {
    "duration": 1185,
    "start_time": "2023-03-15T19:01:43.321Z"
   },
   {
    "duration": 53,
    "start_time": "2023-03-15T19:01:44.508Z"
   },
   {
    "duration": 24,
    "start_time": "2023-03-15T19:01:44.563Z"
   },
   {
    "duration": 23,
    "start_time": "2023-03-15T19:01:44.589Z"
   },
   {
    "duration": 23,
    "start_time": "2023-03-15T19:01:44.615Z"
   },
   {
    "duration": 12,
    "start_time": "2023-03-15T19:01:44.639Z"
   },
   {
    "duration": 4,
    "start_time": "2023-03-15T19:01:44.653Z"
   },
   {
    "duration": 26,
    "start_time": "2023-03-15T19:01:44.659Z"
   },
   {
    "duration": 17,
    "start_time": "2023-03-15T19:01:44.687Z"
   },
   {
    "duration": 9,
    "start_time": "2023-03-15T19:01:44.706Z"
   },
   {
    "duration": 16,
    "start_time": "2023-03-15T19:01:44.716Z"
   },
   {
    "duration": 32,
    "start_time": "2023-03-15T19:01:44.734Z"
   },
   {
    "duration": 44,
    "start_time": "2023-03-15T19:01:44.768Z"
   },
   {
    "duration": 12,
    "start_time": "2023-03-15T19:01:44.815Z"
   },
   {
    "duration": 6,
    "start_time": "2023-03-15T19:01:44.829Z"
   },
   {
    "duration": 21,
    "start_time": "2023-03-15T19:01:44.837Z"
   },
   {
    "duration": 298,
    "start_time": "2023-03-15T19:01:44.860Z"
   },
   {
    "duration": 23,
    "start_time": "2023-03-15T19:01:45.160Z"
   },
   {
    "duration": 2,
    "start_time": "2023-03-15T19:01:45.184Z"
   },
   {
    "duration": 35,
    "start_time": "2023-03-15T19:01:45.188Z"
   },
   {
    "duration": 293,
    "start_time": "2023-03-15T19:01:45.225Z"
   },
   {
    "duration": 15,
    "start_time": "2023-03-15T19:01:45.520Z"
   },
   {
    "duration": 20,
    "start_time": "2023-03-15T19:01:45.536Z"
   },
   {
    "duration": 452,
    "start_time": "2023-03-15T19:01:45.577Z"
   },
   {
    "duration": 7,
    "start_time": "2023-03-15T19:01:46.031Z"
   },
   {
    "duration": 266,
    "start_time": "2023-03-15T19:01:46.039Z"
   },
   {
    "duration": 57,
    "start_time": "2023-03-15T19:01:46.307Z"
   },
   {
    "duration": 171,
    "start_time": "2023-03-15T19:01:46.366Z"
   },
   {
    "duration": 61,
    "start_time": "2023-03-15T19:01:46.539Z"
   },
   {
    "duration": 14,
    "start_time": "2023-03-15T19:01:46.601Z"
   },
   {
    "duration": 18,
    "start_time": "2023-03-15T19:01:46.616Z"
   },
   {
    "duration": 584,
    "start_time": "2023-03-15T19:01:46.635Z"
   },
   {
    "duration": 309,
    "start_time": "2023-03-15T19:01:47.221Z"
   },
   {
    "duration": 44,
    "start_time": "2023-03-15T19:01:47.532Z"
   },
   {
    "duration": 30,
    "start_time": "2023-03-15T19:01:47.578Z"
   },
   {
    "duration": 27,
    "start_time": "2023-03-15T19:01:47.609Z"
   },
   {
    "duration": 51,
    "start_time": "2023-03-15T19:01:47.638Z"
   },
   {
    "duration": 238,
    "start_time": "2023-03-15T19:01:47.690Z"
   },
   {
    "duration": 272,
    "start_time": "2023-03-15T19:01:47.929Z"
   },
   {
    "duration": 225,
    "start_time": "2023-03-15T19:01:48.202Z"
   },
   {
    "duration": 218,
    "start_time": "2023-03-15T19:01:48.430Z"
   },
   {
    "duration": 10,
    "start_time": "2023-03-15T19:01:48.650Z"
   },
   {
    "duration": 284,
    "start_time": "2023-03-15T19:01:48.662Z"
   },
   {
    "duration": 9,
    "start_time": "2023-03-15T19:01:48.948Z"
   },
   {
    "duration": 271,
    "start_time": "2023-03-15T19:01:48.959Z"
   },
   {
    "duration": 1162,
    "start_time": "2023-03-16T05:53:32.623Z"
   },
   {
    "duration": 103,
    "start_time": "2023-03-16T05:53:33.787Z"
   },
   {
    "duration": 22,
    "start_time": "2023-03-16T05:53:33.892Z"
   },
   {
    "duration": 13,
    "start_time": "2023-03-16T05:53:33.916Z"
   },
   {
    "duration": 13,
    "start_time": "2023-03-16T05:53:33.931Z"
   },
   {
    "duration": 9,
    "start_time": "2023-03-16T05:53:33.945Z"
   },
   {
    "duration": 3,
    "start_time": "2023-03-16T05:53:33.956Z"
   },
   {
    "duration": 28,
    "start_time": "2023-03-16T05:53:33.961Z"
   },
   {
    "duration": 17,
    "start_time": "2023-03-16T05:53:33.991Z"
   },
   {
    "duration": 15,
    "start_time": "2023-03-16T05:53:34.009Z"
   },
   {
    "duration": 9,
    "start_time": "2023-03-16T05:53:34.025Z"
   },
   {
    "duration": 20,
    "start_time": "2023-03-16T05:53:34.035Z"
   },
   {
    "duration": 50,
    "start_time": "2023-03-16T05:53:34.057Z"
   },
   {
    "duration": 9,
    "start_time": "2023-03-16T05:53:34.110Z"
   },
   {
    "duration": 4,
    "start_time": "2023-03-16T05:53:34.121Z"
   },
   {
    "duration": 7,
    "start_time": "2023-03-16T05:53:34.127Z"
   },
   {
    "duration": 286,
    "start_time": "2023-03-16T05:53:34.135Z"
   },
   {
    "duration": 16,
    "start_time": "2023-03-16T05:53:34.422Z"
   },
   {
    "duration": 21,
    "start_time": "2023-03-16T05:53:34.439Z"
   },
   {
    "duration": 298,
    "start_time": "2023-03-16T05:53:34.480Z"
   },
   {
    "duration": 14,
    "start_time": "2023-03-16T05:53:34.780Z"
   },
   {
    "duration": 24,
    "start_time": "2023-03-16T05:53:34.796Z"
   },
   {
    "duration": 456,
    "start_time": "2023-03-16T05:53:34.822Z"
   },
   {
    "duration": 8,
    "start_time": "2023-03-16T05:53:35.279Z"
   },
   {
    "duration": 238,
    "start_time": "2023-03-16T05:53:35.289Z"
   },
   {
    "duration": 58,
    "start_time": "2023-03-16T05:53:35.529Z"
   },
   {
    "duration": 163,
    "start_time": "2023-03-16T05:53:35.588Z"
   },
   {
    "duration": 29,
    "start_time": "2023-03-16T05:53:35.752Z"
   },
   {
    "duration": 11,
    "start_time": "2023-03-16T05:53:35.782Z"
   },
   {
    "duration": 493,
    "start_time": "2023-03-16T05:53:35.794Z"
   },
   {
    "duration": 255,
    "start_time": "2023-03-16T05:53:36.288Z"
   },
   {
    "duration": 38,
    "start_time": "2023-03-16T05:53:36.545Z"
   },
   {
    "duration": 22,
    "start_time": "2023-03-16T05:53:36.584Z"
   },
   {
    "duration": 19,
    "start_time": "2023-03-16T05:53:36.608Z"
   },
   {
    "duration": 20,
    "start_time": "2023-03-16T05:53:36.629Z"
   },
   {
    "duration": 201,
    "start_time": "2023-03-16T05:53:36.650Z"
   },
   {
    "duration": 209,
    "start_time": "2023-03-16T05:53:36.852Z"
   },
   {
    "duration": 187,
    "start_time": "2023-03-16T05:53:37.063Z"
   },
   {
    "duration": 180,
    "start_time": "2023-03-16T05:53:37.251Z"
   },
   {
    "duration": 8,
    "start_time": "2023-03-16T05:53:37.432Z"
   },
   {
    "duration": 219,
    "start_time": "2023-03-16T05:53:37.443Z"
   },
   {
    "duration": 7,
    "start_time": "2023-03-16T05:53:37.663Z"
   },
   {
    "duration": 207,
    "start_time": "2023-03-16T05:53:37.672Z"
   },
   {
    "duration": 264,
    "start_time": "2023-03-16T06:02:13.617Z"
   },
   {
    "duration": 217,
    "start_time": "2023-03-16T06:02:20.682Z"
   },
   {
    "duration": 176,
    "start_time": "2023-03-16T06:02:23.249Z"
   },
   {
    "duration": 97,
    "start_time": "2023-03-16T06:05:49.778Z"
   },
   {
    "duration": 192,
    "start_time": "2023-03-16T06:05:56.313Z"
   },
   {
    "duration": 199,
    "start_time": "2023-03-16T06:06:17.094Z"
   },
   {
    "duration": 187,
    "start_time": "2023-03-16T06:06:19.824Z"
   },
   {
    "duration": 71,
    "start_time": "2023-03-16T15:07:23.059Z"
   },
   {
    "duration": 48,
    "start_time": "2023-03-16T15:10:52.945Z"
   },
   {
    "duration": 1374,
    "start_time": "2023-03-16T15:11:00.643Z"
   },
   {
    "duration": 208,
    "start_time": "2023-03-16T15:11:02.019Z"
   },
   {
    "duration": 24,
    "start_time": "2023-03-16T15:11:02.229Z"
   },
   {
    "duration": 30,
    "start_time": "2023-03-16T15:11:02.256Z"
   },
   {
    "duration": 15,
    "start_time": "2023-03-16T15:11:02.287Z"
   },
   {
    "duration": 14,
    "start_time": "2023-03-16T15:11:02.304Z"
   },
   {
    "duration": 120,
    "start_time": "2023-03-16T15:11:02.320Z"
   },
   {
    "duration": 0,
    "start_time": "2023-03-16T15:11:02.442Z"
   },
   {
    "duration": 0,
    "start_time": "2023-03-16T15:11:02.443Z"
   },
   {
    "duration": 0,
    "start_time": "2023-03-16T15:11:02.445Z"
   },
   {
    "duration": 0,
    "start_time": "2023-03-16T15:11:02.446Z"
   },
   {
    "duration": 0,
    "start_time": "2023-03-16T15:11:02.447Z"
   },
   {
    "duration": 0,
    "start_time": "2023-03-16T15:11:02.449Z"
   },
   {
    "duration": 0,
    "start_time": "2023-03-16T15:11:02.449Z"
   },
   {
    "duration": 0,
    "start_time": "2023-03-16T15:11:02.451Z"
   },
   {
    "duration": 0,
    "start_time": "2023-03-16T15:11:02.453Z"
   },
   {
    "duration": 0,
    "start_time": "2023-03-16T15:11:02.454Z"
   },
   {
    "duration": 0,
    "start_time": "2023-03-16T15:11:02.474Z"
   },
   {
    "duration": 0,
    "start_time": "2023-03-16T15:11:02.476Z"
   },
   {
    "duration": 0,
    "start_time": "2023-03-16T15:11:02.477Z"
   },
   {
    "duration": 0,
    "start_time": "2023-03-16T15:11:02.478Z"
   },
   {
    "duration": 0,
    "start_time": "2023-03-16T15:11:02.479Z"
   },
   {
    "duration": 0,
    "start_time": "2023-03-16T15:11:02.480Z"
   },
   {
    "duration": 0,
    "start_time": "2023-03-16T15:11:02.481Z"
   },
   {
    "duration": 0,
    "start_time": "2023-03-16T15:11:02.482Z"
   },
   {
    "duration": 0,
    "start_time": "2023-03-16T15:11:02.484Z"
   },
   {
    "duration": 0,
    "start_time": "2023-03-16T15:11:02.485Z"
   },
   {
    "duration": 0,
    "start_time": "2023-03-16T15:11:02.486Z"
   },
   {
    "duration": 0,
    "start_time": "2023-03-16T15:11:02.487Z"
   },
   {
    "duration": 0,
    "start_time": "2023-03-16T15:11:02.488Z"
   },
   {
    "duration": 0,
    "start_time": "2023-03-16T15:11:02.489Z"
   },
   {
    "duration": 0,
    "start_time": "2023-03-16T15:11:02.490Z"
   },
   {
    "duration": 0,
    "start_time": "2023-03-16T15:11:02.491Z"
   },
   {
    "duration": 0,
    "start_time": "2023-03-16T15:11:02.492Z"
   },
   {
    "duration": 0,
    "start_time": "2023-03-16T15:11:02.493Z"
   },
   {
    "duration": 0,
    "start_time": "2023-03-16T15:11:02.494Z"
   },
   {
    "duration": 0,
    "start_time": "2023-03-16T15:11:02.495Z"
   },
   {
    "duration": 0,
    "start_time": "2023-03-16T15:11:02.496Z"
   },
   {
    "duration": 0,
    "start_time": "2023-03-16T15:11:02.497Z"
   },
   {
    "duration": 0,
    "start_time": "2023-03-16T15:11:02.499Z"
   },
   {
    "duration": 0,
    "start_time": "2023-03-16T15:11:02.500Z"
   },
   {
    "duration": 0,
    "start_time": "2023-03-16T15:11:02.501Z"
   },
   {
    "duration": 0,
    "start_time": "2023-03-16T15:11:02.502Z"
   },
   {
    "duration": 0,
    "start_time": "2023-03-16T15:11:02.504Z"
   },
   {
    "duration": 61,
    "start_time": "2023-03-16T15:13:37.530Z"
   },
   {
    "duration": 10,
    "start_time": "2023-03-16T15:13:45.587Z"
   },
   {
    "duration": 1126,
    "start_time": "2023-03-16T15:30:50.834Z"
   },
   {
    "duration": 52,
    "start_time": "2023-03-16T15:30:51.963Z"
   },
   {
    "duration": 26,
    "start_time": "2023-03-16T15:30:52.017Z"
   },
   {
    "duration": 15,
    "start_time": "2023-03-16T15:30:52.044Z"
   },
   {
    "duration": 23,
    "start_time": "2023-03-16T15:30:52.061Z"
   },
   {
    "duration": 8,
    "start_time": "2023-03-16T15:30:52.092Z"
   },
   {
    "duration": 7,
    "start_time": "2023-03-16T15:30:52.102Z"
   },
   {
    "duration": 22,
    "start_time": "2023-03-16T15:30:52.110Z"
   },
   {
    "duration": 16,
    "start_time": "2023-03-16T15:30:52.133Z"
   },
   {
    "duration": 7,
    "start_time": "2023-03-16T15:30:52.151Z"
   },
   {
    "duration": 19,
    "start_time": "2023-03-16T15:30:52.160Z"
   },
   {
    "duration": 32,
    "start_time": "2023-03-16T15:30:52.181Z"
   },
   {
    "duration": 39,
    "start_time": "2023-03-16T15:30:52.215Z"
   },
   {
    "duration": 24,
    "start_time": "2023-03-16T15:30:52.257Z"
   },
   {
    "duration": 6,
    "start_time": "2023-03-16T15:30:52.283Z"
   },
   {
    "duration": 7,
    "start_time": "2023-03-16T15:30:52.290Z"
   },
   {
    "duration": 308,
    "start_time": "2023-03-16T15:30:52.298Z"
   },
   {
    "duration": 17,
    "start_time": "2023-03-16T15:30:52.607Z"
   },
   {
    "duration": 48,
    "start_time": "2023-03-16T15:30:52.625Z"
   },
   {
    "duration": 349,
    "start_time": "2023-03-16T15:30:52.676Z"
   },
   {
    "duration": 16,
    "start_time": "2023-03-16T15:30:53.027Z"
   },
   {
    "duration": 25,
    "start_time": "2023-03-16T15:30:53.046Z"
   },
   {
    "duration": 450,
    "start_time": "2023-03-16T15:30:53.073Z"
   },
   {
    "duration": 8,
    "start_time": "2023-03-16T15:30:53.525Z"
   },
   {
    "duration": 270,
    "start_time": "2023-03-16T15:30:53.534Z"
   },
   {
    "duration": 57,
    "start_time": "2023-03-16T15:30:53.806Z"
   },
   {
    "duration": 175,
    "start_time": "2023-03-16T15:30:53.874Z"
   },
   {
    "duration": 50,
    "start_time": "2023-03-16T15:30:54.051Z"
   },
   {
    "duration": 15,
    "start_time": "2023-03-16T15:30:54.104Z"
   },
   {
    "duration": 597,
    "start_time": "2023-03-16T15:30:54.121Z"
   },
   {
    "duration": 341,
    "start_time": "2023-03-16T15:30:54.720Z"
   },
   {
    "duration": 29,
    "start_time": "2023-03-16T15:30:55.063Z"
   },
   {
    "duration": 27,
    "start_time": "2023-03-16T15:30:55.094Z"
   },
   {
    "duration": 26,
    "start_time": "2023-03-16T15:30:55.123Z"
   },
   {
    "duration": 38,
    "start_time": "2023-03-16T15:30:55.150Z"
   },
   {
    "duration": 241,
    "start_time": "2023-03-16T15:30:55.191Z"
   },
   {
    "duration": 239,
    "start_time": "2023-03-16T15:30:55.434Z"
   },
   {
    "duration": 249,
    "start_time": "2023-03-16T15:30:55.676Z"
   },
   {
    "duration": 263,
    "start_time": "2023-03-16T15:30:55.927Z"
   },
   {
    "duration": 12,
    "start_time": "2023-03-16T15:30:56.192Z"
   },
   {
    "duration": 340,
    "start_time": "2023-03-16T15:30:56.209Z"
   },
   {
    "duration": 10,
    "start_time": "2023-03-16T15:30:56.550Z"
   },
   {
    "duration": 298,
    "start_time": "2023-03-16T15:30:56.562Z"
   },
   {
    "duration": 1198,
    "start_time": "2023-03-16T15:48:02.390Z"
   },
   {
    "duration": 53,
    "start_time": "2023-03-16T15:48:03.590Z"
   },
   {
    "duration": 26,
    "start_time": "2023-03-16T15:48:03.645Z"
   },
   {
    "duration": 25,
    "start_time": "2023-03-16T15:48:03.672Z"
   },
   {
    "duration": 25,
    "start_time": "2023-03-16T15:48:03.699Z"
   },
   {
    "duration": 13,
    "start_time": "2023-03-16T15:48:03.726Z"
   },
   {
    "duration": 10,
    "start_time": "2023-03-16T15:48:03.742Z"
   },
   {
    "duration": 15,
    "start_time": "2023-03-16T15:48:03.753Z"
   },
   {
    "duration": 21,
    "start_time": "2023-03-16T15:48:03.771Z"
   },
   {
    "duration": 4,
    "start_time": "2023-03-16T15:48:03.794Z"
   },
   {
    "duration": 7,
    "start_time": "2023-03-16T15:48:03.800Z"
   },
   {
    "duration": 29,
    "start_time": "2023-03-16T15:48:03.808Z"
   },
   {
    "duration": 63,
    "start_time": "2023-03-16T15:48:03.839Z"
   },
   {
    "duration": 10,
    "start_time": "2023-03-16T15:48:03.906Z"
   },
   {
    "duration": 5,
    "start_time": "2023-03-16T15:48:03.918Z"
   },
   {
    "duration": 8,
    "start_time": "2023-03-16T15:48:03.925Z"
   },
   {
    "duration": 400,
    "start_time": "2023-03-16T15:48:03.935Z"
   },
   {
    "duration": 12,
    "start_time": "2023-03-16T15:48:04.337Z"
   },
   {
    "duration": 214,
    "start_time": "2023-03-16T15:48:04.351Z"
   },
   {
    "duration": 28,
    "start_time": "2023-03-16T15:48:04.567Z"
   },
   {
    "duration": 332,
    "start_time": "2023-03-16T15:48:04.596Z"
   },
   {
    "duration": 18,
    "start_time": "2023-03-16T15:48:04.930Z"
   },
   {
    "duration": 24,
    "start_time": "2023-03-16T15:48:04.949Z"
   },
   {
    "duration": 483,
    "start_time": "2023-03-16T15:48:04.975Z"
   },
   {
    "duration": 16,
    "start_time": "2023-03-16T15:48:05.460Z"
   },
   {
    "duration": 256,
    "start_time": "2023-03-16T15:48:05.477Z"
   },
   {
    "duration": 62,
    "start_time": "2023-03-16T15:48:05.735Z"
   },
   {
    "duration": 264,
    "start_time": "2023-03-16T15:48:05.799Z"
   },
   {
    "duration": 40,
    "start_time": "2023-03-16T15:48:06.064Z"
   },
   {
    "duration": 15,
    "start_time": "2023-03-16T15:48:06.106Z"
   },
   {
    "duration": 570,
    "start_time": "2023-03-16T15:48:06.123Z"
   },
   {
    "duration": 321,
    "start_time": "2023-03-16T15:48:06.695Z"
   },
   {
    "duration": 34,
    "start_time": "2023-03-16T15:48:07.018Z"
   },
   {
    "duration": 32,
    "start_time": "2023-03-16T15:48:07.054Z"
   },
   {
    "duration": 33,
    "start_time": "2023-03-16T15:48:07.088Z"
   },
   {
    "duration": 53,
    "start_time": "2023-03-16T15:48:07.123Z"
   },
   {
    "duration": 228,
    "start_time": "2023-03-16T15:48:07.178Z"
   },
   {
    "duration": 230,
    "start_time": "2023-03-16T15:48:07.408Z"
   },
   {
    "duration": 216,
    "start_time": "2023-03-16T15:48:07.640Z"
   },
   {
    "duration": 228,
    "start_time": "2023-03-16T15:48:07.858Z"
   },
   {
    "duration": 9,
    "start_time": "2023-03-16T15:48:08.089Z"
   },
   {
    "duration": 293,
    "start_time": "2023-03-16T15:48:08.099Z"
   },
   {
    "duration": 11,
    "start_time": "2023-03-16T15:48:08.394Z"
   },
   {
    "duration": 373,
    "start_time": "2023-03-16T15:48:08.407Z"
   },
   {
    "duration": 211,
    "start_time": "2023-03-16T15:48:58.854Z"
   },
   {
    "duration": 205,
    "start_time": "2023-03-16T15:49:25.988Z"
   },
   {
    "duration": 27,
    "start_time": "2023-03-16T15:58:10.512Z"
   },
   {
    "duration": 26,
    "start_time": "2023-03-16T15:59:14.736Z"
   },
   {
    "duration": 176,
    "start_time": "2023-03-16T15:59:40.301Z"
   },
   {
    "duration": 28,
    "start_time": "2023-03-16T16:00:15.183Z"
   },
   {
    "duration": 32,
    "start_time": "2023-03-16T16:01:03.638Z"
   },
   {
    "duration": 57,
    "start_time": "2023-03-16T16:14:06.605Z"
   },
   {
    "duration": 22,
    "start_time": "2023-03-16T16:14:10.989Z"
   },
   {
    "duration": 13,
    "start_time": "2023-03-16T16:16:13.796Z"
   },
   {
    "duration": 21,
    "start_time": "2023-03-16T16:16:22.171Z"
   },
   {
    "duration": 22,
    "start_time": "2023-03-16T16:28:23.038Z"
   },
   {
    "duration": 117,
    "start_time": "2023-03-16T16:29:13.358Z"
   },
   {
    "duration": 22,
    "start_time": "2023-03-16T16:30:32.167Z"
   },
   {
    "duration": 262,
    "start_time": "2023-03-16T16:31:51.707Z"
   },
   {
    "duration": 33,
    "start_time": "2023-03-16T16:39:28.327Z"
   },
   {
    "duration": 29,
    "start_time": "2023-03-16T16:39:38.840Z"
   },
   {
    "duration": 31,
    "start_time": "2023-03-16T16:39:42.969Z"
   },
   {
    "duration": 1299,
    "start_time": "2024-02-26T09:20:22.330Z"
   },
   {
    "duration": 90,
    "start_time": "2024-02-26T09:20:23.633Z"
   },
   {
    "duration": 23,
    "start_time": "2024-02-26T09:20:23.725Z"
   },
   {
    "duration": 44,
    "start_time": "2024-02-26T09:20:23.750Z"
   },
   {
    "duration": 18,
    "start_time": "2024-02-26T09:20:23.796Z"
   },
   {
    "duration": 12,
    "start_time": "2024-02-26T09:20:23.816Z"
   },
   {
    "duration": 3,
    "start_time": "2024-02-26T09:20:23.830Z"
   },
   {
    "duration": 13,
    "start_time": "2024-02-26T09:20:23.835Z"
   },
   {
    "duration": 18,
    "start_time": "2024-02-26T09:20:23.849Z"
   },
   {
    "duration": 6,
    "start_time": "2024-02-26T09:20:23.869Z"
   },
   {
    "duration": 5,
    "start_time": "2024-02-26T09:20:23.877Z"
   },
   {
    "duration": 21,
    "start_time": "2024-02-26T09:20:23.884Z"
   },
   {
    "duration": 60,
    "start_time": "2024-02-26T09:20:23.907Z"
   },
   {
    "duration": 10,
    "start_time": "2024-02-26T09:20:23.968Z"
   },
   {
    "duration": 4,
    "start_time": "2024-02-26T09:20:23.979Z"
   },
   {
    "duration": 5,
    "start_time": "2024-02-26T09:20:23.985Z"
   },
   {
    "duration": 293,
    "start_time": "2024-02-26T09:20:23.992Z"
   },
   {
    "duration": 97,
    "start_time": "2024-02-26T09:20:24.287Z"
   },
   {
    "duration": 0,
    "start_time": "2024-02-26T09:20:24.386Z"
   },
   {
    "duration": 0,
    "start_time": "2024-02-26T09:20:24.387Z"
   },
   {
    "duration": 0,
    "start_time": "2024-02-26T09:20:24.388Z"
   },
   {
    "duration": 0,
    "start_time": "2024-02-26T09:20:24.389Z"
   },
   {
    "duration": 0,
    "start_time": "2024-02-26T09:20:24.390Z"
   },
   {
    "duration": 0,
    "start_time": "2024-02-26T09:20:24.391Z"
   },
   {
    "duration": 0,
    "start_time": "2024-02-26T09:20:24.392Z"
   },
   {
    "duration": 0,
    "start_time": "2024-02-26T09:20:24.393Z"
   },
   {
    "duration": 0,
    "start_time": "2024-02-26T09:20:24.395Z"
   },
   {
    "duration": 0,
    "start_time": "2024-02-26T09:20:24.396Z"
   },
   {
    "duration": 0,
    "start_time": "2024-02-26T09:20:24.397Z"
   },
   {
    "duration": 0,
    "start_time": "2024-02-26T09:20:24.398Z"
   },
   {
    "duration": 0,
    "start_time": "2024-02-26T09:20:24.400Z"
   },
   {
    "duration": 0,
    "start_time": "2024-02-26T09:20:24.401Z"
   },
   {
    "duration": 0,
    "start_time": "2024-02-26T09:20:24.402Z"
   },
   {
    "duration": 0,
    "start_time": "2024-02-26T09:20:24.404Z"
   },
   {
    "duration": 0,
    "start_time": "2024-02-26T09:20:24.405Z"
   },
   {
    "duration": 0,
    "start_time": "2024-02-26T09:20:24.407Z"
   },
   {
    "duration": 0,
    "start_time": "2024-02-26T09:20:24.408Z"
   },
   {
    "duration": 0,
    "start_time": "2024-02-26T09:20:24.409Z"
   },
   {
    "duration": 0,
    "start_time": "2024-02-26T09:20:24.412Z"
   },
   {
    "duration": 0,
    "start_time": "2024-02-26T09:20:24.414Z"
   },
   {
    "duration": 0,
    "start_time": "2024-02-26T09:20:24.415Z"
   },
   {
    "duration": 0,
    "start_time": "2024-02-26T09:20:24.416Z"
   },
   {
    "duration": 0,
    "start_time": "2024-02-26T09:20:24.417Z"
   },
   {
    "duration": 0,
    "start_time": "2024-02-26T09:20:24.419Z"
   },
   {
    "duration": 0,
    "start_time": "2024-02-26T09:20:24.420Z"
   },
   {
    "duration": 0,
    "start_time": "2024-02-26T09:20:24.421Z"
   },
   {
    "duration": 0,
    "start_time": "2024-02-26T09:20:24.423Z"
   },
   {
    "duration": 0,
    "start_time": "2024-02-26T09:20:24.424Z"
   },
   {
    "duration": 0,
    "start_time": "2024-02-26T09:20:24.433Z"
   },
   {
    "duration": 0,
    "start_time": "2024-02-26T09:20:24.435Z"
   },
   {
    "duration": 1108,
    "start_time": "2024-02-26T09:21:04.847Z"
   },
   {
    "duration": 53,
    "start_time": "2024-02-26T09:21:05.957Z"
   },
   {
    "duration": 22,
    "start_time": "2024-02-26T09:21:06.011Z"
   },
   {
    "duration": 13,
    "start_time": "2024-02-26T09:21:06.035Z"
   },
   {
    "duration": 15,
    "start_time": "2024-02-26T09:21:06.050Z"
   },
   {
    "duration": 10,
    "start_time": "2024-02-26T09:21:06.066Z"
   },
   {
    "duration": 4,
    "start_time": "2024-02-26T09:21:06.078Z"
   },
   {
    "duration": 23,
    "start_time": "2024-02-26T09:21:06.084Z"
   },
   {
    "duration": 38,
    "start_time": "2024-02-26T09:21:06.108Z"
   },
   {
    "duration": 11,
    "start_time": "2024-02-26T09:21:06.147Z"
   },
   {
    "duration": 6,
    "start_time": "2024-02-26T09:21:06.159Z"
   },
   {
    "duration": 28,
    "start_time": "2024-02-26T09:21:06.166Z"
   },
   {
    "duration": 54,
    "start_time": "2024-02-26T09:21:06.196Z"
   },
   {
    "duration": 10,
    "start_time": "2024-02-26T09:21:06.253Z"
   },
   {
    "duration": 5,
    "start_time": "2024-02-26T09:21:06.265Z"
   },
   {
    "duration": 6,
    "start_time": "2024-02-26T09:21:06.271Z"
   },
   {
    "duration": 309,
    "start_time": "2024-02-26T09:21:06.279Z"
   },
   {
    "duration": 11,
    "start_time": "2024-02-26T09:21:06.589Z"
   },
   {
    "duration": 199,
    "start_time": "2024-02-26T09:21:06.601Z"
   },
   {
    "duration": 31,
    "start_time": "2024-02-26T09:21:06.802Z"
   },
   {
    "duration": 334,
    "start_time": "2024-02-26T09:21:06.835Z"
   },
   {
    "duration": 17,
    "start_time": "2024-02-26T09:21:07.171Z"
   },
   {
    "duration": 20,
    "start_time": "2024-02-26T09:21:07.190Z"
   },
   {
    "duration": 437,
    "start_time": "2024-02-26T09:21:07.212Z"
   },
   {
    "duration": 9,
    "start_time": "2024-02-26T09:21:07.651Z"
   },
   {
    "duration": 246,
    "start_time": "2024-02-26T09:21:07.661Z"
   },
   {
    "duration": 56,
    "start_time": "2024-02-26T09:21:07.909Z"
   },
   {
    "duration": 221,
    "start_time": "2024-02-26T09:21:07.966Z"
   },
   {
    "duration": 24,
    "start_time": "2024-02-26T09:21:08.188Z"
   },
   {
    "duration": 31,
    "start_time": "2024-02-26T09:21:08.213Z"
   },
   {
    "duration": 162,
    "start_time": "2024-02-26T09:21:08.245Z"
   },
   {
    "duration": 40,
    "start_time": "2024-02-26T09:21:08.409Z"
   },
   {
    "duration": 12,
    "start_time": "2024-02-26T09:21:08.450Z"
   },
   {
    "duration": 438,
    "start_time": "2024-02-26T09:21:08.464Z"
   },
   {
    "duration": 321,
    "start_time": "2024-02-26T09:21:08.904Z"
   },
   {
    "duration": 17,
    "start_time": "2024-02-26T09:21:09.227Z"
   },
   {
    "duration": 207,
    "start_time": "2024-02-26T09:21:09.245Z"
   },
   {
    "duration": 40,
    "start_time": "2024-02-26T09:21:09.453Z"
   },
   {
    "duration": 24,
    "start_time": "2024-02-26T09:21:09.495Z"
   },
   {
    "duration": 23,
    "start_time": "2024-02-26T09:21:09.520Z"
   },
   {
    "duration": 23,
    "start_time": "2024-02-26T09:21:09.547Z"
   },
   {
    "duration": 211,
    "start_time": "2024-02-26T09:21:09.572Z"
   },
   {
    "duration": 200,
    "start_time": "2024-02-26T09:21:09.785Z"
   },
   {
    "duration": 193,
    "start_time": "2024-02-26T09:21:09.987Z"
   },
   {
    "duration": 204,
    "start_time": "2024-02-26T09:21:10.181Z"
   },
   {
    "duration": 8,
    "start_time": "2024-02-26T09:21:10.386Z"
   },
   {
    "duration": 352,
    "start_time": "2024-02-26T09:21:10.395Z"
   },
   {
    "duration": 8,
    "start_time": "2024-02-26T09:21:10.749Z"
   },
   {
    "duration": 242,
    "start_time": "2024-02-26T09:21:10.758Z"
   },
   {
    "duration": 235,
    "start_time": "2024-02-26T09:22:00.365Z"
   },
   {
    "duration": 247,
    "start_time": "2024-02-26T09:22:11.844Z"
   },
   {
    "duration": 210,
    "start_time": "2024-02-26T09:22:22.963Z"
   },
   {
    "duration": 325,
    "start_time": "2024-02-26T09:22:27.935Z"
   },
   {
    "duration": 223,
    "start_time": "2024-02-26T09:22:37.475Z"
   },
   {
    "duration": 1252,
    "start_time": "2024-02-27T08:49:51.003Z"
   },
   {
    "duration": 97,
    "start_time": "2024-02-27T08:49:52.257Z"
   },
   {
    "duration": 23,
    "start_time": "2024-02-27T08:49:52.356Z"
   },
   {
    "duration": 30,
    "start_time": "2024-02-27T08:49:52.380Z"
   },
   {
    "duration": 17,
    "start_time": "2024-02-27T08:49:52.412Z"
   },
   {
    "duration": 8,
    "start_time": "2024-02-27T08:49:52.431Z"
   },
   {
    "duration": 3,
    "start_time": "2024-02-27T08:49:52.440Z"
   },
   {
    "duration": 24,
    "start_time": "2024-02-27T08:49:52.444Z"
   },
   {
    "duration": 24,
    "start_time": "2024-02-27T08:49:52.470Z"
   },
   {
    "duration": 16,
    "start_time": "2024-02-27T08:49:52.495Z"
   },
   {
    "duration": 15,
    "start_time": "2024-02-27T08:49:52.512Z"
   },
   {
    "duration": 33,
    "start_time": "2024-02-27T08:49:52.528Z"
   },
   {
    "duration": 38,
    "start_time": "2024-02-27T08:49:52.563Z"
   },
   {
    "duration": 10,
    "start_time": "2024-02-27T08:49:52.604Z"
   },
   {
    "duration": 6,
    "start_time": "2024-02-27T08:49:52.615Z"
   },
   {
    "duration": 23,
    "start_time": "2024-02-27T08:49:52.622Z"
   },
   {
    "duration": 282,
    "start_time": "2024-02-27T08:49:52.646Z"
   },
   {
    "duration": 18,
    "start_time": "2024-02-27T08:49:52.930Z"
   },
   {
    "duration": 199,
    "start_time": "2024-02-27T08:49:52.949Z"
   },
   {
    "duration": 21,
    "start_time": "2024-02-27T08:49:53.149Z"
   },
   {
    "duration": 318,
    "start_time": "2024-02-27T08:49:53.172Z"
   },
   {
    "duration": 16,
    "start_time": "2024-02-27T08:49:53.492Z"
   },
   {
    "duration": 32,
    "start_time": "2024-02-27T08:49:53.509Z"
   },
   {
    "duration": 487,
    "start_time": "2024-02-27T08:49:53.543Z"
   },
   {
    "duration": 13,
    "start_time": "2024-02-27T08:49:54.032Z"
   },
   {
    "duration": 235,
    "start_time": "2024-02-27T08:49:54.046Z"
   },
   {
    "duration": 51,
    "start_time": "2024-02-27T08:49:54.282Z"
   },
   {
    "duration": 221,
    "start_time": "2024-02-27T08:49:54.345Z"
   },
   {
    "duration": 27,
    "start_time": "2024-02-27T08:49:54.567Z"
   },
   {
    "duration": 15,
    "start_time": "2024-02-27T08:49:54.595Z"
   },
   {
    "duration": 160,
    "start_time": "2024-02-27T08:49:54.611Z"
   },
   {
    "duration": 26,
    "start_time": "2024-02-27T08:49:54.773Z"
   },
   {
    "duration": 12,
    "start_time": "2024-02-27T08:49:54.801Z"
   },
   {
    "duration": 487,
    "start_time": "2024-02-27T08:49:54.814Z"
   },
   {
    "duration": 305,
    "start_time": "2024-02-27T08:49:55.303Z"
   },
   {
    "duration": 13,
    "start_time": "2024-02-27T08:49:55.609Z"
   },
   {
    "duration": 216,
    "start_time": "2024-02-27T08:49:55.624Z"
   },
   {
    "duration": 43,
    "start_time": "2024-02-27T08:49:55.841Z"
   },
   {
    "duration": 27,
    "start_time": "2024-02-27T08:49:55.885Z"
   },
   {
    "duration": 24,
    "start_time": "2024-02-27T08:49:55.913Z"
   },
   {
    "duration": 24,
    "start_time": "2024-02-27T08:49:55.940Z"
   },
   {
    "duration": 203,
    "start_time": "2024-02-27T08:49:55.965Z"
   },
   {
    "duration": 199,
    "start_time": "2024-02-27T08:49:56.170Z"
   },
   {
    "duration": 196,
    "start_time": "2024-02-27T08:49:56.370Z"
   },
   {
    "duration": 197,
    "start_time": "2024-02-27T08:49:56.567Z"
   },
   {
    "duration": 9,
    "start_time": "2024-02-27T08:49:56.766Z"
   },
   {
    "duration": 334,
    "start_time": "2024-02-27T08:49:56.777Z"
   },
   {
    "duration": 9,
    "start_time": "2024-02-27T08:49:57.113Z"
   },
   {
    "duration": 265,
    "start_time": "2024-02-27T08:49:57.123Z"
   },
   {
    "duration": 107,
    "start_time": "2024-03-08T14:37:18.612Z"
   }
  ],
  "kernelspec": {
   "display_name": "Python 3 (ipykernel)",
   "language": "python",
   "name": "python3"
  },
  "language_info": {
   "codemirror_mode": {
    "name": "ipython",
    "version": 3
   },
   "file_extension": ".py",
   "mimetype": "text/x-python",
   "name": "python",
   "nbconvert_exporter": "python",
   "pygments_lexer": "ipython3",
   "version": "3.9.5"
  },
  "toc": {
   "base_numbering": 1,
   "nav_menu": {},
   "number_sections": true,
   "sideBar": true,
   "skip_h1_title": true,
   "title_cell": "Table of Contents",
   "title_sidebar": "Contents",
   "toc_cell": false,
   "toc_position": {},
   "toc_section_display": true,
   "toc_window_display": false
  }
 },
 "nbformat": 4,
 "nbformat_minor": 2
}
