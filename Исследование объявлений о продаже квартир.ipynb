{
 "cells": [
  {
   "cell_type": "markdown",
   "metadata": {},
   "source": [
    "# Исследование объявлений о продаже квартир\n"
   ]
  },
  {
   "cell_type": "markdown",
   "metadata": {},
   "source": [
    "[Ссылка на презентацию:](https://docs.google.com/presentation/d/1rqCAczqZT5w8sY0M8rCpF3QP_dZ2J0Cy/edit?usp=sharing&ouid=115378190131547711286&rtpof=true&sd=true)"
   ]
  },
  {
   "cell_type": "markdown",
   "metadata": {},
   "source": [
    "**Цель исследования** — выполнить предобработку данных и изучить их, чтобы найти интересные особенности и зависимости, которые существуют на рынке недвижимости. В дальнейшем это поможет установить приоритетные параметры для автоматизации систем сервиса, которые помогут отследить аномалии и мошенническую деятельность."
   ]
  },
  {
   "cell_type": "markdown",
   "metadata": {},
   "source": [
    "**Входные данные** – архив объявлений за несколько лет о продаже квартир в Санкт-Петербурге и соседних населённых пунктах от сервиса Яндекс Недвижимость. О каждой квартире в базе содержится два типа данных: добавленные пользователем и картографические. Например, к первому типу относятся площадь квартиры, её этаж и количество балконов, ко второму — расстояния до центра города, аэропорта и ближайшего парка.\n",
    "\n",
    "- airports_nearest — расстояние до ближайшего аэропорта в метрах (м)\n",
    "- balcony — число балконов\n",
    "- ceiling_height — высота потолков (м)\n",
    "- cityCenters_nearest — расстояние до центра города (м)\n",
    "- days_exposition — сколько дней было размещено объявление (от публикации до снятия)\n",
    "- first_day_exposition — дата публикации\n",
    "- floor — этаж\n",
    "- floors_total — всего этажей в доме\n",
    "- is_apartment — апартаменты (булев тип)\n",
    "- kitchen_area — площадь кухни в квадратных метрах (м²)\n",
    "- last_price — цена на момент снятия с публикации\n",
    "- living_area — жилая площадь в квадратных метрах (м²)\n",
    "- locality_name — название населённого пункта\n",
    "- open_plan — свободная планировка (булев тип)\n",
    "- parks_around3000 — число парков в радиусе 3 км\n",
    "- parks_nearest — расстояние до ближайшего парка (м)\n",
    "- ponds_around3000 — число водоёмов в радиусе 3 км\n",
    "- ponds_nearest — расстояние до ближайшего водоёма (м)\n",
    "- rooms — число комнат\n",
    "- studio — квартира-студия (булев тип)\n",
    "- total_area — общая площадь квартиры в квадратных метрах (м²)\n",
    "- total_images — число фотографий квартиры в объявлении"
   ]
  },
  {
   "cell_type": "markdown",
   "metadata": {},
   "source": [
    "## Содержание\n",
    "- [1.1  Открытие файла с данными и общей информацией](#a)\n",
    "- [1.2  Предобработка данных](#s)\n",
    "- [1.3  Посчитайте и добавьте в таблицу новые столбцы](#d)\n",
    "- [1.4  Проведите исследовательский анализ данных](#f)\n",
    "- [1.5  Общий вывод](#g)\n"
   ]
  },
  {
   "cell_type": "markdown",
   "metadata": {},
   "source": [
    "### Откройте файл с данными и изучите общую информацию.<a id='a'></a> "
   ]
  },
  {
   "cell_type": "code",
   "execution_count": 1,
   "metadata": {},
   "outputs": [],
   "source": [
    "# импорт библиотек\n",
    "import pandas as pd\n",
    "import matplotlib\n",
    "import matplotlib.pyplot as plt\n",
    "pd.set_option('display.max_columns', None)\n",
    "import seaborn as sns\n",
    "pd.options.display.float_format = '{:.2f}'.format"
   ]
  },
  {
   "cell_type": "code",
   "execution_count": 2,
   "metadata": {},
   "outputs": [],
   "source": [
    "data=pd.read_csv('/datasets/real_estate_data.csv',sep=\"\\t\")# читаем csv-файл, данные слились, поэтому используем разделитель"
   ]
  },
  {
   "cell_type": "code",
   "execution_count": 3,
   "metadata": {},
   "outputs": [
    {
     "data": {
      "text/html": [
       "<div>\n",
       "<style scoped>\n",
       "    .dataframe tbody tr th:only-of-type {\n",
       "        vertical-align: middle;\n",
       "    }\n",
       "\n",
       "    .dataframe tbody tr th {\n",
       "        vertical-align: top;\n",
       "    }\n",
       "\n",
       "    .dataframe thead th {\n",
       "        text-align: right;\n",
       "    }\n",
       "</style>\n",
       "<table border=\"1\" class=\"dataframe\">\n",
       "  <thead>\n",
       "    <tr style=\"text-align: right;\">\n",
       "      <th></th>\n",
       "      <th>total_images</th>\n",
       "      <th>last_price</th>\n",
       "      <th>total_area</th>\n",
       "      <th>first_day_exposition</th>\n",
       "      <th>rooms</th>\n",
       "      <th>ceiling_height</th>\n",
       "      <th>floors_total</th>\n",
       "      <th>living_area</th>\n",
       "      <th>floor</th>\n",
       "      <th>is_apartment</th>\n",
       "      <th>studio</th>\n",
       "      <th>open_plan</th>\n",
       "      <th>kitchen_area</th>\n",
       "      <th>balcony</th>\n",
       "      <th>locality_name</th>\n",
       "      <th>airports_nearest</th>\n",
       "      <th>cityCenters_nearest</th>\n",
       "      <th>parks_around3000</th>\n",
       "      <th>parks_nearest</th>\n",
       "      <th>ponds_around3000</th>\n",
       "      <th>ponds_nearest</th>\n",
       "      <th>days_exposition</th>\n",
       "    </tr>\n",
       "  </thead>\n",
       "  <tbody>\n",
       "    <tr>\n",
       "      <th>0</th>\n",
       "      <td>20</td>\n",
       "      <td>13000000.00</td>\n",
       "      <td>108.00</td>\n",
       "      <td>2019-03-07T00:00:00</td>\n",
       "      <td>3</td>\n",
       "      <td>2.70</td>\n",
       "      <td>16.00</td>\n",
       "      <td>51.00</td>\n",
       "      <td>8</td>\n",
       "      <td>NaN</td>\n",
       "      <td>False</td>\n",
       "      <td>False</td>\n",
       "      <td>25.00</td>\n",
       "      <td>NaN</td>\n",
       "      <td>Санкт-Петербург</td>\n",
       "      <td>18863.00</td>\n",
       "      <td>16028.00</td>\n",
       "      <td>1.00</td>\n",
       "      <td>482.00</td>\n",
       "      <td>2.00</td>\n",
       "      <td>755.00</td>\n",
       "      <td>NaN</td>\n",
       "    </tr>\n",
       "    <tr>\n",
       "      <th>1</th>\n",
       "      <td>7</td>\n",
       "      <td>3350000.00</td>\n",
       "      <td>40.40</td>\n",
       "      <td>2018-12-04T00:00:00</td>\n",
       "      <td>1</td>\n",
       "      <td>NaN</td>\n",
       "      <td>11.00</td>\n",
       "      <td>18.60</td>\n",
       "      <td>1</td>\n",
       "      <td>NaN</td>\n",
       "      <td>False</td>\n",
       "      <td>False</td>\n",
       "      <td>11.00</td>\n",
       "      <td>2.00</td>\n",
       "      <td>посёлок Шушары</td>\n",
       "      <td>12817.00</td>\n",
       "      <td>18603.00</td>\n",
       "      <td>0.00</td>\n",
       "      <td>NaN</td>\n",
       "      <td>0.00</td>\n",
       "      <td>NaN</td>\n",
       "      <td>81.00</td>\n",
       "    </tr>\n",
       "    <tr>\n",
       "      <th>2</th>\n",
       "      <td>10</td>\n",
       "      <td>5196000.00</td>\n",
       "      <td>56.00</td>\n",
       "      <td>2015-08-20T00:00:00</td>\n",
       "      <td>2</td>\n",
       "      <td>NaN</td>\n",
       "      <td>5.00</td>\n",
       "      <td>34.30</td>\n",
       "      <td>4</td>\n",
       "      <td>NaN</td>\n",
       "      <td>False</td>\n",
       "      <td>False</td>\n",
       "      <td>8.30</td>\n",
       "      <td>0.00</td>\n",
       "      <td>Санкт-Петербург</td>\n",
       "      <td>21741.00</td>\n",
       "      <td>13933.00</td>\n",
       "      <td>1.00</td>\n",
       "      <td>90.00</td>\n",
       "      <td>2.00</td>\n",
       "      <td>574.00</td>\n",
       "      <td>558.00</td>\n",
       "    </tr>\n",
       "    <tr>\n",
       "      <th>3</th>\n",
       "      <td>0</td>\n",
       "      <td>64900000.00</td>\n",
       "      <td>159.00</td>\n",
       "      <td>2015-07-24T00:00:00</td>\n",
       "      <td>3</td>\n",
       "      <td>NaN</td>\n",
       "      <td>14.00</td>\n",
       "      <td>NaN</td>\n",
       "      <td>9</td>\n",
       "      <td>NaN</td>\n",
       "      <td>False</td>\n",
       "      <td>False</td>\n",
       "      <td>NaN</td>\n",
       "      <td>0.00</td>\n",
       "      <td>Санкт-Петербург</td>\n",
       "      <td>28098.00</td>\n",
       "      <td>6800.00</td>\n",
       "      <td>2.00</td>\n",
       "      <td>84.00</td>\n",
       "      <td>3.00</td>\n",
       "      <td>234.00</td>\n",
       "      <td>424.00</td>\n",
       "    </tr>\n",
       "    <tr>\n",
       "      <th>4</th>\n",
       "      <td>2</td>\n",
       "      <td>10000000.00</td>\n",
       "      <td>100.00</td>\n",
       "      <td>2018-06-19T00:00:00</td>\n",
       "      <td>2</td>\n",
       "      <td>3.03</td>\n",
       "      <td>14.00</td>\n",
       "      <td>32.00</td>\n",
       "      <td>13</td>\n",
       "      <td>NaN</td>\n",
       "      <td>False</td>\n",
       "      <td>False</td>\n",
       "      <td>41.00</td>\n",
       "      <td>NaN</td>\n",
       "      <td>Санкт-Петербург</td>\n",
       "      <td>31856.00</td>\n",
       "      <td>8098.00</td>\n",
       "      <td>2.00</td>\n",
       "      <td>112.00</td>\n",
       "      <td>1.00</td>\n",
       "      <td>48.00</td>\n",
       "      <td>121.00</td>\n",
       "    </tr>\n",
       "    <tr>\n",
       "      <th>5</th>\n",
       "      <td>10</td>\n",
       "      <td>2890000.00</td>\n",
       "      <td>30.40</td>\n",
       "      <td>2018-09-10T00:00:00</td>\n",
       "      <td>1</td>\n",
       "      <td>NaN</td>\n",
       "      <td>12.00</td>\n",
       "      <td>14.40</td>\n",
       "      <td>5</td>\n",
       "      <td>NaN</td>\n",
       "      <td>False</td>\n",
       "      <td>False</td>\n",
       "      <td>9.10</td>\n",
       "      <td>NaN</td>\n",
       "      <td>городской посёлок Янино-1</td>\n",
       "      <td>NaN</td>\n",
       "      <td>NaN</td>\n",
       "      <td>NaN</td>\n",
       "      <td>NaN</td>\n",
       "      <td>NaN</td>\n",
       "      <td>NaN</td>\n",
       "      <td>55.00</td>\n",
       "    </tr>\n",
       "    <tr>\n",
       "      <th>6</th>\n",
       "      <td>6</td>\n",
       "      <td>3700000.00</td>\n",
       "      <td>37.30</td>\n",
       "      <td>2017-11-02T00:00:00</td>\n",
       "      <td>1</td>\n",
       "      <td>NaN</td>\n",
       "      <td>26.00</td>\n",
       "      <td>10.60</td>\n",
       "      <td>6</td>\n",
       "      <td>NaN</td>\n",
       "      <td>False</td>\n",
       "      <td>False</td>\n",
       "      <td>14.40</td>\n",
       "      <td>1.00</td>\n",
       "      <td>посёлок Парголово</td>\n",
       "      <td>52996.00</td>\n",
       "      <td>19143.00</td>\n",
       "      <td>0.00</td>\n",
       "      <td>NaN</td>\n",
       "      <td>0.00</td>\n",
       "      <td>NaN</td>\n",
       "      <td>155.00</td>\n",
       "    </tr>\n",
       "    <tr>\n",
       "      <th>7</th>\n",
       "      <td>5</td>\n",
       "      <td>7915000.00</td>\n",
       "      <td>71.60</td>\n",
       "      <td>2019-04-18T00:00:00</td>\n",
       "      <td>2</td>\n",
       "      <td>NaN</td>\n",
       "      <td>24.00</td>\n",
       "      <td>NaN</td>\n",
       "      <td>22</td>\n",
       "      <td>NaN</td>\n",
       "      <td>False</td>\n",
       "      <td>False</td>\n",
       "      <td>18.90</td>\n",
       "      <td>2.00</td>\n",
       "      <td>Санкт-Петербург</td>\n",
       "      <td>23982.00</td>\n",
       "      <td>11634.00</td>\n",
       "      <td>0.00</td>\n",
       "      <td>NaN</td>\n",
       "      <td>0.00</td>\n",
       "      <td>NaN</td>\n",
       "      <td>NaN</td>\n",
       "    </tr>\n",
       "    <tr>\n",
       "      <th>8</th>\n",
       "      <td>20</td>\n",
       "      <td>2900000.00</td>\n",
       "      <td>33.16</td>\n",
       "      <td>2018-05-23T00:00:00</td>\n",
       "      <td>1</td>\n",
       "      <td>NaN</td>\n",
       "      <td>27.00</td>\n",
       "      <td>15.43</td>\n",
       "      <td>26</td>\n",
       "      <td>NaN</td>\n",
       "      <td>False</td>\n",
       "      <td>False</td>\n",
       "      <td>8.81</td>\n",
       "      <td>NaN</td>\n",
       "      <td>посёлок Мурино</td>\n",
       "      <td>NaN</td>\n",
       "      <td>NaN</td>\n",
       "      <td>NaN</td>\n",
       "      <td>NaN</td>\n",
       "      <td>NaN</td>\n",
       "      <td>NaN</td>\n",
       "      <td>189.00</td>\n",
       "    </tr>\n",
       "    <tr>\n",
       "      <th>9</th>\n",
       "      <td>18</td>\n",
       "      <td>5400000.00</td>\n",
       "      <td>61.00</td>\n",
       "      <td>2017-02-26T00:00:00</td>\n",
       "      <td>3</td>\n",
       "      <td>2.50</td>\n",
       "      <td>9.00</td>\n",
       "      <td>43.60</td>\n",
       "      <td>7</td>\n",
       "      <td>NaN</td>\n",
       "      <td>False</td>\n",
       "      <td>False</td>\n",
       "      <td>6.50</td>\n",
       "      <td>2.00</td>\n",
       "      <td>Санкт-Петербург</td>\n",
       "      <td>50898.00</td>\n",
       "      <td>15008.00</td>\n",
       "      <td>0.00</td>\n",
       "      <td>NaN</td>\n",
       "      <td>0.00</td>\n",
       "      <td>NaN</td>\n",
       "      <td>289.00</td>\n",
       "    </tr>\n",
       "  </tbody>\n",
       "</table>\n",
       "</div>"
      ],
      "text/plain": [
       "   total_images  last_price  total_area first_day_exposition  rooms  \\\n",
       "0            20 13000000.00      108.00  2019-03-07T00:00:00      3   \n",
       "1             7  3350000.00       40.40  2018-12-04T00:00:00      1   \n",
       "2            10  5196000.00       56.00  2015-08-20T00:00:00      2   \n",
       "3             0 64900000.00      159.00  2015-07-24T00:00:00      3   \n",
       "4             2 10000000.00      100.00  2018-06-19T00:00:00      2   \n",
       "5            10  2890000.00       30.40  2018-09-10T00:00:00      1   \n",
       "6             6  3700000.00       37.30  2017-11-02T00:00:00      1   \n",
       "7             5  7915000.00       71.60  2019-04-18T00:00:00      2   \n",
       "8            20  2900000.00       33.16  2018-05-23T00:00:00      1   \n",
       "9            18  5400000.00       61.00  2017-02-26T00:00:00      3   \n",
       "\n",
       "   ceiling_height  floors_total  living_area  floor is_apartment  studio  \\\n",
       "0            2.70         16.00        51.00      8          NaN   False   \n",
       "1             NaN         11.00        18.60      1          NaN   False   \n",
       "2             NaN          5.00        34.30      4          NaN   False   \n",
       "3             NaN         14.00          NaN      9          NaN   False   \n",
       "4            3.03         14.00        32.00     13          NaN   False   \n",
       "5             NaN         12.00        14.40      5          NaN   False   \n",
       "6             NaN         26.00        10.60      6          NaN   False   \n",
       "7             NaN         24.00          NaN     22          NaN   False   \n",
       "8             NaN         27.00        15.43     26          NaN   False   \n",
       "9            2.50          9.00        43.60      7          NaN   False   \n",
       "\n",
       "   open_plan  kitchen_area  balcony              locality_name  \\\n",
       "0      False         25.00      NaN            Санкт-Петербург   \n",
       "1      False         11.00     2.00             посёлок Шушары   \n",
       "2      False          8.30     0.00            Санкт-Петербург   \n",
       "3      False           NaN     0.00            Санкт-Петербург   \n",
       "4      False         41.00      NaN            Санкт-Петербург   \n",
       "5      False          9.10      NaN  городской посёлок Янино-1   \n",
       "6      False         14.40     1.00          посёлок Парголово   \n",
       "7      False         18.90     2.00            Санкт-Петербург   \n",
       "8      False          8.81      NaN             посёлок Мурино   \n",
       "9      False          6.50     2.00            Санкт-Петербург   \n",
       "\n",
       "   airports_nearest  cityCenters_nearest  parks_around3000  parks_nearest  \\\n",
       "0          18863.00             16028.00              1.00         482.00   \n",
       "1          12817.00             18603.00              0.00            NaN   \n",
       "2          21741.00             13933.00              1.00          90.00   \n",
       "3          28098.00              6800.00              2.00          84.00   \n",
       "4          31856.00              8098.00              2.00         112.00   \n",
       "5               NaN                  NaN               NaN            NaN   \n",
       "6          52996.00             19143.00              0.00            NaN   \n",
       "7          23982.00             11634.00              0.00            NaN   \n",
       "8               NaN                  NaN               NaN            NaN   \n",
       "9          50898.00             15008.00              0.00            NaN   \n",
       "\n",
       "   ponds_around3000  ponds_nearest  days_exposition  \n",
       "0              2.00         755.00              NaN  \n",
       "1              0.00            NaN            81.00  \n",
       "2              2.00         574.00           558.00  \n",
       "3              3.00         234.00           424.00  \n",
       "4              1.00          48.00           121.00  \n",
       "5               NaN            NaN            55.00  \n",
       "6              0.00            NaN           155.00  \n",
       "7              0.00            NaN              NaN  \n",
       "8               NaN            NaN           189.00  \n",
       "9              0.00            NaN           289.00  "
      ]
     },
     "execution_count": 3,
     "metadata": {},
     "output_type": "execute_result"
    }
   ],
   "source": [
    "data.head(10)#Вывjlbv первые 10 строчек датафрейма data на экран"
   ]
  },
  {
   "cell_type": "code",
   "execution_count": 4,
   "metadata": {},
   "outputs": [
    {
     "name": "stdout",
     "output_type": "stream",
     "text": [
      "<class 'pandas.core.frame.DataFrame'>\n",
      "RangeIndex: 23699 entries, 0 to 23698\n",
      "Data columns (total 22 columns):\n",
      " #   Column                Non-Null Count  Dtype  \n",
      "---  ------                --------------  -----  \n",
      " 0   total_images          23699 non-null  int64  \n",
      " 1   last_price            23699 non-null  float64\n",
      " 2   total_area            23699 non-null  float64\n",
      " 3   first_day_exposition  23699 non-null  object \n",
      " 4   rooms                 23699 non-null  int64  \n",
      " 5   ceiling_height        14504 non-null  float64\n",
      " 6   floors_total          23613 non-null  float64\n",
      " 7   living_area           21796 non-null  float64\n",
      " 8   floor                 23699 non-null  int64  \n",
      " 9   is_apartment          2775 non-null   object \n",
      " 10  studio                23699 non-null  bool   \n",
      " 11  open_plan             23699 non-null  bool   \n",
      " 12  kitchen_area          21421 non-null  float64\n",
      " 13  balcony               12180 non-null  float64\n",
      " 14  locality_name         23650 non-null  object \n",
      " 15  airports_nearest      18157 non-null  float64\n",
      " 16  cityCenters_nearest   18180 non-null  float64\n",
      " 17  parks_around3000      18181 non-null  float64\n",
      " 18  parks_nearest         8079 non-null   float64\n",
      " 19  ponds_around3000      18181 non-null  float64\n",
      " 20  ponds_nearest         9110 non-null   float64\n",
      " 21  days_exposition       20518 non-null  float64\n",
      "dtypes: bool(2), float64(14), int64(3), object(3)\n",
      "memory usage: 3.7+ MB\n"
     ]
    }
   ],
   "source": [
    "data.info()"
   ]
  },
  {
   "cell_type": "code",
   "execution_count": 5,
   "metadata": {},
   "outputs": [
    {
     "data": {
      "image/png": "[encoded data removed]",
      "text/plain": [
       "<Figure size 1080x1440 with 20 Axes>"
      ]
     },
     "metadata": {
      "needs_background": "light"
     },
     "output_type": "display_data"
    }
   ],
   "source": [
    "data.hist(figsize=(15, 20))\n",
    "plt.show()#строим общую гистограмму для всех числовых столбцов таблицы"
   ]
  },
  {
   "cell_type": "code",
   "execution_count": 6,
   "metadata": {},
   "outputs": [
    {
     "data": {
      "text/plain": [
       "0"
      ]
     },
     "execution_count": 6,
     "metadata": {},
     "output_type": "execute_result"
    }
   ],
   "source": [
    "# Проверим явные дубликаты в датафрейме:\n",
    "\n",
    "data.duplicated().sum()"
   ]
  },
  {
   "cell_type": "markdown",
   "metadata": {},
   "source": [
    "### Предобработка данных<a id='s'></a>"
   ]
  },
  {
   "cell_type": "code",
   "execution_count": 7,
   "metadata": {},
   "outputs": [],
   "source": [
    "# Дадим названию столбца cityCenters_nearest красивый вид\n",
    "data = data.rename(columns={'cityCenters_nearest' : 'city_centers_nearest'})"
   ]
  },
  {
   "cell_type": "code",
   "execution_count": 8,
   "metadata": {},
   "outputs": [
    {
     "data": {
      "text/plain": [
       "total_images                0\n",
       "last_price                  0\n",
       "total_area                  0\n",
       "first_day_exposition        0\n",
       "rooms                       0\n",
       "ceiling_height           9195\n",
       "floors_total               86\n",
       "living_area              1903\n",
       "floor                       0\n",
       "is_apartment            20924\n",
       "studio                      0\n",
       "open_plan                   0\n",
       "kitchen_area             2278\n",
       "balcony                 11519\n",
       "locality_name              49\n",
       "airports_nearest         5542\n",
       "city_centers_nearest     5519\n",
       "parks_around3000         5518\n",
       "parks_nearest           15620\n",
       "ponds_around3000         5518\n",
       "ponds_nearest           14589\n",
       "days_exposition          3181\n",
       "dtype: int64"
      ]
     },
     "execution_count": 8,
     "metadata": {},
     "output_type": "execute_result"
    }
   ],
   "source": [
    "data.isna().sum()# Найдём и изучим пропущенные значения в столбцах"
   ]
  },
  {
   "cell_type": "markdown",
   "metadata": {},
   "source": [
    "<div style=\"border:solid green 2px; padding: 20px\">\n",
    "<b>Вывод</b> \n",
    "В некоторых столбцах таблицы так много пропусков, которые возникли и по причине пользователей (например, не указано количество балконов и т.п) и картографические ошибки (например, не указано количество водоемов/парков). В столбцах parks_around3000, b ponds_around3000  также были пропуски даже в тех строках, где изначально было указано нулевое количество. Поэотму такие значения было решено заменить на ноль. \n",
    "\n",
    " Причина таких пропусков у пользователей в балконах, скорей всего банальное решение при заполнение анкеты - нет балкона, значит ставим пропуск (заопмним этот факт и предложим в дальнейшем указывать в анкете только числовые значение в данном столбце). Далее, картографические, уж больно они схожи по количеству, поэтому пока предположим, что это ошибка загрузки \n",
    " \n",
    " В столбце ceiling_height мы не можем проигнорировать пропуски, но и нулю тоже не могут быть равны, следовательно в дальнейшем заменим их на медианное значение. Такая же история со столбцами living_area, kitchen_area, попробуем заменить медианным значением.  Проверим столбец is_apartment, что лежит внутри него и можно ли это как-то исправить. Столбец locality_name всего 49 пропусков, это мизерная часть от обшей базы, без названия населеного пункта обьявление теряяет свой смысл, т.к даже названия улиц повторяются во многих города, поэтому заменим эти значения на \"unknown\". Необходимо проверить столбец days_exposition, возможно объявление не закрыто. Это можно проверить посчитав число пропусков по годам. Если получится, что чем позднее год, тем больше в нём пропусков, то обьявление актуально.\n",
    " \n",
    " В задании написано \"Заполните пропущенные значения там, где это возможно\", например в столбце cityCenters_nearest точно нельзя корректно ничем заполнить, этого можно было бы избежать, если бы мы знали адрес квартиры или хотя бы индекс. Некоторые столбцы нам не понадобятся для анализа. Например данные ponds_nearest, поэтому их трогать не будем. \n",
    " \n",
    " Таким образом, план ближайших действий такой:\n",
    " - в столбцах parks_around3000, b ponds_around3000, balcony пропуски заменяем на ноль. В этих же столбцах вещественный тип переведем в целочисленный \n",
    " - в стобце first_day_exposition поменяем тип на датетайм и отредактируем запись\n",
    " - проанализировать столбецы ceiling_height, living_area, kitchen_area проверить на аномалии, заменить пропуски\n",
    " - проверить столбец is_apartment, заменить пропуски\n",
    " - построить график по столбцу days_exposition, если там есть тенденция пропусков по годам, то учесть тот факт, что обьявление все еще открыто\n",
    " - в столбце locality_name заменить пропуски на \"unknown\". Заменим названия в столбце 'locality_name'. Для этого заменим 'ё' на 'е' и 'городской поселок' на 'поселок городского типа'."
   ]
  },
  {
   "cell_type": "markdown",
   "metadata": {},
   "source": [
    "<font color='green'>**Шаг 1. в столбцах parks_around3000, b ponds_around3000, balcony пропуски заменяем на ноль. В этих же столбцах вещественный тип переведем в целочисленный**</font>"
   ]
  },
  {
   "cell_type": "code",
   "execution_count": 9,
   "metadata": {},
   "outputs": [],
   "source": [
    "for column in ['balcony', 'parks_around3000', 'ponds_around3000']:\n",
    "    data[column] = data[column].fillna(0)# Заполним пропущенные значения 0 там, где это логически возможно. \n",
    "    #Если логичную замену предложить невозможно, то оставим эти значения пустыми.\n",
    "    #Пропуски — тоже важный сигнал, который нужно учитывать."
   ]
  },
  {
   "cell_type": "markdown",
   "metadata": {},
   "source": [
    "<font color='green'>**Шаг 2. в стобце first_day_exposition поменяем тип на датетайм и отредактируем запись**</font>"
   ]
  },
  {
   "cell_type": "code",
   "execution_count": 10,
   "metadata": {},
   "outputs": [],
   "source": [
    "#преобразуем строки в столбце first_day_exposition в datetime, так как данные округлены до дней, то сохраним в днях.\n",
    "data['first_day_exposition'] = pd.to_datetime(data['first_day_exposition'], format = '%Y-%m-%d')"
   ]
  },
  {
   "cell_type": "markdown",
   "metadata": {},
   "source": [
    "<font color='green'>**Шаг 3. проанализировать столбцы ceiling_height, living_area, kitchen_area проверить на аномалии, заменить пропуски**</font>"
   ]
  },
  {
   "cell_type": "code",
   "execution_count": 11,
   "metadata": {},
   "outputs": [
    {
     "data": {
      "image/png": "[encoded data removed]",
      "text/plain": [
       "<Figure size 432x288 with 1 Axes>"
      ]
     },
     "metadata": {
      "needs_background": "light"
     },
     "output_type": "display_data"
    },
    {
     "data": {
      "text/plain": [
       "array([  1.  ,   1.2 ,   1.75,   2.  ,   2.2 ,   2.25,   2.3 ,   2.34,\n",
       "         2.4 ,   2.45,   2.46,   2.47,   2.48,   2.49,   2.5 ,   2.51,\n",
       "         2.52,   2.53,   2.54,   2.55,   2.56,   2.57,   2.58,   2.59,\n",
       "         2.6 ,   2.61,   2.62,   2.63,   2.64,   2.65,   2.66,   2.67,\n",
       "         2.68,   2.69,   2.7 ,   2.71,   2.72,   2.73,   2.74,   2.75,\n",
       "         2.76,   2.77,   2.78,   2.79,   2.8 ,   2.81,   2.82,   2.83,\n",
       "         2.84,   2.85,   2.86,   2.87,   2.88,   2.89,   2.9 ,   2.91,\n",
       "         2.92,   2.93,   2.94,   2.95,   2.96,   2.97,   2.98,   2.99,\n",
       "         3.  ,   3.01,   3.02,   3.03,   3.04,   3.05,   3.06,   3.07,\n",
       "         3.08,   3.09,   3.1 ,   3.11,   3.12,   3.13,   3.14,   3.15,\n",
       "         3.16,   3.17,   3.18,   3.2 ,   3.21,   3.22,   3.23,   3.24,\n",
       "         3.25,   3.26,   3.27,   3.28,   3.29,   3.3 ,   3.31,   3.32,\n",
       "         3.33,   3.34,   3.35,   3.36,   3.37,   3.38,   3.39,   3.4 ,\n",
       "         3.42,   3.43,   3.44,   3.45,   3.46,   3.47,   3.48,   3.49,\n",
       "         3.5 ,   3.51,   3.52,   3.53,   3.54,   3.55,   3.56,   3.57,\n",
       "         3.58,   3.59,   3.6 ,   3.62,   3.63,   3.65,   3.66,   3.67,\n",
       "         3.68,   3.69,   3.7 ,   3.75,   3.76,   3.78,   3.8 ,   3.82,\n",
       "         3.83,   3.84,   3.85,   3.86,   3.87,   3.88,   3.9 ,   3.93,\n",
       "         3.95,   3.98,   4.  ,   4.06,   4.1 ,   4.14,   4.15,   4.19,\n",
       "         4.2 ,   4.25,   4.3 ,   4.37,   4.4 ,   4.45,   4.5 ,   4.65,\n",
       "         4.7 ,   4.8 ,   4.9 ,   5.  ,   5.2 ,   5.3 ,   5.5 ,   5.6 ,\n",
       "         5.8 ,   6.  ,   8.  ,   8.3 ,  10.3 ,  14.  ,  20.  ,  22.6 ,\n",
       "        24.  ,  25.  ,  26.  ,  27.  ,  27.5 ,  32.  , 100.  ,    nan])"
      ]
     },
     "metadata": {},
     "output_type": "display_data"
    }
   ],
   "source": [
    "#подробнее рассмотрим диаграмму столбца ceiling_height\n",
    "plt.hist(data[data['ceiling_height'].notna()].ceiling_height, bins=37, range=(2.3, 6))\n",
    "plt.xlabel('Высота потолка')\n",
    "plt.ylabel('Количество квартир')\n",
    "plt.show()\n",
    "#посмотрим уникальные значения столбца\n",
    "display(data['ceiling_height'].sort_values().unique())\n"
   ]
  },
  {
   "cell_type": "code",
   "execution_count": 12,
   "metadata": {},
   "outputs": [
    {
     "data": {
      "text/plain": [
       "array([ 1.  ,  1.03,  1.2 ,  1.4 ,  1.75,  2.  ,  2.2 ,  2.25,  2.26,\n",
       "        2.3 ,  2.34,  2.4 ,  2.45,  2.46,  2.47,  2.48,  2.49,  2.5 ,\n",
       "        2.51,  2.52,  2.53,  2.54,  2.55,  2.56,  2.57,  2.58,  2.59,\n",
       "        2.6 ,  2.61,  2.62,  2.63,  2.64,  2.65,  2.66,  2.67,  2.68,\n",
       "        2.69,  2.7 ,  2.71,  2.72,  2.73,  2.74,  2.75,  2.76,  2.77,\n",
       "        2.78,  2.79,  2.8 ,  2.81,  2.82,  2.83,  2.84,  2.85,  2.86,\n",
       "        2.87,  2.88,  2.89,  2.9 ,  2.91,  2.92,  2.93,  2.94,  2.95,\n",
       "        2.96,  2.97,  2.98,  2.99,  3.  ,  3.01,  3.02,  3.03,  3.04,\n",
       "        3.05,  3.06,  3.07,  3.08,  3.09,  3.1 ,  3.11,  3.12,  3.13,\n",
       "        3.14,  3.15,  3.16,  3.17,  3.18,  3.2 ,  3.21,  3.22,  3.23,\n",
       "        3.24,  3.25,  3.26,  3.27,  3.28,  3.29,  3.3 ,  3.31,  3.32,\n",
       "        3.33,  3.34,  3.35,  3.36,  3.37,  3.38,  3.39,  3.4 ,  3.42,\n",
       "        3.43,  3.44,  3.45,  3.46,  3.47,  3.48,  3.49,  3.5 ,  3.51,\n",
       "        3.52,  3.53,  3.54,  3.55,  3.56,  3.57,  3.58,  3.59,  3.6 ,\n",
       "        3.62,  3.63,  3.65,  3.66,  3.67,  3.68,  3.69,  3.7 ,  3.75,\n",
       "        3.76,  3.78,  3.8 ,  3.82,  3.83,  3.84,  3.85,  3.86,  3.87,\n",
       "        3.88,  3.9 ,  3.93,  3.95,  3.98,  4.  ,  4.06,  4.1 ,  4.14,\n",
       "        4.15,  4.19,  4.2 ,  4.25,  4.3 ,  4.37,  4.4 ,  4.45,  4.5 ,\n",
       "        4.65,  4.7 ,  4.8 ,  4.9 ,  5.  ,  5.2 ,  5.3 ,  5.5 ,  5.6 ,\n",
       "        5.8 ,  6.  ,  8.  ,  8.3 , 10.  ,   nan])"
      ]
     },
     "metadata": {},
     "output_type": "display_data"
    },
    {
     "data": {
      "text/plain": [
       "'количество квартир имеющих потолки выше 6 м'"
      ]
     },
     "metadata": {},
     "output_type": "display_data"
    },
    {
     "data": {
      "text/plain": [
       "5"
      ]
     },
     "metadata": {},
     "output_type": "display_data"
    },
    {
     "data": {
      "text/plain": [
       "'количество квартир имеющих потолки меньше 2 м'"
      ]
     },
     "metadata": {},
     "output_type": "display_data"
    },
    {
     "data": {
      "text/plain": [
       "5"
      ]
     },
     "metadata": {},
     "output_type": "display_data"
    },
    {
     "data": {
      "text/plain": [
       "count   23699.00\n",
       "mean        2.70\n",
       "std         0.24\n",
       "min         1.00\n",
       "25%         2.60\n",
       "50%         2.65\n",
       "75%         2.70\n",
       "max        10.00\n",
       "Name: ceiling_height, dtype: float64"
      ]
     },
     "execution_count": 12,
     "metadata": {},
     "output_type": "execute_result"
    }
   ],
   "source": [
    "# обработаем аномалии поделив на 10 высоты от 10 до 100\n",
    "data.loc[(data['ceiling_height'] >= 10) & (data['ceiling_height'] <= 100), 'ceiling_height'] = data['ceiling_height'] / 10\n",
    "display(data['ceiling_height'].sort_values().unique())\n",
    "#посчитаем количество квартир в которых высота потолков больше 6 м\n",
    "display('количество квартир имеющих потолки выше 6 м',\n",
    " len(data[data['ceiling_height'] > 6].sort_values('ceiling_height')))\n",
    "#посчитаем количество квартир в которых высота потолков меньше 2 м\n",
    "display('количество квартир имеющих потолки меньше 2 м',\n",
    " len(data[data['ceiling_height'] < 2].sort_values('ceiling_height')))\n",
    "#присвоем пропускам медианное значение\n",
    "data['ceiling_height'] = data['ceiling_height'].fillna(data['ceiling_height'].median())\n",
    "data['ceiling_height'].describe() # посмотрим, что получилось"
   ]
  },
  {
   "cell_type": "code",
   "execution_count": 13,
   "metadata": {},
   "outputs": [
    {
     "data": {
      "text/plain": [
       "count   23699.00\n",
       "mean        2.70\n",
       "std         0.22\n",
       "min         2.00\n",
       "25%         2.60\n",
       "50%         2.65\n",
       "75%         2.70\n",
       "max         6.00\n",
       "Name: ceiling_height, dtype: float64"
      ]
     },
     "execution_count": 13,
     "metadata": {},
     "output_type": "execute_result"
    }
   ],
   "source": [
    "#Также поступим с аномалиями\n",
    "data.loc[data['ceiling_height'] < 2.0, 'ceiling_height'] = data['ceiling_height'].median()\n",
    "data.loc[data['ceiling_height'] > 6.0, 'ceiling_height'] = data['ceiling_height'].median()\n",
    "data['ceiling_height'].describe() # посмотрим, что получилось"
   ]
  },
  {
   "cell_type": "markdown",
   "metadata": {},
   "source": [
    "Таким образом, получается, что в столбце ceiling_height была указана высота потолко от 1м до 100. В реальности такого быть не может, поэтому логично предположить, что на самом деле это вещественные значения: 2.5 м и 3.2 м. Далее, каким значением заменить пропуски? Ноль конечно же поставить нельзя, поэтому построили диаграмму и посмотрели медианное значение. Наиболее популярный вариант это 2.7, в принципе в жизни так оно и есть, даже типовые постройки идут примерно с таким размахом.\n",
    "\n",
    "Единственный нюанс, что мы смотрим квартиры в Санкт-Петербурге, а это значит, что в центре вполне могуть быть стрые квартриры в которых потолки по 4 м. В таких квартирах обычно делают небольшой 2 этаж. В списке уникальных значений есть от 1 до 2 м, т.к мы смотрим базу квартир, следовательно такие помещения будем считать анамальными, ведь не может человек жить в квартире, которая ему \"до пупка\" (учитывая, что средний рост взрослого человека 1,65м). Далее, потолки больше 6 м уже точно не являются жилыми и чаще всего относятся к складам, поэтому такие значения также считаем аномалиями. Так как таких аномальных квартир всего 10, то в данном случае заменим их значения на среднее. "
   ]
  },
  {
   "cell_type": "code",
   "execution_count": 14,
   "metadata": {},
   "outputs": [],
   "source": [
    "# заполним пропуски в столбце living_area медианым значением по количеству комнат\n",
    "#data['living_area']=data.groupby(['rooms'])['living_area'].apply(lambda y:y.fillna(y.median()))\n",
    "#data[data['living_area'] > data['total_area']]['rooms'].count() # проверим, чтобы не вышло жилой площади больше общей"
   ]
  },
  {
   "cell_type": "markdown",
   "metadata": {},
   "source": [
    "Сперва я решила, заполнить пропуски в столбце living_area медианым значением по количеству комнат, но при сверке обнаружились аномалии в количестве 29 записей, у которых  жилая площадь получалась больше общей. Поэтому было решено пойти другим путем. "
   ]
  },
  {
   "cell_type": "code",
   "execution_count": 15,
   "metadata": {},
   "outputs": [],
   "source": [
    "#Найдём коэффициент соотношения средней общей площади (там где она есть .isnull() == False) к среднему жилой площади:\n",
    "area_kof = data[data['living_area'].isnull() == False]['total_area'].mean() / data[data['living_area'].isnull()== False]['living_area'].mean()  \n",
    "#Заполняем пропуски отношением общей площади на коэффициент\n",
    "data['living_area'] = data['living_area'].fillna(data['total_area']/area_kof)"
   ]
  },
  {
   "cell_type": "code",
   "execution_count": 16,
   "metadata": {},
   "outputs": [
    {
     "data": {
      "text/plain": [
       "0"
      ]
     },
     "execution_count": 16,
     "metadata": {},
     "output_type": "execute_result"
    }
   ],
   "source": [
    "# проверим, чтобы не было жилой площади больше общей\n",
    "data[data['living_area'] > data['total_area']]['rooms'].count()"
   ]
  },
  {
   "cell_type": "code",
   "execution_count": 17,
   "metadata": {},
   "outputs": [
    {
     "data": {
      "text/plain": [
       "count   23699.00\n",
       "mean       34.61\n",
       "std        22.37\n",
       "min         2.00\n",
       "25%        19.00\n",
       "50%        30.00\n",
       "75%        42.10\n",
       "max       409.70\n",
       "Name: living_area, dtype: float64"
      ]
     },
     "execution_count": 17,
     "metadata": {},
     "output_type": "execute_result"
    }
   ],
   "source": [
    "# используем метод describe () для вычисления статистических данных по столбцу living_area\n",
    "data['living_area'].describe()"
   ]
  },
  {
   "cell_type": "code",
   "execution_count": 18,
   "metadata": {},
   "outputs": [
    {
     "data": {
      "text/plain": [
       "'количество квартир имеющих потолки выше 12 м'"
      ]
     },
     "metadata": {},
     "output_type": "display_data"
    },
    {
     "data": {
      "text/plain": [
       "146"
      ]
     },
     "metadata": {},
     "output_type": "display_data"
    },
    {
     "data": {
      "text/plain": [
       "'количество квартир имеющих потолки больше 200 м'"
      ]
     },
     "metadata": {},
     "output_type": "display_data"
    },
    {
     "data": {
      "text/plain": [
       "43"
      ]
     },
     "metadata": {},
     "output_type": "display_data"
    }
   ],
   "source": [
    "#посчитаем количество квартир в которых живая площадь меньше 12 м\n",
    "display('количество квартир имеющих потолки выше 12 м',\n",
    " len(data[data['living_area'] < 12].sort_values('living_area')))\n",
    "#посчитаем количество квартир в которых высота потолков больше 200 м\n",
    "display('количество квартир имеющих потолки больше 200 м',\n",
    " len(data[data['living_area'] > 200].sort_values('living_area')))"
   ]
  },
  {
   "cell_type": "code",
   "execution_count": 19,
   "metadata": {},
   "outputs": [
    {
     "data": {
      "text/plain": [
       "count   23699.00\n",
       "mean       34.31\n",
       "std        19.94\n",
       "min        12.00\n",
       "25%        19.00\n",
       "50%        30.00\n",
       "75%        42.00\n",
       "max       200.00\n",
       "Name: living_area, dtype: float64"
      ]
     },
     "execution_count": 19,
     "metadata": {},
     "output_type": "execute_result"
    }
   ],
   "source": [
    "#Также поступим с аномалиями\n",
    "data.loc[data['living_area'] < 12, 'living_area'] = data['living_area'].median()\n",
    "data.loc[data['living_area'] > 200, 'living_area'] = data['living_area'].median()\n",
    "data['living_area'].describe() # посмотрим, что получилось"
   ]
  },
  {
   "cell_type": "markdown",
   "metadata": {},
   "source": [
    "Таким образом, при использование первого метода для замены пропусков в столбце living_area, у нас появлялись аномалии в количистве 29 записей, был использован другой подход, в котором сначала был найден коэффициент соотношения средней общей площади к среднему жилой площади и после уже пропуски заполнялись отношением общей площади на коэффициент. Таким способом мы устранили получившуюся аномалию.  \n",
    "\n",
    "Самые маленькие квартиры, гордо называющиеся \"гостинки\" имеют размер жилой площади от 12 м². «Гостинки» строили в 1960—1980-х годах как временное жилье. В них жили, пока ждали очереди на полноценную квартиру и сравнивали с номерами в гостинице — отсюда и название. Правда, в наше время временное жильё трансформируется в современную \"студию\". Следовательно, те что меньше 12 м² считаем аномалиями. Также рассмотрим и гордые массивы площадью свыше 200 м², будем воспринимать их как  бизнес-класс и премиального жилья, все остальное считать за аномалии. Так как таких аномальных квартир всего 189, то в данном случае заменим их значения на среднее"
   ]
  },
  {
   "cell_type": "markdown",
   "metadata": {},
   "source": [
    "В столбеце kitchen_area есть 2278 прорусков. В квартирах студиях часто не указывается размер кухни, поэтому надо проверить какие значения указаны в таблице при таких параметрах. Если окажется, что именно в студиях отсутсвуют записи, то заменим их на ноль."
   ]
  },
  {
   "cell_type": "code",
   "execution_count": 20,
   "metadata": {},
   "outputs": [
    {
     "data": {
      "text/plain": [
       "array([nan])"
      ]
     },
     "execution_count": 20,
     "metadata": {},
     "output_type": "execute_result"
    }
   ],
   "source": [
    "#посмотрим уникальные значения \n",
    "data[data['studio'] == True]['kitchen_area'].unique()"
   ]
  },
  {
   "cell_type": "code",
   "execution_count": 21,
   "metadata": {},
   "outputs": [
    {
     "data": {
      "text/plain": [
       "2129"
      ]
     },
     "execution_count": 21,
     "metadata": {},
     "output_type": "execute_result"
    }
   ],
   "source": [
    "#гипотеза подтвердилась, поэтому заменим эти значения на ноль\n",
    "data.loc[data['studio'] == True, 'kitchen_area'] = 0 \n",
    "data['kitchen_area'].isna().sum()#пропусков все еще много"
   ]
  },
  {
   "cell_type": "code",
   "execution_count": 22,
   "metadata": {},
   "outputs": [],
   "source": [
    "#Найдём коэффициент соотношения средней общей площади (там где она есть .isnull() == False) к среднему жилой площади:\n",
    "area_kofk = data[data['kitchen_area'].isnull() == False]['total_area'].mean() / data[data['kitchen_area'].isnull()== False]['kitchen_area'].mean()  \n",
    "#Заполняем пропуски отношением общей площади на коэффициент\n",
    "data['kitchen_area'] = data['kitchen_area'].fillna(data['total_area']/area_kofk)"
   ]
  },
  {
   "cell_type": "code",
   "execution_count": 23,
   "metadata": {},
   "outputs": [
    {
     "data": {
      "text/plain": [
       "239"
      ]
     },
     "execution_count": 23,
     "metadata": {},
     "output_type": "execute_result"
    }
   ],
   "source": [
    "# проверим, чтобы не было жилой площади + кухни больше общей площади\n",
    "data[(data['living_area']+data['kitchen_area']) > data['total_area']]['rooms'].count()"
   ]
  },
  {
   "cell_type": "code",
   "execution_count": 24,
   "metadata": {},
   "outputs": [],
   "source": [
    "#у нас получилось аномальных 105 строк, для них посчитаем так, примем такое эмпирическое правило - жилая площадь равна 80% общей за вычетом кухни.\n",
    "area_check = data.total_area - data.kitchen_area - data.living_area\n",
    "data.loc[area_check <= 0, 'living_area'] = (data.total_area - data.kitchen_area) * 0.8"
   ]
  },
  {
   "cell_type": "code",
   "execution_count": 25,
   "metadata": {},
   "outputs": [
    {
     "data": {
      "text/plain": [
       "0"
      ]
     },
     "execution_count": 25,
     "metadata": {},
     "output_type": "execute_result"
    }
   ],
   "source": [
    "data[(data['living_area']+data['kitchen_area']) > data['total_area']]['rooms'].count()\n",
    "# проверим, чтобы не было жилой площади + кухни больше общей площади"
   ]
  },
  {
   "cell_type": "code",
   "execution_count": 26,
   "metadata": {},
   "outputs": [
    {
     "data": {
      "text/plain": [
       "count   23699.00\n",
       "mean       10.47\n",
       "std         6.07\n",
       "min         0.00\n",
       "25%         7.00\n",
       "50%         9.00\n",
       "75%        12.00\n",
       "max       112.00\n",
       "Name: kitchen_area, dtype: float64"
      ]
     },
     "execution_count": 26,
     "metadata": {},
     "output_type": "execute_result"
    }
   ],
   "source": [
    "# используем метод describe () для вычисления статистических данных по столбцу kitchen_area\n",
    "data['kitchen_area'].describe()"
   ]
  },
  {
   "cell_type": "markdown",
   "metadata": {},
   "source": [
    "Таким образом, при посмотре уникальных значений, было обнаружено, что в студиях не указан размер кухонь, его мы заменили на ноль. Не смотря на это, пропусков все еще было много, поэтому аналогично с ситуацией с живой плащади, используем тодже метод для кухонь. Получившиеся аномалии, обработали применив такое эмпирическое правило - жилая площадь равна 80% общей. \n",
    "\n"
   ]
  },
  {
   "cell_type": "markdown",
   "metadata": {},
   "source": [
    "<font color='green'>**Шаг 4. проверить столбец is_apartment, заменить пропуски**</font>"
   ]
  },
  {
   "cell_type": "code",
   "execution_count": 27,
   "metadata": {},
   "outputs": [],
   "source": [
    "# проверим столбец is_apartment\n",
    "data['is_apartment'].sort_values().unique()\n",
    "# в таком случа заменим пропуски на False\n",
    "data['is_apartment'] = data['is_apartment'].fillna(value=False)"
   ]
  },
  {
   "cell_type": "markdown",
   "metadata": {},
   "source": [
    "В столбце is_apartment оказались такие значения, как True, False и больше 20 тысяч пропусков. В таком случае, мы принимаем за факт, то что главное отличие апартаментов от квартир — это статус. Они являются нежилой недвижимостью. В них нельзя получить постоянную регистрацию — только временную по месту пребывания. Из-за этого, а также из-за отсутствия инфраструктуры апартаменты дешевле, чем обычные квартиры. Поэтому пропуски заменим значем False. "
   ]
  },
  {
   "cell_type": "markdown",
   "metadata": {},
   "source": [
    "<font color='green'>**Шаг 5. построить график по столбцу days_exposition, если там есть тенденция пропусков по годам, то учесть тот факт, что обьявление все еще открыто**</font>"
   ]
  },
  {
   "cell_type": "code",
   "execution_count": 28,
   "metadata": {},
   "outputs": [
    {
     "data": {
      "text/plain": [
       "first_day_exposition  days_exposition\n",
       "2014-11-27            573.00              1\n",
       "                      574.00              1\n",
       "                      583.00              1\n",
       "                      586.00              1\n",
       "                      606.00              1\n",
       "                                         ..\n",
       "2019-04-30            NaN                25\n",
       "2019-05-01            1.00                1\n",
       "                      NaN                29\n",
       "2019-05-02            NaN                11\n",
       "2019-05-03            NaN                20\n",
       "Name: days_exposition, Length: 18468, dtype: int64"
      ]
     },
     "execution_count": 28,
     "metadata": {},
     "output_type": "execute_result"
    }
   ],
   "source": [
    "#посмотрим распределение пропусков в столбце days_exposition по годам\n",
    "data.groupby('first_day_exposition')['days_exposition'].value_counts(dropna=False,ascending=True)"
   ]
  },
  {
   "cell_type": "code",
   "execution_count": 29,
   "metadata": {},
   "outputs": [
    {
     "data": {
      "image/png": "[encoded data removed]",
      "text/plain": [
       "<Figure size 864x360 with 1 Axes>"
      ]
     },
     "metadata": {
      "needs_background": "light"
     },
     "output_type": "display_data"
    }
   ],
   "source": [
    "# Для наглядности построим график распределения пропусков в столбце days_exposition по годам\n",
    "\n",
    "data.groupby('first_day_exposition')['days_exposition'].apply(lambda _data: _data.isna().sum()).plot(grid=True, figsize=(12, 5))\n",
    "plt.show()"
   ]
  },
  {
   "cell_type": "markdown",
   "metadata": {},
   "source": [
    "Таким образом было выявленно, что пропуски возрастают по годам, что позволяет предположить, что такие обьявления все еще не сняты с продаж. Поэтому эти значения мы оставим как есть. При этом запомним, что есть небольшое колиство обьявлений которые опубликованы несколько лет назад, но так до сих пор остаются открытыми. "
   ]
  },
  {
   "cell_type": "code",
   "execution_count": 30,
   "metadata": {},
   "outputs": [
    {
     "data": {
      "text/plain": [
       "total_images                0\n",
       "last_price                  0\n",
       "total_area                  0\n",
       "first_day_exposition        0\n",
       "rooms                       0\n",
       "ceiling_height              0\n",
       "floors_total               86\n",
       "living_area                 0\n",
       "floor                       0\n",
       "is_apartment                0\n",
       "studio                      0\n",
       "open_plan                   0\n",
       "kitchen_area                0\n",
       "balcony                     0\n",
       "locality_name              49\n",
       "airports_nearest         5542\n",
       "city_centers_nearest     5519\n",
       "parks_around3000            0\n",
       "parks_nearest           15620\n",
       "ponds_around3000            0\n",
       "ponds_nearest           14589\n",
       "days_exposition          3181\n",
       "dtype: int64"
      ]
     },
     "execution_count": 30,
     "metadata": {},
     "output_type": "execute_result"
    }
   ],
   "source": [
    "data.isna().sum()"
   ]
  },
  {
   "cell_type": "markdown",
   "metadata": {},
   "source": [
    "<font color='green'>**Шаг 6. в столбце locality_name заменить пропуски на \"unknown\". Заменим названия в столбце 'locality_name'. Для этого заменим 'ё' на 'е' и 'городской поселок' на 'поселок городского типа'**</font>"
   ]
  },
  {
   "cell_type": "code",
   "execution_count": 31,
   "metadata": {
    "scrolled": true
   },
   "outputs": [
    {
     "data": {
      "text/plain": [
       "array(['Бокситогорск', 'Волосово', 'Волхов', 'Всеволожск', 'Выборг',\n",
       "       'Высоцк', 'Гатчина', 'Зеленогорск', 'Ивангород', 'Каменногорск',\n",
       "       'Кингисепп', 'Кириши', 'Кировск', 'Колпино', 'Коммунар',\n",
       "       'Красное Село', 'Кронштадт', 'Кудрово', 'Лодейное Поле',\n",
       "       'Ломоносов', 'Луга', 'Любань', 'Мурино', 'Никольское',\n",
       "       'Новая Ладога', 'Отрадное', 'Павловск', 'Петергоф', 'Пикалёво',\n",
       "       'Подпорожье', 'Приморск', 'Приозерск', 'Пушкин', 'Санкт-Петербург',\n",
       "       'Светогорск', 'Сертолово', 'Сестрорецк', 'Сланцы', 'Сосновый Бор',\n",
       "       'Сясьстрой', 'Тихвин', 'Тосно', 'Шлиссельбург',\n",
       "       'городской поселок Большая Ижора', 'городской поселок Янино-1',\n",
       "       'городской посёлок Будогощь', 'городской посёлок Виллози',\n",
       "       'городской посёлок Лесогорский', 'городской посёлок Мга',\n",
       "       'городской посёлок Назия', 'городской посёлок Новоселье',\n",
       "       'городской посёлок Павлово', 'городской посёлок Рощино',\n",
       "       'городской посёлок Свирьстрой', 'городской посёлок Советский',\n",
       "       'городской посёлок Фёдоровское', 'городской посёлок Янино-1',\n",
       "       'деревня Агалатово', 'деревня Аро', 'деревня Батово',\n",
       "       'деревня Бегуницы', 'деревня Белогорка', 'деревня Большая Вруда',\n",
       "       'деревня Большая Пустомержа', 'деревня Большие Колпаны',\n",
       "       'деревня Большое Рейзино', 'деревня Большой Сабск', 'деревня Бор',\n",
       "       'деревня Борисова Грива', 'деревня Ваганово', 'деревня Вартемяги',\n",
       "       'деревня Вахнова Кара', 'деревня Выскатка', 'деревня Гарболово',\n",
       "       'деревня Глинка', 'деревня Горбунки', 'деревня Гостилицы',\n",
       "       'деревня Заклинье', 'деревня Заневка', 'деревня Зимитицы',\n",
       "       'деревня Извара', 'деревня Иссад', 'деревня Калитино',\n",
       "       'деревня Кальтино', 'деревня Камышовка', 'деревня Каськово',\n",
       "       'деревня Келози', 'деревня Кипень', 'деревня Кисельня',\n",
       "       'деревня Колтуши', 'деревня Коркино', 'деревня Котлы',\n",
       "       'деревня Кривко', 'деревня Кудрово', 'деревня Кузьмолово',\n",
       "       'деревня Курковицы', 'деревня Куровицы', 'деревня Куттузи',\n",
       "       'деревня Лаврики', 'деревня Лаголово', 'деревня Лампово',\n",
       "       'деревня Лесколово', 'деревня Лопухинка', 'деревня Лупполово',\n",
       "       'деревня Малая Романовка', 'деревня Малое Верево',\n",
       "       'деревня Малое Карлино', 'деревня Малые Колпаны',\n",
       "       'деревня Мануйлово', 'деревня Меньково', 'деревня Мины',\n",
       "       'деревня Мистолово', 'деревня Ненимяки', 'деревня Нижние Осельки',\n",
       "       'деревня Нижняя', 'деревня Низино', 'деревня Новое Девяткино',\n",
       "       'деревня Новолисино', 'деревня Нурма', 'деревня Оржицы',\n",
       "       'деревня Парицы', 'деревня Пельгора', 'деревня Пеники',\n",
       "       'деревня Пижма', 'деревня Пикколово', 'деревня Пудомяги',\n",
       "       'деревня Пустынка', 'деревня Пчева', 'деревня Рабитицы',\n",
       "       'деревня Разбегаево', 'деревня Раздолье', 'деревня Разметелево',\n",
       "       'деревня Рапполово', 'деревня Реброво', 'деревня Русско',\n",
       "       'деревня Сижно', 'деревня Снегирёвка', 'деревня Старая',\n",
       "       'деревня Старая Пустошь', 'деревня Старое Хинколово',\n",
       "       'деревня Старополье', 'деревня Старосиверская',\n",
       "       'деревня Старые Бегуницы', 'деревня Суоранда',\n",
       "       'деревня Сяськелево', 'деревня Тарасово', 'деревня Терпилицы',\n",
       "       'деревня Тихковицы', 'деревня Тойворово', 'деревня Торосово',\n",
       "       'деревня Торошковичи', 'деревня Трубников Бор',\n",
       "       'деревня Фалилеево', 'деревня Фёдоровское', 'деревня Хапо-Ое',\n",
       "       'деревня Хязельки', 'деревня Чудской Бор', 'деревня Шпаньково',\n",
       "       'деревня Щеглово', 'деревня Юкки', 'деревня Ялгино',\n",
       "       'деревня Яльгелево', 'деревня Ям-Тесово',\n",
       "       'коттеджный поселок Кивеннапа Север', 'коттеджный поселок Счастье',\n",
       "       'коттеджный посёлок Лесное', 'поселок Аннино', 'поселок Барышево',\n",
       "       'поселок Бугры', 'поселок Возрождение', 'поселок Войсковицы',\n",
       "       'поселок Володарское', 'поселок Гаврилово', 'поселок Гарболово',\n",
       "       'поселок Гладкое', 'поселок Глажево', 'поселок Глебычево',\n",
       "       'поселок Гончарово', 'поселок Громово', 'поселок Дружноселье',\n",
       "       'поселок Елизаветино', 'поселок Жилгородок', 'поселок Жилпосёлок',\n",
       "       'поселок Житково', 'поселок Заводской', 'поселок Запорожское',\n",
       "       'поселок Зимитицы', 'поселок Ильичёво', 'поселок Калитино',\n",
       "       'поселок Каложицы', 'поселок Кингисеппский', 'поселок Кирпичное',\n",
       "       'поселок Кобралово', 'поселок Кобринское', 'поселок Коммунары',\n",
       "       'поселок Коробицыно', 'поселок Котельский',\n",
       "       'поселок Красная Долина', 'поселок Красносельское',\n",
       "       'поселок Лесное', 'поселок Лисий Нос', 'поселок Лукаши',\n",
       "       'поселок Любань', 'поселок Мельниково', 'поселок Мичуринское',\n",
       "       'поселок Молодцово', 'поселок Мурино', 'поселок Новый Свет',\n",
       "       'поселок Новый Учхоз', 'поселок Оредеж',\n",
       "       'поселок Пансионат Зелёный Бор', 'поселок Первомайское',\n",
       "       'поселок Перово', 'поселок Петровское', 'поселок Победа',\n",
       "       'поселок Поляны', 'поселок Почап', 'поселок Починок',\n",
       "       'поселок Пушное', 'поселок Пчевжа', 'поселок Рабитицы',\n",
       "       'поселок Романовка', 'поселок Ромашки', 'поселок Рябово',\n",
       "       'поселок Севастьяново', 'поселок Селезнёво', 'поселок Сельцо',\n",
       "       'поселок Семиозерье', 'поселок Семрино', 'поселок Серебрянский',\n",
       "       'поселок Совхозный', 'поселок Старая Малукса',\n",
       "       'поселок Стеклянный', 'поселок Сумино', 'поселок Суходолье',\n",
       "       'поселок Тельмана', 'поселок Терволово', 'поселок Торковичи',\n",
       "       'поселок Тёсово-4', 'поселок Углово', 'поселок Усть-Луга',\n",
       "       'поселок Ушаки', 'поселок Цвелодубово', 'поселок Цвылёво',\n",
       "       'поселок городского типа Большая Ижора',\n",
       "       'поселок городского типа Вырица',\n",
       "       'поселок городского типа Дружная Горка',\n",
       "       'поселок городского типа Дубровка',\n",
       "       'поселок городского типа Ефимовский',\n",
       "       'поселок городского типа Кондратьево',\n",
       "       'поселок городского типа Красный Бор',\n",
       "       'поселок городского типа Кузьмоловский',\n",
       "       'поселок городского типа Лебяжье',\n",
       "       'поселок городского типа Лесогорский',\n",
       "       'поселок городского типа Назия',\n",
       "       'поселок городского типа Никольский',\n",
       "       'поселок городского типа Приладожский',\n",
       "       'поселок городского типа Рахья', 'поселок городского типа Рощино',\n",
       "       'поселок городского типа Рябово',\n",
       "       'поселок городского типа Синявино',\n",
       "       'поселок городского типа Советский',\n",
       "       'поселок городского типа Токсово',\n",
       "       'поселок городского типа Форносово',\n",
       "       'поселок городского типа имени Свердлова',\n",
       "       'поселок станции Вещево', 'поселок станции Корнево',\n",
       "       'поселок станции Лужайка', 'поселок станции Приветнинское',\n",
       "       'посёлок Александровская', 'посёлок Алексеевка', 'посёлок Аннино',\n",
       "       'посёлок Белоостров', 'посёлок Бугры', 'посёлок Возрождение',\n",
       "       'посёлок Войскорово', 'посёлок Высокоключевой',\n",
       "       'посёлок Гаврилово', 'посёлок Дзержинского', 'посёлок Жилгородок',\n",
       "       'посёлок Ильичёво', 'посёлок Кикерино', 'посёлок Кобралово',\n",
       "       'посёлок Коробицыно', 'посёлок Левашово', 'посёлок Ленинское',\n",
       "       'посёлок Лисий Нос', 'посёлок Мельниково', 'посёлок Металлострой',\n",
       "       'посёлок Мичуринское', 'посёлок Молодёжное', 'посёлок Мурино',\n",
       "       'посёлок Мыза-Ивановка', 'посёлок Новогорелово',\n",
       "       'посёлок Новый Свет', 'посёлок Пансионат Зелёный Бор',\n",
       "       'посёлок Парголово', 'посёлок Перово', 'посёлок Песочный',\n",
       "       'посёлок Петро-Славянка', 'посёлок Петровское',\n",
       "       'посёлок Платформа 69-й километр', 'посёлок Плодовое',\n",
       "       'посёлок Плоское', 'посёлок Победа', 'посёлок Поляны',\n",
       "       'посёлок Понтонный', 'посёлок Пригородный', 'посёлок Пудость',\n",
       "       'посёлок Репино', 'посёлок Ропша', 'посёлок Сапёрное',\n",
       "       'посёлок Сапёрный', 'посёлок Сосново', 'посёлок Старая Малукса',\n",
       "       'посёлок Стеклянный', 'посёлок Стрельна', 'посёлок Суйда',\n",
       "       'посёлок Сумино', 'посёлок Тельмана', 'посёлок Терволово',\n",
       "       'посёлок Торфяное', 'посёлок Усть-Ижора', 'посёлок Усть-Луга',\n",
       "       'посёлок Форт Красная Горка', 'посёлок Шугозеро', 'посёлок Шушары',\n",
       "       'посёлок Щеглово', 'посёлок городского типа Важины',\n",
       "       'посёлок городского типа Вознесенье',\n",
       "       'посёлок городского типа Вырица',\n",
       "       'посёлок городского типа Красный Бор',\n",
       "       'посёлок городского типа Кузнечное',\n",
       "       'посёлок городского типа Кузьмоловский',\n",
       "       'посёлок городского типа Лебяжье', 'посёлок городского типа Мга',\n",
       "       'посёлок городского типа Павлово',\n",
       "       'посёлок городского типа Рощино', 'посёлок городского типа Рябово',\n",
       "       'посёлок городского типа Сиверский',\n",
       "       'посёлок городского типа Тайцы', 'посёлок городского типа Токсово',\n",
       "       'посёлок городского типа Ульяновка',\n",
       "       'посёлок городского типа Форносово',\n",
       "       'посёлок городского типа имени Морозова',\n",
       "       'посёлок городского типа имени Свердлова',\n",
       "       'посёлок при железнодорожной станции Вещево',\n",
       "       'посёлок при железнодорожной станции Приветнинское',\n",
       "       'посёлок станции Громово', 'посёлок станции Свирь',\n",
       "       'садоводческое некоммерческое товарищество Лесная Поляна',\n",
       "       'садовое товарищество Новая Ропша',\n",
       "       'садовое товарищество Приладожский', 'садовое товарищество Рахья',\n",
       "       'садовое товарищество Садко', 'село Копорье', 'село Никольское',\n",
       "       'село Павлово', 'село Паша', 'село Путилово', 'село Рождествено',\n",
       "       'село Русско-Высоцкое', 'село Старая Ладога', 'село Шум', nan],\n",
       "      dtype=object)"
      ]
     },
     "execution_count": 31,
     "metadata": {},
     "output_type": "execute_result"
    }
   ],
   "source": [
    "# Изучим уникальные значения в столбце с названиями населённых пунктов и устраним неявные дубликаты. \n",
    "# Например, «поселок Рябово» и «поселок городского типа Рябово», «поселок Тельмана» и «посёлок Тельмана» — \n",
    "# это обозначения одних и тех же населённых пунктов. \n",
    "\n",
    "# Отсортируем и выведем уникальные значения в столбце 'locality_name'.\n",
    "\n",
    "data['locality_name'].sort_values().unique()"
   ]
  },
  {
   "cell_type": "code",
   "execution_count": 32,
   "metadata": {},
   "outputs": [
    {
     "data": {
      "text/plain": [
       "0"
      ]
     },
     "execution_count": 32,
     "metadata": {},
     "output_type": "execute_result"
    }
   ],
   "source": [
    "# Заменим названия в столбце 'locality_name'. Для этого заменим 'ё' на 'е' и 'городской поселок' на 'поселок городского типа'. \n",
    "\n",
    "data['locality_name'] = data['locality_name'].str.replace('ё', 'е')\n",
    "data['locality_name'] = data['locality_name'].str.replace('городской поселок', 'поселок городского типа')\n",
    "# пропуски в столбце заменим на значение \"unknown\"\n",
    "data['locality_name'] = data['locality_name'].fillna(\"unknown\")\n",
    "data['locality_name'].isna().sum()"
   ]
  },
  {
   "cell_type": "markdown",
   "metadata": {},
   "source": [
    "<div style=\"border:solid green 2px; padding: 20px\">\n",
    "<b>Вывод</b> \n",
    "    \n",
    "Выполнена первая предобработка данных. \n",
    "- Теперь цены квартир отображаются в тысячах рублей\n",
    "- лишние нули не мешаютсяв поле \"дата размещения\" осталась только дата без времени\n",
    "- высоты потолков приведены к реалистичным\n",
    "- пропуски в жилых площадях и площадях кухнь заполненыпропущенные значения \n",
    "- в полях \"апартаменты\" и \"балкон\" заполнены \n",
    "- квартирам-студям назначено единое число комнат 0\n",
    "- столбец cityCenters_nearest переименован\n",
    "- данные приведены к целочисленным, где это возможно\n",
    "Возможно, следует доработать форму подачи объявлений и дополнить ее контролем вводимых данных. Более глубокий анализ выбивающихся и нереалистичных значений будет проведен в дальнейшем."
   ]
  },
  {
   "cell_type": "code",
   "execution_count": 33,
   "metadata": {},
   "outputs": [
    {
     "data": {
      "text/html": [
       "<div>\n",
       "<style scoped>\n",
       "    .dataframe tbody tr th:only-of-type {\n",
       "        vertical-align: middle;\n",
       "    }\n",
       "\n",
       "    .dataframe tbody tr th {\n",
       "        vertical-align: top;\n",
       "    }\n",
       "\n",
       "    .dataframe thead th {\n",
       "        text-align: right;\n",
       "    }\n",
       "</style>\n",
       "<table border=\"1\" class=\"dataframe\">\n",
       "  <thead>\n",
       "    <tr style=\"text-align: right;\">\n",
       "      <th></th>\n",
       "      <th>total_images</th>\n",
       "      <th>last_price</th>\n",
       "      <th>total_area</th>\n",
       "      <th>rooms</th>\n",
       "      <th>ceiling_height</th>\n",
       "      <th>floors_total</th>\n",
       "      <th>living_area</th>\n",
       "      <th>floor</th>\n",
       "      <th>kitchen_area</th>\n",
       "      <th>balcony</th>\n",
       "      <th>airports_nearest</th>\n",
       "      <th>city_centers_nearest</th>\n",
       "      <th>parks_around3000</th>\n",
       "      <th>parks_nearest</th>\n",
       "      <th>ponds_around3000</th>\n",
       "      <th>ponds_nearest</th>\n",
       "      <th>days_exposition</th>\n",
       "    </tr>\n",
       "  </thead>\n",
       "  <tbody>\n",
       "    <tr>\n",
       "      <th>count</th>\n",
       "      <td>23699.00</td>\n",
       "      <td>23699.00</td>\n",
       "      <td>23699.00</td>\n",
       "      <td>23699.00</td>\n",
       "      <td>23699.00</td>\n",
       "      <td>23613.00</td>\n",
       "      <td>23699.00</td>\n",
       "      <td>23699.00</td>\n",
       "      <td>23699.00</td>\n",
       "      <td>23699.00</td>\n",
       "      <td>18157.00</td>\n",
       "      <td>18180.00</td>\n",
       "      <td>23699.00</td>\n",
       "      <td>8079.00</td>\n",
       "      <td>23699.00</td>\n",
       "      <td>9110.00</td>\n",
       "      <td>20518.00</td>\n",
       "    </tr>\n",
       "    <tr>\n",
       "      <th>mean</th>\n",
       "      <td>9.86</td>\n",
       "      <td>6541548.77</td>\n",
       "      <td>60.35</td>\n",
       "      <td>2.07</td>\n",
       "      <td>2.70</td>\n",
       "      <td>10.67</td>\n",
       "      <td>34.15</td>\n",
       "      <td>5.89</td>\n",
       "      <td>10.47</td>\n",
       "      <td>0.59</td>\n",
       "      <td>28793.67</td>\n",
       "      <td>14191.28</td>\n",
       "      <td>0.47</td>\n",
       "      <td>490.80</td>\n",
       "      <td>0.59</td>\n",
       "      <td>517.98</td>\n",
       "      <td>180.89</td>\n",
       "    </tr>\n",
       "    <tr>\n",
       "      <th>std</th>\n",
       "      <td>5.68</td>\n",
       "      <td>10887013.27</td>\n",
       "      <td>35.65</td>\n",
       "      <td>1.08</td>\n",
       "      <td>0.22</td>\n",
       "      <td>6.60</td>\n",
       "      <td>19.94</td>\n",
       "      <td>4.89</td>\n",
       "      <td>6.07</td>\n",
       "      <td>0.96</td>\n",
       "      <td>12630.88</td>\n",
       "      <td>8608.39</td>\n",
       "      <td>0.75</td>\n",
       "      <td>342.32</td>\n",
       "      <td>0.88</td>\n",
       "      <td>277.72</td>\n",
       "      <td>219.73</td>\n",
       "    </tr>\n",
       "    <tr>\n",
       "      <th>min</th>\n",
       "      <td>0.00</td>\n",
       "      <td>12190.00</td>\n",
       "      <td>12.00</td>\n",
       "      <td>0.00</td>\n",
       "      <td>2.00</td>\n",
       "      <td>1.00</td>\n",
       "      <td>4.58</td>\n",
       "      <td>1.00</td>\n",
       "      <td>0.00</td>\n",
       "      <td>0.00</td>\n",
       "      <td>0.00</td>\n",
       "      <td>181.00</td>\n",
       "      <td>0.00</td>\n",
       "      <td>1.00</td>\n",
       "      <td>0.00</td>\n",
       "      <td>13.00</td>\n",
       "      <td>1.00</td>\n",
       "    </tr>\n",
       "    <tr>\n",
       "      <th>25%</th>\n",
       "      <td>6.00</td>\n",
       "      <td>3400000.00</td>\n",
       "      <td>40.00</td>\n",
       "      <td>1.00</td>\n",
       "      <td>2.60</td>\n",
       "      <td>5.00</td>\n",
       "      <td>19.00</td>\n",
       "      <td>2.00</td>\n",
       "      <td>7.00</td>\n",
       "      <td>0.00</td>\n",
       "      <td>18585.00</td>\n",
       "      <td>9238.00</td>\n",
       "      <td>0.00</td>\n",
       "      <td>288.00</td>\n",
       "      <td>0.00</td>\n",
       "      <td>294.00</td>\n",
       "      <td>45.00</td>\n",
       "    </tr>\n",
       "    <tr>\n",
       "      <th>50%</th>\n",
       "      <td>9.00</td>\n",
       "      <td>4650000.00</td>\n",
       "      <td>52.00</td>\n",
       "      <td>2.00</td>\n",
       "      <td>2.65</td>\n",
       "      <td>9.00</td>\n",
       "      <td>30.00</td>\n",
       "      <td>4.00</td>\n",
       "      <td>9.00</td>\n",
       "      <td>0.00</td>\n",
       "      <td>26726.00</td>\n",
       "      <td>13098.50</td>\n",
       "      <td>0.00</td>\n",
       "      <td>455.00</td>\n",
       "      <td>0.00</td>\n",
       "      <td>502.00</td>\n",
       "      <td>95.00</td>\n",
       "    </tr>\n",
       "    <tr>\n",
       "      <th>75%</th>\n",
       "      <td>14.00</td>\n",
       "      <td>6800000.00</td>\n",
       "      <td>69.90</td>\n",
       "      <td>3.00</td>\n",
       "      <td>2.70</td>\n",
       "      <td>16.00</td>\n",
       "      <td>42.00</td>\n",
       "      <td>8.00</td>\n",
       "      <td>12.00</td>\n",
       "      <td>1.00</td>\n",
       "      <td>37273.00</td>\n",
       "      <td>16293.00</td>\n",
       "      <td>1.00</td>\n",
       "      <td>612.00</td>\n",
       "      <td>1.00</td>\n",
       "      <td>729.00</td>\n",
       "      <td>232.00</td>\n",
       "    </tr>\n",
       "    <tr>\n",
       "      <th>max</th>\n",
       "      <td>50.00</td>\n",
       "      <td>763000000.00</td>\n",
       "      <td>900.00</td>\n",
       "      <td>19.00</td>\n",
       "      <td>6.00</td>\n",
       "      <td>60.00</td>\n",
       "      <td>200.00</td>\n",
       "      <td>33.00</td>\n",
       "      <td>112.00</td>\n",
       "      <td>5.00</td>\n",
       "      <td>84869.00</td>\n",
       "      <td>65968.00</td>\n",
       "      <td>3.00</td>\n",
       "      <td>3190.00</td>\n",
       "      <td>3.00</td>\n",
       "      <td>1344.00</td>\n",
       "      <td>1580.00</td>\n",
       "    </tr>\n",
       "  </tbody>\n",
       "</table>\n",
       "</div>"
      ],
      "text/plain": [
       "       total_images   last_price  total_area    rooms  ceiling_height  \\\n",
       "count      23699.00     23699.00    23699.00 23699.00        23699.00   \n",
       "mean           9.86   6541548.77       60.35     2.07            2.70   \n",
       "std            5.68  10887013.27       35.65     1.08            0.22   \n",
       "min            0.00     12190.00       12.00     0.00            2.00   \n",
       "25%            6.00   3400000.00       40.00     1.00            2.60   \n",
       "50%            9.00   4650000.00       52.00     2.00            2.65   \n",
       "75%           14.00   6800000.00       69.90     3.00            2.70   \n",
       "max           50.00 763000000.00      900.00    19.00            6.00   \n",
       "\n",
       "       floors_total  living_area    floor  kitchen_area  balcony  \\\n",
       "count      23613.00     23699.00 23699.00      23699.00 23699.00   \n",
       "mean          10.67        34.15     5.89         10.47     0.59   \n",
       "std            6.60        19.94     4.89          6.07     0.96   \n",
       "min            1.00         4.58     1.00          0.00     0.00   \n",
       "25%            5.00        19.00     2.00          7.00     0.00   \n",
       "50%            9.00        30.00     4.00          9.00     0.00   \n",
       "75%           16.00        42.00     8.00         12.00     1.00   \n",
       "max           60.00       200.00    33.00        112.00     5.00   \n",
       "\n",
       "       airports_nearest  city_centers_nearest  parks_around3000  \\\n",
       "count          18157.00              18180.00          23699.00   \n",
       "mean           28793.67              14191.28              0.47   \n",
       "std            12630.88               8608.39              0.75   \n",
       "min                0.00                181.00              0.00   \n",
       "25%            18585.00               9238.00              0.00   \n",
       "50%            26726.00              13098.50              0.00   \n",
       "75%            37273.00              16293.00              1.00   \n",
       "max            84869.00              65968.00              3.00   \n",
       "\n",
       "       parks_nearest  ponds_around3000  ponds_nearest  days_exposition  \n",
       "count        8079.00          23699.00        9110.00         20518.00  \n",
       "mean          490.80              0.59         517.98           180.89  \n",
       "std           342.32              0.88         277.72           219.73  \n",
       "min             1.00              0.00          13.00             1.00  \n",
       "25%           288.00              0.00         294.00            45.00  \n",
       "50%           455.00              0.00         502.00            95.00  \n",
       "75%           612.00              1.00         729.00           232.00  \n",
       "max          3190.00              3.00        1344.00          1580.00  "
      ]
     },
     "execution_count": 33,
     "metadata": {},
     "output_type": "execute_result"
    }
   ],
   "source": [
    "data.describe()"
   ]
  },
  {
   "cell_type": "markdown",
   "metadata": {},
   "source": [
    "### Посчитайте и добавьте в таблицу новые столбцы<a id='d'></a>"
   ]
  },
  {
   "cell_type": "code",
   "execution_count": 34,
   "metadata": {},
   "outputs": [
    {
     "data": {
      "text/html": [
       "<div>\n",
       "<style scoped>\n",
       "    .dataframe tbody tr th:only-of-type {\n",
       "        vertical-align: middle;\n",
       "    }\n",
       "\n",
       "    .dataframe tbody tr th {\n",
       "        vertical-align: top;\n",
       "    }\n",
       "\n",
       "    .dataframe thead th {\n",
       "        text-align: right;\n",
       "    }\n",
       "</style>\n",
       "<table border=\"1\" class=\"dataframe\">\n",
       "  <thead>\n",
       "    <tr style=\"text-align: right;\">\n",
       "      <th></th>\n",
       "      <th>total_images</th>\n",
       "      <th>last_price</th>\n",
       "      <th>total_area</th>\n",
       "      <th>first_day_exposition</th>\n",
       "      <th>rooms</th>\n",
       "      <th>ceiling_height</th>\n",
       "      <th>floors_total</th>\n",
       "      <th>living_area</th>\n",
       "      <th>floor</th>\n",
       "      <th>is_apartment</th>\n",
       "      <th>studio</th>\n",
       "      <th>open_plan</th>\n",
       "      <th>kitchen_area</th>\n",
       "      <th>balcony</th>\n",
       "      <th>locality_name</th>\n",
       "      <th>airports_nearest</th>\n",
       "      <th>city_centers_nearest</th>\n",
       "      <th>parks_around3000</th>\n",
       "      <th>parks_nearest</th>\n",
       "      <th>ponds_around3000</th>\n",
       "      <th>ponds_nearest</th>\n",
       "      <th>days_exposition</th>\n",
       "      <th>one_meter_price</th>\n",
       "      <th>weekday_exposition</th>\n",
       "      <th>month_exposition</th>\n",
       "      <th>year_exposition</th>\n",
       "      <th>type_of_floor</th>\n",
       "      <th>city_centers_nearest_km</th>\n",
       "    </tr>\n",
       "  </thead>\n",
       "  <tbody>\n",
       "    <tr>\n",
       "      <th>0</th>\n",
       "      <td>20</td>\n",
       "      <td>13000000.00</td>\n",
       "      <td>108.00</td>\n",
       "      <td>2019-03-07</td>\n",
       "      <td>3</td>\n",
       "      <td>2.70</td>\n",
       "      <td>16.00</td>\n",
       "      <td>51.00</td>\n",
       "      <td>8</td>\n",
       "      <td>False</td>\n",
       "      <td>False</td>\n",
       "      <td>False</td>\n",
       "      <td>25.00</td>\n",
       "      <td>0.00</td>\n",
       "      <td>Санкт-Петербург</td>\n",
       "      <td>18863.00</td>\n",
       "      <td>16028.00</td>\n",
       "      <td>1.00</td>\n",
       "      <td>482.00</td>\n",
       "      <td>2.00</td>\n",
       "      <td>755.00</td>\n",
       "      <td>NaN</td>\n",
       "      <td>120370.37</td>\n",
       "      <td>3</td>\n",
       "      <td>3</td>\n",
       "      <td>2019</td>\n",
       "      <td>другой</td>\n",
       "      <td>16.00</td>\n",
       "    </tr>\n",
       "    <tr>\n",
       "      <th>1</th>\n",
       "      <td>7</td>\n",
       "      <td>3350000.00</td>\n",
       "      <td>40.40</td>\n",
       "      <td>2018-12-04</td>\n",
       "      <td>1</td>\n",
       "      <td>2.65</td>\n",
       "      <td>11.00</td>\n",
       "      <td>18.60</td>\n",
       "      <td>1</td>\n",
       "      <td>False</td>\n",
       "      <td>False</td>\n",
       "      <td>False</td>\n",
       "      <td>11.00</td>\n",
       "      <td>2.00</td>\n",
       "      <td>поселок Шушары</td>\n",
       "      <td>12817.00</td>\n",
       "      <td>18603.00</td>\n",
       "      <td>0.00</td>\n",
       "      <td>NaN</td>\n",
       "      <td>0.00</td>\n",
       "      <td>NaN</td>\n",
       "      <td>81.00</td>\n",
       "      <td>82920.79</td>\n",
       "      <td>1</td>\n",
       "      <td>12</td>\n",
       "      <td>2018</td>\n",
       "      <td>первый</td>\n",
       "      <td>19.00</td>\n",
       "    </tr>\n",
       "    <tr>\n",
       "      <th>2</th>\n",
       "      <td>10</td>\n",
       "      <td>5196000.00</td>\n",
       "      <td>56.00</td>\n",
       "      <td>2015-08-20</td>\n",
       "      <td>2</td>\n",
       "      <td>2.65</td>\n",
       "      <td>5.00</td>\n",
       "      <td>34.30</td>\n",
       "      <td>4</td>\n",
       "      <td>False</td>\n",
       "      <td>False</td>\n",
       "      <td>False</td>\n",
       "      <td>8.30</td>\n",
       "      <td>0.00</td>\n",
       "      <td>Санкт-Петербург</td>\n",
       "      <td>21741.00</td>\n",
       "      <td>13933.00</td>\n",
       "      <td>1.00</td>\n",
       "      <td>90.00</td>\n",
       "      <td>2.00</td>\n",
       "      <td>574.00</td>\n",
       "      <td>558.00</td>\n",
       "      <td>92785.71</td>\n",
       "      <td>3</td>\n",
       "      <td>8</td>\n",
       "      <td>2015</td>\n",
       "      <td>другой</td>\n",
       "      <td>14.00</td>\n",
       "    </tr>\n",
       "    <tr>\n",
       "      <th>3</th>\n",
       "      <td>0</td>\n",
       "      <td>64900000.00</td>\n",
       "      <td>159.00</td>\n",
       "      <td>2015-07-24</td>\n",
       "      <td>3</td>\n",
       "      <td>2.65</td>\n",
       "      <td>14.00</td>\n",
       "      <td>91.18</td>\n",
       "      <td>9</td>\n",
       "      <td>False</td>\n",
       "      <td>False</td>\n",
       "      <td>False</td>\n",
       "      <td>27.58</td>\n",
       "      <td>0.00</td>\n",
       "      <td>Санкт-Петербург</td>\n",
       "      <td>28098.00</td>\n",
       "      <td>6800.00</td>\n",
       "      <td>2.00</td>\n",
       "      <td>84.00</td>\n",
       "      <td>3.00</td>\n",
       "      <td>234.00</td>\n",
       "      <td>424.00</td>\n",
       "      <td>408176.10</td>\n",
       "      <td>4</td>\n",
       "      <td>7</td>\n",
       "      <td>2015</td>\n",
       "      <td>другой</td>\n",
       "      <td>7.00</td>\n",
       "    </tr>\n",
       "    <tr>\n",
       "      <th>4</th>\n",
       "      <td>2</td>\n",
       "      <td>10000000.00</td>\n",
       "      <td>100.00</td>\n",
       "      <td>2018-06-19</td>\n",
       "      <td>2</td>\n",
       "      <td>3.03</td>\n",
       "      <td>14.00</td>\n",
       "      <td>32.00</td>\n",
       "      <td>13</td>\n",
       "      <td>False</td>\n",
       "      <td>False</td>\n",
       "      <td>False</td>\n",
       "      <td>41.00</td>\n",
       "      <td>0.00</td>\n",
       "      <td>Санкт-Петербург</td>\n",
       "      <td>31856.00</td>\n",
       "      <td>8098.00</td>\n",
       "      <td>2.00</td>\n",
       "      <td>112.00</td>\n",
       "      <td>1.00</td>\n",
       "      <td>48.00</td>\n",
       "      <td>121.00</td>\n",
       "      <td>100000.00</td>\n",
       "      <td>1</td>\n",
       "      <td>6</td>\n",
       "      <td>2018</td>\n",
       "      <td>другой</td>\n",
       "      <td>8.00</td>\n",
       "    </tr>\n",
       "    <tr>\n",
       "      <th>5</th>\n",
       "      <td>10</td>\n",
       "      <td>2890000.00</td>\n",
       "      <td>30.40</td>\n",
       "      <td>2018-09-10</td>\n",
       "      <td>1</td>\n",
       "      <td>2.65</td>\n",
       "      <td>12.00</td>\n",
       "      <td>14.40</td>\n",
       "      <td>5</td>\n",
       "      <td>False</td>\n",
       "      <td>False</td>\n",
       "      <td>False</td>\n",
       "      <td>9.10</td>\n",
       "      <td>0.00</td>\n",
       "      <td>поселок городского типа Янино-1</td>\n",
       "      <td>NaN</td>\n",
       "      <td>NaN</td>\n",
       "      <td>0.00</td>\n",
       "      <td>NaN</td>\n",
       "      <td>0.00</td>\n",
       "      <td>NaN</td>\n",
       "      <td>55.00</td>\n",
       "      <td>95065.79</td>\n",
       "      <td>0</td>\n",
       "      <td>9</td>\n",
       "      <td>2018</td>\n",
       "      <td>другой</td>\n",
       "      <td>NaN</td>\n",
       "    </tr>\n",
       "    <tr>\n",
       "      <th>6</th>\n",
       "      <td>6</td>\n",
       "      <td>3700000.00</td>\n",
       "      <td>37.30</td>\n",
       "      <td>2017-11-02</td>\n",
       "      <td>1</td>\n",
       "      <td>2.65</td>\n",
       "      <td>26.00</td>\n",
       "      <td>18.32</td>\n",
       "      <td>6</td>\n",
       "      <td>False</td>\n",
       "      <td>False</td>\n",
       "      <td>False</td>\n",
       "      <td>14.40</td>\n",
       "      <td>1.00</td>\n",
       "      <td>поселок Парголово</td>\n",
       "      <td>52996.00</td>\n",
       "      <td>19143.00</td>\n",
       "      <td>0.00</td>\n",
       "      <td>NaN</td>\n",
       "      <td>0.00</td>\n",
       "      <td>NaN</td>\n",
       "      <td>155.00</td>\n",
       "      <td>99195.71</td>\n",
       "      <td>3</td>\n",
       "      <td>11</td>\n",
       "      <td>2017</td>\n",
       "      <td>другой</td>\n",
       "      <td>19.00</td>\n",
       "    </tr>\n",
       "    <tr>\n",
       "      <th>7</th>\n",
       "      <td>5</td>\n",
       "      <td>7915000.00</td>\n",
       "      <td>71.60</td>\n",
       "      <td>2019-04-18</td>\n",
       "      <td>2</td>\n",
       "      <td>2.65</td>\n",
       "      <td>24.00</td>\n",
       "      <td>41.06</td>\n",
       "      <td>22</td>\n",
       "      <td>False</td>\n",
       "      <td>False</td>\n",
       "      <td>False</td>\n",
       "      <td>18.90</td>\n",
       "      <td>2.00</td>\n",
       "      <td>Санкт-Петербург</td>\n",
       "      <td>23982.00</td>\n",
       "      <td>11634.00</td>\n",
       "      <td>0.00</td>\n",
       "      <td>NaN</td>\n",
       "      <td>0.00</td>\n",
       "      <td>NaN</td>\n",
       "      <td>NaN</td>\n",
       "      <td>110544.69</td>\n",
       "      <td>3</td>\n",
       "      <td>4</td>\n",
       "      <td>2019</td>\n",
       "      <td>другой</td>\n",
       "      <td>12.00</td>\n",
       "    </tr>\n",
       "    <tr>\n",
       "      <th>8</th>\n",
       "      <td>20</td>\n",
       "      <td>2900000.00</td>\n",
       "      <td>33.16</td>\n",
       "      <td>2018-05-23</td>\n",
       "      <td>1</td>\n",
       "      <td>2.65</td>\n",
       "      <td>27.00</td>\n",
       "      <td>15.43</td>\n",
       "      <td>26</td>\n",
       "      <td>False</td>\n",
       "      <td>False</td>\n",
       "      <td>False</td>\n",
       "      <td>8.81</td>\n",
       "      <td>0.00</td>\n",
       "      <td>поселок Мурино</td>\n",
       "      <td>NaN</td>\n",
       "      <td>NaN</td>\n",
       "      <td>0.00</td>\n",
       "      <td>NaN</td>\n",
       "      <td>0.00</td>\n",
       "      <td>NaN</td>\n",
       "      <td>189.00</td>\n",
       "      <td>87454.76</td>\n",
       "      <td>2</td>\n",
       "      <td>5</td>\n",
       "      <td>2018</td>\n",
       "      <td>другой</td>\n",
       "      <td>NaN</td>\n",
       "    </tr>\n",
       "    <tr>\n",
       "      <th>9</th>\n",
       "      <td>18</td>\n",
       "      <td>5400000.00</td>\n",
       "      <td>61.00</td>\n",
       "      <td>2017-02-26</td>\n",
       "      <td>3</td>\n",
       "      <td>2.50</td>\n",
       "      <td>9.00</td>\n",
       "      <td>43.60</td>\n",
       "      <td>7</td>\n",
       "      <td>False</td>\n",
       "      <td>False</td>\n",
       "      <td>False</td>\n",
       "      <td>6.50</td>\n",
       "      <td>2.00</td>\n",
       "      <td>Санкт-Петербург</td>\n",
       "      <td>50898.00</td>\n",
       "      <td>15008.00</td>\n",
       "      <td>0.00</td>\n",
       "      <td>NaN</td>\n",
       "      <td>0.00</td>\n",
       "      <td>NaN</td>\n",
       "      <td>289.00</td>\n",
       "      <td>88524.59</td>\n",
       "      <td>6</td>\n",
       "      <td>2</td>\n",
       "      <td>2017</td>\n",
       "      <td>другой</td>\n",
       "      <td>15.00</td>\n",
       "    </tr>\n",
       "  </tbody>\n",
       "</table>\n",
       "</div>"
      ],
      "text/plain": [
       "   total_images  last_price  total_area first_day_exposition  rooms  \\\n",
       "0            20 13000000.00      108.00           2019-03-07      3   \n",
       "1             7  3350000.00       40.40           2018-12-04      1   \n",
       "2            10  5196000.00       56.00           2015-08-20      2   \n",
       "3             0 64900000.00      159.00           2015-07-24      3   \n",
       "4             2 10000000.00      100.00           2018-06-19      2   \n",
       "5            10  2890000.00       30.40           2018-09-10      1   \n",
       "6             6  3700000.00       37.30           2017-11-02      1   \n",
       "7             5  7915000.00       71.60           2019-04-18      2   \n",
       "8            20  2900000.00       33.16           2018-05-23      1   \n",
       "9            18  5400000.00       61.00           2017-02-26      3   \n",
       "\n",
       "   ceiling_height  floors_total  living_area  floor  is_apartment  studio  \\\n",
       "0            2.70         16.00        51.00      8         False   False   \n",
       "1            2.65         11.00        18.60      1         False   False   \n",
       "2            2.65          5.00        34.30      4         False   False   \n",
       "3            2.65         14.00        91.18      9         False   False   \n",
       "4            3.03         14.00        32.00     13         False   False   \n",
       "5            2.65         12.00        14.40      5         False   False   \n",
       "6            2.65         26.00        18.32      6         False   False   \n",
       "7            2.65         24.00        41.06     22         False   False   \n",
       "8            2.65         27.00        15.43     26         False   False   \n",
       "9            2.50          9.00        43.60      7         False   False   \n",
       "\n",
       "   open_plan  kitchen_area  balcony                    locality_name  \\\n",
       "0      False         25.00     0.00                  Санкт-Петербург   \n",
       "1      False         11.00     2.00                   поселок Шушары   \n",
       "2      False          8.30     0.00                  Санкт-Петербург   \n",
       "3      False         27.58     0.00                  Санкт-Петербург   \n",
       "4      False         41.00     0.00                  Санкт-Петербург   \n",
       "5      False          9.10     0.00  поселок городского типа Янино-1   \n",
       "6      False         14.40     1.00                поселок Парголово   \n",
       "7      False         18.90     2.00                  Санкт-Петербург   \n",
       "8      False          8.81     0.00                   поселок Мурино   \n",
       "9      False          6.50     2.00                  Санкт-Петербург   \n",
       "\n",
       "   airports_nearest  city_centers_nearest  parks_around3000  parks_nearest  \\\n",
       "0          18863.00              16028.00              1.00         482.00   \n",
       "1          12817.00              18603.00              0.00            NaN   \n",
       "2          21741.00              13933.00              1.00          90.00   \n",
       "3          28098.00               6800.00              2.00          84.00   \n",
       "4          31856.00               8098.00              2.00         112.00   \n",
       "5               NaN                   NaN              0.00            NaN   \n",
       "6          52996.00              19143.00              0.00            NaN   \n",
       "7          23982.00              11634.00              0.00            NaN   \n",
       "8               NaN                   NaN              0.00            NaN   \n",
       "9          50898.00              15008.00              0.00            NaN   \n",
       "\n",
       "   ponds_around3000  ponds_nearest  days_exposition  one_meter_price  \\\n",
       "0              2.00         755.00              NaN        120370.37   \n",
       "1              0.00            NaN            81.00         82920.79   \n",
       "2              2.00         574.00           558.00         92785.71   \n",
       "3              3.00         234.00           424.00        408176.10   \n",
       "4              1.00          48.00           121.00        100000.00   \n",
       "5              0.00            NaN            55.00         95065.79   \n",
       "6              0.00            NaN           155.00         99195.71   \n",
       "7              0.00            NaN              NaN        110544.69   \n",
       "8              0.00            NaN           189.00         87454.76   \n",
       "9              0.00            NaN           289.00         88524.59   \n",
       "\n",
       "   weekday_exposition  month_exposition  year_exposition type_of_floor  \\\n",
       "0                   3                 3             2019        другой   \n",
       "1                   1                12             2018        первый   \n",
       "2                   3                 8             2015        другой   \n",
       "3                   4                 7             2015        другой   \n",
       "4                   1                 6             2018        другой   \n",
       "5                   0                 9             2018        другой   \n",
       "6                   3                11             2017        другой   \n",
       "7                   3                 4             2019        другой   \n",
       "8                   2                 5             2018        другой   \n",
       "9                   6                 2             2017        другой   \n",
       "\n",
       "   city_centers_nearest_km  \n",
       "0                    16.00  \n",
       "1                    19.00  \n",
       "2                    14.00  \n",
       "3                     7.00  \n",
       "4                     8.00  \n",
       "5                      NaN  \n",
       "6                    19.00  \n",
       "7                    12.00  \n",
       "8                      NaN  \n",
       "9                    15.00  "
      ]
     },
     "metadata": {},
     "output_type": "display_data"
    }
   ],
   "source": [
    "# Добавим в таблицу новые столбцы.\n",
    "\n",
    "# Цена одного квадратного метра:\n",
    "data['one_meter_price'] = data['last_price'] / data['total_area']\n",
    "\n",
    "# День недели публикации объявления (0 — понедельник, 1 — вторник и так далее):\n",
    "data['weekday_exposition'] = data['first_day_exposition'].dt.weekday\n",
    "\n",
    "# Месяц публикации объявления:\n",
    "data['month_exposition'] = data['first_day_exposition'].dt.month\n",
    "\n",
    "# Год публикации объявления:\n",
    "data['year_exposition'] = data['first_day_exposition'].dt.year\n",
    "\n",
    "# Тип этажа квартиры (значения — «первый», «последний», «другой»):\n",
    "def typefloor(data):\n",
    "    try:\n",
    "        if data['floor'] == 1:\n",
    "            return 'первый'\n",
    "        elif data['floor'] == data['floors_total']:\n",
    "            return 'последний'\n",
    "        else:\n",
    "            return 'другой'\n",
    "    except:\n",
    "        'нет данных'\n",
    "data['type_of_floor'] = data.apply(typefloor, axis=1)\n",
    "    \n",
    "# Расстояние до центра города в километрах (переведём из м в км и округлим до целых значений):\n",
    "data['city_centers_nearest_km'] = (data['city_centers_nearest'] / 1000).round()\n",
    "\n",
    "# Выведем обновлённый датафрейм.\n",
    "display(data.head(10))"
   ]
  },
  {
   "cell_type": "markdown",
   "metadata": {},
   "source": [
    "### Проведите исследовательский анализ данных<a id='f'></a>"
   ]
  },
  {
   "cell_type": "markdown",
   "metadata": {},
   "source": [
    "<font color='green'>**В данном проекте нужно изучить следующие параметры объектов: \n",
    "- общая площадь;\n",
    "- жилая площадь;\n",
    "- площадь кухни;\n",
    "- цена объекта;\n",
    "- количество комнат;\n",
    "- высота потолков;\n",
    "- этаж квартиры;\n",
    "- тип этажа квартиры («первый», «последний», «другой»);\n",
    "- общее количество этажей в доме;\n",
    "- расстояние до центра города в метрах;\n",
    "- расстояние до ближайшего аэропорта;\n",
    "- расстояние до ближайшего парка;\n",
    "- день и месяц публикации объявления.\n",
    "Постройте отдельные гистограммы для каждого из этих параметров.**</font>\n"
   ]
  },
  {
   "cell_type": "code",
   "execution_count": 35,
   "metadata": {},
   "outputs": [
    {
     "data": {
      "image/png": "[encoded data removed]",
      "text/plain": [
       "<Figure size 864x360 with 1 Axes>"
      ]
     },
     "metadata": {
      "needs_background": "light"
     },
     "output_type": "display_data"
    },
    {
     "data": {
      "text/plain": [
       "count   23699.00\n",
       "mean       60.35\n",
       "std        35.65\n",
       "min        12.00\n",
       "25%        40.00\n",
       "50%        52.00\n",
       "75%        69.90\n",
       "max       900.00\n",
       "Name: total_area, dtype: float64"
      ]
     },
     "metadata": {},
     "output_type": "display_data"
    }
   ],
   "source": [
    "#для реализации данных задач создадим функцию, которая сразу строим гистограмму и метод describe()\n",
    "def gist(index):\n",
    "    data[index].hist(figsize=(12, 5), bins=50)\n",
    "    plt.show()\n",
    "    display(data[index].describe())\n",
    "gist('total_area') "
   ]
  },
  {
   "cell_type": "code",
   "execution_count": 36,
   "metadata": {},
   "outputs": [],
   "source": [
    "# площадь  более 300 м можно считать выбросами. Удалим данные с такими значениями\n",
    "data = data.loc[data['total_area'] <= 300]"
   ]
  },
  {
   "cell_type": "code",
   "execution_count": 37,
   "metadata": {},
   "outputs": [
    {
     "data": {
      "text/html": [
       "<div>\n",
       "<style scoped>\n",
       "    .dataframe tbody tr th:only-of-type {\n",
       "        vertical-align: middle;\n",
       "    }\n",
       "\n",
       "    .dataframe tbody tr th {\n",
       "        vertical-align: top;\n",
       "    }\n",
       "\n",
       "    .dataframe thead th {\n",
       "        text-align: right;\n",
       "    }\n",
       "</style>\n",
       "<table border=\"1\" class=\"dataframe\">\n",
       "  <thead>\n",
       "    <tr style=\"text-align: right;\">\n",
       "      <th></th>\n",
       "      <th>total_area</th>\n",
       "    </tr>\n",
       "    <tr>\n",
       "      <th>rooms</th>\n",
       "      <th></th>\n",
       "    </tr>\n",
       "  </thead>\n",
       "  <tbody>\n",
       "    <tr>\n",
       "      <th>0</th>\n",
       "      <td>196</td>\n",
       "    </tr>\n",
       "    <tr>\n",
       "      <th>1</th>\n",
       "      <td>8046</td>\n",
       "    </tr>\n",
       "    <tr>\n",
       "      <th>2</th>\n",
       "      <td>7940</td>\n",
       "    </tr>\n",
       "    <tr>\n",
       "      <th>3</th>\n",
       "      <td>5813</td>\n",
       "    </tr>\n",
       "    <tr>\n",
       "      <th>4</th>\n",
       "      <td>1175</td>\n",
       "    </tr>\n",
       "    <tr>\n",
       "      <th>5</th>\n",
       "      <td>310</td>\n",
       "    </tr>\n",
       "    <tr>\n",
       "      <th>6</th>\n",
       "      <td>96</td>\n",
       "    </tr>\n",
       "    <tr>\n",
       "      <th>7</th>\n",
       "      <td>43</td>\n",
       "    </tr>\n",
       "    <tr>\n",
       "      <th>8</th>\n",
       "      <td>8</td>\n",
       "    </tr>\n",
       "    <tr>\n",
       "      <th>9</th>\n",
       "      <td>4</td>\n",
       "    </tr>\n",
       "    <tr>\n",
       "      <th>10</th>\n",
       "      <td>3</td>\n",
       "    </tr>\n",
       "    <tr>\n",
       "      <th>11</th>\n",
       "      <td>2</td>\n",
       "    </tr>\n",
       "    <tr>\n",
       "      <th>14</th>\n",
       "      <td>1</td>\n",
       "    </tr>\n",
       "    <tr>\n",
       "      <th>16</th>\n",
       "      <td>1</td>\n",
       "    </tr>\n",
       "  </tbody>\n",
       "</table>\n",
       "</div>"
      ],
      "text/plain": [
       "       total_area\n",
       "rooms            \n",
       "0             196\n",
       "1            8046\n",
       "2            7940\n",
       "3            5813\n",
       "4            1175\n",
       "5             310\n",
       "6              96\n",
       "7              43\n",
       "8               8\n",
       "9               4\n",
       "10              3\n",
       "11              2\n",
       "14              1\n",
       "16              1"
      ]
     },
     "metadata": {},
     "output_type": "display_data"
    }
   ],
   "source": [
    "# строим сводную таблицу\n",
    "data_total_area=data.pivot_table(index = 'rooms', values = 'total_area', aggfunc = 'count')\n",
    "display(data_total_area)"
   ]
  },
  {
   "cell_type": "markdown",
   "metadata": {},
   "source": [
    "При обработке данных мы не обратили внимание на столбец total_area, сейчас при постороение гистограммы были обнаружены выбросы - кваритры общей площадью больше 300 м². При использование метода describe() мы видим, что максимальное значение 900м².что говорит о наличии выбросов в верхних значениях. Эти выбросы происходят за счёт наличия в датафрейме данных об «элитных» квартирах (скорее всего в Санкт-Петербурге), которые завышают средние показатели площади. Поэтому такие выбросы лучше удалить.  \n",
    "\n",
    "Теперь мы видим, что в среднем большинство обьявлений квартир с общей площадью от 40 до 50 м², что не удивительно, т.к чаще всего продаются 1 и 2-комнатные квартиры, что как раз подтверждает сводная таблица(в сумме на 1и 2 комнатные квартиры приходится 15986 объявлений)"
   ]
  },
  {
   "cell_type": "code",
   "execution_count": 38,
   "metadata": {},
   "outputs": [
    {
     "data": {
      "image/png": "[encoded data removed]",
      "text/plain": [
       "<Figure size 864x360 with 1 Axes>"
      ]
     },
     "metadata": {
      "needs_background": "light"
     },
     "output_type": "display_data"
    },
    {
     "data": {
      "text/plain": [
       "count   23638.00\n",
       "mean       34.03\n",
       "std        19.53\n",
       "min         4.58\n",
       "25%        19.00\n",
       "50%        30.00\n",
       "75%        42.00\n",
       "max       200.00\n",
       "Name: living_area, dtype: float64"
      ]
     },
     "metadata": {},
     "output_type": "display_data"
    }
   ],
   "source": [
    "gist('living_area')    "
   ]
  },
  {
   "cell_type": "markdown",
   "metadata": {},
   "source": [
    "Гисторамма частоты значений жилой площади имеет вид распределения Пуассона.\n",
    "Среднее значение жилой площади 34,03 м² немного выше медианы 30,0 м², что говорит о наличии выбросов в верхних значениях (аналогично пункту выше). В большинстве случаев жилая площадь квартир составляет от 19 м² до 42,0 м². Правда из всей этой картины выбивается минимальное значение 4.58, а это значит что где-то в расчетах мы не учли такую ситуацию."
   ]
  },
  {
   "cell_type": "code",
   "execution_count": 39,
   "metadata": {},
   "outputs": [
    {
     "data": {
      "image/png": "[encoded data removed]",
      "text/plain": [
       "<Figure size 864x360 with 1 Axes>"
      ]
     },
     "metadata": {
      "needs_background": "light"
     },
     "output_type": "display_data"
    },
    {
     "data": {
      "text/plain": [
       "count   23638.00\n",
       "mean       10.38\n",
       "std         5.71\n",
       "min         0.00\n",
       "25%         7.00\n",
       "50%         9.00\n",
       "75%        12.00\n",
       "max       107.00\n",
       "Name: kitchen_area, dtype: float64"
      ]
     },
     "metadata": {},
     "output_type": "display_data"
    }
   ],
   "source": [
    "gist('kitchen_area')"
   ]
  },
  {
   "cell_type": "markdown",
   "metadata": {},
   "source": [
    "Рассмотри более подробно ситацию с площадью кухни. Во-первых учтем тот момент, что в студиях размер кухни отдельно не указывается, т.к она соединена с общим жилым пространством, поэтому в рамках данного проекта мы указали площадь кухонь равную нулю. В среднем же получилось около 9 м², что является не плохим резултатом. "
   ]
  },
  {
   "cell_type": "code",
   "execution_count": 40,
   "metadata": {},
   "outputs": [
    {
     "data": {
      "image/png": "[encoded data removed]",
      "text/plain": [
       "<Figure size 864x360 with 1 Axes>"
      ]
     },
     "metadata": {
      "needs_background": "light"
     },
     "output_type": "display_data"
    },
    {
     "data": {
      "text/plain": [
       "count       23638.00\n",
       "mean      6306195.18\n",
       "std       7770378.90\n",
       "min         12190.00\n",
       "25%       3400000.00\n",
       "50%       4620000.00\n",
       "75%       6750000.00\n",
       "max     330000000.00\n",
       "Name: last_price, dtype: float64"
      ]
     },
     "metadata": {},
     "output_type": "display_data"
    }
   ],
   "source": [
    "gist('last_price')"
   ]
  },
  {
   "cell_type": "code",
   "execution_count": 41,
   "metadata": {},
   "outputs": [
    {
     "data": {
      "text/html": [
       "<div>\n",
       "<style scoped>\n",
       "    .dataframe tbody tr th:only-of-type {\n",
       "        vertical-align: middle;\n",
       "    }\n",
       "\n",
       "    .dataframe tbody tr th {\n",
       "        vertical-align: top;\n",
       "    }\n",
       "\n",
       "    .dataframe thead th {\n",
       "        text-align: right;\n",
       "    }\n",
       "</style>\n",
       "<table border=\"1\" class=\"dataframe\">\n",
       "  <thead>\n",
       "    <tr style=\"text-align: right;\">\n",
       "      <th></th>\n",
       "      <th>last_price</th>\n",
       "    </tr>\n",
       "    <tr>\n",
       "      <th>locality_name</th>\n",
       "      <th></th>\n",
       "    </tr>\n",
       "  </thead>\n",
       "  <tbody>\n",
       "    <tr>\n",
       "      <th>Санкт-Петербург</th>\n",
       "      <td>15664</td>\n",
       "    </tr>\n",
       "    <tr>\n",
       "      <th>поселок Мурино</th>\n",
       "      <td>556</td>\n",
       "    </tr>\n",
       "    <tr>\n",
       "      <th>поселок Шушары</th>\n",
       "      <td>440</td>\n",
       "    </tr>\n",
       "    <tr>\n",
       "      <th>Всеволожск</th>\n",
       "      <td>398</td>\n",
       "    </tr>\n",
       "    <tr>\n",
       "      <th>Пушкин</th>\n",
       "      <td>367</td>\n",
       "    </tr>\n",
       "    <tr>\n",
       "      <th>...</th>\n",
       "      <td>...</td>\n",
       "    </tr>\n",
       "    <tr>\n",
       "      <th>поселок Белоостров</th>\n",
       "      <td>1</td>\n",
       "    </tr>\n",
       "    <tr>\n",
       "      <th>поселок Высокоключевой</th>\n",
       "      <td>1</td>\n",
       "    </tr>\n",
       "    <tr>\n",
       "      <th>поселок Гладкое</th>\n",
       "      <td>1</td>\n",
       "    </tr>\n",
       "    <tr>\n",
       "      <th>поселок Гончарово</th>\n",
       "      <td>1</td>\n",
       "    </tr>\n",
       "    <tr>\n",
       "      <th>село Шум</th>\n",
       "      <td>1</td>\n",
       "    </tr>\n",
       "  </tbody>\n",
       "</table>\n",
       "<p>324 rows × 1 columns</p>\n",
       "</div>"
      ],
      "text/plain": [
       "                        last_price\n",
       "locality_name                     \n",
       "Санкт-Петербург              15664\n",
       "поселок Мурино                 556\n",
       "поселок Шушары                 440\n",
       "Всеволожск                     398\n",
       "Пушкин                         367\n",
       "...                            ...\n",
       "поселок Белоостров               1\n",
       "поселок Высокоключевой           1\n",
       "поселок Гладкое                  1\n",
       "поселок Гончарово                1\n",
       "село Шум                         1\n",
       "\n",
       "[324 rows x 1 columns]"
      ]
     },
     "metadata": {},
     "output_type": "display_data"
    }
   ],
   "source": [
    "# строим сводную таблицу\n",
    "data_price=data.pivot_table(index = 'locality_name', values = 'last_price', aggfunc = 'count').sort_values(by='last_price', ascending=False)\n",
    "display(data_price)"
   ]
  },
  {
   "cell_type": "markdown",
   "metadata": {},
   "source": [
    "Интересно обстоят дела со стоиомстью квартир, видно что есть аноиальные значения, такие как минимум и максимум. Но в целом видна  средняя стоимость квартир от 4.6 до 6.3 млн рублей, что соответвует рыночной стоимости. При этом стоит помнить, что в таблице  всего 23638 обьявлений, а на город Санкт-Петербург приходиться лишь 15664. Поэтому влияние не городской цены имеет место быть."
   ]
  },
  {
   "cell_type": "code",
   "execution_count": 42,
   "metadata": {},
   "outputs": [
    {
     "data": {
      "image/png": "[encoded data removed]",
      "text/plain": [
       "<Figure size 864x360 with 1 Axes>"
      ]
     },
     "metadata": {
      "needs_background": "light"
     },
     "output_type": "display_data"
    },
    {
     "data": {
      "text/plain": [
       "count   23638.00\n",
       "mean        2.06\n",
       "std         1.05\n",
       "min         0.00\n",
       "25%         1.00\n",
       "50%         2.00\n",
       "75%         3.00\n",
       "max        16.00\n",
       "Name: rooms, dtype: float64"
      ]
     },
     "metadata": {},
     "output_type": "display_data"
    }
   ],
   "source": [
    "gist('rooms')"
   ]
  },
  {
   "cell_type": "markdown",
   "metadata": {},
   "source": [
    "Итак, как говрилось ранее, большинство квартир представлено в 1 или 2комнатном варианте, также пристусвует незначителньое количество студий. "
   ]
  },
  {
   "cell_type": "code",
   "execution_count": 43,
   "metadata": {},
   "outputs": [
    {
     "data": {
      "image/png": "[encoded data removed]",
      "text/plain": [
       "<Figure size 864x360 with 1 Axes>"
      ]
     },
     "metadata": {
      "needs_background": "light"
     },
     "output_type": "display_data"
    },
    {
     "data": {
      "text/plain": [
       "count   23638.00\n",
       "mean        2.70\n",
       "std         0.22\n",
       "min         2.00\n",
       "25%         2.60\n",
       "50%         2.65\n",
       "75%         2.70\n",
       "max         6.00\n",
       "Name: ceiling_height, dtype: float64"
      ]
     },
     "metadata": {},
     "output_type": "display_data"
    }
   ],
   "source": [
    "gist('ceiling_height')"
   ]
  },
  {
   "cell_type": "markdown",
   "metadata": {},
   "source": [
    "Среднее значение высоты потолков 2,69 м почти совпадает с медианой 2,65 м. В большинстве случаев высота потолков составляет от 2,60 м до 2,70 м."
   ]
  },
  {
   "cell_type": "code",
   "execution_count": 44,
   "metadata": {},
   "outputs": [
    {
     "data": {
      "image/png": "[encoded data removed]",
      "text/plain": [
       "<Figure size 864x360 with 1 Axes>"
      ]
     },
     "metadata": {
      "needs_background": "light"
     },
     "output_type": "display_data"
    },
    {
     "data": {
      "text/plain": [
       "count   23638.00\n",
       "mean        5.89\n",
       "std         4.89\n",
       "min         1.00\n",
       "25%         2.00\n",
       "50%         4.00\n",
       "75%         8.00\n",
       "max        33.00\n",
       "Name: floor, dtype: float64"
      ]
     },
     "metadata": {},
     "output_type": "display_data"
    }
   ],
   "source": [
    "gist('floor')"
   ]
  },
  {
   "cell_type": "markdown",
   "metadata": {},
   "source": [
    "Среднее значение этажа квартиры 5.89 выше медианы 4. Здесь также может играть факт, того что почти половину обьявлений приходится на пригород, где распростанены 5 и 9 этажные дома. В большинстве случаев квартиры расположены от 2 до 8 этажей."
   ]
  },
  {
   "cell_type": "code",
   "execution_count": 45,
   "metadata": {},
   "outputs": [
    {
     "data": {
      "image/png": "[encoded data removed]",
      "text/plain": [
       "<Figure size 864x360 with 1 Axes>"
      ]
     },
     "metadata": {
      "needs_background": "light"
     },
     "output_type": "display_data"
    },
    {
     "data": {
      "text/plain": [
       "count      23638\n",
       "unique         3\n",
       "top       другой\n",
       "freq       17416\n",
       "Name: type_of_floor, dtype: object"
      ]
     },
     "metadata": {},
     "output_type": "display_data"
    }
   ],
   "source": [
    "# тип этажа квартиры («первый», «последний», «другой»)\n",
    "gist('type_of_floor')"
   ]
  },
  {
   "cell_type": "markdown",
   "metadata": {},
   "source": [
    "Вполне логичный график, единственное отметим, что на последнем этаже больше квартир чем на первом. "
   ]
  },
  {
   "cell_type": "code",
   "execution_count": 46,
   "metadata": {},
   "outputs": [
    {
     "data": {
      "image/png": "[encoded data removed]",
      "text/plain": [
       "<Figure size 864x360 with 1 Axes>"
      ]
     },
     "metadata": {
      "needs_background": "light"
     },
     "output_type": "display_data"
    },
    {
     "data": {
      "text/plain": [
       "count   23552.00\n",
       "mean       10.68\n",
       "std         6.60\n",
       "min         1.00\n",
       "25%         5.00\n",
       "50%         9.00\n",
       "75%        16.00\n",
       "max        60.00\n",
       "Name: floors_total, dtype: float64"
      ]
     },
     "metadata": {},
     "output_type": "display_data"
    }
   ],
   "source": [
    "gist('floors_total')"
   ]
  },
  {
   "cell_type": "markdown",
   "metadata": {},
   "source": [
    "Опять же в данном графике находим подтвержение,  того что почти половину обьявлений приходится на пригород, где распростанены 5 и 9 этажные дома. Что весьма логично, ведь в основ территория России застроина типовыми постройками, типо хрущевок и сталинок. Лишь последние 20летие отмечно резкой любви застройщиков к многоэтажкам. "
   ]
  },
  {
   "cell_type": "code",
   "execution_count": 47,
   "metadata": {},
   "outputs": [
    {
     "data": {
      "image/png": "[encoded data removed]",
      "text/plain": [
       "<Figure size 864x360 with 1 Axes>"
      ]
     },
     "metadata": {
      "needs_background": "light"
     },
     "output_type": "display_data"
    },
    {
     "data": {
      "text/plain": [
       "count   18121.00\n",
       "mean    14210.94\n",
       "std      8605.55\n",
       "min       181.00\n",
       "25%      9271.00\n",
       "50%     13114.00\n",
       "75%     16296.00\n",
       "max     65968.00\n",
       "Name: city_centers_nearest, dtype: float64"
      ]
     },
     "metadata": {},
     "output_type": "display_data"
    }
   ],
   "source": [
    "gist('city_centers_nearest')"
   ]
  },
  {
   "cell_type": "markdown",
   "metadata": {},
   "source": [
    "Среднее значение расстояния до центра города 14210 м немного выше медианы 13114 м. Скорее всего, основной вклад в отличие среднего от медианы вносит Санкт-Петербург из-за относительно большей площади (а значит и множества вариантов разброса месторасположения квартир по городу), а также это указывает на неравномерность плотности жилой застройки."
   ]
  },
  {
   "cell_type": "code",
   "execution_count": 48,
   "metadata": {},
   "outputs": [
    {
     "data": {
      "image/png": "[encoded data removed]",
      "text/plain": [
       "<Figure size 864x360 with 1 Axes>"
      ]
     },
     "metadata": {
      "needs_background": "light"
     },
     "output_type": "display_data"
    },
    {
     "data": {
      "text/plain": [
       "count   18100.00\n",
       "mean    28798.12\n",
       "std     12642.55\n",
       "min         0.00\n",
       "25%     18573.75\n",
       "50%     26751.00\n",
       "75%     37288.00\n",
       "max     84869.00\n",
       "Name: airports_nearest, dtype: float64"
      ]
     },
     "metadata": {},
     "output_type": "display_data"
    }
   ],
   "source": [
    "gist('airports_nearest')"
   ]
  },
  {
   "cell_type": "markdown",
   "metadata": {},
   "source": [
    "В Санкт-Петербурге действует один международный аэропорт — Пулково (LED). Он находится в 15 км от центра города, в Московском районе. Следовательно, достаточно много квартир находятся гораздо дальше от центра города, не забываем также про большое количество пригородов. "
   ]
  },
  {
   "cell_type": "code",
   "execution_count": 49,
   "metadata": {},
   "outputs": [
    {
     "data": {
      "image/png": "[encoded data removed]",
      "text/plain": [
       "<Figure size 864x360 with 1 Axes>"
      ]
     },
     "metadata": {
      "needs_background": "light"
     },
     "output_type": "display_data"
    },
    {
     "data": {
      "text/plain": [
       "count   8041.00\n",
       "mean     490.98\n",
       "std      342.37\n",
       "min        1.00\n",
       "25%      288.00\n",
       "50%      455.00\n",
       "75%      612.00\n",
       "max     3190.00\n",
       "Name: parks_nearest, dtype: float64"
      ]
     },
     "metadata": {},
     "output_type": "display_data"
    }
   ],
   "source": [
    "gist('parks_nearest')"
   ]
  },
  {
   "cell_type": "markdown",
   "metadata": {},
   "source": [
    "В Санкт-Петербурге удивительно большое количество парков, поэтому в большинстве своем от квартиры до ближайщего парка не так уж и долги идти. Единственная ложка дегтя, в том что в данном столбце имеются пропуски в размере 15620 записей. Таким образом точно оценить ситуацию мы не можем. "
   ]
  },
  {
   "cell_type": "code",
   "execution_count": 50,
   "metadata": {},
   "outputs": [
    {
     "data": {
      "image/png": "[encoded data removed]",
      "text/plain": [
       "<Figure size 864x360 with 1 Axes>"
      ]
     },
     "metadata": {
      "needs_background": "light"
     },
     "output_type": "display_data"
    },
    {
     "data": {
      "text/plain": [
       "count   23638.00\n",
       "mean        2.57\n",
       "std         1.79\n",
       "min         0.00\n",
       "25%         1.00\n",
       "50%         3.00\n",
       "75%         4.00\n",
       "max         6.00\n",
       "Name: weekday_exposition, dtype: float64"
      ]
     },
     "metadata": {},
     "output_type": "display_data"
    }
   ],
   "source": [
    "gist('weekday_exposition')"
   ]
  },
  {
   "cell_type": "markdown",
   "metadata": {},
   "source": [
    "В большинстве случаев объявления публиковались по будням, лидируют – вторник и четверг. Этот факт нужно учесть, для того чтобы быть готовым к загрузу серверов в эти дни."
   ]
  },
  {
   "cell_type": "code",
   "execution_count": 51,
   "metadata": {},
   "outputs": [
    {
     "data": {
      "image/png": "[encoded data removed]",
      "text/plain": [
       "<Figure size 864x360 with 1 Axes>"
      ]
     },
     "metadata": {
      "needs_background": "light"
     },
     "output_type": "display_data"
    },
    {
     "data": {
      "text/plain": [
       "count   23638.00\n",
       "mean        6.40\n",
       "std         3.49\n",
       "min         1.00\n",
       "25%         3.00\n",
       "50%         6.00\n",
       "75%        10.00\n",
       "max        12.00\n",
       "Name: month_exposition, dtype: float64"
      ]
     },
     "metadata": {},
     "output_type": "display_data"
    }
   ],
   "source": [
    "gist('month_exposition')"
   ]
  },
  {
   "cell_type": "markdown",
   "metadata": {},
   "source": [
    "Из месяцев лидируют конец зимы - начало весны (февраль, март, апрель) и ноябрь. Видимо психологический фактор подталкивает людей на обновление жил площади или жажду перемен. Провалы наблюдаются в январе, мае, декабре (видимо, связано с праздниками). Летом объявления также публиковалось не много, т.к многие уезжают отдыхать или на дачу."
   ]
  },
  {
   "cell_type": "markdown",
   "metadata": {},
   "source": [
    "<font color='green'>**Изучите, как быстро продавались квартиры (столбец days_exposition). Этот параметр показывает, сколько дней было размещено каждое объявление. \n",
    "- Постройте гистограмму.\n",
    "- Посчитайте среднее и медиану.\n",
    "- В ячейке типа markdown опишите, сколько времени обычно занимает продажа. Какие продажи можно считать быстрыми, а какие — необычно долгими?**</font>\n"
   ]
  },
  {
   "cell_type": "code",
   "execution_count": 52,
   "metadata": {},
   "outputs": [
    {
     "data": {
      "image/png": "[encoded data removed]",
      "text/plain": [
       "<Figure size 864x360 with 1 Axes>"
      ]
     },
     "metadata": {
      "needs_background": "light"
     },
     "output_type": "display_data"
    },
    {
     "data": {
      "text/plain": [
       "count   20470.00\n",
       "mean      180.65\n",
       "std       219.51\n",
       "min         1.00\n",
       "25%        45.00\n",
       "50%        95.00\n",
       "75%       231.00\n",
       "max      1580.00\n",
       "Name: days_exposition, dtype: float64"
      ]
     },
     "metadata": {},
     "output_type": "display_data"
    }
   ],
   "source": [
    "gist('days_exposition')"
   ]
  },
  {
   "cell_type": "markdown",
   "metadata": {},
   "source": [
    "Среднее значение количества дней, в течение которых было размещено объявление, 180 дней почти в 2 раза больше медианы 95 дней. Это говорит о том, что в датафрейме есть объявления, которые были размещены достаточно долго. В большинстве случаев объявление было размещено от 45 до 231 дня. Это и есть время продажи. Быстрые продажи - от 1 до 45 дней, долгие - от 231 до 1580 дней. Опять же не забываем, что некоторые обьявления до сих пор актуальны. На такую ситуацию влияет множетсво факторов, но самый главный это частота визитов потенциальных покупателей."
   ]
  },
  {
   "cell_type": "markdown",
   "metadata": {},
   "source": [
    "<font color='green'>**Какие факторы больше всего влияют на общую (полную) стоимость объекта?\n",
    "Изучите, зависит ли цена от:\n",
    "- общей площади;\n",
    "- жилой площади;\n",
    "- площади кухни;\n",
    "- количества комнат;\n",
    "- этажа, на котором расположена квартира (первый, последний, другой);\n",
    "- даты размещения (день недели, месяц, год).\n",
    "Постройте графики, которые покажут зависимость цены от указанных выше параметров. Для подготовки данных перед визуализацией вы можете использовать сводные таблицы.**</font>\n"
   ]
  },
  {
   "cell_type": "code",
   "execution_count": 53,
   "metadata": {},
   "outputs": [
    {
     "data": {
      "text/html": [
       "<style  type=\"text/css\" >\n",
       "#T_9de56_row0_col0,#T_9de56_row1_col1,#T_9de56_row2_col2,#T_9de56_row3_col3,#T_9de56_row4_col4{\n",
       "            background-color:  #b40426;\n",
       "            color:  #f1f1f1;\n",
       "        }#T_9de56_row0_col1{\n",
       "            background-color:  #6282ea;\n",
       "            color:  #000000;\n",
       "        }#T_9de56_row0_col2{\n",
       "            background-color:  #96b7ff;\n",
       "            color:  #000000;\n",
       "        }#T_9de56_row0_col3{\n",
       "            background-color:  #a9c6fd;\n",
       "            color:  #000000;\n",
       "        }#T_9de56_row0_col4{\n",
       "            background-color:  #6485ec;\n",
       "            color:  #000000;\n",
       "        }#T_9de56_row1_col0{\n",
       "            background-color:  #d4dbe6;\n",
       "            color:  #000000;\n",
       "        }#T_9de56_row1_col2{\n",
       "            background-color:  #d95847;\n",
       "            color:  #000000;\n",
       "        }#T_9de56_row1_col3{\n",
       "            background-color:  #d5dbe5;\n",
       "            color:  #000000;\n",
       "        }#T_9de56_row1_col4{\n",
       "            background-color:  #f7af91;\n",
       "            color:  #000000;\n",
       "        }#T_9de56_row2_col0{\n",
       "            background-color:  #a6c4fe;\n",
       "            color:  #000000;\n",
       "        }#T_9de56_row2_col1{\n",
       "            background-color:  #e8765c;\n",
       "            color:  #000000;\n",
       "        }#T_9de56_row2_col3{\n",
       "            background-color:  #779af7;\n",
       "            color:  #000000;\n",
       "        }#T_9de56_row2_col4{\n",
       "            background-color:  #f08a6c;\n",
       "            color:  #000000;\n",
       "        }#T_9de56_row3_col0{\n",
       "            background-color:  #85a8fc;\n",
       "            color:  #000000;\n",
       "        }#T_9de56_row3_col1,#T_9de56_row3_col2,#T_9de56_row3_col4,#T_9de56_row4_col0,#T_9de56_row4_col3{\n",
       "            background-color:  #3b4cc0;\n",
       "            color:  #f1f1f1;\n",
       "        }#T_9de56_row4_col1{\n",
       "            background-color:  #c6d6f1;\n",
       "            color:  #000000;\n",
       "        }#T_9de56_row4_col2{\n",
       "            background-color:  #f59d7e;\n",
       "            color:  #000000;\n",
       "        }</style><table id=\"T_9de56_\" ><thead>    <tr>        <th class=\"blank level0\" ></th>        <th class=\"col_heading level0 col0\" >last_price</th>        <th class=\"col_heading level0 col1\" >total_area</th>        <th class=\"col_heading level0 col2\" >living_area</th>        <th class=\"col_heading level0 col3\" >kitchen_area</th>        <th class=\"col_heading level0 col4\" >rooms</th>    </tr></thead><tbody>\n",
       "                <tr>\n",
       "                        <th id=\"T_9de56_level0_row0\" class=\"row_heading level0 row0\" >last_price</th>\n",
       "                        <td id=\"T_9de56_row0_col0\" class=\"data row0 col0\" >1.000000</td>\n",
       "                        <td id=\"T_9de56_row0_col1\" class=\"data row0 col1\" >0.676724</td>\n",
       "                        <td id=\"T_9de56_row0_col2\" class=\"data row0 col2\" >0.589143</td>\n",
       "                        <td id=\"T_9de56_row0_col3\" class=\"data row0 col3\" >0.532049</td>\n",
       "                        <td id=\"T_9de56_row0_col4\" class=\"data row0 col4\" >0.394933</td>\n",
       "            </tr>\n",
       "            <tr>\n",
       "                        <th id=\"T_9de56_level0_row1\" class=\"row_heading level0 row1\" >total_area</th>\n",
       "                        <td id=\"T_9de56_row1_col0\" class=\"data row1 col0\" >0.676724</td>\n",
       "                        <td id=\"T_9de56_row1_col1\" class=\"data row1 col1\" >1.000000</td>\n",
       "                        <td id=\"T_9de56_row1_col2\" class=\"data row1 col2\" >0.936815</td>\n",
       "                        <td id=\"T_9de56_row1_col3\" class=\"data row1 col3\" >0.629491</td>\n",
       "                        <td id=\"T_9de56_row1_col4\" class=\"data row1 col4\" >0.784958</td>\n",
       "            </tr>\n",
       "            <tr>\n",
       "                        <th id=\"T_9de56_level0_row2\" class=\"row_heading level0 row2\" >living_area</th>\n",
       "                        <td id=\"T_9de56_row2_col0\" class=\"data row2 col0\" >0.589143</td>\n",
       "                        <td id=\"T_9de56_row2_col1\" class=\"data row2 col1\" >0.936815</td>\n",
       "                        <td id=\"T_9de56_row2_col2\" class=\"data row2 col2\" >1.000000</td>\n",
       "                        <td id=\"T_9de56_row2_col3\" class=\"data row2 col3\" >0.433621</td>\n",
       "                        <td id=\"T_9de56_row2_col4\" class=\"data row2 col4\" >0.852602</td>\n",
       "            </tr>\n",
       "            <tr>\n",
       "                        <th id=\"T_9de56_level0_row3\" class=\"row_heading level0 row3\" >kitchen_area</th>\n",
       "                        <td id=\"T_9de56_row3_col0\" class=\"data row3 col0\" >0.532049</td>\n",
       "                        <td id=\"T_9de56_row3_col1\" class=\"data row3 col1\" >0.629491</td>\n",
       "                        <td id=\"T_9de56_row3_col2\" class=\"data row3 col2\" >0.433621</td>\n",
       "                        <td id=\"T_9de56_row3_col3\" class=\"data row3 col3\" >1.000000</td>\n",
       "                        <td id=\"T_9de56_row3_col4\" class=\"data row3 col4\" >0.302052</td>\n",
       "            </tr>\n",
       "            <tr>\n",
       "                        <th id=\"T_9de56_level0_row4\" class=\"row_heading level0 row4\" >rooms</th>\n",
       "                        <td id=\"T_9de56_row4_col0\" class=\"data row4 col0\" >0.394933</td>\n",
       "                        <td id=\"T_9de56_row4_col1\" class=\"data row4 col1\" >0.784958</td>\n",
       "                        <td id=\"T_9de56_row4_col2\" class=\"data row4 col2\" >0.852602</td>\n",
       "                        <td id=\"T_9de56_row4_col3\" class=\"data row4 col3\" >0.302052</td>\n",
       "                        <td id=\"T_9de56_row4_col4\" class=\"data row4 col4\" >1.000000</td>\n",
       "            </tr>\n",
       "    </tbody></table>"
      ],
      "text/plain": [
       "<pandas.io.formats.style.Styler at 0x7fe09be10880>"
      ]
     },
     "metadata": {},
     "output_type": "display_data"
    }
   ],
   "source": [
    "#строим матрицу корреляции для количесвтенных значений\n",
    "corr=data[['last_price', 'total_area', 'living_area','kitchen_area','rooms']].corr()\n",
    "display(corr.style.background_gradient(cmap='coolwarm'))"
   ]
  },
  {
   "cell_type": "code",
   "execution_count": 54,
   "metadata": {},
   "outputs": [
    {
     "data": {
      "image/png": "[encoded data removed]",
      "text/plain": [
       "<Figure size 864x360 with 1 Axes>"
      ]
     },
     "metadata": {
      "needs_background": "light"
     },
     "output_type": "display_data"
    }
   ],
   "source": [
    "#создадим функцию для посторения графиков для каждого параметра сравнения\n",
    "def grafik(index):\n",
    "    data.pivot_table(index=index, values='last_price').plot(grid=True, figsize=(12, 5))\n",
    "    plt.show()\n",
    "grafik('total_area')"
   ]
  },
  {
   "cell_type": "code",
   "execution_count": 55,
   "metadata": {},
   "outputs": [
    {
     "data": {
      "image/png": "[encoded data removed]",
      "text/plain": [
       "<Figure size 576x432 with 1 Axes>"
      ]
     },
     "metadata": {
      "needs_background": "light"
     },
     "output_type": "display_data"
    }
   ],
   "source": [
    "# соотношение общей площади к цене\n",
    "data.plot.scatter(x='total_area', y='last_price', s=200,  figsize=(8,6), alpha=0.3)\n",
    "plt.xlabel('Общая площадь')\n",
    "plt.ylabel('Цена')\n",
    "plt.title('Соотношение общей площади к цене')\n",
    "plt.show()"
   ]
  },
  {
   "cell_type": "code",
   "execution_count": 56,
   "metadata": {},
   "outputs": [
    {
     "data": {
      "image/png": "[encoded data removed]",
      "text/plain": [
       "<Figure size 864x360 with 1 Axes>"
      ]
     },
     "metadata": {
      "needs_background": "light"
     },
     "output_type": "display_data"
    },
    {
     "data": {
      "image/png": "[encoded data removed]",
      "text/plain": [
       "<Figure size 864x360 with 1 Axes>"
      ]
     },
     "metadata": {
      "needs_background": "light"
     },
     "output_type": "display_data"
    },
    {
     "data": {
      "image/png": "[encoded data removed]",
      "text/plain": [
       "<Figure size 864x360 with 1 Axes>"
      ]
     },
     "metadata": {
      "needs_background": "light"
     },
     "output_type": "display_data"
    },
    {
     "data": {
      "image/png": "[encoded data removed]",
      "text/plain": [
       "<Figure size 864x360 with 1 Axes>"
      ]
     },
     "metadata": {
      "needs_background": "light"
     },
     "output_type": "display_data"
    },
    {
     "data": {
      "image/png": "[encoded data removed]",
      "text/plain": [
       "<Figure size 864x360 with 1 Axes>"
      ]
     },
     "metadata": {
      "needs_background": "light"
     },
     "output_type": "display_data"
    }
   ],
   "source": [
    "grafik('living_area')\n",
    "grafik('kitchen_area')\n",
    "grafik('rooms')\n",
    "grafik('type_of_floor')\n",
    "grafik('first_day_exposition')"
   ]
  },
  {
   "cell_type": "markdown",
   "metadata": {},
   "source": [
    "Матрица корреляции помогает сразу определить зависимость между независимыми переменными набора данных. Все коэффициенты корреляции по диагонали таблицы равны 1, потому что каждая переменная совершенна коррелирует сам с собой. Все остальные коэффициенты корреляции указывают на корреляцию между различными попарными комбинациями переменных. Чем дальше коэффициент корреляции от нуля, тем сильнее связь между двумя переменными. При оценке силы связи коэффициентов корреляции используется шкала Чеддока:от 0 до 0,3-очень слабая; от 0,3 до 0,5-слабая; от 0, 5 до 0,7-\tсредняя;от 0,7 до 0, 9-\tвысокая; от 0,9 до 1-очень высокая\n",
    "\n",
    "Зависимоти между общей (полной) стоимостью объекта и общей площадью составляет 0,67; жилой площадью - 0,58; площадью кухни - 0,53; количеством комнат - 0,39. Такой результат показывает, что зависимость сущетсвует, но она средняя от общей площади, и слабая от количества комнат. Построенные графики также подтверждают полученные результаты. Поэтому полагаться на такаю зависимость не следует.\n",
    "\n",
    "Типы данных для этажа, на котором расположена квартира и даты размещения не являются числовыми, поэтому коэффициент корреляции Пирсона к ним применить нельзя. Поэтому будем ориентироваться на показатели графиков:стоимость квартир на первом этаже (около 4,8 млн руб.) дешевле стоимости квартир на других этажах, что соответвует рыночным реалиям. Разница в стоимости квартир между последним и другими этажами - несущественная.\n",
    "Зависимости роста общей стоимости объектов от даты размещения, в целом, за несколько лет не наблюдается."
   ]
  },
  {
   "cell_type": "code",
   "execution_count": 57,
   "metadata": {},
   "outputs": [
    {
     "data": {
      "image/png": "[encoded data removed]",
      "text/plain": [
       "<Figure size 864x360 with 1 Axes>"
      ]
     },
     "metadata": {
      "needs_background": "light"
     },
     "output_type": "display_data"
    },
    {
     "data": {
      "image/png": "[encoded data removed]",
      "text/plain": [
       "<Figure size 864x360 with 1 Axes>"
      ]
     },
     "metadata": {
      "needs_background": "light"
     },
     "output_type": "display_data"
    },
    {
     "data": {
      "image/png": "[encoded data removed]",
      "text/plain": [
       "<Figure size 864x360 with 1 Axes>"
      ]
     },
     "metadata": {
      "needs_background": "light"
     },
     "output_type": "display_data"
    }
   ],
   "source": [
    "#недостающие графики \n",
    "grafik('weekday_exposition')\n",
    "grafik('month_exposition')\n",
    "grafik('year_exposition')"
   ]
  },
  {
   "cell_type": "markdown",
   "metadata": {},
   "source": [
    "Самые высокие цены по четвергам, а самые низкие по воскресениям. Самая низкая стоимость зафиксирована в октябре, в апреле и июле практически на равных высокие позиции, пик приходится на декабрь. Неожиданно, что цена с каждым годом падает."
   ]
  },
  {
   "cell_type": "markdown",
   "metadata": {},
   "source": [
    "<font color='green'>**Посчитайте среднюю цену одного квадратного метра в 10 населённых пунктах с наибольшим числом объявлений. Выделите населённые пункты с самой высокой и низкой стоимостью квадратного метра. Эти данные можно найти по имени в столбце locality_name**</font>\n"
   ]
  },
  {
   "cell_type": "code",
   "execution_count": 58,
   "metadata": {},
   "outputs": [
    {
     "data": {
      "text/plain": [
       "locality_name\n",
       "Санкт-Петербург      15664\n",
       "поселок Мурино         556\n",
       "поселок Шушары         440\n",
       "Всеволожск             398\n",
       "Пушкин                 367\n",
       "Колпино                337\n",
       "поселок Парголово      327\n",
       "Гатчина                307\n",
       "деревня Кудрово        299\n",
       "Выборг                 237\n",
       "dtype: int64"
      ]
     },
     "execution_count": 58,
     "metadata": {},
     "output_type": "execute_result"
    }
   ],
   "source": [
    "# Выведем список 10 населённых пунктах с наибольшим числом объявлений:\n",
    "data.value_counts('locality_name').head(10)"
   ]
  },
  {
   "cell_type": "code",
   "execution_count": 59,
   "metadata": {},
   "outputs": [
    {
     "data": {
      "text/html": [
       "<div>\n",
       "<style scoped>\n",
       "    .dataframe tbody tr th:only-of-type {\n",
       "        vertical-align: middle;\n",
       "    }\n",
       "\n",
       "    .dataframe tbody tr th {\n",
       "        vertical-align: top;\n",
       "    }\n",
       "\n",
       "    .dataframe thead tr th {\n",
       "        text-align: left;\n",
       "    }\n",
       "\n",
       "    .dataframe thead tr:last-of-type th {\n",
       "        text-align: right;\n",
       "    }\n",
       "</style>\n",
       "<table border=\"1\" class=\"dataframe\">\n",
       "  <thead>\n",
       "    <tr>\n",
       "      <th></th>\n",
       "      <th>count</th>\n",
       "      <th>mean</th>\n",
       "    </tr>\n",
       "    <tr>\n",
       "      <th></th>\n",
       "      <th>one_meter_price</th>\n",
       "      <th>one_meter_price</th>\n",
       "    </tr>\n",
       "    <tr>\n",
       "      <th>locality_name</th>\n",
       "      <th></th>\n",
       "      <th></th>\n",
       "    </tr>\n",
       "  </thead>\n",
       "  <tbody>\n",
       "    <tr>\n",
       "      <th>Санкт-Петербург</th>\n",
       "      <td>15664</td>\n",
       "      <td>114382.13</td>\n",
       "    </tr>\n",
       "    <tr>\n",
       "      <th>поселок Мурино</th>\n",
       "      <td>556</td>\n",
       "      <td>85681.76</td>\n",
       "    </tr>\n",
       "    <tr>\n",
       "      <th>поселок Шушары</th>\n",
       "      <td>440</td>\n",
       "      <td>78677.36</td>\n",
       "    </tr>\n",
       "    <tr>\n",
       "      <th>Всеволожск</th>\n",
       "      <td>398</td>\n",
       "      <td>68654.47</td>\n",
       "    </tr>\n",
       "    <tr>\n",
       "      <th>Пушкин</th>\n",
       "      <td>367</td>\n",
       "      <td>103130.85</td>\n",
       "    </tr>\n",
       "    <tr>\n",
       "      <th>Колпино</th>\n",
       "      <td>337</td>\n",
       "      <td>75333.30</td>\n",
       "    </tr>\n",
       "    <tr>\n",
       "      <th>поселок Парголово</th>\n",
       "      <td>327</td>\n",
       "      <td>90175.91</td>\n",
       "    </tr>\n",
       "    <tr>\n",
       "      <th>Гатчина</th>\n",
       "      <td>307</td>\n",
       "      <td>68746.15</td>\n",
       "    </tr>\n",
       "    <tr>\n",
       "      <th>деревня Кудрово</th>\n",
       "      <td>299</td>\n",
       "      <td>92473.55</td>\n",
       "    </tr>\n",
       "    <tr>\n",
       "      <th>Выборг</th>\n",
       "      <td>237</td>\n",
       "      <td>58141.91</td>\n",
       "    </tr>\n",
       "  </tbody>\n",
       "</table>\n",
       "</div>"
      ],
      "text/plain": [
       "                            count            mean\n",
       "                  one_meter_price one_meter_price\n",
       "locality_name                                    \n",
       "Санкт-Петербург             15664       114382.13\n",
       "поселок Мурино                556        85681.76\n",
       "поселок Шушары                440        78677.36\n",
       "Всеволожск                    398        68654.47\n",
       "Пушкин                        367       103130.85\n",
       "Колпино                       337        75333.30\n",
       "поселок Парголово             327        90175.91\n",
       "Гатчина                       307        68746.15\n",
       "деревня Кудрово               299        92473.55\n",
       "Выборг                        237        58141.91"
      ]
     },
     "metadata": {},
     "output_type": "display_data"
    }
   ],
   "source": [
    "# Теперь посчитаем среднюю цену одного квадратного метра в 10 населённых пунктах с наибольшим числом объявлений.\n",
    "price_mean=data.pivot_table(index = 'locality_name', values = 'one_meter_price', aggfunc = ['count', 'mean']).sort_values(by=('count', 'one_meter_price'), ascending=False)\n",
    "display(price_mean.head(10))"
   ]
  },
  {
   "cell_type": "markdown",
   "metadata": {},
   "source": [
    "Таким образом, логично, что самый дорогой квадратный метр жилья будет стоить во второй столице России-городе Санкт-Петербурге, а самый дешевый из десяти населённых пунктах с наибольшим числом объявлений, в самой отдаленной ею частью - Выборге. "
   ]
  },
  {
   "cell_type": "markdown",
   "metadata": {},
   "source": [
    "<font color='green'>**Ранее вы посчитали расстояние до центра в километрах. Теперь выделите квартиры в Санкт-Петербурге с помощью столбца locality_name и вычислите среднюю цену каждого километра. Опишите, как стоимость объектов зависит от расстояния до центра города.**</font>\n"
   ]
  },
  {
   "cell_type": "code",
   "execution_count": 60,
   "metadata": {},
   "outputs": [
    {
     "data": {
      "text/html": [
       "<div>\n",
       "<style scoped>\n",
       "    .dataframe tbody tr th:only-of-type {\n",
       "        vertical-align: middle;\n",
       "    }\n",
       "\n",
       "    .dataframe tbody tr th {\n",
       "        vertical-align: top;\n",
       "    }\n",
       "\n",
       "    .dataframe thead th {\n",
       "        text-align: right;\n",
       "    }\n",
       "</style>\n",
       "<table border=\"1\" class=\"dataframe\">\n",
       "  <thead>\n",
       "    <tr style=\"text-align: right;\">\n",
       "      <th></th>\n",
       "      <th>price_per_km</th>\n",
       "    </tr>\n",
       "    <tr>\n",
       "      <th>locality_name</th>\n",
       "      <th></th>\n",
       "    </tr>\n",
       "  </thead>\n",
       "  <tbody>\n",
       "    <tr>\n",
       "      <th>Санкт-Петербург</th>\n",
       "      <td>1286894.53</td>\n",
       "    </tr>\n",
       "  </tbody>\n",
       "</table>\n",
       "</div>"
      ],
      "text/plain": [
       "                 price_per_km\n",
       "locality_name                \n",
       "Санкт-Петербург    1286894.53"
      ]
     },
     "metadata": {},
     "output_type": "display_data"
    }
   ],
   "source": [
    "# Вычислим среднюю цену каждого километра до центра для data и сохраним результаты в дополнительный столбец 'price_per_km':\n",
    "\n",
    "data['price_per_km'] = data['last_price'] / data['city_centers_nearest_km']\n",
    "\n",
    "# В столбце 'cityCenters_nearest_km' встречаются значения, равные 0. \n",
    "data = data.query('city_centers_nearest_km != 0')\n",
    "# Теперь вычислим среднюю цену каждого километра до центра для квартир в Санкт-Петербурге:\n",
    "\n",
    "price_km_city = data.pivot_table(index='locality_name', values='price_per_km')\n",
    "price_km_city = price_km_city.query('locality_name in \"Санкт-Петербург\"')\n",
    "\n",
    "display(price_km_city)"
   ]
  },
  {
   "cell_type": "code",
   "execution_count": 61,
   "metadata": {},
   "outputs": [
    {
     "data": {
      "image/png": "[encoded data removed]",
      "text/plain": [
       "<Figure size 864x360 with 1 Axes>"
      ]
     },
     "metadata": {
      "needs_background": "light"
     },
     "output_type": "display_data"
    }
   ],
   "source": [
    "# Итак, средняя цена за один километр до центра в Санкт-Петербурге около 1286894.53 руб.\n",
    "# Опишем, как стоимость объектов зависит от расстояния до центра города:\n",
    "\n",
    "data.pivot_table(index='city_centers_nearest_km', values='last_price').plot(grid=True, figsize=(12, 5))\n",
    "plt.show()"
   ]
  },
  {
   "cell_type": "markdown",
   "metadata": {},
   "source": [
    "Cтоимость объектов падает в зависити от расстояния до центра Санкт-Петербурга. Тем не менее, в области 43 и 55 км наблюдаются пики в стоимости. Возможно, это связано с расположенном на этом расстоянии загородном \"элитном\" жилье близ Санкт-Петербурга, в духе Рублевки."
   ]
  },
  {
   "cell_type": "markdown",
   "metadata": {},
   "source": [
    "### Общий вывод<a id='g'></a>"
   ]
  },
  {
   "cell_type": "markdown",
   "metadata": {},
   "source": [
    "<div style=\"border:solid green 2px; padding: 20px\">\n",
    "\n",
    "\n",
    "**Цель исследования** — выполнить предобработку данных и изучить их, чтобы найти интересные особенности и зависимости, которые существуют на рынке недвижимости. В дальнейшем это поможет установить приоритетные параметры для автоматизации систем сервиса, которые помогут отследить аномалии и мошенническую деятельность.\n",
    "\n",
    "\n",
    "Для начала была проанализирована исходная таблица в размере 23699 строк в 22 столбцах. Во многих столбцах были обнаружены пропуски, которые возникли и по причине пользователей (например, не указано количество балконов и т.п) и картографические ошибки (например, не указано количество водоемов/парков). Для их устранения были проведены следующие действия:\n",
    "- в столбцах parks_around3000, ponds_around3000, balcony пропуски были заменены на ноль. В этих же столбцах для удобства расчетов вещественный тип переведем в целочисленный \n",
    " - в стобце first_day_exposition отредактировали запись даты и поменяем его тип на датетайм.\n",
    " - в столбцах ceiling_height, living_area, kitchen_area были обнаружены аномалии-значения, которые не отражают действительность и появились по какой-то ошибке(указана высота потолков от 1м до 100) и пропуски, которые были заменены медианным значением сооьветсвующим конкретным столбцам.\n",
    " - при посроение графиков по столбцу days_exposition была обнаружена тендеция незакрытых обьявлений за 2019 год\n",
    " - были обработаны неявные дубликаты (раньше названия населенных пунктов повторялись из-за разной записи е-ё и т.п)\n",
    "\n",
    "Для того чтобы провести исследовательский анализ данных в датафрейм были добавлены новые показатели:цена одного квадратного метра; день недели публикации объявления (0 — понедельник, 1 — вторник и так далее); месяц публикации объявления; год публикации объявления; тип этажа квартиры (значения — «первый», «последний», «другой»); расстояние до центра города в километрах (перевели из м в км и округлили до целых значений). Сделаны графики соотношений цены к другим показателям квартир. \n",
    "\n",
    "Были обнаружены интересные результаты, например, в большинстве случаев объявления публиковались по будням, лидировали – вторник и четверг. Этот факт нужно учесть, для того чтобы быть готовым к загрузу серверов в эти дни. При этом длительность размещения квартиры на площадке Яндекса равняется 180 дням, а медиана равна 95 дням. В большинстве случаев объявление было размещено от 45 до 231 дня. Это и есть время продажи. Быстрые продажи - от 1 до 45 дней, долгие - от 231 до 1580 дней. Опять же не забываем, что некоторые обьявления до сих пор актуальны. На такую ситуацию влияет множетсво факторов, но самый главный это частота визитов потенциальных покупателей. Думаю, что такому показателю стоит уделить внимание.\n",
    "\n",
    "В ходе посторения матрицы корреляции, было обнаружено, что ависимоть между общей (полной) стоимостью объекта и общей площадью составляет 0,67; жилой площадью - 0,58; площадью кухни - 0,53; количеством комнат - 0,39. Такой результат показывает, что зависимость сущетсвует, но она средняя от общей площади, и слабая от количества комнат. Построенные графики также подтверждают полученные результаты. Поэтому полагаться на такаю зависимость не следует. Разница в стоимости квартир между последним и другими этажами - несущественная, самый \"дешевый\" этаж первый. Зависимости роста общей стоимости объектов от даты размещения, в целом, за несколько лет не наблюдается.\n",
    "\n",
    "Самый дорогой квадратный метр жилья в городе Санкт-Петербурге - 114382.13 тыс. рублей, а самый дешевый из десяти населённых пунктах с наибольшим числом объявлений, в самой отдаленной ею частью - Выборге -58141.91 тыс. рублей. Cтоимость объектов падает в зависити от расстояния до центра Санкт-Петербурга, средняя цена за один километр до центра в Санкт-Петербурге около 1286894.53 руб.\n",
    "\n",
    "**Рекомендации**:\n",
    "- следует оптимизировать названия населенных пунктов. Скорее всего, часть некорректных и пропущенных значений является ошибками ввода, также стоит добавить точный адрес квартиры;\n",
    "- при вводе целочисленных значений лучше всего ограничеть, например высота потолка не дложна быть выше 6 м, при попытке ввести большее значение выдавать ошибку или предлагать пользователю сменить статус \"квартиры\" на \"дом\"; \n",
    "- Для более точной оценки рыночной стоимости квартиры, следует учитывать и такие факторы, как расстояние до метро, год постройки, наличие лифта, ремонт квартиры, электрическая или газовая плита, есть ли горячее водоснабжение или имеется газовая колонка.\n",
    "\n"
   ]
  },
  {
   "cell_type": "code",
   "execution_count": null,
   "metadata": {},
   "outputs": [],
   "source": []
  }
 ],
 "metadata": {
  "ExecuteTimeLog": [
   {
    "duration": 407,
    "start_time": "2023-02-16T07:09:08.523Z"
   },
   {
    "duration": 433,
    "start_time": "2023-02-16T07:11:16.344Z"
   },
   {
    "duration": 86,
    "start_time": "2023-02-16T07:12:01.664Z"
   },
   {
    "duration": 12,
    "start_time": "2023-02-16T07:12:12.974Z"
   },
   {
    "duration": 115,
    "start_time": "2023-02-16T07:13:25.116Z"
   },
   {
    "duration": 32,
    "start_time": "2023-02-16T07:13:28.048Z"
   },
   {
    "duration": 20,
    "start_time": "2023-02-16T07:14:45.795Z"
   },
   {
    "duration": 41,
    "start_time": "2023-02-16T07:52:05.819Z"
   },
   {
    "duration": 33,
    "start_time": "2023-02-16T07:52:23.661Z"
   },
   {
    "duration": 2784,
    "start_time": "2023-02-16T07:54:38.823Z"
   },
   {
    "duration": 2242,
    "start_time": "2023-02-16T08:08:43.377Z"
   },
   {
    "duration": 2256,
    "start_time": "2023-02-16T08:08:52.068Z"
   },
   {
    "duration": 433,
    "start_time": "2023-02-16T08:09:42.818Z"
   },
   {
    "duration": 108,
    "start_time": "2023-02-16T08:09:43.253Z"
   },
   {
    "duration": 54,
    "start_time": "2023-02-16T08:09:43.363Z"
   },
   {
    "duration": 157,
    "start_time": "2023-02-16T08:09:43.418Z"
   },
   {
    "duration": 3129,
    "start_time": "2023-02-16T08:09:43.578Z"
   },
   {
    "duration": 13,
    "start_time": "2023-02-16T08:16:11.207Z"
   },
   {
    "duration": 5,
    "start_time": "2023-02-16T08:59:02.166Z"
   },
   {
    "duration": 19,
    "start_time": "2023-02-16T08:59:16.205Z"
   },
   {
    "duration": 20,
    "start_time": "2023-02-16T09:09:34.608Z"
   },
   {
    "duration": 10,
    "start_time": "2023-02-16T09:09:37.227Z"
   },
   {
    "duration": 4,
    "start_time": "2023-02-16T09:26:20.958Z"
   },
   {
    "duration": 2963,
    "start_time": "2023-02-16T09:26:26.488Z"
   },
   {
    "duration": 728,
    "start_time": "2023-02-16T09:26:40.367Z"
   },
   {
    "duration": 167,
    "start_time": "2023-02-16T09:26:41.097Z"
   },
   {
    "duration": 55,
    "start_time": "2023-02-16T09:26:41.268Z"
   },
   {
    "duration": 18,
    "start_time": "2023-02-16T09:26:41.325Z"
   },
   {
    "duration": 2518,
    "start_time": "2023-02-16T09:26:41.347Z"
   },
   {
    "duration": 11,
    "start_time": "2023-02-16T09:26:43.867Z"
   },
   {
    "duration": 24,
    "start_time": "2023-02-16T09:26:43.880Z"
   },
   {
    "duration": 24,
    "start_time": "2023-02-16T09:26:43.908Z"
   },
   {
    "duration": 693,
    "start_time": "2023-02-16T09:27:08.470Z"
   },
   {
    "duration": 2348,
    "start_time": "2023-02-16T09:27:18.966Z"
   },
   {
    "duration": 2534,
    "start_time": "2023-02-16T09:29:29.645Z"
   },
   {
    "duration": 2623,
    "start_time": "2023-02-16T09:29:35.392Z"
   },
   {
    "duration": 5,
    "start_time": "2023-02-16T13:12:55.564Z"
   },
   {
    "duration": 10,
    "start_time": "2023-02-16T13:13:01.067Z"
   },
   {
    "duration": 1347,
    "start_time": "2023-02-16T13:13:25.730Z"
   },
   {
    "duration": 108,
    "start_time": "2023-02-16T13:13:27.079Z"
   },
   {
    "duration": 33,
    "start_time": "2023-02-16T13:13:27.189Z"
   },
   {
    "duration": 48,
    "start_time": "2023-02-16T13:13:27.224Z"
   },
   {
    "duration": 2354,
    "start_time": "2023-02-16T13:13:27.275Z"
   },
   {
    "duration": 15,
    "start_time": "2023-02-16T13:13:29.632Z"
   },
   {
    "duration": 6,
    "start_time": "2023-02-16T13:13:29.649Z"
   },
   {
    "duration": 35,
    "start_time": "2023-02-16T13:13:29.657Z"
   },
   {
    "duration": 5,
    "start_time": "2023-02-16T13:18:50.018Z"
   },
   {
    "duration": 10,
    "start_time": "2023-02-16T13:18:55.933Z"
   },
   {
    "duration": 142,
    "start_time": "2023-02-16T13:25:31.490Z"
   },
   {
    "duration": 9,
    "start_time": "2023-02-16T13:27:35.872Z"
   },
   {
    "duration": 10,
    "start_time": "2023-02-16T13:45:27.067Z"
   },
   {
    "duration": 194,
    "start_time": "2023-02-16T13:45:48.565Z"
   },
   {
    "duration": 182,
    "start_time": "2023-02-16T13:58:54.941Z"
   },
   {
    "duration": 184,
    "start_time": "2023-02-16T14:03:09.928Z"
   },
   {
    "duration": 185,
    "start_time": "2023-02-16T14:17:20.998Z"
   },
   {
    "duration": 186,
    "start_time": "2023-02-16T14:18:33.080Z"
   },
   {
    "duration": 183,
    "start_time": "2023-02-16T14:19:43.114Z"
   },
   {
    "duration": 183,
    "start_time": "2023-02-16T14:25:38.571Z"
   },
   {
    "duration": 232,
    "start_time": "2023-02-16T14:26:16.142Z"
   },
   {
    "duration": 263,
    "start_time": "2023-02-16T14:44:35.349Z"
   },
   {
    "duration": 217,
    "start_time": "2023-02-16T14:46:34.509Z"
   },
   {
    "duration": 1228,
    "start_time": "2023-02-16T14:46:43.785Z"
   },
   {
    "duration": 111,
    "start_time": "2023-02-16T14:46:45.015Z"
   },
   {
    "duration": 25,
    "start_time": "2023-02-16T14:46:45.128Z"
   },
   {
    "duration": 52,
    "start_time": "2023-02-16T14:46:45.155Z"
   },
   {
    "duration": 2239,
    "start_time": "2023-02-16T14:46:45.210Z"
   },
   {
    "duration": 9,
    "start_time": "2023-02-16T14:46:47.451Z"
   },
   {
    "duration": 6,
    "start_time": "2023-02-16T14:46:47.461Z"
   },
   {
    "duration": 39,
    "start_time": "2023-02-16T14:46:47.468Z"
   },
   {
    "duration": 197,
    "start_time": "2023-02-16T14:46:47.509Z"
   },
   {
    "duration": 31,
    "start_time": "2023-02-16T14:46:47.709Z"
   },
   {
    "duration": 9,
    "start_time": "2023-02-16T14:46:47.742Z"
   },
   {
    "duration": 44,
    "start_time": "2023-02-16T15:04:49.361Z"
   },
   {
    "duration": 12,
    "start_time": "2023-02-16T15:08:40.442Z"
   },
   {
    "duration": 35,
    "start_time": "2023-02-16T15:35:29.318Z"
   },
   {
    "duration": 29,
    "start_time": "2023-02-16T15:39:53.885Z"
   },
   {
    "duration": 32,
    "start_time": "2023-02-16T15:39:58.985Z"
   },
   {
    "duration": 17,
    "start_time": "2023-02-16T15:41:15.546Z"
   },
   {
    "duration": 20,
    "start_time": "2023-02-16T15:44:49.744Z"
   },
   {
    "duration": 19,
    "start_time": "2023-02-16T16:18:10.492Z"
   },
   {
    "duration": 23,
    "start_time": "2023-02-16T16:18:18.651Z"
   },
   {
    "duration": 50,
    "start_time": "2023-02-16T16:20:31.427Z"
   },
   {
    "duration": 8,
    "start_time": "2023-02-16T17:45:57.451Z"
   },
   {
    "duration": 9,
    "start_time": "2023-02-16T17:46:11.083Z"
   },
   {
    "duration": 139,
    "start_time": "2023-02-16T17:48:34.972Z"
   },
   {
    "duration": 9,
    "start_time": "2023-02-16T17:48:50.364Z"
   },
   {
    "duration": 6,
    "start_time": "2023-02-16T17:49:16.684Z"
   },
   {
    "duration": 20,
    "start_time": "2023-02-16T18:14:07.876Z"
   },
   {
    "duration": 5,
    "start_time": "2023-02-16T18:17:21.024Z"
   },
   {
    "duration": 17,
    "start_time": "2023-02-16T18:18:38.388Z"
   },
   {
    "duration": 8,
    "start_time": "2023-02-16T18:20:56.722Z"
   },
   {
    "duration": 23,
    "start_time": "2023-02-16T18:28:22.208Z"
   },
   {
    "duration": 11,
    "start_time": "2023-02-16T18:28:38.543Z"
   },
   {
    "duration": 38,
    "start_time": "2023-02-16T18:29:05.583Z"
   },
   {
    "duration": 22,
    "start_time": "2023-02-16T18:43:15.957Z"
   },
   {
    "duration": 25,
    "start_time": "2023-02-16T18:43:56.469Z"
   },
   {
    "duration": 11,
    "start_time": "2023-02-16T18:45:04.360Z"
   },
   {
    "duration": 6,
    "start_time": "2023-02-16T18:45:20.564Z"
   },
   {
    "duration": 1128,
    "start_time": "2023-02-16T18:48:01.440Z"
   },
   {
    "duration": 90,
    "start_time": "2023-02-16T18:48:02.570Z"
   },
   {
    "duration": 20,
    "start_time": "2023-02-16T18:48:02.661Z"
   },
   {
    "duration": 38,
    "start_time": "2023-02-16T18:48:02.683Z"
   },
   {
    "duration": 1948,
    "start_time": "2023-02-16T18:48:02.723Z"
   },
   {
    "duration": 22,
    "start_time": "2023-02-16T18:48:04.673Z"
   },
   {
    "duration": 5,
    "start_time": "2023-02-16T18:48:04.697Z"
   },
   {
    "duration": 15,
    "start_time": "2023-02-16T18:48:04.704Z"
   },
   {
    "duration": 188,
    "start_time": "2023-02-16T18:48:04.721Z"
   },
   {
    "duration": 32,
    "start_time": "2023-02-16T18:48:04.912Z"
   },
   {
    "duration": 12,
    "start_time": "2023-02-16T18:48:04.946Z"
   },
   {
    "duration": 37,
    "start_time": "2023-02-16T18:48:04.960Z"
   },
   {
    "duration": 6,
    "start_time": "2023-02-16T18:48:04.999Z"
   },
   {
    "duration": 7,
    "start_time": "2023-02-16T18:48:05.007Z"
   },
   {
    "duration": 9,
    "start_time": "2023-02-16T18:48:05.015Z"
   },
   {
    "duration": 6,
    "start_time": "2023-02-16T18:48:05.026Z"
   },
   {
    "duration": 16,
    "start_time": "2023-02-16T18:48:05.033Z"
   },
   {
    "duration": 8,
    "start_time": "2023-02-16T18:48:05.050Z"
   },
   {
    "duration": 45,
    "start_time": "2023-02-16T18:48:05.060Z"
   },
   {
    "duration": 97,
    "start_time": "2023-02-16T19:01:43.702Z"
   },
   {
    "duration": 7,
    "start_time": "2023-02-16T19:01:56.446Z"
   },
   {
    "duration": 9,
    "start_time": "2023-02-16T19:03:29.900Z"
   },
   {
    "duration": 4,
    "start_time": "2023-02-16T19:03:42.310Z"
   },
   {
    "duration": 14,
    "start_time": "2023-02-16T19:14:22.407Z"
   },
   {
    "duration": 7,
    "start_time": "2023-02-16T19:15:19.533Z"
   },
   {
    "duration": 1519,
    "start_time": "2023-02-16T19:16:19.332Z"
   },
   {
    "duration": 108,
    "start_time": "2023-02-16T19:16:20.853Z"
   },
   {
    "duration": 20,
    "start_time": "2023-02-16T19:16:20.963Z"
   },
   {
    "duration": 17,
    "start_time": "2023-02-16T19:16:20.992Z"
   },
   {
    "duration": 2238,
    "start_time": "2023-02-16T19:16:21.012Z"
   },
   {
    "duration": 11,
    "start_time": "2023-02-16T19:16:23.253Z"
   },
   {
    "duration": 6,
    "start_time": "2023-02-16T19:16:23.266Z"
   },
   {
    "duration": 27,
    "start_time": "2023-02-16T19:16:23.273Z"
   },
   {
    "duration": 219,
    "start_time": "2023-02-16T19:16:23.302Z"
   },
   {
    "duration": 26,
    "start_time": "2023-02-16T19:16:23.523Z"
   },
   {
    "duration": 11,
    "start_time": "2023-02-16T19:16:23.550Z"
   },
   {
    "duration": 45,
    "start_time": "2023-02-16T19:16:23.562Z"
   },
   {
    "duration": 8,
    "start_time": "2023-02-16T19:16:23.611Z"
   },
   {
    "duration": 7,
    "start_time": "2023-02-16T19:16:23.621Z"
   },
   {
    "duration": 8,
    "start_time": "2023-02-16T19:16:23.629Z"
   },
   {
    "duration": 4,
    "start_time": "2023-02-16T19:16:23.638Z"
   },
   {
    "duration": 12,
    "start_time": "2023-02-16T19:16:23.644Z"
   },
   {
    "duration": 4,
    "start_time": "2023-02-16T19:16:23.658Z"
   },
   {
    "duration": 9,
    "start_time": "2023-02-16T19:16:23.694Z"
   },
   {
    "duration": 10,
    "start_time": "2023-02-16T19:16:23.705Z"
   },
   {
    "duration": 17,
    "start_time": "2023-02-16T19:16:23.717Z"
   },
   {
    "duration": 7,
    "start_time": "2023-02-16T19:17:35.913Z"
   },
   {
    "duration": 8,
    "start_time": "2023-02-16T19:20:40.055Z"
   },
   {
    "duration": 7,
    "start_time": "2023-02-16T19:20:55.311Z"
   },
   {
    "duration": 6,
    "start_time": "2023-02-16T19:21:06.482Z"
   },
   {
    "duration": 10,
    "start_time": "2023-02-16T19:37:24.482Z"
   },
   {
    "duration": 5,
    "start_time": "2023-02-16T19:37:40.363Z"
   },
   {
    "duration": 4,
    "start_time": "2023-02-16T19:38:47.818Z"
   },
   {
    "duration": 7,
    "start_time": "2023-02-16T19:39:46.653Z"
   },
   {
    "duration": 93,
    "start_time": "2023-02-16T19:40:52.837Z"
   },
   {
    "duration": 7,
    "start_time": "2023-02-16T19:42:52.665Z"
   },
   {
    "duration": 6,
    "start_time": "2023-02-16T19:43:18.686Z"
   },
   {
    "duration": 1190,
    "start_time": "2023-02-16T19:53:01.550Z"
   },
   {
    "duration": 7,
    "start_time": "2023-02-16T19:53:16.438Z"
   },
   {
    "duration": 6,
    "start_time": "2023-02-16T19:55:41.902Z"
   },
   {
    "duration": 8,
    "start_time": "2023-02-16T19:59:23.971Z"
   },
   {
    "duration": 20,
    "start_time": "2023-02-16T19:59:35.682Z"
   },
   {
    "duration": 19,
    "start_time": "2023-02-16T19:59:52.162Z"
   },
   {
    "duration": 18,
    "start_time": "2023-02-16T20:01:01.877Z"
   },
   {
    "duration": 473,
    "start_time": "2023-02-16T20:10:03.031Z"
   },
   {
    "duration": 8,
    "start_time": "2023-02-16T20:15:48.492Z"
   },
   {
    "duration": 5,
    "start_time": "2023-02-16T20:24:39.408Z"
   },
   {
    "duration": 24,
    "start_time": "2023-02-16T20:24:55.387Z"
   },
   {
    "duration": 24,
    "start_time": "2023-02-16T20:27:21.935Z"
   },
   {
    "duration": 32,
    "start_time": "2023-02-16T20:31:29.190Z"
   },
   {
    "duration": 1521,
    "start_time": "2023-02-16T20:38:17.022Z"
   },
   {
    "duration": 339,
    "start_time": "2023-02-16T20:38:58.703Z"
   },
   {
    "duration": 128,
    "start_time": "2023-02-17T06:53:39.055Z"
   },
   {
    "duration": 133,
    "start_time": "2023-02-17T06:54:19.552Z"
   },
   {
    "duration": 45,
    "start_time": "2023-02-17T07:46:42.626Z"
   },
   {
    "duration": 6,
    "start_time": "2023-02-17T07:46:58.280Z"
   },
   {
    "duration": 1548,
    "start_time": "2023-02-17T07:47:01.010Z"
   },
   {
    "duration": 416,
    "start_time": "2023-02-17T07:47:04.022Z"
   },
   {
    "duration": 23,
    "start_time": "2023-02-17T07:47:10.220Z"
   },
   {
    "duration": 22,
    "start_time": "2023-02-17T08:01:48.432Z"
   },
   {
    "duration": 21,
    "start_time": "2023-02-17T08:07:08.327Z"
   },
   {
    "duration": 8,
    "start_time": "2023-02-17T08:13:59.160Z"
   },
   {
    "duration": 1353,
    "start_time": "2023-02-17T08:19:50.494Z"
   },
   {
    "duration": 111,
    "start_time": "2023-02-17T08:19:51.854Z"
   },
   {
    "duration": 20,
    "start_time": "2023-02-17T08:19:51.967Z"
   },
   {
    "duration": 23,
    "start_time": "2023-02-17T08:19:51.989Z"
   },
   {
    "duration": 2503,
    "start_time": "2023-02-17T08:19:52.021Z"
   },
   {
    "duration": 16,
    "start_time": "2023-02-17T08:19:54.532Z"
   },
   {
    "duration": 13,
    "start_time": "2023-02-17T08:19:54.550Z"
   },
   {
    "duration": 5,
    "start_time": "2023-02-17T08:19:54.565Z"
   },
   {
    "duration": 10,
    "start_time": "2023-02-17T08:19:54.572Z"
   },
   {
    "duration": 8,
    "start_time": "2023-02-17T08:19:54.585Z"
   },
   {
    "duration": 27,
    "start_time": "2023-02-17T08:19:54.594Z"
   },
   {
    "duration": 233,
    "start_time": "2023-02-17T08:19:54.625Z"
   },
   {
    "duration": 25,
    "start_time": "2023-02-17T08:19:54.859Z"
   },
   {
    "duration": 32,
    "start_time": "2023-02-17T08:19:54.886Z"
   },
   {
    "duration": 19,
    "start_time": "2023-02-17T08:19:54.919Z"
   },
   {
    "duration": 19,
    "start_time": "2023-02-17T08:19:54.943Z"
   },
   {
    "duration": 6,
    "start_time": "2023-02-17T08:19:54.963Z"
   },
   {
    "duration": 11,
    "start_time": "2023-02-17T08:19:54.971Z"
   },
   {
    "duration": 17,
    "start_time": "2023-02-17T08:19:54.984Z"
   },
   {
    "duration": 57,
    "start_time": "2023-02-17T08:19:55.002Z"
   },
   {
    "duration": 5,
    "start_time": "2023-02-17T08:19:55.060Z"
   },
   {
    "duration": 14,
    "start_time": "2023-02-17T08:19:55.067Z"
   },
   {
    "duration": 70,
    "start_time": "2023-02-17T08:19:55.083Z"
   },
   {
    "duration": 7,
    "start_time": "2023-02-17T08:19:55.154Z"
   },
   {
    "duration": 7,
    "start_time": "2023-02-17T08:19:55.163Z"
   },
   {
    "duration": 14,
    "start_time": "2023-02-17T08:19:55.171Z"
   },
   {
    "duration": 14,
    "start_time": "2023-02-17T08:19:55.187Z"
   },
   {
    "duration": 47,
    "start_time": "2023-02-17T08:19:55.212Z"
   },
   {
    "duration": 11,
    "start_time": "2023-02-17T08:19:55.261Z"
   },
   {
    "duration": 17,
    "start_time": "2023-02-17T08:19:55.273Z"
   },
   {
    "duration": 607,
    "start_time": "2023-02-17T08:19:55.292Z"
   },
   {
    "duration": 33,
    "start_time": "2023-02-17T08:19:55.900Z"
   },
   {
    "duration": 24,
    "start_time": "2023-02-17T08:19:55.943Z"
   },
   {
    "duration": 29,
    "start_time": "2023-02-17T08:19:55.969Z"
   },
   {
    "duration": 35,
    "start_time": "2023-02-17T08:19:56.000Z"
   },
   {
    "duration": 450,
    "start_time": "2023-02-17T08:19:56.041Z"
   },
   {
    "duration": 1317,
    "start_time": "2023-02-17T08:28:24.450Z"
   },
   {
    "duration": 116,
    "start_time": "2023-02-17T08:28:25.768Z"
   },
   {
    "duration": 33,
    "start_time": "2023-02-17T08:28:25.886Z"
   },
   {
    "duration": 26,
    "start_time": "2023-02-17T08:28:25.921Z"
   },
   {
    "duration": 2302,
    "start_time": "2023-02-17T08:28:25.954Z"
   },
   {
    "duration": 5,
    "start_time": "2023-02-17T08:28:28.257Z"
   },
   {
    "duration": 13,
    "start_time": "2023-02-17T08:28:28.263Z"
   },
   {
    "duration": 5,
    "start_time": "2023-02-17T08:28:28.277Z"
   },
   {
    "duration": 8,
    "start_time": "2023-02-17T08:28:28.283Z"
   },
   {
    "duration": 17,
    "start_time": "2023-02-17T08:28:28.292Z"
   },
   {
    "duration": 21,
    "start_time": "2023-02-17T08:28:28.310Z"
   },
   {
    "duration": 231,
    "start_time": "2023-02-17T08:28:28.335Z"
   },
   {
    "duration": 26,
    "start_time": "2023-02-17T08:28:28.568Z"
   },
   {
    "duration": 20,
    "start_time": "2023-02-17T08:28:28.614Z"
   },
   {
    "duration": 22,
    "start_time": "2023-02-17T08:28:28.636Z"
   },
   {
    "duration": 15,
    "start_time": "2023-02-17T08:28:28.659Z"
   },
   {
    "duration": 5,
    "start_time": "2023-02-17T08:28:28.676Z"
   },
   {
    "duration": 10,
    "start_time": "2023-02-17T08:28:28.683Z"
   },
   {
    "duration": 15,
    "start_time": "2023-02-17T08:28:28.695Z"
   },
   {
    "duration": 56,
    "start_time": "2023-02-17T08:28:28.711Z"
   },
   {
    "duration": 5,
    "start_time": "2023-02-17T08:28:28.769Z"
   },
   {
    "duration": 15,
    "start_time": "2023-02-17T08:28:28.776Z"
   },
   {
    "duration": 22,
    "start_time": "2023-02-17T08:28:28.793Z"
   },
   {
    "duration": 38,
    "start_time": "2023-02-17T08:28:28.817Z"
   },
   {
    "duration": 7,
    "start_time": "2023-02-17T08:28:28.857Z"
   },
   {
    "duration": 6,
    "start_time": "2023-02-17T08:28:28.866Z"
   },
   {
    "duration": 14,
    "start_time": "2023-02-17T08:28:28.874Z"
   },
   {
    "duration": 10,
    "start_time": "2023-02-17T08:28:28.889Z"
   },
   {
    "duration": 33,
    "start_time": "2023-02-17T08:28:28.900Z"
   },
   {
    "duration": 615,
    "start_time": "2023-02-17T08:28:28.934Z"
   },
   {
    "duration": 9,
    "start_time": "2023-02-17T08:28:29.551Z"
   },
   {
    "duration": 23,
    "start_time": "2023-02-17T08:28:29.561Z"
   },
   {
    "duration": 57,
    "start_time": "2023-02-17T08:28:29.586Z"
   },
   {
    "duration": 29,
    "start_time": "2023-02-17T08:28:29.646Z"
   },
   {
    "duration": 441,
    "start_time": "2023-02-17T08:28:29.678Z"
   },
   {
    "duration": 49,
    "start_time": "2023-02-17T17:19:41.668Z"
   },
   {
    "duration": 1318,
    "start_time": "2023-02-17T17:19:50.689Z"
   },
   {
    "duration": 138,
    "start_time": "2023-02-17T17:19:52.008Z"
   },
   {
    "duration": 25,
    "start_time": "2023-02-17T17:19:52.148Z"
   },
   {
    "duration": 15,
    "start_time": "2023-02-17T17:19:52.175Z"
   },
   {
    "duration": 1829,
    "start_time": "2023-02-17T17:19:52.191Z"
   },
   {
    "duration": 5,
    "start_time": "2023-02-17T17:19:54.022Z"
   },
   {
    "duration": 10,
    "start_time": "2023-02-17T17:19:54.028Z"
   },
   {
    "duration": 5,
    "start_time": "2023-02-17T17:19:54.039Z"
   },
   {
    "duration": 8,
    "start_time": "2023-02-17T17:19:54.045Z"
   },
   {
    "duration": 4,
    "start_time": "2023-02-17T17:19:54.056Z"
   },
   {
    "duration": 8,
    "start_time": "2023-02-17T17:19:54.061Z"
   },
   {
    "duration": 182,
    "start_time": "2023-02-17T17:19:54.070Z"
   },
   {
    "duration": 26,
    "start_time": "2023-02-17T17:19:54.253Z"
   },
   {
    "duration": 33,
    "start_time": "2023-02-17T17:19:54.280Z"
   },
   {
    "duration": 2,
    "start_time": "2023-02-17T17:19:54.315Z"
   },
   {
    "duration": 13,
    "start_time": "2023-02-17T17:19:54.319Z"
   },
   {
    "duration": 15,
    "start_time": "2023-02-17T17:19:54.334Z"
   },
   {
    "duration": 10,
    "start_time": "2023-02-17T17:19:54.351Z"
   },
   {
    "duration": 12,
    "start_time": "2023-02-17T17:19:54.362Z"
   },
   {
    "duration": 10,
    "start_time": "2023-02-17T17:19:54.376Z"
   },
   {
    "duration": 24,
    "start_time": "2023-02-17T17:19:54.387Z"
   },
   {
    "duration": 8,
    "start_time": "2023-02-17T17:19:54.412Z"
   },
   {
    "duration": 9,
    "start_time": "2023-02-17T17:19:54.421Z"
   },
   {
    "duration": 5,
    "start_time": "2023-02-17T17:19:54.432Z"
   },
   {
    "duration": 5,
    "start_time": "2023-02-17T17:19:54.439Z"
   },
   {
    "duration": 9,
    "start_time": "2023-02-17T17:19:54.445Z"
   },
   {
    "duration": 8,
    "start_time": "2023-02-17T17:19:54.456Z"
   },
   {
    "duration": 44,
    "start_time": "2023-02-17T17:19:54.466Z"
   },
   {
    "duration": 17,
    "start_time": "2023-02-17T17:19:54.512Z"
   },
   {
    "duration": 444,
    "start_time": "2023-02-17T17:19:54.531Z"
   },
   {
    "duration": 7,
    "start_time": "2023-02-17T17:19:54.977Z"
   },
   {
    "duration": 29,
    "start_time": "2023-02-17T17:19:54.985Z"
   },
   {
    "duration": 28,
    "start_time": "2023-02-17T17:19:55.016Z"
   },
   {
    "duration": 393,
    "start_time": "2023-02-17T17:19:55.045Z"
   },
   {
    "duration": 157,
    "start_time": "2023-02-17T17:19:55.440Z"
   },
   {
    "duration": 150,
    "start_time": "2023-02-17T17:27:49.992Z"
   },
   {
    "duration": 193,
    "start_time": "2023-02-17T17:27:58.175Z"
   },
   {
    "duration": 240,
    "start_time": "2023-02-17T17:28:06.783Z"
   },
   {
    "duration": 158,
    "start_time": "2023-02-17T17:28:15.711Z"
   },
   {
    "duration": 8,
    "start_time": "2023-02-17T17:35:01.423Z"
   },
   {
    "duration": 8,
    "start_time": "2023-02-17T17:42:10.721Z"
   },
   {
    "duration": 9,
    "start_time": "2023-02-17T17:42:49.013Z"
   },
   {
    "duration": 178,
    "start_time": "2023-02-17T17:44:18.524Z"
   },
   {
    "duration": 290,
    "start_time": "2023-02-17T17:45:38.990Z"
   },
   {
    "duration": 190,
    "start_time": "2023-02-17T17:48:26.146Z"
   },
   {
    "duration": 190,
    "start_time": "2023-02-17T17:53:31.760Z"
   },
   {
    "duration": 5,
    "start_time": "2023-02-17T18:04:41.026Z"
   },
   {
    "duration": 9,
    "start_time": "2023-02-17T18:08:16.457Z"
   },
   {
    "duration": 5,
    "start_time": "2023-02-17T18:08:35.404Z"
   },
   {
    "duration": 9,
    "start_time": "2023-02-17T18:16:13.913Z"
   },
   {
    "duration": 12,
    "start_time": "2023-02-17T18:16:25.377Z"
   },
   {
    "duration": 704,
    "start_time": "2023-02-17T18:25:16.297Z"
   },
   {
    "duration": 175,
    "start_time": "2023-02-17T18:25:40.853Z"
   },
   {
    "duration": 283,
    "start_time": "2023-02-17T18:28:45.229Z"
   },
   {
    "duration": 230,
    "start_time": "2023-02-17T18:35:20.211Z"
   },
   {
    "duration": 191,
    "start_time": "2023-02-17T18:50:29.516Z"
   },
   {
    "duration": 14,
    "start_time": "2023-02-17T19:09:56.296Z"
   },
   {
    "duration": 16,
    "start_time": "2023-02-17T19:11:02.940Z"
   },
   {
    "duration": 16,
    "start_time": "2023-02-17T19:15:12.577Z"
   },
   {
    "duration": 15,
    "start_time": "2023-02-17T19:15:37.416Z"
   },
   {
    "duration": 22,
    "start_time": "2023-02-17T19:15:58.288Z"
   },
   {
    "duration": 14,
    "start_time": "2023-02-17T19:16:45.176Z"
   },
   {
    "duration": 186,
    "start_time": "2023-02-17T20:00:06.162Z"
   },
   {
    "duration": 182,
    "start_time": "2023-02-17T20:05:38.743Z"
   },
   {
    "duration": 178,
    "start_time": "2023-02-17T20:07:23.846Z"
   },
   {
    "duration": 167,
    "start_time": "2023-02-17T20:11:37.284Z"
   },
   {
    "duration": 252,
    "start_time": "2023-02-17T20:14:35.085Z"
   },
   {
    "duration": 185,
    "start_time": "2023-02-17T20:18:45.681Z"
   },
   {
    "duration": 167,
    "start_time": "2023-02-17T20:21:41.187Z"
   },
   {
    "duration": 165,
    "start_time": "2023-02-17T20:27:50.880Z"
   },
   {
    "duration": 188,
    "start_time": "2023-02-17T20:32:55.486Z"
   },
   {
    "duration": 161,
    "start_time": "2023-02-17T20:35:13.414Z"
   },
   {
    "duration": 186,
    "start_time": "2023-02-17T20:40:14.298Z"
   },
   {
    "duration": 47,
    "start_time": "2023-02-18T17:37:12.339Z"
   },
   {
    "duration": 1364,
    "start_time": "2023-02-18T17:37:21.382Z"
   },
   {
    "duration": 166,
    "start_time": "2023-02-18T17:37:22.748Z"
   },
   {
    "duration": 21,
    "start_time": "2023-02-18T17:37:22.916Z"
   },
   {
    "duration": 16,
    "start_time": "2023-02-18T17:37:22.940Z"
   },
   {
    "duration": 2264,
    "start_time": "2023-02-18T17:37:22.957Z"
   },
   {
    "duration": 6,
    "start_time": "2023-02-18T17:37:25.222Z"
   },
   {
    "duration": 19,
    "start_time": "2023-02-18T17:37:25.230Z"
   },
   {
    "duration": 6,
    "start_time": "2023-02-18T17:37:25.251Z"
   },
   {
    "duration": 8,
    "start_time": "2023-02-18T17:37:25.258Z"
   },
   {
    "duration": 7,
    "start_time": "2023-02-18T17:37:25.268Z"
   },
   {
    "duration": 8,
    "start_time": "2023-02-18T17:37:25.277Z"
   },
   {
    "duration": 203,
    "start_time": "2023-02-18T17:37:25.287Z"
   },
   {
    "duration": 42,
    "start_time": "2023-02-18T17:37:25.492Z"
   },
   {
    "duration": 12,
    "start_time": "2023-02-18T17:37:25.535Z"
   },
   {
    "duration": 2,
    "start_time": "2023-02-18T17:37:25.549Z"
   },
   {
    "duration": 15,
    "start_time": "2023-02-18T17:37:25.552Z"
   },
   {
    "duration": 5,
    "start_time": "2023-02-18T17:37:25.568Z"
   },
   {
    "duration": 42,
    "start_time": "2023-02-18T17:37:25.575Z"
   },
   {
    "duration": 11,
    "start_time": "2023-02-18T17:37:25.619Z"
   },
   {
    "duration": 14,
    "start_time": "2023-02-18T17:37:25.632Z"
   },
   {
    "duration": 5,
    "start_time": "2023-02-18T17:37:25.647Z"
   },
   {
    "duration": 10,
    "start_time": "2023-02-18T17:37:25.654Z"
   },
   {
    "duration": 11,
    "start_time": "2023-02-18T17:37:25.665Z"
   },
   {
    "duration": 36,
    "start_time": "2023-02-18T17:37:25.677Z"
   },
   {
    "duration": 9,
    "start_time": "2023-02-18T17:37:25.715Z"
   },
   {
    "duration": 27,
    "start_time": "2023-02-18T17:37:25.726Z"
   },
   {
    "duration": 15,
    "start_time": "2023-02-18T17:37:25.755Z"
   },
   {
    "duration": 19,
    "start_time": "2023-02-18T17:37:25.775Z"
   },
   {
    "duration": 22,
    "start_time": "2023-02-18T17:37:25.796Z"
   },
   {
    "duration": 514,
    "start_time": "2023-02-18T17:37:25.821Z"
   },
   {
    "duration": 9,
    "start_time": "2023-02-18T17:37:26.336Z"
   },
   {
    "duration": 20,
    "start_time": "2023-02-18T17:37:26.346Z"
   },
   {
    "duration": 52,
    "start_time": "2023-02-18T17:37:26.367Z"
   },
   {
    "duration": 362,
    "start_time": "2023-02-18T17:37:26.421Z"
   },
   {
    "duration": 198,
    "start_time": "2023-02-18T17:37:26.785Z"
   },
   {
    "duration": 28,
    "start_time": "2023-02-18T17:37:26.985Z"
   },
   {
    "duration": 13,
    "start_time": "2023-02-18T17:37:27.016Z"
   },
   {
    "duration": 216,
    "start_time": "2023-02-18T17:37:27.030Z"
   },
   {
    "duration": 213,
    "start_time": "2023-02-18T17:37:27.247Z"
   },
   {
    "duration": 216,
    "start_time": "2023-02-18T17:37:27.462Z"
   },
   {
    "duration": 28,
    "start_time": "2023-02-18T17:37:27.679Z"
   },
   {
    "duration": 376,
    "start_time": "2023-02-18T17:37:27.708Z"
   },
   {
    "duration": 229,
    "start_time": "2023-02-18T17:37:28.086Z"
   },
   {
    "duration": 218,
    "start_time": "2023-02-18T17:37:28.320Z"
   },
   {
    "duration": 199,
    "start_time": "2023-02-18T17:37:28.539Z"
   },
   {
    "duration": 213,
    "start_time": "2023-02-18T17:37:28.740Z"
   },
   {
    "duration": 240,
    "start_time": "2023-02-18T17:37:28.955Z"
   },
   {
    "duration": 226,
    "start_time": "2023-02-18T17:37:29.197Z"
   },
   {
    "duration": 211,
    "start_time": "2023-02-18T17:37:29.425Z"
   },
   {
    "duration": 318,
    "start_time": "2023-02-18T17:37:29.638Z"
   },
   {
    "duration": 202,
    "start_time": "2023-02-18T17:37:29.957Z"
   },
   {
    "duration": 238,
    "start_time": "2023-02-18T17:37:30.161Z"
   },
   {
    "duration": 20,
    "start_time": "2023-02-18T17:37:30.405Z"
   },
   {
    "duration": 15,
    "start_time": "2023-02-18T17:38:17.273Z"
   },
   {
    "duration": 16,
    "start_time": "2023-02-18T17:40:21.217Z"
   },
   {
    "duration": 120,
    "start_time": "2023-02-18T17:43:11.249Z"
   },
   {
    "duration": 47,
    "start_time": "2023-02-18T17:43:34.248Z"
   },
   {
    "duration": 10,
    "start_time": "2023-02-18T17:46:09.191Z"
   },
   {
    "duration": 59,
    "start_time": "2023-02-18T17:47:14.310Z"
   },
   {
    "duration": 1340,
    "start_time": "2023-02-18T17:57:54.974Z"
   },
   {
    "duration": 1072,
    "start_time": "2023-02-18T18:12:01.861Z"
   },
   {
    "duration": 1623,
    "start_time": "2023-02-18T18:12:16.005Z"
   },
   {
    "duration": 171,
    "start_time": "2023-02-18T18:15:21.734Z"
   },
   {
    "duration": 1080,
    "start_time": "2023-02-18T18:17:36.607Z"
   },
   {
    "duration": 12,
    "start_time": "2023-02-18T18:36:36.303Z"
   },
   {
    "duration": 29,
    "start_time": "2023-02-18T18:39:05.871Z"
   },
   {
    "duration": 25,
    "start_time": "2023-02-18T18:39:38.113Z"
   },
   {
    "duration": 39,
    "start_time": "2023-02-18T19:05:50.543Z"
   },
   {
    "duration": 22,
    "start_time": "2023-02-18T19:07:10.864Z"
   },
   {
    "duration": 21,
    "start_time": "2023-02-18T19:09:31.839Z"
   },
   {
    "duration": 39,
    "start_time": "2023-02-18T19:16:08.833Z"
   },
   {
    "duration": 15,
    "start_time": "2023-02-18T19:17:52.752Z"
   },
   {
    "duration": 41,
    "start_time": "2023-02-18T19:18:40.026Z"
   },
   {
    "duration": 9,
    "start_time": "2023-02-18T19:21:45.262Z"
   },
   {
    "duration": 21,
    "start_time": "2023-02-18T19:22:56.453Z"
   },
   {
    "duration": 1330,
    "start_time": "2023-02-18T19:26:37.959Z"
   },
   {
    "duration": 111,
    "start_time": "2023-02-18T19:29:35.880Z"
   },
   {
    "duration": 12,
    "start_time": "2023-02-18T20:17:06.673Z"
   },
   {
    "duration": 21,
    "start_time": "2023-02-18T20:18:48.926Z"
   },
   {
    "duration": 14,
    "start_time": "2023-02-18T20:19:41.758Z"
   },
   {
    "duration": 11,
    "start_time": "2023-02-18T20:21:02.369Z"
   },
   {
    "duration": 14,
    "start_time": "2023-02-18T20:24:19.771Z"
   },
   {
    "duration": 21,
    "start_time": "2023-02-18T20:27:26.670Z"
   },
   {
    "duration": 24,
    "start_time": "2023-02-18T20:27:41.182Z"
   },
   {
    "duration": 18,
    "start_time": "2023-02-18T20:28:53.288Z"
   },
   {
    "duration": 40,
    "start_time": "2023-02-18T20:31:21.796Z"
   },
   {
    "duration": 19,
    "start_time": "2023-02-18T20:32:21.805Z"
   },
   {
    "duration": 14,
    "start_time": "2023-02-18T20:35:47.934Z"
   },
   {
    "duration": 1178,
    "start_time": "2023-02-18T20:37:36.870Z"
   },
   {
    "duration": 128,
    "start_time": "2023-02-18T20:37:38.050Z"
   },
   {
    "duration": 21,
    "start_time": "2023-02-18T20:37:38.180Z"
   },
   {
    "duration": 13,
    "start_time": "2023-02-18T20:37:38.204Z"
   },
   {
    "duration": 2013,
    "start_time": "2023-02-18T20:37:38.220Z"
   },
   {
    "duration": 5,
    "start_time": "2023-02-18T20:37:40.235Z"
   },
   {
    "duration": 14,
    "start_time": "2023-02-18T20:37:40.241Z"
   },
   {
    "duration": 5,
    "start_time": "2023-02-18T20:37:40.257Z"
   },
   {
    "duration": 12,
    "start_time": "2023-02-18T20:37:40.264Z"
   },
   {
    "duration": 7,
    "start_time": "2023-02-18T20:37:40.278Z"
   },
   {
    "duration": 8,
    "start_time": "2023-02-18T20:37:40.286Z"
   },
   {
    "duration": 176,
    "start_time": "2023-02-18T20:37:40.296Z"
   },
   {
    "duration": 38,
    "start_time": "2023-02-18T20:37:40.474Z"
   },
   {
    "duration": 11,
    "start_time": "2023-02-18T20:37:40.514Z"
   },
   {
    "duration": 2,
    "start_time": "2023-02-18T20:37:40.526Z"
   },
   {
    "duration": 13,
    "start_time": "2023-02-18T20:37:40.530Z"
   },
   {
    "duration": 4,
    "start_time": "2023-02-18T20:37:40.545Z"
   },
   {
    "duration": 9,
    "start_time": "2023-02-18T20:37:40.551Z"
   },
   {
    "duration": 41,
    "start_time": "2023-02-18T20:37:40.562Z"
   },
   {
    "duration": 12,
    "start_time": "2023-02-18T20:37:40.605Z"
   },
   {
    "duration": 6,
    "start_time": "2023-02-18T20:37:40.618Z"
   },
   {
    "duration": 8,
    "start_time": "2023-02-18T20:37:40.625Z"
   },
   {
    "duration": 11,
    "start_time": "2023-02-18T20:37:40.634Z"
   },
   {
    "duration": 6,
    "start_time": "2023-02-18T20:37:40.647Z"
   },
   {
    "duration": 6,
    "start_time": "2023-02-18T20:37:40.655Z"
   },
   {
    "duration": 41,
    "start_time": "2023-02-18T20:37:40.663Z"
   },
   {
    "duration": 10,
    "start_time": "2023-02-18T20:37:40.705Z"
   },
   {
    "duration": 9,
    "start_time": "2023-02-18T20:37:40.716Z"
   },
   {
    "duration": 17,
    "start_time": "2023-02-18T20:37:40.727Z"
   },
   {
    "duration": 478,
    "start_time": "2023-02-18T20:37:40.746Z"
   },
   {
    "duration": 9,
    "start_time": "2023-02-18T20:37:41.226Z"
   },
   {
    "duration": 19,
    "start_time": "2023-02-18T20:37:41.236Z"
   },
   {
    "duration": 36,
    "start_time": "2023-02-18T20:37:41.257Z"
   },
   {
    "duration": 342,
    "start_time": "2023-02-18T20:37:41.302Z"
   },
   {
    "duration": 173,
    "start_time": "2023-02-18T20:37:41.645Z"
   },
   {
    "duration": 7,
    "start_time": "2023-02-18T20:37:41.819Z"
   },
   {
    "duration": 12,
    "start_time": "2023-02-18T20:37:41.827Z"
   },
   {
    "duration": 215,
    "start_time": "2023-02-18T20:37:41.841Z"
   },
   {
    "duration": 198,
    "start_time": "2023-02-18T20:37:42.057Z"
   },
   {
    "duration": 202,
    "start_time": "2023-02-18T20:37:42.257Z"
   },
   {
    "duration": 16,
    "start_time": "2023-02-18T20:37:42.462Z"
   },
   {
    "duration": 370,
    "start_time": "2023-02-18T20:37:42.480Z"
   },
   {
    "duration": 225,
    "start_time": "2023-02-18T20:37:42.852Z"
   },
   {
    "duration": 226,
    "start_time": "2023-02-18T20:37:43.078Z"
   },
   {
    "duration": 190,
    "start_time": "2023-02-18T20:37:43.305Z"
   },
   {
    "duration": 189,
    "start_time": "2023-02-18T20:37:43.504Z"
   },
   {
    "duration": 198,
    "start_time": "2023-02-18T20:37:43.695Z"
   },
   {
    "duration": 185,
    "start_time": "2023-02-18T20:37:43.894Z"
   },
   {
    "duration": 250,
    "start_time": "2023-02-18T20:37:44.081Z"
   },
   {
    "duration": 202,
    "start_time": "2023-02-18T20:37:44.333Z"
   },
   {
    "duration": 287,
    "start_time": "2023-02-18T20:37:44.537Z"
   },
   {
    "duration": 226,
    "start_time": "2023-02-18T20:37:44.826Z"
   },
   {
    "duration": 68,
    "start_time": "2023-02-18T20:37:45.054Z"
   },
   {
    "duration": 171,
    "start_time": "2023-02-18T20:37:45.124Z"
   },
   {
    "duration": 872,
    "start_time": "2023-02-18T20:37:45.303Z"
   },
   {
    "duration": 7,
    "start_time": "2023-02-18T20:37:46.177Z"
   },
   {
    "duration": 35,
    "start_time": "2023-02-18T20:37:46.186Z"
   },
   {
    "duration": 12,
    "start_time": "2023-02-18T20:39:18.564Z"
   },
   {
    "duration": 23,
    "start_time": "2023-02-18T20:41:10.783Z"
   },
   {
    "duration": 162,
    "start_time": "2023-02-18T20:42:35.894Z"
   },
   {
    "duration": 49,
    "start_time": "2023-02-19T13:15:19.469Z"
   },
   {
    "duration": 1511,
    "start_time": "2023-02-19T13:15:45.995Z"
   },
   {
    "duration": 756,
    "start_time": "2023-02-19T13:15:47.509Z"
   },
   {
    "duration": 33,
    "start_time": "2023-02-19T13:15:48.269Z"
   },
   {
    "duration": 18,
    "start_time": "2023-02-19T13:15:48.305Z"
   },
   {
    "duration": 2187,
    "start_time": "2023-02-19T13:15:48.326Z"
   },
   {
    "duration": 7,
    "start_time": "2023-02-19T13:15:50.516Z"
   },
   {
    "duration": 33,
    "start_time": "2023-02-19T13:15:50.524Z"
   },
   {
    "duration": 8,
    "start_time": "2023-02-19T13:15:50.559Z"
   },
   {
    "duration": 14,
    "start_time": "2023-02-19T13:15:50.569Z"
   },
   {
    "duration": 7,
    "start_time": "2023-02-19T13:15:50.585Z"
   },
   {
    "duration": 15,
    "start_time": "2023-02-19T13:15:50.594Z"
   },
   {
    "duration": 195,
    "start_time": "2023-02-19T13:15:50.610Z"
   },
   {
    "duration": 62,
    "start_time": "2023-02-19T13:15:50.807Z"
   },
   {
    "duration": 12,
    "start_time": "2023-02-19T13:15:50.871Z"
   },
   {
    "duration": 3,
    "start_time": "2023-02-19T13:15:50.884Z"
   },
   {
    "duration": 18,
    "start_time": "2023-02-19T13:15:50.888Z"
   },
   {
    "duration": 5,
    "start_time": "2023-02-19T13:15:50.908Z"
   },
   {
    "duration": 11,
    "start_time": "2023-02-19T13:15:50.914Z"
   },
   {
    "duration": 42,
    "start_time": "2023-02-19T13:15:50.927Z"
   },
   {
    "duration": 14,
    "start_time": "2023-02-19T13:15:50.971Z"
   },
   {
    "duration": 6,
    "start_time": "2023-02-19T13:15:50.986Z"
   },
   {
    "duration": 8,
    "start_time": "2023-02-19T13:15:50.994Z"
   },
   {
    "duration": 12,
    "start_time": "2023-02-19T13:15:51.004Z"
   },
   {
    "duration": 39,
    "start_time": "2023-02-19T13:15:51.017Z"
   },
   {
    "duration": 11,
    "start_time": "2023-02-19T13:15:51.057Z"
   },
   {
    "duration": 17,
    "start_time": "2023-02-19T13:15:51.070Z"
   },
   {
    "duration": 15,
    "start_time": "2023-02-19T13:15:51.088Z"
   },
   {
    "duration": 17,
    "start_time": "2023-02-19T13:15:51.106Z"
   },
   {
    "duration": 27,
    "start_time": "2023-02-19T13:15:51.124Z"
   },
   {
    "duration": 566,
    "start_time": "2023-02-19T13:15:51.153Z"
   },
   {
    "duration": 13,
    "start_time": "2023-02-19T13:15:51.721Z"
   },
   {
    "duration": 66,
    "start_time": "2023-02-19T13:15:51.736Z"
   },
   {
    "duration": 35,
    "start_time": "2023-02-19T13:15:51.804Z"
   },
   {
    "duration": 434,
    "start_time": "2023-02-19T13:15:51.841Z"
   },
   {
    "duration": 209,
    "start_time": "2023-02-19T13:15:52.277Z"
   },
   {
    "duration": 8,
    "start_time": "2023-02-19T13:15:52.488Z"
   },
   {
    "duration": 20,
    "start_time": "2023-02-19T13:15:52.498Z"
   },
   {
    "duration": 247,
    "start_time": "2023-02-19T13:15:52.520Z"
   },
   {
    "duration": 218,
    "start_time": "2023-02-19T13:15:52.769Z"
   },
   {
    "duration": 231,
    "start_time": "2023-02-19T13:15:52.989Z"
   },
   {
    "duration": 37,
    "start_time": "2023-02-19T13:15:53.222Z"
   },
   {
    "duration": 407,
    "start_time": "2023-02-19T13:15:53.261Z"
   },
   {
    "duration": 269,
    "start_time": "2023-02-19T13:15:53.670Z"
   },
   {
    "duration": 236,
    "start_time": "2023-02-19T13:15:53.941Z"
   },
   {
    "duration": 216,
    "start_time": "2023-02-19T13:15:54.179Z"
   },
   {
    "duration": 232,
    "start_time": "2023-02-19T13:15:54.396Z"
   },
   {
    "duration": 264,
    "start_time": "2023-02-19T13:15:54.630Z"
   },
   {
    "duration": 219,
    "start_time": "2023-02-19T13:15:54.895Z"
   },
   {
    "duration": 213,
    "start_time": "2023-02-19T13:15:55.116Z"
   },
   {
    "duration": 353,
    "start_time": "2023-02-19T13:15:55.332Z"
   },
   {
    "duration": 216,
    "start_time": "2023-02-19T13:15:55.687Z"
   },
   {
    "duration": 234,
    "start_time": "2023-02-19T13:15:55.904Z"
   },
   {
    "duration": 58,
    "start_time": "2023-02-19T13:15:56.148Z"
   },
   {
    "duration": 191,
    "start_time": "2023-02-19T13:15:56.208Z"
   },
   {
    "duration": 1187,
    "start_time": "2023-02-19T13:15:56.401Z"
   },
   {
    "duration": 9,
    "start_time": "2023-02-19T13:15:57.590Z"
   },
   {
    "duration": 28,
    "start_time": "2023-02-19T13:15:57.600Z"
   },
   {
    "duration": 250,
    "start_time": "2023-02-19T13:15:57.630Z"
   },
   {
    "duration": 0,
    "start_time": "2023-02-19T13:15:57.881Z"
   },
   {
    "duration": 22,
    "start_time": "2023-02-19T13:18:12.474Z"
   },
   {
    "duration": 168,
    "start_time": "2023-02-19T13:20:16.769Z"
   },
   {
    "duration": 1373,
    "start_time": "2023-02-19T20:29:21.757Z"
   },
   {
    "duration": 306,
    "start_time": "2023-02-19T20:29:23.132Z"
   },
   {
    "duration": 24,
    "start_time": "2023-02-19T20:29:23.440Z"
   },
   {
    "duration": 32,
    "start_time": "2023-02-19T20:29:23.466Z"
   },
   {
    "duration": 2162,
    "start_time": "2023-02-19T20:29:23.501Z"
   },
   {
    "duration": 26,
    "start_time": "2023-02-19T20:29:25.665Z"
   },
   {
    "duration": 14,
    "start_time": "2023-02-19T20:29:25.693Z"
   },
   {
    "duration": 32,
    "start_time": "2023-02-19T20:29:25.709Z"
   },
   {
    "duration": 38,
    "start_time": "2023-02-19T20:29:25.742Z"
   },
   {
    "duration": 24,
    "start_time": "2023-02-19T20:29:25.782Z"
   },
   {
    "duration": 36,
    "start_time": "2023-02-19T20:29:25.808Z"
   },
   {
    "duration": 39,
    "start_time": "2023-02-19T20:29:25.845Z"
   },
   {
    "duration": 217,
    "start_time": "2023-02-19T20:29:25.886Z"
   },
   {
    "duration": 42,
    "start_time": "2023-02-19T20:29:26.106Z"
   },
   {
    "duration": 12,
    "start_time": "2023-02-19T20:29:26.149Z"
   },
   {
    "duration": 6,
    "start_time": "2023-02-19T20:29:26.162Z"
   },
   {
    "duration": 14,
    "start_time": "2023-02-19T20:29:26.170Z"
   },
   {
    "duration": 4,
    "start_time": "2023-02-19T20:29:26.186Z"
   },
   {
    "duration": 10,
    "start_time": "2023-02-19T20:29:26.192Z"
   },
   {
    "duration": 36,
    "start_time": "2023-02-19T20:29:26.203Z"
   },
   {
    "duration": 16,
    "start_time": "2023-02-19T20:29:26.241Z"
   },
   {
    "duration": 5,
    "start_time": "2023-02-19T20:29:26.259Z"
   },
   {
    "duration": 7,
    "start_time": "2023-02-19T20:29:26.265Z"
   },
   {
    "duration": 10,
    "start_time": "2023-02-19T20:29:26.274Z"
   },
   {
    "duration": 6,
    "start_time": "2023-02-19T20:29:26.285Z"
   },
   {
    "duration": 5,
    "start_time": "2023-02-19T20:29:26.293Z"
   },
   {
    "duration": 7,
    "start_time": "2023-02-19T20:29:26.336Z"
   },
   {
    "duration": 11,
    "start_time": "2023-02-19T20:29:26.344Z"
   },
   {
    "duration": 9,
    "start_time": "2023-02-19T20:29:26.357Z"
   },
   {
    "duration": 18,
    "start_time": "2023-02-19T20:29:26.367Z"
   },
   {
    "duration": 502,
    "start_time": "2023-02-19T20:29:26.387Z"
   },
   {
    "duration": 8,
    "start_time": "2023-02-19T20:29:26.891Z"
   },
   {
    "duration": 16,
    "start_time": "2023-02-19T20:29:26.901Z"
   },
   {
    "duration": 27,
    "start_time": "2023-02-19T20:29:26.937Z"
   },
   {
    "duration": 365,
    "start_time": "2023-02-19T20:29:26.966Z"
   },
   {
    "duration": 178,
    "start_time": "2023-02-19T20:29:27.332Z"
   },
   {
    "duration": 7,
    "start_time": "2023-02-19T20:29:27.512Z"
   },
   {
    "duration": 26,
    "start_time": "2023-02-19T20:29:27.520Z"
   },
   {
    "duration": 194,
    "start_time": "2023-02-19T20:29:27.547Z"
   },
   {
    "duration": 199,
    "start_time": "2023-02-19T20:29:27.743Z"
   },
   {
    "duration": 206,
    "start_time": "2023-02-19T20:29:27.946Z"
   },
   {
    "duration": 20,
    "start_time": "2023-02-19T20:29:28.154Z"
   },
   {
    "duration": 374,
    "start_time": "2023-02-19T20:29:28.175Z"
   },
   {
    "duration": 205,
    "start_time": "2023-02-19T20:29:28.551Z"
   },
   {
    "duration": 253,
    "start_time": "2023-02-19T20:29:28.758Z"
   },
   {
    "duration": 188,
    "start_time": "2023-02-19T20:29:29.012Z"
   },
   {
    "duration": 218,
    "start_time": "2023-02-19T20:29:29.201Z"
   },
   {
    "duration": 207,
    "start_time": "2023-02-19T20:29:29.420Z"
   },
   {
    "duration": 187,
    "start_time": "2023-02-19T20:29:29.629Z"
   },
   {
    "duration": 184,
    "start_time": "2023-02-19T20:29:29.818Z"
   },
   {
    "duration": 307,
    "start_time": "2023-02-19T20:29:30.003Z"
   },
   {
    "duration": 187,
    "start_time": "2023-02-19T20:29:30.312Z"
   },
   {
    "duration": 223,
    "start_time": "2023-02-19T20:29:30.500Z"
   },
   {
    "duration": 66,
    "start_time": "2023-02-19T20:29:30.725Z"
   },
   {
    "duration": 183,
    "start_time": "2023-02-19T20:29:30.793Z"
   },
   {
    "duration": 939,
    "start_time": "2023-02-19T20:29:30.978Z"
   },
   {
    "duration": 17,
    "start_time": "2023-02-19T20:29:31.919Z"
   },
   {
    "duration": 24,
    "start_time": "2023-02-19T20:29:31.938Z"
   },
   {
    "duration": 138,
    "start_time": "2023-02-19T20:29:31.963Z"
   },
   {
    "duration": 183,
    "start_time": "2023-02-19T20:29:32.103Z"
   },
   {
    "duration": 81,
    "start_time": "2023-02-19T20:43:23.489Z"
   },
   {
    "duration": 107,
    "start_time": "2023-02-19T21:09:35.897Z"
   },
   {
    "duration": 17,
    "start_time": "2023-02-19T21:10:28.034Z"
   },
   {
    "duration": 12,
    "start_time": "2023-02-19T21:17:43.371Z"
   },
   {
    "duration": 279,
    "start_time": "2023-02-19T21:18:04.181Z"
   },
   {
    "duration": 283,
    "start_time": "2023-02-19T21:18:46.134Z"
   },
   {
    "duration": 471,
    "start_time": "2023-02-19T21:21:52.449Z"
   },
   {
    "duration": 1149,
    "start_time": "2024-02-26T09:33:40.986Z"
   },
   {
    "duration": 301,
    "start_time": "2024-02-26T09:33:42.136Z"
   },
   {
    "duration": 20,
    "start_time": "2024-02-26T09:33:42.438Z"
   },
   {
    "duration": 20,
    "start_time": "2024-02-26T09:33:42.460Z"
   },
   {
    "duration": 1963,
    "start_time": "2024-02-26T09:33:42.482Z"
   },
   {
    "duration": 22,
    "start_time": "2024-02-26T09:33:44.447Z"
   },
   {
    "duration": 3,
    "start_time": "2024-02-26T09:33:44.470Z"
   },
   {
    "duration": 11,
    "start_time": "2024-02-26T09:33:44.474Z"
   },
   {
    "duration": 5,
    "start_time": "2024-02-26T09:33:44.486Z"
   },
   {
    "duration": 116,
    "start_time": "2024-02-26T09:33:44.493Z"
   },
   {
    "duration": 0,
    "start_time": "2024-02-26T09:33:44.611Z"
   },
   {
    "duration": 0,
    "start_time": "2024-02-26T09:33:44.613Z"
   },
   {
    "duration": 0,
    "start_time": "2024-02-26T09:33:44.613Z"
   },
   {
    "duration": 0,
    "start_time": "2024-02-26T09:33:44.615Z"
   },
   {
    "duration": 0,
    "start_time": "2024-02-26T09:33:44.616Z"
   },
   {
    "duration": 0,
    "start_time": "2024-02-26T09:33:44.617Z"
   },
   {
    "duration": 0,
    "start_time": "2024-02-26T09:33:44.633Z"
   },
   {
    "duration": 0,
    "start_time": "2024-02-26T09:33:44.634Z"
   },
   {
    "duration": 0,
    "start_time": "2024-02-26T09:33:44.635Z"
   },
   {
    "duration": 0,
    "start_time": "2024-02-26T09:33:44.636Z"
   },
   {
    "duration": 0,
    "start_time": "2024-02-26T09:33:44.637Z"
   },
   {
    "duration": 0,
    "start_time": "2024-02-26T09:33:44.639Z"
   },
   {
    "duration": 0,
    "start_time": "2024-02-26T09:33:44.640Z"
   },
   {
    "duration": 0,
    "start_time": "2024-02-26T09:33:44.641Z"
   },
   {
    "duration": 0,
    "start_time": "2024-02-26T09:33:44.642Z"
   },
   {
    "duration": 0,
    "start_time": "2024-02-26T09:33:44.643Z"
   },
   {
    "duration": 0,
    "start_time": "2024-02-26T09:33:44.644Z"
   },
   {
    "duration": 0,
    "start_time": "2024-02-26T09:33:44.645Z"
   },
   {
    "duration": 0,
    "start_time": "2024-02-26T09:33:44.647Z"
   },
   {
    "duration": 0,
    "start_time": "2024-02-26T09:33:44.649Z"
   },
   {
    "duration": 0,
    "start_time": "2024-02-26T09:33:44.649Z"
   },
   {
    "duration": 1,
    "start_time": "2024-02-26T09:33:44.650Z"
   },
   {
    "duration": 0,
    "start_time": "2024-02-26T09:33:44.652Z"
   },
   {
    "duration": 0,
    "start_time": "2024-02-26T09:33:44.653Z"
   },
   {
    "duration": 0,
    "start_time": "2024-02-26T09:33:44.654Z"
   },
   {
    "duration": 0,
    "start_time": "2024-02-26T09:33:44.655Z"
   },
   {
    "duration": 0,
    "start_time": "2024-02-26T09:33:44.657Z"
   },
   {
    "duration": 0,
    "start_time": "2024-02-26T09:33:44.658Z"
   },
   {
    "duration": 0,
    "start_time": "2024-02-26T09:33:44.659Z"
   },
   {
    "duration": 0,
    "start_time": "2024-02-26T09:33:44.661Z"
   },
   {
    "duration": 0,
    "start_time": "2024-02-26T09:33:44.662Z"
   },
   {
    "duration": 0,
    "start_time": "2024-02-26T09:33:44.664Z"
   },
   {
    "duration": 0,
    "start_time": "2024-02-26T09:33:44.665Z"
   },
   {
    "duration": 0,
    "start_time": "2024-02-26T09:33:44.666Z"
   },
   {
    "duration": 0,
    "start_time": "2024-02-26T09:33:44.668Z"
   },
   {
    "duration": 0,
    "start_time": "2024-02-26T09:33:44.669Z"
   },
   {
    "duration": 1,
    "start_time": "2024-02-26T09:33:44.670Z"
   },
   {
    "duration": 0,
    "start_time": "2024-02-26T09:33:44.733Z"
   },
   {
    "duration": 0,
    "start_time": "2024-02-26T09:33:44.735Z"
   },
   {
    "duration": 0,
    "start_time": "2024-02-26T09:33:44.736Z"
   },
   {
    "duration": 0,
    "start_time": "2024-02-26T09:33:44.737Z"
   },
   {
    "duration": 0,
    "start_time": "2024-02-26T09:33:44.739Z"
   },
   {
    "duration": 0,
    "start_time": "2024-02-26T09:33:44.740Z"
   },
   {
    "duration": 0,
    "start_time": "2024-02-26T09:33:44.742Z"
   },
   {
    "duration": 0,
    "start_time": "2024-02-26T09:33:44.743Z"
   },
   {
    "duration": 0,
    "start_time": "2024-02-26T09:33:44.745Z"
   },
   {
    "duration": 0,
    "start_time": "2024-02-26T09:33:44.746Z"
   },
   {
    "duration": 0,
    "start_time": "2024-02-26T09:33:44.747Z"
   },
   {
    "duration": 0,
    "start_time": "2024-02-26T09:33:44.749Z"
   },
   {
    "duration": 0,
    "start_time": "2024-02-26T09:33:44.750Z"
   },
   {
    "duration": 0,
    "start_time": "2024-02-26T09:33:44.751Z"
   },
   {
    "duration": 0,
    "start_time": "2024-02-26T09:33:44.753Z"
   },
   {
    "duration": 0,
    "start_time": "2024-02-26T09:33:44.754Z"
   },
   {
    "duration": 4,
    "start_time": "2024-02-26T09:39:14.212Z"
   },
   {
    "duration": 8,
    "start_time": "2024-02-26T09:39:16.299Z"
   },
   {
    "duration": 12,
    "start_time": "2024-02-26T09:43:06.369Z"
   },
   {
    "duration": 1152,
    "start_time": "2024-02-26T09:45:22.721Z"
   },
   {
    "duration": 96,
    "start_time": "2024-02-26T09:45:23.875Z"
   },
   {
    "duration": 21,
    "start_time": "2024-02-26T09:45:23.973Z"
   },
   {
    "duration": 14,
    "start_time": "2024-02-26T09:45:23.996Z"
   },
   {
    "duration": 1912,
    "start_time": "2024-02-26T09:45:24.012Z"
   },
   {
    "duration": 23,
    "start_time": "2024-02-26T09:45:25.926Z"
   },
   {
    "duration": 4,
    "start_time": "2024-02-26T09:45:25.950Z"
   },
   {
    "duration": 9,
    "start_time": "2024-02-26T09:45:25.955Z"
   },
   {
    "duration": 4,
    "start_time": "2024-02-26T09:45:25.965Z"
   },
   {
    "duration": 11,
    "start_time": "2024-02-26T09:45:25.971Z"
   },
   {
    "duration": 186,
    "start_time": "2024-02-26T09:45:25.983Z"
   },
   {
    "duration": 25,
    "start_time": "2024-02-26T09:45:26.170Z"
   },
   {
    "duration": 37,
    "start_time": "2024-02-26T09:45:26.197Z"
   },
   {
    "duration": 3,
    "start_time": "2024-02-26T09:45:26.236Z"
   },
   {
    "duration": 15,
    "start_time": "2024-02-26T09:45:26.240Z"
   },
   {
    "duration": 11,
    "start_time": "2024-02-26T09:45:26.257Z"
   },
   {
    "duration": 14,
    "start_time": "2024-02-26T09:45:26.269Z"
   },
   {
    "duration": 12,
    "start_time": "2024-02-26T09:45:26.284Z"
   },
   {
    "duration": 42,
    "start_time": "2024-02-26T09:45:26.298Z"
   },
   {
    "duration": 6,
    "start_time": "2024-02-26T09:45:26.342Z"
   },
   {
    "duration": 8,
    "start_time": "2024-02-26T09:45:26.350Z"
   },
   {
    "duration": 10,
    "start_time": "2024-02-26T09:45:26.360Z"
   },
   {
    "duration": 6,
    "start_time": "2024-02-26T09:45:26.372Z"
   },
   {
    "duration": 10,
    "start_time": "2024-02-26T09:45:26.379Z"
   },
   {
    "duration": 7,
    "start_time": "2024-02-26T09:45:26.390Z"
   },
   {
    "duration": 40,
    "start_time": "2024-02-26T09:45:26.398Z"
   },
   {
    "duration": 14,
    "start_time": "2024-02-26T09:45:26.440Z"
   },
   {
    "duration": 17,
    "start_time": "2024-02-26T09:45:26.458Z"
   },
   {
    "duration": 490,
    "start_time": "2024-02-26T09:45:26.477Z"
   },
   {
    "duration": 8,
    "start_time": "2024-02-26T09:45:26.969Z"
   },
   {
    "duration": 30,
    "start_time": "2024-02-26T09:45:26.978Z"
   },
   {
    "duration": 35,
    "start_time": "2024-02-26T09:45:27.009Z"
   },
   {
    "duration": 63,
    "start_time": "2024-02-26T09:45:27.046Z"
   },
   {
    "duration": 356,
    "start_time": "2024-02-26T09:45:27.111Z"
   },
   {
    "duration": 176,
    "start_time": "2024-02-26T09:45:27.469Z"
   },
   {
    "duration": 6,
    "start_time": "2024-02-26T09:45:27.647Z"
   },
   {
    "duration": 27,
    "start_time": "2024-02-26T09:45:27.655Z"
   },
   {
    "duration": 200,
    "start_time": "2024-02-26T09:45:27.683Z"
   },
   {
    "duration": 195,
    "start_time": "2024-02-26T09:45:27.884Z"
   },
   {
    "duration": 216,
    "start_time": "2024-02-26T09:45:28.080Z"
   },
   {
    "duration": 16,
    "start_time": "2024-02-26T09:45:28.297Z"
   },
   {
    "duration": 375,
    "start_time": "2024-02-26T09:45:28.314Z"
   },
   {
    "duration": 205,
    "start_time": "2024-02-26T09:45:28.691Z"
   },
   {
    "duration": 189,
    "start_time": "2024-02-26T09:45:28.897Z"
   },
   {
    "duration": 183,
    "start_time": "2024-02-26T09:45:29.088Z"
   },
   {
    "duration": 185,
    "start_time": "2024-02-26T09:45:29.272Z"
   },
   {
    "duration": 199,
    "start_time": "2024-02-26T09:45:29.459Z"
   },
   {
    "duration": 180,
    "start_time": "2024-02-26T09:45:29.659Z"
   },
   {
    "duration": 178,
    "start_time": "2024-02-26T09:45:29.841Z"
   },
   {
    "duration": 297,
    "start_time": "2024-02-26T09:45:30.020Z"
   },
   {
    "duration": 205,
    "start_time": "2024-02-26T09:45:30.320Z"
   },
   {
    "duration": 220,
    "start_time": "2024-02-26T09:45:30.534Z"
   },
   {
    "duration": 55,
    "start_time": "2024-02-26T09:45:30.756Z"
   },
   {
    "duration": 186,
    "start_time": "2024-02-26T09:45:30.832Z"
   },
   {
    "duration": 279,
    "start_time": "2024-02-26T09:45:31.020Z"
   },
   {
    "duration": 967,
    "start_time": "2024-02-26T09:45:31.301Z"
   },
   {
    "duration": 441,
    "start_time": "2024-02-26T09:45:32.269Z"
   },
   {
    "duration": 7,
    "start_time": "2024-02-26T09:45:32.712Z"
   },
   {
    "duration": 47,
    "start_time": "2024-02-26T09:45:32.720Z"
   },
   {
    "duration": 26,
    "start_time": "2024-02-26T09:45:32.768Z"
   },
   {
    "duration": 171,
    "start_time": "2024-02-26T09:45:32.796Z"
   },
   {
    "duration": 1075,
    "start_time": "2024-02-27T10:03:36.767Z"
   },
   {
    "duration": 315,
    "start_time": "2024-02-27T10:03:37.846Z"
   },
   {
    "duration": 21,
    "start_time": "2024-02-27T10:03:38.165Z"
   },
   {
    "duration": 35,
    "start_time": "2024-02-27T10:03:38.189Z"
   },
   {
    "duration": 1873,
    "start_time": "2024-02-27T10:03:38.225Z"
   },
   {
    "duration": 25,
    "start_time": "2024-02-27T10:03:40.100Z"
   },
   {
    "duration": 25,
    "start_time": "2024-02-27T10:03:40.127Z"
   },
   {
    "duration": 30,
    "start_time": "2024-02-27T10:03:40.154Z"
   },
   {
    "duration": 12,
    "start_time": "2024-02-27T10:03:40.186Z"
   },
   {
    "duration": 25,
    "start_time": "2024-02-27T10:03:40.200Z"
   },
   {
    "duration": 157,
    "start_time": "2024-02-27T10:03:40.227Z"
   },
   {
    "duration": 26,
    "start_time": "2024-02-27T10:03:40.386Z"
   },
   {
    "duration": 35,
    "start_time": "2024-02-27T10:03:40.415Z"
   },
   {
    "duration": 3,
    "start_time": "2024-02-27T10:03:40.451Z"
   },
   {
    "duration": 12,
    "start_time": "2024-02-27T10:03:40.456Z"
   },
   {
    "duration": 5,
    "start_time": "2024-02-27T10:03:40.469Z"
   },
   {
    "duration": 12,
    "start_time": "2024-02-27T10:03:40.476Z"
   },
   {
    "duration": 11,
    "start_time": "2024-02-27T10:03:40.489Z"
   },
   {
    "duration": 45,
    "start_time": "2024-02-27T10:03:40.501Z"
   },
   {
    "duration": 6,
    "start_time": "2024-02-27T10:03:40.547Z"
   },
   {
    "duration": 21,
    "start_time": "2024-02-27T10:03:40.554Z"
   },
   {
    "duration": 38,
    "start_time": "2024-02-27T10:03:40.576Z"
   },
   {
    "duration": 8,
    "start_time": "2024-02-27T10:03:40.615Z"
   },
   {
    "duration": 23,
    "start_time": "2024-02-27T10:03:40.624Z"
   },
   {
    "duration": 6,
    "start_time": "2024-02-27T10:03:40.649Z"
   },
   {
    "duration": 19,
    "start_time": "2024-02-27T10:03:40.656Z"
   },
   {
    "duration": 11,
    "start_time": "2024-02-27T10:03:40.677Z"
   },
   {
    "duration": 22,
    "start_time": "2024-02-27T10:03:40.689Z"
   },
   {
    "duration": 450,
    "start_time": "2024-02-27T10:03:40.712Z"
   },
   {
    "duration": 8,
    "start_time": "2024-02-27T10:03:41.163Z"
   },
   {
    "duration": 22,
    "start_time": "2024-02-27T10:03:41.172Z"
   },
   {
    "duration": 27,
    "start_time": "2024-02-27T10:03:41.196Z"
   },
   {
    "duration": 66,
    "start_time": "2024-02-27T10:03:41.246Z"
   },
   {
    "duration": 355,
    "start_time": "2024-02-27T10:03:41.314Z"
   },
   {
    "duration": 178,
    "start_time": "2024-02-27T10:03:41.670Z"
   },
   {
    "duration": 7,
    "start_time": "2024-02-27T10:03:41.850Z"
   },
   {
    "duration": 11,
    "start_time": "2024-02-27T10:03:41.858Z"
   },
   {
    "duration": 203,
    "start_time": "2024-02-27T10:03:41.870Z"
   },
   {
    "duration": 182,
    "start_time": "2024-02-27T10:03:42.074Z"
   },
   {
    "duration": 197,
    "start_time": "2024-02-27T10:03:42.260Z"
   },
   {
    "duration": 14,
    "start_time": "2024-02-27T10:03:42.458Z"
   },
   {
    "duration": 339,
    "start_time": "2024-02-27T10:03:42.474Z"
   },
   {
    "duration": 201,
    "start_time": "2024-02-27T10:03:42.815Z"
   },
   {
    "duration": 197,
    "start_time": "2024-02-27T10:03:43.017Z"
   },
   {
    "duration": 181,
    "start_time": "2024-02-27T10:03:43.215Z"
   },
   {
    "duration": 199,
    "start_time": "2024-02-27T10:03:43.398Z"
   },
   {
    "duration": 210,
    "start_time": "2024-02-27T10:03:43.599Z"
   },
   {
    "duration": 180,
    "start_time": "2024-02-27T10:03:43.810Z"
   },
   {
    "duration": 183,
    "start_time": "2024-02-27T10:03:43.992Z"
   },
   {
    "duration": 278,
    "start_time": "2024-02-27T10:03:44.177Z"
   },
   {
    "duration": 179,
    "start_time": "2024-02-27T10:03:44.456Z"
   },
   {
    "duration": 220,
    "start_time": "2024-02-27T10:03:44.637Z"
   },
   {
    "duration": 55,
    "start_time": "2024-02-27T10:03:44.859Z"
   },
   {
    "duration": 162,
    "start_time": "2024-02-27T10:03:44.916Z"
   },
   {
    "duration": 259,
    "start_time": "2024-02-27T10:03:45.079Z"
   },
   {
    "duration": 886,
    "start_time": "2024-02-27T10:03:45.345Z"
   },
   {
    "duration": 428,
    "start_time": "2024-02-27T10:03:46.233Z"
   },
   {
    "duration": 8,
    "start_time": "2024-02-27T10:03:46.662Z"
   },
   {
    "duration": 47,
    "start_time": "2024-02-27T10:03:46.671Z"
   },
   {
    "duration": 20,
    "start_time": "2024-02-27T10:03:46.720Z"
   },
   {
    "duration": 142,
    "start_time": "2024-02-27T10:03:46.741Z"
   },
   {
    "duration": 744,
    "start_time": "2024-02-27T10:03:46.884Z"
   },
   {
    "duration": 102,
    "start_time": "2024-03-08T14:33:36.426Z"
   },
   {
    "duration": 94,
    "start_time": "2024-03-08T14:34:34.648Z"
   }
  ],
  "kernelspec": {
   "display_name": "Python 3 (ipykernel)",
   "language": "python",
   "name": "python3"
  },
  "language_info": {
   "codemirror_mode": {
    "name": "ipython",
    "version": 3
   },
   "file_extension": ".py",
   "mimetype": "text/x-python",
   "name": "python",
   "nbconvert_exporter": "python",
   "pygments_lexer": "ipython3",
   "version": "3.9.5"
  },
  "toc": {
   "base_numbering": 1,
   "nav_menu": {},
   "number_sections": true,
   "sideBar": true,
   "skip_h1_title": true,
   "title_cell": "Table of Contents",
   "title_sidebar": "Contents",
   "toc_cell": false,
   "toc_position": {
    "height": "calc(100% - 180px)",
    "left": "10px",
    "top": "150px",
    "width": "408.889px"
   },
   "toc_section_display": true,
   "toc_window_display": false
  }
 },
 "nbformat": 4,
 "nbformat_minor": 2
}
