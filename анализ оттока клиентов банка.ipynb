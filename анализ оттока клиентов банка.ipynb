{
 "cells": [
  {
   "cell_type": "markdown",
   "id": "a598bc1b",
   "metadata": {},
   "source": [
    "# Анализ оттока клиентов банка «Метанпромбанк»"
   ]
  },
  {
   "cell_type": "markdown",
   "id": "63ee513f",
   "metadata": {},
   "source": [
    "[Ссылка на презентацию:](https://drive.google.com/file/d/1L9paTGZvFmRBLZ99RqTZP-3kJ4WZNIsZ/view?usp=drive_link)"
   ]
  },
  {
   "cell_type": "markdown",
   "id": "d577f15b",
   "metadata": {},
   "source": [
    "[Дашборд:](https://public.tableau.com/app/profile/ori.trob/viz/georgievabanks_project/Dashboard12?publish=yes)"
   ]
  },
  {
   "cell_type": "markdown",
   "id": "44745c3e",
   "metadata": {},
   "source": [
    "**Единтсвенное, я дашборд создавала под вымышлиной учеткой, боялась, что русскую учетку заблочат((надеюсь это не косяк.**"
   ]
  },
  {
   "cell_type": "markdown",
   "id": "fc7b4d57",
   "metadata": {},
   "source": [
    "**Цель исследования** — анализ сегментов клиентов банка, уходящих и склонных к уходу. Проверка гипотез причин оттока клиентов."
   ]
  },
  {
   "cell_type": "markdown",
   "id": "ff6cdbd9",
   "metadata": {},
   "source": [
    "**Задачи проекта**:\n",
    "\n",
    "- Исследование данных, поиск различных взаимосвязей,\n",
    "- Cоставление портрета уходящего клиента,\n",
    "- Проверка статистических гипотез,\n",
    "- Сегментирование клиентов, приоритизация их в соответствии со степенью подверженности оттоку из банка,\n",
    "- Подготовка выводов и рекомендаций для отдела маркетинга."
   ]
  },
  {
   "cell_type": "markdown",
   "id": "3655ffe4",
   "metadata": {},
   "source": [
    "**Описание данных** \n",
    "\n",
    "Датасет содержит данные о клиентах банка «Метанпром». Банк располагается в\n",
    "Ярославле и областных городах: Ростов Великий и Рыбинск.\n",
    "\n",
    "\n",
    "Колонки:\n",
    "- userid — идентификатор пользователя,\n",
    "- score — баллы кредитного скоринга,\n",
    "- City — город,\n",
    "- Gender — пол,\n",
    "- Age — возраст,\n",
    "- equity — количество баллов собственности\n",
    "- Balance — баланс на счёте,\n",
    "- Products — количество продуктов, которыми пользуется клиент,\n",
    "- CreditCard — есть ли кредитная карта,\n",
    "- last_activity — активный клиент,\n",
    "- estimated_salary — заработная плата клиента,\n",
    "- Churn — ушёл или нет."
   ]
  },
  {
   "cell_type": "markdown",
   "id": "b3e27371",
   "metadata": {},
   "source": [
    "## Изучение общей информации"
   ]
  },
  {
   "cell_type": "code",
   "execution_count": 1,
   "id": "bd4d6084",
   "metadata": {},
   "outputs": [],
   "source": [
    "# импорт библиотек\n",
    "import pandas as pd\n",
    "import matplotlib\n",
    "import matplotlib.pyplot as plt\n",
    "import seaborn as sns\n",
    "from scipy import stats as st"
   ]
  },
  {
   "cell_type": "code",
   "execution_count": 2,
   "id": "8994a067",
   "metadata": {},
   "outputs": [],
   "source": [
    "# читаем csv-файл\n",
    "try:\n",
    "    data=pd.read_csv('https://code.s3.yandex.net/datasets/bank_scrooge.csv')\n",
    "except:\n",
    "    data=pd.read_csv('https://code.s3.yandex.net/datasets/bank_scrooge.csv')"
   ]
  },
  {
   "cell_type": "code",
   "execution_count": 3,
   "id": "80cfe6b3",
   "metadata": {},
   "outputs": [
    {
     "data": {
      "text/html": [
       "<div>\n",
       "<style scoped>\n",
       "    .dataframe tbody tr th:only-of-type {\n",
       "        vertical-align: middle;\n",
       "    }\n",
       "\n",
       "    .dataframe tbody tr th {\n",
       "        vertical-align: top;\n",
       "    }\n",
       "\n",
       "    .dataframe thead th {\n",
       "        text-align: right;\n",
       "    }\n",
       "</style>\n",
       "<table border=\"1\" class=\"dataframe\">\n",
       "  <thead>\n",
       "    <tr style=\"text-align: right;\">\n",
       "      <th></th>\n",
       "      <th>USERID</th>\n",
       "      <th>score</th>\n",
       "      <th>city</th>\n",
       "      <th>gender</th>\n",
       "      <th>age</th>\n",
       "      <th>equity</th>\n",
       "      <th>balance</th>\n",
       "      <th>products</th>\n",
       "      <th>credit_card</th>\n",
       "      <th>last_activity</th>\n",
       "      <th>EST_SALARY</th>\n",
       "      <th>churn</th>\n",
       "    </tr>\n",
       "  </thead>\n",
       "  <tbody>\n",
       "    <tr>\n",
       "      <th>0</th>\n",
       "      <td>183012</td>\n",
       "      <td>850.0</td>\n",
       "      <td>Рыбинск</td>\n",
       "      <td>Ж</td>\n",
       "      <td>25.0</td>\n",
       "      <td>1</td>\n",
       "      <td>59214.82</td>\n",
       "      <td>2</td>\n",
       "      <td>0</td>\n",
       "      <td>1</td>\n",
       "      <td>75719.14</td>\n",
       "      <td>1</td>\n",
       "    </tr>\n",
       "    <tr>\n",
       "      <th>1</th>\n",
       "      <td>146556</td>\n",
       "      <td>861.0</td>\n",
       "      <td>Рыбинск</td>\n",
       "      <td>Ж</td>\n",
       "      <td>37.0</td>\n",
       "      <td>5</td>\n",
       "      <td>850594.33</td>\n",
       "      <td>3</td>\n",
       "      <td>1</td>\n",
       "      <td>0</td>\n",
       "      <td>86621.77</td>\n",
       "      <td>0</td>\n",
       "    </tr>\n",
       "    <tr>\n",
       "      <th>2</th>\n",
       "      <td>120722</td>\n",
       "      <td>892.0</td>\n",
       "      <td>Рыбинск</td>\n",
       "      <td>Ж</td>\n",
       "      <td>30.0</td>\n",
       "      <td>0</td>\n",
       "      <td>NaN</td>\n",
       "      <td>1</td>\n",
       "      <td>1</td>\n",
       "      <td>1</td>\n",
       "      <td>107683.34</td>\n",
       "      <td>0</td>\n",
       "    </tr>\n",
       "    <tr>\n",
       "      <th>3</th>\n",
       "      <td>225363</td>\n",
       "      <td>866.0</td>\n",
       "      <td>Ярославль</td>\n",
       "      <td>Ж</td>\n",
       "      <td>51.0</td>\n",
       "      <td>5</td>\n",
       "      <td>1524746.26</td>\n",
       "      <td>2</td>\n",
       "      <td>0</td>\n",
       "      <td>1</td>\n",
       "      <td>174423.53</td>\n",
       "      <td>1</td>\n",
       "    </tr>\n",
       "    <tr>\n",
       "      <th>4</th>\n",
       "      <td>157978</td>\n",
       "      <td>730.0</td>\n",
       "      <td>Ярославль</td>\n",
       "      <td>М</td>\n",
       "      <td>34.0</td>\n",
       "      <td>5</td>\n",
       "      <td>174.00</td>\n",
       "      <td>1</td>\n",
       "      <td>1</td>\n",
       "      <td>0</td>\n",
       "      <td>67353.16</td>\n",
       "      <td>1</td>\n",
       "    </tr>\n",
       "    <tr>\n",
       "      <th>5</th>\n",
       "      <td>202305</td>\n",
       "      <td>856.0</td>\n",
       "      <td>Рыбинск</td>\n",
       "      <td>М</td>\n",
       "      <td>56.0</td>\n",
       "      <td>4</td>\n",
       "      <td>863687.24</td>\n",
       "      <td>3</td>\n",
       "      <td>1</td>\n",
       "      <td>0</td>\n",
       "      <td>156619.80</td>\n",
       "      <td>0</td>\n",
       "    </tr>\n",
       "    <tr>\n",
       "      <th>6</th>\n",
       "      <td>177259</td>\n",
       "      <td>807.0</td>\n",
       "      <td>Ярославль</td>\n",
       "      <td>Ж</td>\n",
       "      <td>39.0</td>\n",
       "      <td>3</td>\n",
       "      <td>405042.44</td>\n",
       "      <td>3</td>\n",
       "      <td>0</td>\n",
       "      <td>1</td>\n",
       "      <td>103838.32</td>\n",
       "      <td>0</td>\n",
       "    </tr>\n",
       "    <tr>\n",
       "      <th>7</th>\n",
       "      <td>218868</td>\n",
       "      <td>825.0</td>\n",
       "      <td>Ярославль</td>\n",
       "      <td>Ж</td>\n",
       "      <td>38.0</td>\n",
       "      <td>4</td>\n",
       "      <td>458145.40</td>\n",
       "      <td>2</td>\n",
       "      <td>1</td>\n",
       "      <td>1</td>\n",
       "      <td>68085.48</td>\n",
       "      <td>0</td>\n",
       "    </tr>\n",
       "    <tr>\n",
       "      <th>8</th>\n",
       "      <td>211686</td>\n",
       "      <td>923.0</td>\n",
       "      <td>Ярославль</td>\n",
       "      <td>М</td>\n",
       "      <td>54.0</td>\n",
       "      <td>5</td>\n",
       "      <td>1206337.87</td>\n",
       "      <td>2</td>\n",
       "      <td>1</td>\n",
       "      <td>0</td>\n",
       "      <td>155371.79</td>\n",
       "      <td>0</td>\n",
       "    </tr>\n",
       "    <tr>\n",
       "      <th>9</th>\n",
       "      <td>133130</td>\n",
       "      <td>906.0</td>\n",
       "      <td>Ярославль</td>\n",
       "      <td>Ж</td>\n",
       "      <td>67.0</td>\n",
       "      <td>0</td>\n",
       "      <td>NaN</td>\n",
       "      <td>1</td>\n",
       "      <td>0</td>\n",
       "      <td>1</td>\n",
       "      <td>238055.53</td>\n",
       "      <td>0</td>\n",
       "    </tr>\n",
       "  </tbody>\n",
       "</table>\n",
       "</div>"
      ],
      "text/plain": [
       "   USERID  score       city gender   age  equity     balance  products  \\\n",
       "0  183012  850.0    Рыбинск      Ж  25.0       1    59214.82         2   \n",
       "1  146556  861.0    Рыбинск      Ж  37.0       5   850594.33         3   \n",
       "2  120722  892.0    Рыбинск      Ж  30.0       0         NaN         1   \n",
       "3  225363  866.0  Ярославль      Ж  51.0       5  1524746.26         2   \n",
       "4  157978  730.0  Ярославль      М  34.0       5      174.00         1   \n",
       "5  202305  856.0    Рыбинск      М  56.0       4   863687.24         3   \n",
       "6  177259  807.0  Ярославль      Ж  39.0       3   405042.44         3   \n",
       "7  218868  825.0  Ярославль      Ж  38.0       4   458145.40         2   \n",
       "8  211686  923.0  Ярославль      М  54.0       5  1206337.87         2   \n",
       "9  133130  906.0  Ярославль      Ж  67.0       0         NaN         1   \n",
       "\n",
       "   credit_card  last_activity  EST_SALARY  churn  \n",
       "0            0              1    75719.14      1  \n",
       "1            1              0    86621.77      0  \n",
       "2            1              1   107683.34      0  \n",
       "3            0              1   174423.53      1  \n",
       "4            1              0    67353.16      1  \n",
       "5            1              0   156619.80      0  \n",
       "6            0              1   103838.32      0  \n",
       "7            1              1    68085.48      0  \n",
       "8            1              0   155371.79      0  \n",
       "9            0              1   238055.53      0  "
      ]
     },
     "metadata": {},
     "output_type": "display_data"
    },
    {
     "name": "stdout",
     "output_type": "stream",
     "text": [
      "<class 'pandas.core.frame.DataFrame'>\n",
      "RangeIndex: 10000 entries, 0 to 9999\n",
      "Data columns (total 12 columns):\n",
      " #   Column         Non-Null Count  Dtype  \n",
      "---  ------         --------------  -----  \n",
      " 0   USERID         10000 non-null  int64  \n",
      " 1   score          10000 non-null  float64\n",
      " 2   city           10000 non-null  object \n",
      " 3   gender         10000 non-null  object \n",
      " 4   age            9974 non-null   float64\n",
      " 5   equity         10000 non-null  int64  \n",
      " 6   balance        7705 non-null   float64\n",
      " 7   products       10000 non-null  int64  \n",
      " 8   credit_card    10000 non-null  int64  \n",
      " 9   last_activity  10000 non-null  int64  \n",
      " 10  EST_SALARY     10000 non-null  float64\n",
      " 11  churn          10000 non-null  int64  \n",
      "dtypes: float64(4), int64(6), object(2)\n",
      "memory usage: 937.6+ KB\n"
     ]
    }
   ],
   "source": [
    "#Выводим первые 10 строчек датафрейма data на экран и инфу\n",
    "display(data.head(10))\n",
    "data.info()"
   ]
  },
  {
   "cell_type": "markdown",
   "id": "5d57dfe1",
   "metadata": {},
   "source": [
    "\n",
    "<b>Вывод</b>    \n",
    "    \n",
    "Представлен датафрейм состоящий из 12 столбцов и 10 000 записей. Для дальнейшей работы данные необходимо отредактировать:\n",
    "- названия столбцов USERID, EST_SALARY привести к нижнему регистру,\n",
    "- поменяем тип в столбцах score, age,\n",
    "- проверить на явные дубликаты, в случае чего удалить их\n",
    "- в столбцах age и balance видны пропуски, в дальнейшем их надо изучить."
   ]
  },
  {
   "cell_type": "markdown",
   "id": "aed5f7c7",
   "metadata": {},
   "source": [
    "## Предобработка данных "
   ]
  },
  {
   "cell_type": "code",
   "execution_count": 4,
   "id": "50c33ae1",
   "metadata": {},
   "outputs": [],
   "source": [
    "#Дадим названиям столбцов рабочий вид\n",
    "data = data.rename(columns={'USERID' : 'user_id', 'EST_SALARY':'est_salary'})"
   ]
  },
  {
   "cell_type": "code",
   "execution_count": 5,
   "id": "c4d000a2",
   "metadata": {},
   "outputs": [],
   "source": [
    "#заменим в нужных столбцах вещественный тип на целочисленный\n",
    "data['score'] = data['score'].astype('int')"
   ]
  },
  {
   "cell_type": "markdown",
   "id": "7702adef",
   "metadata": {},
   "source": [
    "**Сразу поменять тип в столбце age не получится, т.к там есть пропуск, убедимся в этом посмотрев уникальные значения**"
   ]
  },
  {
   "cell_type": "code",
   "execution_count": 6,
   "id": "3c30a5fa",
   "metadata": {},
   "outputs": [
    {
     "data": {
      "text/plain": [
       "array([18., 19., 20., 21., 22., 23., 24., 25., 26., 27., 28., 29., 30.,\n",
       "       31., 32., 33., 34., 35., 36., 37., 38., 39., 40., 41., 42., 43.,\n",
       "       44., 45., 46., 47., 48., 49., 50., 51., 52., 53., 54., 55., 56.,\n",
       "       57., 58., 59., 60., 61., 62., 63., 64., 65., 66., 67., 68., 69.,\n",
       "       70., 71., 72., 73., 74., 75., 76., 77., 78., 79., 80., 81., 82.,\n",
       "       83., 84., 86., nan])"
      ]
     },
     "metadata": {},
     "output_type": "display_data"
    }
   ],
   "source": [
    "#смотрим уникальные значения\n",
    "display(data['age'].sort_values().unique())"
   ]
  },
  {
   "cell_type": "code",
   "execution_count": 7,
   "id": "3046cb13",
   "metadata": {},
   "outputs": [
    {
     "name": "stdout",
     "output_type": "stream",
     "text": [
      "Обнаружено пропусков: 26\n",
      "От общей базы это составляет: 0.26%\n"
     ]
    }
   ],
   "source": [
    "#количество пропусков в возрасте\n",
    "print('Обнаружено пропусков:', data['age'].isna().sum())\n",
    "print('От общей базы это составляет: ', \n",
    "      (((data['age'].isna().sum() / len(data['age']))*100), 2), '%', sep='')"
   ]
  },
  {
   "cell_type": "markdown",
   "id": "127e606e",
   "metadata": {},
   "source": [
    "**Обнаруженых пропусков в столбце age крайне мало (0.26% от всего датасета), поэтому удалим их.**"
   ]
  },
  {
   "cell_type": "code",
   "execution_count": 8,
   "id": "001efda4",
   "metadata": {},
   "outputs": [
    {
     "name": "stdout",
     "output_type": "stream",
     "text": [
      "Обнаружено пропусков: 0\n"
     ]
    }
   ],
   "source": [
    "#удаление пропусков в возрасте\n",
    "data = data.dropna(subset=['age'])\n",
    "print('Обнаружено пропусков:', data['age'].isna().sum())"
   ]
  },
  {
   "cell_type": "code",
   "execution_count": 9,
   "id": "efc99777",
   "metadata": {},
   "outputs": [],
   "source": [
    "#заменим в нужных столбцах вещественный тип на целочисленный\n",
    "data['age'] = data['age'].astype('int')"
   ]
  },
  {
   "cell_type": "code",
   "execution_count": 10,
   "id": "52e4348c",
   "metadata": {},
   "outputs": [
    {
     "data": {
      "text/plain": [
       "0"
      ]
     },
     "execution_count": 10,
     "metadata": {},
     "output_type": "execute_result"
    }
   ],
   "source": [
    "# Проверим явные дубликаты в датафрейме:\n",
    "data.duplicated().sum()"
   ]
  },
  {
   "cell_type": "code",
   "execution_count": 11,
   "id": "b4d01eb0",
   "metadata": {},
   "outputs": [
    {
     "name": "stdout",
     "output_type": "stream",
     "text": [
      "Обнаружено дубликатов: 50\n",
      "От общей базы это составляет: 0.5%\n"
     ]
    }
   ],
   "source": [
    "#найдем неявные дубликаты в user_id\n",
    "print('Обнаружено дубликатов:', data['user_id'].duplicated().sum())\n",
    "print('От общей базы это составляет: ', round(((data['user_id'].duplicated().sum() / len(data['user_id']))*100), 2), '%', sep='')"
   ]
  },
  {
   "cell_type": "code",
   "execution_count": 12,
   "id": "e6a6324b",
   "metadata": {},
   "outputs": [
    {
     "data": {
      "text/html": [
       "<div>\n",
       "<style scoped>\n",
       "    .dataframe tbody tr th:only-of-type {\n",
       "        vertical-align: middle;\n",
       "    }\n",
       "\n",
       "    .dataframe tbody tr th {\n",
       "        vertical-align: top;\n",
       "    }\n",
       "\n",
       "    .dataframe thead th {\n",
       "        text-align: right;\n",
       "    }\n",
       "</style>\n",
       "<table border=\"1\" class=\"dataframe\">\n",
       "  <thead>\n",
       "    <tr style=\"text-align: right;\">\n",
       "      <th></th>\n",
       "      <th>user_id</th>\n",
       "      <th>score</th>\n",
       "      <th>city</th>\n",
       "      <th>gender</th>\n",
       "      <th>age</th>\n",
       "      <th>equity</th>\n",
       "      <th>balance</th>\n",
       "      <th>products</th>\n",
       "      <th>credit_card</th>\n",
       "      <th>last_activity</th>\n",
       "      <th>est_salary</th>\n",
       "      <th>churn</th>\n",
       "    </tr>\n",
       "  </thead>\n",
       "  <tbody>\n",
       "    <tr>\n",
       "      <th>1583</th>\n",
       "      <td>190253</td>\n",
       "      <td>726</td>\n",
       "      <td>Ярославль</td>\n",
       "      <td>М</td>\n",
       "      <td>49</td>\n",
       "      <td>0</td>\n",
       "      <td>NaN</td>\n",
       "      <td>1</td>\n",
       "      <td>1</td>\n",
       "      <td>1</td>\n",
       "      <td>177700.78</td>\n",
       "      <td>0</td>\n",
       "    </tr>\n",
       "    <tr>\n",
       "      <th>1837</th>\n",
       "      <td>210662</td>\n",
       "      <td>896</td>\n",
       "      <td>Рыбинск</td>\n",
       "      <td>Ж</td>\n",
       "      <td>37</td>\n",
       "      <td>0</td>\n",
       "      <td>NaN</td>\n",
       "      <td>2</td>\n",
       "      <td>0</td>\n",
       "      <td>0</td>\n",
       "      <td>90916.04</td>\n",
       "      <td>0</td>\n",
       "    </tr>\n",
       "    <tr>\n",
       "      <th>2138</th>\n",
       "      <td>131419</td>\n",
       "      <td>739</td>\n",
       "      <td>Рыбинск</td>\n",
       "      <td>Ж</td>\n",
       "      <td>37</td>\n",
       "      <td>3</td>\n",
       "      <td>1307941.65</td>\n",
       "      <td>3</td>\n",
       "      <td>0</td>\n",
       "      <td>0</td>\n",
       "      <td>103867.47</td>\n",
       "      <td>0</td>\n",
       "    </tr>\n",
       "    <tr>\n",
       "      <th>2302</th>\n",
       "      <td>220816</td>\n",
       "      <td>934</td>\n",
       "      <td>Рыбинск</td>\n",
       "      <td>Ж</td>\n",
       "      <td>74</td>\n",
       "      <td>5</td>\n",
       "      <td>1294285.39</td>\n",
       "      <td>3</td>\n",
       "      <td>1</td>\n",
       "      <td>0</td>\n",
       "      <td>95606.80</td>\n",
       "      <td>0</td>\n",
       "    </tr>\n",
       "    <tr>\n",
       "      <th>2998</th>\n",
       "      <td>208081</td>\n",
       "      <td>821</td>\n",
       "      <td>Рыбинск</td>\n",
       "      <td>Ж</td>\n",
       "      <td>62</td>\n",
       "      <td>3</td>\n",
       "      <td>493608.26</td>\n",
       "      <td>2</td>\n",
       "      <td>1</td>\n",
       "      <td>1</td>\n",
       "      <td>33491.45</td>\n",
       "      <td>0</td>\n",
       "    </tr>\n",
       "  </tbody>\n",
       "</table>\n",
       "</div>"
      ],
      "text/plain": [
       "      user_id  score       city gender  age  equity     balance  products  \\\n",
       "1583   190253    726  Ярославль      М   49       0         NaN         1   \n",
       "1837   210662    896    Рыбинск      Ж   37       0         NaN         2   \n",
       "2138   131419    739    Рыбинск      Ж   37       3  1307941.65         3   \n",
       "2302   220816    934    Рыбинск      Ж   74       5  1294285.39         3   \n",
       "2998   208081    821    Рыбинск      Ж   62       3   493608.26         2   \n",
       "\n",
       "      credit_card  last_activity  est_salary  churn  \n",
       "1583            1              1   177700.78      0  \n",
       "1837            0              0    90916.04      0  \n",
       "2138            0              0   103867.47      0  \n",
       "2302            1              0    95606.80      0  \n",
       "2998            1              1    33491.45      0  "
      ]
     },
     "metadata": {},
     "output_type": "display_data"
    }
   ],
   "source": [
    "display(data.query('user_id.duplicated()').head())"
   ]
  },
  {
   "cell_type": "code",
   "execution_count": 13,
   "id": "b392819a",
   "metadata": {},
   "outputs": [
    {
     "data": {
      "text/html": [
       "<div>\n",
       "<style scoped>\n",
       "    .dataframe tbody tr th:only-of-type {\n",
       "        vertical-align: middle;\n",
       "    }\n",
       "\n",
       "    .dataframe tbody tr th {\n",
       "        vertical-align: top;\n",
       "    }\n",
       "\n",
       "    .dataframe thead th {\n",
       "        text-align: right;\n",
       "    }\n",
       "</style>\n",
       "<table border=\"1\" class=\"dataframe\">\n",
       "  <thead>\n",
       "    <tr style=\"text-align: right;\">\n",
       "      <th></th>\n",
       "      <th>user_id</th>\n",
       "      <th>score</th>\n",
       "      <th>city</th>\n",
       "      <th>gender</th>\n",
       "      <th>age</th>\n",
       "      <th>equity</th>\n",
       "      <th>balance</th>\n",
       "      <th>products</th>\n",
       "      <th>credit_card</th>\n",
       "      <th>last_activity</th>\n",
       "      <th>est_salary</th>\n",
       "      <th>churn</th>\n",
       "    </tr>\n",
       "  </thead>\n",
       "  <tbody>\n",
       "    <tr>\n",
       "      <th>231</th>\n",
       "      <td>190253</td>\n",
       "      <td>823</td>\n",
       "      <td>Рыбинск</td>\n",
       "      <td>М</td>\n",
       "      <td>37</td>\n",
       "      <td>4</td>\n",
       "      <td>373348.39</td>\n",
       "      <td>2</td>\n",
       "      <td>0</td>\n",
       "      <td>1</td>\n",
       "      <td>131947.92</td>\n",
       "      <td>1</td>\n",
       "    </tr>\n",
       "    <tr>\n",
       "      <th>1583</th>\n",
       "      <td>190253</td>\n",
       "      <td>726</td>\n",
       "      <td>Ярославль</td>\n",
       "      <td>М</td>\n",
       "      <td>49</td>\n",
       "      <td>0</td>\n",
       "      <td>NaN</td>\n",
       "      <td>1</td>\n",
       "      <td>1</td>\n",
       "      <td>1</td>\n",
       "      <td>177700.78</td>\n",
       "      <td>0</td>\n",
       "    </tr>\n",
       "  </tbody>\n",
       "</table>\n",
       "</div>"
      ],
      "text/plain": [
       "      user_id  score       city gender  age  equity    balance  products  \\\n",
       "231    190253    823    Рыбинск      М   37       4  373348.39         2   \n",
       "1583   190253    726  Ярославль      М   49       0        NaN         1   \n",
       "\n",
       "      credit_card  last_activity  est_salary  churn  \n",
       "231             0              1   131947.92      1  \n",
       "1583            1              1   177700.78      0  "
      ]
     },
     "metadata": {},
     "output_type": "display_data"
    }
   ],
   "source": [
    "#\n",
    "display(data.query('user_id == 190253'))"
   ]
  },
  {
   "cell_type": "code",
   "execution_count": 14,
   "id": "9859bf74",
   "metadata": {},
   "outputs": [
    {
     "data": {
      "text/html": [
       "<div>\n",
       "<style scoped>\n",
       "    .dataframe tbody tr th:only-of-type {\n",
       "        vertical-align: middle;\n",
       "    }\n",
       "\n",
       "    .dataframe tbody tr th {\n",
       "        vertical-align: top;\n",
       "    }\n",
       "\n",
       "    .dataframe thead th {\n",
       "        text-align: right;\n",
       "    }\n",
       "</style>\n",
       "<table border=\"1\" class=\"dataframe\">\n",
       "  <thead>\n",
       "    <tr style=\"text-align: right;\">\n",
       "      <th></th>\n",
       "      <th>user_id</th>\n",
       "      <th>score</th>\n",
       "      <th>city</th>\n",
       "      <th>gender</th>\n",
       "      <th>age</th>\n",
       "      <th>equity</th>\n",
       "      <th>balance</th>\n",
       "      <th>products</th>\n",
       "      <th>credit_card</th>\n",
       "      <th>last_activity</th>\n",
       "      <th>est_salary</th>\n",
       "      <th>churn</th>\n",
       "    </tr>\n",
       "  </thead>\n",
       "  <tbody>\n",
       "    <tr>\n",
       "      <th>2597</th>\n",
       "      <td>226719</td>\n",
       "      <td>990</td>\n",
       "      <td>Ярославль</td>\n",
       "      <td>М</td>\n",
       "      <td>37</td>\n",
       "      <td>4</td>\n",
       "      <td>14648692.14</td>\n",
       "      <td>2</td>\n",
       "      <td>0</td>\n",
       "      <td>0</td>\n",
       "      <td>934412.61</td>\n",
       "      <td>1</td>\n",
       "    </tr>\n",
       "    <tr>\n",
       "      <th>4216</th>\n",
       "      <td>226719</td>\n",
       "      <td>903</td>\n",
       "      <td>Рыбинск</td>\n",
       "      <td>Ж</td>\n",
       "      <td>63</td>\n",
       "      <td>0</td>\n",
       "      <td>NaN</td>\n",
       "      <td>1</td>\n",
       "      <td>1</td>\n",
       "      <td>0</td>\n",
       "      <td>138582.58</td>\n",
       "      <td>0</td>\n",
       "    </tr>\n",
       "  </tbody>\n",
       "</table>\n",
       "</div>"
      ],
      "text/plain": [
       "      user_id  score       city gender  age  equity      balance  products  \\\n",
       "2597   226719    990  Ярославль      М   37       4  14648692.14         2   \n",
       "4216   226719    903    Рыбинск      Ж   63       0          NaN         1   \n",
       "\n",
       "      credit_card  last_activity  est_salary  churn  \n",
       "2597            0              0   934412.61      1  \n",
       "4216            1              0   138582.58      0  "
      ]
     },
     "metadata": {},
     "output_type": "display_data"
    }
   ],
   "source": [
    "display(data.query('user_id == 226719'))"
   ]
  },
  {
   "cell_type": "code",
   "execution_count": 15,
   "id": "48c11d12",
   "metadata": {},
   "outputs": [
    {
     "data": {
      "text/html": [
       "<div>\n",
       "<style scoped>\n",
       "    .dataframe tbody tr th:only-of-type {\n",
       "        vertical-align: middle;\n",
       "    }\n",
       "\n",
       "    .dataframe tbody tr th {\n",
       "        vertical-align: top;\n",
       "    }\n",
       "\n",
       "    .dataframe thead th {\n",
       "        text-align: right;\n",
       "    }\n",
       "</style>\n",
       "<table border=\"1\" class=\"dataframe\">\n",
       "  <thead>\n",
       "    <tr style=\"text-align: right;\">\n",
       "      <th></th>\n",
       "      <th>user_id</th>\n",
       "      <th>score</th>\n",
       "      <th>city</th>\n",
       "      <th>gender</th>\n",
       "      <th>age</th>\n",
       "      <th>equity</th>\n",
       "      <th>balance</th>\n",
       "      <th>products</th>\n",
       "      <th>credit_card</th>\n",
       "      <th>last_activity</th>\n",
       "      <th>est_salary</th>\n",
       "      <th>churn</th>\n",
       "    </tr>\n",
       "  </thead>\n",
       "  <tbody>\n",
       "    <tr>\n",
       "      <th>790</th>\n",
       "      <td>170312</td>\n",
       "      <td>901</td>\n",
       "      <td>Ярославль</td>\n",
       "      <td>М</td>\n",
       "      <td>33</td>\n",
       "      <td>4</td>\n",
       "      <td>3276783.93</td>\n",
       "      <td>3</td>\n",
       "      <td>0</td>\n",
       "      <td>1</td>\n",
       "      <td>358700.96</td>\n",
       "      <td>1</td>\n",
       "    </tr>\n",
       "    <tr>\n",
       "      <th>3039</th>\n",
       "      <td>170312</td>\n",
       "      <td>813</td>\n",
       "      <td>Рыбинск</td>\n",
       "      <td>Ж</td>\n",
       "      <td>47</td>\n",
       "      <td>3</td>\n",
       "      <td>370027.67</td>\n",
       "      <td>2</td>\n",
       "      <td>0</td>\n",
       "      <td>0</td>\n",
       "      <td>129835.56</td>\n",
       "      <td>0</td>\n",
       "    </tr>\n",
       "  </tbody>\n",
       "</table>\n",
       "</div>"
      ],
      "text/plain": [
       "      user_id  score       city gender  age  equity     balance  products  \\\n",
       "790    170312    901  Ярославль      М   33       4  3276783.93         3   \n",
       "3039   170312    813    Рыбинск      Ж   47       3   370027.67         2   \n",
       "\n",
       "      credit_card  last_activity  est_salary  churn  \n",
       "790             0              1   358700.96      1  \n",
       "3039            0              0   129835.56      0  "
      ]
     },
     "metadata": {},
     "output_type": "display_data"
    }
   ],
   "source": [
    "display(data.query('user_id == 170312'))"
   ]
  },
  {
   "cell_type": "code",
   "execution_count": 16,
   "id": "db8c8cb0",
   "metadata": {},
   "outputs": [
    {
     "data": {
      "text/plain": [
       "Рыбинск      29\n",
       "Ярославль    21\n",
       "Name: city, dtype: int64"
      ]
     },
     "execution_count": 16,
     "metadata": {},
     "output_type": "execute_result"
    }
   ],
   "source": [
    "#проверим из каких городов\n",
    "data.query('user_id.duplicated()')['city'].value_counts()"
   ]
  },
  {
   "cell_type": "code",
   "execution_count": 17,
   "id": "4d6cb285",
   "metadata": {},
   "outputs": [],
   "source": [
    "#удалим дубликаты\n",
    "#data['user_id'].drop_duplicates().reset_index(drop=True)\n",
    "data = data.drop_duplicates(['user_id'])"
   ]
  },
  {
   "cell_type": "markdown",
   "id": "4645b336",
   "metadata": {},
   "source": [
    "**Найденные дубликаты в столбце user_id - 50 строк, из города Рыбинск и Ярославль, причем единый user_id принадлежит как ушедшему клиенту, так и оставшемуся. Возможно было слияние баз данных из этих городов. Т.к процент этих дубликатов меньше 1 от всей базы, то удалим их. Далее, проверим пропуски в балансе.**"
   ]
  },
  {
   "cell_type": "code",
   "execution_count": 18,
   "id": "068b3dee",
   "metadata": {},
   "outputs": [
    {
     "name": "stdout",
     "output_type": "stream",
     "text": [
      "Обнаружено пропусков: 2260\n",
      "От общей базы это составляет: 22.77%\n"
     ]
    }
   ],
   "source": [
    "#количество пропусков в балансе\n",
    "print('Обнаружено пропусков:', data['balance'].isna().sum())\n",
    "print('От общей базы это составляет: ', round(((data['balance'].isna().sum() / len(data['balance']))*100), 2), '%', sep='')"
   ]
  },
  {
   "cell_type": "code",
   "execution_count": 19,
   "id": "8365a0c3",
   "metadata": {},
   "outputs": [
    {
     "data": {
      "text/plain": [
       "count    7.664000e+03\n",
       "mean     8.282063e+05\n",
       "std      1.984122e+06\n",
       "min      0.000000e+00\n",
       "25%      2.955266e+05\n",
       "50%      5.249277e+05\n",
       "75%      9.807537e+05\n",
       "max      1.191136e+08\n",
       "Name: balance, dtype: float64"
      ]
     },
     "execution_count": 19,
     "metadata": {},
     "output_type": "execute_result"
    }
   ],
   "source": [
    "# Вызовем метод describe и проанализируем баланс\n",
    "data['balance'].describe()"
   ]
  },
  {
   "cell_type": "markdown",
   "id": "267e80e4",
   "metadata": {},
   "source": [
    "**Обнаруженых пропусков в столбце баланса существенная часть, поэтому удалять их точно нельзя, потеряем много данных. Заменить эти значения на 0 тоже нельзя, т.к нулевой баланс уже есть, это исказит данные. Среднее значение можно использовать только когда есть взаимосвязь, надо это проверить. Возможно есть взаимосвязь между балансом и оттоком**"
   ]
  },
  {
   "cell_type": "code",
   "execution_count": 20,
   "id": "269e1e34",
   "metadata": {},
   "outputs": [
    {
     "data": {
      "text/html": [
       "<div>\n",
       "<style scoped>\n",
       "    .dataframe tbody tr th:only-of-type {\n",
       "        vertical-align: middle;\n",
       "    }\n",
       "\n",
       "    .dataframe tbody tr th {\n",
       "        vertical-align: top;\n",
       "    }\n",
       "\n",
       "    .dataframe thead th {\n",
       "        text-align: right;\n",
       "    }\n",
       "</style>\n",
       "<table border=\"1\" class=\"dataframe\">\n",
       "  <thead>\n",
       "    <tr style=\"text-align: right;\">\n",
       "      <th></th>\n",
       "      <th>user_id</th>\n",
       "      <th>score</th>\n",
       "      <th>city</th>\n",
       "      <th>gender</th>\n",
       "      <th>age</th>\n",
       "      <th>equity</th>\n",
       "      <th>balance</th>\n",
       "      <th>products</th>\n",
       "      <th>credit_card</th>\n",
       "      <th>last_activity</th>\n",
       "      <th>est_salary</th>\n",
       "      <th>churn</th>\n",
       "    </tr>\n",
       "  </thead>\n",
       "  <tbody>\n",
       "    <tr>\n",
       "      <th>2</th>\n",
       "      <td>120722</td>\n",
       "      <td>892</td>\n",
       "      <td>Рыбинск</td>\n",
       "      <td>Ж</td>\n",
       "      <td>30</td>\n",
       "      <td>0</td>\n",
       "      <td>NaN</td>\n",
       "      <td>1</td>\n",
       "      <td>1</td>\n",
       "      <td>1</td>\n",
       "      <td>107683.34</td>\n",
       "      <td>0</td>\n",
       "    </tr>\n",
       "    <tr>\n",
       "      <th>9</th>\n",
       "      <td>133130</td>\n",
       "      <td>906</td>\n",
       "      <td>Ярославль</td>\n",
       "      <td>Ж</td>\n",
       "      <td>67</td>\n",
       "      <td>0</td>\n",
       "      <td>NaN</td>\n",
       "      <td>1</td>\n",
       "      <td>0</td>\n",
       "      <td>1</td>\n",
       "      <td>238055.53</td>\n",
       "      <td>0</td>\n",
       "    </tr>\n",
       "    <tr>\n",
       "      <th>10</th>\n",
       "      <td>148929</td>\n",
       "      <td>927</td>\n",
       "      <td>Ростов</td>\n",
       "      <td>М</td>\n",
       "      <td>52</td>\n",
       "      <td>0</td>\n",
       "      <td>NaN</td>\n",
       "      <td>1</td>\n",
       "      <td>1</td>\n",
       "      <td>1</td>\n",
       "      <td>196820.07</td>\n",
       "      <td>0</td>\n",
       "    </tr>\n",
       "    <tr>\n",
       "      <th>11</th>\n",
       "      <td>172184</td>\n",
       "      <td>921</td>\n",
       "      <td>Ростов</td>\n",
       "      <td>М</td>\n",
       "      <td>41</td>\n",
       "      <td>0</td>\n",
       "      <td>NaN</td>\n",
       "      <td>1</td>\n",
       "      <td>1</td>\n",
       "      <td>1</td>\n",
       "      <td>217469.48</td>\n",
       "      <td>0</td>\n",
       "    </tr>\n",
       "    <tr>\n",
       "      <th>19</th>\n",
       "      <td>127034</td>\n",
       "      <td>922</td>\n",
       "      <td>Рыбинск</td>\n",
       "      <td>Ж</td>\n",
       "      <td>53</td>\n",
       "      <td>0</td>\n",
       "      <td>NaN</td>\n",
       "      <td>1</td>\n",
       "      <td>0</td>\n",
       "      <td>0</td>\n",
       "      <td>147094.82</td>\n",
       "      <td>0</td>\n",
       "    </tr>\n",
       "    <tr>\n",
       "      <th>21</th>\n",
       "      <td>177415</td>\n",
       "      <td>896</td>\n",
       "      <td>Рыбинск</td>\n",
       "      <td>Ж</td>\n",
       "      <td>47</td>\n",
       "      <td>0</td>\n",
       "      <td>NaN</td>\n",
       "      <td>1</td>\n",
       "      <td>0</td>\n",
       "      <td>0</td>\n",
       "      <td>225060.35</td>\n",
       "      <td>0</td>\n",
       "    </tr>\n",
       "    <tr>\n",
       "      <th>30</th>\n",
       "      <td>155730</td>\n",
       "      <td>946</td>\n",
       "      <td>Ярославль</td>\n",
       "      <td>Ж</td>\n",
       "      <td>47</td>\n",
       "      <td>0</td>\n",
       "      <td>NaN</td>\n",
       "      <td>2</td>\n",
       "      <td>1</td>\n",
       "      <td>1</td>\n",
       "      <td>660015.85</td>\n",
       "      <td>0</td>\n",
       "    </tr>\n",
       "    <tr>\n",
       "      <th>34</th>\n",
       "      <td>205226</td>\n",
       "      <td>944</td>\n",
       "      <td>Ярославль</td>\n",
       "      <td>М</td>\n",
       "      <td>35</td>\n",
       "      <td>0</td>\n",
       "      <td>NaN</td>\n",
       "      <td>2</td>\n",
       "      <td>1</td>\n",
       "      <td>1</td>\n",
       "      <td>239843.39</td>\n",
       "      <td>0</td>\n",
       "    </tr>\n",
       "    <tr>\n",
       "      <th>39</th>\n",
       "      <td>173175</td>\n",
       "      <td>924</td>\n",
       "      <td>Рыбинск</td>\n",
       "      <td>Ж</td>\n",
       "      <td>51</td>\n",
       "      <td>0</td>\n",
       "      <td>NaN</td>\n",
       "      <td>1</td>\n",
       "      <td>1</td>\n",
       "      <td>1</td>\n",
       "      <td>248844.47</td>\n",
       "      <td>0</td>\n",
       "    </tr>\n",
       "    <tr>\n",
       "      <th>43</th>\n",
       "      <td>228585</td>\n",
       "      <td>956</td>\n",
       "      <td>Ростов</td>\n",
       "      <td>М</td>\n",
       "      <td>41</td>\n",
       "      <td>0</td>\n",
       "      <td>NaN</td>\n",
       "      <td>1</td>\n",
       "      <td>1</td>\n",
       "      <td>0</td>\n",
       "      <td>115117.10</td>\n",
       "      <td>0</td>\n",
       "    </tr>\n",
       "  </tbody>\n",
       "</table>\n",
       "</div>"
      ],
      "text/plain": [
       "    user_id  score       city gender  age  equity  balance  products  \\\n",
       "2    120722    892    Рыбинск      Ж   30       0      NaN         1   \n",
       "9    133130    906  Ярославль      Ж   67       0      NaN         1   \n",
       "10   148929    927     Ростов      М   52       0      NaN         1   \n",
       "11   172184    921     Ростов      М   41       0      NaN         1   \n",
       "19   127034    922    Рыбинск      Ж   53       0      NaN         1   \n",
       "21   177415    896    Рыбинск      Ж   47       0      NaN         1   \n",
       "30   155730    946  Ярославль      Ж   47       0      NaN         2   \n",
       "34   205226    944  Ярославль      М   35       0      NaN         2   \n",
       "39   173175    924    Рыбинск      Ж   51       0      NaN         1   \n",
       "43   228585    956     Ростов      М   41       0      NaN         1   \n",
       "\n",
       "    credit_card  last_activity  est_salary  churn  \n",
       "2             1              1   107683.34      0  \n",
       "9             0              1   238055.53      0  \n",
       "10            1              1   196820.07      0  \n",
       "11            1              1   217469.48      0  \n",
       "19            0              0   147094.82      0  \n",
       "21            0              0   225060.35      0  \n",
       "30            1              1   660015.85      0  \n",
       "34            1              1   239843.39      0  \n",
       "39            1              1   248844.47      0  \n",
       "43            1              0   115117.10      0  "
      ]
     },
     "metadata": {},
     "output_type": "display_data"
    }
   ],
   "source": [
    "#создадим датасет с NaN балансом \n",
    "nan_balan = data.query('balance.isna()')\n",
    "display(nan_balan.head(10))"
   ]
  },
  {
   "cell_type": "code",
   "execution_count": 21,
   "id": "1d3f7098",
   "metadata": {},
   "outputs": [
    {
     "data": {
      "text/html": [
       "<div>\n",
       "<style scoped>\n",
       "    .dataframe tbody tr th:only-of-type {\n",
       "        vertical-align: middle;\n",
       "    }\n",
       "\n",
       "    .dataframe tbody tr th {\n",
       "        vertical-align: top;\n",
       "    }\n",
       "\n",
       "    .dataframe thead th {\n",
       "        text-align: right;\n",
       "    }\n",
       "</style>\n",
       "<table border=\"1\" class=\"dataframe\">\n",
       "  <thead>\n",
       "    <tr style=\"text-align: right;\">\n",
       "      <th></th>\n",
       "      <th>city</th>\n",
       "      <th>count</th>\n",
       "      <th>share</th>\n",
       "    </tr>\n",
       "  </thead>\n",
       "  <tbody>\n",
       "    <tr>\n",
       "      <th>0</th>\n",
       "      <td>Ярославль</td>\n",
       "      <td>1449</td>\n",
       "      <td>64.12</td>\n",
       "    </tr>\n",
       "    <tr>\n",
       "      <th>1</th>\n",
       "      <td>Рыбинск</td>\n",
       "      <td>576</td>\n",
       "      <td>25.49</td>\n",
       "    </tr>\n",
       "    <tr>\n",
       "      <th>2</th>\n",
       "      <td>Ростов</td>\n",
       "      <td>235</td>\n",
       "      <td>10.40</td>\n",
       "    </tr>\n",
       "  </tbody>\n",
       "</table>\n",
       "</div>"
      ],
      "text/plain": [
       "        city  count  share\n",
       "0  Ярославль   1449  64.12\n",
       "1    Рыбинск    576  25.49\n",
       "2     Ростов    235  10.40"
      ]
     },
     "metadata": {},
     "output_type": "display_data"
    }
   ],
   "source": [
    "#создадим функцию проверяющую связь баланса с другими параметрами\n",
    "def srav(columns):\n",
    "    w=nan_balan.groupby(columns)\\\n",
    "             .agg(count=(columns, 'count'))\\\n",
    "             .sort_values(by = 'count', ascending = False)\\\n",
    "             .reset_index() \n",
    "    w['share'] = round(w['count'] / (w['count'].sum())*100,2)\n",
    "    display(w)\n",
    "srav('city')"
   ]
  },
  {
   "cell_type": "code",
   "execution_count": 22,
   "id": "1d5e694d",
   "metadata": {},
   "outputs": [
    {
     "data": {
      "text/html": [
       "<div>\n",
       "<style scoped>\n",
       "    .dataframe tbody tr th:only-of-type {\n",
       "        vertical-align: middle;\n",
       "    }\n",
       "\n",
       "    .dataframe tbody tr th {\n",
       "        vertical-align: top;\n",
       "    }\n",
       "\n",
       "    .dataframe thead th {\n",
       "        text-align: right;\n",
       "    }\n",
       "</style>\n",
       "<table border=\"1\" class=\"dataframe\">\n",
       "  <thead>\n",
       "    <tr style=\"text-align: right;\">\n",
       "      <th></th>\n",
       "      <th>gender</th>\n",
       "      <th>count</th>\n",
       "      <th>share</th>\n",
       "    </tr>\n",
       "  </thead>\n",
       "  <tbody>\n",
       "    <tr>\n",
       "      <th>0</th>\n",
       "      <td>М</td>\n",
       "      <td>1263</td>\n",
       "      <td>55.88</td>\n",
       "    </tr>\n",
       "    <tr>\n",
       "      <th>1</th>\n",
       "      <td>Ж</td>\n",
       "      <td>997</td>\n",
       "      <td>44.12</td>\n",
       "    </tr>\n",
       "  </tbody>\n",
       "</table>\n",
       "</div>"
      ],
      "text/plain": [
       "  gender  count  share\n",
       "0      М   1263  55.88\n",
       "1      Ж    997  44.12"
      ]
     },
     "metadata": {},
     "output_type": "display_data"
    }
   ],
   "source": [
    "srav('gender')"
   ]
  },
  {
   "cell_type": "code",
   "execution_count": 23,
   "id": "197ba07c",
   "metadata": {},
   "outputs": [
    {
     "data": {
      "text/html": [
       "<div>\n",
       "<style scoped>\n",
       "    .dataframe tbody tr th:only-of-type {\n",
       "        vertical-align: middle;\n",
       "    }\n",
       "\n",
       "    .dataframe tbody tr th {\n",
       "        vertical-align: top;\n",
       "    }\n",
       "\n",
       "    .dataframe thead th {\n",
       "        text-align: right;\n",
       "    }\n",
       "</style>\n",
       "<table border=\"1\" class=\"dataframe\">\n",
       "  <thead>\n",
       "    <tr style=\"text-align: right;\">\n",
       "      <th></th>\n",
       "      <th>age</th>\n",
       "      <th>count</th>\n",
       "      <th>share</th>\n",
       "    </tr>\n",
       "  </thead>\n",
       "  <tbody>\n",
       "    <tr>\n",
       "      <th>0</th>\n",
       "      <td>36</td>\n",
       "      <td>104</td>\n",
       "      <td>4.60</td>\n",
       "    </tr>\n",
       "    <tr>\n",
       "      <th>1</th>\n",
       "      <td>33</td>\n",
       "      <td>97</td>\n",
       "      <td>4.29</td>\n",
       "    </tr>\n",
       "    <tr>\n",
       "      <th>2</th>\n",
       "      <td>37</td>\n",
       "      <td>96</td>\n",
       "      <td>4.25</td>\n",
       "    </tr>\n",
       "    <tr>\n",
       "      <th>3</th>\n",
       "      <td>35</td>\n",
       "      <td>90</td>\n",
       "      <td>3.98</td>\n",
       "    </tr>\n",
       "    <tr>\n",
       "      <th>4</th>\n",
       "      <td>34</td>\n",
       "      <td>88</td>\n",
       "      <td>3.89</td>\n",
       "    </tr>\n",
       "    <tr>\n",
       "      <th>...</th>\n",
       "      <td>...</td>\n",
       "      <td>...</td>\n",
       "      <td>...</td>\n",
       "    </tr>\n",
       "    <tr>\n",
       "      <th>61</th>\n",
       "      <td>81</td>\n",
       "      <td>2</td>\n",
       "      <td>0.09</td>\n",
       "    </tr>\n",
       "    <tr>\n",
       "      <th>62</th>\n",
       "      <td>77</td>\n",
       "      <td>1</td>\n",
       "      <td>0.04</td>\n",
       "    </tr>\n",
       "    <tr>\n",
       "      <th>63</th>\n",
       "      <td>79</td>\n",
       "      <td>1</td>\n",
       "      <td>0.04</td>\n",
       "    </tr>\n",
       "    <tr>\n",
       "      <th>64</th>\n",
       "      <td>83</td>\n",
       "      <td>1</td>\n",
       "      <td>0.04</td>\n",
       "    </tr>\n",
       "    <tr>\n",
       "      <th>65</th>\n",
       "      <td>86</td>\n",
       "      <td>1</td>\n",
       "      <td>0.04</td>\n",
       "    </tr>\n",
       "  </tbody>\n",
       "</table>\n",
       "<p>66 rows × 3 columns</p>\n",
       "</div>"
      ],
      "text/plain": [
       "    age  count  share\n",
       "0    36    104   4.60\n",
       "1    33     97   4.29\n",
       "2    37     96   4.25\n",
       "3    35     90   3.98\n",
       "4    34     88   3.89\n",
       "..  ...    ...    ...\n",
       "61   81      2   0.09\n",
       "62   77      1   0.04\n",
       "63   79      1   0.04\n",
       "64   83      1   0.04\n",
       "65   86      1   0.04\n",
       "\n",
       "[66 rows x 3 columns]"
      ]
     },
     "metadata": {},
     "output_type": "display_data"
    }
   ],
   "source": [
    "srav('age')"
   ]
  },
  {
   "cell_type": "code",
   "execution_count": 24,
   "id": "b41ebe63",
   "metadata": {},
   "outputs": [
    {
     "data": {
      "text/html": [
       "<div>\n",
       "<style scoped>\n",
       "    .dataframe tbody tr th:only-of-type {\n",
       "        vertical-align: middle;\n",
       "    }\n",
       "\n",
       "    .dataframe tbody tr th {\n",
       "        vertical-align: top;\n",
       "    }\n",
       "\n",
       "    .dataframe thead th {\n",
       "        text-align: right;\n",
       "    }\n",
       "</style>\n",
       "<table border=\"1\" class=\"dataframe\">\n",
       "  <thead>\n",
       "    <tr style=\"text-align: right;\">\n",
       "      <th></th>\n",
       "      <th>equity</th>\n",
       "      <th>count</th>\n",
       "      <th>share</th>\n",
       "    </tr>\n",
       "  </thead>\n",
       "  <tbody>\n",
       "    <tr>\n",
       "      <th>0</th>\n",
       "      <td>0</td>\n",
       "      <td>2145</td>\n",
       "      <td>94.91</td>\n",
       "    </tr>\n",
       "    <tr>\n",
       "      <th>1</th>\n",
       "      <td>1</td>\n",
       "      <td>114</td>\n",
       "      <td>5.04</td>\n",
       "    </tr>\n",
       "    <tr>\n",
       "      <th>2</th>\n",
       "      <td>3</td>\n",
       "      <td>1</td>\n",
       "      <td>0.04</td>\n",
       "    </tr>\n",
       "  </tbody>\n",
       "</table>\n",
       "</div>"
      ],
      "text/plain": [
       "   equity  count  share\n",
       "0       0   2145  94.91\n",
       "1       1    114   5.04\n",
       "2       3      1   0.04"
      ]
     },
     "metadata": {},
     "output_type": "display_data"
    }
   ],
   "source": [
    "srav('equity')"
   ]
  },
  {
   "cell_type": "code",
   "execution_count": 25,
   "id": "64a086e1",
   "metadata": {},
   "outputs": [
    {
     "data": {
      "text/html": [
       "<div>\n",
       "<style scoped>\n",
       "    .dataframe tbody tr th:only-of-type {\n",
       "        vertical-align: middle;\n",
       "    }\n",
       "\n",
       "    .dataframe tbody tr th {\n",
       "        vertical-align: top;\n",
       "    }\n",
       "\n",
       "    .dataframe thead th {\n",
       "        text-align: right;\n",
       "    }\n",
       "</style>\n",
       "<table border=\"1\" class=\"dataframe\">\n",
       "  <thead>\n",
       "    <tr style=\"text-align: right;\">\n",
       "      <th></th>\n",
       "      <th>products</th>\n",
       "      <th>count</th>\n",
       "      <th>share</th>\n",
       "    </tr>\n",
       "  </thead>\n",
       "  <tbody>\n",
       "    <tr>\n",
       "      <th>0</th>\n",
       "      <td>1</td>\n",
       "      <td>1921</td>\n",
       "      <td>85.00</td>\n",
       "    </tr>\n",
       "    <tr>\n",
       "      <th>1</th>\n",
       "      <td>2</td>\n",
       "      <td>310</td>\n",
       "      <td>13.72</td>\n",
       "    </tr>\n",
       "    <tr>\n",
       "      <th>2</th>\n",
       "      <td>3</td>\n",
       "      <td>28</td>\n",
       "      <td>1.24</td>\n",
       "    </tr>\n",
       "    <tr>\n",
       "      <th>3</th>\n",
       "      <td>0</td>\n",
       "      <td>1</td>\n",
       "      <td>0.04</td>\n",
       "    </tr>\n",
       "  </tbody>\n",
       "</table>\n",
       "</div>"
      ],
      "text/plain": [
       "   products  count  share\n",
       "0         1   1921  85.00\n",
       "1         2    310  13.72\n",
       "2         3     28   1.24\n",
       "3         0      1   0.04"
      ]
     },
     "metadata": {},
     "output_type": "display_data"
    }
   ],
   "source": [
    "srav('products')"
   ]
  },
  {
   "cell_type": "code",
   "execution_count": 26,
   "id": "16fd8e9e",
   "metadata": {},
   "outputs": [
    {
     "data": {
      "text/html": [
       "<div>\n",
       "<style scoped>\n",
       "    .dataframe tbody tr th:only-of-type {\n",
       "        vertical-align: middle;\n",
       "    }\n",
       "\n",
       "    .dataframe tbody tr th {\n",
       "        vertical-align: top;\n",
       "    }\n",
       "\n",
       "    .dataframe thead th {\n",
       "        text-align: right;\n",
       "    }\n",
       "</style>\n",
       "<table border=\"1\" class=\"dataframe\">\n",
       "  <thead>\n",
       "    <tr style=\"text-align: right;\">\n",
       "      <th></th>\n",
       "      <th>credit_card</th>\n",
       "      <th>count</th>\n",
       "      <th>share</th>\n",
       "    </tr>\n",
       "  </thead>\n",
       "  <tbody>\n",
       "    <tr>\n",
       "      <th>0</th>\n",
       "      <td>1</td>\n",
       "      <td>1843</td>\n",
       "      <td>81.55</td>\n",
       "    </tr>\n",
       "    <tr>\n",
       "      <th>1</th>\n",
       "      <td>0</td>\n",
       "      <td>417</td>\n",
       "      <td>18.45</td>\n",
       "    </tr>\n",
       "  </tbody>\n",
       "</table>\n",
       "</div>"
      ],
      "text/plain": [
       "   credit_card  count  share\n",
       "0            1   1843  81.55\n",
       "1            0    417  18.45"
      ]
     },
     "metadata": {},
     "output_type": "display_data"
    }
   ],
   "source": [
    "srav('credit_card')"
   ]
  },
  {
   "cell_type": "code",
   "execution_count": 27,
   "id": "d811d85c",
   "metadata": {},
   "outputs": [
    {
     "data": {
      "text/html": [
       "<div>\n",
       "<style scoped>\n",
       "    .dataframe tbody tr th:only-of-type {\n",
       "        vertical-align: middle;\n",
       "    }\n",
       "\n",
       "    .dataframe tbody tr th {\n",
       "        vertical-align: top;\n",
       "    }\n",
       "\n",
       "    .dataframe thead th {\n",
       "        text-align: right;\n",
       "    }\n",
       "</style>\n",
       "<table border=\"1\" class=\"dataframe\">\n",
       "  <thead>\n",
       "    <tr style=\"text-align: right;\">\n",
       "      <th></th>\n",
       "      <th>last_activity</th>\n",
       "      <th>count</th>\n",
       "      <th>share</th>\n",
       "    </tr>\n",
       "  </thead>\n",
       "  <tbody>\n",
       "    <tr>\n",
       "      <th>0</th>\n",
       "      <td>1</td>\n",
       "      <td>1241</td>\n",
       "      <td>54.91</td>\n",
       "    </tr>\n",
       "    <tr>\n",
       "      <th>1</th>\n",
       "      <td>0</td>\n",
       "      <td>1019</td>\n",
       "      <td>45.09</td>\n",
       "    </tr>\n",
       "  </tbody>\n",
       "</table>\n",
       "</div>"
      ],
      "text/plain": [
       "   last_activity  count  share\n",
       "0              1   1241  54.91\n",
       "1              0   1019  45.09"
      ]
     },
     "metadata": {},
     "output_type": "display_data"
    }
   ],
   "source": [
    "srav('last_activity')"
   ]
  },
  {
   "cell_type": "code",
   "execution_count": 28,
   "id": "1a36989b",
   "metadata": {},
   "outputs": [
    {
     "data": {
      "text/html": [
       "<div>\n",
       "<style scoped>\n",
       "    .dataframe tbody tr th:only-of-type {\n",
       "        vertical-align: middle;\n",
       "    }\n",
       "\n",
       "    .dataframe tbody tr th {\n",
       "        vertical-align: top;\n",
       "    }\n",
       "\n",
       "    .dataframe thead th {\n",
       "        text-align: right;\n",
       "    }\n",
       "</style>\n",
       "<table border=\"1\" class=\"dataframe\">\n",
       "  <thead>\n",
       "    <tr style=\"text-align: right;\">\n",
       "      <th></th>\n",
       "      <th>churn</th>\n",
       "      <th>count</th>\n",
       "      <th>share</th>\n",
       "    </tr>\n",
       "  </thead>\n",
       "  <tbody>\n",
       "    <tr>\n",
       "      <th>0</th>\n",
       "      <td>0</td>\n",
       "      <td>2247</td>\n",
       "      <td>99.42</td>\n",
       "    </tr>\n",
       "    <tr>\n",
       "      <th>1</th>\n",
       "      <td>1</td>\n",
       "      <td>13</td>\n",
       "      <td>0.58</td>\n",
       "    </tr>\n",
       "  </tbody>\n",
       "</table>\n",
       "</div>"
      ],
      "text/plain": [
       "   churn  count  share\n",
       "0      0   2247  99.42\n",
       "1      1     13   0.58"
      ]
     },
     "metadata": {},
     "output_type": "display_data"
    }
   ],
   "source": [
    "srav('churn')"
   ]
  },
  {
   "cell_type": "code",
   "execution_count": 29,
   "id": "130a76b2",
   "metadata": {},
   "outputs": [
    {
     "data": {
      "text/html": [
       "<div>\n",
       "<style scoped>\n",
       "    .dataframe tbody tr th:only-of-type {\n",
       "        vertical-align: middle;\n",
       "    }\n",
       "\n",
       "    .dataframe tbody tr th {\n",
       "        vertical-align: top;\n",
       "    }\n",
       "\n",
       "    .dataframe thead th {\n",
       "        text-align: right;\n",
       "    }\n",
       "</style>\n",
       "<table border=\"1\" class=\"dataframe\">\n",
       "  <thead>\n",
       "    <tr style=\"text-align: right;\">\n",
       "      <th></th>\n",
       "      <th>user_id</th>\n",
       "      <th>score</th>\n",
       "      <th>city</th>\n",
       "      <th>gender</th>\n",
       "      <th>age</th>\n",
       "      <th>equity</th>\n",
       "      <th>balance</th>\n",
       "      <th>products</th>\n",
       "      <th>credit_card</th>\n",
       "      <th>last_activity</th>\n",
       "      <th>est_salary</th>\n",
       "      <th>churn</th>\n",
       "    </tr>\n",
       "  </thead>\n",
       "  <tbody>\n",
       "    <tr>\n",
       "      <th>1273</th>\n",
       "      <td>136567</td>\n",
       "      <td>961</td>\n",
       "      <td>Ярославль</td>\n",
       "      <td>М</td>\n",
       "      <td>31</td>\n",
       "      <td>0</td>\n",
       "      <td>NaN</td>\n",
       "      <td>1</td>\n",
       "      <td>1</td>\n",
       "      <td>0</td>\n",
       "      <td>1015386.14</td>\n",
       "      <td>1</td>\n",
       "    </tr>\n",
       "    <tr>\n",
       "      <th>1400</th>\n",
       "      <td>146876</td>\n",
       "      <td>707</td>\n",
       "      <td>Ярославль</td>\n",
       "      <td>М</td>\n",
       "      <td>24</td>\n",
       "      <td>0</td>\n",
       "      <td>NaN</td>\n",
       "      <td>3</td>\n",
       "      <td>1</td>\n",
       "      <td>0</td>\n",
       "      <td>94091.11</td>\n",
       "      <td>1</td>\n",
       "    </tr>\n",
       "    <tr>\n",
       "      <th>3017</th>\n",
       "      <td>123230</td>\n",
       "      <td>980</td>\n",
       "      <td>Рыбинск</td>\n",
       "      <td>Ж</td>\n",
       "      <td>53</td>\n",
       "      <td>0</td>\n",
       "      <td>NaN</td>\n",
       "      <td>1</td>\n",
       "      <td>1</td>\n",
       "      <td>1</td>\n",
       "      <td>327646.02</td>\n",
       "      <td>1</td>\n",
       "    </tr>\n",
       "    <tr>\n",
       "      <th>4118</th>\n",
       "      <td>157443</td>\n",
       "      <td>727</td>\n",
       "      <td>Ростов</td>\n",
       "      <td>М</td>\n",
       "      <td>69</td>\n",
       "      <td>0</td>\n",
       "      <td>NaN</td>\n",
       "      <td>1</td>\n",
       "      <td>1</td>\n",
       "      <td>0</td>\n",
       "      <td>132546.93</td>\n",
       "      <td>1</td>\n",
       "    </tr>\n",
       "    <tr>\n",
       "      <th>4302</th>\n",
       "      <td>167482</td>\n",
       "      <td>955</td>\n",
       "      <td>Ярославль</td>\n",
       "      <td>М</td>\n",
       "      <td>62</td>\n",
       "      <td>0</td>\n",
       "      <td>NaN</td>\n",
       "      <td>1</td>\n",
       "      <td>1</td>\n",
       "      <td>0</td>\n",
       "      <td>157784.96</td>\n",
       "      <td>1</td>\n",
       "    </tr>\n",
       "    <tr>\n",
       "      <th>5578</th>\n",
       "      <td>136508</td>\n",
       "      <td>739</td>\n",
       "      <td>Рыбинск</td>\n",
       "      <td>М</td>\n",
       "      <td>49</td>\n",
       "      <td>0</td>\n",
       "      <td>NaN</td>\n",
       "      <td>2</td>\n",
       "      <td>1</td>\n",
       "      <td>1</td>\n",
       "      <td>280945.17</td>\n",
       "      <td>1</td>\n",
       "    </tr>\n",
       "    <tr>\n",
       "      <th>6827</th>\n",
       "      <td>205707</td>\n",
       "      <td>953</td>\n",
       "      <td>Ярославль</td>\n",
       "      <td>М</td>\n",
       "      <td>30</td>\n",
       "      <td>0</td>\n",
       "      <td>NaN</td>\n",
       "      <td>3</td>\n",
       "      <td>1</td>\n",
       "      <td>0</td>\n",
       "      <td>157069.20</td>\n",
       "      <td>1</td>\n",
       "    </tr>\n",
       "    <tr>\n",
       "      <th>7572</th>\n",
       "      <td>144559</td>\n",
       "      <td>748</td>\n",
       "      <td>Ярославль</td>\n",
       "      <td>М</td>\n",
       "      <td>45</td>\n",
       "      <td>0</td>\n",
       "      <td>NaN</td>\n",
       "      <td>1</td>\n",
       "      <td>1</td>\n",
       "      <td>0</td>\n",
       "      <td>288756.23</td>\n",
       "      <td>1</td>\n",
       "    </tr>\n",
       "    <tr>\n",
       "      <th>8185</th>\n",
       "      <td>116284</td>\n",
       "      <td>743</td>\n",
       "      <td>Ярославль</td>\n",
       "      <td>М</td>\n",
       "      <td>48</td>\n",
       "      <td>0</td>\n",
       "      <td>NaN</td>\n",
       "      <td>1</td>\n",
       "      <td>1</td>\n",
       "      <td>1</td>\n",
       "      <td>634457.21</td>\n",
       "      <td>1</td>\n",
       "    </tr>\n",
       "    <tr>\n",
       "      <th>8611</th>\n",
       "      <td>195981</td>\n",
       "      <td>763</td>\n",
       "      <td>Ярославль</td>\n",
       "      <td>Ж</td>\n",
       "      <td>48</td>\n",
       "      <td>0</td>\n",
       "      <td>NaN</td>\n",
       "      <td>1</td>\n",
       "      <td>1</td>\n",
       "      <td>0</td>\n",
       "      <td>248232.39</td>\n",
       "      <td>1</td>\n",
       "    </tr>\n",
       "    <tr>\n",
       "      <th>8957</th>\n",
       "      <td>147837</td>\n",
       "      <td>962</td>\n",
       "      <td>Рыбинск</td>\n",
       "      <td>Ж</td>\n",
       "      <td>79</td>\n",
       "      <td>3</td>\n",
       "      <td>NaN</td>\n",
       "      <td>0</td>\n",
       "      <td>0</td>\n",
       "      <td>0</td>\n",
       "      <td>25063.96</td>\n",
       "      <td>1</td>\n",
       "    </tr>\n",
       "    <tr>\n",
       "      <th>9181</th>\n",
       "      <td>228103</td>\n",
       "      <td>946</td>\n",
       "      <td>Рыбинск</td>\n",
       "      <td>М</td>\n",
       "      <td>37</td>\n",
       "      <td>0</td>\n",
       "      <td>NaN</td>\n",
       "      <td>3</td>\n",
       "      <td>0</td>\n",
       "      <td>0</td>\n",
       "      <td>196941.60</td>\n",
       "      <td>1</td>\n",
       "    </tr>\n",
       "    <tr>\n",
       "      <th>9227</th>\n",
       "      <td>116750</td>\n",
       "      <td>776</td>\n",
       "      <td>Ярославль</td>\n",
       "      <td>М</td>\n",
       "      <td>46</td>\n",
       "      <td>0</td>\n",
       "      <td>NaN</td>\n",
       "      <td>1</td>\n",
       "      <td>1</td>\n",
       "      <td>0</td>\n",
       "      <td>540423.84</td>\n",
       "      <td>1</td>\n",
       "    </tr>\n",
       "  </tbody>\n",
       "</table>\n",
       "</div>"
      ],
      "text/plain": [
       "      user_id  score       city gender  age  equity  balance  products  \\\n",
       "1273   136567    961  Ярославль      М   31       0      NaN         1   \n",
       "1400   146876    707  Ярославль      М   24       0      NaN         3   \n",
       "3017   123230    980    Рыбинск      Ж   53       0      NaN         1   \n",
       "4118   157443    727     Ростов      М   69       0      NaN         1   \n",
       "4302   167482    955  Ярославль      М   62       0      NaN         1   \n",
       "5578   136508    739    Рыбинск      М   49       0      NaN         2   \n",
       "6827   205707    953  Ярославль      М   30       0      NaN         3   \n",
       "7572   144559    748  Ярославль      М   45       0      NaN         1   \n",
       "8185   116284    743  Ярославль      М   48       0      NaN         1   \n",
       "8611   195981    763  Ярославль      Ж   48       0      NaN         1   \n",
       "8957   147837    962    Рыбинск      Ж   79       3      NaN         0   \n",
       "9181   228103    946    Рыбинск      М   37       0      NaN         3   \n",
       "9227   116750    776  Ярославль      М   46       0      NaN         1   \n",
       "\n",
       "      credit_card  last_activity  est_salary  churn  \n",
       "1273            1              0  1015386.14      1  \n",
       "1400            1              0    94091.11      1  \n",
       "3017            1              1   327646.02      1  \n",
       "4118            1              0   132546.93      1  \n",
       "4302            1              0   157784.96      1  \n",
       "5578            1              1   280945.17      1  \n",
       "6827            1              0   157069.20      1  \n",
       "7572            1              0   288756.23      1  \n",
       "8185            1              1   634457.21      1  \n",
       "8611            1              0   248232.39      1  \n",
       "8957            0              0    25063.96      1  \n",
       "9181            0              0   196941.60      1  \n",
       "9227            1              0   540423.84      1  "
      ]
     },
     "execution_count": 29,
     "metadata": {},
     "output_type": "execute_result"
    }
   ],
   "source": [
    "nan_balan.query('churn == 1')"
   ]
  },
  {
   "cell_type": "code",
   "execution_count": 30,
   "id": "df616afd",
   "metadata": {},
   "outputs": [
    {
     "data": {
      "text/html": [
       "<div>\n",
       "<style scoped>\n",
       "    .dataframe tbody tr th:only-of-type {\n",
       "        vertical-align: middle;\n",
       "    }\n",
       "\n",
       "    .dataframe tbody tr th {\n",
       "        vertical-align: top;\n",
       "    }\n",
       "\n",
       "    .dataframe thead th {\n",
       "        text-align: right;\n",
       "    }\n",
       "</style>\n",
       "<table border=\"1\" class=\"dataframe\">\n",
       "  <thead>\n",
       "    <tr style=\"text-align: right;\">\n",
       "      <th></th>\n",
       "      <th>user_id</th>\n",
       "      <th>score</th>\n",
       "      <th>age</th>\n",
       "      <th>equity</th>\n",
       "      <th>balance</th>\n",
       "      <th>products</th>\n",
       "      <th>credit_card</th>\n",
       "      <th>last_activity</th>\n",
       "      <th>est_salary</th>\n",
       "      <th>churn</th>\n",
       "    </tr>\n",
       "  </thead>\n",
       "  <tbody>\n",
       "    <tr>\n",
       "      <th>count</th>\n",
       "      <td>9924.00</td>\n",
       "      <td>9924.00</td>\n",
       "      <td>9924.00</td>\n",
       "      <td>9924.00</td>\n",
       "      <td>7664.00</td>\n",
       "      <td>9924.00</td>\n",
       "      <td>9924.00</td>\n",
       "      <td>9924.00</td>\n",
       "      <td>9924.00</td>\n",
       "      <td>9924.00</td>\n",
       "    </tr>\n",
       "    <tr>\n",
       "      <th>mean</th>\n",
       "      <td>171737.16</td>\n",
       "      <td>848.73</td>\n",
       "      <td>42.73</td>\n",
       "      <td>2.63</td>\n",
       "      <td>828206.27</td>\n",
       "      <td>1.87</td>\n",
       "      <td>0.68</td>\n",
       "      <td>0.52</td>\n",
       "      <td>147880.18</td>\n",
       "      <td>0.18</td>\n",
       "    </tr>\n",
       "    <tr>\n",
       "      <th>std</th>\n",
       "      <td>33697.42</td>\n",
       "      <td>65.40</td>\n",
       "      <td>12.18</td>\n",
       "      <td>1.98</td>\n",
       "      <td>1984121.61</td>\n",
       "      <td>0.79</td>\n",
       "      <td>0.47</td>\n",
       "      <td>0.50</td>\n",
       "      <td>139358.30</td>\n",
       "      <td>0.39</td>\n",
       "    </tr>\n",
       "    <tr>\n",
       "      <th>min</th>\n",
       "      <td>94561.00</td>\n",
       "      <td>642.00</td>\n",
       "      <td>18.00</td>\n",
       "      <td>0.00</td>\n",
       "      <td>0.00</td>\n",
       "      <td>0.00</td>\n",
       "      <td>0.00</td>\n",
       "      <td>0.00</td>\n",
       "      <td>2546.30</td>\n",
       "      <td>0.00</td>\n",
       "    </tr>\n",
       "    <tr>\n",
       "      <th>25%</th>\n",
       "      <td>142725.00</td>\n",
       "      <td>802.00</td>\n",
       "      <td>33.00</td>\n",
       "      <td>0.00</td>\n",
       "      <td>295526.57</td>\n",
       "      <td>1.00</td>\n",
       "      <td>0.00</td>\n",
       "      <td>0.00</td>\n",
       "      <td>75252.18</td>\n",
       "      <td>0.00</td>\n",
       "    </tr>\n",
       "    <tr>\n",
       "      <th>50%</th>\n",
       "      <td>172643.00</td>\n",
       "      <td>853.00</td>\n",
       "      <td>40.00</td>\n",
       "      <td>3.00</td>\n",
       "      <td>524927.74</td>\n",
       "      <td>2.00</td>\n",
       "      <td>1.00</td>\n",
       "      <td>1.00</td>\n",
       "      <td>119715.39</td>\n",
       "      <td>0.00</td>\n",
       "    </tr>\n",
       "    <tr>\n",
       "      <th>75%</th>\n",
       "      <td>201159.25</td>\n",
       "      <td>900.00</td>\n",
       "      <td>51.00</td>\n",
       "      <td>4.00</td>\n",
       "      <td>980753.67</td>\n",
       "      <td>2.00</td>\n",
       "      <td>1.00</td>\n",
       "      <td>1.00</td>\n",
       "      <td>174666.93</td>\n",
       "      <td>0.00</td>\n",
       "    </tr>\n",
       "    <tr>\n",
       "      <th>max</th>\n",
       "      <td>229145.00</td>\n",
       "      <td>1000.00</td>\n",
       "      <td>86.00</td>\n",
       "      <td>9.00</td>\n",
       "      <td>119113552.01</td>\n",
       "      <td>5.00</td>\n",
       "      <td>1.00</td>\n",
       "      <td>1.00</td>\n",
       "      <td>1395064.45</td>\n",
       "      <td>1.00</td>\n",
       "    </tr>\n",
       "  </tbody>\n",
       "</table>\n",
       "</div>"
      ],
      "text/plain": [
       "        user_id   score     age  equity      balance  products  credit_card  \\\n",
       "count   9924.00 9924.00 9924.00 9924.00      7664.00   9924.00      9924.00   \n",
       "mean  171737.16  848.73   42.73    2.63    828206.27      1.87         0.68   \n",
       "std    33697.42   65.40   12.18    1.98   1984121.61      0.79         0.47   \n",
       "min    94561.00  642.00   18.00    0.00         0.00      0.00         0.00   \n",
       "25%   142725.00  802.00   33.00    0.00    295526.57      1.00         0.00   \n",
       "50%   172643.00  853.00   40.00    3.00    524927.74      2.00         1.00   \n",
       "75%   201159.25  900.00   51.00    4.00    980753.67      2.00         1.00   \n",
       "max   229145.00 1000.00   86.00    9.00 119113552.01      5.00         1.00   \n",
       "\n",
       "       last_activity  est_salary   churn  \n",
       "count        9924.00     9924.00 9924.00  \n",
       "mean            0.52   147880.18    0.18  \n",
       "std             0.50   139358.30    0.39  \n",
       "min             0.00     2546.30    0.00  \n",
       "25%             0.00    75252.18    0.00  \n",
       "50%             1.00   119715.39    0.00  \n",
       "75%             1.00   174666.93    0.00  \n",
       "max             1.00  1395064.45    1.00  "
      ]
     },
     "execution_count": 30,
     "metadata": {},
     "output_type": "execute_result"
    }
   ],
   "source": [
    "#применим метод describe для выявления явных выбросов\n",
    "pd.set_option(\"display.float_format\", \"{:.2f}\".format)\n",
    "data.describe()"
   ]
  },
  {
   "cell_type": "markdown",
   "id": "27d1dcff",
   "metadata": {},
   "source": [
    "**В целом данные достаточно чистые в плане выбросов, по ближе надо рассмотреть est_salary, т.к зп в размере 2546 вызывает сомнения, balance максимальное значение 119113552 выглядит фантастически прекрасно и на всякий случай проверить score, пожалуй с него и начнем**"
   ]
  },
  {
   "cell_type": "markdown",
   "id": "800401e9",
   "metadata": {},
   "source": [
    "![jupyter](https://fincult.info/upload/webp/als-property-editorblock/11c/11c84f57e61ffcea42c160f2b9eb1e72.webp)"
   ]
  },
  {
   "cell_type": "code",
   "execution_count": 31,
   "id": "655c1e41",
   "metadata": {},
   "outputs": [
    {
     "data": {
      "image/png": "[encoded data removed]",
      "text/plain": [
       "<Figure size 1080x144 with 1 Axes>"
      ]
     },
     "metadata": {
      "needs_background": "light"
     },
     "output_type": "display_data"
    }
   ],
   "source": [
    "#построим функцию boxplot для столбцов score, balance, est_salary\n",
    "def box(columns):\n",
    "    plt.figure(figsize=(15, 2))\n",
    "    sns.boxplot(data=data, x=columns)\n",
    "    plt.title (f\"Аномальные значения на {columns}\")\n",
    "    plt.ylabel('Количество клиентов')\n",
    "    plt.xlabel(f\"Числовые значения {columns}\")\n",
    "    plt.show()\n",
    "box('score')"
   ]
  },
  {
   "cell_type": "code",
   "execution_count": 32,
   "id": "f1b57b3b",
   "metadata": {},
   "outputs": [
    {
     "data": {
      "text/html": [
       "<div>\n",
       "<style scoped>\n",
       "    .dataframe tbody tr th:only-of-type {\n",
       "        vertical-align: middle;\n",
       "    }\n",
       "\n",
       "    .dataframe tbody tr th {\n",
       "        vertical-align: top;\n",
       "    }\n",
       "\n",
       "    .dataframe thead th {\n",
       "        text-align: right;\n",
       "    }\n",
       "</style>\n",
       "<table border=\"1\" class=\"dataframe\">\n",
       "  <thead>\n",
       "    <tr style=\"text-align: right;\">\n",
       "      <th></th>\n",
       "      <th>user_id</th>\n",
       "      <th>score</th>\n",
       "      <th>city</th>\n",
       "      <th>gender</th>\n",
       "      <th>age</th>\n",
       "      <th>equity</th>\n",
       "      <th>balance</th>\n",
       "      <th>products</th>\n",
       "      <th>credit_card</th>\n",
       "      <th>last_activity</th>\n",
       "      <th>est_salary</th>\n",
       "      <th>churn</th>\n",
       "    </tr>\n",
       "  </thead>\n",
       "  <tbody>\n",
       "    <tr>\n",
       "      <th>265</th>\n",
       "      <td>157448</td>\n",
       "      <td>649</td>\n",
       "      <td>Рыбинск</td>\n",
       "      <td>М</td>\n",
       "      <td>37</td>\n",
       "      <td>0</td>\n",
       "      <td>NaN</td>\n",
       "      <td>1</td>\n",
       "      <td>1</td>\n",
       "      <td>1</td>\n",
       "      <td>81942.85</td>\n",
       "      <td>0</td>\n",
       "    </tr>\n",
       "    <tr>\n",
       "      <th>533</th>\n",
       "      <td>146648</td>\n",
       "      <td>649</td>\n",
       "      <td>Ярославль</td>\n",
       "      <td>М</td>\n",
       "      <td>33</td>\n",
       "      <td>0</td>\n",
       "      <td>NaN</td>\n",
       "      <td>1</td>\n",
       "      <td>1</td>\n",
       "      <td>1</td>\n",
       "      <td>149318.49</td>\n",
       "      <td>0</td>\n",
       "    </tr>\n",
       "    <tr>\n",
       "      <th>921</th>\n",
       "      <td>179302</td>\n",
       "      <td>646</td>\n",
       "      <td>Ярославль</td>\n",
       "      <td>М</td>\n",
       "      <td>37</td>\n",
       "      <td>0</td>\n",
       "      <td>NaN</td>\n",
       "      <td>1</td>\n",
       "      <td>1</td>\n",
       "      <td>1</td>\n",
       "      <td>148297.71</td>\n",
       "      <td>0</td>\n",
       "    </tr>\n",
       "    <tr>\n",
       "      <th>2532</th>\n",
       "      <td>151179</td>\n",
       "      <td>642</td>\n",
       "      <td>Рыбинск</td>\n",
       "      <td>М</td>\n",
       "      <td>69</td>\n",
       "      <td>0</td>\n",
       "      <td>NaN</td>\n",
       "      <td>1</td>\n",
       "      <td>1</td>\n",
       "      <td>1</td>\n",
       "      <td>35917.41</td>\n",
       "      <td>0</td>\n",
       "    </tr>\n",
       "    <tr>\n",
       "      <th>3168</th>\n",
       "      <td>173067</td>\n",
       "      <td>649</td>\n",
       "      <td>Ярославль</td>\n",
       "      <td>М</td>\n",
       "      <td>46</td>\n",
       "      <td>0</td>\n",
       "      <td>NaN</td>\n",
       "      <td>1</td>\n",
       "      <td>1</td>\n",
       "      <td>1</td>\n",
       "      <td>121654.31</td>\n",
       "      <td>0</td>\n",
       "    </tr>\n",
       "    <tr>\n",
       "      <th>4071</th>\n",
       "      <td>164000</td>\n",
       "      <td>648</td>\n",
       "      <td>Ярославль</td>\n",
       "      <td>М</td>\n",
       "      <td>28</td>\n",
       "      <td>0</td>\n",
       "      <td>NaN</td>\n",
       "      <td>1</td>\n",
       "      <td>1</td>\n",
       "      <td>0</td>\n",
       "      <td>27790.15</td>\n",
       "      <td>0</td>\n",
       "    </tr>\n",
       "    <tr>\n",
       "      <th>4690</th>\n",
       "      <td>135725</td>\n",
       "      <td>648</td>\n",
       "      <td>Ярославль</td>\n",
       "      <td>Ж</td>\n",
       "      <td>59</td>\n",
       "      <td>0</td>\n",
       "      <td>NaN</td>\n",
       "      <td>1</td>\n",
       "      <td>1</td>\n",
       "      <td>1</td>\n",
       "      <td>50326.03</td>\n",
       "      <td>0</td>\n",
       "    </tr>\n",
       "    <tr>\n",
       "      <th>5131</th>\n",
       "      <td>213745</td>\n",
       "      <td>646</td>\n",
       "      <td>Рыбинск</td>\n",
       "      <td>Ж</td>\n",
       "      <td>25</td>\n",
       "      <td>0</td>\n",
       "      <td>NaN</td>\n",
       "      <td>2</td>\n",
       "      <td>1</td>\n",
       "      <td>0</td>\n",
       "      <td>60562.33</td>\n",
       "      <td>0</td>\n",
       "    </tr>\n",
       "    <tr>\n",
       "      <th>6454</th>\n",
       "      <td>169067</td>\n",
       "      <td>649</td>\n",
       "      <td>Ярославль</td>\n",
       "      <td>М</td>\n",
       "      <td>55</td>\n",
       "      <td>0</td>\n",
       "      <td>NaN</td>\n",
       "      <td>1</td>\n",
       "      <td>1</td>\n",
       "      <td>1</td>\n",
       "      <td>130672.40</td>\n",
       "      <td>0</td>\n",
       "    </tr>\n",
       "    <tr>\n",
       "      <th>6751</th>\n",
       "      <td>182172</td>\n",
       "      <td>649</td>\n",
       "      <td>Ярославль</td>\n",
       "      <td>М</td>\n",
       "      <td>38</td>\n",
       "      <td>0</td>\n",
       "      <td>NaN</td>\n",
       "      <td>1</td>\n",
       "      <td>1</td>\n",
       "      <td>1</td>\n",
       "      <td>170288.90</td>\n",
       "      <td>0</td>\n",
       "    </tr>\n",
       "    <tr>\n",
       "      <th>7066</th>\n",
       "      <td>187450</td>\n",
       "      <td>642</td>\n",
       "      <td>Ростов</td>\n",
       "      <td>Ж</td>\n",
       "      <td>64</td>\n",
       "      <td>0</td>\n",
       "      <td>NaN</td>\n",
       "      <td>1</td>\n",
       "      <td>1</td>\n",
       "      <td>0</td>\n",
       "      <td>26429.40</td>\n",
       "      <td>0</td>\n",
       "    </tr>\n",
       "    <tr>\n",
       "      <th>9329</th>\n",
       "      <td>196787</td>\n",
       "      <td>649</td>\n",
       "      <td>Ярославль</td>\n",
       "      <td>Ж</td>\n",
       "      <td>32</td>\n",
       "      <td>0</td>\n",
       "      <td>NaN</td>\n",
       "      <td>1</td>\n",
       "      <td>1</td>\n",
       "      <td>1</td>\n",
       "      <td>102880.16</td>\n",
       "      <td>0</td>\n",
       "    </tr>\n",
       "    <tr>\n",
       "      <th>9827</th>\n",
       "      <td>174930</td>\n",
       "      <td>649</td>\n",
       "      <td>Рыбинск</td>\n",
       "      <td>Ж</td>\n",
       "      <td>60</td>\n",
       "      <td>0</td>\n",
       "      <td>NaN</td>\n",
       "      <td>1</td>\n",
       "      <td>1</td>\n",
       "      <td>0</td>\n",
       "      <td>64781.16</td>\n",
       "      <td>0</td>\n",
       "    </tr>\n",
       "  </tbody>\n",
       "</table>\n",
       "</div>"
      ],
      "text/plain": [
       "      user_id  score       city gender  age  equity  balance  products  \\\n",
       "265    157448    649    Рыбинск      М   37       0      NaN         1   \n",
       "533    146648    649  Ярославль      М   33       0      NaN         1   \n",
       "921    179302    646  Ярославль      М   37       0      NaN         1   \n",
       "2532   151179    642    Рыбинск      М   69       0      NaN         1   \n",
       "3168   173067    649  Ярославль      М   46       0      NaN         1   \n",
       "4071   164000    648  Ярославль      М   28       0      NaN         1   \n",
       "4690   135725    648  Ярославль      Ж   59       0      NaN         1   \n",
       "5131   213745    646    Рыбинск      Ж   25       0      NaN         2   \n",
       "6454   169067    649  Ярославль      М   55       0      NaN         1   \n",
       "6751   182172    649  Ярославль      М   38       0      NaN         1   \n",
       "7066   187450    642     Ростов      Ж   64       0      NaN         1   \n",
       "9329   196787    649  Ярославль      Ж   32       0      NaN         1   \n",
       "9827   174930    649    Рыбинск      Ж   60       0      NaN         1   \n",
       "\n",
       "      credit_card  last_activity  est_salary  churn  \n",
       "265             1              1    81942.85      0  \n",
       "533             1              1   149318.49      0  \n",
       "921             1              1   148297.71      0  \n",
       "2532            1              1    35917.41      0  \n",
       "3168            1              1   121654.31      0  \n",
       "4071            1              0    27790.15      0  \n",
       "4690            1              1    50326.03      0  \n",
       "5131            1              0    60562.33      0  \n",
       "6454            1              1   130672.40      0  \n",
       "6751            1              1   170288.90      0  \n",
       "7066            1              0    26429.40      0  \n",
       "9329            1              1   102880.16      0  \n",
       "9827            1              0    64781.16      0  "
      ]
     },
     "metadata": {},
     "output_type": "display_data"
    }
   ],
   "source": [
    "display(data.query('score < 650'))"
   ]
  },
  {
   "cell_type": "code",
   "execution_count": 33,
   "id": "b30f97d8",
   "metadata": {},
   "outputs": [
    {
     "data": {
      "text/plain": [
       "13"
      ]
     },
     "execution_count": 33,
     "metadata": {},
     "output_type": "execute_result"
    }
   ],
   "source": [
    "data.query('score < 650')['user_id'].count()"
   ]
  },
  {
   "cell_type": "markdown",
   "id": "dac30f12",
   "metadata": {},
   "source": [
    "**В score были выбросы в зачениях меньше 650, таких клиентов 13, в среднем, чтобы кредит был одобрен значение скорингового балла должно быть не менее 600 баллов. Поэтому отсавим как есть, к тому же эти клиенты из оставшихся.**"
   ]
  },
  {
   "cell_type": "code",
   "execution_count": 34,
   "id": "6ab856ac",
   "metadata": {},
   "outputs": [
    {
     "data": {
      "image/png": "[encoded data removed]",
      "text/plain": [
       "<Figure size 1080x144 with 1 Axes>"
      ]
     },
     "metadata": {
      "needs_background": "light"
     },
     "output_type": "display_data"
    }
   ],
   "source": [
    "box('balance')"
   ]
  },
  {
   "cell_type": "code",
   "execution_count": 35,
   "id": "b02f63bb",
   "metadata": {},
   "outputs": [
    {
     "data": {
      "text/plain": [
       "array([2120139.6665, 3103551.728 , 4827291.1855])"
      ]
     },
     "metadata": {},
     "output_type": "display_data"
    }
   ],
   "source": [
    "import numpy as np\n",
    "display(np.nanpercentile(data['balance'], [95, 97.5, 99]))"
   ]
  },
  {
   "cell_type": "code",
   "execution_count": 36,
   "id": "3252ec76",
   "metadata": {},
   "outputs": [
    {
     "data": {
      "text/html": [
       "<div>\n",
       "<style scoped>\n",
       "    .dataframe tbody tr th:only-of-type {\n",
       "        vertical-align: middle;\n",
       "    }\n",
       "\n",
       "    .dataframe tbody tr th {\n",
       "        vertical-align: top;\n",
       "    }\n",
       "\n",
       "    .dataframe thead th {\n",
       "        text-align: right;\n",
       "    }\n",
       "</style>\n",
       "<table border=\"1\" class=\"dataframe\">\n",
       "  <thead>\n",
       "    <tr style=\"text-align: right;\">\n",
       "      <th></th>\n",
       "      <th>user_id</th>\n",
       "      <th>score</th>\n",
       "      <th>city</th>\n",
       "      <th>gender</th>\n",
       "      <th>age</th>\n",
       "      <th>equity</th>\n",
       "      <th>balance</th>\n",
       "      <th>products</th>\n",
       "      <th>credit_card</th>\n",
       "      <th>last_activity</th>\n",
       "      <th>est_salary</th>\n",
       "      <th>churn</th>\n",
       "    </tr>\n",
       "  </thead>\n",
       "  <tbody>\n",
       "    <tr>\n",
       "      <th>107</th>\n",
       "      <td>134358</td>\n",
       "      <td>985</td>\n",
       "      <td>Рыбинск</td>\n",
       "      <td>Ж</td>\n",
       "      <td>41</td>\n",
       "      <td>4</td>\n",
       "      <td>6749773.07</td>\n",
       "      <td>2</td>\n",
       "      <td>1</td>\n",
       "      <td>0</td>\n",
       "      <td>698013.27</td>\n",
       "      <td>0</td>\n",
       "    </tr>\n",
       "    <tr>\n",
       "      <th>125</th>\n",
       "      <td>227092</td>\n",
       "      <td>1000</td>\n",
       "      <td>Ярославль</td>\n",
       "      <td>М</td>\n",
       "      <td>32</td>\n",
       "      <td>5</td>\n",
       "      <td>19757180.85</td>\n",
       "      <td>2</td>\n",
       "      <td>1</td>\n",
       "      <td>1</td>\n",
       "      <td>1024626.50</td>\n",
       "      <td>0</td>\n",
       "    </tr>\n",
       "    <tr>\n",
       "      <th>143</th>\n",
       "      <td>198181</td>\n",
       "      <td>958</td>\n",
       "      <td>Ярославль</td>\n",
       "      <td>М</td>\n",
       "      <td>34</td>\n",
       "      <td>3</td>\n",
       "      <td>5763239.76</td>\n",
       "      <td>2</td>\n",
       "      <td>1</td>\n",
       "      <td>1</td>\n",
       "      <td>920730.06</td>\n",
       "      <td>1</td>\n",
       "    </tr>\n",
       "    <tr>\n",
       "      <th>248</th>\n",
       "      <td>180899</td>\n",
       "      <td>930</td>\n",
       "      <td>Ярославль</td>\n",
       "      <td>М</td>\n",
       "      <td>32</td>\n",
       "      <td>4</td>\n",
       "      <td>5527695.02</td>\n",
       "      <td>3</td>\n",
       "      <td>0</td>\n",
       "      <td>1</td>\n",
       "      <td>360963.15</td>\n",
       "      <td>0</td>\n",
       "    </tr>\n",
       "    <tr>\n",
       "      <th>324</th>\n",
       "      <td>221077</td>\n",
       "      <td>925</td>\n",
       "      <td>Ярославль</td>\n",
       "      <td>Ж</td>\n",
       "      <td>51</td>\n",
       "      <td>5</td>\n",
       "      <td>5049319.16</td>\n",
       "      <td>3</td>\n",
       "      <td>0</td>\n",
       "      <td>1</td>\n",
       "      <td>224310.01</td>\n",
       "      <td>0</td>\n",
       "    </tr>\n",
       "    <tr>\n",
       "      <th>...</th>\n",
       "      <td>...</td>\n",
       "      <td>...</td>\n",
       "      <td>...</td>\n",
       "      <td>...</td>\n",
       "      <td>...</td>\n",
       "      <td>...</td>\n",
       "      <td>...</td>\n",
       "      <td>...</td>\n",
       "      <td>...</td>\n",
       "      <td>...</td>\n",
       "      <td>...</td>\n",
       "      <td>...</td>\n",
       "    </tr>\n",
       "    <tr>\n",
       "      <th>8936</th>\n",
       "      <td>215126</td>\n",
       "      <td>914</td>\n",
       "      <td>Ярославль</td>\n",
       "      <td>М</td>\n",
       "      <td>39</td>\n",
       "      <td>4</td>\n",
       "      <td>7004446.61</td>\n",
       "      <td>3</td>\n",
       "      <td>0</td>\n",
       "      <td>1</td>\n",
       "      <td>891360.40</td>\n",
       "      <td>0</td>\n",
       "    </tr>\n",
       "    <tr>\n",
       "      <th>9082</th>\n",
       "      <td>159669</td>\n",
       "      <td>987</td>\n",
       "      <td>Ярославль</td>\n",
       "      <td>М</td>\n",
       "      <td>42</td>\n",
       "      <td>5</td>\n",
       "      <td>6071920.69</td>\n",
       "      <td>2</td>\n",
       "      <td>0</td>\n",
       "      <td>0</td>\n",
       "      <td>419911.64</td>\n",
       "      <td>0</td>\n",
       "    </tr>\n",
       "    <tr>\n",
       "      <th>9103</th>\n",
       "      <td>123965</td>\n",
       "      <td>939</td>\n",
       "      <td>Ярославль</td>\n",
       "      <td>М</td>\n",
       "      <td>34</td>\n",
       "      <td>5</td>\n",
       "      <td>9346657.08</td>\n",
       "      <td>1</td>\n",
       "      <td>1</td>\n",
       "      <td>1</td>\n",
       "      <td>1263028.49</td>\n",
       "      <td>1</td>\n",
       "    </tr>\n",
       "    <tr>\n",
       "      <th>9142</th>\n",
       "      <td>223934</td>\n",
       "      <td>969</td>\n",
       "      <td>Ярославль</td>\n",
       "      <td>М</td>\n",
       "      <td>39</td>\n",
       "      <td>3</td>\n",
       "      <td>14802129.74</td>\n",
       "      <td>1</td>\n",
       "      <td>1</td>\n",
       "      <td>0</td>\n",
       "      <td>766076.10</td>\n",
       "      <td>0</td>\n",
       "    </tr>\n",
       "    <tr>\n",
       "      <th>9753</th>\n",
       "      <td>122015</td>\n",
       "      <td>885</td>\n",
       "      <td>Ярославль</td>\n",
       "      <td>М</td>\n",
       "      <td>64</td>\n",
       "      <td>4</td>\n",
       "      <td>25727761.86</td>\n",
       "      <td>3</td>\n",
       "      <td>1</td>\n",
       "      <td>0</td>\n",
       "      <td>168746.90</td>\n",
       "      <td>0</td>\n",
       "    </tr>\n",
       "  </tbody>\n",
       "</table>\n",
       "<p>77 rows × 12 columns</p>\n",
       "</div>"
      ],
      "text/plain": [
       "      user_id  score       city gender  age  equity     balance  products  \\\n",
       "107    134358    985    Рыбинск      Ж   41       4  6749773.07         2   \n",
       "125    227092   1000  Ярославль      М   32       5 19757180.85         2   \n",
       "143    198181    958  Ярославль      М   34       3  5763239.76         2   \n",
       "248    180899    930  Ярославль      М   32       4  5527695.02         3   \n",
       "324    221077    925  Ярославль      Ж   51       5  5049319.16         3   \n",
       "...       ...    ...        ...    ...  ...     ...         ...       ...   \n",
       "8936   215126    914  Ярославль      М   39       4  7004446.61         3   \n",
       "9082   159669    987  Ярославль      М   42       5  6071920.69         2   \n",
       "9103   123965    939  Ярославль      М   34       5  9346657.08         1   \n",
       "9142   223934    969  Ярославль      М   39       3 14802129.74         1   \n",
       "9753   122015    885  Ярославль      М   64       4 25727761.86         3   \n",
       "\n",
       "      credit_card  last_activity  est_salary  churn  \n",
       "107             1              0   698013.27      0  \n",
       "125             1              1  1024626.50      0  \n",
       "143             1              1   920730.06      1  \n",
       "248             0              1   360963.15      0  \n",
       "324             0              1   224310.01      0  \n",
       "...           ...            ...         ...    ...  \n",
       "8936            0              1   891360.40      0  \n",
       "9082            0              0   419911.64      0  \n",
       "9103            1              1  1263028.49      1  \n",
       "9142            1              0   766076.10      0  \n",
       "9753            1              0   168746.90      0  \n",
       "\n",
       "[77 rows x 12 columns]"
      ]
     },
     "metadata": {},
     "output_type": "display_data"
    }
   ],
   "source": [
    "display(data.query('balance >= 4827291'))"
   ]
  },
  {
   "cell_type": "markdown",
   "id": "9d900bdf",
   "metadata": {},
   "source": [
    "**Получается, что у 77 клиентов баланс больше 4 млн. Посмотрим как это отразится на дальнейшем исследование. Удалить всегда успеем. Далее рассмотрим значения по зп**"
   ]
  },
  {
   "cell_type": "code",
   "execution_count": 37,
   "id": "e59734fb",
   "metadata": {},
   "outputs": [
    {
     "data": {
      "image/png": "[encoded data removed]",
      "text/plain": [
       "<Figure size 1080x144 with 1 Axes>"
      ]
     },
     "metadata": {
      "needs_background": "light"
     },
     "output_type": "display_data"
    }
   ],
   "source": [
    "box('est_salary')"
   ]
  },
  {
   "cell_type": "code",
   "execution_count": 38,
   "id": "bbd6a9a2",
   "metadata": {},
   "outputs": [
    {
     "data": {
      "text/plain": [
       "array([316818.7965    , 532275.59499999, 887381.7149    ])"
      ]
     },
     "metadata": {},
     "output_type": "display_data"
    }
   ],
   "source": [
    "#проверим перцентль на выское зачение зп\n",
    "display(np.percentile(data['est_salary'], [95, 97.5, 99]))"
   ]
  },
  {
   "cell_type": "code",
   "execution_count": 39,
   "id": "011dd55e",
   "metadata": {},
   "outputs": [
    {
     "name": "stdout",
     "output_type": "stream",
     "text": [
      "Количество клиентов с зп больше 887381: 100\n"
     ]
    }
   ],
   "source": [
    "print('Количество клиентов с зп больше 887381:', data.query('est_salary >= 887381')['user_id'].count())"
   ]
  },
  {
   "cell_type": "code",
   "execution_count": 40,
   "id": "bf2823ed",
   "metadata": {},
   "outputs": [
    {
     "data": {
      "text/plain": [
       "array([31972.909  , 24428.96575, 17326.0706 ])"
      ]
     },
     "metadata": {},
     "output_type": "display_data"
    }
   ],
   "source": [
    "#проверим перцентль на ниское зачение зп\n",
    "display(np.percentile(data['est_salary'], [5, 2.5, 1]))"
   ]
  },
  {
   "cell_type": "code",
   "execution_count": 41,
   "id": "6321e4fa",
   "metadata": {},
   "outputs": [
    {
     "name": "stdout",
     "output_type": "stream",
     "text": [
      "Количество клиентов с зп меньше 16242: 80\n"
     ]
    }
   ],
   "source": [
    "#посчитаем С 1 января 2023 года МРОТ в РФ - 16242 руб. (статья 1 Федерального закона от 19.06.2000 N 82-ФЗ)\n",
    "print('Количество клиентов с зп меньше 16242:', data.query('est_salary <= 16242')['user_id'].count())"
   ]
  },
  {
   "cell_type": "code",
   "execution_count": 42,
   "id": "e6d17c20",
   "metadata": {},
   "outputs": [],
   "source": [
    "#сохраним всех аномальных в отдельной переменной, а из основного удалим\n",
    "anomal=data.query('est_salary <= 16242 or est_salary >= 887381')"
   ]
  },
  {
   "cell_type": "code",
   "execution_count": 43,
   "id": "9180091c",
   "metadata": {},
   "outputs": [],
   "source": [
    "#удалим строки с выбросами:\n",
    "data = data[(data['est_salary']>16242)]"
   ]
  },
  {
   "cell_type": "code",
   "execution_count": 44,
   "id": "12abf231",
   "metadata": {},
   "outputs": [],
   "source": [
    "data = data[(data['est_salary']<=887381)]"
   ]
  },
  {
   "cell_type": "code",
   "execution_count": 45,
   "id": "ae38d6ea",
   "metadata": {},
   "outputs": [
    {
     "name": "stdout",
     "output_type": "stream",
     "text": [
      "<class 'pandas.core.frame.DataFrame'>\n",
      "Int64Index: 9744 entries, 0 to 9999\n",
      "Data columns (total 12 columns):\n",
      " #   Column         Non-Null Count  Dtype  \n",
      "---  ------         --------------  -----  \n",
      " 0   user_id        9744 non-null   int64  \n",
      " 1   score          9744 non-null   int64  \n",
      " 2   city           9744 non-null   object \n",
      " 3   gender         9744 non-null   object \n",
      " 4   age            9744 non-null   int64  \n",
      " 5   equity         9744 non-null   int64  \n",
      " 6   balance        7547 non-null   float64\n",
      " 7   products       9744 non-null   int64  \n",
      " 8   credit_card    9744 non-null   int64  \n",
      " 9   last_activity  9744 non-null   int64  \n",
      " 10  est_salary     9744 non-null   float64\n",
      " 11  churn          9744 non-null   int64  \n",
      "dtypes: float64(2), int64(8), object(2)\n",
      "memory usage: 989.6+ KB\n"
     ]
    }
   ],
   "source": [
    "data.info()"
   ]
  },
  {
   "cell_type": "markdown",
   "id": "fe29378b",
   "metadata": {},
   "source": [
    "\n",
    "<b>Вывод</b>    \n",
    "    \n",
    "На этапе предработки столбцам задали рабочий вид, поменяли тип на целочисленный у столбцов age (удалили 0.26% пропусков) и score. Явные дубликаты в датафрейме отсутсвуют. Но были найдены дубликаты в столбце user_id - 50, т.к их было меньше 1% от общего, то удалили их.\n",
    "    \n",
    "Обнаружили пропуски в столбце balance 22.85% от общего количества данных. При подробном изучение заметили, что пропуски есть у клиентов:\n",
    "- во всех городах, больше встречаются у клиентов из Ярославля - 63.98%,\n",
    "- чуть больше у мужчин - 55.81%,\n",
    "- у тех у кого отстувует собственность - 94.95%,\n",
    "- пользуются только 1им продуктом банка - 84.86%,\n",
    "- владеют кредитной картой - 81.53%,\n",
    "- чуть более активные - 54.89%,\n",
    "- и самое главное, только 13 (0.57%) из них ушли. \n",
    "\n",
    "В связи с тем, что взаимосвязь есть по многим параметрам, среднее или медиану не получится использовать. Поэтому сохраним значения NaN в балансе.\n",
    "\n",
    "Проверили столбцы на анамолии, в балансе пока решили сохранить, а по зп удалили из основного датасета, но сохранили в отдельной переменой на всякий случай. В изначальном датасете осталось 9744 записи."
   ]
  },
  {
   "cell_type": "markdown",
   "id": "cd725827",
   "metadata": {},
   "source": [
    "## Исследовательский анализ"
   ]
  },
  {
   "cell_type": "markdown",
   "id": "4ba199e8",
   "metadata": {},
   "source": [
    "### Распределение признаков отточности"
   ]
  },
  {
   "cell_type": "code",
   "execution_count": 46,
   "id": "ef8b425b",
   "metadata": {},
   "outputs": [
    {
     "data": {
      "image/png": "[encoded data removed]",
      "text/plain": [
       "<Figure size 720x576 with 1 Axes>"
      ]
     },
     "metadata": {},
     "output_type": "display_data"
    }
   ],
   "source": [
    "#определим общий уровень оттока по банку\n",
    "otok = data.groupby('churn').agg({'churn': 'count'})\n",
    "\n",
    "otok.plot(kind='pie', subplots=True, autopct='%1.1f%%',explode=[0.05, 0.05], figsize=(10,8))\n",
    "plt.title('Процент клиентов в разрезе оттока')\n",
    "plt.legend(['Остались', 'Ушли'])\n",
    "plt.show()"
   ]
  },
  {
   "cell_type": "markdown",
   "id": "43bc868b",
   "metadata": {},
   "source": [
    "**Получается, что 18.5% клиентов ушли, это достаточно выской показатель при такой группе, надо срочно принимать меры. Посмотрим ушедших в разрезе различных параметров.**"
   ]
  },
  {
   "cell_type": "markdown",
   "id": "645c178f",
   "metadata": {},
   "source": [
    "*Скоринговый балл – это показатель платежеспособности заемщика, выраженный в цифровом формате. Чем больше балл, тем выше вероятность одобрения заявки. Даже с нулевой кредитной историей заемщик будет иметь свой рейтинг.*"
   ]
  },
  {
   "cell_type": "code",
   "execution_count": 47,
   "id": "8a5a6111",
   "metadata": {},
   "outputs": [
    {
     "name": "stdout",
     "output_type": "stream",
     "text": [
      "<class 'pandas.core.frame.DataFrame'>\n",
      "Int64Index: 9744 entries, 0 to 9999\n",
      "Data columns (total 12 columns):\n",
      " #   Column         Non-Null Count  Dtype  \n",
      "---  ------         --------------  -----  \n",
      " 0   user_id        9744 non-null   int64  \n",
      " 1   score          9744 non-null   int64  \n",
      " 2   city           9744 non-null   object \n",
      " 3   gender         9744 non-null   object \n",
      " 4   age            9744 non-null   int64  \n",
      " 5   equity         9744 non-null   int64  \n",
      " 6   balance        7547 non-null   float64\n",
      " 7   products       9744 non-null   int64  \n",
      " 8   credit_card    9744 non-null   int64  \n",
      " 9   last_activity  9744 non-null   int64  \n",
      " 10  est_salary     9744 non-null   float64\n",
      " 11  churn          9744 non-null   int64  \n",
      "dtypes: float64(2), int64(8), object(2)\n",
      "memory usage: 989.6+ KB\n"
     ]
    }
   ],
   "source": [
    "data.info()"
   ]
  },
  {
   "cell_type": "markdown",
   "id": "8a164f9d",
   "metadata": {},
   "source": []
  },
  {
   "cell_type": "code",
   "execution_count": 48,
   "id": "ddc23642",
   "metadata": {},
   "outputs": [
    {
     "data": {
      "image/png": "[encoded data removed]",
      "text/plain": [
       "<Figure size 1080x720 with 1 Axes>"
      ]
     },
     "metadata": {
      "needs_background": "light"
     },
     "output_type": "display_data"
    }
   ],
   "source": [
    "#построим функцию гистограммы для сравнения параметров остался/ушел\n",
    "def graf(columns):\n",
    "    plt.figure(figsize=(15, 10))\n",
    "    sns.histplot(data=data, hue='churn', x=columns, stat='density', common_norm=False, palette=\"viridis\")\n",
    "    plt.title(f\"Распределение в разрезе ушел/остался по {columns}\")\n",
    "    plt.xlabel(f\"Числовые значения {columns}\")\n",
    "    plt.show()\n",
    "graf('score')"
   ]
  },
  {
   "cell_type": "markdown",
   "id": "7e5dc8fb",
   "metadata": {},
   "source": [
    "**Отток по баллам скоринга начинается с 720 и до 1000, т.е это те клиенты у которых хороший балл платежеспособности, а значит перспективные клиенты уплывают. Следует разбить по категориям и посчитать в процентном соотношение.**"
   ]
  },
  {
   "cell_type": "code",
   "execution_count": 49,
   "id": "8e173842",
   "metadata": {},
   "outputs": [],
   "source": [
    "# создадим функцию, которая разобьет по категориям скоринговый балл\n",
    "def sc_cat(data):\n",
    "    if (data['score'] >= 650 and data['score'] <= 769):\n",
    "        return 'Низкий балл'\n",
    "    elif (data['score'] >= 770 and data['score'] <= 940):\n",
    "        return 'Средний балл'\n",
    "    else:\n",
    "        return 'Высокий балл'"
   ]
  },
  {
   "cell_type": "code",
   "execution_count": 50,
   "id": "58432f6b",
   "metadata": {},
   "outputs": [
    {
     "data": {
      "text/html": [
       "<div>\n",
       "<style scoped>\n",
       "    .dataframe tbody tr th:only-of-type {\n",
       "        vertical-align: middle;\n",
       "    }\n",
       "\n",
       "    .dataframe tbody tr th {\n",
       "        vertical-align: top;\n",
       "    }\n",
       "\n",
       "    .dataframe thead th {\n",
       "        text-align: right;\n",
       "    }\n",
       "</style>\n",
       "<table border=\"1\" class=\"dataframe\">\n",
       "  <thead>\n",
       "    <tr style=\"text-align: right;\">\n",
       "      <th></th>\n",
       "      <th>user_id</th>\n",
       "      <th>score</th>\n",
       "      <th>city</th>\n",
       "      <th>gender</th>\n",
       "      <th>age</th>\n",
       "      <th>equity</th>\n",
       "      <th>balance</th>\n",
       "      <th>products</th>\n",
       "      <th>credit_card</th>\n",
       "      <th>last_activity</th>\n",
       "      <th>est_salary</th>\n",
       "      <th>churn</th>\n",
       "      <th>sc_category</th>\n",
       "    </tr>\n",
       "  </thead>\n",
       "  <tbody>\n",
       "    <tr>\n",
       "      <th>0</th>\n",
       "      <td>183012</td>\n",
       "      <td>850</td>\n",
       "      <td>Рыбинск</td>\n",
       "      <td>Ж</td>\n",
       "      <td>25</td>\n",
       "      <td>1</td>\n",
       "      <td>59214.82</td>\n",
       "      <td>2</td>\n",
       "      <td>0</td>\n",
       "      <td>1</td>\n",
       "      <td>75719.14</td>\n",
       "      <td>1</td>\n",
       "      <td>Средний балл</td>\n",
       "    </tr>\n",
       "    <tr>\n",
       "      <th>1</th>\n",
       "      <td>146556</td>\n",
       "      <td>861</td>\n",
       "      <td>Рыбинск</td>\n",
       "      <td>Ж</td>\n",
       "      <td>37</td>\n",
       "      <td>5</td>\n",
       "      <td>850594.33</td>\n",
       "      <td>3</td>\n",
       "      <td>1</td>\n",
       "      <td>0</td>\n",
       "      <td>86621.77</td>\n",
       "      <td>0</td>\n",
       "      <td>Средний балл</td>\n",
       "    </tr>\n",
       "    <tr>\n",
       "      <th>2</th>\n",
       "      <td>120722</td>\n",
       "      <td>892</td>\n",
       "      <td>Рыбинск</td>\n",
       "      <td>Ж</td>\n",
       "      <td>30</td>\n",
       "      <td>0</td>\n",
       "      <td>NaN</td>\n",
       "      <td>1</td>\n",
       "      <td>1</td>\n",
       "      <td>1</td>\n",
       "      <td>107683.34</td>\n",
       "      <td>0</td>\n",
       "      <td>Средний балл</td>\n",
       "    </tr>\n",
       "    <tr>\n",
       "      <th>3</th>\n",
       "      <td>225363</td>\n",
       "      <td>866</td>\n",
       "      <td>Ярославль</td>\n",
       "      <td>Ж</td>\n",
       "      <td>51</td>\n",
       "      <td>5</td>\n",
       "      <td>1524746.26</td>\n",
       "      <td>2</td>\n",
       "      <td>0</td>\n",
       "      <td>1</td>\n",
       "      <td>174423.53</td>\n",
       "      <td>1</td>\n",
       "      <td>Средний балл</td>\n",
       "    </tr>\n",
       "    <tr>\n",
       "      <th>4</th>\n",
       "      <td>157978</td>\n",
       "      <td>730</td>\n",
       "      <td>Ярославль</td>\n",
       "      <td>М</td>\n",
       "      <td>34</td>\n",
       "      <td>5</td>\n",
       "      <td>174.00</td>\n",
       "      <td>1</td>\n",
       "      <td>1</td>\n",
       "      <td>0</td>\n",
       "      <td>67353.16</td>\n",
       "      <td>1</td>\n",
       "      <td>Низкий балл</td>\n",
       "    </tr>\n",
       "    <tr>\n",
       "      <th>5</th>\n",
       "      <td>202305</td>\n",
       "      <td>856</td>\n",
       "      <td>Рыбинск</td>\n",
       "      <td>М</td>\n",
       "      <td>56</td>\n",
       "      <td>4</td>\n",
       "      <td>863687.24</td>\n",
       "      <td>3</td>\n",
       "      <td>1</td>\n",
       "      <td>0</td>\n",
       "      <td>156619.80</td>\n",
       "      <td>0</td>\n",
       "      <td>Средний балл</td>\n",
       "    </tr>\n",
       "    <tr>\n",
       "      <th>6</th>\n",
       "      <td>177259</td>\n",
       "      <td>807</td>\n",
       "      <td>Ярославль</td>\n",
       "      <td>Ж</td>\n",
       "      <td>39</td>\n",
       "      <td>3</td>\n",
       "      <td>405042.44</td>\n",
       "      <td>3</td>\n",
       "      <td>0</td>\n",
       "      <td>1</td>\n",
       "      <td>103838.32</td>\n",
       "      <td>0</td>\n",
       "      <td>Средний балл</td>\n",
       "    </tr>\n",
       "    <tr>\n",
       "      <th>7</th>\n",
       "      <td>218868</td>\n",
       "      <td>825</td>\n",
       "      <td>Ярославль</td>\n",
       "      <td>Ж</td>\n",
       "      <td>38</td>\n",
       "      <td>4</td>\n",
       "      <td>458145.40</td>\n",
       "      <td>2</td>\n",
       "      <td>1</td>\n",
       "      <td>1</td>\n",
       "      <td>68085.48</td>\n",
       "      <td>0</td>\n",
       "      <td>Средний балл</td>\n",
       "    </tr>\n",
       "    <tr>\n",
       "      <th>8</th>\n",
       "      <td>211686</td>\n",
       "      <td>923</td>\n",
       "      <td>Ярославль</td>\n",
       "      <td>М</td>\n",
       "      <td>54</td>\n",
       "      <td>5</td>\n",
       "      <td>1206337.87</td>\n",
       "      <td>2</td>\n",
       "      <td>1</td>\n",
       "      <td>0</td>\n",
       "      <td>155371.79</td>\n",
       "      <td>0</td>\n",
       "      <td>Средний балл</td>\n",
       "    </tr>\n",
       "    <tr>\n",
       "      <th>9</th>\n",
       "      <td>133130</td>\n",
       "      <td>906</td>\n",
       "      <td>Ярославль</td>\n",
       "      <td>Ж</td>\n",
       "      <td>67</td>\n",
       "      <td>0</td>\n",
       "      <td>NaN</td>\n",
       "      <td>1</td>\n",
       "      <td>0</td>\n",
       "      <td>1</td>\n",
       "      <td>238055.53</td>\n",
       "      <td>0</td>\n",
       "      <td>Средний балл</td>\n",
       "    </tr>\n",
       "  </tbody>\n",
       "</table>\n",
       "</div>"
      ],
      "text/plain": [
       "   user_id  score       city gender  age  equity    balance  products  \\\n",
       "0   183012    850    Рыбинск      Ж   25       1   59214.82         2   \n",
       "1   146556    861    Рыбинск      Ж   37       5  850594.33         3   \n",
       "2   120722    892    Рыбинск      Ж   30       0        NaN         1   \n",
       "3   225363    866  Ярославль      Ж   51       5 1524746.26         2   \n",
       "4   157978    730  Ярославль      М   34       5     174.00         1   \n",
       "5   202305    856    Рыбинск      М   56       4  863687.24         3   \n",
       "6   177259    807  Ярославль      Ж   39       3  405042.44         3   \n",
       "7   218868    825  Ярославль      Ж   38       4  458145.40         2   \n",
       "8   211686    923  Ярославль      М   54       5 1206337.87         2   \n",
       "9   133130    906  Ярославль      Ж   67       0        NaN         1   \n",
       "\n",
       "   credit_card  last_activity  est_salary  churn   sc_category  \n",
       "0            0              1    75719.14      1  Средний балл  \n",
       "1            1              0    86621.77      0  Средний балл  \n",
       "2            1              1   107683.34      0  Средний балл  \n",
       "3            0              1   174423.53      1  Средний балл  \n",
       "4            1              0    67353.16      1   Низкий балл  \n",
       "5            1              0   156619.80      0  Средний балл  \n",
       "6            0              1   103838.32      0  Средний балл  \n",
       "7            1              1    68085.48      0  Средний балл  \n",
       "8            1              0   155371.79      0  Средний балл  \n",
       "9            0              1   238055.53      0  Средний балл  "
      ]
     },
     "execution_count": 50,
     "metadata": {},
     "output_type": "execute_result"
    }
   ],
   "source": [
    "# создадим новый столбец и применим функцию к датафрейму\n",
    "data['sc_category'] = data.apply(sc_cat, axis=1)\n",
    "data.head(10)"
   ]
  },
  {
   "cell_type": "code",
   "execution_count": 51,
   "id": "686dfd2b",
   "metadata": {},
   "outputs": [
    {
     "data": {
      "text/html": [
       "<div>\n",
       "<style scoped>\n",
       "    .dataframe tbody tr th:only-of-type {\n",
       "        vertical-align: middle;\n",
       "    }\n",
       "\n",
       "    .dataframe tbody tr th {\n",
       "        vertical-align: top;\n",
       "    }\n",
       "\n",
       "    .dataframe thead th {\n",
       "        text-align: right;\n",
       "    }\n",
       "</style>\n",
       "<table border=\"1\" class=\"dataframe\">\n",
       "  <thead>\n",
       "    <tr style=\"text-align: right;\">\n",
       "      <th></th>\n",
       "      <th>sc_category</th>\n",
       "      <th>count</th>\n",
       "      <th>share</th>\n",
       "    </tr>\n",
       "  </thead>\n",
       "  <tbody>\n",
       "    <tr>\n",
       "      <th>0</th>\n",
       "      <td>Средний балл</td>\n",
       "      <td>1667</td>\n",
       "      <td>92.61</td>\n",
       "    </tr>\n",
       "    <tr>\n",
       "      <th>1</th>\n",
       "      <td>Высокий балл</td>\n",
       "      <td>76</td>\n",
       "      <td>4.22</td>\n",
       "    </tr>\n",
       "    <tr>\n",
       "      <th>2</th>\n",
       "      <td>Низкий балл</td>\n",
       "      <td>57</td>\n",
       "      <td>3.17</td>\n",
       "    </tr>\n",
       "  </tbody>\n",
       "</table>\n",
       "</div>"
      ],
      "text/plain": [
       "    sc_category  count  share\n",
       "0  Средний балл   1667  92.61\n",
       "1  Высокий балл     76   4.22\n",
       "2   Низкий балл     57   3.17"
      ]
     },
     "metadata": {},
     "output_type": "display_data"
    }
   ],
   "source": [
    "#создадим функцию считающую процент отточных клиентов по параметрам\n",
    "def ot_cat(columns):\n",
    "    q=data.query('churn == 1')\\\n",
    "             .groupby(columns)\\\n",
    "             .agg(count=(columns, 'count'))\\\n",
    "             .sort_values(by = 'count', ascending = False)\\\n",
    "             .reset_index() \n",
    "    q['share'] = round(q['count'] / (q['count'].sum())*100,2)\n",
    "    display(q)\n",
    "ot_cat('sc_category')"
   ]
  },
  {
   "cell_type": "markdown",
   "id": "913cc0cd",
   "metadata": {},
   "source": [
    "**Наивысший отток в группе Средний балл (от 770 до 940 баллов) практически 93%, наименьший отток в Низком балле (от 650 до 769) всего 3.17%**"
   ]
  },
  {
   "cell_type": "code",
   "execution_count": 52,
   "id": "9f88dcbe",
   "metadata": {},
   "outputs": [
    {
     "data": {
      "image/png": "[encoded data removed]",
      "text/plain": [
       "<Figure size 1080x720 with 1 Axes>"
      ]
     },
     "metadata": {
      "needs_background": "light"
     },
     "output_type": "display_data"
    }
   ],
   "source": [
    "#посмотрим на распределение по городам\n",
    "graf('city')"
   ]
  },
  {
   "cell_type": "code",
   "execution_count": 53,
   "id": "1d30c8cb",
   "metadata": {},
   "outputs": [
    {
     "data": {
      "text/html": [
       "<div>\n",
       "<style scoped>\n",
       "    .dataframe tbody tr th:only-of-type {\n",
       "        vertical-align: middle;\n",
       "    }\n",
       "\n",
       "    .dataframe tbody tr th {\n",
       "        vertical-align: top;\n",
       "    }\n",
       "\n",
       "    .dataframe thead th {\n",
       "        text-align: right;\n",
       "    }\n",
       "</style>\n",
       "<table border=\"1\" class=\"dataframe\">\n",
       "  <thead>\n",
       "    <tr style=\"text-align: right;\">\n",
       "      <th></th>\n",
       "      <th>city</th>\n",
       "      <th>count</th>\n",
       "      <th>share</th>\n",
       "    </tr>\n",
       "  </thead>\n",
       "  <tbody>\n",
       "    <tr>\n",
       "      <th>0</th>\n",
       "      <td>Ярославль</td>\n",
       "      <td>1103</td>\n",
       "      <td>61.28</td>\n",
       "    </tr>\n",
       "    <tr>\n",
       "      <th>1</th>\n",
       "      <td>Рыбинск</td>\n",
       "      <td>435</td>\n",
       "      <td>24.17</td>\n",
       "    </tr>\n",
       "    <tr>\n",
       "      <th>2</th>\n",
       "      <td>Ростов</td>\n",
       "      <td>262</td>\n",
       "      <td>14.56</td>\n",
       "    </tr>\n",
       "  </tbody>\n",
       "</table>\n",
       "</div>"
      ],
      "text/plain": [
       "        city  count  share\n",
       "0  Ярославль   1103  61.28\n",
       "1    Рыбинск    435  24.17\n",
       "2     Ростов    262  14.56"
      ]
     },
     "metadata": {},
     "output_type": "display_data"
    }
   ],
   "source": [
    "ot_cat('city')"
   ]
  },
  {
   "cell_type": "markdown",
   "id": "fcef8e25",
   "metadata": {},
   "source": [
    "**Есстественно наивысший отток по Ярославлю - 61,28%. т.к там изначально больше людей, но меньше в Ростове 14,56%**"
   ]
  },
  {
   "cell_type": "code",
   "execution_count": 54,
   "id": "624474a4",
   "metadata": {},
   "outputs": [
    {
     "data": {
      "image/png": "[encoded data removed]",
      "text/plain": [
       "<Figure size 1080x720 with 1 Axes>"
      ]
     },
     "metadata": {
      "needs_background": "light"
     },
     "output_type": "display_data"
    }
   ],
   "source": [
    "#посмотрим на распределение по полу\n",
    "graf('gender')"
   ]
  },
  {
   "cell_type": "code",
   "execution_count": 55,
   "id": "ce7c67f0",
   "metadata": {},
   "outputs": [
    {
     "data": {
      "text/html": [
       "<div>\n",
       "<style scoped>\n",
       "    .dataframe tbody tr th:only-of-type {\n",
       "        vertical-align: middle;\n",
       "    }\n",
       "\n",
       "    .dataframe tbody tr th {\n",
       "        vertical-align: top;\n",
       "    }\n",
       "\n",
       "    .dataframe thead th {\n",
       "        text-align: right;\n",
       "    }\n",
       "</style>\n",
       "<table border=\"1\" class=\"dataframe\">\n",
       "  <thead>\n",
       "    <tr style=\"text-align: right;\">\n",
       "      <th></th>\n",
       "      <th>gender</th>\n",
       "      <th>count</th>\n",
       "      <th>share</th>\n",
       "    </tr>\n",
       "  </thead>\n",
       "  <tbody>\n",
       "    <tr>\n",
       "      <th>0</th>\n",
       "      <td>М</td>\n",
       "      <td>1168</td>\n",
       "      <td>64.89</td>\n",
       "    </tr>\n",
       "    <tr>\n",
       "      <th>1</th>\n",
       "      <td>Ж</td>\n",
       "      <td>632</td>\n",
       "      <td>35.11</td>\n",
       "    </tr>\n",
       "  </tbody>\n",
       "</table>\n",
       "</div>"
      ],
      "text/plain": [
       "  gender  count  share\n",
       "0      М   1168  64.89\n",
       "1      Ж    632  35.11"
      ]
     },
     "metadata": {},
     "output_type": "display_data"
    }
   ],
   "source": [
    "ot_cat('gender')"
   ]
  },
  {
   "cell_type": "markdown",
   "id": "661d864e",
   "metadata": {},
   "source": [
    "**Отток больше среди мужчин - 65%, у женщин всего 35,11%**"
   ]
  },
  {
   "cell_type": "code",
   "execution_count": 56,
   "id": "6ef6ef94",
   "metadata": {},
   "outputs": [
    {
     "data": {
      "image/png": "[encoded data removed]",
      "text/plain": [
       "<Figure size 1080x720 with 1 Axes>"
      ]
     },
     "metadata": {
      "needs_background": "light"
     },
     "output_type": "display_data"
    }
   ],
   "source": [
    "#посмотрим на распределение по возрасту\n",
    "graf('age')"
   ]
  },
  {
   "cell_type": "code",
   "execution_count": 57,
   "id": "7edae84b",
   "metadata": {},
   "outputs": [],
   "source": [
    "# создадим функцию, которая разобьет по категориям возраст\n",
    "def age_cat(data):\n",
    "    if (data['age'] >= 18 and data['age'] <= 28):\n",
    "        return '18-28'\n",
    "    elif (data['age'] >= 29 and data['age'] <= 45):\n",
    "        return '29-45'\n",
    "    elif (data['age'] >= 46 and data['age'] <= 61):\n",
    "        return '46-61'\n",
    "    else:\n",
    "        return '62+'"
   ]
  },
  {
   "cell_type": "code",
   "execution_count": 58,
   "id": "a4eac837",
   "metadata": {},
   "outputs": [
    {
     "data": {
      "text/html": [
       "<div>\n",
       "<style scoped>\n",
       "    .dataframe tbody tr th:only-of-type {\n",
       "        vertical-align: middle;\n",
       "    }\n",
       "\n",
       "    .dataframe tbody tr th {\n",
       "        vertical-align: top;\n",
       "    }\n",
       "\n",
       "    .dataframe thead th {\n",
       "        text-align: right;\n",
       "    }\n",
       "</style>\n",
       "<table border=\"1\" class=\"dataframe\">\n",
       "  <thead>\n",
       "    <tr style=\"text-align: right;\">\n",
       "      <th></th>\n",
       "      <th>user_id</th>\n",
       "      <th>score</th>\n",
       "      <th>city</th>\n",
       "      <th>gender</th>\n",
       "      <th>age</th>\n",
       "      <th>equity</th>\n",
       "      <th>balance</th>\n",
       "      <th>products</th>\n",
       "      <th>credit_card</th>\n",
       "      <th>last_activity</th>\n",
       "      <th>est_salary</th>\n",
       "      <th>churn</th>\n",
       "      <th>sc_category</th>\n",
       "      <th>age_category</th>\n",
       "    </tr>\n",
       "  </thead>\n",
       "  <tbody>\n",
       "    <tr>\n",
       "      <th>0</th>\n",
       "      <td>183012</td>\n",
       "      <td>850</td>\n",
       "      <td>Рыбинск</td>\n",
       "      <td>Ж</td>\n",
       "      <td>25</td>\n",
       "      <td>1</td>\n",
       "      <td>59214.82</td>\n",
       "      <td>2</td>\n",
       "      <td>0</td>\n",
       "      <td>1</td>\n",
       "      <td>75719.14</td>\n",
       "      <td>1</td>\n",
       "      <td>Средний балл</td>\n",
       "      <td>18-28</td>\n",
       "    </tr>\n",
       "    <tr>\n",
       "      <th>1</th>\n",
       "      <td>146556</td>\n",
       "      <td>861</td>\n",
       "      <td>Рыбинск</td>\n",
       "      <td>Ж</td>\n",
       "      <td>37</td>\n",
       "      <td>5</td>\n",
       "      <td>850594.33</td>\n",
       "      <td>3</td>\n",
       "      <td>1</td>\n",
       "      <td>0</td>\n",
       "      <td>86621.77</td>\n",
       "      <td>0</td>\n",
       "      <td>Средний балл</td>\n",
       "      <td>29-45</td>\n",
       "    </tr>\n",
       "    <tr>\n",
       "      <th>2</th>\n",
       "      <td>120722</td>\n",
       "      <td>892</td>\n",
       "      <td>Рыбинск</td>\n",
       "      <td>Ж</td>\n",
       "      <td>30</td>\n",
       "      <td>0</td>\n",
       "      <td>NaN</td>\n",
       "      <td>1</td>\n",
       "      <td>1</td>\n",
       "      <td>1</td>\n",
       "      <td>107683.34</td>\n",
       "      <td>0</td>\n",
       "      <td>Средний балл</td>\n",
       "      <td>29-45</td>\n",
       "    </tr>\n",
       "    <tr>\n",
       "      <th>3</th>\n",
       "      <td>225363</td>\n",
       "      <td>866</td>\n",
       "      <td>Ярославль</td>\n",
       "      <td>Ж</td>\n",
       "      <td>51</td>\n",
       "      <td>5</td>\n",
       "      <td>1524746.26</td>\n",
       "      <td>2</td>\n",
       "      <td>0</td>\n",
       "      <td>1</td>\n",
       "      <td>174423.53</td>\n",
       "      <td>1</td>\n",
       "      <td>Средний балл</td>\n",
       "      <td>46-61</td>\n",
       "    </tr>\n",
       "    <tr>\n",
       "      <th>4</th>\n",
       "      <td>157978</td>\n",
       "      <td>730</td>\n",
       "      <td>Ярославль</td>\n",
       "      <td>М</td>\n",
       "      <td>34</td>\n",
       "      <td>5</td>\n",
       "      <td>174.00</td>\n",
       "      <td>1</td>\n",
       "      <td>1</td>\n",
       "      <td>0</td>\n",
       "      <td>67353.16</td>\n",
       "      <td>1</td>\n",
       "      <td>Низкий балл</td>\n",
       "      <td>29-45</td>\n",
       "    </tr>\n",
       "    <tr>\n",
       "      <th>5</th>\n",
       "      <td>202305</td>\n",
       "      <td>856</td>\n",
       "      <td>Рыбинск</td>\n",
       "      <td>М</td>\n",
       "      <td>56</td>\n",
       "      <td>4</td>\n",
       "      <td>863687.24</td>\n",
       "      <td>3</td>\n",
       "      <td>1</td>\n",
       "      <td>0</td>\n",
       "      <td>156619.80</td>\n",
       "      <td>0</td>\n",
       "      <td>Средний балл</td>\n",
       "      <td>46-61</td>\n",
       "    </tr>\n",
       "    <tr>\n",
       "      <th>6</th>\n",
       "      <td>177259</td>\n",
       "      <td>807</td>\n",
       "      <td>Ярославль</td>\n",
       "      <td>Ж</td>\n",
       "      <td>39</td>\n",
       "      <td>3</td>\n",
       "      <td>405042.44</td>\n",
       "      <td>3</td>\n",
       "      <td>0</td>\n",
       "      <td>1</td>\n",
       "      <td>103838.32</td>\n",
       "      <td>0</td>\n",
       "      <td>Средний балл</td>\n",
       "      <td>29-45</td>\n",
       "    </tr>\n",
       "    <tr>\n",
       "      <th>7</th>\n",
       "      <td>218868</td>\n",
       "      <td>825</td>\n",
       "      <td>Ярославль</td>\n",
       "      <td>Ж</td>\n",
       "      <td>38</td>\n",
       "      <td>4</td>\n",
       "      <td>458145.40</td>\n",
       "      <td>2</td>\n",
       "      <td>1</td>\n",
       "      <td>1</td>\n",
       "      <td>68085.48</td>\n",
       "      <td>0</td>\n",
       "      <td>Средний балл</td>\n",
       "      <td>29-45</td>\n",
       "    </tr>\n",
       "    <tr>\n",
       "      <th>8</th>\n",
       "      <td>211686</td>\n",
       "      <td>923</td>\n",
       "      <td>Ярославль</td>\n",
       "      <td>М</td>\n",
       "      <td>54</td>\n",
       "      <td>5</td>\n",
       "      <td>1206337.87</td>\n",
       "      <td>2</td>\n",
       "      <td>1</td>\n",
       "      <td>0</td>\n",
       "      <td>155371.79</td>\n",
       "      <td>0</td>\n",
       "      <td>Средний балл</td>\n",
       "      <td>46-61</td>\n",
       "    </tr>\n",
       "    <tr>\n",
       "      <th>9</th>\n",
       "      <td>133130</td>\n",
       "      <td>906</td>\n",
       "      <td>Ярославль</td>\n",
       "      <td>Ж</td>\n",
       "      <td>67</td>\n",
       "      <td>0</td>\n",
       "      <td>NaN</td>\n",
       "      <td>1</td>\n",
       "      <td>0</td>\n",
       "      <td>1</td>\n",
       "      <td>238055.53</td>\n",
       "      <td>0</td>\n",
       "      <td>Средний балл</td>\n",
       "      <td>62+</td>\n",
       "    </tr>\n",
       "  </tbody>\n",
       "</table>\n",
       "</div>"
      ],
      "text/plain": [
       "   user_id  score       city gender  age  equity    balance  products  \\\n",
       "0   183012    850    Рыбинск      Ж   25       1   59214.82         2   \n",
       "1   146556    861    Рыбинск      Ж   37       5  850594.33         3   \n",
       "2   120722    892    Рыбинск      Ж   30       0        NaN         1   \n",
       "3   225363    866  Ярославль      Ж   51       5 1524746.26         2   \n",
       "4   157978    730  Ярославль      М   34       5     174.00         1   \n",
       "5   202305    856    Рыбинск      М   56       4  863687.24         3   \n",
       "6   177259    807  Ярославль      Ж   39       3  405042.44         3   \n",
       "7   218868    825  Ярославль      Ж   38       4  458145.40         2   \n",
       "8   211686    923  Ярославль      М   54       5 1206337.87         2   \n",
       "9   133130    906  Ярославль      Ж   67       0        NaN         1   \n",
       "\n",
       "   credit_card  last_activity  est_salary  churn   sc_category age_category  \n",
       "0            0              1    75719.14      1  Средний балл        18-28  \n",
       "1            1              0    86621.77      0  Средний балл        29-45  \n",
       "2            1              1   107683.34      0  Средний балл        29-45  \n",
       "3            0              1   174423.53      1  Средний балл        46-61  \n",
       "4            1              0    67353.16      1   Низкий балл        29-45  \n",
       "5            1              0   156619.80      0  Средний балл        46-61  \n",
       "6            0              1   103838.32      0  Средний балл        29-45  \n",
       "7            1              1    68085.48      0  Средний балл        29-45  \n",
       "8            1              0   155371.79      0  Средний балл        46-61  \n",
       "9            0              1   238055.53      0  Средний балл          62+  "
      ]
     },
     "execution_count": 58,
     "metadata": {},
     "output_type": "execute_result"
    }
   ],
   "source": [
    "# создадим новый столбец и применим функцию к датафрейму\n",
    "data['age_category'] = data.apply(age_cat, axis=1)\n",
    "data.head(10)"
   ]
  },
  {
   "cell_type": "code",
   "execution_count": 59,
   "id": "3a7e9343",
   "metadata": {},
   "outputs": [
    {
     "data": {
      "text/html": [
       "<div>\n",
       "<style scoped>\n",
       "    .dataframe tbody tr th:only-of-type {\n",
       "        vertical-align: middle;\n",
       "    }\n",
       "\n",
       "    .dataframe tbody tr th {\n",
       "        vertical-align: top;\n",
       "    }\n",
       "\n",
       "    .dataframe thead th {\n",
       "        text-align: right;\n",
       "    }\n",
       "</style>\n",
       "<table border=\"1\" class=\"dataframe\">\n",
       "  <thead>\n",
       "    <tr style=\"text-align: right;\">\n",
       "      <th></th>\n",
       "      <th>age_category</th>\n",
       "      <th>count</th>\n",
       "      <th>share</th>\n",
       "    </tr>\n",
       "  </thead>\n",
       "  <tbody>\n",
       "    <tr>\n",
       "      <th>0</th>\n",
       "      <td>29-45</td>\n",
       "      <td>959</td>\n",
       "      <td>53.28</td>\n",
       "    </tr>\n",
       "    <tr>\n",
       "      <th>1</th>\n",
       "      <td>46-61</td>\n",
       "      <td>592</td>\n",
       "      <td>32.89</td>\n",
       "    </tr>\n",
       "    <tr>\n",
       "      <th>2</th>\n",
       "      <td>18-28</td>\n",
       "      <td>200</td>\n",
       "      <td>11.11</td>\n",
       "    </tr>\n",
       "    <tr>\n",
       "      <th>3</th>\n",
       "      <td>62+</td>\n",
       "      <td>49</td>\n",
       "      <td>2.72</td>\n",
       "    </tr>\n",
       "  </tbody>\n",
       "</table>\n",
       "</div>"
      ],
      "text/plain": [
       "  age_category  count  share\n",
       "0        29-45    959  53.28\n",
       "1        46-61    592  32.89\n",
       "2        18-28    200  11.11\n",
       "3          62+     49   2.72"
      ]
     },
     "metadata": {},
     "output_type": "display_data"
    }
   ],
   "source": [
    "ot_cat('age_category')"
   ]
  },
  {
   "cell_type": "markdown",
   "id": "9fe7e639",
   "metadata": {},
   "source": [
    "**Отток больше среди клиентов возрастной группы 29-45 (основной платежеспособный возраст) - 53,28%. Меньше всего в 62+ - 3%**"
   ]
  },
  {
   "cell_type": "code",
   "execution_count": 60,
   "id": "042789a5",
   "metadata": {},
   "outputs": [
    {
     "data": {
      "image/png": "[encoded data removed]",
      "text/plain": [
       "<Figure size 1080x720 with 1 Axes>"
      ]
     },
     "metadata": {
      "needs_background": "light"
     },
     "output_type": "display_data"
    }
   ],
   "source": [
    "#посмотрим на распределение по возрасту\n",
    "graf('equity')"
   ]
  },
  {
   "cell_type": "code",
   "execution_count": 61,
   "id": "0c0d717f",
   "metadata": {},
   "outputs": [],
   "source": [
    "# создадим функцию, которая разобьет по категориям собственность\n",
    "def eq_cat(data):\n",
    "    if (data['equity'] == 0):\n",
    "        return 'нет собственности'\n",
    "    elif (data['equity'] >= 1 and data['equity'] <= 4):\n",
    "        return '1-4'\n",
    "    else:\n",
    "        return '5-9'"
   ]
  },
  {
   "cell_type": "code",
   "execution_count": 62,
   "id": "01b83315",
   "metadata": {},
   "outputs": [
    {
     "data": {
      "text/html": [
       "<div>\n",
       "<style scoped>\n",
       "    .dataframe tbody tr th:only-of-type {\n",
       "        vertical-align: middle;\n",
       "    }\n",
       "\n",
       "    .dataframe tbody tr th {\n",
       "        vertical-align: top;\n",
       "    }\n",
       "\n",
       "    .dataframe thead th {\n",
       "        text-align: right;\n",
       "    }\n",
       "</style>\n",
       "<table border=\"1\" class=\"dataframe\">\n",
       "  <thead>\n",
       "    <tr style=\"text-align: right;\">\n",
       "      <th></th>\n",
       "      <th>user_id</th>\n",
       "      <th>score</th>\n",
       "      <th>city</th>\n",
       "      <th>gender</th>\n",
       "      <th>age</th>\n",
       "      <th>equity</th>\n",
       "      <th>balance</th>\n",
       "      <th>products</th>\n",
       "      <th>credit_card</th>\n",
       "      <th>last_activity</th>\n",
       "      <th>est_salary</th>\n",
       "      <th>churn</th>\n",
       "      <th>sc_category</th>\n",
       "      <th>age_category</th>\n",
       "      <th>eq_category</th>\n",
       "    </tr>\n",
       "  </thead>\n",
       "  <tbody>\n",
       "    <tr>\n",
       "      <th>0</th>\n",
       "      <td>183012</td>\n",
       "      <td>850</td>\n",
       "      <td>Рыбинск</td>\n",
       "      <td>Ж</td>\n",
       "      <td>25</td>\n",
       "      <td>1</td>\n",
       "      <td>59214.82</td>\n",
       "      <td>2</td>\n",
       "      <td>0</td>\n",
       "      <td>1</td>\n",
       "      <td>75719.14</td>\n",
       "      <td>1</td>\n",
       "      <td>Средний балл</td>\n",
       "      <td>18-28</td>\n",
       "      <td>1-4</td>\n",
       "    </tr>\n",
       "    <tr>\n",
       "      <th>1</th>\n",
       "      <td>146556</td>\n",
       "      <td>861</td>\n",
       "      <td>Рыбинск</td>\n",
       "      <td>Ж</td>\n",
       "      <td>37</td>\n",
       "      <td>5</td>\n",
       "      <td>850594.33</td>\n",
       "      <td>3</td>\n",
       "      <td>1</td>\n",
       "      <td>0</td>\n",
       "      <td>86621.77</td>\n",
       "      <td>0</td>\n",
       "      <td>Средний балл</td>\n",
       "      <td>29-45</td>\n",
       "      <td>5-9</td>\n",
       "    </tr>\n",
       "    <tr>\n",
       "      <th>2</th>\n",
       "      <td>120722</td>\n",
       "      <td>892</td>\n",
       "      <td>Рыбинск</td>\n",
       "      <td>Ж</td>\n",
       "      <td>30</td>\n",
       "      <td>0</td>\n",
       "      <td>NaN</td>\n",
       "      <td>1</td>\n",
       "      <td>1</td>\n",
       "      <td>1</td>\n",
       "      <td>107683.34</td>\n",
       "      <td>0</td>\n",
       "      <td>Средний балл</td>\n",
       "      <td>29-45</td>\n",
       "      <td>нет собственности</td>\n",
       "    </tr>\n",
       "    <tr>\n",
       "      <th>3</th>\n",
       "      <td>225363</td>\n",
       "      <td>866</td>\n",
       "      <td>Ярославль</td>\n",
       "      <td>Ж</td>\n",
       "      <td>51</td>\n",
       "      <td>5</td>\n",
       "      <td>1524746.26</td>\n",
       "      <td>2</td>\n",
       "      <td>0</td>\n",
       "      <td>1</td>\n",
       "      <td>174423.53</td>\n",
       "      <td>1</td>\n",
       "      <td>Средний балл</td>\n",
       "      <td>46-61</td>\n",
       "      <td>5-9</td>\n",
       "    </tr>\n",
       "    <tr>\n",
       "      <th>4</th>\n",
       "      <td>157978</td>\n",
       "      <td>730</td>\n",
       "      <td>Ярославль</td>\n",
       "      <td>М</td>\n",
       "      <td>34</td>\n",
       "      <td>5</td>\n",
       "      <td>174.00</td>\n",
       "      <td>1</td>\n",
       "      <td>1</td>\n",
       "      <td>0</td>\n",
       "      <td>67353.16</td>\n",
       "      <td>1</td>\n",
       "      <td>Низкий балл</td>\n",
       "      <td>29-45</td>\n",
       "      <td>5-9</td>\n",
       "    </tr>\n",
       "    <tr>\n",
       "      <th>5</th>\n",
       "      <td>202305</td>\n",
       "      <td>856</td>\n",
       "      <td>Рыбинск</td>\n",
       "      <td>М</td>\n",
       "      <td>56</td>\n",
       "      <td>4</td>\n",
       "      <td>863687.24</td>\n",
       "      <td>3</td>\n",
       "      <td>1</td>\n",
       "      <td>0</td>\n",
       "      <td>156619.80</td>\n",
       "      <td>0</td>\n",
       "      <td>Средний балл</td>\n",
       "      <td>46-61</td>\n",
       "      <td>1-4</td>\n",
       "    </tr>\n",
       "    <tr>\n",
       "      <th>6</th>\n",
       "      <td>177259</td>\n",
       "      <td>807</td>\n",
       "      <td>Ярославль</td>\n",
       "      <td>Ж</td>\n",
       "      <td>39</td>\n",
       "      <td>3</td>\n",
       "      <td>405042.44</td>\n",
       "      <td>3</td>\n",
       "      <td>0</td>\n",
       "      <td>1</td>\n",
       "      <td>103838.32</td>\n",
       "      <td>0</td>\n",
       "      <td>Средний балл</td>\n",
       "      <td>29-45</td>\n",
       "      <td>1-4</td>\n",
       "    </tr>\n",
       "    <tr>\n",
       "      <th>7</th>\n",
       "      <td>218868</td>\n",
       "      <td>825</td>\n",
       "      <td>Ярославль</td>\n",
       "      <td>Ж</td>\n",
       "      <td>38</td>\n",
       "      <td>4</td>\n",
       "      <td>458145.40</td>\n",
       "      <td>2</td>\n",
       "      <td>1</td>\n",
       "      <td>1</td>\n",
       "      <td>68085.48</td>\n",
       "      <td>0</td>\n",
       "      <td>Средний балл</td>\n",
       "      <td>29-45</td>\n",
       "      <td>1-4</td>\n",
       "    </tr>\n",
       "    <tr>\n",
       "      <th>8</th>\n",
       "      <td>211686</td>\n",
       "      <td>923</td>\n",
       "      <td>Ярославль</td>\n",
       "      <td>М</td>\n",
       "      <td>54</td>\n",
       "      <td>5</td>\n",
       "      <td>1206337.87</td>\n",
       "      <td>2</td>\n",
       "      <td>1</td>\n",
       "      <td>0</td>\n",
       "      <td>155371.79</td>\n",
       "      <td>0</td>\n",
       "      <td>Средний балл</td>\n",
       "      <td>46-61</td>\n",
       "      <td>5-9</td>\n",
       "    </tr>\n",
       "    <tr>\n",
       "      <th>9</th>\n",
       "      <td>133130</td>\n",
       "      <td>906</td>\n",
       "      <td>Ярославль</td>\n",
       "      <td>Ж</td>\n",
       "      <td>67</td>\n",
       "      <td>0</td>\n",
       "      <td>NaN</td>\n",
       "      <td>1</td>\n",
       "      <td>0</td>\n",
       "      <td>1</td>\n",
       "      <td>238055.53</td>\n",
       "      <td>0</td>\n",
       "      <td>Средний балл</td>\n",
       "      <td>62+</td>\n",
       "      <td>нет собственности</td>\n",
       "    </tr>\n",
       "  </tbody>\n",
       "</table>\n",
       "</div>"
      ],
      "text/plain": [
       "   user_id  score       city gender  age  equity    balance  products  \\\n",
       "0   183012    850    Рыбинск      Ж   25       1   59214.82         2   \n",
       "1   146556    861    Рыбинск      Ж   37       5  850594.33         3   \n",
       "2   120722    892    Рыбинск      Ж   30       0        NaN         1   \n",
       "3   225363    866  Ярославль      Ж   51       5 1524746.26         2   \n",
       "4   157978    730  Ярославль      М   34       5     174.00         1   \n",
       "5   202305    856    Рыбинск      М   56       4  863687.24         3   \n",
       "6   177259    807  Ярославль      Ж   39       3  405042.44         3   \n",
       "7   218868    825  Ярославль      Ж   38       4  458145.40         2   \n",
       "8   211686    923  Ярославль      М   54       5 1206337.87         2   \n",
       "9   133130    906  Ярославль      Ж   67       0        NaN         1   \n",
       "\n",
       "   credit_card  last_activity  est_salary  churn   sc_category age_category  \\\n",
       "0            0              1    75719.14      1  Средний балл        18-28   \n",
       "1            1              0    86621.77      0  Средний балл        29-45   \n",
       "2            1              1   107683.34      0  Средний балл        29-45   \n",
       "3            0              1   174423.53      1  Средний балл        46-61   \n",
       "4            1              0    67353.16      1   Низкий балл        29-45   \n",
       "5            1              0   156619.80      0  Средний балл        46-61   \n",
       "6            0              1   103838.32      0  Средний балл        29-45   \n",
       "7            1              1    68085.48      0  Средний балл        29-45   \n",
       "8            1              0   155371.79      0  Средний балл        46-61   \n",
       "9            0              1   238055.53      0  Средний балл          62+   \n",
       "\n",
       "         eq_category  \n",
       "0                1-4  \n",
       "1                5-9  \n",
       "2  нет собственности  \n",
       "3                5-9  \n",
       "4                5-9  \n",
       "5                1-4  \n",
       "6                1-4  \n",
       "7                1-4  \n",
       "8                5-9  \n",
       "9  нет собственности  "
      ]
     },
     "execution_count": 62,
     "metadata": {},
     "output_type": "execute_result"
    }
   ],
   "source": [
    "# создадим новый столбец и применим функцию к датафрейму\n",
    "data['eq_category'] = data.apply(eq_cat, axis=1)\n",
    "data.head(10)"
   ]
  },
  {
   "cell_type": "code",
   "execution_count": 63,
   "id": "33c14596",
   "metadata": {},
   "outputs": [
    {
     "data": {
      "text/html": [
       "<div>\n",
       "<style scoped>\n",
       "    .dataframe tbody tr th:only-of-type {\n",
       "        vertical-align: middle;\n",
       "    }\n",
       "\n",
       "    .dataframe tbody tr th {\n",
       "        vertical-align: top;\n",
       "    }\n",
       "\n",
       "    .dataframe thead th {\n",
       "        text-align: right;\n",
       "    }\n",
       "</style>\n",
       "<table border=\"1\" class=\"dataframe\">\n",
       "  <thead>\n",
       "    <tr style=\"text-align: right;\">\n",
       "      <th></th>\n",
       "      <th>eq_category</th>\n",
       "      <th>count</th>\n",
       "      <th>share</th>\n",
       "    </tr>\n",
       "  </thead>\n",
       "  <tbody>\n",
       "    <tr>\n",
       "      <th>0</th>\n",
       "      <td>1-4</td>\n",
       "      <td>1037</td>\n",
       "      <td>57.61</td>\n",
       "    </tr>\n",
       "    <tr>\n",
       "      <th>1</th>\n",
       "      <td>5-9</td>\n",
       "      <td>675</td>\n",
       "      <td>37.50</td>\n",
       "    </tr>\n",
       "    <tr>\n",
       "      <th>2</th>\n",
       "      <td>нет собственности</td>\n",
       "      <td>88</td>\n",
       "      <td>4.89</td>\n",
       "    </tr>\n",
       "  </tbody>\n",
       "</table>\n",
       "</div>"
      ],
      "text/plain": [
       "         eq_category  count  share\n",
       "0                1-4   1037  57.61\n",
       "1                5-9    675  37.50\n",
       "2  нет собственности     88   4.89"
      ]
     },
     "metadata": {},
     "output_type": "display_data"
    }
   ],
   "source": [
    "ot_cat('eq_category')"
   ]
  },
  {
   "cell_type": "markdown",
   "id": "28329eb7",
   "metadata": {},
   "source": [
    "**Отток больше среди клиентов владеющих 1-4 собственностью -58%, меньше у не владеющих 5%**"
   ]
  },
  {
   "cell_type": "code",
   "execution_count": 64,
   "id": "90eae0c4",
   "metadata": {},
   "outputs": [
    {
     "data": {
      "image/png": "[encoded data removed]",
      "text/plain": [
       "<Figure size 1080x720 with 1 Axes>"
      ]
     },
     "metadata": {
      "needs_background": "light"
     },
     "output_type": "display_data"
    }
   ],
   "source": [
    "#посмотрим на распределение по возрасту\n",
    "graf('balance')"
   ]
  },
  {
   "cell_type": "code",
   "execution_count": 65,
   "id": "890e62e3",
   "metadata": {},
   "outputs": [],
   "source": [
    "zx=data.query('balance<4000000')"
   ]
  },
  {
   "cell_type": "code",
   "execution_count": 66,
   "id": "fce0b2e9",
   "metadata": {},
   "outputs": [
    {
     "data": {
      "image/png": "[encoded data removed]",
      "text/plain": [
       "<Figure size 1080x720 with 1 Axes>"
      ]
     },
     "metadata": {
      "needs_background": "light"
     },
     "output_type": "display_data"
    }
   ],
   "source": [
    "plt.figure(figsize=(15, 10))\n",
    "sns.histplot(data=zx, hue='churn', x='balance', stat='density', bins=10, common_norm=False, palette=\"viridis\")\n",
    "plt.title(f\"Распределение в разрезе ушел/остался по {'balance'}\")\n",
    "plt.xlabel(f\"Числовые значения {'balance'}\")\n",
    "plt.show()  "
   ]
  },
  {
   "cell_type": "code",
   "execution_count": 67,
   "id": "b9e55f0c",
   "metadata": {},
   "outputs": [],
   "source": [
    "# создадим функцию, которая разобьет по категориям баланс\n",
    "def balance_cat(data):\n",
    "    if (data['balance'] >= 0 and data['balance'] <= 1000000):\n",
    "        return '0-1млн'\n",
    "    elif (data['balance'] >= 1000001 and data['balance'] <= 4000000):\n",
    "        return '1млн-4млн'\n",
    "    elif (data['balance'] >= 4000001 and data['balance'] <= 20000000):\n",
    "        return '4млн-20млн'\n",
    "    else:\n",
    "        return 'неизвестно'"
   ]
  },
  {
   "cell_type": "code",
   "execution_count": 68,
   "id": "a559df5a",
   "metadata": {},
   "outputs": [],
   "source": [
    "# создадим новый столбец и применим функцию к датафрейму\n",
    "data['balan_category'] = data.apply(balance_cat, axis=1)"
   ]
  },
  {
   "cell_type": "code",
   "execution_count": 69,
   "id": "8d0d8507",
   "metadata": {},
   "outputs": [
    {
     "data": {
      "text/html": [
       "<div>\n",
       "<style scoped>\n",
       "    .dataframe tbody tr th:only-of-type {\n",
       "        vertical-align: middle;\n",
       "    }\n",
       "\n",
       "    .dataframe tbody tr th {\n",
       "        vertical-align: top;\n",
       "    }\n",
       "\n",
       "    .dataframe thead th {\n",
       "        text-align: right;\n",
       "    }\n",
       "</style>\n",
       "<table border=\"1\" class=\"dataframe\">\n",
       "  <thead>\n",
       "    <tr style=\"text-align: right;\">\n",
       "      <th></th>\n",
       "      <th>balan_category</th>\n",
       "      <th>count</th>\n",
       "      <th>share</th>\n",
       "    </tr>\n",
       "  </thead>\n",
       "  <tbody>\n",
       "    <tr>\n",
       "      <th>0</th>\n",
       "      <td>0-1млн</td>\n",
       "      <td>1079</td>\n",
       "      <td>59.94</td>\n",
       "    </tr>\n",
       "    <tr>\n",
       "      <th>1</th>\n",
       "      <td>1млн-4млн</td>\n",
       "      <td>681</td>\n",
       "      <td>37.83</td>\n",
       "    </tr>\n",
       "    <tr>\n",
       "      <th>2</th>\n",
       "      <td>4млн-20млн</td>\n",
       "      <td>27</td>\n",
       "      <td>1.50</td>\n",
       "    </tr>\n",
       "    <tr>\n",
       "      <th>3</th>\n",
       "      <td>неизвестно</td>\n",
       "      <td>13</td>\n",
       "      <td>0.72</td>\n",
       "    </tr>\n",
       "  </tbody>\n",
       "</table>\n",
       "</div>"
      ],
      "text/plain": [
       "  balan_category  count  share\n",
       "0         0-1млн   1079  59.94\n",
       "1      1млн-4млн    681  37.83\n",
       "2     4млн-20млн     27   1.50\n",
       "3     неизвестно     13   0.72"
      ]
     },
     "metadata": {},
     "output_type": "display_data"
    }
   ],
   "source": [
    "ot_cat('balan_category')"
   ]
  },
  {
   "cell_type": "markdown",
   "id": "51e9ad55",
   "metadata": {},
   "source": [
    "**Отток больше среди клиентов с балансом 0-1млн - 60%(основная масса реальных клиентов), меньше всего тех у кого неизвестен баланс - 0,72%**"
   ]
  },
  {
   "cell_type": "code",
   "execution_count": 70,
   "id": "ece385e2",
   "metadata": {},
   "outputs": [
    {
     "data": {
      "image/png": "[encoded data removed]",
      "text/plain": [
       "<Figure size 1080x720 with 1 Axes>"
      ]
     },
     "metadata": {
      "needs_background": "light"
     },
     "output_type": "display_data"
    }
   ],
   "source": [
    "#посмотрим на распределение по продукту\n",
    "graf('products')"
   ]
  },
  {
   "cell_type": "code",
   "execution_count": 71,
   "id": "5897988e",
   "metadata": {},
   "outputs": [],
   "source": [
    "# создадим функцию, которая разобьет по категориям продуктам\n",
    "def pr_cat(data):\n",
    "    if (data['products'] == 0):\n",
    "        return 'нет продуктов'\n",
    "    elif (data['products'] >= 1 and data['products'] <= 2):\n",
    "        return '1-2'\n",
    "    else:\n",
    "        return '3-5'"
   ]
  },
  {
   "cell_type": "code",
   "execution_count": 72,
   "id": "1099e615",
   "metadata": {},
   "outputs": [],
   "source": [
    "# создадим новый столбец и применим функцию к датафрейму\n",
    "data['pr_category'] = data.apply(pr_cat, axis=1)"
   ]
  },
  {
   "cell_type": "code",
   "execution_count": 73,
   "id": "048ac73e",
   "metadata": {},
   "outputs": [
    {
     "data": {
      "text/html": [
       "<div>\n",
       "<style scoped>\n",
       "    .dataframe tbody tr th:only-of-type {\n",
       "        vertical-align: middle;\n",
       "    }\n",
       "\n",
       "    .dataframe tbody tr th {\n",
       "        vertical-align: top;\n",
       "    }\n",
       "\n",
       "    .dataframe thead th {\n",
       "        text-align: right;\n",
       "    }\n",
       "</style>\n",
       "<table border=\"1\" class=\"dataframe\">\n",
       "  <thead>\n",
       "    <tr style=\"text-align: right;\">\n",
       "      <th></th>\n",
       "      <th>pr_category</th>\n",
       "      <th>count</th>\n",
       "      <th>share</th>\n",
       "    </tr>\n",
       "  </thead>\n",
       "  <tbody>\n",
       "    <tr>\n",
       "      <th>0</th>\n",
       "      <td>1-2</td>\n",
       "      <td>1199</td>\n",
       "      <td>66.61</td>\n",
       "    </tr>\n",
       "    <tr>\n",
       "      <th>1</th>\n",
       "      <td>3-5</td>\n",
       "      <td>600</td>\n",
       "      <td>33.33</td>\n",
       "    </tr>\n",
       "    <tr>\n",
       "      <th>2</th>\n",
       "      <td>нет продуктов</td>\n",
       "      <td>1</td>\n",
       "      <td>0.06</td>\n",
       "    </tr>\n",
       "  </tbody>\n",
       "</table>\n",
       "</div>"
      ],
      "text/plain": [
       "     pr_category  count  share\n",
       "0            1-2   1199  66.61\n",
       "1            3-5    600  33.33\n",
       "2  нет продуктов      1   0.06"
      ]
     },
     "metadata": {},
     "output_type": "display_data"
    }
   ],
   "source": [
    "ot_cat('pr_category')"
   ]
  },
  {
   "cell_type": "markdown",
   "id": "2d50abde",
   "metadata": {},
   "source": [
    "**Отток больше среди клиентов с 1 или двумя продуктами - 67%, меньше всего у тех у кого вообще нет продуктов банка - 0.06%**"
   ]
  },
  {
   "cell_type": "code",
   "execution_count": 74,
   "id": "5e6d311f",
   "metadata": {},
   "outputs": [
    {
     "data": {
      "image/png": "[encoded data removed]",
      "text/plain": [
       "<Figure size 1080x720 with 1 Axes>"
      ]
     },
     "metadata": {
      "needs_background": "light"
     },
     "output_type": "display_data"
    }
   ],
   "source": [
    "#посмотрим на распределение по кредитной карте\n",
    "graf('credit_card')"
   ]
  },
  {
   "cell_type": "code",
   "execution_count": 75,
   "id": "ad9ab96b",
   "metadata": {},
   "outputs": [
    {
     "data": {
      "text/html": [
       "<div>\n",
       "<style scoped>\n",
       "    .dataframe tbody tr th:only-of-type {\n",
       "        vertical-align: middle;\n",
       "    }\n",
       "\n",
       "    .dataframe tbody tr th {\n",
       "        vertical-align: top;\n",
       "    }\n",
       "\n",
       "    .dataframe thead th {\n",
       "        text-align: right;\n",
       "    }\n",
       "</style>\n",
       "<table border=\"1\" class=\"dataframe\">\n",
       "  <thead>\n",
       "    <tr style=\"text-align: right;\">\n",
       "      <th></th>\n",
       "      <th>credit_card</th>\n",
       "      <th>count</th>\n",
       "      <th>share</th>\n",
       "    </tr>\n",
       "  </thead>\n",
       "  <tbody>\n",
       "    <tr>\n",
       "      <th>0</th>\n",
       "      <td>1</td>\n",
       "      <td>989</td>\n",
       "      <td>54.94</td>\n",
       "    </tr>\n",
       "    <tr>\n",
       "      <th>1</th>\n",
       "      <td>0</td>\n",
       "      <td>811</td>\n",
       "      <td>45.06</td>\n",
       "    </tr>\n",
       "  </tbody>\n",
       "</table>\n",
       "</div>"
      ],
      "text/plain": [
       "   credit_card  count  share\n",
       "0            1    989  54.94\n",
       "1            0    811  45.06"
      ]
     },
     "metadata": {},
     "output_type": "display_data"
    }
   ],
   "source": [
    "ot_cat('credit_card')"
   ]
  },
  {
   "cell_type": "markdown",
   "id": "eebc2049",
   "metadata": {},
   "source": [
    "**Наличие кредитной карты банка не особо влияет на отток, но все равно есть разница, 55% владельцев карт решили уйти в отличие от 45% без них**"
   ]
  },
  {
   "cell_type": "code",
   "execution_count": 76,
   "id": "d24fe426",
   "metadata": {},
   "outputs": [
    {
     "data": {
      "image/png": "[encoded data removed]",
      "text/plain": [
       "<Figure size 1080x720 with 1 Axes>"
      ]
     },
     "metadata": {
      "needs_background": "light"
     },
     "output_type": "display_data"
    }
   ],
   "source": [
    "#посмотрим на распределение по активности\n",
    "graf('last_activity')"
   ]
  },
  {
   "cell_type": "code",
   "execution_count": 77,
   "id": "521008d4",
   "metadata": {},
   "outputs": [
    {
     "data": {
      "text/html": [
       "<div>\n",
       "<style scoped>\n",
       "    .dataframe tbody tr th:only-of-type {\n",
       "        vertical-align: middle;\n",
       "    }\n",
       "\n",
       "    .dataframe tbody tr th {\n",
       "        vertical-align: top;\n",
       "    }\n",
       "\n",
       "    .dataframe thead th {\n",
       "        text-align: right;\n",
       "    }\n",
       "</style>\n",
       "<table border=\"1\" class=\"dataframe\">\n",
       "  <thead>\n",
       "    <tr style=\"text-align: right;\">\n",
       "      <th></th>\n",
       "      <th>last_activity</th>\n",
       "      <th>count</th>\n",
       "      <th>share</th>\n",
       "    </tr>\n",
       "  </thead>\n",
       "  <tbody>\n",
       "    <tr>\n",
       "      <th>0</th>\n",
       "      <td>1</td>\n",
       "      <td>1263</td>\n",
       "      <td>70.17</td>\n",
       "    </tr>\n",
       "    <tr>\n",
       "      <th>1</th>\n",
       "      <td>0</td>\n",
       "      <td>537</td>\n",
       "      <td>29.83</td>\n",
       "    </tr>\n",
       "  </tbody>\n",
       "</table>\n",
       "</div>"
      ],
      "text/plain": [
       "   last_activity  count  share\n",
       "0              1   1263  70.17\n",
       "1              0    537  29.83"
      ]
     },
     "metadata": {},
     "output_type": "display_data"
    }
   ],
   "source": [
    "ot_cat('last_activity')"
   ]
  },
  {
   "cell_type": "markdown",
   "id": "91358d71",
   "metadata": {},
   "source": [
    "**Активные клиенты больше уходили 70%, видимо они пытались дать шанс банку до последнего**"
   ]
  },
  {
   "cell_type": "code",
   "execution_count": 78,
   "id": "13c6c8c4",
   "metadata": {},
   "outputs": [
    {
     "data": {
      "image/png": "[encoded data removed]",
      "text/plain": [
       "<Figure size 1080x720 with 1 Axes>"
      ]
     },
     "metadata": {
      "needs_background": "light"
     },
     "output_type": "display_data"
    }
   ],
   "source": [
    "#посмотрим на распределение по зп\n",
    "graf('est_salary')"
   ]
  },
  {
   "cell_type": "code",
   "execution_count": 79,
   "id": "2069903a",
   "metadata": {},
   "outputs": [],
   "source": [
    "# создадим функцию, которая разобьет по категориям зп\n",
    "def est_cat(data):\n",
    "    if (data['est_salary'] >= 15000 and data['est_salary'] <= 200000):\n",
    "        return 'до 200 тыс'\n",
    "    elif (data['est_salary'] >= 200001 and data['est_salary'] <= 400000):\n",
    "        return '201 -400тыс'\n",
    "    else:\n",
    "        return '400тыс+'"
   ]
  },
  {
   "cell_type": "code",
   "execution_count": 80,
   "id": "1b2a859f",
   "metadata": {},
   "outputs": [],
   "source": [
    "# создадим новый столбец и применим функцию к датафрейму\n",
    "data['est_category'] = data.apply(est_cat, axis=1)"
   ]
  },
  {
   "cell_type": "code",
   "execution_count": 81,
   "id": "a5f1d841",
   "metadata": {},
   "outputs": [
    {
     "data": {
      "text/html": [
       "<div>\n",
       "<style scoped>\n",
       "    .dataframe tbody tr th:only-of-type {\n",
       "        vertical-align: middle;\n",
       "    }\n",
       "\n",
       "    .dataframe tbody tr th {\n",
       "        vertical-align: top;\n",
       "    }\n",
       "\n",
       "    .dataframe thead th {\n",
       "        text-align: right;\n",
       "    }\n",
       "</style>\n",
       "<table border=\"1\" class=\"dataframe\">\n",
       "  <thead>\n",
       "    <tr style=\"text-align: right;\">\n",
       "      <th></th>\n",
       "      <th>est_category</th>\n",
       "      <th>count</th>\n",
       "      <th>share</th>\n",
       "    </tr>\n",
       "  </thead>\n",
       "  <tbody>\n",
       "    <tr>\n",
       "      <th>0</th>\n",
       "      <td>до 200 тыс</td>\n",
       "      <td>1496</td>\n",
       "      <td>83.11</td>\n",
       "    </tr>\n",
       "    <tr>\n",
       "      <th>1</th>\n",
       "      <td>201 -400тыс</td>\n",
       "      <td>268</td>\n",
       "      <td>14.89</td>\n",
       "    </tr>\n",
       "    <tr>\n",
       "      <th>2</th>\n",
       "      <td>400тыс+</td>\n",
       "      <td>36</td>\n",
       "      <td>2.00</td>\n",
       "    </tr>\n",
       "  </tbody>\n",
       "</table>\n",
       "</div>"
      ],
      "text/plain": [
       "  est_category  count  share\n",
       "0   до 200 тыс   1496  83.11\n",
       "1  201 -400тыс    268  14.89\n",
       "2      400тыс+     36   2.00"
      ]
     },
     "metadata": {},
     "output_type": "display_data"
    }
   ],
   "source": [
    "ot_cat('est_category')"
   ]
  },
  {
   "cell_type": "markdown",
   "id": "bc667487",
   "metadata": {},
   "source": [
    "**Активные клиенты больше уходили зп до 200 тыс.(основные реальные клиенты) - 83,11%, т.к таких клиентов изначально больше, но и богачи тоже не задерживались - 2%**"
   ]
  },
  {
   "cell_type": "markdown",
   "id": "d4db73eb",
   "metadata": {},
   "source": [
    "\n",
    "<b>Вывод</b>    \n",
    "    \n",
    "По итогу анализа можно составить предварительный портер уходящего клиента:\n",
    "- скоринговый балл - категория средний балл(770-940),\n",
    "- город - все города,\n",
    "- пол - мужчина 65% или женщина 35%,\n",
    "- возраст - категории 29-45- 53,28% или 46-61 - 33%,\n",
    "- собственность - 1-4 - 58% иди 5-9 - 38%,\n",
    "- баланс - 0-1млн - 60% или 1-4млн - 38%,\n",
    "- продукт - 1-2 - 67% или 3-5 - 33,33%,\n",
    "- кредитка - в наличие - 70% или отсутствует 30%,\n",
    "- активность - есть - 70% или нету 30%,\n",
    "- зп - до 200тыс - 83,11% или до 401 тыс - 15%"
   ]
  },
  {
   "cell_type": "markdown",
   "id": "236d2984",
   "metadata": {},
   "source": [
    "### Корреляционный анализ данных\n",
    "Проведем анализ корреляций для поиска параметров, имеющих наибольшую взаимозависимость. Для дальнейшего корреляционого анализа нам необходимо будет кодировать некоторые столбцы, то есть перевести категориальные значения в бинарные, сохраним их в отдельной переменной."
   ]
  },
  {
   "cell_type": "code",
   "execution_count": 82,
   "id": "3d8f4e09",
   "metadata": {},
   "outputs": [
    {
     "data": {
      "text/html": [
       "<div>\n",
       "<style scoped>\n",
       "    .dataframe tbody tr th:only-of-type {\n",
       "        vertical-align: middle;\n",
       "    }\n",
       "\n",
       "    .dataframe tbody tr th {\n",
       "        vertical-align: top;\n",
       "    }\n",
       "\n",
       "    .dataframe thead th {\n",
       "        text-align: right;\n",
       "    }\n",
       "</style>\n",
       "<table border=\"1\" class=\"dataframe\">\n",
       "  <thead>\n",
       "    <tr style=\"text-align: right;\">\n",
       "      <th></th>\n",
       "      <th>user_id</th>\n",
       "      <th>score</th>\n",
       "      <th>age</th>\n",
       "      <th>equity</th>\n",
       "      <th>balance</th>\n",
       "      <th>products</th>\n",
       "      <th>credit_card</th>\n",
       "      <th>last_activity</th>\n",
       "      <th>est_salary</th>\n",
       "      <th>churn</th>\n",
       "      <th>...</th>\n",
       "      <th>age_category</th>\n",
       "      <th>eq_category</th>\n",
       "      <th>balan_category</th>\n",
       "      <th>pr_category</th>\n",
       "      <th>est_category</th>\n",
       "      <th>Ростов</th>\n",
       "      <th>Рыбинск</th>\n",
       "      <th>Ярославль</th>\n",
       "      <th>female</th>\n",
       "      <th>male</th>\n",
       "    </tr>\n",
       "  </thead>\n",
       "  <tbody>\n",
       "    <tr>\n",
       "      <th>0</th>\n",
       "      <td>183012</td>\n",
       "      <td>850</td>\n",
       "      <td>25</td>\n",
       "      <td>1</td>\n",
       "      <td>59214.82</td>\n",
       "      <td>2</td>\n",
       "      <td>0</td>\n",
       "      <td>1</td>\n",
       "      <td>75719.14</td>\n",
       "      <td>1</td>\n",
       "      <td>...</td>\n",
       "      <td>18-28</td>\n",
       "      <td>1-4</td>\n",
       "      <td>0-1млн</td>\n",
       "      <td>1-2</td>\n",
       "      <td>до 200 тыс</td>\n",
       "      <td>0</td>\n",
       "      <td>1</td>\n",
       "      <td>0</td>\n",
       "      <td>1</td>\n",
       "      <td>0</td>\n",
       "    </tr>\n",
       "    <tr>\n",
       "      <th>1</th>\n",
       "      <td>146556</td>\n",
       "      <td>861</td>\n",
       "      <td>37</td>\n",
       "      <td>5</td>\n",
       "      <td>850594.33</td>\n",
       "      <td>3</td>\n",
       "      <td>1</td>\n",
       "      <td>0</td>\n",
       "      <td>86621.77</td>\n",
       "      <td>0</td>\n",
       "      <td>...</td>\n",
       "      <td>29-45</td>\n",
       "      <td>5-9</td>\n",
       "      <td>0-1млн</td>\n",
       "      <td>3-5</td>\n",
       "      <td>до 200 тыс</td>\n",
       "      <td>0</td>\n",
       "      <td>1</td>\n",
       "      <td>0</td>\n",
       "      <td>1</td>\n",
       "      <td>0</td>\n",
       "    </tr>\n",
       "    <tr>\n",
       "      <th>2</th>\n",
       "      <td>120722</td>\n",
       "      <td>892</td>\n",
       "      <td>30</td>\n",
       "      <td>0</td>\n",
       "      <td>NaN</td>\n",
       "      <td>1</td>\n",
       "      <td>1</td>\n",
       "      <td>1</td>\n",
       "      <td>107683.34</td>\n",
       "      <td>0</td>\n",
       "      <td>...</td>\n",
       "      <td>29-45</td>\n",
       "      <td>нет собственности</td>\n",
       "      <td>неизвестно</td>\n",
       "      <td>1-2</td>\n",
       "      <td>до 200 тыс</td>\n",
       "      <td>0</td>\n",
       "      <td>1</td>\n",
       "      <td>0</td>\n",
       "      <td>1</td>\n",
       "      <td>0</td>\n",
       "    </tr>\n",
       "    <tr>\n",
       "      <th>3</th>\n",
       "      <td>225363</td>\n",
       "      <td>866</td>\n",
       "      <td>51</td>\n",
       "      <td>5</td>\n",
       "      <td>1524746.26</td>\n",
       "      <td>2</td>\n",
       "      <td>0</td>\n",
       "      <td>1</td>\n",
       "      <td>174423.53</td>\n",
       "      <td>1</td>\n",
       "      <td>...</td>\n",
       "      <td>46-61</td>\n",
       "      <td>5-9</td>\n",
       "      <td>1млн-4млн</td>\n",
       "      <td>1-2</td>\n",
       "      <td>до 200 тыс</td>\n",
       "      <td>0</td>\n",
       "      <td>0</td>\n",
       "      <td>1</td>\n",
       "      <td>1</td>\n",
       "      <td>0</td>\n",
       "    </tr>\n",
       "    <tr>\n",
       "      <th>4</th>\n",
       "      <td>157978</td>\n",
       "      <td>730</td>\n",
       "      <td>34</td>\n",
       "      <td>5</td>\n",
       "      <td>174.00</td>\n",
       "      <td>1</td>\n",
       "      <td>1</td>\n",
       "      <td>0</td>\n",
       "      <td>67353.16</td>\n",
       "      <td>1</td>\n",
       "      <td>...</td>\n",
       "      <td>29-45</td>\n",
       "      <td>5-9</td>\n",
       "      <td>0-1млн</td>\n",
       "      <td>1-2</td>\n",
       "      <td>до 200 тыс</td>\n",
       "      <td>0</td>\n",
       "      <td>0</td>\n",
       "      <td>1</td>\n",
       "      <td>0</td>\n",
       "      <td>1</td>\n",
       "    </tr>\n",
       "    <tr>\n",
       "      <th>5</th>\n",
       "      <td>202305</td>\n",
       "      <td>856</td>\n",
       "      <td>56</td>\n",
       "      <td>4</td>\n",
       "      <td>863687.24</td>\n",
       "      <td>3</td>\n",
       "      <td>1</td>\n",
       "      <td>0</td>\n",
       "      <td>156619.80</td>\n",
       "      <td>0</td>\n",
       "      <td>...</td>\n",
       "      <td>46-61</td>\n",
       "      <td>1-4</td>\n",
       "      <td>0-1млн</td>\n",
       "      <td>3-5</td>\n",
       "      <td>до 200 тыс</td>\n",
       "      <td>0</td>\n",
       "      <td>1</td>\n",
       "      <td>0</td>\n",
       "      <td>0</td>\n",
       "      <td>1</td>\n",
       "    </tr>\n",
       "    <tr>\n",
       "      <th>6</th>\n",
       "      <td>177259</td>\n",
       "      <td>807</td>\n",
       "      <td>39</td>\n",
       "      <td>3</td>\n",
       "      <td>405042.44</td>\n",
       "      <td>3</td>\n",
       "      <td>0</td>\n",
       "      <td>1</td>\n",
       "      <td>103838.32</td>\n",
       "      <td>0</td>\n",
       "      <td>...</td>\n",
       "      <td>29-45</td>\n",
       "      <td>1-4</td>\n",
       "      <td>0-1млн</td>\n",
       "      <td>3-5</td>\n",
       "      <td>до 200 тыс</td>\n",
       "      <td>0</td>\n",
       "      <td>0</td>\n",
       "      <td>1</td>\n",
       "      <td>1</td>\n",
       "      <td>0</td>\n",
       "    </tr>\n",
       "    <tr>\n",
       "      <th>7</th>\n",
       "      <td>218868</td>\n",
       "      <td>825</td>\n",
       "      <td>38</td>\n",
       "      <td>4</td>\n",
       "      <td>458145.40</td>\n",
       "      <td>2</td>\n",
       "      <td>1</td>\n",
       "      <td>1</td>\n",
       "      <td>68085.48</td>\n",
       "      <td>0</td>\n",
       "      <td>...</td>\n",
       "      <td>29-45</td>\n",
       "      <td>1-4</td>\n",
       "      <td>0-1млн</td>\n",
       "      <td>1-2</td>\n",
       "      <td>до 200 тыс</td>\n",
       "      <td>0</td>\n",
       "      <td>0</td>\n",
       "      <td>1</td>\n",
       "      <td>1</td>\n",
       "      <td>0</td>\n",
       "    </tr>\n",
       "    <tr>\n",
       "      <th>8</th>\n",
       "      <td>211686</td>\n",
       "      <td>923</td>\n",
       "      <td>54</td>\n",
       "      <td>5</td>\n",
       "      <td>1206337.87</td>\n",
       "      <td>2</td>\n",
       "      <td>1</td>\n",
       "      <td>0</td>\n",
       "      <td>155371.79</td>\n",
       "      <td>0</td>\n",
       "      <td>...</td>\n",
       "      <td>46-61</td>\n",
       "      <td>5-9</td>\n",
       "      <td>1млн-4млн</td>\n",
       "      <td>1-2</td>\n",
       "      <td>до 200 тыс</td>\n",
       "      <td>0</td>\n",
       "      <td>0</td>\n",
       "      <td>1</td>\n",
       "      <td>0</td>\n",
       "      <td>1</td>\n",
       "    </tr>\n",
       "    <tr>\n",
       "      <th>9</th>\n",
       "      <td>133130</td>\n",
       "      <td>906</td>\n",
       "      <td>67</td>\n",
       "      <td>0</td>\n",
       "      <td>NaN</td>\n",
       "      <td>1</td>\n",
       "      <td>0</td>\n",
       "      <td>1</td>\n",
       "      <td>238055.53</td>\n",
       "      <td>0</td>\n",
       "      <td>...</td>\n",
       "      <td>62+</td>\n",
       "      <td>нет собственности</td>\n",
       "      <td>неизвестно</td>\n",
       "      <td>1-2</td>\n",
       "      <td>201 -400тыс</td>\n",
       "      <td>0</td>\n",
       "      <td>0</td>\n",
       "      <td>1</td>\n",
       "      <td>1</td>\n",
       "      <td>0</td>\n",
       "    </tr>\n",
       "  </tbody>\n",
       "</table>\n",
       "<p>10 rows × 21 columns</p>\n",
       "</div>"
      ],
      "text/plain": [
       "   user_id  score  age  equity    balance  products  credit_card  \\\n",
       "0   183012    850   25       1   59214.82         2            0   \n",
       "1   146556    861   37       5  850594.33         3            1   \n",
       "2   120722    892   30       0        NaN         1            1   \n",
       "3   225363    866   51       5 1524746.26         2            0   \n",
       "4   157978    730   34       5     174.00         1            1   \n",
       "5   202305    856   56       4  863687.24         3            1   \n",
       "6   177259    807   39       3  405042.44         3            0   \n",
       "7   218868    825   38       4  458145.40         2            1   \n",
       "8   211686    923   54       5 1206337.87         2            1   \n",
       "9   133130    906   67       0        NaN         1            0   \n",
       "\n",
       "   last_activity  est_salary  churn  ... age_category        eq_category  \\\n",
       "0              1    75719.14      1  ...        18-28                1-4   \n",
       "1              0    86621.77      0  ...        29-45                5-9   \n",
       "2              1   107683.34      0  ...        29-45  нет собственности   \n",
       "3              1   174423.53      1  ...        46-61                5-9   \n",
       "4              0    67353.16      1  ...        29-45                5-9   \n",
       "5              0   156619.80      0  ...        46-61                1-4   \n",
       "6              1   103838.32      0  ...        29-45                1-4   \n",
       "7              1    68085.48      0  ...        29-45                1-4   \n",
       "8              0   155371.79      0  ...        46-61                5-9   \n",
       "9              1   238055.53      0  ...          62+  нет собственности   \n",
       "\n",
       "  balan_category pr_category est_category Ростов  Рыбинск  Ярославль  female  \\\n",
       "0         0-1млн         1-2   до 200 тыс      0        1          0       1   \n",
       "1         0-1млн         3-5   до 200 тыс      0        1          0       1   \n",
       "2     неизвестно         1-2   до 200 тыс      0        1          0       1   \n",
       "3      1млн-4млн         1-2   до 200 тыс      0        0          1       1   \n",
       "4         0-1млн         1-2   до 200 тыс      0        0          1       0   \n",
       "5         0-1млн         3-5   до 200 тыс      0        1          0       0   \n",
       "6         0-1млн         3-5   до 200 тыс      0        0          1       1   \n",
       "7         0-1млн         1-2   до 200 тыс      0        0          1       1   \n",
       "8      1млн-4млн         1-2   до 200 тыс      0        0          1       0   \n",
       "9     неизвестно         1-2  201 -400тыс      0        0          1       1   \n",
       "\n",
       "   male  \n",
       "0     0  \n",
       "1     0  \n",
       "2     0  \n",
       "3     0  \n",
       "4     1  \n",
       "5     1  \n",
       "6     0  \n",
       "7     0  \n",
       "8     1  \n",
       "9     0  \n",
       "\n",
       "[10 rows x 21 columns]"
      ]
     },
     "metadata": {},
     "output_type": "display_data"
    }
   ],
   "source": [
    "# кодируем данные в столбце gender и city :\n",
    "\n",
    "cod = pd.get_dummies(data, columns = ['city','gender'])\n",
    "cod = cod.rename (\n",
    "    columns = ({'city_Ростов':'Ростов', 'city_Рыбинск':'Рыбинск','city_Ярославль':'Ярославль','gender_Ж':'female', 'gender_М':'male'}))\n",
    "display (cod.head(10))"
   ]
  },
  {
   "cell_type": "code",
   "execution_count": 83,
   "id": "562eea5b",
   "metadata": {},
   "outputs": [
    {
     "data": {
      "image/png": "[encoded data removed]",
      "text/plain": [
       "<Figure size 1152x576 with 2 Axes>"
      ]
     },
     "metadata": {
      "needs_background": "light"
     },
     "output_type": "display_data"
    }
   ],
   "source": [
    "#вызовем метод corr(), чтобы найти коэффициент корреляции для всех параметров:\n",
    "plt.figure(figsize=(16,8))\n",
    "sns.heatmap (cod.corr(), annot=True, vmin=-1, vmax=1, center= 0, cmap= 'BuPu', linewidths=1);"
   ]
  },
  {
   "cell_type": "code",
   "execution_count": 84,
   "id": "e84fcb67",
   "metadata": {},
   "outputs": [],
   "source": [
    "v=cod.corr()"
   ]
  },
  {
   "cell_type": "code",
   "execution_count": 85,
   "id": "54f0c415",
   "metadata": {},
   "outputs": [
    {
     "data": {
      "text/plain": [
       "<AxesSubplot:>"
      ]
     },
     "execution_count": 85,
     "metadata": {},
     "output_type": "execute_result"
    },
    {
     "data": {
      "image/png": "[encoded data removed]",
      "text/plain": [
       "<Figure size 1080x720 with 2 Axes>"
      ]
     },
     "metadata": {
      "needs_background": "light"
     },
     "output_type": "display_data"
    }
   ],
   "source": [
    "#отобразим только один столбец из матрицы\n",
    "plt.figure(figsize=(15, 10))\n",
    "sns.heatmap(v.loc[:,['churn']].drop('churn').sort_values('churn'), annot=True, fmt='.0%', cmap='BuPu', center=0)"
   ]
  },
  {
   "cell_type": "markdown",
   "id": "ccd8f26a",
   "metadata": {},
   "source": [
    "\n",
    "<b>Вывод</b>    \n",
    "    \n",
    "Благодяря корреляционому анализу упор в сегментации нужно делать по параметрам наибольшей связи:\n",
    " - продукт 30%,\n",
    " - собственность 27%,\n",
    " - активность 17%,\n",
    " - пол мужской 14%,\n",
    " - скоринговый балл 10%.\n",
    "    "
   ]
  },
  {
   "cell_type": "markdown",
   "id": "1424a478",
   "metadata": {},
   "source": [
    "## Проверка статистических гипотез\n",
    "4.1. Проверка гипотезы о различия дохода между теми клиентами, которые ушли и теми, которые остались\n",
    "\n",
    "4.2. Проверка гипотезы о различие в количестве используемых банковских продуктов\n",
    "\n",
    "4.3. Выводы по шагу"
   ]
  },
  {
   "cell_type": "markdown",
   "id": "d498408a",
   "metadata": {},
   "source": [
    "**Когда можно использовать t-критерий?**\n",
    "\n",
    "Наиболее частые случаи применения t-критерия связаны с проверкой равенства средних значений в двух выборках. равны. Кроме того, в своей исходной форме, t-критерий предполагает независимость сравниваемых выборок. Как раз в нашем случае группы ушедших и оставшихся никак не связаны, поэтому можно считать их независимыми.\n",
    "\n",
    "Классический подход к проверке статистической значимости требует, чтобы мы устанавливали уровень значимости до того, как обратимся к нашим данным. Часто выбирается уровень в 5%, и поэтому мы на нем и остановимся."
   ]
  },
  {
   "cell_type": "markdown",
   "id": "d05ffd23",
   "metadata": {},
   "source": [
    "### Проверка гипотезы о различия дохода между теми клиентами, которые ушли и теми, которые остались"
   ]
  },
  {
   "cell_type": "markdown",
   "id": "00e9dfcb",
   "metadata": {},
   "source": [
    "Сформулируем нулевую и альтернативную гипотезы:\n",
    "\n",
    "- H₀: средние доходы оставшихся и отточных клиентов равны\n",
    "- H₁: средние доходы оставшихся и отточных клиентов не равны\n",
    "\n",
    "Для проверки гипотезы проведем t-test:"
   ]
  },
  {
   "cell_type": "code",
   "execution_count": 86,
   "id": "6c7a7b4b",
   "metadata": {},
   "outputs": [
    {
     "name": "stdout",
     "output_type": "stream",
     "text": [
      "p-значение: 0.28693627509507286\n",
      "Не получилось отвергнуть нулевую гипотезу\n"
     ]
    }
   ],
   "source": [
    "# gipoteza_1 = вызов метода для проверки гипотезы\n",
    "\n",
    "gipoteza_1 = st.ttest_ind (\n",
    "    data[data['churn']==0]['est_salary'],\n",
    "    data[data['churn']==1]['est_salary'], equal_var = False)\n",
    "\n",
    "alpha = 0.05 # критический уровень статистической значимости\n",
    "\n",
    "# вывод значения p-value на экран \n",
    "print ('p-значение:', gipoteza_1.pvalue) \n",
    "# условный оператор с выводом строки с ответом\n",
    "\n",
    "if gipoteza_1.pvalue < alpha:\n",
    "    print ('Отвергаем нулевую гипотезу')\n",
    "else:\n",
    "    print ('Не получилось отвергнуть нулевую гипотезу')"
   ]
  },
  {
   "cell_type": "markdown",
   "id": "79269005",
   "metadata": {},
   "source": [
    "### Проверка гипотезы о различие в количестве используемых банковских продуктов"
   ]
  },
  {
   "cell_type": "markdown",
   "id": "a2e8a25c",
   "metadata": {},
   "source": [
    "Сформулируем нулевую и альтернативную гипотезы:\n",
    "\n",
    "- H₀: средние доходы оставшихся и отточных клиентов равны\n",
    "- H₁: средние доходы оставшихся и отточных клиентов не равны\n",
    "\n",
    "Для проверки гипотезы проведем t-test:"
   ]
  },
  {
   "cell_type": "code",
   "execution_count": 87,
   "id": "03675abb",
   "metadata": {},
   "outputs": [
    {
     "name": "stdout",
     "output_type": "stream",
     "text": [
      "p-значение: 1.5288774544191162e-137\n",
      "Отвергаем нулевую гипотезу\n"
     ]
    }
   ],
   "source": [
    "# gipoteza_1 = вызов метода для проверки гипотезы\n",
    "\n",
    "gipoteza_1 = st.ttest_ind (\n",
    "    data[data['churn']==0]['products'],\n",
    "    data[data['churn']==1]['products'], equal_var = False)\n",
    "\n",
    "alpha = 0.05 # критический уровень статистической значимости\n",
    "\n",
    "# вывод значения p-value на экран \n",
    "print ('p-значение:', gipoteza_1.pvalue) \n",
    "# условный оператор с выводом строки с ответом\n",
    "\n",
    "if gipoteza_1.pvalue < alpha:\n",
    "    print ('Отвергаем нулевую гипотезу')\n",
    "else:\n",
    "    print ('Не получилось отвергнуть нулевую гипотезу')"
   ]
  },
  {
   "cell_type": "markdown",
   "id": "26ad818c",
   "metadata": {},
   "source": [
    "\n",
    "<b>Вывод</b>    \n",
    "    \n",
    "При проверке первой гипотезы о доходах, проведенный t-test показал, что средние доходы оставшихся и отточных клиентов равны. Этот же результат подтвердили выше используемые исследования.\n",
    "    \n",
    "При проверке второй гипотезы о количистве используемых продуктов банка, проведенный t-test показал, что количество проуктов различается у оставшихся и ушедших клиентов.\n",
    "    "
   ]
  },
  {
   "cell_type": "markdown",
   "id": "d901c1ba",
   "metadata": {},
   "source": [
    "## Сегментирование клиентов"
   ]
  },
  {
   "cell_type": "markdown",
   "id": "cab43b59",
   "metadata": {},
   "source": [
    "**По итогам проведенного анализа и проверки гипотез выделим несколько высокоотточных сегментов пользователей.**\n",
    "\n",
    "Для этого вспомним портерт уходящего клиента:\n",
    "- скоринговый балл - категория средний балл(770-940),\n",
    "- город - все города,\n",
    "- пол - мужчина 65% или женщина 35%,\n",
    "- возраст - категории 29-45- 53,28% или 46-61 - 33%,\n",
    "- собственность - 1-4 - 58% иди 5-9 - 38%,\n",
    "- баланс - 0-1млн - 60% или 1-4млн - 38%,\n",
    "- продукт - 1-2 - 67% или 3-5 - 33,33%,\n",
    "- кредитка - в наличие - 70% или отсутствует 30%,\n",
    "- активность - есть - 70% или нету 30%,\n",
    "- зп - до 200тыс - 83,11% или до 401 тыс - 15%\n",
    "\n",
    "Далее, вспомним ярко выраженные связи обнаруженные через кореряционный анализ:\n",
    "- продукт 30%,\n",
    "- собственность 27%,\n",
    "- активность 17%,\n",
    "- пол мужской 14%,\n",
    "- скоринговый балл 10%.\n",
    " \n",
    "Следовательно, на пересечение выше указных парметров сделаем срез, чтобы посмотреть какой отток в таких сегментах:\n",
    "* Сегмент 1 = мужчины в возрасте 29-45 с 1 или 2 продуктами, у которых в собствености 1-4 балл собственности,\n",
    "* Сегмент 2 = мужчины в возрасте 46-61 с 1 или 2 продуктами, у которых в собствености 1-4 балл собственности,\n",
    "* Сегмент 3 = мужчины в возрасте 29-45 с 3 или 5 продуктами, у которых в собствености 1-4 балл собственности,\n",
    "* Сегмент 4 = мужчины в возрасте 29-45 с 3 или 5 продуктами, у которых в собствености 5-9 балл собственности,\n",
    "* Сегмент 5 = мужчины в возрасте 46-61 с 3 или 5 продуктами, у которых в собствености 5-9 балл собственности,\n",
    "\n",
    "\n",
    "* Сегмент 6 = женщины в возрасте 29-45 с 1 или 2 продуктами, у которых в собствености 1-4 балл собственности,\n",
    "* Сегмент 7 = женщины в возрасте 46-61 с 1 или 2 продуктами, у которых в собствености 1-4 балл собственности,\n",
    "* Сегмент 8 = женщины в возрасте 29-45 с 3 или 5 продуктами, у которых в собствености 1-4 балл собственности,\n",
    "* Сегмент 9 = женщины в возрасте 29-45 с 3 или 5 продуктами, у которых в собствености 5-9 балл собственности,\n",
    "* Сегмент 10 = женщины в возрасте 46-61 с 3 или 5 продуктами, у которых в собствености 5-9 балл собственности."
   ]
  },
  {
   "cell_type": "code",
   "execution_count": 104,
   "id": "5ffc1231",
   "metadata": {},
   "outputs": [],
   "source": [
    "#под каждый сегмент создадим свою переменную\n",
    "seg1=data.query('gender == \"М\" & age_category == \"29-45\" & pr_category == \"1-2\" & eq_category == \"1-4\"')\n",
    "seg2=data.query('gender == \"М\" & age_category == \"46-61\" & pr_category == \"1-2\" & eq_category == \"1-4\"')\n",
    "seg3=data.query('gender == \"М\" & age_category == \"29-45\" & pr_category == \"3-5\" & eq_category == \"1-4\"')\n",
    "seg4=data.query('gender == \"М\" & age_category == \"29-45\" & pr_category == \"3-5\" & eq_category == \"5-9\"')\n",
    "seg5=data.query('gender == \"М\" & age_category == \"46-61\" & pr_category == \"3-5\" & eq_category == \"5-9\"')\n",
    "\n",
    "seg6=data.query('gender == \"Ж\" & age_category == \"29-45\" & pr_category == \"1-2\" & eq_category == \"1-4\"')\n",
    "seg7=data.query('gender == \"Ж\" & age_category == \"46-61\" & pr_category == \"1-2\" & eq_category == \"1-4\"')\n",
    "seg8=data.query('gender == \"Ж\" & age_category == \"29-45\" & pr_category == \"3-5\" & eq_category == \"1-4\"')\n",
    "seg9=data.query('gender == \"Ж\" & age_category == \"29-45\" & pr_category == \"3-5\" & eq_category == \"5-9\"')\n",
    "seg10=data.query('gender == \"Ж\" & age_category == \"46-61\" & pr_category == \"3-5\" & eq_category == \"5-9\"')"
   ]
  },
  {
   "cell_type": "code",
   "execution_count": 105,
   "id": "4938e6e6",
   "metadata": {},
   "outputs": [
    {
     "name": "stdout",
     "output_type": "stream",
     "text": [
      "Сегмент 1\n",
      "Процент оттока: 19.97%\n",
      "Размер группы: 1252\n",
      "---------------------------------------\n",
      "Сегмент 2\n",
      "Процент оттока: 28.69%\n",
      "Размер группы: 502\n",
      "---------------------------------------\n",
      "Сегмент 3\n",
      "Процент оттока: 48.02%\n",
      "Размер группы: 227\n",
      "---------------------------------------\n",
      "Сегмент 4\n",
      "Процент оттока: 52.87%\n",
      "Размер группы: 174\n",
      "---------------------------------------\n",
      "Сегмент 5\n",
      "Процент оттока: 69.57%\n",
      "Размер группы: 92\n",
      "---------------------------------------\n"
     ]
    }
   ],
   "source": [
    "print('Сегмент 1')\n",
    "print('Процент оттока: {:.2%}'.format(seg1['churn'].mean()))\n",
    "print('Размер группы:', seg1['churn'].count())\n",
    "print('---------------------------------------')\n",
    "\n",
    "print('Сегмент 2')\n",
    "print('Процент оттока: {:.2%}'.format(seg2['churn'].mean()))\n",
    "print('Размер группы:', seg2['churn'].count())\n",
    "print('---------------------------------------')\n",
    "\n",
    "print('Сегмент 3')\n",
    "print('Процент оттока: {:.2%}'.format(seg3['churn'].mean()))\n",
    "print('Размер группы:', seg3['churn'].count())\n",
    "print('---------------------------------------')\n",
    "\n",
    "print('Сегмент 4')\n",
    "print('Процент оттока: {:.2%}'.format(seg4['churn'].mean()))\n",
    "print('Размер группы:', seg4['churn'].count())\n",
    "print('---------------------------------------')\n",
    "\n",
    "print('Сегмент 5')\n",
    "print('Процент оттока: {:.2%}'.format(seg5['churn'].mean()))\n",
    "print('Размер группы:', seg5['churn'].count())\n",
    "print('---------------------------------------')"
   ]
  },
  {
   "cell_type": "code",
   "execution_count": 106,
   "id": "e9959efe",
   "metadata": {},
   "outputs": [
    {
     "name": "stdout",
     "output_type": "stream",
     "text": [
      "Сегмент 6\n",
      "Процент оттока: 9.32%\n",
      "Размер группы: 1095\n",
      "---------------------------------------\n",
      "Сегмент 7\n",
      "Процент оттока: 17.07%\n",
      "Размер группы: 627\n",
      "---------------------------------------\n",
      "Сегмент 8\n",
      "Процент оттока: 29.50%\n",
      "Размер группы: 261\n",
      "---------------------------------------\n",
      "Сегмент 9\n",
      "Процент оттока: 42.06%\n",
      "Размер группы: 107\n",
      "---------------------------------------\n",
      "Сегмент 10\n",
      "Процент оттока: 45.31%\n",
      "Размер группы: 64\n",
      "---------------------------------------\n"
     ]
    }
   ],
   "source": [
    "print('Сегмент 6')\n",
    "print('Процент оттока: {:.2%}'.format(seg6['churn'].mean()))\n",
    "print('Размер группы:', seg6['churn'].count())\n",
    "print('---------------------------------------')\n",
    "\n",
    "print('Сегмент 7')\n",
    "print('Процент оттока: {:.2%}'.format(seg7['churn'].mean()))\n",
    "print('Размер группы:', seg7['churn'].count())\n",
    "print('---------------------------------------')\n",
    "\n",
    "print('Сегмент 8')\n",
    "print('Процент оттока: {:.2%}'.format(seg8['churn'].mean()))\n",
    "print('Размер группы:', seg8['churn'].count())\n",
    "print('---------------------------------------')\n",
    "\n",
    "print('Сегмент 9')\n",
    "print('Процент оттока: {:.2%}'.format(seg9['churn'].mean()))\n",
    "print('Размер группы:', seg9['churn'].count())\n",
    "print('---------------------------------------')\n",
    "\n",
    "print('Сегмент 10')\n",
    "print('Процент оттока: {:.2%}'.format(seg10['churn'].mean()))\n",
    "print('Размер группы:', seg10['churn'].count())\n",
    "print('---------------------------------------')"
   ]
  },
  {
   "cell_type": "markdown",
   "id": "1e9a63fa",
   "metadata": {},
   "source": [
    "**Таким образом выделяем несколько наиболее подходящих сегментов клиентов банка склоных к уходу - Сегмент 1, 2, 6 и 7**"
   ]
  },
  {
   "cell_type": "markdown",
   "id": "8fd44f41",
   "metadata": {},
   "source": [
    "## Итоговый вывод и рекомендации"
   ]
  },
  {
   "cell_type": "markdown",
   "id": "b0a69a9a",
   "metadata": {},
   "source": [
    "\n",
    "<b>Вывод</b>    \n",
    "    \n",
    "Целью исследования был анализ сегментов клиентов банка, уходящих и склонных к уходу. Проверка гипотез причин оттока клиентов. Анализировался датасет содержащий 10 записей данные о клиентах банка «Метанпром». Банк располагается в Ярославле и областных городах: Ростов Великий и Рыбинск. \n",
    "    \n",
    "    \n",
    "Над данными произвели предобработку:\n",
    "- привести к нижнему регистру названия столбцов USERID, EST_SALARY,\n",
    "- поменяем тип в столбцах score, age,\n",
    "- проверили на явные и не явные дубликаты,\n",
    "- изучили пропуски в столбцах age и balance,\n",
    "- перекодировали часть данных (пол и город).\n",
    "    \n",
    "    \n",
    "В исследовательской части всего зафиксировали 18,5% ушедших клиентов, нашли распределение признаков отточности клиентов, благодаря чему был составлен портрет уходящего клиента:\n",
    "- скоринговый балл - категория средний балл(770-940),\n",
    "- город - все города,\n",
    "- пол - мужчина 65% или женщина 35%,\n",
    "- возраст - категории 29-45- 53,28% или 46-61 - 33%,\n",
    "- собственность - 1-4 - 58% иди 5-9 - 38%,\n",
    "- баланс - 0-1млн - 60% или 1-4млн - 38%,\n",
    "- продукт - 1-2 - 67% или 3-5 - 33,33%,\n",
    "- кредитка - в наличие - 70% или отсутствует 30%,\n",
    "- активность - есть - 70% или нету 30%,\n",
    "- зп - до 200тыс - 83,11% или до 401 тыс - 15%\n",
    "    \n",
    "    \n",
    "С помощью корреляционного анализа нашли параметры, имеющие наибольшую взаимозависимость:\n",
    "- продукт 30%,\n",
    "- собственность 27%,\n",
    "- активность 17%,\n",
    "- пол мужской 14%,\n",
    "- скоринговый балл 10%.\n",
    "\n",
    "Далее, сформулировали и проверили статистические гипотезы:\n",
    "- гипотеза 1 о  различиях доходов между теми клиентами, которые ушли и теми, которые остались опровергалась,\n",
    "- гипотеза 2 о  различиях в количестве используемых банковских продуктов между теми клиентами, которые ушли и теми, которые остались поддтвердилась.\n",
    "    \n",
    "    \n",
    "По итогу были обнаружены сегменты клиентов, которые могут вскоре уйти:\n",
    "- Сегмент 1 (мужчины в возрасте 29-45 с 1 или 2 продуктами, у которых в собствености 1-4 балл собственности) таких 1252 человека, процент оттока 20%,\n",
    "- Сегмент 2 (мужчины в возрасте 46-61 с 1 или 2 продуктами, у которых в собствености 1-4 балл собственности) таких 502 человека, процент оттока 29%,\n",
    "- Сегмент 6 (женщины в возрасте 29-45 с 1 или 2 продуктами, у которых в собствености 1-4 балл собственности) таких 1095 человека, процент оттока 9,32%,\n",
    "- Сегмент 7 (женщины в возрасте 46-61 с 1 или 2 продуктами, у которых в собствености 1-4 балл собственности) таких 627 человека, процент оттока 17,07%.\n",
    "    \n",
    "**Рекомендации:**\n",
    "* уделить больше внимания рекламе с гендерной спецификой (чем привлечь мужскую половину населения в возрасте 29-45), \n",
    "* предложить повышенный кешбек на товары для спорта, активного отдыха и рыбалки(на косметику, товары для дома и одежду.)\n",
    "* предлагать больше продуктов (наличие 1 кредитной карты уже не релевантно),\n",
    "* уделить внимание богатым клиентам, возможно финансовая сторона вопроса их уже не интересует, значит подойти с благотовортилеьной стороны, типо процент с их дохода будет передана в детские фонды и т.п,\n",
    "* реализацию проводить во всех городах,\n",
    "* точно фиксировать причину активности, в 70% она приводит к оттоку, значите ее нужно разбивать на группы, чтобы во время ловить тревожные звоночки.\n",
    "\n"
   ]
  },
  {
   "cell_type": "code",
   "execution_count": null,
   "id": "622c9bd9",
   "metadata": {},
   "outputs": [],
   "source": []
  }
 ],
 "metadata": {
  "ExecuteTimeLog": [
   {
    "duration": 823,
    "start_time": "2023-07-08T10:24:14.846Z"
   },
   {
    "duration": 99,
    "start_time": "2023-07-08T10:25:59.243Z"
   },
   {
    "duration": 20,
    "start_time": "2023-07-08T10:26:32.773Z"
   },
   {
    "duration": 682,
    "start_time": "2023-07-08T10:27:54.037Z"
   },
   {
    "duration": 67,
    "start_time": "2023-07-08T10:27:54.721Z"
   },
   {
    "duration": 19,
    "start_time": "2023-07-08T10:27:54.790Z"
   },
   {
    "duration": 13,
    "start_time": "2023-07-08T10:29:16.614Z"
   },
   {
    "duration": 23,
    "start_time": "2023-07-08T10:30:06.116Z"
   },
   {
    "duration": 5,
    "start_time": "2023-07-08T10:50:31.392Z"
   },
   {
    "duration": 24,
    "start_time": "2023-07-08T10:50:40.879Z"
   },
   {
    "duration": 80,
    "start_time": "2023-07-08T11:00:44.260Z"
   },
   {
    "duration": 9,
    "start_time": "2023-07-08T11:02:43.895Z"
   },
   {
    "duration": 5,
    "start_time": "2023-07-08T11:14:39.355Z"
   },
   {
    "duration": 6,
    "start_time": "2023-07-08T11:18:09.210Z"
   },
   {
    "duration": 4,
    "start_time": "2023-07-08T13:58:53.106Z"
   },
   {
    "duration": 6,
    "start_time": "2023-07-08T13:59:41.544Z"
   },
   {
    "duration": 6,
    "start_time": "2023-07-08T14:00:26.908Z"
   },
   {
    "duration": 12,
    "start_time": "2023-07-08T14:09:03.195Z"
   },
   {
    "duration": 5,
    "start_time": "2023-07-08T14:09:52.591Z"
   },
   {
    "duration": 11,
    "start_time": "2023-07-08T14:10:59.695Z"
   },
   {
    "duration": 23,
    "start_time": "2023-07-08T14:11:39.796Z"
   },
   {
    "duration": 718,
    "start_time": "2023-07-08T14:12:18.041Z"
   },
   {
    "duration": 92,
    "start_time": "2023-07-08T14:12:18.762Z"
   },
   {
    "duration": 45,
    "start_time": "2023-07-08T14:12:18.856Z"
   },
   {
    "duration": 4,
    "start_time": "2023-07-08T14:12:18.904Z"
   },
   {
    "duration": 17,
    "start_time": "2023-07-08T14:12:18.911Z"
   },
   {
    "duration": 17,
    "start_time": "2023-07-08T14:12:18.930Z"
   },
   {
    "duration": 19,
    "start_time": "2023-07-08T14:12:18.949Z"
   },
   {
    "duration": 11,
    "start_time": "2023-07-08T14:12:18.970Z"
   },
   {
    "duration": 2,
    "start_time": "2023-07-08T14:12:18.984Z"
   },
   {
    "duration": 29,
    "start_time": "2023-07-08T14:12:18.989Z"
   },
   {
    "duration": 739,
    "start_time": "2023-07-08T14:12:34.435Z"
   },
   {
    "duration": 68,
    "start_time": "2023-07-08T14:12:35.176Z"
   },
   {
    "duration": 37,
    "start_time": "2023-07-08T14:12:35.247Z"
   },
   {
    "duration": 5,
    "start_time": "2023-07-08T14:12:35.286Z"
   },
   {
    "duration": 54,
    "start_time": "2023-07-08T14:12:35.293Z"
   },
   {
    "duration": 9,
    "start_time": "2023-07-08T14:12:35.351Z"
   },
   {
    "duration": 8,
    "start_time": "2023-07-08T14:12:35.362Z"
   },
   {
    "duration": 16,
    "start_time": "2023-07-08T14:12:35.372Z"
   },
   {
    "duration": 7,
    "start_time": "2023-07-08T14:12:35.390Z"
   },
   {
    "duration": 18,
    "start_time": "2023-07-08T14:12:35.399Z"
   },
   {
    "duration": 10,
    "start_time": "2023-07-08T14:15:25.605Z"
   },
   {
    "duration": 7,
    "start_time": "2023-07-08T14:19:33.733Z"
   },
   {
    "duration": 7,
    "start_time": "2023-07-08T15:05:42.296Z"
   },
   {
    "duration": 11,
    "start_time": "2023-07-08T15:06:33.658Z"
   },
   {
    "duration": 26,
    "start_time": "2023-07-08T15:50:46.345Z"
   },
   {
    "duration": 1370,
    "start_time": "2023-07-08T16:00:28.544Z"
   },
   {
    "duration": 1062,
    "start_time": "2023-07-08T16:04:38.033Z"
   },
   {
    "duration": 7,
    "start_time": "2023-07-08T16:04:50.911Z"
   },
   {
    "duration": 11,
    "start_time": "2023-07-08T16:13:07.921Z"
   },
   {
    "duration": 995,
    "start_time": "2023-07-08T16:13:15.506Z"
   },
   {
    "duration": 5,
    "start_time": "2023-07-08T16:15:11.173Z"
   },
   {
    "duration": 5,
    "start_time": "2023-07-08T16:15:29.176Z"
   },
   {
    "duration": 8,
    "start_time": "2023-07-08T16:15:47.513Z"
   },
   {
    "duration": 13,
    "start_time": "2023-07-08T16:16:20.330Z"
   },
   {
    "duration": 6,
    "start_time": "2023-07-08T16:16:35.295Z"
   },
   {
    "duration": 9,
    "start_time": "2023-07-08T16:17:00.517Z"
   },
   {
    "duration": 9,
    "start_time": "2023-07-08T16:17:21.713Z"
   },
   {
    "duration": 6,
    "start_time": "2023-07-08T16:19:04.320Z"
   },
   {
    "duration": 7,
    "start_time": "2023-07-08T16:19:35.827Z"
   },
   {
    "duration": 7,
    "start_time": "2023-07-08T16:20:25.570Z"
   },
   {
    "duration": 6,
    "start_time": "2023-07-08T16:20:49.433Z"
   },
   {
    "duration": 8,
    "start_time": "2023-07-08T16:21:19.304Z"
   },
   {
    "duration": 17,
    "start_time": "2023-07-08T16:38:37.410Z"
   },
   {
    "duration": 20,
    "start_time": "2023-07-08T16:40:46.911Z"
   },
   {
    "duration": 50,
    "start_time": "2023-07-09T09:32:50.769Z"
   },
   {
    "duration": 878,
    "start_time": "2023-07-09T09:32:56.356Z"
   },
   {
    "duration": 69,
    "start_time": "2023-07-09T09:32:57.237Z"
   },
   {
    "duration": 30,
    "start_time": "2023-07-09T09:32:57.308Z"
   },
   {
    "duration": 4,
    "start_time": "2023-07-09T09:32:57.340Z"
   },
   {
    "duration": 6,
    "start_time": "2023-07-09T09:32:57.346Z"
   },
   {
    "duration": 20,
    "start_time": "2023-07-09T09:32:57.354Z"
   },
   {
    "duration": 14,
    "start_time": "2023-07-09T09:32:57.376Z"
   },
   {
    "duration": 11,
    "start_time": "2023-07-09T09:32:57.392Z"
   },
   {
    "duration": 4,
    "start_time": "2023-07-09T09:32:57.405Z"
   },
   {
    "duration": 19,
    "start_time": "2023-07-09T09:32:57.411Z"
   },
   {
    "duration": 37,
    "start_time": "2023-07-09T09:32:57.432Z"
   },
   {
    "duration": 9,
    "start_time": "2023-07-09T09:32:57.471Z"
   },
   {
    "duration": 22,
    "start_time": "2023-07-09T09:32:57.482Z"
   },
   {
    "duration": 7,
    "start_time": "2023-07-09T09:32:57.508Z"
   },
   {
    "duration": 8,
    "start_time": "2023-07-09T09:32:57.517Z"
   },
   {
    "duration": 47,
    "start_time": "2023-07-09T09:32:57.527Z"
   },
   {
    "duration": 7,
    "start_time": "2023-07-09T09:32:57.576Z"
   },
   {
    "duration": 9,
    "start_time": "2023-07-09T09:32:57.585Z"
   },
   {
    "duration": 6,
    "start_time": "2023-07-09T09:32:57.596Z"
   },
   {
    "duration": 11,
    "start_time": "2023-07-09T09:32:57.604Z"
   },
   {
    "duration": 7,
    "start_time": "2023-07-09T09:32:57.617Z"
   },
   {
    "duration": 62,
    "start_time": "2023-07-09T09:32:57.626Z"
   },
   {
    "duration": 4,
    "start_time": "2023-07-09T09:32:57.691Z"
   },
   {
    "duration": 19,
    "start_time": "2023-07-09T09:36:00.199Z"
   },
   {
    "duration": 20,
    "start_time": "2023-07-09T09:36:57.527Z"
   },
   {
    "duration": 12,
    "start_time": "2023-07-09T09:37:34.433Z"
   },
   {
    "duration": 975,
    "start_time": "2023-07-10T10:04:47.489Z"
   },
   {
    "duration": 97,
    "start_time": "2023-07-10T10:04:48.466Z"
   },
   {
    "duration": 28,
    "start_time": "2023-07-10T10:04:48.564Z"
   },
   {
    "duration": 4,
    "start_time": "2023-07-10T10:04:48.594Z"
   },
   {
    "duration": 38,
    "start_time": "2023-07-10T10:04:48.610Z"
   },
   {
    "duration": 16,
    "start_time": "2023-07-10T10:04:48.650Z"
   },
   {
    "duration": 11,
    "start_time": "2023-07-10T10:04:48.668Z"
   },
   {
    "duration": 16,
    "start_time": "2023-07-10T10:04:48.681Z"
   },
   {
    "duration": 52,
    "start_time": "2023-07-10T10:04:48.699Z"
   },
   {
    "duration": 26,
    "start_time": "2023-07-10T10:04:48.753Z"
   },
   {
    "duration": 6,
    "start_time": "2023-07-10T10:04:48.781Z"
   },
   {
    "duration": 36,
    "start_time": "2023-07-10T10:04:48.789Z"
   },
   {
    "duration": 16,
    "start_time": "2023-07-10T10:04:48.826Z"
   },
   {
    "duration": 5,
    "start_time": "2023-07-10T10:04:48.845Z"
   },
   {
    "duration": 15,
    "start_time": "2023-07-10T10:04:48.852Z"
   },
   {
    "duration": 10,
    "start_time": "2023-07-10T10:04:48.869Z"
   },
   {
    "duration": 9,
    "start_time": "2023-07-10T10:04:48.882Z"
   },
   {
    "duration": 38,
    "start_time": "2023-07-10T10:04:48.893Z"
   },
   {
    "duration": 31,
    "start_time": "2023-07-10T10:04:48.932Z"
   },
   {
    "duration": 8,
    "start_time": "2023-07-10T10:04:48.964Z"
   },
   {
    "duration": 13,
    "start_time": "2023-07-10T10:04:48.974Z"
   },
   {
    "duration": 31,
    "start_time": "2023-07-10T10:04:48.988Z"
   },
   {
    "duration": 14,
    "start_time": "2023-07-10T10:04:49.024Z"
   },
   {
    "duration": 24,
    "start_time": "2023-07-10T10:04:49.040Z"
   },
   {
    "duration": 12,
    "start_time": "2023-07-10T10:04:49.066Z"
   },
   {
    "duration": 14,
    "start_time": "2023-07-10T10:04:49.079Z"
   },
   {
    "duration": 15,
    "start_time": "2023-07-10T10:09:32.830Z"
   },
   {
    "duration": 8,
    "start_time": "2023-07-10T10:18:17.854Z"
   },
   {
    "duration": 6,
    "start_time": "2023-07-10T10:22:44.435Z"
   },
   {
    "duration": 129,
    "start_time": "2023-07-10T10:24:15.612Z"
   },
   {
    "duration": 90,
    "start_time": "2023-07-10T10:24:47.460Z"
   },
   {
    "duration": 904,
    "start_time": "2023-07-10T10:25:02.813Z"
   },
   {
    "duration": 123,
    "start_time": "2023-07-10T10:25:13.021Z"
   },
   {
    "duration": 87,
    "start_time": "2023-07-10T10:25:26.190Z"
   },
   {
    "duration": 13,
    "start_time": "2023-07-10T10:25:30.790Z"
   },
   {
    "duration": 10,
    "start_time": "2023-07-10T10:50:25.618Z"
   },
   {
    "duration": 19,
    "start_time": "2023-07-10T10:51:01.092Z"
   },
   {
    "duration": 6,
    "start_time": "2023-07-10T11:40:11.741Z"
   },
   {
    "duration": 8,
    "start_time": "2023-07-10T11:42:18.375Z"
   },
   {
    "duration": 9,
    "start_time": "2023-07-10T11:43:11.757Z"
   },
   {
    "duration": 10,
    "start_time": "2023-07-10T11:43:26.628Z"
   },
   {
    "duration": 11,
    "start_time": "2023-07-10T11:43:36.023Z"
   },
   {
    "duration": 10,
    "start_time": "2023-07-10T11:43:49.780Z"
   },
   {
    "duration": 9,
    "start_time": "2023-07-10T11:44:17.248Z"
   },
   {
    "duration": 10,
    "start_time": "2023-07-10T11:47:25.960Z"
   },
   {
    "duration": 8,
    "start_time": "2023-07-10T11:48:12.710Z"
   },
   {
    "duration": 7,
    "start_time": "2023-07-10T11:49:15.073Z"
   },
   {
    "duration": 6,
    "start_time": "2023-07-10T11:49:35.421Z"
   },
   {
    "duration": 6,
    "start_time": "2023-07-10T11:49:37.443Z"
   },
   {
    "duration": 11,
    "start_time": "2023-07-10T11:49:59.330Z"
   },
   {
    "duration": 11,
    "start_time": "2023-07-10T11:50:32.805Z"
   },
   {
    "duration": 11,
    "start_time": "2023-07-10T11:53:44.017Z"
   },
   {
    "duration": 5269,
    "start_time": "2023-07-10T11:54:31.813Z"
   },
   {
    "duration": 5,
    "start_time": "2023-07-10T11:56:04.117Z"
   },
   {
    "duration": 3661,
    "start_time": "2023-07-10T11:58:12.839Z"
   },
   {
    "duration": 6,
    "start_time": "2023-07-10T11:58:24.725Z"
   },
   {
    "duration": 14,
    "start_time": "2023-07-10T11:58:51.970Z"
   },
   {
    "duration": 11,
    "start_time": "2023-07-10T12:01:38.401Z"
   },
   {
    "duration": 5,
    "start_time": "2023-07-10T12:03:23.117Z"
   },
   {
    "duration": 8,
    "start_time": "2023-07-10T12:03:35.041Z"
   },
   {
    "duration": 11,
    "start_time": "2023-07-10T12:04:50.745Z"
   },
   {
    "duration": 15,
    "start_time": "2023-07-10T12:07:04.552Z"
   },
   {
    "duration": 14,
    "start_time": "2023-07-10T12:09:35.296Z"
   },
   {
    "duration": 669,
    "start_time": "2023-07-10T12:10:31.499Z"
   },
   {
    "duration": 90,
    "start_time": "2023-07-10T12:10:32.170Z"
   },
   {
    "duration": 25,
    "start_time": "2023-07-10T12:10:32.264Z"
   },
   {
    "duration": 8,
    "start_time": "2023-07-10T12:10:32.291Z"
   },
   {
    "duration": 25,
    "start_time": "2023-07-10T12:10:32.301Z"
   },
   {
    "duration": 35,
    "start_time": "2023-07-10T12:10:32.328Z"
   },
   {
    "duration": 14,
    "start_time": "2023-07-10T12:10:32.365Z"
   },
   {
    "duration": 26,
    "start_time": "2023-07-10T12:10:32.381Z"
   },
   {
    "duration": 20,
    "start_time": "2023-07-10T12:10:32.409Z"
   },
   {
    "duration": 26,
    "start_time": "2023-07-10T12:10:32.431Z"
   },
   {
    "duration": 25,
    "start_time": "2023-07-10T12:10:32.459Z"
   },
   {
    "duration": 13,
    "start_time": "2023-07-10T12:10:32.486Z"
   },
   {
    "duration": 18,
    "start_time": "2023-07-10T12:10:32.502Z"
   },
   {
    "duration": 13,
    "start_time": "2023-07-10T12:10:32.522Z"
   },
   {
    "duration": 22,
    "start_time": "2023-07-10T12:10:32.537Z"
   },
   {
    "duration": 15,
    "start_time": "2023-07-10T12:10:32.560Z"
   },
   {
    "duration": 12,
    "start_time": "2023-07-10T12:10:32.576Z"
   },
   {
    "duration": 21,
    "start_time": "2023-07-10T12:10:32.589Z"
   },
   {
    "duration": 11,
    "start_time": "2023-07-10T12:10:32.612Z"
   },
   {
    "duration": 17,
    "start_time": "2023-07-10T12:10:32.625Z"
   },
   {
    "duration": 17,
    "start_time": "2023-07-10T12:10:32.644Z"
   },
   {
    "duration": 19,
    "start_time": "2023-07-10T12:10:32.662Z"
   },
   {
    "duration": 11,
    "start_time": "2023-07-10T12:10:32.682Z"
   },
   {
    "duration": 14,
    "start_time": "2023-07-10T12:10:32.699Z"
   },
   {
    "duration": 11,
    "start_time": "2023-07-10T12:10:32.714Z"
   },
   {
    "duration": 12,
    "start_time": "2023-07-10T12:10:32.726Z"
   },
   {
    "duration": 13,
    "start_time": "2023-07-10T12:18:20.519Z"
   },
   {
    "duration": 10,
    "start_time": "2023-07-10T12:18:44.024Z"
   },
   {
    "duration": 113,
    "start_time": "2023-07-10T12:24:28.583Z"
   },
   {
    "duration": 11,
    "start_time": "2023-07-10T12:24:34.447Z"
   },
   {
    "duration": 7,
    "start_time": "2023-07-10T12:26:07.002Z"
   },
   {
    "duration": 8,
    "start_time": "2023-07-10T12:26:30.350Z"
   },
   {
    "duration": 5,
    "start_time": "2023-07-10T12:32:43.239Z"
   },
   {
    "duration": 1110,
    "start_time": "2023-07-10T12:46:38.252Z"
   },
   {
    "duration": 82,
    "start_time": "2023-07-10T12:46:39.364Z"
   },
   {
    "duration": 23,
    "start_time": "2023-07-10T12:46:39.448Z"
   },
   {
    "duration": 3,
    "start_time": "2023-07-10T12:46:39.473Z"
   },
   {
    "duration": 15,
    "start_time": "2023-07-10T12:46:39.479Z"
   },
   {
    "duration": 48,
    "start_time": "2023-07-10T12:46:39.495Z"
   },
   {
    "duration": 13,
    "start_time": "2023-07-10T12:46:39.544Z"
   },
   {
    "duration": 11,
    "start_time": "2023-07-10T12:46:39.559Z"
   },
   {
    "duration": 4,
    "start_time": "2023-07-10T12:46:39.571Z"
   },
   {
    "duration": 10,
    "start_time": "2023-07-10T12:46:39.577Z"
   },
   {
    "duration": 5,
    "start_time": "2023-07-10T12:46:39.588Z"
   },
   {
    "duration": 63,
    "start_time": "2023-07-10T12:46:39.594Z"
   },
   {
    "duration": 22,
    "start_time": "2023-07-10T12:46:39.658Z"
   },
   {
    "duration": 14,
    "start_time": "2023-07-10T12:46:39.683Z"
   },
   {
    "duration": 46,
    "start_time": "2023-07-10T12:46:39.698Z"
   },
   {
    "duration": 26,
    "start_time": "2023-07-10T12:46:39.745Z"
   },
   {
    "duration": 5,
    "start_time": "2023-07-10T12:46:39.773Z"
   },
   {
    "duration": 16,
    "start_time": "2023-07-10T12:46:39.779Z"
   },
   {
    "duration": 45,
    "start_time": "2023-07-10T12:46:39.797Z"
   },
   {
    "duration": 20,
    "start_time": "2023-07-10T12:46:39.844Z"
   },
   {
    "duration": 25,
    "start_time": "2023-07-10T12:46:39.865Z"
   },
   {
    "duration": 34,
    "start_time": "2023-07-10T12:46:39.891Z"
   },
   {
    "duration": 27,
    "start_time": "2023-07-10T12:46:39.926Z"
   },
   {
    "duration": 28,
    "start_time": "2023-07-10T12:46:39.955Z"
   },
   {
    "duration": 75,
    "start_time": "2023-07-10T12:46:39.984Z"
   },
   {
    "duration": 28,
    "start_time": "2023-07-10T12:46:40.061Z"
   },
   {
    "duration": 41,
    "start_time": "2023-07-10T12:46:40.091Z"
   },
   {
    "duration": 20,
    "start_time": "2023-07-10T12:46:40.134Z"
   },
   {
    "duration": 32,
    "start_time": "2023-07-10T12:46:40.156Z"
   },
   {
    "duration": 17,
    "start_time": "2023-07-10T12:56:26.744Z"
   },
   {
    "duration": 18,
    "start_time": "2023-07-10T12:56:38.436Z"
   },
   {
    "duration": 20,
    "start_time": "2023-07-10T12:58:25.424Z"
   },
   {
    "duration": 20,
    "start_time": "2023-07-10T12:59:26.458Z"
   },
   {
    "duration": 19,
    "start_time": "2023-07-10T12:59:36.830Z"
   },
   {
    "duration": 38,
    "start_time": "2023-07-10T13:12:36.440Z"
   },
   {
    "duration": 42,
    "start_time": "2023-07-10T13:12:51.499Z"
   },
   {
    "duration": 74,
    "start_time": "2023-07-10T13:20:17.018Z"
   },
   {
    "duration": 517,
    "start_time": "2023-07-10T13:20:35.942Z"
   },
   {
    "duration": 174,
    "start_time": "2023-07-10T13:20:43.619Z"
   },
   {
    "duration": 9,
    "start_time": "2023-07-10T13:22:08.219Z"
   },
   {
    "duration": 8,
    "start_time": "2023-07-10T13:23:39.660Z"
   },
   {
    "duration": 11,
    "start_time": "2023-07-10T13:23:42.872Z"
   },
   {
    "duration": 1521,
    "start_time": "2023-07-11T08:33:59.791Z"
   },
   {
    "duration": 98,
    "start_time": "2023-07-11T08:34:01.315Z"
   },
   {
    "duration": 37,
    "start_time": "2023-07-11T08:34:01.414Z"
   },
   {
    "duration": 25,
    "start_time": "2023-07-11T08:34:01.453Z"
   },
   {
    "duration": 34,
    "start_time": "2023-07-11T08:34:01.480Z"
   },
   {
    "duration": 43,
    "start_time": "2023-07-11T08:34:01.516Z"
   },
   {
    "duration": 54,
    "start_time": "2023-07-11T08:34:01.563Z"
   },
   {
    "duration": 41,
    "start_time": "2023-07-11T08:34:01.619Z"
   },
   {
    "duration": 50,
    "start_time": "2023-07-11T08:34:01.661Z"
   },
   {
    "duration": 48,
    "start_time": "2023-07-11T08:34:01.713Z"
   },
   {
    "duration": 51,
    "start_time": "2023-07-11T08:34:01.767Z"
   },
   {
    "duration": 94,
    "start_time": "2023-07-11T08:34:01.820Z"
   },
   {
    "duration": 105,
    "start_time": "2023-07-11T08:34:01.916Z"
   },
   {
    "duration": 41,
    "start_time": "2023-07-11T08:34:02.024Z"
   },
   {
    "duration": 53,
    "start_time": "2023-07-11T08:34:02.067Z"
   },
   {
    "duration": 40,
    "start_time": "2023-07-11T08:34:02.122Z"
   },
   {
    "duration": 39,
    "start_time": "2023-07-11T08:34:02.163Z"
   },
   {
    "duration": 29,
    "start_time": "2023-07-11T08:34:02.204Z"
   },
   {
    "duration": 50,
    "start_time": "2023-07-11T08:34:02.235Z"
   },
   {
    "duration": 42,
    "start_time": "2023-07-11T08:34:02.288Z"
   },
   {
    "duration": 36,
    "start_time": "2023-07-11T08:34:02.332Z"
   },
   {
    "duration": 48,
    "start_time": "2023-07-11T08:34:02.371Z"
   },
   {
    "duration": 34,
    "start_time": "2023-07-11T08:34:02.422Z"
   },
   {
    "duration": 30,
    "start_time": "2023-07-11T08:34:02.459Z"
   },
   {
    "duration": 31,
    "start_time": "2023-07-11T08:34:02.491Z"
   },
   {
    "duration": 32,
    "start_time": "2023-07-11T08:34:02.524Z"
   },
   {
    "duration": 24,
    "start_time": "2023-07-11T08:34:02.558Z"
   },
   {
    "duration": 30,
    "start_time": "2023-07-11T08:34:02.584Z"
   },
   {
    "duration": 65,
    "start_time": "2023-07-11T08:34:02.615Z"
   },
   {
    "duration": 34,
    "start_time": "2023-07-11T08:34:02.682Z"
   },
   {
    "duration": 47,
    "start_time": "2023-07-11T08:34:02.718Z"
   },
   {
    "duration": 188,
    "start_time": "2023-07-11T08:34:02.769Z"
   },
   {
    "duration": 17,
    "start_time": "2023-07-11T08:34:02.959Z"
   },
   {
    "duration": 159,
    "start_time": "2023-07-11T08:43:55.849Z"
   },
   {
    "duration": 233,
    "start_time": "2023-07-11T08:45:38.498Z"
   },
   {
    "duration": 409,
    "start_time": "2023-07-11T08:46:24.287Z"
   },
   {
    "duration": 219,
    "start_time": "2023-07-11T08:52:18.603Z"
   },
   {
    "duration": 163,
    "start_time": "2023-07-11T08:55:08.979Z"
   },
   {
    "duration": 227,
    "start_time": "2023-07-11T08:55:23.750Z"
   },
   {
    "duration": 156,
    "start_time": "2023-07-11T08:55:36.421Z"
   },
   {
    "duration": 182,
    "start_time": "2023-07-11T08:56:06.079Z"
   },
   {
    "duration": 238,
    "start_time": "2023-07-11T08:56:12.850Z"
   },
   {
    "duration": 264,
    "start_time": "2023-07-11T08:56:19.200Z"
   },
   {
    "duration": 15,
    "start_time": "2023-07-11T08:56:37.704Z"
   },
   {
    "duration": 146,
    "start_time": "2023-07-11T08:58:59.446Z"
   },
   {
    "duration": 11,
    "start_time": "2023-07-11T08:59:07.109Z"
   },
   {
    "duration": 9,
    "start_time": "2023-07-11T09:01:18.332Z"
   },
   {
    "duration": 149,
    "start_time": "2023-07-11T09:02:36.846Z"
   },
   {
    "duration": 15,
    "start_time": "2023-07-11T09:03:16.606Z"
   },
   {
    "duration": 14,
    "start_time": "2023-07-11T09:03:33.900Z"
   },
   {
    "duration": 17,
    "start_time": "2023-07-11T09:04:05.511Z"
   },
   {
    "duration": 40,
    "start_time": "2023-07-11T09:14:40.898Z"
   },
   {
    "duration": 1702,
    "start_time": "2023-07-11T09:14:51.335Z"
   },
   {
    "duration": 193,
    "start_time": "2023-07-11T09:14:53.039Z"
   },
   {
    "duration": 44,
    "start_time": "2023-07-11T09:14:53.234Z"
   },
   {
    "duration": 48,
    "start_time": "2023-07-11T09:14:53.281Z"
   },
   {
    "duration": 75,
    "start_time": "2023-07-11T09:14:53.331Z"
   },
   {
    "duration": 28,
    "start_time": "2023-07-11T09:14:53.408Z"
   },
   {
    "duration": 11,
    "start_time": "2023-07-11T09:14:53.438Z"
   },
   {
    "duration": 58,
    "start_time": "2023-07-11T09:14:53.451Z"
   },
   {
    "duration": 8,
    "start_time": "2023-07-11T09:14:53.511Z"
   },
   {
    "duration": 15,
    "start_time": "2023-07-11T09:14:53.523Z"
   },
   {
    "duration": 22,
    "start_time": "2023-07-11T09:14:53.539Z"
   },
   {
    "duration": 77,
    "start_time": "2023-07-11T09:14:53.564Z"
   },
   {
    "duration": 26,
    "start_time": "2023-07-11T09:14:53.643Z"
   },
   {
    "duration": 56,
    "start_time": "2023-07-11T09:14:53.671Z"
   },
   {
    "duration": 36,
    "start_time": "2023-07-11T09:14:53.729Z"
   },
   {
    "duration": 60,
    "start_time": "2023-07-11T09:14:53.767Z"
   },
   {
    "duration": 62,
    "start_time": "2023-07-11T09:14:53.829Z"
   },
   {
    "duration": 89,
    "start_time": "2023-07-11T09:14:53.893Z"
   },
   {
    "duration": 60,
    "start_time": "2023-07-11T09:14:53.984Z"
   },
   {
    "duration": 82,
    "start_time": "2023-07-11T09:14:54.046Z"
   },
   {
    "duration": 19,
    "start_time": "2023-07-11T09:14:54.130Z"
   },
   {
    "duration": 65,
    "start_time": "2023-07-11T09:14:54.151Z"
   },
   {
    "duration": 20,
    "start_time": "2023-07-11T09:14:54.217Z"
   },
   {
    "duration": 45,
    "start_time": "2023-07-11T09:14:54.238Z"
   },
   {
    "duration": 32,
    "start_time": "2023-07-11T09:14:54.285Z"
   },
   {
    "duration": 28,
    "start_time": "2023-07-11T09:14:54.319Z"
   },
   {
    "duration": 68,
    "start_time": "2023-07-11T09:14:54.349Z"
   },
   {
    "duration": 27,
    "start_time": "2023-07-11T09:14:54.420Z"
   },
   {
    "duration": 57,
    "start_time": "2023-07-11T09:14:54.449Z"
   },
   {
    "duration": 29,
    "start_time": "2023-07-11T09:14:54.508Z"
   },
   {
    "duration": 69,
    "start_time": "2023-07-11T09:14:54.539Z"
   },
   {
    "duration": 182,
    "start_time": "2023-07-11T09:14:54.610Z"
   },
   {
    "duration": 18,
    "start_time": "2023-07-11T09:14:54.795Z"
   },
   {
    "duration": 38,
    "start_time": "2023-07-11T09:14:54.815Z"
   },
   {
    "duration": 49,
    "start_time": "2023-07-11T09:14:54.856Z"
   },
   {
    "duration": 54,
    "start_time": "2023-07-11T09:20:50.993Z"
   },
   {
    "duration": 113,
    "start_time": "2023-07-11T09:23:00.716Z"
   },
   {
    "duration": 19,
    "start_time": "2023-07-11T09:23:51.507Z"
   },
   {
    "duration": 6,
    "start_time": "2023-07-11T09:26:12.680Z"
   },
   {
    "duration": 158,
    "start_time": "2023-07-11T09:28:44.097Z"
   },
   {
    "duration": 172,
    "start_time": "2023-07-11T09:32:09.914Z"
   },
   {
    "duration": 156,
    "start_time": "2023-07-11T09:32:13.535Z"
   },
   {
    "duration": 1267,
    "start_time": "2023-07-11T09:33:35.624Z"
   },
   {
    "duration": 123,
    "start_time": "2023-07-11T09:33:36.893Z"
   },
   {
    "duration": 29,
    "start_time": "2023-07-11T09:33:37.018Z"
   },
   {
    "duration": 4,
    "start_time": "2023-07-11T09:33:37.049Z"
   },
   {
    "duration": 7,
    "start_time": "2023-07-11T09:33:37.056Z"
   },
   {
    "duration": 10,
    "start_time": "2023-07-11T09:33:37.065Z"
   },
   {
    "duration": 7,
    "start_time": "2023-07-11T09:33:37.077Z"
   },
   {
    "duration": 28,
    "start_time": "2023-07-11T09:33:37.086Z"
   },
   {
    "duration": 4,
    "start_time": "2023-07-11T09:33:37.117Z"
   },
   {
    "duration": 19,
    "start_time": "2023-07-11T09:33:37.123Z"
   },
   {
    "duration": 6,
    "start_time": "2023-07-11T09:33:37.153Z"
   },
   {
    "duration": 27,
    "start_time": "2023-07-11T09:33:37.161Z"
   },
   {
    "duration": 16,
    "start_time": "2023-07-11T09:33:37.190Z"
   },
   {
    "duration": 15,
    "start_time": "2023-07-11T09:33:37.209Z"
   },
   {
    "duration": 33,
    "start_time": "2023-07-11T09:33:37.226Z"
   },
   {
    "duration": 14,
    "start_time": "2023-07-11T09:33:37.261Z"
   },
   {
    "duration": 7,
    "start_time": "2023-07-11T09:33:37.277Z"
   },
   {
    "duration": 7,
    "start_time": "2023-07-11T09:33:37.286Z"
   },
   {
    "duration": 14,
    "start_time": "2023-07-11T09:33:37.295Z"
   },
   {
    "duration": 42,
    "start_time": "2023-07-11T09:33:37.311Z"
   },
   {
    "duration": 23,
    "start_time": "2023-07-11T09:33:37.355Z"
   },
   {
    "duration": 26,
    "start_time": "2023-07-11T09:33:37.380Z"
   },
   {
    "duration": 18,
    "start_time": "2023-07-11T09:33:37.409Z"
   },
   {
    "duration": 22,
    "start_time": "2023-07-11T09:33:37.452Z"
   },
   {
    "duration": 24,
    "start_time": "2023-07-11T09:33:37.476Z"
   },
   {
    "duration": 23,
    "start_time": "2023-07-11T09:33:37.502Z"
   },
   {
    "duration": 27,
    "start_time": "2023-07-11T09:33:37.527Z"
   },
   {
    "duration": 21,
    "start_time": "2023-07-11T09:33:37.556Z"
   },
   {
    "duration": 27,
    "start_time": "2023-07-11T09:33:37.579Z"
   },
   {
    "duration": 28,
    "start_time": "2023-07-11T09:33:37.607Z"
   },
   {
    "duration": 50,
    "start_time": "2023-07-11T09:33:37.637Z"
   },
   {
    "duration": 176,
    "start_time": "2023-07-11T09:33:37.688Z"
   },
   {
    "duration": 15,
    "start_time": "2023-07-11T09:33:37.866Z"
   },
   {
    "duration": 10,
    "start_time": "2023-07-11T09:33:37.882Z"
   },
   {
    "duration": 162,
    "start_time": "2023-07-11T09:33:37.893Z"
   },
   {
    "duration": 125,
    "start_time": "2023-07-11T09:40:28.047Z"
   },
   {
    "duration": 121,
    "start_time": "2023-07-11T09:40:38.534Z"
   },
   {
    "duration": 104,
    "start_time": "2023-07-11T09:43:04.354Z"
   },
   {
    "duration": 6,
    "start_time": "2023-07-11T09:43:27.798Z"
   },
   {
    "duration": 34,
    "start_time": "2023-07-11T09:49:13.501Z"
   },
   {
    "duration": 46,
    "start_time": "2023-07-11T09:49:28.595Z"
   },
   {
    "duration": 8,
    "start_time": "2023-07-11T09:56:31.092Z"
   },
   {
    "duration": 66,
    "start_time": "2023-07-11T10:06:42.237Z"
   },
   {
    "duration": 40,
    "start_time": "2023-07-11T10:06:53.050Z"
   },
   {
    "duration": 33,
    "start_time": "2023-07-11T10:07:26.414Z"
   },
   {
    "duration": 21,
    "start_time": "2023-07-11T10:10:41.421Z"
   },
   {
    "duration": 23,
    "start_time": "2023-07-11T10:31:33.398Z"
   },
   {
    "duration": 20,
    "start_time": "2023-07-11T11:18:01.015Z"
   },
   {
    "duration": 5,
    "start_time": "2023-07-11T11:19:31.194Z"
   },
   {
    "duration": 1355,
    "start_time": "2023-07-11T11:20:18.846Z"
   },
   {
    "duration": 215,
    "start_time": "2023-07-11T11:20:20.203Z"
   },
   {
    "duration": 30,
    "start_time": "2023-07-11T11:20:20.420Z"
   },
   {
    "duration": 53,
    "start_time": "2023-07-11T11:20:20.459Z"
   },
   {
    "duration": 24,
    "start_time": "2023-07-11T11:20:20.514Z"
   },
   {
    "duration": 66,
    "start_time": "2023-07-11T11:20:20.539Z"
   },
   {
    "duration": 25,
    "start_time": "2023-07-11T11:20:20.606Z"
   },
   {
    "duration": 53,
    "start_time": "2023-07-11T11:20:20.633Z"
   },
   {
    "duration": 22,
    "start_time": "2023-07-11T11:20:20.688Z"
   },
   {
    "duration": 21,
    "start_time": "2023-07-11T11:20:20.712Z"
   },
   {
    "duration": 64,
    "start_time": "2023-07-11T11:20:20.734Z"
   },
   {
    "duration": 36,
    "start_time": "2023-07-11T11:20:20.799Z"
   },
   {
    "duration": 101,
    "start_time": "2023-07-11T11:20:20.837Z"
   },
   {
    "duration": 309,
    "start_time": "2023-07-11T11:20:20.941Z"
   },
   {
    "duration": 68,
    "start_time": "2023-07-11T11:20:21.252Z"
   },
   {
    "duration": 24,
    "start_time": "2023-07-11T11:20:21.323Z"
   },
   {
    "duration": 60,
    "start_time": "2023-07-11T11:20:21.348Z"
   },
   {
    "duration": 11,
    "start_time": "2023-07-11T11:20:21.410Z"
   },
   {
    "duration": 40,
    "start_time": "2023-07-11T11:20:21.423Z"
   },
   {
    "duration": 55,
    "start_time": "2023-07-11T11:20:21.471Z"
   },
   {
    "duration": 17,
    "start_time": "2023-07-11T11:20:21.528Z"
   },
   {
    "duration": 82,
    "start_time": "2023-07-11T11:20:21.546Z"
   },
   {
    "duration": 29,
    "start_time": "2023-07-11T11:20:21.630Z"
   },
   {
    "duration": 59,
    "start_time": "2023-07-11T11:20:21.661Z"
   },
   {
    "duration": 71,
    "start_time": "2023-07-11T11:20:21.722Z"
   },
   {
    "duration": 34,
    "start_time": "2023-07-11T11:20:21.795Z"
   },
   {
    "duration": 25,
    "start_time": "2023-07-11T11:20:21.831Z"
   },
   {
    "duration": 62,
    "start_time": "2023-07-11T11:20:21.858Z"
   },
   {
    "duration": 41,
    "start_time": "2023-07-11T11:20:21.921Z"
   },
   {
    "duration": 81,
    "start_time": "2023-07-11T11:20:21.964Z"
   },
   {
    "duration": 47,
    "start_time": "2023-07-11T11:20:22.047Z"
   },
   {
    "duration": 171,
    "start_time": "2023-07-11T11:20:22.097Z"
   },
   {
    "duration": 30,
    "start_time": "2023-07-11T11:20:22.270Z"
   },
   {
    "duration": 13,
    "start_time": "2023-07-11T11:20:22.302Z"
   },
   {
    "duration": 151,
    "start_time": "2023-07-11T11:20:22.316Z"
   },
   {
    "duration": 6,
    "start_time": "2023-07-11T11:20:22.469Z"
   },
   {
    "duration": 40,
    "start_time": "2023-07-11T11:20:22.479Z"
   },
   {
    "duration": 16,
    "start_time": "2023-07-11T11:20:22.520Z"
   },
   {
    "duration": 8,
    "start_time": "2023-07-11T11:22:12.022Z"
   },
   {
    "duration": 29,
    "start_time": "2023-07-11T11:24:21.770Z"
   },
   {
    "duration": 6,
    "start_time": "2023-07-11T11:25:46.524Z"
   },
   {
    "duration": 1399,
    "start_time": "2023-07-11T11:26:03.529Z"
   },
   {
    "duration": 107,
    "start_time": "2023-07-11T11:26:04.930Z"
   },
   {
    "duration": 41,
    "start_time": "2023-07-11T11:26:05.040Z"
   },
   {
    "duration": 13,
    "start_time": "2023-07-11T11:26:05.083Z"
   },
   {
    "duration": 16,
    "start_time": "2023-07-11T11:26:05.099Z"
   },
   {
    "duration": 20,
    "start_time": "2023-07-11T11:26:05.118Z"
   },
   {
    "duration": 34,
    "start_time": "2023-07-11T11:26:05.140Z"
   },
   {
    "duration": 23,
    "start_time": "2023-07-11T11:26:05.177Z"
   },
   {
    "duration": 8,
    "start_time": "2023-07-11T11:26:05.203Z"
   },
   {
    "duration": 20,
    "start_time": "2023-07-11T11:26:05.213Z"
   },
   {
    "duration": 8,
    "start_time": "2023-07-11T11:26:05.235Z"
   },
   {
    "duration": 36,
    "start_time": "2023-07-11T11:26:05.244Z"
   },
   {
    "duration": 33,
    "start_time": "2023-07-11T11:26:05.282Z"
   },
   {
    "duration": 39,
    "start_time": "2023-07-11T11:26:05.326Z"
   },
   {
    "duration": 74,
    "start_time": "2023-07-11T11:26:05.367Z"
   },
   {
    "duration": 55,
    "start_time": "2023-07-11T11:26:05.443Z"
   },
   {
    "duration": 29,
    "start_time": "2023-07-11T11:26:05.500Z"
   },
   {
    "duration": 25,
    "start_time": "2023-07-11T11:26:05.531Z"
   },
   {
    "duration": 74,
    "start_time": "2023-07-11T11:26:05.562Z"
   },
   {
    "duration": 69,
    "start_time": "2023-07-11T11:26:05.637Z"
   },
   {
    "duration": 20,
    "start_time": "2023-07-11T11:26:05.707Z"
   },
   {
    "duration": 83,
    "start_time": "2023-07-11T11:26:05.729Z"
   },
   {
    "duration": 26,
    "start_time": "2023-07-11T11:26:05.814Z"
   },
   {
    "duration": 88,
    "start_time": "2023-07-11T11:26:05.842Z"
   },
   {
    "duration": 80,
    "start_time": "2023-07-11T11:26:05.932Z"
   },
   {
    "duration": 87,
    "start_time": "2023-07-11T11:26:06.014Z"
   },
   {
    "duration": 36,
    "start_time": "2023-07-11T11:26:06.103Z"
   },
   {
    "duration": 68,
    "start_time": "2023-07-11T11:26:06.141Z"
   },
   {
    "duration": 52,
    "start_time": "2023-07-11T11:26:06.211Z"
   },
   {
    "duration": 51,
    "start_time": "2023-07-11T11:26:06.270Z"
   },
   {
    "duration": 49,
    "start_time": "2023-07-11T11:26:06.325Z"
   },
   {
    "duration": 148,
    "start_time": "2023-07-11T11:26:06.382Z"
   },
   {
    "duration": 43,
    "start_time": "2023-07-11T11:26:06.533Z"
   },
   {
    "duration": 19,
    "start_time": "2023-07-11T11:26:06.582Z"
   },
   {
    "duration": 145,
    "start_time": "2023-07-11T11:26:06.603Z"
   },
   {
    "duration": 9,
    "start_time": "2023-07-11T11:26:06.752Z"
   },
   {
    "duration": 57,
    "start_time": "2023-07-11T11:26:06.765Z"
   },
   {
    "duration": 9,
    "start_time": "2023-07-11T11:26:06.824Z"
   },
   {
    "duration": 80,
    "start_time": "2023-07-11T11:26:06.835Z"
   },
   {
    "duration": 79,
    "start_time": "2023-07-11T11:26:06.917Z"
   },
   {
    "duration": 1368,
    "start_time": "2023-07-11T11:27:39.674Z"
   },
   {
    "duration": 134,
    "start_time": "2023-07-11T11:27:41.045Z"
   },
   {
    "duration": 38,
    "start_time": "2023-07-11T11:27:41.190Z"
   },
   {
    "duration": 5,
    "start_time": "2023-07-11T11:27:41.230Z"
   },
   {
    "duration": 23,
    "start_time": "2023-07-11T11:27:41.236Z"
   },
   {
    "duration": 45,
    "start_time": "2023-07-11T11:27:41.261Z"
   },
   {
    "duration": 10,
    "start_time": "2023-07-11T11:27:41.308Z"
   },
   {
    "duration": 28,
    "start_time": "2023-07-11T11:27:41.321Z"
   },
   {
    "duration": 18,
    "start_time": "2023-07-11T11:27:41.351Z"
   },
   {
    "duration": 34,
    "start_time": "2023-07-11T11:27:41.370Z"
   },
   {
    "duration": 6,
    "start_time": "2023-07-11T11:27:41.407Z"
   },
   {
    "duration": 20,
    "start_time": "2023-07-11T11:27:41.415Z"
   },
   {
    "duration": 15,
    "start_time": "2023-07-11T11:27:41.438Z"
   },
   {
    "duration": 52,
    "start_time": "2023-07-11T11:27:41.454Z"
   },
   {
    "duration": 15,
    "start_time": "2023-07-11T11:27:41.508Z"
   },
   {
    "duration": 9,
    "start_time": "2023-07-11T11:27:41.525Z"
   },
   {
    "duration": 12,
    "start_time": "2023-07-11T11:27:41.535Z"
   },
   {
    "duration": 37,
    "start_time": "2023-07-11T11:27:41.549Z"
   },
   {
    "duration": 18,
    "start_time": "2023-07-11T11:27:41.588Z"
   },
   {
    "duration": 25,
    "start_time": "2023-07-11T11:27:41.608Z"
   },
   {
    "duration": 23,
    "start_time": "2023-07-11T11:27:41.635Z"
   },
   {
    "duration": 43,
    "start_time": "2023-07-11T11:27:41.663Z"
   },
   {
    "duration": 30,
    "start_time": "2023-07-11T11:27:41.709Z"
   },
   {
    "duration": 21,
    "start_time": "2023-07-11T11:27:41.741Z"
   },
   {
    "duration": 45,
    "start_time": "2023-07-11T11:27:41.764Z"
   },
   {
    "duration": 19,
    "start_time": "2023-07-11T11:27:41.811Z"
   },
   {
    "duration": 16,
    "start_time": "2023-07-11T11:27:41.832Z"
   },
   {
    "duration": 50,
    "start_time": "2023-07-11T11:27:41.850Z"
   },
   {
    "duration": 31,
    "start_time": "2023-07-11T11:27:41.902Z"
   },
   {
    "duration": 45,
    "start_time": "2023-07-11T11:27:41.936Z"
   },
   {
    "duration": 39,
    "start_time": "2023-07-11T11:27:41.987Z"
   },
   {
    "duration": 161,
    "start_time": "2023-07-11T11:27:42.027Z"
   },
   {
    "duration": 17,
    "start_time": "2023-07-11T11:27:42.190Z"
   },
   {
    "duration": 18,
    "start_time": "2023-07-11T11:27:42.209Z"
   },
   {
    "duration": 163,
    "start_time": "2023-07-11T11:27:42.230Z"
   },
   {
    "duration": 3,
    "start_time": "2023-07-11T11:27:42.395Z"
   },
   {
    "duration": 43,
    "start_time": "2023-07-11T11:27:42.400Z"
   },
   {
    "duration": 32,
    "start_time": "2023-07-11T11:27:42.445Z"
   },
   {
    "duration": 30,
    "start_time": "2023-07-11T11:27:42.479Z"
   },
   {
    "duration": 9,
    "start_time": "2023-07-11T11:27:42.512Z"
   },
   {
    "duration": 1482,
    "start_time": "2023-07-11T11:35:13.604Z"
   },
   {
    "duration": 142,
    "start_time": "2023-07-11T11:35:15.088Z"
   },
   {
    "duration": 54,
    "start_time": "2023-07-11T11:35:15.233Z"
   },
   {
    "duration": 5,
    "start_time": "2023-07-11T11:35:15.290Z"
   },
   {
    "duration": 26,
    "start_time": "2023-07-11T11:35:15.299Z"
   },
   {
    "duration": 67,
    "start_time": "2023-07-11T11:35:15.328Z"
   },
   {
    "duration": 18,
    "start_time": "2023-07-11T11:35:15.400Z"
   },
   {
    "duration": 25,
    "start_time": "2023-07-11T11:35:15.421Z"
   },
   {
    "duration": 29,
    "start_time": "2023-07-11T11:35:15.448Z"
   },
   {
    "duration": 31,
    "start_time": "2023-07-11T11:35:15.480Z"
   },
   {
    "duration": 7,
    "start_time": "2023-07-11T11:35:15.514Z"
   },
   {
    "duration": 32,
    "start_time": "2023-07-11T11:35:15.524Z"
   },
   {
    "duration": 36,
    "start_time": "2023-07-11T11:35:15.559Z"
   },
   {
    "duration": 15,
    "start_time": "2023-07-11T11:35:15.600Z"
   },
   {
    "duration": 32,
    "start_time": "2023-07-11T11:35:15.617Z"
   },
   {
    "duration": 42,
    "start_time": "2023-07-11T11:35:15.652Z"
   },
   {
    "duration": 7,
    "start_time": "2023-07-11T11:35:15.696Z"
   },
   {
    "duration": 16,
    "start_time": "2023-07-11T11:35:15.705Z"
   },
   {
    "duration": 18,
    "start_time": "2023-07-11T11:35:15.723Z"
   },
   {
    "duration": 34,
    "start_time": "2023-07-11T11:35:15.743Z"
   },
   {
    "duration": 25,
    "start_time": "2023-07-11T11:35:15.779Z"
   },
   {
    "duration": 24,
    "start_time": "2023-07-11T11:35:15.807Z"
   },
   {
    "duration": 44,
    "start_time": "2023-07-11T11:35:15.834Z"
   },
   {
    "duration": 24,
    "start_time": "2023-07-11T11:35:15.881Z"
   },
   {
    "duration": 20,
    "start_time": "2023-07-11T11:35:15.908Z"
   },
   {
    "duration": 34,
    "start_time": "2023-07-11T11:35:15.931Z"
   },
   {
    "duration": 45,
    "start_time": "2023-07-11T11:35:15.967Z"
   },
   {
    "duration": 40,
    "start_time": "2023-07-11T11:35:16.015Z"
   },
   {
    "duration": 64,
    "start_time": "2023-07-11T11:35:16.060Z"
   },
   {
    "duration": 48,
    "start_time": "2023-07-11T11:35:16.127Z"
   },
   {
    "duration": 58,
    "start_time": "2023-07-11T11:35:16.177Z"
   },
   {
    "duration": 15,
    "start_time": "2023-07-11T11:35:16.237Z"
   },
   {
    "duration": 194,
    "start_time": "2023-07-11T11:35:16.255Z"
   },
   {
    "duration": 28,
    "start_time": "2023-07-11T11:35:16.451Z"
   },
   {
    "duration": 12,
    "start_time": "2023-07-11T11:35:16.481Z"
   },
   {
    "duration": 205,
    "start_time": "2023-07-11T11:35:16.496Z"
   },
   {
    "duration": 3,
    "start_time": "2023-07-11T11:35:16.704Z"
   },
   {
    "duration": 31,
    "start_time": "2023-07-11T11:35:16.709Z"
   },
   {
    "duration": 4,
    "start_time": "2023-07-11T11:35:16.751Z"
   },
   {
    "duration": 43,
    "start_time": "2023-07-11T11:35:16.760Z"
   },
   {
    "duration": 9,
    "start_time": "2023-07-11T11:35:16.808Z"
   },
   {
    "duration": 1444,
    "start_time": "2023-07-11T11:35:48.231Z"
   },
   {
    "duration": 82,
    "start_time": "2023-07-11T11:35:49.678Z"
   },
   {
    "duration": 45,
    "start_time": "2023-07-11T11:35:49.763Z"
   },
   {
    "duration": 6,
    "start_time": "2023-07-11T11:35:49.810Z"
   },
   {
    "duration": 41,
    "start_time": "2023-07-11T11:35:49.819Z"
   },
   {
    "duration": 20,
    "start_time": "2023-07-11T11:35:49.863Z"
   },
   {
    "duration": 17,
    "start_time": "2023-07-11T11:35:49.885Z"
   },
   {
    "duration": 24,
    "start_time": "2023-07-11T11:35:49.905Z"
   },
   {
    "duration": 14,
    "start_time": "2023-07-11T11:35:49.931Z"
   },
   {
    "duration": 50,
    "start_time": "2023-07-11T11:35:49.947Z"
   },
   {
    "duration": 20,
    "start_time": "2023-07-11T11:35:49.999Z"
   },
   {
    "duration": 48,
    "start_time": "2023-07-11T11:35:50.022Z"
   },
   {
    "duration": 47,
    "start_time": "2023-07-11T11:35:50.074Z"
   },
   {
    "duration": 26,
    "start_time": "2023-07-11T11:35:50.126Z"
   },
   {
    "duration": 29,
    "start_time": "2023-07-11T11:35:50.155Z"
   },
   {
    "duration": 30,
    "start_time": "2023-07-11T11:35:50.187Z"
   },
   {
    "duration": 21,
    "start_time": "2023-07-11T11:35:50.220Z"
   },
   {
    "duration": 8,
    "start_time": "2023-07-11T11:35:50.244Z"
   },
   {
    "duration": 34,
    "start_time": "2023-07-11T11:35:50.254Z"
   },
   {
    "duration": 41,
    "start_time": "2023-07-11T11:35:50.291Z"
   },
   {
    "duration": 25,
    "start_time": "2023-07-11T11:35:50.334Z"
   },
   {
    "duration": 55,
    "start_time": "2023-07-11T11:35:50.362Z"
   },
   {
    "duration": 88,
    "start_time": "2023-07-11T11:35:50.419Z"
   },
   {
    "duration": 42,
    "start_time": "2023-07-11T11:35:50.510Z"
   },
   {
    "duration": 71,
    "start_time": "2023-07-11T11:35:50.555Z"
   },
   {
    "duration": 32,
    "start_time": "2023-07-11T11:35:50.628Z"
   },
   {
    "duration": 34,
    "start_time": "2023-07-11T11:35:50.663Z"
   },
   {
    "duration": 36,
    "start_time": "2023-07-11T11:35:50.699Z"
   },
   {
    "duration": 43,
    "start_time": "2023-07-11T11:35:50.737Z"
   },
   {
    "duration": 61,
    "start_time": "2023-07-11T11:35:50.782Z"
   },
   {
    "duration": 73,
    "start_time": "2023-07-11T11:35:50.846Z"
   },
   {
    "duration": 6,
    "start_time": "2023-07-11T11:35:50.921Z"
   },
   {
    "duration": 247,
    "start_time": "2023-07-11T11:35:50.929Z"
   },
   {
    "duration": 23,
    "start_time": "2023-07-11T11:35:51.179Z"
   },
   {
    "duration": 31,
    "start_time": "2023-07-11T11:35:51.205Z"
   },
   {
    "duration": 235,
    "start_time": "2023-07-11T11:35:51.238Z"
   },
   {
    "duration": 2,
    "start_time": "2023-07-11T11:35:51.475Z"
   },
   {
    "duration": 40,
    "start_time": "2023-07-11T11:35:51.485Z"
   },
   {
    "duration": 71,
    "start_time": "2023-07-11T11:35:51.526Z"
   },
   {
    "duration": 59,
    "start_time": "2023-07-11T11:35:51.599Z"
   },
   {
    "duration": 60,
    "start_time": "2023-07-11T11:35:51.662Z"
   },
   {
    "duration": 1295,
    "start_time": "2023-07-11T11:36:46.343Z"
   },
   {
    "duration": 156,
    "start_time": "2023-07-11T11:36:47.640Z"
   },
   {
    "duration": 31,
    "start_time": "2023-07-11T11:36:47.798Z"
   },
   {
    "duration": 5,
    "start_time": "2023-07-11T11:36:47.831Z"
   },
   {
    "duration": 11,
    "start_time": "2023-07-11T11:36:47.839Z"
   },
   {
    "duration": 24,
    "start_time": "2023-07-11T11:36:47.853Z"
   },
   {
    "duration": 7,
    "start_time": "2023-07-11T11:36:47.879Z"
   },
   {
    "duration": 15,
    "start_time": "2023-07-11T11:36:47.888Z"
   },
   {
    "duration": 4,
    "start_time": "2023-07-11T11:36:47.905Z"
   },
   {
    "duration": 36,
    "start_time": "2023-07-11T11:36:47.911Z"
   },
   {
    "duration": 7,
    "start_time": "2023-07-11T11:36:47.949Z"
   },
   {
    "duration": 34,
    "start_time": "2023-07-11T11:36:47.959Z"
   },
   {
    "duration": 20,
    "start_time": "2023-07-11T11:36:47.995Z"
   },
   {
    "duration": 37,
    "start_time": "2023-07-11T11:36:48.019Z"
   },
   {
    "duration": 18,
    "start_time": "2023-07-11T11:36:48.058Z"
   },
   {
    "duration": 30,
    "start_time": "2023-07-11T11:36:48.081Z"
   },
   {
    "duration": 9,
    "start_time": "2023-07-11T11:36:48.113Z"
   },
   {
    "duration": 7,
    "start_time": "2023-07-11T11:36:48.125Z"
   },
   {
    "duration": 25,
    "start_time": "2023-07-11T11:36:48.134Z"
   },
   {
    "duration": 6,
    "start_time": "2023-07-11T11:36:48.161Z"
   },
   {
    "duration": 31,
    "start_time": "2023-07-11T11:36:48.169Z"
   },
   {
    "duration": 30,
    "start_time": "2023-07-11T11:36:48.202Z"
   },
   {
    "duration": 36,
    "start_time": "2023-07-11T11:36:48.234Z"
   },
   {
    "duration": 34,
    "start_time": "2023-07-11T11:36:48.273Z"
   },
   {
    "duration": 30,
    "start_time": "2023-07-11T11:36:48.309Z"
   },
   {
    "duration": 47,
    "start_time": "2023-07-11T11:36:48.341Z"
   },
   {
    "duration": 30,
    "start_time": "2023-07-11T11:36:48.390Z"
   },
   {
    "duration": 50,
    "start_time": "2023-07-11T11:36:48.422Z"
   },
   {
    "duration": 40,
    "start_time": "2023-07-11T11:36:48.474Z"
   },
   {
    "duration": 85,
    "start_time": "2023-07-11T11:36:48.517Z"
   },
   {
    "duration": 48,
    "start_time": "2023-07-11T11:36:48.606Z"
   },
   {
    "duration": 111,
    "start_time": "2023-07-11T11:36:48.656Z"
   },
   {
    "duration": 11,
    "start_time": "2023-07-11T11:36:48.769Z"
   },
   {
    "duration": 237,
    "start_time": "2023-07-11T11:36:48.782Z"
   },
   {
    "duration": 19,
    "start_time": "2023-07-11T11:36:49.021Z"
   },
   {
    "duration": 19,
    "start_time": "2023-07-11T11:36:49.042Z"
   },
   {
    "duration": 143,
    "start_time": "2023-07-11T11:36:49.063Z"
   },
   {
    "duration": 3,
    "start_time": "2023-07-11T11:36:49.208Z"
   },
   {
    "duration": 48,
    "start_time": "2023-07-11T11:36:49.213Z"
   },
   {
    "duration": 21,
    "start_time": "2023-07-11T11:36:49.264Z"
   },
   {
    "duration": 22,
    "start_time": "2023-07-11T11:36:49.290Z"
   },
   {
    "duration": 11,
    "start_time": "2023-07-11T11:36:49.314Z"
   },
   {
    "duration": 1541,
    "start_time": "2023-07-11T11:37:27.460Z"
   },
   {
    "duration": 120,
    "start_time": "2023-07-11T11:37:29.005Z"
   },
   {
    "duration": 48,
    "start_time": "2023-07-11T11:37:29.127Z"
   },
   {
    "duration": 12,
    "start_time": "2023-07-11T11:37:29.181Z"
   },
   {
    "duration": 22,
    "start_time": "2023-07-11T11:37:29.196Z"
   },
   {
    "duration": 19,
    "start_time": "2023-07-11T11:37:29.219Z"
   },
   {
    "duration": 24,
    "start_time": "2023-07-11T11:37:29.240Z"
   },
   {
    "duration": 33,
    "start_time": "2023-07-11T11:37:29.266Z"
   },
   {
    "duration": 15,
    "start_time": "2023-07-11T11:37:29.301Z"
   },
   {
    "duration": 37,
    "start_time": "2023-07-11T11:37:29.318Z"
   },
   {
    "duration": 40,
    "start_time": "2023-07-11T11:37:29.357Z"
   },
   {
    "duration": 31,
    "start_time": "2023-07-11T11:37:29.400Z"
   },
   {
    "duration": 19,
    "start_time": "2023-07-11T11:37:29.432Z"
   },
   {
    "duration": 21,
    "start_time": "2023-07-11T11:37:29.456Z"
   },
   {
    "duration": 43,
    "start_time": "2023-07-11T11:37:29.480Z"
   },
   {
    "duration": 36,
    "start_time": "2023-07-11T11:37:29.525Z"
   },
   {
    "duration": 23,
    "start_time": "2023-07-11T11:37:29.563Z"
   },
   {
    "duration": 19,
    "start_time": "2023-07-11T11:37:29.589Z"
   },
   {
    "duration": 17,
    "start_time": "2023-07-11T11:37:29.610Z"
   },
   {
    "duration": 14,
    "start_time": "2023-07-11T11:37:29.630Z"
   },
   {
    "duration": 26,
    "start_time": "2023-07-11T11:37:29.646Z"
   },
   {
    "duration": 41,
    "start_time": "2023-07-11T11:37:29.674Z"
   },
   {
    "duration": 20,
    "start_time": "2023-07-11T11:37:29.717Z"
   },
   {
    "duration": 41,
    "start_time": "2023-07-11T11:37:29.739Z"
   },
   {
    "duration": 39,
    "start_time": "2023-07-11T11:37:29.782Z"
   },
   {
    "duration": 37,
    "start_time": "2023-07-11T11:37:29.823Z"
   },
   {
    "duration": 38,
    "start_time": "2023-07-11T11:37:29.862Z"
   },
   {
    "duration": 25,
    "start_time": "2023-07-11T11:37:29.902Z"
   },
   {
    "duration": 24,
    "start_time": "2023-07-11T11:37:29.930Z"
   },
   {
    "duration": 26,
    "start_time": "2023-07-11T11:37:29.956Z"
   },
   {
    "duration": 31,
    "start_time": "2023-07-11T11:37:29.984Z"
   },
   {
    "duration": 100,
    "start_time": "2023-07-11T11:37:30.018Z"
   },
   {
    "duration": 5,
    "start_time": "2023-07-11T11:37:30.119Z"
   },
   {
    "duration": 226,
    "start_time": "2023-07-11T11:37:30.126Z"
   },
   {
    "duration": 23,
    "start_time": "2023-07-11T11:37:30.355Z"
   },
   {
    "duration": 39,
    "start_time": "2023-07-11T11:37:30.380Z"
   },
   {
    "duration": 180,
    "start_time": "2023-07-11T11:37:30.422Z"
   },
   {
    "duration": 6,
    "start_time": "2023-07-11T11:37:30.604Z"
   },
   {
    "duration": 69,
    "start_time": "2023-07-11T11:37:30.612Z"
   },
   {
    "duration": 40,
    "start_time": "2023-07-11T11:37:30.684Z"
   },
   {
    "duration": 96,
    "start_time": "2023-07-11T11:37:30.728Z"
   },
   {
    "duration": 42,
    "start_time": "2023-07-11T11:37:30.825Z"
   },
   {
    "duration": 18,
    "start_time": "2023-07-11T11:42:13.160Z"
   },
   {
    "duration": 34,
    "start_time": "2023-07-11T11:42:18.570Z"
   },
   {
    "duration": 7,
    "start_time": "2023-07-11T12:00:39.758Z"
   },
   {
    "duration": 4,
    "start_time": "2023-07-11T12:00:46.387Z"
   },
   {
    "duration": 13,
    "start_time": "2023-07-11T12:01:14.140Z"
   },
   {
    "duration": 1289,
    "start_time": "2023-07-11T12:11:24.434Z"
   },
   {
    "duration": 99,
    "start_time": "2023-07-11T12:11:25.725Z"
   },
   {
    "duration": 35,
    "start_time": "2023-07-11T12:11:25.826Z"
   },
   {
    "duration": 10,
    "start_time": "2023-07-11T12:11:25.865Z"
   },
   {
    "duration": 13,
    "start_time": "2023-07-11T12:11:25.877Z"
   },
   {
    "duration": 21,
    "start_time": "2023-07-11T12:11:25.891Z"
   },
   {
    "duration": 13,
    "start_time": "2023-07-11T12:11:25.914Z"
   },
   {
    "duration": 17,
    "start_time": "2023-07-11T12:11:25.929Z"
   },
   {
    "duration": 10,
    "start_time": "2023-07-11T12:11:25.948Z"
   },
   {
    "duration": 38,
    "start_time": "2023-07-11T12:11:25.962Z"
   },
   {
    "duration": 7,
    "start_time": "2023-07-11T12:11:26.002Z"
   },
   {
    "duration": 32,
    "start_time": "2023-07-11T12:11:26.011Z"
   },
   {
    "duration": 23,
    "start_time": "2023-07-11T12:11:26.044Z"
   },
   {
    "duration": 24,
    "start_time": "2023-07-11T12:11:26.071Z"
   },
   {
    "duration": 27,
    "start_time": "2023-07-11T12:11:26.097Z"
   },
   {
    "duration": 18,
    "start_time": "2023-07-11T12:11:26.126Z"
   },
   {
    "duration": 44,
    "start_time": "2023-07-11T12:11:26.146Z"
   },
   {
    "duration": 13,
    "start_time": "2023-07-11T12:11:26.192Z"
   },
   {
    "duration": 29,
    "start_time": "2023-07-11T12:11:26.207Z"
   },
   {
    "duration": 8,
    "start_time": "2023-07-11T12:11:26.238Z"
   },
   {
    "duration": 33,
    "start_time": "2023-07-11T12:11:26.248Z"
   },
   {
    "duration": 16,
    "start_time": "2023-07-11T12:11:26.283Z"
   },
   {
    "duration": 17,
    "start_time": "2023-07-11T12:11:26.300Z"
   },
   {
    "duration": 15,
    "start_time": "2023-07-11T12:11:26.318Z"
   },
   {
    "duration": 38,
    "start_time": "2023-07-11T12:11:26.335Z"
   },
   {
    "duration": 16,
    "start_time": "2023-07-11T12:11:26.375Z"
   },
   {
    "duration": 21,
    "start_time": "2023-07-11T12:11:26.393Z"
   },
   {
    "duration": 37,
    "start_time": "2023-07-11T12:11:26.416Z"
   },
   {
    "duration": 19,
    "start_time": "2023-07-11T12:11:26.460Z"
   },
   {
    "duration": 18,
    "start_time": "2023-07-11T12:11:26.481Z"
   },
   {
    "duration": 17,
    "start_time": "2023-07-11T12:11:26.500Z"
   },
   {
    "duration": 54,
    "start_time": "2023-07-11T12:11:26.519Z"
   },
   {
    "duration": 37,
    "start_time": "2023-07-11T12:11:26.575Z"
   },
   {
    "duration": 167,
    "start_time": "2023-07-11T12:11:26.614Z"
   },
   {
    "duration": 15,
    "start_time": "2023-07-11T12:11:26.782Z"
   },
   {
    "duration": 12,
    "start_time": "2023-07-11T12:11:26.799Z"
   },
   {
    "duration": 131,
    "start_time": "2023-07-11T12:11:26.813Z"
   },
   {
    "duration": 8,
    "start_time": "2023-07-11T12:11:26.945Z"
   },
   {
    "duration": 44,
    "start_time": "2023-07-11T12:11:26.955Z"
   },
   {
    "duration": 12,
    "start_time": "2023-07-11T12:11:27.001Z"
   },
   {
    "duration": 8,
    "start_time": "2023-07-11T12:12:12.934Z"
   },
   {
    "duration": 6,
    "start_time": "2023-07-11T12:12:16.022Z"
   },
   {
    "duration": 18,
    "start_time": "2023-07-11T12:12:17.888Z"
   },
   {
    "duration": 13,
    "start_time": "2023-07-11T12:19:30.983Z"
   },
   {
    "duration": 11,
    "start_time": "2023-07-11T12:19:45.182Z"
   },
   {
    "duration": 5711,
    "start_time": "2023-07-11T12:19:52.542Z"
   },
   {
    "duration": 71,
    "start_time": "2023-07-11T12:19:58.255Z"
   },
   {
    "duration": 38,
    "start_time": "2023-07-11T12:19:58.328Z"
   },
   {
    "duration": 16,
    "start_time": "2023-07-11T12:19:58.369Z"
   },
   {
    "duration": 36,
    "start_time": "2023-07-11T12:19:58.387Z"
   },
   {
    "duration": 39,
    "start_time": "2023-07-11T12:19:58.425Z"
   },
   {
    "duration": 19,
    "start_time": "2023-07-11T12:19:58.466Z"
   },
   {
    "duration": 33,
    "start_time": "2023-07-11T12:19:58.487Z"
   },
   {
    "duration": 6,
    "start_time": "2023-07-11T12:19:58.522Z"
   },
   {
    "duration": 22,
    "start_time": "2023-07-11T12:19:58.532Z"
   },
   {
    "duration": 29,
    "start_time": "2023-07-11T12:19:58.556Z"
   },
   {
    "duration": 58,
    "start_time": "2023-07-11T12:19:58.588Z"
   },
   {
    "duration": 15,
    "start_time": "2023-07-11T12:19:58.649Z"
   },
   {
    "duration": 28,
    "start_time": "2023-07-11T12:19:58.666Z"
   },
   {
    "duration": 35,
    "start_time": "2023-07-11T12:19:58.695Z"
   },
   {
    "duration": 16,
    "start_time": "2023-07-11T12:19:58.731Z"
   },
   {
    "duration": 8,
    "start_time": "2023-07-11T12:19:58.749Z"
   },
   {
    "duration": 14,
    "start_time": "2023-07-11T12:19:58.759Z"
   },
   {
    "duration": 19,
    "start_time": "2023-07-11T12:19:58.775Z"
   },
   {
    "duration": 6,
    "start_time": "2023-07-11T12:19:58.796Z"
   },
   {
    "duration": 37,
    "start_time": "2023-07-11T12:19:58.804Z"
   },
   {
    "duration": 30,
    "start_time": "2023-07-11T12:19:58.843Z"
   },
   {
    "duration": 33,
    "start_time": "2023-07-11T12:19:58.875Z"
   },
   {
    "duration": 16,
    "start_time": "2023-07-11T12:19:58.910Z"
   },
   {
    "duration": 20,
    "start_time": "2023-07-11T12:19:58.928Z"
   },
   {
    "duration": 15,
    "start_time": "2023-07-11T12:19:58.950Z"
   },
   {
    "duration": 19,
    "start_time": "2023-07-11T12:19:58.967Z"
   },
   {
    "duration": 22,
    "start_time": "2023-07-11T12:19:58.989Z"
   },
   {
    "duration": 20,
    "start_time": "2023-07-11T12:19:59.012Z"
   },
   {
    "duration": 16,
    "start_time": "2023-07-11T12:19:59.052Z"
   },
   {
    "duration": 20,
    "start_time": "2023-07-11T12:19:59.070Z"
   },
   {
    "duration": 35,
    "start_time": "2023-07-11T12:19:59.092Z"
   },
   {
    "duration": 47,
    "start_time": "2023-07-11T12:19:59.129Z"
   },
   {
    "duration": 181,
    "start_time": "2023-07-11T12:19:59.177Z"
   },
   {
    "duration": 14,
    "start_time": "2023-07-11T12:19:59.359Z"
   },
   {
    "duration": 9,
    "start_time": "2023-07-11T12:19:59.375Z"
   },
   {
    "duration": 126,
    "start_time": "2023-07-11T12:19:59.386Z"
   },
   {
    "duration": 2,
    "start_time": "2023-07-11T12:19:59.514Z"
   },
   {
    "duration": 63,
    "start_time": "2023-07-11T12:19:59.518Z"
   },
   {
    "duration": 4,
    "start_time": "2023-07-11T12:19:59.583Z"
   },
   {
    "duration": 5,
    "start_time": "2023-07-11T12:47:36.982Z"
   },
   {
    "duration": 27,
    "start_time": "2023-07-11T12:51:59.752Z"
   },
   {
    "duration": 130,
    "start_time": "2023-07-11T12:57:21.198Z"
   },
   {
    "duration": 8,
    "start_time": "2023-07-11T12:58:13.164Z"
   },
   {
    "duration": 7,
    "start_time": "2023-07-11T12:58:23.709Z"
   },
   {
    "duration": 5,
    "start_time": "2023-07-11T13:00:10.602Z"
   },
   {
    "duration": 115,
    "start_time": "2023-07-11T13:10:52.524Z"
   },
   {
    "duration": 23,
    "start_time": "2023-07-11T13:11:02.351Z"
   },
   {
    "duration": 25,
    "start_time": "2023-07-11T13:11:08.145Z"
   },
   {
    "duration": 10,
    "start_time": "2023-07-11T13:11:22.515Z"
   },
   {
    "duration": 40,
    "start_time": "2023-07-11T13:12:00.142Z"
   },
   {
    "duration": 12,
    "start_time": "2023-07-11T13:12:45.935Z"
   },
   {
    "duration": 15,
    "start_time": "2023-07-11T13:15:33.848Z"
   },
   {
    "duration": 25,
    "start_time": "2023-07-11T13:16:01.373Z"
   },
   {
    "duration": 16,
    "start_time": "2023-07-11T13:18:34.270Z"
   },
   {
    "duration": 7,
    "start_time": "2023-07-11T13:20:12.903Z"
   },
   {
    "duration": 8,
    "start_time": "2023-07-11T13:21:00.234Z"
   },
   {
    "duration": 6,
    "start_time": "2023-07-11T13:21:09.552Z"
   },
   {
    "duration": 7,
    "start_time": "2023-07-11T13:22:25.564Z"
   },
   {
    "duration": 7,
    "start_time": "2023-07-11T13:22:40.191Z"
   },
   {
    "duration": 21,
    "start_time": "2023-07-11T13:29:05.670Z"
   },
   {
    "duration": 28,
    "start_time": "2023-07-11T13:30:07.587Z"
   },
   {
    "duration": 9,
    "start_time": "2023-07-11T13:35:31.436Z"
   },
   {
    "duration": 7,
    "start_time": "2023-07-11T13:36:17.030Z"
   },
   {
    "duration": 130,
    "start_time": "2023-07-11T13:39:56.898Z"
   },
   {
    "duration": 5,
    "start_time": "2023-07-11T13:40:03.221Z"
   },
   {
    "duration": 10,
    "start_time": "2023-07-11T13:42:17.709Z"
   },
   {
    "duration": 1474,
    "start_time": "2023-07-11T13:43:17.128Z"
   },
   {
    "duration": 148,
    "start_time": "2023-07-11T13:43:18.618Z"
   },
   {
    "duration": 63,
    "start_time": "2023-07-11T13:43:18.769Z"
   },
   {
    "duration": 21,
    "start_time": "2023-07-11T13:43:18.837Z"
   },
   {
    "duration": 84,
    "start_time": "2023-07-11T13:43:18.862Z"
   },
   {
    "duration": 75,
    "start_time": "2023-07-11T13:43:18.949Z"
   },
   {
    "duration": 23,
    "start_time": "2023-07-11T13:43:19.026Z"
   },
   {
    "duration": 67,
    "start_time": "2023-07-11T13:43:19.050Z"
   },
   {
    "duration": 23,
    "start_time": "2023-07-11T13:43:19.120Z"
   },
   {
    "duration": 37,
    "start_time": "2023-07-11T13:43:19.145Z"
   },
   {
    "duration": 26,
    "start_time": "2023-07-11T13:43:19.186Z"
   },
   {
    "duration": 37,
    "start_time": "2023-07-11T13:43:19.214Z"
   },
   {
    "duration": 60,
    "start_time": "2023-07-11T13:43:19.258Z"
   },
   {
    "duration": 19,
    "start_time": "2023-07-11T13:43:19.323Z"
   },
   {
    "duration": 75,
    "start_time": "2023-07-11T13:43:19.345Z"
   },
   {
    "duration": 22,
    "start_time": "2023-07-11T13:43:19.423Z"
   },
   {
    "duration": 58,
    "start_time": "2023-07-11T13:43:19.447Z"
   },
   {
    "duration": 19,
    "start_time": "2023-07-11T13:43:19.508Z"
   },
   {
    "duration": 12,
    "start_time": "2023-07-11T13:43:19.529Z"
   },
   {
    "duration": 28,
    "start_time": "2023-07-11T13:43:19.543Z"
   },
   {
    "duration": 54,
    "start_time": "2023-07-11T13:43:19.573Z"
   },
   {
    "duration": 16,
    "start_time": "2023-07-11T13:43:19.629Z"
   },
   {
    "duration": 26,
    "start_time": "2023-07-11T13:43:19.647Z"
   },
   {
    "duration": 55,
    "start_time": "2023-07-11T13:43:19.675Z"
   },
   {
    "duration": 28,
    "start_time": "2023-07-11T13:43:19.733Z"
   },
   {
    "duration": 72,
    "start_time": "2023-07-11T13:43:19.763Z"
   },
   {
    "duration": 32,
    "start_time": "2023-07-11T13:43:19.836Z"
   },
   {
    "duration": 47,
    "start_time": "2023-07-11T13:43:19.873Z"
   },
   {
    "duration": 35,
    "start_time": "2023-07-11T13:43:19.922Z"
   },
   {
    "duration": 73,
    "start_time": "2023-07-11T13:43:19.960Z"
   },
   {
    "duration": 58,
    "start_time": "2023-07-11T13:43:20.035Z"
   },
   {
    "duration": 153,
    "start_time": "2023-07-11T13:43:20.095Z"
   },
   {
    "duration": 31,
    "start_time": "2023-07-11T13:43:20.250Z"
   },
   {
    "duration": 30,
    "start_time": "2023-07-11T13:43:20.284Z"
   },
   {
    "duration": 154,
    "start_time": "2023-07-11T13:43:20.316Z"
   },
   {
    "duration": 6,
    "start_time": "2023-07-11T13:43:20.472Z"
   },
   {
    "duration": 55,
    "start_time": "2023-07-11T13:43:20.481Z"
   },
   {
    "duration": 165,
    "start_time": "2023-07-11T13:43:20.538Z"
   },
   {
    "duration": 6,
    "start_time": "2023-07-11T13:43:20.705Z"
   },
   {
    "duration": 27,
    "start_time": "2023-07-11T13:43:20.712Z"
   },
   {
    "duration": 56,
    "start_time": "2023-07-11T13:43:20.743Z"
   },
   {
    "duration": 30,
    "start_time": "2023-07-11T13:43:20.801Z"
   },
   {
    "duration": 100,
    "start_time": "2023-07-11T13:43:20.833Z"
   },
   {
    "duration": 10,
    "start_time": "2023-07-11T13:43:20.935Z"
   },
   {
    "duration": 84,
    "start_time": "2023-07-11T13:43:20.947Z"
   },
   {
    "duration": 129,
    "start_time": "2023-07-11T13:43:56.192Z"
   },
   {
    "duration": 6,
    "start_time": "2023-07-11T13:44:27.452Z"
   },
   {
    "duration": 18,
    "start_time": "2023-07-11T13:44:29.872Z"
   },
   {
    "duration": 1541,
    "start_time": "2023-07-11T13:45:30.740Z"
   },
   {
    "duration": 249,
    "start_time": "2023-07-11T13:45:32.288Z"
   },
   {
    "duration": 51,
    "start_time": "2023-07-11T13:45:32.540Z"
   },
   {
    "duration": 36,
    "start_time": "2023-07-11T13:45:32.593Z"
   },
   {
    "duration": 12,
    "start_time": "2023-07-11T13:45:32.632Z"
   },
   {
    "duration": 76,
    "start_time": "2023-07-11T13:45:32.647Z"
   },
   {
    "duration": 60,
    "start_time": "2023-07-11T13:45:32.725Z"
   },
   {
    "duration": 68,
    "start_time": "2023-07-11T13:45:32.787Z"
   },
   {
    "duration": 59,
    "start_time": "2023-07-11T13:45:32.857Z"
   },
   {
    "duration": 85,
    "start_time": "2023-07-11T13:45:32.918Z"
   },
   {
    "duration": 34,
    "start_time": "2023-07-11T13:45:33.005Z"
   },
   {
    "duration": 23,
    "start_time": "2023-07-11T13:45:33.041Z"
   },
   {
    "duration": 55,
    "start_time": "2023-07-11T13:45:33.065Z"
   },
   {
    "duration": 40,
    "start_time": "2023-07-11T13:45:33.124Z"
   },
   {
    "duration": 52,
    "start_time": "2023-07-11T13:45:33.166Z"
   },
   {
    "duration": 38,
    "start_time": "2023-07-11T13:45:33.221Z"
   },
   {
    "duration": 55,
    "start_time": "2023-07-11T13:45:33.262Z"
   },
   {
    "duration": 16,
    "start_time": "2023-07-11T13:45:33.319Z"
   },
   {
    "duration": 47,
    "start_time": "2023-07-11T13:45:33.337Z"
   },
   {
    "duration": 41,
    "start_time": "2023-07-11T13:45:33.387Z"
   },
   {
    "duration": 24,
    "start_time": "2023-07-11T13:45:33.429Z"
   },
   {
    "duration": 59,
    "start_time": "2023-07-11T13:45:33.455Z"
   },
   {
    "duration": 23,
    "start_time": "2023-07-11T13:45:33.516Z"
   },
   {
    "duration": 22,
    "start_time": "2023-07-11T13:45:33.541Z"
   },
   {
    "duration": 51,
    "start_time": "2023-07-11T13:45:33.566Z"
   },
   {
    "duration": 28,
    "start_time": "2023-07-11T13:45:33.619Z"
   },
   {
    "duration": 67,
    "start_time": "2023-07-11T13:45:33.649Z"
   },
   {
    "duration": 41,
    "start_time": "2023-07-11T13:45:33.718Z"
   },
   {
    "duration": 50,
    "start_time": "2023-07-11T13:45:33.761Z"
   },
   {
    "duration": 47,
    "start_time": "2023-07-11T13:45:33.813Z"
   },
   {
    "duration": 77,
    "start_time": "2023-07-11T13:45:33.862Z"
   },
   {
    "duration": 238,
    "start_time": "2023-07-11T13:45:33.942Z"
   },
   {
    "duration": 28,
    "start_time": "2023-07-11T13:45:34.183Z"
   },
   {
    "duration": 32,
    "start_time": "2023-07-11T13:45:34.213Z"
   },
   {
    "duration": 200,
    "start_time": "2023-07-11T13:45:34.247Z"
   },
   {
    "duration": 14,
    "start_time": "2023-07-11T13:45:34.449Z"
   },
   {
    "duration": 63,
    "start_time": "2023-07-11T13:45:34.465Z"
   },
   {
    "duration": 183,
    "start_time": "2023-07-11T13:45:34.531Z"
   },
   {
    "duration": 16,
    "start_time": "2023-07-11T13:45:34.716Z"
   },
   {
    "duration": 19,
    "start_time": "2023-07-11T13:45:34.734Z"
   },
   {
    "duration": 138,
    "start_time": "2023-07-11T13:45:34.771Z"
   },
   {
    "duration": 25,
    "start_time": "2023-07-11T13:45:34.911Z"
   },
   {
    "duration": 55,
    "start_time": "2023-07-11T13:45:34.939Z"
   },
   {
    "duration": 21,
    "start_time": "2023-07-11T13:45:35.000Z"
   },
   {
    "duration": 47,
    "start_time": "2023-07-11T13:45:35.023Z"
   },
   {
    "duration": 49,
    "start_time": "2023-07-11T13:45:35.072Z"
   },
   {
    "duration": 173,
    "start_time": "2023-07-11T13:46:12.600Z"
   },
   {
    "duration": 8,
    "start_time": "2023-07-11T13:47:48.719Z"
   },
   {
    "duration": 16,
    "start_time": "2023-07-11T13:47:53.276Z"
   },
   {
    "duration": 13,
    "start_time": "2023-07-11T13:48:01.627Z"
   },
   {
    "duration": 1293,
    "start_time": "2023-07-11T13:48:26.304Z"
   },
   {
    "duration": 141,
    "start_time": "2023-07-11T13:48:27.599Z"
   },
   {
    "duration": 49,
    "start_time": "2023-07-11T13:48:27.742Z"
   },
   {
    "duration": 5,
    "start_time": "2023-07-11T13:48:27.793Z"
   },
   {
    "duration": 8,
    "start_time": "2023-07-11T13:48:27.801Z"
   },
   {
    "duration": 17,
    "start_time": "2023-07-11T13:48:27.812Z"
   },
   {
    "duration": 23,
    "start_time": "2023-07-11T13:48:27.832Z"
   },
   {
    "duration": 59,
    "start_time": "2023-07-11T13:48:27.856Z"
   },
   {
    "duration": 5,
    "start_time": "2023-07-11T13:48:27.920Z"
   },
   {
    "duration": 79,
    "start_time": "2023-07-11T13:48:27.927Z"
   },
   {
    "duration": 17,
    "start_time": "2023-07-11T13:48:28.008Z"
   },
   {
    "duration": 19,
    "start_time": "2023-07-11T13:48:28.027Z"
   },
   {
    "duration": 21,
    "start_time": "2023-07-11T13:48:28.048Z"
   },
   {
    "duration": 41,
    "start_time": "2023-07-11T13:48:28.074Z"
   },
   {
    "duration": 16,
    "start_time": "2023-07-11T13:48:28.117Z"
   },
   {
    "duration": 13,
    "start_time": "2023-07-11T13:48:28.135Z"
   },
   {
    "duration": 14,
    "start_time": "2023-07-11T13:48:28.149Z"
   },
   {
    "duration": 9,
    "start_time": "2023-07-11T13:48:28.165Z"
   },
   {
    "duration": 47,
    "start_time": "2023-07-11T13:48:28.175Z"
   },
   {
    "duration": 19,
    "start_time": "2023-07-11T13:48:28.225Z"
   },
   {
    "duration": 56,
    "start_time": "2023-07-11T13:48:28.246Z"
   },
   {
    "duration": 34,
    "start_time": "2023-07-11T13:48:28.311Z"
   },
   {
    "duration": 82,
    "start_time": "2023-07-11T13:48:28.347Z"
   },
   {
    "duration": 29,
    "start_time": "2023-07-11T13:48:28.432Z"
   },
   {
    "duration": 66,
    "start_time": "2023-07-11T13:48:28.472Z"
   },
   {
    "duration": 81,
    "start_time": "2023-07-11T13:48:28.540Z"
   },
   {
    "duration": 42,
    "start_time": "2023-07-11T13:48:28.624Z"
   },
   {
    "duration": 52,
    "start_time": "2023-07-11T13:48:28.670Z"
   },
   {
    "duration": 56,
    "start_time": "2023-07-11T13:48:28.725Z"
   },
   {
    "duration": 48,
    "start_time": "2023-07-11T13:48:28.786Z"
   },
   {
    "duration": 55,
    "start_time": "2023-07-11T13:48:28.836Z"
   },
   {
    "duration": 156,
    "start_time": "2023-07-11T13:48:28.894Z"
   },
   {
    "duration": 31,
    "start_time": "2023-07-11T13:48:29.052Z"
   },
   {
    "duration": 12,
    "start_time": "2023-07-11T13:48:29.086Z"
   },
   {
    "duration": 139,
    "start_time": "2023-07-11T13:48:29.100Z"
   },
   {
    "duration": 24,
    "start_time": "2023-07-11T13:48:29.241Z"
   },
   {
    "duration": 39,
    "start_time": "2023-07-11T13:48:29.271Z"
   },
   {
    "duration": 167,
    "start_time": "2023-07-11T13:48:29.312Z"
   },
   {
    "duration": 10,
    "start_time": "2023-07-11T13:48:29.481Z"
   },
   {
    "duration": 22,
    "start_time": "2023-07-11T13:48:29.493Z"
   },
   {
    "duration": 7,
    "start_time": "2023-07-11T13:48:29.520Z"
   },
   {
    "duration": 11,
    "start_time": "2023-07-11T13:48:29.529Z"
   },
   {
    "duration": 13,
    "start_time": "2023-07-11T13:48:29.542Z"
   },
   {
    "duration": 41,
    "start_time": "2023-07-11T13:48:29.556Z"
   },
   {
    "duration": 5,
    "start_time": "2023-07-11T13:48:29.598Z"
   },
   {
    "duration": 16,
    "start_time": "2023-07-11T13:48:29.605Z"
   },
   {
    "duration": 1323,
    "start_time": "2023-07-11T13:50:03.411Z"
   },
   {
    "duration": 124,
    "start_time": "2023-07-11T13:50:04.736Z"
   },
   {
    "duration": 48,
    "start_time": "2023-07-11T13:50:04.863Z"
   },
   {
    "duration": 5,
    "start_time": "2023-07-11T13:50:04.915Z"
   },
   {
    "duration": 34,
    "start_time": "2023-07-11T13:50:04.922Z"
   },
   {
    "duration": 58,
    "start_time": "2023-07-11T13:50:04.958Z"
   },
   {
    "duration": 15,
    "start_time": "2023-07-11T13:50:05.018Z"
   },
   {
    "duration": 28,
    "start_time": "2023-07-11T13:50:05.035Z"
   },
   {
    "duration": 32,
    "start_time": "2023-07-11T13:50:05.066Z"
   },
   {
    "duration": 45,
    "start_time": "2023-07-11T13:50:05.102Z"
   },
   {
    "duration": 50,
    "start_time": "2023-07-11T13:50:05.149Z"
   },
   {
    "duration": 25,
    "start_time": "2023-07-11T13:50:05.201Z"
   },
   {
    "duration": 29,
    "start_time": "2023-07-11T13:50:05.228Z"
   },
   {
    "duration": 63,
    "start_time": "2023-07-11T13:50:05.261Z"
   },
   {
    "duration": 66,
    "start_time": "2023-07-11T13:50:05.327Z"
   },
   {
    "duration": 27,
    "start_time": "2023-07-11T13:50:05.396Z"
   },
   {
    "duration": 52,
    "start_time": "2023-07-11T13:50:05.425Z"
   },
   {
    "duration": 36,
    "start_time": "2023-07-11T13:50:05.479Z"
   },
   {
    "duration": 16,
    "start_time": "2023-07-11T13:50:05.517Z"
   },
   {
    "duration": 23,
    "start_time": "2023-07-11T13:50:05.535Z"
   },
   {
    "duration": 56,
    "start_time": "2023-07-11T13:50:05.573Z"
   },
   {
    "duration": 44,
    "start_time": "2023-07-11T13:50:05.631Z"
   },
   {
    "duration": 45,
    "start_time": "2023-07-11T13:50:05.677Z"
   },
   {
    "duration": 80,
    "start_time": "2023-07-11T13:50:05.723Z"
   },
   {
    "duration": 43,
    "start_time": "2023-07-11T13:50:05.806Z"
   },
   {
    "duration": 23,
    "start_time": "2023-07-11T13:50:05.852Z"
   },
   {
    "duration": 48,
    "start_time": "2023-07-11T13:50:05.876Z"
   },
   {
    "duration": 41,
    "start_time": "2023-07-11T13:50:05.929Z"
   },
   {
    "duration": 78,
    "start_time": "2023-07-11T13:50:05.973Z"
   },
   {
    "duration": 69,
    "start_time": "2023-07-11T13:50:06.060Z"
   },
   {
    "duration": 70,
    "start_time": "2023-07-11T13:50:06.131Z"
   },
   {
    "duration": 205,
    "start_time": "2023-07-11T13:50:06.204Z"
   },
   {
    "duration": 15,
    "start_time": "2023-07-11T13:50:06.411Z"
   },
   {
    "duration": 13,
    "start_time": "2023-07-11T13:50:06.427Z"
   },
   {
    "duration": 174,
    "start_time": "2023-07-11T13:50:06.459Z"
   },
   {
    "duration": 32,
    "start_time": "2023-07-11T13:50:06.635Z"
   },
   {
    "duration": 39,
    "start_time": "2023-07-11T13:50:06.670Z"
   },
   {
    "duration": 184,
    "start_time": "2023-07-11T13:50:06.712Z"
   },
   {
    "duration": 6,
    "start_time": "2023-07-11T13:50:06.898Z"
   },
   {
    "duration": 10,
    "start_time": "2023-07-11T13:50:06.907Z"
   },
   {
    "duration": 8,
    "start_time": "2023-07-11T13:50:06.919Z"
   },
   {
    "duration": 30,
    "start_time": "2023-07-11T13:50:06.929Z"
   },
   {
    "duration": 46,
    "start_time": "2023-07-11T13:50:06.960Z"
   },
   {
    "duration": 17,
    "start_time": "2023-07-11T13:50:07.008Z"
   },
   {
    "duration": 6,
    "start_time": "2023-07-11T13:50:07.027Z"
   },
   {
    "duration": 54,
    "start_time": "2023-07-11T13:50:07.035Z"
   },
   {
    "duration": 5,
    "start_time": "2023-07-11T13:51:21.915Z"
   },
   {
    "duration": 17,
    "start_time": "2023-07-11T13:51:24.028Z"
   },
   {
    "duration": 4,
    "start_time": "2023-07-11T13:52:21.879Z"
   },
   {
    "duration": 12,
    "start_time": "2023-07-11T13:52:23.691Z"
   },
   {
    "duration": 1309,
    "start_time": "2023-07-11T13:53:57.284Z"
   },
   {
    "duration": 140,
    "start_time": "2023-07-11T13:53:58.601Z"
   },
   {
    "duration": 49,
    "start_time": "2023-07-11T13:53:58.743Z"
   },
   {
    "duration": 6,
    "start_time": "2023-07-11T13:53:58.794Z"
   },
   {
    "duration": 32,
    "start_time": "2023-07-11T13:53:58.802Z"
   },
   {
    "duration": 17,
    "start_time": "2023-07-11T13:53:58.836Z"
   },
   {
    "duration": 37,
    "start_time": "2023-07-11T13:53:58.855Z"
   },
   {
    "duration": 21,
    "start_time": "2023-07-11T13:53:58.894Z"
   },
   {
    "duration": 4,
    "start_time": "2023-07-11T13:53:58.916Z"
   },
   {
    "duration": 18,
    "start_time": "2023-07-11T13:53:58.922Z"
   },
   {
    "duration": 5,
    "start_time": "2023-07-11T13:53:58.942Z"
   },
   {
    "duration": 50,
    "start_time": "2023-07-11T13:53:58.949Z"
   },
   {
    "duration": 14,
    "start_time": "2023-07-11T13:53:59.000Z"
   },
   {
    "duration": 14,
    "start_time": "2023-07-11T13:53:59.017Z"
   },
   {
    "duration": 13,
    "start_time": "2023-07-11T13:53:59.032Z"
   },
   {
    "duration": 13,
    "start_time": "2023-07-11T13:53:59.046Z"
   },
   {
    "duration": 33,
    "start_time": "2023-07-11T13:53:59.061Z"
   },
   {
    "duration": 17,
    "start_time": "2023-07-11T13:53:59.095Z"
   },
   {
    "duration": 22,
    "start_time": "2023-07-11T13:53:59.113Z"
   },
   {
    "duration": 61,
    "start_time": "2023-07-11T13:53:59.137Z"
   },
   {
    "duration": 19,
    "start_time": "2023-07-11T13:53:59.200Z"
   },
   {
    "duration": 18,
    "start_time": "2023-07-11T13:53:59.221Z"
   },
   {
    "duration": 40,
    "start_time": "2023-07-11T13:53:59.241Z"
   },
   {
    "duration": 33,
    "start_time": "2023-07-11T13:53:59.283Z"
   },
   {
    "duration": 23,
    "start_time": "2023-07-11T13:53:59.318Z"
   },
   {
    "duration": 38,
    "start_time": "2023-07-11T13:53:59.344Z"
   },
   {
    "duration": 36,
    "start_time": "2023-07-11T13:53:59.384Z"
   },
   {
    "duration": 18,
    "start_time": "2023-07-11T13:53:59.423Z"
   },
   {
    "duration": 26,
    "start_time": "2023-07-11T13:53:59.443Z"
   },
   {
    "duration": 40,
    "start_time": "2023-07-11T13:53:59.471Z"
   },
   {
    "duration": 36,
    "start_time": "2023-07-11T13:53:59.513Z"
   },
   {
    "duration": 152,
    "start_time": "2023-07-11T13:53:59.551Z"
   },
   {
    "duration": 15,
    "start_time": "2023-07-11T13:53:59.705Z"
   },
   {
    "duration": 11,
    "start_time": "2023-07-11T13:53:59.721Z"
   },
   {
    "duration": 169,
    "start_time": "2023-07-11T13:53:59.733Z"
   },
   {
    "duration": 5,
    "start_time": "2023-07-11T13:53:59.904Z"
   },
   {
    "duration": 22,
    "start_time": "2023-07-11T13:53:59.910Z"
   },
   {
    "duration": 145,
    "start_time": "2023-07-11T13:53:59.962Z"
   },
   {
    "duration": 5,
    "start_time": "2023-07-11T13:54:00.109Z"
   },
   {
    "duration": 26,
    "start_time": "2023-07-11T13:54:00.117Z"
   },
   {
    "duration": 29,
    "start_time": "2023-07-11T13:54:00.157Z"
   },
   {
    "duration": 29,
    "start_time": "2023-07-11T13:54:00.188Z"
   },
   {
    "duration": 21,
    "start_time": "2023-07-11T13:54:00.219Z"
   },
   {
    "duration": 68,
    "start_time": "2023-07-11T13:54:00.243Z"
   },
   {
    "duration": 35,
    "start_time": "2023-07-11T13:54:00.313Z"
   },
   {
    "duration": 62,
    "start_time": "2023-07-11T13:54:00.350Z"
   },
   {
    "duration": 58,
    "start_time": "2023-07-11T13:54:00.414Z"
   },
   {
    "duration": 58,
    "start_time": "2023-07-11T13:54:00.474Z"
   },
   {
    "duration": 5,
    "start_time": "2023-07-11T13:54:08.997Z"
   },
   {
    "duration": 15,
    "start_time": "2023-07-11T13:54:10.577Z"
   },
   {
    "duration": 1307,
    "start_time": "2023-07-11T13:55:20.017Z"
   },
   {
    "duration": 119,
    "start_time": "2023-07-11T13:55:21.327Z"
   },
   {
    "duration": 44,
    "start_time": "2023-07-11T13:55:21.448Z"
   },
   {
    "duration": 4,
    "start_time": "2023-07-11T13:55:21.494Z"
   },
   {
    "duration": 14,
    "start_time": "2023-07-11T13:55:21.500Z"
   },
   {
    "duration": 30,
    "start_time": "2023-07-11T13:55:21.516Z"
   },
   {
    "duration": 41,
    "start_time": "2023-07-11T13:55:21.548Z"
   },
   {
    "duration": 27,
    "start_time": "2023-07-11T13:55:21.591Z"
   },
   {
    "duration": 10,
    "start_time": "2023-07-11T13:55:21.620Z"
   },
   {
    "duration": 43,
    "start_time": "2023-07-11T13:55:21.633Z"
   },
   {
    "duration": 17,
    "start_time": "2023-07-11T13:55:21.678Z"
   },
   {
    "duration": 20,
    "start_time": "2023-07-11T13:55:21.697Z"
   },
   {
    "duration": 14,
    "start_time": "2023-07-11T13:55:21.720Z"
   },
   {
    "duration": 58,
    "start_time": "2023-07-11T13:55:21.735Z"
   },
   {
    "duration": 35,
    "start_time": "2023-07-11T13:55:21.795Z"
   },
   {
    "duration": 18,
    "start_time": "2023-07-11T13:55:21.831Z"
   },
   {
    "duration": 41,
    "start_time": "2023-07-11T13:55:21.850Z"
   },
   {
    "duration": 16,
    "start_time": "2023-07-11T13:55:21.893Z"
   },
   {
    "duration": 17,
    "start_time": "2023-07-11T13:55:21.911Z"
   },
   {
    "duration": 18,
    "start_time": "2023-07-11T13:55:21.930Z"
   },
   {
    "duration": 50,
    "start_time": "2023-07-11T13:55:21.950Z"
   },
   {
    "duration": 47,
    "start_time": "2023-07-11T13:55:22.002Z"
   },
   {
    "duration": 47,
    "start_time": "2023-07-11T13:55:22.054Z"
   },
   {
    "duration": 14,
    "start_time": "2023-07-11T13:55:22.103Z"
   },
   {
    "duration": 21,
    "start_time": "2023-07-11T13:55:22.118Z"
   },
   {
    "duration": 81,
    "start_time": "2023-07-11T13:55:22.141Z"
   },
   {
    "duration": 56,
    "start_time": "2023-07-11T13:55:22.224Z"
   },
   {
    "duration": 31,
    "start_time": "2023-07-11T13:55:22.285Z"
   },
   {
    "duration": 28,
    "start_time": "2023-07-11T13:55:22.317Z"
   },
   {
    "duration": 49,
    "start_time": "2023-07-11T13:55:22.347Z"
   },
   {
    "duration": 41,
    "start_time": "2023-07-11T13:55:22.398Z"
   },
   {
    "duration": 150,
    "start_time": "2023-07-11T13:55:22.441Z"
   },
   {
    "duration": 15,
    "start_time": "2023-07-11T13:55:22.593Z"
   },
   {
    "duration": 8,
    "start_time": "2023-07-11T13:55:22.610Z"
   },
   {
    "duration": 165,
    "start_time": "2023-07-11T13:55:22.620Z"
   },
   {
    "duration": 5,
    "start_time": "2023-07-11T13:55:22.787Z"
   },
   {
    "duration": 23,
    "start_time": "2023-07-11T13:55:22.794Z"
   },
   {
    "duration": 160,
    "start_time": "2023-07-11T13:55:22.819Z"
   },
   {
    "duration": 8,
    "start_time": "2023-07-11T13:55:22.981Z"
   },
   {
    "duration": 21,
    "start_time": "2023-07-11T13:55:22.991Z"
   },
   {
    "duration": 12,
    "start_time": "2023-07-11T13:55:23.015Z"
   },
   {
    "duration": 7,
    "start_time": "2023-07-11T13:55:23.030Z"
   },
   {
    "duration": 8,
    "start_time": "2023-07-11T13:55:23.038Z"
   },
   {
    "duration": 45,
    "start_time": "2023-07-11T13:55:23.047Z"
   },
   {
    "duration": 10,
    "start_time": "2023-07-11T13:55:23.094Z"
   },
   {
    "duration": 10,
    "start_time": "2023-07-11T13:55:23.106Z"
   },
   {
    "duration": 19,
    "start_time": "2023-07-11T13:55:23.119Z"
   },
   {
    "duration": 21,
    "start_time": "2023-07-11T13:55:23.140Z"
   },
   {
    "duration": 34,
    "start_time": "2023-07-11T13:55:54.228Z"
   },
   {
    "duration": 30,
    "start_time": "2023-07-11T13:57:27.999Z"
   },
   {
    "duration": 1414,
    "start_time": "2023-07-11T13:58:04.087Z"
   },
   {
    "duration": 142,
    "start_time": "2023-07-11T13:58:05.503Z"
   },
   {
    "duration": 59,
    "start_time": "2023-07-11T13:58:05.647Z"
   },
   {
    "duration": 22,
    "start_time": "2023-07-11T13:58:05.710Z"
   },
   {
    "duration": 44,
    "start_time": "2023-07-11T13:58:05.735Z"
   },
   {
    "duration": 39,
    "start_time": "2023-07-11T13:58:05.783Z"
   },
   {
    "duration": 8,
    "start_time": "2023-07-11T13:58:05.824Z"
   },
   {
    "duration": 91,
    "start_time": "2023-07-11T13:58:05.833Z"
   },
   {
    "duration": 23,
    "start_time": "2023-07-11T13:58:05.925Z"
   },
   {
    "duration": 74,
    "start_time": "2023-07-11T13:58:05.951Z"
   },
   {
    "duration": 11,
    "start_time": "2023-07-11T13:58:06.028Z"
   },
   {
    "duration": 57,
    "start_time": "2023-07-11T13:58:06.042Z"
   },
   {
    "duration": 45,
    "start_time": "2023-07-11T13:58:06.103Z"
   },
   {
    "duration": 78,
    "start_time": "2023-07-11T13:58:06.150Z"
   },
   {
    "duration": 81,
    "start_time": "2023-07-11T13:58:06.230Z"
   },
   {
    "duration": 14,
    "start_time": "2023-07-11T13:58:06.313Z"
   },
   {
    "duration": 6,
    "start_time": "2023-07-11T13:58:06.329Z"
   },
   {
    "duration": 25,
    "start_time": "2023-07-11T13:58:06.336Z"
   },
   {
    "duration": 54,
    "start_time": "2023-07-11T13:58:06.363Z"
   },
   {
    "duration": 17,
    "start_time": "2023-07-11T13:58:06.419Z"
   },
   {
    "duration": 25,
    "start_time": "2023-07-11T13:58:06.438Z"
   },
   {
    "duration": 78,
    "start_time": "2023-07-11T13:58:06.465Z"
   },
   {
    "duration": 65,
    "start_time": "2023-07-11T13:58:06.544Z"
   },
   {
    "duration": 24,
    "start_time": "2023-07-11T13:58:06.611Z"
   },
   {
    "duration": 26,
    "start_time": "2023-07-11T13:58:06.638Z"
   },
   {
    "duration": 78,
    "start_time": "2023-07-11T13:58:06.666Z"
   },
   {
    "duration": 73,
    "start_time": "2023-07-11T13:58:06.746Z"
   },
   {
    "duration": 17,
    "start_time": "2023-07-11T13:58:06.822Z"
   },
   {
    "duration": 60,
    "start_time": "2023-07-11T13:58:06.841Z"
   },
   {
    "duration": 22,
    "start_time": "2023-07-11T13:58:06.905Z"
   },
   {
    "duration": 51,
    "start_time": "2023-07-11T13:58:06.929Z"
   },
   {
    "duration": 210,
    "start_time": "2023-07-11T13:58:06.982Z"
   },
   {
    "duration": 19,
    "start_time": "2023-07-11T13:58:07.198Z"
   },
   {
    "duration": 15,
    "start_time": "2023-07-11T13:58:07.219Z"
   },
   {
    "duration": 180,
    "start_time": "2023-07-11T13:58:07.236Z"
   },
   {
    "duration": 13,
    "start_time": "2023-07-11T13:58:07.420Z"
   },
   {
    "duration": 35,
    "start_time": "2023-07-11T13:58:07.435Z"
   },
   {
    "duration": 201,
    "start_time": "2023-07-11T13:58:07.472Z"
   },
   {
    "duration": 22,
    "start_time": "2023-07-11T13:58:07.677Z"
   },
   {
    "duration": 30,
    "start_time": "2023-07-11T13:58:07.703Z"
   },
   {
    "duration": 11,
    "start_time": "2023-07-11T13:58:07.735Z"
   },
   {
    "duration": 53,
    "start_time": "2023-07-11T13:58:07.748Z"
   },
   {
    "duration": 19,
    "start_time": "2023-07-11T13:58:07.806Z"
   },
   {
    "duration": 5,
    "start_time": "2023-07-11T13:58:07.827Z"
   },
   {
    "duration": 14,
    "start_time": "2023-07-11T13:58:07.834Z"
   },
   {
    "duration": 54,
    "start_time": "2023-07-11T13:58:07.853Z"
   },
   {
    "duration": 10,
    "start_time": "2023-07-11T13:58:07.909Z"
   },
   {
    "duration": 16,
    "start_time": "2023-07-11T13:58:07.921Z"
   },
   {
    "duration": 55,
    "start_time": "2023-07-11T14:01:04.248Z"
   },
   {
    "duration": 5,
    "start_time": "2023-07-11T14:05:27.396Z"
   },
   {
    "duration": 13,
    "start_time": "2023-07-11T14:05:29.705Z"
   },
   {
    "duration": 36,
    "start_time": "2023-07-11T14:05:42.609Z"
   },
   {
    "duration": 1374,
    "start_time": "2023-07-11T14:06:06.697Z"
   },
   {
    "duration": 157,
    "start_time": "2023-07-11T14:06:08.076Z"
   },
   {
    "duration": 61,
    "start_time": "2023-07-11T14:06:08.236Z"
   },
   {
    "duration": 11,
    "start_time": "2023-07-11T14:06:08.300Z"
   },
   {
    "duration": 31,
    "start_time": "2023-07-11T14:06:08.314Z"
   },
   {
    "duration": 68,
    "start_time": "2023-07-11T14:06:08.348Z"
   },
   {
    "duration": 36,
    "start_time": "2023-07-11T14:06:08.418Z"
   },
   {
    "duration": 279,
    "start_time": "2023-07-11T14:06:08.456Z"
   },
   {
    "duration": 5,
    "start_time": "2023-07-11T14:06:08.737Z"
   },
   {
    "duration": 56,
    "start_time": "2023-07-11T14:06:08.744Z"
   },
   {
    "duration": 15,
    "start_time": "2023-07-11T14:06:08.802Z"
   },
   {
    "duration": 80,
    "start_time": "2023-07-11T14:06:08.819Z"
   },
   {
    "duration": 45,
    "start_time": "2023-07-11T14:06:08.901Z"
   },
   {
    "duration": 156,
    "start_time": "2023-07-11T14:06:08.949Z"
   },
   {
    "duration": 27,
    "start_time": "2023-07-11T14:06:09.107Z"
   },
   {
    "duration": 114,
    "start_time": "2023-07-11T14:06:09.136Z"
   },
   {
    "duration": 87,
    "start_time": "2023-07-11T14:06:09.259Z"
   },
   {
    "duration": 180,
    "start_time": "2023-07-11T14:06:09.349Z"
   },
   {
    "duration": 97,
    "start_time": "2023-07-11T14:06:09.531Z"
   },
   {
    "duration": 97,
    "start_time": "2023-07-11T14:06:09.630Z"
   },
   {
    "duration": 48,
    "start_time": "2023-07-11T14:06:09.729Z"
   },
   {
    "duration": 52,
    "start_time": "2023-07-11T14:06:09.778Z"
   },
   {
    "duration": 124,
    "start_time": "2023-07-11T14:06:09.832Z"
   },
   {
    "duration": 97,
    "start_time": "2023-07-11T14:06:09.960Z"
   },
   {
    "duration": 93,
    "start_time": "2023-07-11T14:06:10.059Z"
   },
   {
    "duration": 76,
    "start_time": "2023-07-11T14:06:10.154Z"
   },
   {
    "duration": 79,
    "start_time": "2023-07-11T14:06:10.232Z"
   },
   {
    "duration": 114,
    "start_time": "2023-07-11T14:06:10.313Z"
   },
   {
    "duration": 213,
    "start_time": "2023-07-11T14:06:10.429Z"
   },
   {
    "duration": 83,
    "start_time": "2023-07-11T14:06:10.645Z"
   },
   {
    "duration": 197,
    "start_time": "2023-07-11T14:06:10.730Z"
   },
   {
    "duration": 204,
    "start_time": "2023-07-11T14:06:10.929Z"
   },
   {
    "duration": 28,
    "start_time": "2023-07-11T14:06:11.135Z"
   },
   {
    "duration": 116,
    "start_time": "2023-07-11T14:06:11.168Z"
   },
   {
    "duration": 211,
    "start_time": "2023-07-11T14:06:11.287Z"
   },
   {
    "duration": 6,
    "start_time": "2023-07-11T14:06:11.500Z"
   },
   {
    "duration": 26,
    "start_time": "2023-07-11T14:06:11.507Z"
   },
   {
    "duration": 188,
    "start_time": "2023-07-11T14:06:11.535Z"
   },
   {
    "duration": 6,
    "start_time": "2023-07-11T14:06:11.725Z"
   },
   {
    "duration": 67,
    "start_time": "2023-07-11T14:06:11.733Z"
   },
   {
    "duration": 107,
    "start_time": "2023-07-11T14:06:11.804Z"
   },
   {
    "duration": 94,
    "start_time": "2023-07-11T14:06:11.913Z"
   },
   {
    "duration": 200,
    "start_time": "2023-07-11T14:06:12.009Z"
   },
   {
    "duration": 4,
    "start_time": "2023-07-11T14:06:12.211Z"
   },
   {
    "duration": 33,
    "start_time": "2023-07-11T14:06:12.217Z"
   },
   {
    "duration": 41,
    "start_time": "2023-07-11T14:06:12.260Z"
   },
   {
    "duration": 92,
    "start_time": "2023-07-11T14:06:12.303Z"
   },
   {
    "duration": 36,
    "start_time": "2023-07-11T14:06:12.398Z"
   },
   {
    "duration": 34,
    "start_time": "2023-07-11T14:06:12.436Z"
   },
   {
    "duration": 34,
    "start_time": "2023-07-11T14:07:21.278Z"
   },
   {
    "duration": 1527,
    "start_time": "2023-07-11T14:08:38.677Z"
   },
   {
    "duration": 128,
    "start_time": "2023-07-11T14:08:40.207Z"
   },
   {
    "duration": 41,
    "start_time": "2023-07-11T14:08:40.338Z"
   },
   {
    "duration": 124,
    "start_time": "2023-07-11T14:08:40.382Z"
   },
   {
    "duration": 80,
    "start_time": "2023-07-11T14:08:40.510Z"
   },
   {
    "duration": 118,
    "start_time": "2023-07-11T14:08:40.594Z"
   },
   {
    "duration": 22,
    "start_time": "2023-07-11T14:08:40.715Z"
   },
   {
    "duration": 99,
    "start_time": "2023-07-11T14:08:40.739Z"
   },
   {
    "duration": 83,
    "start_time": "2023-07-11T14:08:40.840Z"
   },
   {
    "duration": 220,
    "start_time": "2023-07-11T14:08:40.925Z"
   },
   {
    "duration": 98,
    "start_time": "2023-07-11T14:08:41.147Z"
   },
   {
    "duration": 97,
    "start_time": "2023-07-11T14:08:41.247Z"
   },
   {
    "duration": 90,
    "start_time": "2023-07-11T14:08:41.347Z"
   },
   {
    "duration": 75,
    "start_time": "2023-07-11T14:08:41.441Z"
   },
   {
    "duration": 75,
    "start_time": "2023-07-11T14:08:41.518Z"
   },
   {
    "duration": 32,
    "start_time": "2023-07-11T14:08:41.596Z"
   },
   {
    "duration": 104,
    "start_time": "2023-07-11T14:08:41.630Z"
   },
   {
    "duration": 199,
    "start_time": "2023-07-11T14:08:41.736Z"
   },
   {
    "duration": 152,
    "start_time": "2023-07-11T14:08:41.937Z"
   },
   {
    "duration": 44,
    "start_time": "2023-07-11T14:08:42.091Z"
   },
   {
    "duration": 67,
    "start_time": "2023-07-11T14:08:42.138Z"
   },
   {
    "duration": 41,
    "start_time": "2023-07-11T14:08:42.207Z"
   },
   {
    "duration": 70,
    "start_time": "2023-07-11T14:08:42.249Z"
   },
   {
    "duration": 43,
    "start_time": "2023-07-11T14:08:42.321Z"
   },
   {
    "duration": 73,
    "start_time": "2023-07-11T14:08:42.370Z"
   },
   {
    "duration": 167,
    "start_time": "2023-07-11T14:08:42.445Z"
   },
   {
    "duration": 96,
    "start_time": "2023-07-11T14:08:42.614Z"
   },
   {
    "duration": 78,
    "start_time": "2023-07-11T14:08:42.712Z"
   },
   {
    "duration": 20,
    "start_time": "2023-07-11T14:08:42.795Z"
   },
   {
    "duration": 113,
    "start_time": "2023-07-11T14:08:42.817Z"
   },
   {
    "duration": 68,
    "start_time": "2023-07-11T14:08:42.932Z"
   },
   {
    "duration": 195,
    "start_time": "2023-07-11T14:08:43.002Z"
   },
   {
    "duration": 18,
    "start_time": "2023-07-11T14:08:43.200Z"
   },
   {
    "duration": 105,
    "start_time": "2023-07-11T14:08:43.219Z"
   },
   {
    "duration": 199,
    "start_time": "2023-07-11T14:08:43.326Z"
   },
   {
    "duration": 5,
    "start_time": "2023-07-11T14:08:43.528Z"
   },
   {
    "duration": 108,
    "start_time": "2023-07-11T14:08:43.535Z"
   },
   {
    "duration": 205,
    "start_time": "2023-07-11T14:08:43.645Z"
   },
   {
    "duration": 7,
    "start_time": "2023-07-11T14:08:43.858Z"
   },
   {
    "duration": 83,
    "start_time": "2023-07-11T14:08:43.867Z"
   },
   {
    "duration": 51,
    "start_time": "2023-07-11T14:08:43.955Z"
   },
   {
    "duration": 32,
    "start_time": "2023-07-11T14:08:44.008Z"
   },
   {
    "duration": 108,
    "start_time": "2023-07-11T14:08:44.042Z"
   },
   {
    "duration": 86,
    "start_time": "2023-07-11T14:08:44.164Z"
   },
   {
    "duration": 119,
    "start_time": "2023-07-11T14:08:44.261Z"
   },
   {
    "duration": 131,
    "start_time": "2023-07-11T14:08:44.382Z"
   },
   {
    "duration": 166,
    "start_time": "2023-07-11T14:08:44.516Z"
   },
   {
    "duration": 4,
    "start_time": "2023-07-11T14:08:44.684Z"
   },
   {
    "duration": 134,
    "start_time": "2023-07-11T14:08:44.693Z"
   },
   {
    "duration": 20,
    "start_time": "2023-07-11T14:09:28.001Z"
   },
   {
    "duration": 1490,
    "start_time": "2023-07-11T14:09:39.126Z"
   },
   {
    "duration": 131,
    "start_time": "2023-07-11T14:09:40.619Z"
   },
   {
    "duration": 153,
    "start_time": "2023-07-11T14:09:40.761Z"
   },
   {
    "duration": 187,
    "start_time": "2023-07-11T14:09:40.918Z"
   },
   {
    "duration": 127,
    "start_time": "2023-07-11T14:09:41.107Z"
   },
   {
    "duration": 114,
    "start_time": "2023-07-11T14:09:41.236Z"
   },
   {
    "duration": 184,
    "start_time": "2023-07-11T14:09:41.361Z"
   },
   {
    "duration": 186,
    "start_time": "2023-07-11T14:09:41.547Z"
   },
   {
    "duration": 157,
    "start_time": "2023-07-11T14:09:41.735Z"
   },
   {
    "duration": 124,
    "start_time": "2023-07-11T14:09:41.896Z"
   },
   {
    "duration": 110,
    "start_time": "2023-07-11T14:09:42.022Z"
   },
   {
    "duration": 43,
    "start_time": "2023-07-11T14:09:42.134Z"
   },
   {
    "duration": 124,
    "start_time": "2023-07-11T14:09:42.185Z"
   },
   {
    "duration": 32,
    "start_time": "2023-07-11T14:09:42.312Z"
   },
   {
    "duration": 170,
    "start_time": "2023-07-11T14:09:42.346Z"
   },
   {
    "duration": 31,
    "start_time": "2023-07-11T14:09:42.518Z"
   },
   {
    "duration": 98,
    "start_time": "2023-07-11T14:09:42.551Z"
   },
   {
    "duration": 94,
    "start_time": "2023-07-11T14:09:42.651Z"
   },
   {
    "duration": 144,
    "start_time": "2023-07-11T14:09:42.747Z"
   },
   {
    "duration": 84,
    "start_time": "2023-07-11T14:09:42.894Z"
   },
   {
    "duration": 68,
    "start_time": "2023-07-11T14:09:42.980Z"
   },
   {
    "duration": 226,
    "start_time": "2023-07-11T14:09:43.051Z"
   },
   {
    "duration": 125,
    "start_time": "2023-07-11T14:09:43.279Z"
   },
   {
    "duration": 243,
    "start_time": "2023-07-11T14:09:43.407Z"
   },
   {
    "duration": 164,
    "start_time": "2023-07-11T14:09:43.660Z"
   },
   {
    "duration": 118,
    "start_time": "2023-07-11T14:09:43.827Z"
   },
   {
    "duration": 61,
    "start_time": "2023-07-11T14:09:43.948Z"
   },
   {
    "duration": 70,
    "start_time": "2023-07-11T14:09:44.013Z"
   },
   {
    "duration": 55,
    "start_time": "2023-07-11T14:09:44.085Z"
   },
   {
    "duration": 208,
    "start_time": "2023-07-11T14:09:44.143Z"
   },
   {
    "duration": 168,
    "start_time": "2023-07-11T14:09:44.359Z"
   },
   {
    "duration": 234,
    "start_time": "2023-07-11T14:09:44.530Z"
   },
   {
    "duration": 24,
    "start_time": "2023-07-11T14:09:44.766Z"
   },
   {
    "duration": 129,
    "start_time": "2023-07-11T14:09:44.792Z"
   },
   {
    "duration": 520,
    "start_time": "2023-07-11T14:09:44.923Z"
   },
   {
    "duration": 360,
    "start_time": "2023-07-11T14:09:45.446Z"
   },
   {
    "duration": 226,
    "start_time": "2023-07-11T14:09:45.808Z"
   },
   {
    "duration": 396,
    "start_time": "2023-07-11T14:09:46.036Z"
   },
   {
    "duration": 50,
    "start_time": "2023-07-11T14:09:46.435Z"
   },
   {
    "duration": 138,
    "start_time": "2023-07-11T14:09:46.487Z"
   },
   {
    "duration": 159,
    "start_time": "2023-07-11T14:09:46.627Z"
   },
   {
    "duration": 308,
    "start_time": "2023-07-11T14:09:46.788Z"
   },
   {
    "duration": 196,
    "start_time": "2023-07-11T14:09:47.099Z"
   },
   {
    "duration": 114,
    "start_time": "2023-07-11T14:09:47.299Z"
   },
   {
    "duration": 69,
    "start_time": "2023-07-11T14:09:47.416Z"
   },
   {
    "duration": 79,
    "start_time": "2023-07-11T14:09:47.487Z"
   },
   {
    "duration": 1555,
    "start_time": "2023-07-11T14:10:15.355Z"
   },
   {
    "duration": 134,
    "start_time": "2023-07-11T14:10:16.913Z"
   },
   {
    "duration": 62,
    "start_time": "2023-07-11T14:10:17.049Z"
   },
   {
    "duration": 18,
    "start_time": "2023-07-11T14:10:17.114Z"
   },
   {
    "duration": 70,
    "start_time": "2023-07-11T14:10:17.135Z"
   },
   {
    "duration": 24,
    "start_time": "2023-07-11T14:10:17.207Z"
   },
   {
    "duration": 24,
    "start_time": "2023-07-11T14:10:17.233Z"
   },
   {
    "duration": 82,
    "start_time": "2023-07-11T14:10:17.261Z"
   },
   {
    "duration": 91,
    "start_time": "2023-07-11T14:10:17.346Z"
   },
   {
    "duration": 81,
    "start_time": "2023-07-11T14:10:17.440Z"
   },
   {
    "duration": 9,
    "start_time": "2023-07-11T14:10:17.524Z"
   },
   {
    "duration": 65,
    "start_time": "2023-07-11T14:10:17.535Z"
   },
   {
    "duration": 16,
    "start_time": "2023-07-11T14:10:17.602Z"
   },
   {
    "duration": 58,
    "start_time": "2023-07-11T14:10:17.621Z"
   },
   {
    "duration": 44,
    "start_time": "2023-07-11T14:10:17.691Z"
   },
   {
    "duration": 82,
    "start_time": "2023-07-11T14:10:17.737Z"
   },
   {
    "duration": 65,
    "start_time": "2023-07-11T14:10:17.822Z"
   },
   {
    "duration": 45,
    "start_time": "2023-07-11T14:10:17.890Z"
   },
   {
    "duration": 80,
    "start_time": "2023-07-11T14:10:17.938Z"
   },
   {
    "duration": 90,
    "start_time": "2023-07-11T14:10:18.021Z"
   },
   {
    "duration": 21,
    "start_time": "2023-07-11T14:10:18.112Z"
   },
   {
    "duration": 110,
    "start_time": "2023-07-11T14:10:18.135Z"
   },
   {
    "duration": 52,
    "start_time": "2023-07-11T14:10:18.247Z"
   },
   {
    "duration": 31,
    "start_time": "2023-07-11T14:10:18.305Z"
   },
   {
    "duration": 172,
    "start_time": "2023-07-11T14:10:18.338Z"
   },
   {
    "duration": 108,
    "start_time": "2023-07-11T14:10:18.512Z"
   },
   {
    "duration": 76,
    "start_time": "2023-07-11T14:10:18.622Z"
   },
   {
    "duration": 121,
    "start_time": "2023-07-11T14:10:18.702Z"
   },
   {
    "duration": 100,
    "start_time": "2023-07-11T14:10:18.826Z"
   },
   {
    "duration": 47,
    "start_time": "2023-07-11T14:10:18.928Z"
   },
   {
    "duration": 63,
    "start_time": "2023-07-11T14:10:18.977Z"
   },
   {
    "duration": 198,
    "start_time": "2023-07-11T14:10:19.043Z"
   },
   {
    "duration": 34,
    "start_time": "2023-07-11T14:10:19.243Z"
   },
   {
    "duration": 56,
    "start_time": "2023-07-11T14:10:19.283Z"
   },
   {
    "duration": 234,
    "start_time": "2023-07-11T14:10:19.341Z"
   },
   {
    "duration": 9,
    "start_time": "2023-07-11T14:10:19.578Z"
   },
   {
    "duration": 50,
    "start_time": "2023-07-11T14:10:19.590Z"
   },
   {
    "duration": 183,
    "start_time": "2023-07-11T14:10:19.643Z"
   },
   {
    "duration": 6,
    "start_time": "2023-07-11T14:10:19.828Z"
   },
   {
    "duration": 95,
    "start_time": "2023-07-11T14:10:19.836Z"
   },
   {
    "duration": 88,
    "start_time": "2023-07-11T14:10:19.935Z"
   },
   {
    "duration": 19,
    "start_time": "2023-07-11T14:10:20.025Z"
   },
   {
    "duration": 81,
    "start_time": "2023-07-11T14:10:20.046Z"
   },
   {
    "duration": 19,
    "start_time": "2023-07-11T14:10:20.129Z"
   },
   {
    "duration": 61,
    "start_time": "2023-07-11T14:10:20.151Z"
   },
   {
    "duration": 27,
    "start_time": "2023-07-11T14:10:20.214Z"
   },
   {
    "duration": 191,
    "start_time": "2023-07-11T15:03:42.197Z"
   },
   {
    "duration": 120,
    "start_time": "2023-07-11T15:10:31.262Z"
   },
   {
    "duration": 177,
    "start_time": "2023-07-11T15:10:57.709Z"
   },
   {
    "duration": 135,
    "start_time": "2023-07-11T15:14:58.689Z"
   },
   {
    "duration": 180,
    "start_time": "2023-07-11T15:16:15.489Z"
   },
   {
    "duration": 182,
    "start_time": "2023-07-11T15:17:57.855Z"
   },
   {
    "duration": 292,
    "start_time": "2023-07-11T15:18:13.297Z"
   },
   {
    "duration": 201,
    "start_time": "2023-07-11T15:18:18.893Z"
   },
   {
    "duration": 197,
    "start_time": "2023-07-11T15:18:28.577Z"
   },
   {
    "duration": 1501,
    "start_time": "2023-07-12T12:27:04.941Z"
   },
   {
    "duration": 93,
    "start_time": "2023-07-12T12:27:06.444Z"
   },
   {
    "duration": 41,
    "start_time": "2023-07-12T12:27:06.539Z"
   },
   {
    "duration": 4,
    "start_time": "2023-07-12T12:27:06.582Z"
   },
   {
    "duration": 3,
    "start_time": "2023-07-12T12:27:06.589Z"
   },
   {
    "duration": 13,
    "start_time": "2023-07-12T12:27:06.603Z"
   },
   {
    "duration": 7,
    "start_time": "2023-07-12T12:27:06.618Z"
   },
   {
    "duration": 11,
    "start_time": "2023-07-12T12:27:06.627Z"
   },
   {
    "duration": 3,
    "start_time": "2023-07-12T12:27:06.640Z"
   },
   {
    "duration": 32,
    "start_time": "2023-07-12T12:27:06.645Z"
   },
   {
    "duration": 12,
    "start_time": "2023-07-12T12:27:06.680Z"
   },
   {
    "duration": 32,
    "start_time": "2023-07-12T12:27:06.696Z"
   },
   {
    "duration": 15,
    "start_time": "2023-07-12T12:27:06.730Z"
   },
   {
    "duration": 14,
    "start_time": "2023-07-12T12:27:06.748Z"
   },
   {
    "duration": 31,
    "start_time": "2023-07-12T12:27:06.763Z"
   },
   {
    "duration": 10,
    "start_time": "2023-07-12T12:27:06.801Z"
   },
   {
    "duration": 21,
    "start_time": "2023-07-12T12:27:06.813Z"
   },
   {
    "duration": 9,
    "start_time": "2023-07-12T12:27:06.847Z"
   },
   {
    "duration": 32,
    "start_time": "2023-07-12T12:27:06.858Z"
   },
   {
    "duration": 22,
    "start_time": "2023-07-12T12:27:06.894Z"
   },
   {
    "duration": 19,
    "start_time": "2023-07-12T12:27:06.918Z"
   },
   {
    "duration": 22,
    "start_time": "2023-07-12T12:27:06.939Z"
   },
   {
    "duration": 47,
    "start_time": "2023-07-12T12:27:06.962Z"
   },
   {
    "duration": 39,
    "start_time": "2023-07-12T12:27:07.010Z"
   },
   {
    "duration": 39,
    "start_time": "2023-07-12T12:27:07.051Z"
   },
   {
    "duration": 22,
    "start_time": "2023-07-12T12:27:07.094Z"
   },
   {
    "duration": 21,
    "start_time": "2023-07-12T12:27:07.117Z"
   },
   {
    "duration": 18,
    "start_time": "2023-07-12T12:27:07.140Z"
   },
   {
    "duration": 41,
    "start_time": "2023-07-12T12:27:07.160Z"
   },
   {
    "duration": 20,
    "start_time": "2023-07-12T12:27:07.203Z"
   },
   {
    "duration": 35,
    "start_time": "2023-07-12T12:27:07.224Z"
   },
   {
    "duration": 175,
    "start_time": "2023-07-12T12:27:07.261Z"
   },
   {
    "duration": 14,
    "start_time": "2023-07-12T12:27:07.438Z"
   },
   {
    "duration": 31,
    "start_time": "2023-07-12T12:27:07.454Z"
   },
   {
    "duration": 129,
    "start_time": "2023-07-12T12:27:07.489Z"
   },
   {
    "duration": 5,
    "start_time": "2023-07-12T12:27:07.620Z"
   },
   {
    "duration": 22,
    "start_time": "2023-07-12T12:27:07.627Z"
   },
   {
    "duration": 163,
    "start_time": "2023-07-12T12:27:07.651Z"
   },
   {
    "duration": 5,
    "start_time": "2023-07-12T12:27:07.816Z"
   },
   {
    "duration": 25,
    "start_time": "2023-07-12T12:27:07.823Z"
   },
   {
    "duration": 48,
    "start_time": "2023-07-12T12:27:07.852Z"
   },
   {
    "duration": 8,
    "start_time": "2023-07-12T12:27:07.902Z"
   },
   {
    "duration": 10,
    "start_time": "2023-07-12T12:27:07.912Z"
   },
   {
    "duration": 24,
    "start_time": "2023-07-12T12:27:07.924Z"
   },
   {
    "duration": 9,
    "start_time": "2023-07-12T12:27:07.950Z"
   },
   {
    "duration": 41,
    "start_time": "2023-07-12T12:27:07.961Z"
   },
   {
    "duration": 4,
    "start_time": "2023-07-12T12:27:08.004Z"
   },
   {
    "duration": 206,
    "start_time": "2023-07-12T12:27:08.010Z"
   },
   {
    "duration": 18,
    "start_time": "2023-07-12T12:50:53.834Z"
   },
   {
    "duration": 406,
    "start_time": "2023-07-12T12:51:20.345Z"
   },
   {
    "duration": 409,
    "start_time": "2023-07-12T12:52:14.631Z"
   },
   {
    "duration": 4,
    "start_time": "2023-07-12T13:13:26.393Z"
   },
   {
    "duration": 273,
    "start_time": "2023-07-12T13:14:29.503Z"
   },
   {
    "duration": 3,
    "start_time": "2023-07-12T13:17:27.613Z"
   },
   {
    "duration": 161,
    "start_time": "2023-07-12T13:18:04.892Z"
   },
   {
    "duration": 1295,
    "start_time": "2023-07-12T13:18:30.453Z"
   },
   {
    "duration": 84,
    "start_time": "2023-07-12T13:18:31.751Z"
   },
   {
    "duration": 47,
    "start_time": "2023-07-12T13:18:31.837Z"
   },
   {
    "duration": 7,
    "start_time": "2023-07-12T13:18:31.886Z"
   },
   {
    "duration": 35,
    "start_time": "2023-07-12T13:18:31.896Z"
   },
   {
    "duration": 29,
    "start_time": "2023-07-12T13:18:31.933Z"
   },
   {
    "duration": 63,
    "start_time": "2023-07-12T13:18:31.963Z"
   },
   {
    "duration": 53,
    "start_time": "2023-07-12T13:18:32.028Z"
   },
   {
    "duration": 34,
    "start_time": "2023-07-12T13:18:32.083Z"
   },
   {
    "duration": 73,
    "start_time": "2023-07-12T13:18:32.119Z"
   },
   {
    "duration": 52,
    "start_time": "2023-07-12T13:18:32.194Z"
   },
   {
    "duration": 49,
    "start_time": "2023-07-12T13:18:32.248Z"
   },
   {
    "duration": 46,
    "start_time": "2023-07-12T13:18:32.299Z"
   },
   {
    "duration": 50,
    "start_time": "2023-07-12T13:18:32.350Z"
   },
   {
    "duration": 35,
    "start_time": "2023-07-12T13:18:32.402Z"
   },
   {
    "duration": 52,
    "start_time": "2023-07-12T13:18:32.440Z"
   },
   {
    "duration": 34,
    "start_time": "2023-07-12T13:18:32.494Z"
   },
   {
    "duration": 25,
    "start_time": "2023-07-12T13:18:32.530Z"
   },
   {
    "duration": 18,
    "start_time": "2023-07-12T13:18:32.557Z"
   },
   {
    "duration": 27,
    "start_time": "2023-07-12T13:18:32.577Z"
   },
   {
    "duration": 29,
    "start_time": "2023-07-12T13:18:32.606Z"
   },
   {
    "duration": 22,
    "start_time": "2023-07-12T13:18:32.636Z"
   },
   {
    "duration": 25,
    "start_time": "2023-07-12T13:18:32.660Z"
   },
   {
    "duration": 35,
    "start_time": "2023-07-12T13:18:32.687Z"
   },
   {
    "duration": 40,
    "start_time": "2023-07-12T13:18:32.724Z"
   },
   {
    "duration": 44,
    "start_time": "2023-07-12T13:18:32.766Z"
   },
   {
    "duration": 22,
    "start_time": "2023-07-12T13:18:32.811Z"
   },
   {
    "duration": 20,
    "start_time": "2023-07-12T13:18:32.835Z"
   },
   {
    "duration": 29,
    "start_time": "2023-07-12T13:18:32.856Z"
   },
   {
    "duration": 24,
    "start_time": "2023-07-12T13:18:32.888Z"
   },
   {
    "duration": 38,
    "start_time": "2023-07-12T13:18:32.914Z"
   },
   {
    "duration": 143,
    "start_time": "2023-07-12T13:18:32.967Z"
   },
   {
    "duration": 14,
    "start_time": "2023-07-12T13:18:33.112Z"
   },
   {
    "duration": 7,
    "start_time": "2023-07-12T13:18:33.128Z"
   },
   {
    "duration": 160,
    "start_time": "2023-07-12T13:18:33.136Z"
   },
   {
    "duration": 5,
    "start_time": "2023-07-12T13:18:33.298Z"
   },
   {
    "duration": 21,
    "start_time": "2023-07-12T13:18:33.304Z"
   },
   {
    "duration": 144,
    "start_time": "2023-07-12T13:18:33.327Z"
   },
   {
    "duration": 5,
    "start_time": "2023-07-12T13:18:33.482Z"
   },
   {
    "duration": 10,
    "start_time": "2023-07-12T13:18:33.489Z"
   },
   {
    "duration": 32,
    "start_time": "2023-07-12T13:18:33.504Z"
   },
   {
    "duration": 8,
    "start_time": "2023-07-12T13:18:33.538Z"
   },
   {
    "duration": 133,
    "start_time": "2023-07-12T13:18:33.547Z"
   },
   {
    "duration": 65,
    "start_time": "2023-07-12T13:18:33.683Z"
   },
   {
    "duration": 30,
    "start_time": "2023-07-12T13:18:33.750Z"
   },
   {
    "duration": 25,
    "start_time": "2023-07-12T13:18:33.782Z"
   },
   {
    "duration": 236,
    "start_time": "2023-07-12T13:18:33.809Z"
   },
   {
    "duration": 29,
    "start_time": "2023-07-12T13:18:34.048Z"
   },
   {
    "duration": 414,
    "start_time": "2023-07-12T13:18:34.080Z"
   },
   {
    "duration": 4,
    "start_time": "2023-07-12T13:18:34.496Z"
   },
   {
    "duration": 179,
    "start_time": "2023-07-12T13:18:34.501Z"
   },
   {
    "duration": 21,
    "start_time": "2023-07-12T13:26:39.217Z"
   },
   {
    "duration": 223,
    "start_time": "2023-07-12T13:30:39.474Z"
   },
   {
    "duration": 19,
    "start_time": "2023-07-12T13:31:37.331Z"
   },
   {
    "duration": 242,
    "start_time": "2023-07-12T13:42:56.407Z"
   },
   {
    "duration": 20,
    "start_time": "2023-07-12T13:43:42.151Z"
   },
   {
    "duration": 509,
    "start_time": "2023-07-12T13:46:17.858Z"
   },
   {
    "duration": 4,
    "start_time": "2023-07-12T13:50:48.860Z"
   },
   {
    "duration": 214,
    "start_time": "2023-07-12T13:51:19.094Z"
   },
   {
    "duration": 18,
    "start_time": "2023-07-12T13:51:45.592Z"
   },
   {
    "duration": 305,
    "start_time": "2023-07-12T13:54:08.894Z"
   },
   {
    "duration": 19,
    "start_time": "2023-07-12T13:55:06.126Z"
   },
   {
    "duration": 6905,
    "start_time": "2023-07-12T14:00:33.207Z"
   },
   {
    "duration": 140,
    "start_time": "2023-07-12T14:07:12.961Z"
   },
   {
    "duration": 7249,
    "start_time": "2023-07-12T14:07:25.394Z"
   },
   {
    "duration": 7468,
    "start_time": "2023-07-12T14:07:40.268Z"
   },
   {
    "duration": 968,
    "start_time": "2023-07-12T14:11:44.627Z"
   },
   {
    "duration": 361,
    "start_time": "2023-07-12T14:13:16.035Z"
   },
   {
    "duration": 31,
    "start_time": "2023-07-12T14:24:40.843Z"
   },
   {
    "duration": 309,
    "start_time": "2023-07-12T14:25:11.699Z"
   },
   {
    "duration": 1334,
    "start_time": "2023-07-12T14:30:00.096Z"
   },
   {
    "duration": 94,
    "start_time": "2023-07-12T14:30:01.432Z"
   },
   {
    "duration": 31,
    "start_time": "2023-07-12T14:30:01.528Z"
   },
   {
    "duration": 57,
    "start_time": "2023-07-12T14:30:01.561Z"
   },
   {
    "duration": 52,
    "start_time": "2023-07-12T14:30:01.620Z"
   },
   {
    "duration": 79,
    "start_time": "2023-07-12T14:30:01.674Z"
   },
   {
    "duration": 77,
    "start_time": "2023-07-12T14:30:01.755Z"
   },
   {
    "duration": 48,
    "start_time": "2023-07-12T14:30:01.835Z"
   },
   {
    "duration": 42,
    "start_time": "2023-07-12T14:30:01.885Z"
   },
   {
    "duration": 72,
    "start_time": "2023-07-12T14:30:01.929Z"
   },
   {
    "duration": 34,
    "start_time": "2023-07-12T14:30:02.003Z"
   },
   {
    "duration": 123,
    "start_time": "2023-07-12T14:30:02.039Z"
   },
   {
    "duration": 294,
    "start_time": "2023-07-12T14:30:02.163Z"
   },
   {
    "duration": 57,
    "start_time": "2023-07-12T14:30:02.460Z"
   },
   {
    "duration": 76,
    "start_time": "2023-07-12T14:30:02.519Z"
   },
   {
    "duration": 55,
    "start_time": "2023-07-12T14:30:02.597Z"
   },
   {
    "duration": 611,
    "start_time": "2023-07-12T14:30:02.654Z"
   },
   {
    "duration": 290,
    "start_time": "2023-07-12T14:30:03.267Z"
   },
   {
    "duration": 71,
    "start_time": "2023-07-12T14:30:03.559Z"
   },
   {
    "duration": 55,
    "start_time": "2023-07-12T14:30:03.632Z"
   },
   {
    "duration": 18,
    "start_time": "2023-07-12T14:30:03.690Z"
   },
   {
    "duration": 42,
    "start_time": "2023-07-12T14:30:03.710Z"
   },
   {
    "duration": 48,
    "start_time": "2023-07-12T14:30:03.755Z"
   },
   {
    "duration": 38,
    "start_time": "2023-07-12T14:30:03.804Z"
   },
   {
    "duration": 53,
    "start_time": "2023-07-12T14:30:03.844Z"
   },
   {
    "duration": 43,
    "start_time": "2023-07-12T14:30:03.899Z"
   },
   {
    "duration": 47,
    "start_time": "2023-07-12T14:30:03.944Z"
   },
   {
    "duration": 54,
    "start_time": "2023-07-12T14:30:03.993Z"
   },
   {
    "duration": 32,
    "start_time": "2023-07-12T14:30:04.049Z"
   },
   {
    "duration": 41,
    "start_time": "2023-07-12T14:30:04.084Z"
   },
   {
    "duration": 49,
    "start_time": "2023-07-12T14:30:04.127Z"
   },
   {
    "duration": 152,
    "start_time": "2023-07-12T14:30:04.181Z"
   },
   {
    "duration": 15,
    "start_time": "2023-07-12T14:30:04.335Z"
   },
   {
    "duration": 17,
    "start_time": "2023-07-12T14:30:04.352Z"
   },
   {
    "duration": 134,
    "start_time": "2023-07-12T14:30:04.371Z"
   },
   {
    "duration": 6,
    "start_time": "2023-07-12T14:30:04.507Z"
   },
   {
    "duration": 25,
    "start_time": "2023-07-12T14:30:04.514Z"
   },
   {
    "duration": 157,
    "start_time": "2023-07-12T14:30:04.540Z"
   },
   {
    "duration": 5,
    "start_time": "2023-07-12T14:30:04.700Z"
   },
   {
    "duration": 17,
    "start_time": "2023-07-12T14:30:04.706Z"
   },
   {
    "duration": 10,
    "start_time": "2023-07-12T14:30:04.728Z"
   },
   {
    "duration": 7,
    "start_time": "2023-07-12T14:30:04.740Z"
   },
   {
    "duration": 22,
    "start_time": "2023-07-12T14:30:04.749Z"
   },
   {
    "duration": 8,
    "start_time": "2023-07-12T14:30:04.773Z"
   },
   {
    "duration": 18,
    "start_time": "2023-07-12T14:30:04.783Z"
   },
   {
    "duration": 15,
    "start_time": "2023-07-12T14:30:04.803Z"
   },
   {
    "duration": 224,
    "start_time": "2023-07-12T14:30:04.820Z"
   },
   {
    "duration": 26,
    "start_time": "2023-07-12T14:30:05.046Z"
   },
   {
    "duration": 418,
    "start_time": "2023-07-12T14:30:05.079Z"
   },
   {
    "duration": 4,
    "start_time": "2023-07-12T14:30:05.499Z"
   },
   {
    "duration": 167,
    "start_time": "2023-07-12T14:30:05.504Z"
   },
   {
    "duration": 29,
    "start_time": "2023-07-12T14:30:05.673Z"
   },
   {
    "duration": 242,
    "start_time": "2023-07-12T14:30:05.709Z"
   },
   {
    "duration": 39,
    "start_time": "2023-07-12T14:30:05.953Z"
   },
   {
    "duration": 228,
    "start_time": "2023-07-12T14:30:05.994Z"
   },
   {
    "duration": 18,
    "start_time": "2023-07-12T14:30:06.224Z"
   },
   {
    "duration": 502,
    "start_time": "2023-07-12T14:30:06.243Z"
   },
   {
    "duration": 4,
    "start_time": "2023-07-12T14:30:06.748Z"
   },
   {
    "duration": 212,
    "start_time": "2023-07-12T14:30:06.754Z"
   },
   {
    "duration": 24,
    "start_time": "2023-07-12T14:30:06.968Z"
   },
   {
    "duration": 318,
    "start_time": "2023-07-12T14:30:07.000Z"
   },
   {
    "duration": 18,
    "start_time": "2023-07-12T14:30:07.320Z"
   },
   {
    "duration": 7255,
    "start_time": "2023-07-12T14:30:07.340Z"
   },
   {
    "duration": 6,
    "start_time": "2023-07-12T14:30:14.597Z"
   },
   {
    "duration": 303,
    "start_time": "2023-07-12T14:30:14.605Z"
   },
   {
    "duration": 78,
    "start_time": "2023-07-12T14:34:57.011Z"
   },
   {
    "duration": 4,
    "start_time": "2023-07-12T14:35:31.005Z"
   },
   {
    "duration": 127,
    "start_time": "2023-07-12T14:36:24.994Z"
   },
   {
    "duration": 1397,
    "start_time": "2023-07-12T14:38:52.653Z"
   },
   {
    "duration": 179,
    "start_time": "2023-07-12T14:38:54.053Z"
   },
   {
    "duration": 46,
    "start_time": "2023-07-12T14:38:54.235Z"
   },
   {
    "duration": 14,
    "start_time": "2023-07-12T14:38:54.286Z"
   },
   {
    "duration": 32,
    "start_time": "2023-07-12T14:38:54.304Z"
   },
   {
    "duration": 15,
    "start_time": "2023-07-12T14:38:54.338Z"
   },
   {
    "duration": 8,
    "start_time": "2023-07-12T14:38:54.355Z"
   },
   {
    "duration": 24,
    "start_time": "2023-07-12T14:38:54.364Z"
   },
   {
    "duration": 7,
    "start_time": "2023-07-12T14:38:54.390Z"
   },
   {
    "duration": 22,
    "start_time": "2023-07-12T14:38:54.399Z"
   },
   {
    "duration": 14,
    "start_time": "2023-07-12T14:38:54.423Z"
   },
   {
    "duration": 25,
    "start_time": "2023-07-12T14:38:54.439Z"
   },
   {
    "duration": 19,
    "start_time": "2023-07-12T14:38:54.466Z"
   },
   {
    "duration": 17,
    "start_time": "2023-07-12T14:38:54.489Z"
   },
   {
    "duration": 23,
    "start_time": "2023-07-12T14:38:54.508Z"
   },
   {
    "duration": 14,
    "start_time": "2023-07-12T14:38:54.533Z"
   },
   {
    "duration": 18,
    "start_time": "2023-07-12T14:38:54.549Z"
   },
   {
    "duration": 11,
    "start_time": "2023-07-12T14:38:54.568Z"
   },
   {
    "duration": 14,
    "start_time": "2023-07-12T14:38:54.581Z"
   },
   {
    "duration": 24,
    "start_time": "2023-07-12T14:38:54.597Z"
   },
   {
    "duration": 20,
    "start_time": "2023-07-12T14:38:54.623Z"
   },
   {
    "duration": 54,
    "start_time": "2023-07-12T14:38:54.645Z"
   },
   {
    "duration": 20,
    "start_time": "2023-07-12T14:38:54.705Z"
   },
   {
    "duration": 20,
    "start_time": "2023-07-12T14:38:54.726Z"
   },
   {
    "duration": 39,
    "start_time": "2023-07-12T14:38:54.748Z"
   },
   {
    "duration": 34,
    "start_time": "2023-07-12T14:38:54.790Z"
   },
   {
    "duration": 18,
    "start_time": "2023-07-12T14:38:54.826Z"
   },
   {
    "duration": 17,
    "start_time": "2023-07-12T14:38:54.845Z"
   },
   {
    "duration": 21,
    "start_time": "2023-07-12T14:38:54.872Z"
   },
   {
    "duration": 36,
    "start_time": "2023-07-12T14:38:54.895Z"
   },
   {
    "duration": 58,
    "start_time": "2023-07-12T14:38:54.932Z"
   },
   {
    "duration": 163,
    "start_time": "2023-07-12T14:38:54.992Z"
   },
   {
    "duration": 42,
    "start_time": "2023-07-12T14:38:55.157Z"
   },
   {
    "duration": 11,
    "start_time": "2023-07-12T14:38:55.205Z"
   },
   {
    "duration": 155,
    "start_time": "2023-07-12T14:38:55.218Z"
   },
   {
    "duration": 5,
    "start_time": "2023-07-12T14:38:55.375Z"
   },
   {
    "duration": 30,
    "start_time": "2023-07-12T14:38:55.382Z"
   },
   {
    "duration": 141,
    "start_time": "2023-07-12T14:38:55.414Z"
   },
   {
    "duration": 19,
    "start_time": "2023-07-12T14:38:55.557Z"
   },
   {
    "duration": 9,
    "start_time": "2023-07-12T14:38:55.577Z"
   },
   {
    "duration": 8,
    "start_time": "2023-07-12T14:38:55.592Z"
   },
   {
    "duration": 17,
    "start_time": "2023-07-12T14:38:55.601Z"
   },
   {
    "duration": 9,
    "start_time": "2023-07-12T14:38:55.620Z"
   },
   {
    "duration": 14,
    "start_time": "2023-07-12T14:38:55.631Z"
   },
   {
    "duration": 5,
    "start_time": "2023-07-12T14:38:55.646Z"
   },
   {
    "duration": 37,
    "start_time": "2023-07-12T14:38:55.653Z"
   },
   {
    "duration": 208,
    "start_time": "2023-07-12T14:38:55.694Z"
   },
   {
    "duration": 15,
    "start_time": "2023-07-12T14:38:55.905Z"
   },
   {
    "duration": 425,
    "start_time": "2023-07-12T14:38:55.922Z"
   },
   {
    "duration": 4,
    "start_time": "2023-07-12T14:38:56.349Z"
   },
   {
    "duration": 198,
    "start_time": "2023-07-12T14:38:56.354Z"
   },
   {
    "duration": 31,
    "start_time": "2023-07-12T14:38:56.554Z"
   },
   {
    "duration": 235,
    "start_time": "2023-07-12T14:38:56.599Z"
   },
   {
    "duration": 43,
    "start_time": "2023-07-12T14:38:56.836Z"
   },
   {
    "duration": 235,
    "start_time": "2023-07-12T14:38:56.885Z"
   },
   {
    "duration": 19,
    "start_time": "2023-07-12T14:38:57.121Z"
   },
   {
    "duration": 539,
    "start_time": "2023-07-12T14:38:57.142Z"
   },
   {
    "duration": 6,
    "start_time": "2023-07-12T14:38:57.683Z"
   },
   {
    "duration": 222,
    "start_time": "2023-07-12T14:38:57.691Z"
   },
   {
    "duration": 18,
    "start_time": "2023-07-12T14:38:57.915Z"
   },
   {
    "duration": 329,
    "start_time": "2023-07-12T14:38:57.935Z"
   },
   {
    "duration": 21,
    "start_time": "2023-07-12T14:38:58.271Z"
   },
   {
    "duration": 7445,
    "start_time": "2023-07-12T14:38:58.294Z"
   },
   {
    "duration": 6,
    "start_time": "2023-07-12T14:39:05.741Z"
   },
   {
    "duration": 353,
    "start_time": "2023-07-12T14:39:05.749Z"
   },
   {
    "duration": 9,
    "start_time": "2023-07-12T14:39:06.104Z"
   },
   {
    "duration": 202,
    "start_time": "2023-07-12T14:39:06.115Z"
   },
   {
    "duration": 17,
    "start_time": "2023-07-12T14:39:06.319Z"
   },
   {
    "duration": 442,
    "start_time": "2023-07-12T14:42:11.510Z"
   },
   {
    "duration": 19,
    "start_time": "2023-07-12T14:42:29.302Z"
   },
   {
    "duration": 1315,
    "start_time": "2023-07-12T14:52:48.829Z"
   },
   {
    "duration": 131,
    "start_time": "2023-07-12T14:52:50.147Z"
   },
   {
    "duration": 34,
    "start_time": "2023-07-12T14:52:50.280Z"
   },
   {
    "duration": 14,
    "start_time": "2023-07-12T14:52:50.316Z"
   },
   {
    "duration": 17,
    "start_time": "2023-07-12T14:52:50.333Z"
   },
   {
    "duration": 42,
    "start_time": "2023-07-12T14:52:50.352Z"
   },
   {
    "duration": 6,
    "start_time": "2023-07-12T14:52:50.396Z"
   },
   {
    "duration": 10,
    "start_time": "2023-07-12T14:52:50.404Z"
   },
   {
    "duration": 15,
    "start_time": "2023-07-12T14:52:50.416Z"
   },
   {
    "duration": 15,
    "start_time": "2023-07-12T14:52:50.433Z"
   },
   {
    "duration": 7,
    "start_time": "2023-07-12T14:52:50.450Z"
   },
   {
    "duration": 34,
    "start_time": "2023-07-12T14:52:50.459Z"
   },
   {
    "duration": 36,
    "start_time": "2023-07-12T14:52:50.497Z"
   },
   {
    "duration": 13,
    "start_time": "2023-07-12T14:52:50.538Z"
   },
   {
    "duration": 46,
    "start_time": "2023-07-12T14:52:50.553Z"
   },
   {
    "duration": 11,
    "start_time": "2023-07-12T14:52:50.601Z"
   },
   {
    "duration": 32,
    "start_time": "2023-07-12T14:52:50.614Z"
   },
   {
    "duration": 53,
    "start_time": "2023-07-12T14:52:50.648Z"
   },
   {
    "duration": 39,
    "start_time": "2023-07-12T14:52:50.703Z"
   },
   {
    "duration": 35,
    "start_time": "2023-07-12T14:52:50.744Z"
   },
   {
    "duration": 21,
    "start_time": "2023-07-12T14:52:50.780Z"
   },
   {
    "duration": 44,
    "start_time": "2023-07-12T14:52:50.803Z"
   },
   {
    "duration": 42,
    "start_time": "2023-07-12T14:52:50.849Z"
   },
   {
    "duration": 30,
    "start_time": "2023-07-12T14:52:50.892Z"
   },
   {
    "duration": 58,
    "start_time": "2023-07-12T14:52:50.924Z"
   },
   {
    "duration": 20,
    "start_time": "2023-07-12T14:52:50.991Z"
   },
   {
    "duration": 17,
    "start_time": "2023-07-12T14:52:51.012Z"
   },
   {
    "duration": 46,
    "start_time": "2023-07-12T14:52:51.031Z"
   },
   {
    "duration": 20,
    "start_time": "2023-07-12T14:52:51.086Z"
   },
   {
    "duration": 25,
    "start_time": "2023-07-12T14:52:51.108Z"
   },
   {
    "duration": 65,
    "start_time": "2023-07-12T14:52:51.136Z"
   },
   {
    "duration": 151,
    "start_time": "2023-07-12T14:52:51.203Z"
   },
   {
    "duration": 35,
    "start_time": "2023-07-12T14:52:51.355Z"
   },
   {
    "duration": 9,
    "start_time": "2023-07-12T14:52:51.392Z"
   },
   {
    "duration": 147,
    "start_time": "2023-07-12T14:52:51.402Z"
   },
   {
    "duration": 5,
    "start_time": "2023-07-12T14:52:51.551Z"
   },
   {
    "duration": 57,
    "start_time": "2023-07-12T14:52:51.557Z"
   },
   {
    "duration": 129,
    "start_time": "2023-07-12T14:52:51.616Z"
   },
   {
    "duration": 6,
    "start_time": "2023-07-12T14:52:51.747Z"
   },
   {
    "duration": 21,
    "start_time": "2023-07-12T14:52:51.766Z"
   },
   {
    "duration": 9,
    "start_time": "2023-07-12T14:52:51.799Z"
   },
   {
    "duration": 48,
    "start_time": "2023-07-12T14:52:51.809Z"
   },
   {
    "duration": 41,
    "start_time": "2023-07-12T14:52:51.858Z"
   },
   {
    "duration": 10,
    "start_time": "2023-07-12T14:52:51.901Z"
   },
   {
    "duration": 13,
    "start_time": "2023-07-12T14:52:51.913Z"
   },
   {
    "duration": 24,
    "start_time": "2023-07-12T14:52:51.928Z"
   },
   {
    "duration": 194,
    "start_time": "2023-07-12T14:52:51.954Z"
   },
   {
    "duration": 24,
    "start_time": "2023-07-12T14:52:52.150Z"
   },
   {
    "duration": 417,
    "start_time": "2023-07-12T14:52:52.180Z"
   },
   {
    "duration": 4,
    "start_time": "2023-07-12T14:52:52.603Z"
   },
   {
    "duration": 178,
    "start_time": "2023-07-12T14:52:52.609Z"
   },
   {
    "duration": 30,
    "start_time": "2023-07-12T14:52:52.794Z"
   },
   {
    "duration": 271,
    "start_time": "2023-07-12T14:52:52.827Z"
   },
   {
    "duration": 19,
    "start_time": "2023-07-12T14:52:53.100Z"
   },
   {
    "duration": 262,
    "start_time": "2023-07-12T14:52:53.120Z"
   },
   {
    "duration": 26,
    "start_time": "2023-07-12T14:52:53.383Z"
   },
   {
    "duration": 495,
    "start_time": "2023-07-12T14:52:53.410Z"
   },
   {
    "duration": 16,
    "start_time": "2023-07-12T14:52:53.908Z"
   },
   {
    "duration": 245,
    "start_time": "2023-07-12T14:52:53.926Z"
   },
   {
    "duration": 31,
    "start_time": "2023-07-12T14:52:54.173Z"
   },
   {
    "duration": 359,
    "start_time": "2023-07-12T14:52:54.208Z"
   },
   {
    "duration": 76,
    "start_time": "2023-07-12T14:52:54.568Z"
   },
   {
    "duration": 0,
    "start_time": "2023-07-12T14:52:54.646Z"
   },
   {
    "duration": 0,
    "start_time": "2023-07-12T14:52:54.648Z"
   },
   {
    "duration": 0,
    "start_time": "2023-07-12T14:52:54.650Z"
   },
   {
    "duration": 0,
    "start_time": "2023-07-12T14:52:54.651Z"
   },
   {
    "duration": 0,
    "start_time": "2023-07-12T14:52:54.653Z"
   },
   {
    "duration": 0,
    "start_time": "2023-07-12T14:52:54.654Z"
   },
   {
    "duration": 0,
    "start_time": "2023-07-12T14:52:54.656Z"
   },
   {
    "duration": 0,
    "start_time": "2023-07-12T14:52:54.657Z"
   },
   {
    "duration": 0,
    "start_time": "2023-07-12T14:52:54.659Z"
   },
   {
    "duration": 0,
    "start_time": "2023-07-12T14:52:54.660Z"
   },
   {
    "duration": 0,
    "start_time": "2023-07-12T14:52:54.661Z"
   },
   {
    "duration": 0,
    "start_time": "2023-07-12T14:52:54.664Z"
   },
   {
    "duration": 1266,
    "start_time": "2023-07-12T14:53:41.308Z"
   },
   {
    "duration": 155,
    "start_time": "2023-07-12T14:53:42.576Z"
   },
   {
    "duration": 39,
    "start_time": "2023-07-12T14:53:42.733Z"
   },
   {
    "duration": 7,
    "start_time": "2023-07-12T14:53:42.776Z"
   },
   {
    "duration": 5,
    "start_time": "2023-07-12T14:53:42.795Z"
   },
   {
    "duration": 23,
    "start_time": "2023-07-12T14:53:42.804Z"
   },
   {
    "duration": 9,
    "start_time": "2023-07-12T14:53:42.829Z"
   },
   {
    "duration": 16,
    "start_time": "2023-07-12T14:53:42.840Z"
   },
   {
    "duration": 5,
    "start_time": "2023-07-12T14:53:42.857Z"
   },
   {
    "duration": 45,
    "start_time": "2023-07-12T14:53:42.864Z"
   },
   {
    "duration": 11,
    "start_time": "2023-07-12T14:53:42.912Z"
   },
   {
    "duration": 22,
    "start_time": "2023-07-12T14:53:42.925Z"
   },
   {
    "duration": 31,
    "start_time": "2023-07-12T14:53:42.950Z"
   },
   {
    "duration": 32,
    "start_time": "2023-07-12T14:53:42.988Z"
   },
   {
    "duration": 14,
    "start_time": "2023-07-12T14:53:43.022Z"
   },
   {
    "duration": 12,
    "start_time": "2023-07-12T14:53:43.039Z"
   },
   {
    "duration": 9,
    "start_time": "2023-07-12T14:53:43.053Z"
   },
   {
    "duration": 10,
    "start_time": "2023-07-12T14:53:43.064Z"
   },
   {
    "duration": 24,
    "start_time": "2023-07-12T14:53:43.077Z"
   },
   {
    "duration": 30,
    "start_time": "2023-07-12T14:53:43.103Z"
   },
   {
    "duration": 22,
    "start_time": "2023-07-12T14:53:43.135Z"
   },
   {
    "duration": 39,
    "start_time": "2023-07-12T14:53:43.159Z"
   },
   {
    "duration": 23,
    "start_time": "2023-07-12T14:53:43.200Z"
   },
   {
    "duration": 20,
    "start_time": "2023-07-12T14:53:43.225Z"
   },
   {
    "duration": 45,
    "start_time": "2023-07-12T14:53:43.247Z"
   },
   {
    "duration": 19,
    "start_time": "2023-07-12T14:53:43.300Z"
   },
   {
    "duration": 23,
    "start_time": "2023-07-12T14:53:43.321Z"
   },
   {
    "duration": 36,
    "start_time": "2023-07-12T14:53:43.347Z"
   },
   {
    "duration": 24,
    "start_time": "2023-07-12T14:53:43.387Z"
   },
   {
    "duration": 21,
    "start_time": "2023-07-12T14:53:43.412Z"
   },
   {
    "duration": 55,
    "start_time": "2023-07-12T14:53:43.435Z"
   },
   {
    "duration": 144,
    "start_time": "2023-07-12T14:53:43.494Z"
   },
   {
    "duration": 16,
    "start_time": "2023-07-12T14:53:43.640Z"
   },
   {
    "duration": 21,
    "start_time": "2023-07-12T14:53:43.657Z"
   },
   {
    "duration": 165,
    "start_time": "2023-07-12T14:53:43.680Z"
   },
   {
    "duration": 6,
    "start_time": "2023-07-12T14:53:43.847Z"
   },
   {
    "duration": 61,
    "start_time": "2023-07-12T14:53:43.855Z"
   },
   {
    "duration": 174,
    "start_time": "2023-07-12T14:53:43.918Z"
   },
   {
    "duration": 9,
    "start_time": "2023-07-12T14:53:44.094Z"
   },
   {
    "duration": 8,
    "start_time": "2023-07-12T14:53:44.110Z"
   },
   {
    "duration": 7,
    "start_time": "2023-07-12T14:53:44.124Z"
   },
   {
    "duration": 8,
    "start_time": "2023-07-12T14:53:44.133Z"
   },
   {
    "duration": 19,
    "start_time": "2023-07-12T14:53:44.168Z"
   },
   {
    "duration": 18,
    "start_time": "2023-07-12T14:53:44.189Z"
   },
   {
    "duration": 7,
    "start_time": "2023-07-12T14:53:44.210Z"
   },
   {
    "duration": 16,
    "start_time": "2023-07-12T14:53:44.219Z"
   },
   {
    "duration": 248,
    "start_time": "2023-07-12T14:53:44.237Z"
   },
   {
    "duration": 20,
    "start_time": "2023-07-12T14:53:44.492Z"
   },
   {
    "duration": 429,
    "start_time": "2023-07-12T14:53:44.513Z"
   },
   {
    "duration": 11,
    "start_time": "2023-07-12T14:53:44.945Z"
   },
   {
    "duration": 200,
    "start_time": "2023-07-12T14:53:44.958Z"
   },
   {
    "duration": 36,
    "start_time": "2023-07-12T14:53:45.160Z"
   },
   {
    "duration": 286,
    "start_time": "2023-07-12T14:53:45.199Z"
   },
   {
    "duration": 30,
    "start_time": "2023-07-12T14:53:45.488Z"
   },
   {
    "duration": 234,
    "start_time": "2023-07-12T14:53:45.521Z"
   },
   {
    "duration": 34,
    "start_time": "2023-07-12T14:53:45.756Z"
   },
   {
    "duration": 485,
    "start_time": "2023-07-12T14:53:45.792Z"
   },
   {
    "duration": 6,
    "start_time": "2023-07-12T14:53:46.279Z"
   },
   {
    "duration": 202,
    "start_time": "2023-07-12T14:53:46.287Z"
   },
   {
    "duration": 20,
    "start_time": "2023-07-12T14:53:46.497Z"
   },
   {
    "duration": 411,
    "start_time": "2023-07-12T14:53:46.519Z"
   },
   {
    "duration": 3,
    "start_time": "2023-07-12T14:53:46.933Z"
   },
   {
    "duration": 154,
    "start_time": "2023-07-12T14:53:46.938Z"
   },
   {
    "duration": 19,
    "start_time": "2023-07-12T14:53:47.098Z"
   },
   {
    "duration": 7236,
    "start_time": "2023-07-12T14:53:47.118Z"
   },
   {
    "duration": 19,
    "start_time": "2023-07-12T14:53:54.356Z"
   },
   {
    "duration": 307,
    "start_time": "2023-07-12T14:53:54.381Z"
   },
   {
    "duration": 7,
    "start_time": "2023-07-12T14:53:54.692Z"
   },
   {
    "duration": 118,
    "start_time": "2023-07-12T14:53:54.702Z"
   },
   {
    "duration": 22,
    "start_time": "2023-07-12T14:53:54.822Z"
   },
   {
    "duration": 490,
    "start_time": "2023-07-12T14:53:54.845Z"
   },
   {
    "duration": 5,
    "start_time": "2023-07-12T14:53:55.337Z"
   },
   {
    "duration": 156,
    "start_time": "2023-07-12T14:53:55.343Z"
   },
   {
    "duration": 20,
    "start_time": "2023-07-12T14:53:55.501Z"
   },
   {
    "duration": 395,
    "start_time": "2023-07-12T14:58:10.338Z"
   },
   {
    "duration": 39,
    "start_time": "2023-07-12T14:58:28.092Z"
   },
   {
    "duration": 344,
    "start_time": "2023-07-12T15:02:05.843Z"
   },
   {
    "duration": 26,
    "start_time": "2023-07-12T15:02:08.935Z"
   },
   {
    "duration": 1095,
    "start_time": "2023-07-12T15:07:06.209Z"
   },
   {
    "duration": 111,
    "start_time": "2023-07-12T15:15:33.009Z"
   },
   {
    "duration": 5,
    "start_time": "2023-07-12T15:15:37.068Z"
   },
   {
    "duration": 108,
    "start_time": "2023-07-12T15:15:38.512Z"
   },
   {
    "duration": 20,
    "start_time": "2023-07-12T15:16:01.449Z"
   },
   {
    "duration": 30,
    "start_time": "2023-07-12T15:48:00.193Z"
   },
   {
    "duration": 1387,
    "start_time": "2023-07-12T15:51:00.257Z"
   },
   {
    "duration": 77,
    "start_time": "2023-07-12T15:51:01.647Z"
   },
   {
    "duration": 33,
    "start_time": "2023-07-12T15:51:01.727Z"
   },
   {
    "duration": 72,
    "start_time": "2023-07-12T15:51:01.762Z"
   },
   {
    "duration": 180,
    "start_time": "2023-07-12T15:51:01.838Z"
   },
   {
    "duration": 202,
    "start_time": "2023-07-12T15:51:02.020Z"
   },
   {
    "duration": 156,
    "start_time": "2023-07-12T15:51:02.225Z"
   },
   {
    "duration": 103,
    "start_time": "2023-07-12T15:51:02.383Z"
   },
   {
    "duration": 78,
    "start_time": "2023-07-12T15:51:02.488Z"
   },
   {
    "duration": 64,
    "start_time": "2023-07-12T15:51:02.568Z"
   },
   {
    "duration": 33,
    "start_time": "2023-07-12T15:51:02.635Z"
   },
   {
    "duration": 37,
    "start_time": "2023-07-12T15:51:02.670Z"
   },
   {
    "duration": 54,
    "start_time": "2023-07-12T15:51:02.709Z"
   },
   {
    "duration": 108,
    "start_time": "2023-07-12T15:51:02.766Z"
   },
   {
    "duration": 149,
    "start_time": "2023-07-12T15:51:02.876Z"
   },
   {
    "duration": 121,
    "start_time": "2023-07-12T15:51:03.027Z"
   },
   {
    "duration": 42,
    "start_time": "2023-07-12T15:51:03.149Z"
   },
   {
    "duration": 93,
    "start_time": "2023-07-12T15:51:03.193Z"
   },
   {
    "duration": 41,
    "start_time": "2023-07-12T15:51:03.288Z"
   },
   {
    "duration": 59,
    "start_time": "2023-07-12T15:51:03.331Z"
   },
   {
    "duration": 73,
    "start_time": "2023-07-12T15:51:03.392Z"
   },
   {
    "duration": 25,
    "start_time": "2023-07-12T15:51:03.466Z"
   },
   {
    "duration": 28,
    "start_time": "2023-07-12T15:51:03.492Z"
   },
   {
    "duration": 36,
    "start_time": "2023-07-12T15:51:03.522Z"
   },
   {
    "duration": 24,
    "start_time": "2023-07-12T15:51:03.560Z"
   },
   {
    "duration": 43,
    "start_time": "2023-07-12T15:51:03.586Z"
   },
   {
    "duration": 24,
    "start_time": "2023-07-12T15:51:03.634Z"
   },
   {
    "duration": 37,
    "start_time": "2023-07-12T15:51:03.660Z"
   },
   {
    "duration": 40,
    "start_time": "2023-07-12T15:51:03.699Z"
   },
   {
    "duration": 62,
    "start_time": "2023-07-12T15:51:03.741Z"
   },
   {
    "duration": 179,
    "start_time": "2023-07-12T15:51:03.806Z"
   },
   {
    "duration": 21,
    "start_time": "2023-07-12T15:51:03.987Z"
   },
   {
    "duration": 27,
    "start_time": "2023-07-12T15:51:04.010Z"
   },
   {
    "duration": 162,
    "start_time": "2023-07-12T15:51:04.040Z"
   },
   {
    "duration": 7,
    "start_time": "2023-07-12T15:51:04.204Z"
   },
   {
    "duration": 38,
    "start_time": "2023-07-12T15:51:04.213Z"
   },
   {
    "duration": 154,
    "start_time": "2023-07-12T15:51:04.253Z"
   },
   {
    "duration": 6,
    "start_time": "2023-07-12T15:51:04.408Z"
   },
   {
    "duration": 13,
    "start_time": "2023-07-12T15:51:04.416Z"
   },
   {
    "duration": 14,
    "start_time": "2023-07-12T15:51:04.431Z"
   },
   {
    "duration": 21,
    "start_time": "2023-07-12T15:51:04.450Z"
   },
   {
    "duration": 40,
    "start_time": "2023-07-12T15:51:04.473Z"
   },
   {
    "duration": 9,
    "start_time": "2023-07-12T15:51:04.515Z"
   },
   {
    "duration": 19,
    "start_time": "2023-07-12T15:51:04.525Z"
   },
   {
    "duration": 21,
    "start_time": "2023-07-12T15:51:04.546Z"
   },
   {
    "duration": 191,
    "start_time": "2023-07-12T15:51:04.569Z"
   },
   {
    "duration": 19,
    "start_time": "2023-07-12T15:51:04.762Z"
   },
   {
    "duration": 409,
    "start_time": "2023-07-12T15:51:04.783Z"
   },
   {
    "duration": 4,
    "start_time": "2023-07-12T15:51:05.194Z"
   },
   {
    "duration": 169,
    "start_time": "2023-07-12T15:51:05.199Z"
   },
   {
    "duration": 20,
    "start_time": "2023-07-12T15:51:05.370Z"
   },
   {
    "duration": 240,
    "start_time": "2023-07-12T15:51:05.393Z"
   },
   {
    "duration": 19,
    "start_time": "2023-07-12T15:51:05.636Z"
   },
   {
    "duration": 235,
    "start_time": "2023-07-12T15:51:05.657Z"
   },
   {
    "duration": 21,
    "start_time": "2023-07-12T15:51:05.894Z"
   },
   {
    "duration": 471,
    "start_time": "2023-07-12T15:51:05.917Z"
   },
   {
    "duration": 4,
    "start_time": "2023-07-12T15:51:06.390Z"
   },
   {
    "duration": 185,
    "start_time": "2023-07-12T15:51:06.395Z"
   },
   {
    "duration": 20,
    "start_time": "2023-07-12T15:51:06.582Z"
   },
   {
    "duration": 322,
    "start_time": "2023-07-12T15:51:06.604Z"
   },
   {
    "duration": 4,
    "start_time": "2023-07-12T15:51:06.928Z"
   },
   {
    "duration": 148,
    "start_time": "2023-07-12T15:51:06.934Z"
   },
   {
    "duration": 20,
    "start_time": "2023-07-12T15:51:07.084Z"
   },
   {
    "duration": 6728,
    "start_time": "2023-07-12T15:51:07.105Z"
   },
   {
    "duration": 8,
    "start_time": "2023-07-12T15:51:13.835Z"
   },
   {
    "duration": 373,
    "start_time": "2023-07-12T15:51:13.846Z"
   },
   {
    "duration": 4,
    "start_time": "2023-07-12T15:51:14.221Z"
   },
   {
    "duration": 126,
    "start_time": "2023-07-12T15:51:14.226Z"
   },
   {
    "duration": 28,
    "start_time": "2023-07-12T15:51:14.354Z"
   },
   {
    "duration": 423,
    "start_time": "2023-07-12T15:51:14.383Z"
   },
   {
    "duration": 4,
    "start_time": "2023-07-12T15:51:14.808Z"
   },
   {
    "duration": 145,
    "start_time": "2023-07-12T15:51:14.814Z"
   },
   {
    "duration": 22,
    "start_time": "2023-07-12T15:51:14.966Z"
   },
   {
    "duration": 297,
    "start_time": "2023-07-12T15:51:14.990Z"
   },
   {
    "duration": 20,
    "start_time": "2023-07-12T15:51:15.289Z"
   },
   {
    "duration": 302,
    "start_time": "2023-07-12T15:51:15.312Z"
   },
   {
    "duration": 20,
    "start_time": "2023-07-12T15:51:15.616Z"
   },
   {
    "duration": 1067,
    "start_time": "2023-07-12T15:51:15.638Z"
   },
   {
    "duration": 5,
    "start_time": "2023-07-12T15:51:16.707Z"
   },
   {
    "duration": 166,
    "start_time": "2023-07-12T15:51:16.714Z"
   },
   {
    "duration": 20,
    "start_time": "2023-07-12T15:51:16.882Z"
   },
   {
    "duration": 30,
    "start_time": "2023-07-12T15:51:16.904Z"
   },
   {
    "duration": 1836,
    "start_time": "2023-07-12T15:53:37.753Z"
   },
   {
    "duration": 132,
    "start_time": "2023-07-12T15:56:47.795Z"
   },
   {
    "duration": 11,
    "start_time": "2023-07-12T16:04:12.197Z"
   },
   {
    "duration": 424,
    "start_time": "2023-07-12T16:04:22.203Z"
   },
   {
    "duration": 11,
    "start_time": "2023-07-12T16:37:48.097Z"
   },
   {
    "duration": 4,
    "start_time": "2023-07-12T16:38:11.497Z"
   },
   {
    "duration": 10,
    "start_time": "2023-07-12T16:38:16.749Z"
   },
   {
    "duration": 11,
    "start_time": "2023-07-12T16:39:42.334Z"
   },
   {
    "duration": 10,
    "start_time": "2023-07-12T16:42:20.397Z"
   },
   {
    "duration": 1463,
    "start_time": "2023-07-13T10:59:53.512Z"
   },
   {
    "duration": 65,
    "start_time": "2023-07-13T10:59:54.977Z"
   },
   {
    "duration": 32,
    "start_time": "2023-07-13T10:59:55.044Z"
   },
   {
    "duration": 30,
    "start_time": "2023-07-13T10:59:55.078Z"
   },
   {
    "duration": 57,
    "start_time": "2023-07-13T10:59:55.110Z"
   },
   {
    "duration": 75,
    "start_time": "2023-07-13T10:59:55.169Z"
   },
   {
    "duration": 46,
    "start_time": "2023-07-13T10:59:55.247Z"
   },
   {
    "duration": 57,
    "start_time": "2023-07-13T10:59:55.295Z"
   },
   {
    "duration": 15,
    "start_time": "2023-07-13T10:59:55.354Z"
   },
   {
    "duration": 23,
    "start_time": "2023-07-13T10:59:55.371Z"
   },
   {
    "duration": 6,
    "start_time": "2023-07-13T10:59:55.396Z"
   },
   {
    "duration": 41,
    "start_time": "2023-07-13T10:59:55.404Z"
   },
   {
    "duration": 25,
    "start_time": "2023-07-13T10:59:55.447Z"
   },
   {
    "duration": 32,
    "start_time": "2023-07-13T10:59:55.475Z"
   },
   {
    "duration": 25,
    "start_time": "2023-07-13T10:59:55.509Z"
   },
   {
    "duration": 9,
    "start_time": "2023-07-13T10:59:55.536Z"
   },
   {
    "duration": 10,
    "start_time": "2023-07-13T10:59:55.547Z"
   },
   {
    "duration": 27,
    "start_time": "2023-07-13T10:59:55.559Z"
   },
   {
    "duration": 16,
    "start_time": "2023-07-13T10:59:55.588Z"
   },
   {
    "duration": 30,
    "start_time": "2023-07-13T10:59:55.606Z"
   },
   {
    "duration": 19,
    "start_time": "2023-07-13T10:59:55.638Z"
   },
   {
    "duration": 31,
    "start_time": "2023-07-13T10:59:55.659Z"
   },
   {
    "duration": 37,
    "start_time": "2023-07-13T10:59:55.692Z"
   },
   {
    "duration": 16,
    "start_time": "2023-07-13T10:59:55.731Z"
   },
   {
    "duration": 21,
    "start_time": "2023-07-13T10:59:55.749Z"
   },
   {
    "duration": 38,
    "start_time": "2023-07-13T10:59:55.772Z"
   },
   {
    "duration": 16,
    "start_time": "2023-07-13T10:59:55.812Z"
   },
   {
    "duration": 65,
    "start_time": "2023-07-13T10:59:55.830Z"
   },
   {
    "duration": 21,
    "start_time": "2023-07-13T10:59:55.898Z"
   },
   {
    "duration": 75,
    "start_time": "2023-07-13T10:59:55.920Z"
   },
   {
    "duration": 178,
    "start_time": "2023-07-13T10:59:55.998Z"
   },
   {
    "duration": 31,
    "start_time": "2023-07-13T10:59:56.178Z"
   },
   {
    "duration": 8,
    "start_time": "2023-07-13T10:59:56.211Z"
   },
   {
    "duration": 139,
    "start_time": "2023-07-13T10:59:56.220Z"
   },
   {
    "duration": 6,
    "start_time": "2023-07-13T10:59:56.360Z"
   },
   {
    "duration": 50,
    "start_time": "2023-07-13T10:59:56.368Z"
   },
   {
    "duration": 175,
    "start_time": "2023-07-13T10:59:56.420Z"
   },
   {
    "duration": 5,
    "start_time": "2023-07-13T10:59:56.597Z"
   },
   {
    "duration": 17,
    "start_time": "2023-07-13T10:59:56.609Z"
   },
   {
    "duration": 37,
    "start_time": "2023-07-13T10:59:56.628Z"
   },
   {
    "duration": 15,
    "start_time": "2023-07-13T10:59:56.671Z"
   },
   {
    "duration": 21,
    "start_time": "2023-07-13T10:59:56.688Z"
   },
   {
    "duration": 17,
    "start_time": "2023-07-13T10:59:56.711Z"
   },
   {
    "duration": 35,
    "start_time": "2023-07-13T10:59:56.730Z"
   },
   {
    "duration": 24,
    "start_time": "2023-07-13T10:59:56.767Z"
   },
   {
    "duration": 224,
    "start_time": "2023-07-13T10:59:56.793Z"
   },
   {
    "duration": 14,
    "start_time": "2023-07-13T10:59:57.019Z"
   },
   {
    "duration": 394,
    "start_time": "2023-07-13T10:59:57.035Z"
   },
   {
    "duration": 5,
    "start_time": "2023-07-13T10:59:57.431Z"
   },
   {
    "duration": 171,
    "start_time": "2023-07-13T10:59:57.438Z"
   },
   {
    "duration": 20,
    "start_time": "2023-07-13T10:59:57.611Z"
   },
   {
    "duration": 235,
    "start_time": "2023-07-13T10:59:57.633Z"
   },
   {
    "duration": 18,
    "start_time": "2023-07-13T10:59:57.870Z"
   },
   {
    "duration": 253,
    "start_time": "2023-07-13T10:59:57.890Z"
   },
   {
    "duration": 18,
    "start_time": "2023-07-13T10:59:58.145Z"
   },
   {
    "duration": 516,
    "start_time": "2023-07-13T10:59:58.165Z"
   },
   {
    "duration": 4,
    "start_time": "2023-07-13T10:59:58.683Z"
   },
   {
    "duration": 199,
    "start_time": "2023-07-13T10:59:58.689Z"
   },
   {
    "duration": 22,
    "start_time": "2023-07-13T10:59:58.890Z"
   },
   {
    "duration": 312,
    "start_time": "2023-07-13T10:59:58.914Z"
   },
   {
    "duration": 6,
    "start_time": "2023-07-13T10:59:59.228Z"
   },
   {
    "duration": 170,
    "start_time": "2023-07-13T10:59:59.236Z"
   },
   {
    "duration": 31,
    "start_time": "2023-07-13T10:59:59.409Z"
   },
   {
    "duration": 6928,
    "start_time": "2023-07-13T10:59:59.442Z"
   },
   {
    "duration": 9,
    "start_time": "2023-07-13T11:00:06.372Z"
   },
   {
    "duration": 366,
    "start_time": "2023-07-13T11:00:06.384Z"
   },
   {
    "duration": 5,
    "start_time": "2023-07-13T11:00:06.752Z"
   },
   {
    "duration": 144,
    "start_time": "2023-07-13T11:00:06.759Z"
   },
   {
    "duration": 22,
    "start_time": "2023-07-13T11:00:06.905Z"
   },
   {
    "duration": 429,
    "start_time": "2023-07-13T11:00:06.929Z"
   },
   {
    "duration": 5,
    "start_time": "2023-07-13T11:00:07.361Z"
   },
   {
    "duration": 154,
    "start_time": "2023-07-13T11:00:07.368Z"
   },
   {
    "duration": 23,
    "start_time": "2023-07-13T11:00:07.523Z"
   },
   {
    "duration": 309,
    "start_time": "2023-07-13T11:00:07.549Z"
   },
   {
    "duration": 24,
    "start_time": "2023-07-13T11:00:07.861Z"
   },
   {
    "duration": 305,
    "start_time": "2023-07-13T11:00:07.887Z"
   },
   {
    "duration": 26,
    "start_time": "2023-07-13T11:00:08.194Z"
   },
   {
    "duration": 1039,
    "start_time": "2023-07-13T11:00:08.222Z"
   },
   {
    "duration": 5,
    "start_time": "2023-07-13T11:00:09.263Z"
   },
   {
    "duration": 120,
    "start_time": "2023-07-13T11:00:09.269Z"
   },
   {
    "duration": 30,
    "start_time": "2023-07-13T11:00:09.391Z"
   },
   {
    "duration": 44,
    "start_time": "2023-07-13T11:00:09.423Z"
   },
   {
    "duration": 1793,
    "start_time": "2023-07-13T11:00:09.470Z"
   },
   {
    "duration": 13,
    "start_time": "2023-07-13T11:00:11.264Z"
   },
   {
    "duration": 473,
    "start_time": "2023-07-13T11:00:11.279Z"
   },
   {
    "duration": 12,
    "start_time": "2023-07-13T11:00:11.754Z"
   },
   {
    "duration": 12,
    "start_time": "2023-07-13T11:00:11.769Z"
   },
   {
    "duration": 20,
    "start_time": "2023-07-13T11:25:39.235Z"
   },
   {
    "duration": 16,
    "start_time": "2023-07-13T11:26:07.122Z"
   },
   {
    "duration": 477,
    "start_time": "2023-07-13T11:27:41.230Z"
   },
   {
    "duration": 154,
    "start_time": "2023-07-13T11:27:47.218Z"
   },
   {
    "duration": 51,
    "start_time": "2023-07-13T11:28:22.620Z"
   },
   {
    "duration": 106,
    "start_time": "2023-07-13T11:28:54.092Z"
   },
   {
    "duration": 10,
    "start_time": "2023-07-13T11:29:06.691Z"
   },
   {
    "duration": 109,
    "start_time": "2023-07-13T11:30:20.408Z"
   },
   {
    "duration": 6,
    "start_time": "2023-07-13T11:30:47.727Z"
   },
   {
    "duration": 23,
    "start_time": "2023-07-13T11:31:15.667Z"
   },
   {
    "duration": 21,
    "start_time": "2023-07-13T11:31:32.455Z"
   },
   {
    "duration": 29,
    "start_time": "2023-07-13T11:35:16.074Z"
   },
   {
    "duration": 6,
    "start_time": "2023-07-13T11:35:27.815Z"
   },
   {
    "duration": 43,
    "start_time": "2023-07-13T11:40:08.630Z"
   },
   {
    "duration": 13,
    "start_time": "2023-07-13T11:41:45.934Z"
   },
   {
    "duration": 13,
    "start_time": "2023-07-13T11:42:45.606Z"
   },
   {
    "duration": 55,
    "start_time": "2023-07-13T11:53:43.718Z"
   },
   {
    "duration": 16,
    "start_time": "2023-07-13T11:56:05.902Z"
   },
   {
    "duration": 13,
    "start_time": "2023-07-13T11:56:08.950Z"
   }
  ],
  "kernelspec": {
   "display_name": "Python 3 (ipykernel)",
   "language": "python",
   "name": "python3"
  },
  "language_info": {
   "codemirror_mode": {
    "name": "ipython",
    "version": 3
   },
   "file_extension": ".py",
   "mimetype": "text/x-python",
   "name": "python",
   "nbconvert_exporter": "python",
   "pygments_lexer": "ipython3",
   "version": "3.9.5"
  },
  "toc": {
   "base_numbering": 1,
   "nav_menu": {},
   "number_sections": true,
   "sideBar": true,
   "skip_h1_title": true,
   "title_cell": "Table of Contents",
   "title_sidebar": "Contents",
   "toc_cell": false,
   "toc_position": {},
   "toc_section_display": true,
   "toc_window_display": false
  }
 },
 "nbformat": 4,
 "nbformat_minor": 5
}
